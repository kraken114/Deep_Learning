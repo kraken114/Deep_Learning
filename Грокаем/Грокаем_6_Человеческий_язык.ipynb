{
  "cells": [
    {
      "cell_type": "code",
      "execution_count": null,
      "metadata": {
        "id": "yQ8iWHEOSW0K"
      },
      "outputs": [],
      "source": [
        "from google.colab import drive"
      ]
    },
    {
      "cell_type": "code",
      "execution_count": null,
      "metadata": {
        "colab": {
          "base_uri": "https://localhost:8080/"
        },
        "id": "DPlQLwLOSssv",
        "outputId": "07b88e00-986b-4736-f05a-ec3ba32d1500"
      },
      "outputs": [
        {
          "output_type": "stream",
          "name": "stdout",
          "text": [
            "Mounted at /content/gdrive\n"
          ]
        }
      ],
      "source": [
        "drive.mount('/content/gdrive')"
      ]
    },
    {
      "cell_type": "code",
      "execution_count": null,
      "metadata": {
        "id": "iOWKTenHWZML"
      },
      "outputs": [],
      "source": [
        "import os\n",
        "import sys"
      ]
    },
    {
      "cell_type": "code",
      "execution_count": null,
      "metadata": {
        "id": "mus5pRUl_GAV"
      },
      "outputs": [],
      "source": [
        "f = open('/content/gdrive/MyDrive/Colab Notebooks/DOM/Grokaem/reviews.txt')\n",
        "raw_reviews = f.readlines()\n",
        "f.close()"
      ]
    },
    {
      "cell_type": "code",
      "execution_count": null,
      "metadata": {
        "id": "D4hLUAPNY4Lg"
      },
      "outputs": [],
      "source": [
        "raw_reviews = raw_reviews[:25000]"
      ]
    },
    {
      "cell_type": "code",
      "execution_count": null,
      "metadata": {
        "colab": {
          "base_uri": "https://localhost:8080/"
        },
        "id": "d8NCSxTIJYf0",
        "outputId": "fb745524-7a5b-453c-930d-6067a4147fa2"
      },
      "outputs": [
        {
          "output_type": "execute_result",
          "data": {
            "text/plain": [
              "25000"
            ]
          },
          "metadata": {},
          "execution_count": 6
        }
      ],
      "source": [
        "len(raw_reviews)"
      ]
    },
    {
      "cell_type": "code",
      "execution_count": null,
      "metadata": {
        "id": "7mR6anAt_zhb"
      },
      "outputs": [],
      "source": [
        "f = open('/content/gdrive/MyDrive/Colab Notebooks/DOM/Grokaem/labels.txt')\n",
        "raw_labels = f.readlines()\n",
        "f.close()"
      ]
    },
    {
      "cell_type": "code",
      "execution_count": null,
      "metadata": {
        "colab": {
          "base_uri": "https://localhost:8080/"
        },
        "id": "RwWg6chWY7Gm",
        "outputId": "548ec7d3-2e92-4542-cbe7-b560c01ff5e4"
      },
      "outputs": [
        {
          "output_type": "execute_result",
          "data": {
            "text/plain": [
              "25000"
            ]
          },
          "metadata": {},
          "execution_count": 8
        }
      ],
      "source": [
        "len(raw_labels)"
      ]
    },
    {
      "cell_type": "code",
      "execution_count": null,
      "metadata": {
        "id": "TrNuIUJP_F9K"
      },
      "outputs": [],
      "source": [
        "raw_reviews # список строк (отзывов) (каждая строка  -  это коммент, в конце \\n)\n",
        "            # типа: ['cdc b tgtrg','sx vf rfr \\n','avvfff gtgtt hhh','tgu gtgt 54 gtgt \\n']\n"
      ]
    },
    {
      "cell_type": "markdown",
      "metadata": {
        "id": "MSIuVx4pJ1Ei"
      },
      "source": [
        "**['cdc b tgtrg','sx vf rfr \\n','avvfff gtgtt hhh','tgu gtgt 54 gtgt \\n']**"
      ]
    },
    {
      "cell_type": "code",
      "execution_count": null,
      "metadata": {
        "id": "0GuvM0PG_F6F"
      },
      "outputs": [],
      "source": [
        "raw_labels # список строк (оценок) (каждая строка  -  это коммент, в конце \\n)\n",
        "           # типа: ['positive\\n', 'negative\\n', 'positive\\n']"
      ]
    },
    {
      "cell_type": "markdown",
      "metadata": {
        "id": "G99ZW0k8Jw_N"
      },
      "source": [
        "**['positive\\n', 'negative\\n', 'positive\\n']**"
      ]
    },
    {
      "cell_type": "code",
      "execution_count": null,
      "metadata": {
        "id": "5_VRGtak_F3E"
      },
      "outputs": [],
      "source": [
        "tokens = list(map(lambda x:set(x.split(\" \")),raw_reviews)) # список кортежей в которых каждое слово - отдельный элемент через\n",
        "                                                           # запятую (взят кортеж наверно чтобы удалить дубликаты)\n",
        "                                                           # типа: [{'rff','we3'},{'jkh','ooiu'}]"
      ]
    },
    {
      "cell_type": "markdown",
      "metadata": {
        "id": "Wiz64jWOJe8P"
      },
      "source": [
        "**[{'rff','we3'},{'jkh','ooiu'}]**\n",
        "\n"
      ]
    },
    {
      "cell_type": "code",
      "execution_count": null,
      "metadata": {
        "id": "MppMnhiVEwvG"
      },
      "outputs": [],
      "source": [
        "# типа убираем пустые строки\n",
        "vocab = set()\n",
        "for sent in tokens:\n",
        "  for word in sent:\n",
        "    if(len(word)>0):\n",
        "        vocab.add(word)\n",
        "vocab = list(vocab)"
      ]
    },
    {
      "cell_type": "code",
      "execution_count": null,
      "metadata": {
        "id": "8owjiABtBRrA"
      },
      "outputs": [],
      "source": [
        "vocab"
      ]
    },
    {
      "cell_type": "code",
      "execution_count": null,
      "metadata": {
        "id": "yJDizpCvEwvG"
      },
      "outputs": [],
      "source": [
        "# enumerate() - типа присваивает индексы каждому элементу (нумерацию делает внатуре)\n",
        "# здесь мы получаем словаль\n",
        "# типа {'cdc b tgtrg' : 0,'sx vf rfr ' : 1,'avvfff gtgtt hhh' : 2,'tgu gtgt 54 gtgt' : 3}\n",
        "word2index = {}\n",
        "for i,word in enumerate(vocab):\n",
        "    word2index[word]=i"
      ]
    },
    {
      "cell_type": "code",
      "execution_count": null,
      "metadata": {
        "id": "X6dzCma2R8pD"
      },
      "outputs": [],
      "source": [
        "word2index"
      ]
    },
    {
      "cell_type": "markdown",
      "metadata": {
        "id": "fW2_mxGpKF0U"
      },
      "source": [
        "**{'cdc b tgtrg' : 0,'sx vf rfr ' : 1,'avvfff gtgtt hhh' : 2,'tgu gtgt 54 gtgt' : 3}**"
      ]
    },
    {
      "cell_type": "code",
      "execution_count": null,
      "metadata": {
        "id": "ByEVYXVGEwvH"
      },
      "outputs": [],
      "source": [
        "input_dataset = list()\n",
        "for sent in tokens:\n",
        "    sent_indices = list()\n",
        "    for word in sent:\n",
        "        try:\n",
        "            sent_indices.append(word2index[word])\n",
        "        except:\n",
        "            \"\"\n",
        "    input_dataset.append(list(set(sent_indices)))"
      ]
    },
    {
      "cell_type": "code",
      "execution_count": null,
      "metadata": {
        "id": "IvPMG_RDEwvH"
      },
      "outputs": [],
      "source": [
        "input_dataset # типа [[4757,8787,8,56],[090,87,5465],...,[98,15,567]]"
      ]
    },
    {
      "cell_type": "code",
      "execution_count": null,
      "metadata": {
        "id": "Dd8kQA1IEwvH"
      },
      "outputs": [],
      "source": [
        "# закодировали, сделали цифрами (поменяли тип данных)\n",
        "target_dataset = list()\n",
        "for label in raw_labels:\n",
        "  if label == 'positive\\n':\n",
        "    target_dataset.append(1)\n",
        "  else:\n",
        "    target_dataset.append(0)"
      ]
    },
    {
      "cell_type": "code",
      "execution_count": null,
      "metadata": {
        "id": "3o4lR_uh_Fta"
      },
      "outputs": [],
      "source": [
        "target_dataset"
      ]
    },
    {
      "cell_type": "markdown",
      "metadata": {
        "id": "yXcPflj35uCP"
      },
      "source": [
        "________________________________________________________________________________"
      ]
    },
    {
      "cell_type": "code",
      "execution_count": null,
      "metadata": {
        "id": "BCVzGCjg6whx"
      },
      "outputs": [],
      "source": [
        "import pandas as pd\n",
        "import numpy as np\n",
        "import sklearn\n",
        "import random"
      ]
    },
    {
      "cell_type": "code",
      "execution_count": null,
      "metadata": {
        "id": "9OZc9Xq654Ea"
      },
      "outputs": [],
      "source": [
        "def sigmoid(x):\n",
        "  return 1/(1 + np.exp(-x))"
      ]
    },
    {
      "cell_type": "code",
      "execution_count": null,
      "metadata": {
        "id": "xZ-_ema454Be"
      },
      "outputs": [],
      "source": [
        "alpha, iterations = (0.01, 2)\n",
        "hidden_size = 100"
      ]
    },
    {
      "cell_type": "code",
      "execution_count": null,
      "metadata": {
        "id": "ZXEzpS4L53-s"
      },
      "outputs": [],
      "source": [
        "weights_0_1 = 0.2*np.random.random((len(vocab),hidden_size)) - 0.1\n",
        "weights_1_2 = 0.2*np.random.random((hidden_size,1)) - 0.1"
      ]
    },
    {
      "cell_type": "code",
      "execution_count": null,
      "metadata": {
        "colab": {
          "base_uri": "https://localhost:8080/"
        },
        "id": "-f7Vr7OXLvK1",
        "outputId": "373f24e8-ed1d-43f2-9355-87c4c8ce35ba"
      },
      "outputs": [
        {
          "output_type": "execute_result",
          "data": {
            "text/plain": [
              "67781"
            ]
          },
          "metadata": {},
          "execution_count": 24
        }
      ],
      "source": [
        "len(vocab)"
      ]
    },
    {
      "cell_type": "code",
      "execution_count": null,
      "metadata": {
        "colab": {
          "base_uri": "https://localhost:8080/"
        },
        "id": "Cib9h284LKrb",
        "outputId": "0db574c6-acbd-4797-938c-fdc1413c725f"
      },
      "outputs": [
        {
          "output_type": "execute_result",
          "data": {
            "text/plain": [
              "(67781, 100)"
            ]
          },
          "metadata": {},
          "execution_count": 25
        }
      ],
      "source": [
        "weights_0_1.shape"
      ]
    },
    {
      "cell_type": "code",
      "execution_count": null,
      "metadata": {
        "colab": {
          "base_uri": "https://localhost:8080/"
        },
        "id": "Nziaq0lRLaMS",
        "outputId": "4ce821c7-f4c3-4817-d063-c1cc90f8ec28"
      },
      "outputs": [
        {
          "output_type": "execute_result",
          "data": {
            "text/plain": [
              "(100, 1)"
            ]
          },
          "metadata": {},
          "execution_count": 26
        }
      ],
      "source": [
        "weights_1_2.shape"
      ]
    },
    {
      "cell_type": "code",
      "execution_count": null,
      "metadata": {
        "colab": {
          "base_uri": "https://localhost:8080/"
        },
        "id": "WSJ0x58BX9y0",
        "outputId": "d1c7aea0-d30c-4d32-de28-e64d63d2f877"
      },
      "outputs": [
        {
          "output_type": "stream",
          "name": "stderr",
          "text": [
            "/usr/local/lib/python3.7/dist-packages/ipykernel_launcher.py:1: VisibleDeprecationWarning: Creating an ndarray from ragged nested sequences (which is a list-or-tuple of lists-or-tuples-or ndarrays with different lengths or shapes) is deprecated. If you meant to do this, you must specify 'dtype=object' when creating the ndarray.\n",
            "  \"\"\"Entry point for launching an IPython kernel.\n"
          ]
        },
        {
          "output_type": "execute_result",
          "data": {
            "text/plain": [
              "((25000,), (25000,))"
            ]
          },
          "metadata": {},
          "execution_count": 27
        }
      ],
      "source": [
        "np.array(input_dataset).shape, np.array(target_dataset).shape"
      ]
    },
    {
      "cell_type": "code",
      "execution_count": null,
      "metadata": {
        "id": "i1pyUCDr537b"
      },
      "outputs": [],
      "source": [
        "correct,total = (0,0)"
      ]
    },
    {
      "cell_type": "code",
      "execution_count": null,
      "metadata": {
        "id": "vha0dq7w531i",
        "colab": {
          "base_uri": "https://localhost:8080/"
        },
        "outputId": "6ebb7bf1-d2e5-45d8-b0b2-e4d221994f42"
      },
      "outputs": [
        {
          "output_type": "stream",
          "name": "stdout",
          "text": [
            "lter:0 Progress:95.99% Training Accuracy:0.5702916666666666%\n",
            "lter:1 Progress:95.99% Training Accuracy:0.6149791666666666%\n",
            "Test Accuracy:0.641\n"
          ]
        }
      ],
      "source": [
        "for iter in range(iterations):\n",
        "  for i in range(len(input_dataset)-1000):\n",
        "    x,y = (input_dataset[i],target_dataset[i])\n",
        "    layer_1 = sigmoid(np.sum(weights_0_1[x],axis=0))\n",
        "    layer_2 = sigmoid(np.dot(layer_1,weights_1_2))\n",
        "\n",
        "    layer_2_delta = layer_2-y\n",
        "    layer_1_delta = layer_2_delta. dot (weights_1_2.T)\n",
        "\n",
        "    weights_0_1[x] -= layer_1_delta * alpha\n",
        "    weights_1_2 -= np.outer(layer_1,layer_2_delta) * alpha\n",
        "\n",
        "    if(np.abs(layer_2_delta) < 0.5):\n",
        "      correct += 1\n",
        "    total += 1\n",
        "    if(i % 10 == 9):\n",
        "      progress = str(i/float(len(input_dataset)))\n",
        "      sys.stdout.write('\\rlter:'+str(iter)\\\n",
        "        +' Progress:'+progress[2:4]\\\n",
        "        +'.'+progress[4:6]\\\n",
        "        + '% Training Accuracy:'\\\n",
        "        + str(correct/float(total)) + '%')\n",
        "  print()\n",
        "correct,total = (0,0)\n",
        "for i in range(len(input_dataset)-1000,len(input_dataset)):\n",
        "  x = input_dataset[i]\n",
        "  у = target_dataset[i]\n",
        "  layer_1 = sigmoid(np.sum(weights_0_1[x],axis=0))\n",
        "  layer_2 = sigmoid(np.dot(layer_1,weights_1_2))\n",
        "  if(np.abs(layer_2 - y) < 0.5):\n",
        "    correct += 1\n",
        "  total += 1\n",
        "print(\"Test Accuracy:\" + str(correct / float(total)))"
      ]
    },
    {
      "cell_type": "code",
      "source": [
        "x,y = (input_dataset[5],target_dataset[5])\n",
        "len(x),y"
      ],
      "metadata": {
        "id": "-Ckvc7zEetY8",
        "colab": {
          "base_uri": "https://localhost:8080/"
        },
        "outputId": "0489e7c8-c8d1-4618-e1d0-acc959534735"
      },
      "execution_count": null,
      "outputs": [
        {
          "output_type": "execute_result",
          "data": {
            "text/plain": [
              "(98, 0)"
            ]
          },
          "metadata": {},
          "execution_count": 39
        }
      ]
    },
    {
      "cell_type": "code",
      "source": [
        "layer_1 = sigmoid(np.sum(weights_0_1[x],axis=0))\n",
        "layer_1.shape"
      ],
      "metadata": {
        "id": "zFIDrBiKetV5",
        "colab": {
          "base_uri": "https://localhost:8080/"
        },
        "outputId": "4e561a95-151b-4ce8-fe52-472c58b04fbb"
      },
      "execution_count": null,
      "outputs": [
        {
          "output_type": "execute_result",
          "data": {
            "text/plain": [
              "(100,)"
            ]
          },
          "metadata": {},
          "execution_count": 46
        }
      ]
    },
    {
      "cell_type": "code",
      "source": [
        "weights_1_2.shape"
      ],
      "metadata": {
        "colab": {
          "base_uri": "https://localhost:8080/"
        },
        "id": "UFzQZY0pDz0D",
        "outputId": "f3c7d58f-d5c6-4f24-9229-8e196a7bb27f"
      },
      "execution_count": null,
      "outputs": [
        {
          "output_type": "execute_result",
          "data": {
            "text/plain": [
              "(100, 1)"
            ]
          },
          "metadata": {},
          "execution_count": 49
        }
      ]
    },
    {
      "cell_type": "code",
      "source": [
        "layer_2 = sigmoid(np.dot(layer_1,weights_1_2))\n",
        "layer_2"
      ],
      "metadata": {
        "colab": {
          "base_uri": "https://localhost:8080/"
        },
        "id": "NXL-foHgBWXK",
        "outputId": "7a3b8c66-82fe-40e0-89f7-7de1b7da4a63"
      },
      "execution_count": null,
      "outputs": [
        {
          "output_type": "execute_result",
          "data": {
            "text/plain": [
              "array([0.44351472])"
            ]
          },
          "metadata": {},
          "execution_count": 50
        }
      ]
    },
    {
      "cell_type": "code",
      "source": [
        "layer_2_delta = layer_2-y\n",
        "layer_2_delta"
      ],
      "metadata": {
        "colab": {
          "base_uri": "https://localhost:8080/"
        },
        "id": "9ae3gRWQBWUW",
        "outputId": "6eb4de7e-f029-4e48-cc3d-c23f6fbaef0b"
      },
      "execution_count": null,
      "outputs": [
        {
          "output_type": "execute_result",
          "data": {
            "text/plain": [
              "array([0.44351472])"
            ]
          },
          "metadata": {},
          "execution_count": 51
        }
      ]
    },
    {
      "cell_type": "code",
      "source": [
        "weights_1_2.T.shape"
      ],
      "metadata": {
        "colab": {
          "base_uri": "https://localhost:8080/"
        },
        "id": "1F_Trr5gEP3F",
        "outputId": "9d000761-bf36-4bc9-fc8b-0626ca4acbca"
      },
      "execution_count": null,
      "outputs": [
        {
          "output_type": "execute_result",
          "data": {
            "text/plain": [
              "(1, 100)"
            ]
          },
          "metadata": {},
          "execution_count": 53
        }
      ]
    },
    {
      "cell_type": "code",
      "source": [
        "layer_1_delta = layer_2_delta. dot (weights_1_2.T)\n",
        "layer_1_delta.shape"
      ],
      "metadata": {
        "colab": {
          "base_uri": "https://localhost:8080/"
        },
        "id": "Yc8h9KqVBWRo",
        "outputId": "ac033eb7-65fb-4c8e-df23-648de1b80029"
      },
      "execution_count": null,
      "outputs": [
        {
          "output_type": "execute_result",
          "data": {
            "text/plain": [
              "(100,)"
            ]
          },
          "metadata": {},
          "execution_count": 55
        }
      ]
    },
    {
      "cell_type": "code",
      "source": [
        "(layer_1_delta * alpha).shape"
      ],
      "metadata": {
        "colab": {
          "base_uri": "https://localhost:8080/"
        },
        "id": "hhmttRXyEfdC",
        "outputId": "99bc31e0-441e-4a58-dd84-5fabc0df16d1"
      },
      "execution_count": null,
      "outputs": [
        {
          "output_type": "execute_result",
          "data": {
            "text/plain": [
              "(100,)"
            ]
          },
          "metadata": {},
          "execution_count": 56
        }
      ]
    },
    {
      "cell_type": "code",
      "source": [
        "weights_0_1[x] -= layer_1_delta * alpha"
      ],
      "metadata": {
        "id": "Pi5T39w9BWOv"
      },
      "execution_count": null,
      "outputs": []
    },
    {
      "cell_type": "code",
      "source": [
        "(weights_0_1[x]).shape"
      ],
      "metadata": {
        "colab": {
          "base_uri": "https://localhost:8080/"
        },
        "id": "NhTWwEzVEj9r",
        "outputId": "0f7701c0-fd6b-4ead-e004-29b4ec56766f"
      },
      "execution_count": null,
      "outputs": [
        {
          "output_type": "execute_result",
          "data": {
            "text/plain": [
              "(98, 100)"
            ]
          },
          "metadata": {},
          "execution_count": 59
        }
      ]
    },
    {
      "cell_type": "code",
      "source": [
        "layer_1.shape,layer_2_delta.shape"
      ],
      "metadata": {
        "colab": {
          "base_uri": "https://localhost:8080/"
        },
        "id": "bGFjuZbGEz8V",
        "outputId": "a7936ff2-0f23-4633-a3d9-1090187ca559"
      },
      "execution_count": null,
      "outputs": [
        {
          "output_type": "execute_result",
          "data": {
            "text/plain": [
              "((100,), (1,))"
            ]
          },
          "metadata": {},
          "execution_count": 60
        }
      ]
    },
    {
      "cell_type": "code",
      "source": [
        "np.outer(layer_1,layer_2_delta)"
      ],
      "metadata": {
        "id": "zNTjxiN_E_Tu"
      },
      "execution_count": null,
      "outputs": []
    },
    {
      "cell_type": "code",
      "source": [
        "weights_1_2"
      ],
      "metadata": {
        "id": "2_IZw6wfE6NB"
      },
      "execution_count": null,
      "outputs": []
    },
    {
      "cell_type": "code",
      "source": [
        "weights_1_2 -= np.outer(layer_1,layer_2_delta) * alpha"
      ],
      "metadata": {
        "id": "72lP3vJWBWLt"
      },
      "execution_count": null,
      "outputs": []
    },
    {
      "cell_type": "code",
      "source": [],
      "metadata": {
        "id": "0po8GT15BWIw"
      },
      "execution_count": null,
      "outputs": []
    },
    {
      "cell_type": "code",
      "source": [],
      "metadata": {
        "id": "OoBZ7ZneBWFo"
      },
      "execution_count": null,
      "outputs": []
    },
    {
      "cell_type": "code",
      "source": [],
      "metadata": {
        "id": "NEp-03YjBWCa"
      },
      "execution_count": null,
      "outputs": []
    },
    {
      "cell_type": "code",
      "source": [],
      "metadata": {
        "id": "slCdsfCYBV_C"
      },
      "execution_count": null,
      "outputs": []
    }
  ],
  "metadata": {
    "colab": {
      "provenance": []
    },
    "kernelspec": {
      "display_name": "Python 3",
      "name": "python3"
    },
    "language_info": {
      "name": "python"
    }
  },
  "nbformat": 4,
  "nbformat_minor": 0
}