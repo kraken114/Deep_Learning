{
  "cells": [
    {
      "cell_type": "markdown",
      "source": [
        "# **главное смотри в конце**"
      ],
      "metadata": {
        "id": "xjhOdJzBimh0"
      }
    },
    {
      "cell_type": "code",
      "execution_count": null,
      "metadata": {
        "id": "yQ8iWHEOSW0K"
      },
      "outputs": [],
      "source": [
        "from google.colab import drive"
      ]
    },
    {
      "cell_type": "code",
      "execution_count": null,
      "metadata": {
        "colab": {
          "base_uri": "https://localhost:8080/"
        },
        "id": "DPlQLwLOSssv",
        "outputId": "7d254365-120c-4110-c5f6-2186988e75ee"
      },
      "outputs": [
        {
          "output_type": "stream",
          "name": "stdout",
          "text": [
            "Mounted at /content/gdrive\n"
          ]
        }
      ],
      "source": [
        "drive.mount('/content/gdrive')"
      ]
    },
    {
      "cell_type": "code",
      "execution_count": null,
      "metadata": {
        "id": "iOWKTenHWZML"
      },
      "outputs": [],
      "source": [
        "import os\n",
        "import sys"
      ]
    },
    {
      "cell_type": "code",
      "execution_count": null,
      "metadata": {
        "id": "mus5pRUl_GAV"
      },
      "outputs": [],
      "source": [
        "f = open('/content/gdrive/MyDrive/Colab Notebooks/DOM/Grokaem/reviews.txt')\n",
        "raw_reviews = f.readlines()\n",
        "f.close()"
      ]
    },
    {
      "cell_type": "code",
      "execution_count": null,
      "metadata": {
        "id": "D4hLUAPNY4Lg"
      },
      "outputs": [],
      "source": [
        "raw_reviews = raw_reviews[:25000]"
      ]
    },
    {
      "cell_type": "code",
      "execution_count": null,
      "metadata": {
        "colab": {
          "base_uri": "https://localhost:8080/"
        },
        "id": "d8NCSxTIJYf0",
        "outputId": "95455c58-2c27-4cde-978f-b3f1e8cc6d41"
      },
      "outputs": [
        {
          "output_type": "execute_result",
          "data": {
            "text/plain": [
              "25000"
            ]
          },
          "metadata": {},
          "execution_count": 8
        }
      ],
      "source": [
        "len(raw_reviews)"
      ]
    },
    {
      "cell_type": "code",
      "execution_count": null,
      "metadata": {
        "id": "7mR6anAt_zhb"
      },
      "outputs": [],
      "source": [
        "f = open('/content/gdrive/MyDrive/Colab Notebooks/DOM/Grokaem/labels.txt')\n",
        "raw_labels = f.readlines()\n",
        "f.close()"
      ]
    },
    {
      "cell_type": "code",
      "execution_count": null,
      "metadata": {
        "colab": {
          "base_uri": "https://localhost:8080/"
        },
        "id": "RwWg6chWY7Gm",
        "outputId": "e2ba23e3-28ba-42df-8df4-e0e3292aac93"
      },
      "outputs": [
        {
          "output_type": "execute_result",
          "data": {
            "text/plain": [
              "25000"
            ]
          },
          "metadata": {},
          "execution_count": 10
        }
      ],
      "source": [
        "len(raw_labels)"
      ]
    },
    {
      "cell_type": "code",
      "execution_count": null,
      "metadata": {
        "id": "TrNuIUJP_F9K"
      },
      "outputs": [],
      "source": [
        "raw_reviews # список строк (отзывов) (каждая строка  -  это коммент, в конце \\n)\n",
        "            # типа: ['cdc b tgtrg','sx vf rfr \\n','avvfff gtgtt hhh','tgu gtgt 54 gtgt \\n']\n"
      ]
    },
    {
      "cell_type": "markdown",
      "metadata": {
        "id": "MSIuVx4pJ1Ei"
      },
      "source": [
        "**['cdc b tgtrg','sx vf rfr \\n','avvfff gtgtt hhh','tgu gtgt 54 gtgt \\n']**"
      ]
    },
    {
      "cell_type": "code",
      "execution_count": null,
      "metadata": {
        "id": "0GuvM0PG_F6F"
      },
      "outputs": [],
      "source": [
        "raw_labels # список строк (оценок) (каждая строка  -  это коммент, в конце \\n)\n",
        "           # типа: ['positive\\n', 'negative\\n', 'positive\\n']"
      ]
    },
    {
      "cell_type": "markdown",
      "metadata": {
        "id": "G99ZW0k8Jw_N"
      },
      "source": [
        "**['positive\\n', 'negative\\n', 'positive\\n']**"
      ]
    },
    {
      "cell_type": "code",
      "execution_count": null,
      "metadata": {
        "id": "5_VRGtak_F3E"
      },
      "outputs": [],
      "source": [
        "tokens = list(map(lambda x:set(x.split(\" \")),raw_reviews)) # список кортежей в которых каждое слово - отдельный элемент через\n",
        "                                                           # запятую (взят кортеж наверно чтобы удалить дубликаты)\n",
        "                                                           # типа: [{'rff','we3'},{'jkh','ooiu'}]"
      ]
    },
    {
      "cell_type": "markdown",
      "metadata": {
        "id": "Wiz64jWOJe8P"
      },
      "source": [
        "**[{'rff','we3'},{'jkh','ooiu'}]**\n",
        "\n"
      ]
    },
    {
      "cell_type": "code",
      "execution_count": null,
      "metadata": {
        "id": "MppMnhiVEwvG"
      },
      "outputs": [],
      "source": [
        "# типа убираем пустые строки и делаем список всех слов в описаниях\n",
        "vocab = set()\n",
        "for sent in tokens:\n",
        "  for word in sent:\n",
        "    if(len(word)>0):\n",
        "        vocab.add(word)\n",
        "vocab = list(vocab)"
      ]
    },
    {
      "cell_type": "code",
      "execution_count": null,
      "metadata": {
        "id": "8owjiABtBRrA",
        "colab": {
          "base_uri": "https://localhost:8080/"
        },
        "outputId": "8fbd249a-e79c-4ffe-b856-1b2218cc8e85"
      },
      "outputs": [
        {
          "output_type": "execute_result",
          "data": {
            "text/plain": [
              "['consensus',\n",
              " 'saddened',\n",
              " 'button',\n",
              " 'nightwing',\n",
              " 'harebrained',\n",
              " 'laundry',\n",
              " 'flabbergastingly',\n",
              " 'kansan',\n",
              " 'rubber',\n",
              " 'timecode',\n",
              " 'imbibe',\n",
              " 'olivier',\n",
              " 'linguistic',\n",
              " 'sneaks',\n",
              " 'dissociates',\n",
              " 'downy',\n",
              " 'scholl',\n",
              " 'freaked',\n",
              " 'dusting',\n",
              " 'labs',\n",
              " 'virtuality',\n",
              " 'apparantly',\n",
              " 'sandburgs',\n",
              " 'snickers',\n",
              " 'ched',\n",
              " 'char',\n",
              " 'shropshire',\n",
              " 'kristin',\n",
              " 'relaxed',\n",
              " 'nicotero',\n",
              " 'rissole',\n",
              " 'lupo',\n",
              " 'budgeting',\n",
              " 'reload',\n",
              " 'blakely',\n",
              " 'haircut',\n",
              " 'mechanik',\n",
              " 'butchest',\n",
              " 'sutdying',\n",
              " 'suavity',\n",
              " 'zhuzh',\n",
              " 'burp',\n",
              " 'suspensefully',\n",
              " 'salts',\n",
              " 'whities',\n",
              " 'testify',\n",
              " 'writhed',\n",
              " 'mancuso',\n",
              " 'appleby',\n",
              " 'outreach',\n",
              " 'watsoever',\n",
              " 'affaire',\n",
              " 'crackhead',\n",
              " 'fumble',\n",
              " 'spano',\n",
              " 'maladjusted',\n",
              " 'hallorann',\n",
              " 'crochety',\n",
              " 'interwhined',\n",
              " 'match',\n",
              " 'slighter',\n",
              " 'hitcher',\n",
              " 'kyle',\n",
              " 'absentmindedly',\n",
              " 'deschanel',\n",
              " 'bleaching',\n",
              " 'tahoe',\n",
              " 'fixing',\n",
              " 'unsteady',\n",
              " 'pardons',\n",
              " 'formalizing',\n",
              " 'inhabitants',\n",
              " 'mclaughlin',\n",
              " 'trotti',\n",
              " 'scatman',\n",
              " 'schrer',\n",
              " 'postlethwaite',\n",
              " 'moth',\n",
              " 'venezuelan',\n",
              " 'rochester',\n",
              " 'amisha',\n",
              " 'scam',\n",
              " 'dew',\n",
              " 'sympathized',\n",
              " 'automotive',\n",
              " 'salkow',\n",
              " 'ostentation',\n",
              " 'chops',\n",
              " 'nous',\n",
              " 'garnered',\n",
              " 'klondike',\n",
              " 'assuaged',\n",
              " 'communicated',\n",
              " 'airforce',\n",
              " 'tortuous',\n",
              " 'conning',\n",
              " 'jerilderie',\n",
              " 'torrebruna',\n",
              " 'flavored',\n",
              " 'jezuz',\n",
              " 'fernandes',\n",
              " 'didia',\n",
              " 'snatchers',\n",
              " 'maximizes',\n",
              " 'aq',\n",
              " 'alienator',\n",
              " 'medusin',\n",
              " 'mascara',\n",
              " 'insured',\n",
              " 'macarthur',\n",
              " 'talmadge',\n",
              " 'kiberlain',\n",
              " 'novella',\n",
              " 'radios',\n",
              " 'rampage',\n",
              " 'medusa',\n",
              " 'garbled',\n",
              " 'strictest',\n",
              " 'spiritist',\n",
              " 'shipyard',\n",
              " 'nonaquatic',\n",
              " 'exeter',\n",
              " 'marlilyn',\n",
              " 'swooned',\n",
              " 'copied',\n",
              " 'injun',\n",
              " 'hdnet',\n",
              " 'takingly',\n",
              " 'soggy',\n",
              " 'subscriber',\n",
              " 'spreadeagled',\n",
              " 'alfio',\n",
              " 'straitjacketing',\n",
              " 'roofie',\n",
              " 'resurrecting',\n",
              " 'hamptons',\n",
              " 'katz',\n",
              " 'epidemiologist',\n",
              " 'mandu',\n",
              " 'unbalanced',\n",
              " 'cannabalistic',\n",
              " 'bilateral',\n",
              " 'ogi',\n",
              " 'austreheim',\n",
              " 'engineered',\n",
              " 'flashbacked',\n",
              " 'munching',\n",
              " 'pedagogue',\n",
              " 'glyn',\n",
              " 'tagging',\n",
              " 'desctruction',\n",
              " 'klutzy',\n",
              " 'groovadelic',\n",
              " 'lebrun',\n",
              " 'pimps',\n",
              " 'wexford',\n",
              " 'broadways',\n",
              " 'pascow',\n",
              " 'omitting',\n",
              " 'kazaks',\n",
              " 'firecracker',\n",
              " 'henkin',\n",
              " 'skepticism',\n",
              " 'lamplit',\n",
              " 'reprint',\n",
              " 'fateful',\n",
              " 'steadman',\n",
              " 'genially',\n",
              " 'rumblefish',\n",
              " 'charecteres',\n",
              " 'leafs',\n",
              " 'acorn',\n",
              " 'jorja',\n",
              " 'lowsy',\n",
              " 'tug',\n",
              " 'inartistic',\n",
              " 'dracula',\n",
              " 'clift',\n",
              " 'malini',\n",
              " 'sums',\n",
              " 'derided',\n",
              " 'bleating',\n",
              " 'lectured',\n",
              " 'misdemeanours',\n",
              " 'recall',\n",
              " 'corker',\n",
              " 'vulgar',\n",
              " 'palmas',\n",
              " 'aonghas',\n",
              " 'detlef',\n",
              " 'brontan',\n",
              " 'relations',\n",
              " 'guttural',\n",
              " 'licitates',\n",
              " 'concerns',\n",
              " 'sustainable',\n",
              " 'saki',\n",
              " 'pre',\n",
              " 'lazio',\n",
              " 'vinyl',\n",
              " 'masterclass',\n",
              " 'reexamined',\n",
              " 'complexes',\n",
              " 'antartic',\n",
              " 'gollam',\n",
              " 'lydia',\n",
              " 'murvyn',\n",
              " 'incl',\n",
              " 'mujahedin',\n",
              " 'gray',\n",
              " 'unfilmable',\n",
              " 'limbed',\n",
              " 'targetting',\n",
              " 'battery',\n",
              " 'booze',\n",
              " 'masterminds',\n",
              " 'cheerfulness',\n",
              " 'rand',\n",
              " 'supple',\n",
              " 'riposte',\n",
              " 'trodden',\n",
              " 'fandom',\n",
              " 'swampy',\n",
              " 'alighting',\n",
              " 'closing',\n",
              " 'carol',\n",
              " 'sickle',\n",
              " 'accident',\n",
              " 'seminars',\n",
              " 'waxing',\n",
              " 'girlhood',\n",
              " 'gladiators',\n",
              " 'retires',\n",
              " 'seeker',\n",
              " 'internal',\n",
              " 'predecessors',\n",
              " 'conjured',\n",
              " 'bereft',\n",
              " 'hk',\n",
              " 'unadorned',\n",
              " 'sheeting',\n",
              " 'sorcerer',\n",
              " 'killjoy',\n",
              " 'comfy',\n",
              " 'kirge',\n",
              " 'guernsey',\n",
              " 'tackier',\n",
              " 'jayne',\n",
              " 'tinged',\n",
              " 'fenn',\n",
              " 'feebly',\n",
              " 'greeks',\n",
              " 'depreciating',\n",
              " 'isenberg',\n",
              " 'pancho',\n",
              " 'isings',\n",
              " 'exhuberance',\n",
              " 'liang',\n",
              " 'insultingly',\n",
              " 'johars',\n",
              " 'rhytmic',\n",
              " 'howl',\n",
              " 'upsidedownor',\n",
              " 'garnett',\n",
              " 'polemical',\n",
              " 'empathic',\n",
              " 'precludes',\n",
              " 'snoop',\n",
              " 'stabbing',\n",
              " 'pnis',\n",
              " 'lansbury',\n",
              " 'wincott',\n",
              " 'macbook',\n",
              " 'combusting',\n",
              " 'magic',\n",
              " 'greatest',\n",
              " 'freewheeling',\n",
              " 'poetical',\n",
              " 'allusion',\n",
              " 'giulietta',\n",
              " 'flavouring',\n",
              " 'amercian',\n",
              " 'promo',\n",
              " 'tindle',\n",
              " 'meghan',\n",
              " 'underscored',\n",
              " 'nullifying',\n",
              " 'ominously',\n",
              " 'kriemshild',\n",
              " 'abominable',\n",
              " 'kasden',\n",
              " 'performace',\n",
              " 'greenlight',\n",
              " 'fob',\n",
              " 'ditch',\n",
              " 'greame',\n",
              " 'thorne',\n",
              " 'unexplored',\n",
              " 'concentrates',\n",
              " 'suriyothai',\n",
              " 'heigths',\n",
              " 'exceptions',\n",
              " 'huxley',\n",
              " 'fuehrer',\n",
              " 'bloodthirsty',\n",
              " 'eb',\n",
              " 'movei',\n",
              " 'shampooing',\n",
              " 'taints',\n",
              " 'saleslady',\n",
              " 'newsletter',\n",
              " 'bloomsday',\n",
              " 'yung',\n",
              " 'ghetoization',\n",
              " 'formate',\n",
              " 'eject',\n",
              " 'siskel',\n",
              " 'ppv',\n",
              " 'commericals',\n",
              " 'toughs',\n",
              " 'palatial',\n",
              " 'carwash',\n",
              " 'mussed',\n",
              " 'colombia',\n",
              " 'henchwoman',\n",
              " 'mcdevitt',\n",
              " 'neatest',\n",
              " 'hem',\n",
              " 'anonymously',\n",
              " 'pianiste',\n",
              " 'disappeared',\n",
              " 'vengence',\n",
              " 'giff',\n",
              " 'mccheese',\n",
              " 'masses',\n",
              " 'toga',\n",
              " 'humped',\n",
              " 'slouching',\n",
              " 'necrophilia',\n",
              " 'putu',\n",
              " 'hasselhof',\n",
              " 'crimean',\n",
              " 'jeffrey',\n",
              " 'rene',\n",
              " 'earnestly',\n",
              " 'etiquette',\n",
              " 'tableaux',\n",
              " 'graveyards',\n",
              " 'duffle',\n",
              " 'equaled',\n",
              " 'ledge',\n",
              " 'monroe',\n",
              " 'joshua',\n",
              " 'smorsgabord',\n",
              " 'tra',\n",
              " 'heinlein',\n",
              " 'stateliness',\n",
              " 'rakishly',\n",
              " 'unforgiving',\n",
              " 'regularity',\n",
              " 'benchley',\n",
              " 'blinds',\n",
              " 'breather',\n",
              " 'mummifies',\n",
              " 'berkley',\n",
              " 'freke',\n",
              " 'movieworld',\n",
              " 'vonneguts',\n",
              " 'counsil',\n",
              " 'bedingfield',\n",
              " 'ivy',\n",
              " 'americanime',\n",
              " 'iliad',\n",
              " 'pleasers',\n",
              " 'girlshilarious',\n",
              " 'barek',\n",
              " 'masterly',\n",
              " 'soupy',\n",
              " 'overacted',\n",
              " 'luxuriant',\n",
              " 'gromit',\n",
              " 'pusher',\n",
              " 'toysrus',\n",
              " 'stolz',\n",
              " 'hours',\n",
              " 'infrequently',\n",
              " 'puns',\n",
              " 'bizniss',\n",
              " 'menzies',\n",
              " 'marquee',\n",
              " 'superficially',\n",
              " 'fritzsche',\n",
              " 'it',\n",
              " 'candies',\n",
              " 'kuenster',\n",
              " 'dattilo',\n",
              " 'hooknose',\n",
              " 'disband',\n",
              " 'wu',\n",
              " 'beano',\n",
              " 'linoleum',\n",
              " 'redone',\n",
              " 'rotflmao',\n",
              " 'studder',\n",
              " 'fatu',\n",
              " 'hardy',\n",
              " 'gellar',\n",
              " 'gi',\n",
              " 'chocking',\n",
              " 'retentive',\n",
              " 'modernised',\n",
              " 'takers',\n",
              " 'sync',\n",
              " 'halve',\n",
              " 'voudon',\n",
              " 'devoutly',\n",
              " 'maille',\n",
              " 'lurks',\n",
              " 'splendid',\n",
              " 'ordained',\n",
              " 'ornella',\n",
              " 'umeda',\n",
              " 'gratified',\n",
              " 'pluperfect',\n",
              " 'couple',\n",
              " 'married',\n",
              " 'int',\n",
              " 'politicizing',\n",
              " 'harbouring',\n",
              " 'mired',\n",
              " 'scolds',\n",
              " 'roofer',\n",
              " 'privleged',\n",
              " 'dullsville',\n",
              " 'kids',\n",
              " 'ekland',\n",
              " 'sated',\n",
              " 'lagging',\n",
              " 'hickox',\n",
              " 'vanguard',\n",
              " 'tolerating',\n",
              " 'unreadable',\n",
              " 'wowzers',\n",
              " 'ramrez',\n",
              " 'controversies',\n",
              " 'denver',\n",
              " 'wallflower',\n",
              " 'deadens',\n",
              " 'nipponjin',\n",
              " 'moored',\n",
              " 'burping',\n",
              " 'ethics',\n",
              " 'bulimics',\n",
              " 'amiably',\n",
              " 'bibi',\n",
              " 'harel',\n",
              " 'impregnates',\n",
              " 'akshey',\n",
              " 'gethsemane',\n",
              " 'noah',\n",
              " 'eurpeans',\n",
              " 'seers',\n",
              " 'upstarts',\n",
              " 'inebriation',\n",
              " 'lutz',\n",
              " 'cbs',\n",
              " 'walters',\n",
              " 'corrine',\n",
              " 'infallible',\n",
              " 'volts',\n",
              " 'abundantly',\n",
              " 'sofiko',\n",
              " 'reconstructions',\n",
              " 'nitu',\n",
              " 'writter',\n",
              " 'upstaged',\n",
              " 'daffodils',\n",
              " 'glop',\n",
              " 'bolshevism',\n",
              " 'worries',\n",
              " 'malick',\n",
              " 'overwritten',\n",
              " 'contemplative',\n",
              " 'aphoristic',\n",
              " 'rehman',\n",
              " 'tapestry',\n",
              " 'pastand',\n",
              " 'loving',\n",
              " 'melnik',\n",
              " 'clericism',\n",
              " 'protags',\n",
              " 'reunion',\n",
              " 'rajni',\n",
              " 'glenrowan',\n",
              " 'cary',\n",
              " 'bana',\n",
              " 'oblast',\n",
              " 'lose',\n",
              " 'kier',\n",
              " 'rings',\n",
              " 'masse',\n",
              " 'bauerisch',\n",
              " 'jaco',\n",
              " 'grifted',\n",
              " 'firebomb',\n",
              " 'stainless',\n",
              " 'excepts',\n",
              " 'ronnies',\n",
              " 'corniest',\n",
              " 'scavenging',\n",
              " 'toying',\n",
              " 'blithe',\n",
              " 'listing',\n",
              " 'lybbert',\n",
              " 'cgied',\n",
              " 'whirling',\n",
              " 'sssssssssssooooooooooooo',\n",
              " 'broca',\n",
              " 'sagely',\n",
              " 'pasqual',\n",
              " 'distastefully',\n",
              " 'venn',\n",
              " 'gaston',\n",
              " 'marinate',\n",
              " 'provisional',\n",
              " 'bragana',\n",
              " 'overwind',\n",
              " 'nationality',\n",
              " 'surly',\n",
              " 'lib',\n",
              " 'accolades',\n",
              " 'bed',\n",
              " 'mona',\n",
              " 'withdraws',\n",
              " 'campiness',\n",
              " 'tatters',\n",
              " 'donnovan',\n",
              " 'shachnovelle',\n",
              " 'britches',\n",
              " 'ferociously',\n",
              " 'participants',\n",
              " 'representation',\n",
              " 'fisherman',\n",
              " 'inspection',\n",
              " 'grifting',\n",
              " 'numbs',\n",
              " 'dips',\n",
              " 'arigatou',\n",
              " 'roundhouse',\n",
              " 'chao',\n",
              " 'revisioning',\n",
              " 'clich',\n",
              " 'stubly',\n",
              " 'stallion',\n",
              " 'suggestive',\n",
              " 'reccomend',\n",
              " 'atlanteans',\n",
              " 'powerfully',\n",
              " 'naish',\n",
              " 'dexters',\n",
              " 'dining',\n",
              " 'fantasising',\n",
              " 'fanfaberies',\n",
              " 'argenziano',\n",
              " 'vapidness',\n",
              " 'heuristics',\n",
              " 'negron',\n",
              " 'canadian',\n",
              " 'darth',\n",
              " 'scissors',\n",
              " 'doorpost',\n",
              " 'craftily',\n",
              " 'tableaus',\n",
              " 'rippling',\n",
              " 'alahani',\n",
              " 'yakin',\n",
              " 'fightin',\n",
              " 'formality',\n",
              " 'heartening',\n",
              " 'republics',\n",
              " 'hallway',\n",
              " 'kellaway',\n",
              " 'band',\n",
              " 'overpass',\n",
              " 'virginities',\n",
              " 'nietsze',\n",
              " 'tenements',\n",
              " 'supervisor',\n",
              " 'fascists',\n",
              " 'douchet',\n",
              " 'choppily',\n",
              " 'juttering',\n",
              " 'teazle',\n",
              " 'plopped',\n",
              " 'patric',\n",
              " 'schlatter',\n",
              " 'ancestry',\n",
              " 'professes',\n",
              " 'shelton',\n",
              " 'jehaan',\n",
              " 'tagawa',\n",
              " 'albertini',\n",
              " 'challenges',\n",
              " 'takenaka',\n",
              " 'boman',\n",
              " 'rhett',\n",
              " 'migr',\n",
              " 'reveries',\n",
              " 'wars',\n",
              " 'chen',\n",
              " 'parlor',\n",
              " 'fame',\n",
              " 'hartley',\n",
              " 'philippon',\n",
              " 'passageway',\n",
              " 'tackles',\n",
              " 'vivian',\n",
              " 'brats',\n",
              " 'balaban',\n",
              " 'queeg',\n",
              " 'symptom',\n",
              " 'cell',\n",
              " 'acceptation',\n",
              " 'morita',\n",
              " 'lenser',\n",
              " 'trouncing',\n",
              " 'racecar',\n",
              " 'bonzai',\n",
              " 'jams',\n",
              " 'sharkbait',\n",
              " 'gardiner',\n",
              " 'manslaughter',\n",
              " 'bhavtakur',\n",
              " 'corder',\n",
              " 'clincher',\n",
              " 'barranco',\n",
              " 'sayeth',\n",
              " 'vernacular',\n",
              " 'analyst',\n",
              " 'fcked',\n",
              " 'ruginis',\n",
              " 'sacrilage',\n",
              " 'tagged',\n",
              " 'butchers',\n",
              " 'hurdes',\n",
              " 'feckless',\n",
              " 'uncalculatedly',\n",
              " 'kaiserkeller',\n",
              " 'blurb',\n",
              " 'blunt',\n",
              " 'derails',\n",
              " 'thai',\n",
              " 'marishcka',\n",
              " 'elves',\n",
              " 'eeeeeeeek',\n",
              " 'buckles',\n",
              " 'jaeckel',\n",
              " 'magnetism',\n",
              " 'matilda',\n",
              " 'stapelton',\n",
              " 'unconditional',\n",
              " 'critisism',\n",
              " 'yucky',\n",
              " 'limit',\n",
              " 'bieri',\n",
              " 'oosh',\n",
              " 'blackouts',\n",
              " 'xtreme',\n",
              " 'chart',\n",
              " 'handsaw',\n",
              " 'sauntering',\n",
              " 'cloeck',\n",
              " 'ax',\n",
              " 'baaaaaaaaaad',\n",
              " 'pricing',\n",
              " 'palooka',\n",
              " 'christers',\n",
              " 'rippa',\n",
              " 'barbra',\n",
              " 'largeness',\n",
              " 'consumingly',\n",
              " 'eels',\n",
              " 'vandenberg',\n",
              " 'bocka',\n",
              " 'phenom',\n",
              " 'pendulous',\n",
              " 'steadier',\n",
              " 'obey',\n",
              " 'rainbeaux',\n",
              " 'withdrawl',\n",
              " 'scots',\n",
              " 'mapped',\n",
              " 'mumps',\n",
              " 'andrs',\n",
              " 'resistance',\n",
              " 'misidentification',\n",
              " 'disintegrate',\n",
              " 'burglaries',\n",
              " 'irritates',\n",
              " 'barcoded',\n",
              " 'durya',\n",
              " 'kph',\n",
              " 'autry',\n",
              " 'frears',\n",
              " 'stunts',\n",
              " 'laugher',\n",
              " 'hallways',\n",
              " 'guaranties',\n",
              " 'redlight',\n",
              " 'soooooooo',\n",
              " 'shadrach',\n",
              " 'owners',\n",
              " 'bakes',\n",
              " 'mimicked',\n",
              " 'xtian',\n",
              " 'vagueness',\n",
              " 'menial',\n",
              " 'sandra',\n",
              " 'nosebleed',\n",
              " 'myddleton',\n",
              " 'tanned',\n",
              " 'revolutionised',\n",
              " 'seidl',\n",
              " 'adulterated',\n",
              " 'browbeats',\n",
              " 'cameronin',\n",
              " 'emptiness',\n",
              " 'wiccans',\n",
              " 'subconsciously',\n",
              " 'metty',\n",
              " 'gitane',\n",
              " 'worrisome',\n",
              " 'albino',\n",
              " 'beneficial',\n",
              " 'kudrow',\n",
              " 'leno',\n",
              " 'breakable',\n",
              " 'downtrodden',\n",
              " 'maudette',\n",
              " 'mcafee',\n",
              " 'delusive',\n",
              " 'alarik',\n",
              " 'whisky',\n",
              " 'manvilles',\n",
              " 'reins',\n",
              " 'grimly',\n",
              " 'ozzy',\n",
              " 'bumblebee',\n",
              " 'objectivity',\n",
              " 'rages',\n",
              " 'freshner',\n",
              " 'riva',\n",
              " 'avonlea',\n",
              " 'colonialists',\n",
              " 'torres',\n",
              " 'garbagemen',\n",
              " 'vision',\n",
              " 'redemption',\n",
              " 'establish',\n",
              " 'constructing',\n",
              " 'recuperate',\n",
              " 'wears',\n",
              " 'spinnaker',\n",
              " 'reintegrate',\n",
              " 'reconciles',\n",
              " 'stylishly',\n",
              " 'starboard',\n",
              " 'grard',\n",
              " 'lamb',\n",
              " 'heist',\n",
              " 'decoy',\n",
              " 'narcolepsy',\n",
              " 'oratorio',\n",
              " 'eccleston',\n",
              " 'rebelliously',\n",
              " 'etienne',\n",
              " 'hoodoo',\n",
              " 'rapist',\n",
              " 'interred',\n",
              " 'lighter',\n",
              " 'rube',\n",
              " 'slickers',\n",
              " 'weston',\n",
              " 'clunkily',\n",
              " 'yuki',\n",
              " 'lenny',\n",
              " 'ingrid',\n",
              " 'vetted',\n",
              " 'hemmerling',\n",
              " 'hitchcocks',\n",
              " 'watershed',\n",
              " 'treks',\n",
              " 'remarrying',\n",
              " 'circling',\n",
              " 'modified',\n",
              " 'solider',\n",
              " 'reardon',\n",
              " 'ants',\n",
              " 'tran',\n",
              " 'mispronounce',\n",
              " 'loony',\n",
              " 'disneyesque',\n",
              " 'musketeers',\n",
              " 'trevor',\n",
              " 'wvs',\n",
              " 'forced',\n",
              " 'innocuous',\n",
              " 'halpin',\n",
              " 'koen',\n",
              " 'astronishing',\n",
              " 'bewitchingly',\n",
              " 'girlish',\n",
              " 'sexless',\n",
              " 'chappy',\n",
              " 'scoops',\n",
              " 'euphemism',\n",
              " 'pooing',\n",
              " 'darden',\n",
              " 'snuffed',\n",
              " 'fraternal',\n",
              " 'horseshoes',\n",
              " 'aroona',\n",
              " 'movements',\n",
              " 'ca',\n",
              " 'cluzet',\n",
              " 'differential',\n",
              " 'dazzles',\n",
              " 'monosyllables',\n",
              " 'bonhoeffer',\n",
              " 'smallest',\n",
              " 'inners',\n",
              " 'haigh',\n",
              " 'there',\n",
              " 'fuck',\n",
              " 'cryptic',\n",
              " 'auditioned',\n",
              " 'technobabble',\n",
              " 'goomba',\n",
              " 'shay',\n",
              " 'daisy',\n",
              " 'hayworth',\n",
              " 'jake',\n",
              " 'manuals',\n",
              " 'kik',\n",
              " 'mows',\n",
              " 'belush',\n",
              " 'inkling',\n",
              " 'shusuke',\n",
              " 'une',\n",
              " 'minuets',\n",
              " 'misshapenly',\n",
              " 'lona',\n",
              " 'complicatedly',\n",
              " 'execution',\n",
              " 'gaffers',\n",
              " 'rahad',\n",
              " 'portugues',\n",
              " 'horror',\n",
              " 'continues',\n",
              " 'marverick',\n",
              " 'meltdown',\n",
              " 'paternalism',\n",
              " 'seamanship',\n",
              " 'imo',\n",
              " 'nacho',\n",
              " 'coherrent',\n",
              " 'indoctrinates',\n",
              " 'shalhoub',\n",
              " 'manticores',\n",
              " 'looks',\n",
              " 'homage',\n",
              " 'charac',\n",
              " 'resourcecenter',\n",
              " 'wigstock',\n",
              " 'mage',\n",
              " 'dissed',\n",
              " 'alumna',\n",
              " 'ducked',\n",
              " 'deflower',\n",
              " 'kikki',\n",
              " 'hullabaloo',\n",
              " 'hersholt',\n",
              " 'evaluating',\n",
              " 'euphoric',\n",
              " 'harriet',\n",
              " 'bando',\n",
              " 'bankrobber',\n",
              " 'worlds',\n",
              " 'castrating',\n",
              " 'clutch',\n",
              " 'sticklers',\n",
              " 'baise',\n",
              " 'cheeee',\n",
              " 'ery',\n",
              " 'reassuming',\n",
              " 'planetscapes',\n",
              " 'jancie',\n",
              " 'efforts',\n",
              " 'oratory',\n",
              " 'prescreening',\n",
              " 'vicente',\n",
              " 'krogshoj',\n",
              " 'gut',\n",
              " 'marienbad',\n",
              " 'tertiary',\n",
              " 'shirking',\n",
              " 'lew',\n",
              " 'erland',\n",
              " 'zippo',\n",
              " 'insufficient',\n",
              " 'uncultured',\n",
              " 'lingo',\n",
              " 'penneys',\n",
              " 'seminar',\n",
              " 'unawkward',\n",
              " 'hermit',\n",
              " 'escape',\n",
              " 'comb',\n",
              " 'observer',\n",
              " 'apeing',\n",
              " 'jarre',\n",
              " 'una',\n",
              " 'terrain',\n",
              " 'monotone',\n",
              " 'supernatural',\n",
              " 'usualy',\n",
              " 'hambley',\n",
              " 'cyphers',\n",
              " 'camerawoman',\n",
              " 'lippo',\n",
              " 'edythe',\n",
              " 'donnie',\n",
              " 'upsetting',\n",
              " 'harbours',\n",
              " 'whom',\n",
              " 'coach',\n",
              " 'reaping',\n",
              " 'rugged',\n",
              " 'rumann',\n",
              " 'parade',\n",
              " 'cardiotoxic',\n",
              " 'mistresses',\n",
              " 'goldie',\n",
              " 'unjustified',\n",
              " 'jabs',\n",
              " 'marius',\n",
              " 'wilson',\n",
              " 'trusts',\n",
              " 'attempting',\n",
              " 'supernanny',\n",
              " 'khakhi',\n",
              " 'masseratti',\n",
              " 'graft',\n",
              " 'videogame',\n",
              " 'bruton',\n",
              " 'shook',\n",
              " 'lexcorp',\n",
              " 'enforce',\n",
              " 'arranged',\n",
              " 'lambast',\n",
              " 'articulated',\n",
              " 'additionally',\n",
              " 'lasse',\n",
              " 'win',\n",
              " 'brightness',\n",
              " 'garrett',\n",
              " 'regeneration',\n",
              " 'grafitti',\n",
              " 'defrosts',\n",
              " 'gyneth',\n",
              " 'cushion',\n",
              " 'lyin',\n",
              " 'art',\n",
              " 'fluffer',\n",
              " 'eyepatch',\n",
              " 'delia',\n",
              " 'fantine',\n",
              " 'londonscapes',\n",
              " 'cashes',\n",
              " 'penalized',\n",
              " 'disadvantaged',\n",
              " 'chowderheads',\n",
              " 'kelada',\n",
              " 'rooneys',\n",
              " 'shimmying',\n",
              " 'dispensationalists',\n",
              " 'nile',\n",
              " 'heartthrob',\n",
              " 'kneale',\n",
              " 'voicework',\n",
              " 'joong',\n",
              " 'alf',\n",
              " 'romcom',\n",
              " 'firoz',\n",
              " 'primed',\n",
              " 'punksters',\n",
              " 'mchugh',\n",
              " 'sprucing',\n",
              " 'bruno',\n",
              " 'todean',\n",
              " ...]"
            ]
          },
          "metadata": {},
          "execution_count": 15
        }
      ],
      "source": [
        "vocab"
      ]
    },
    {
      "cell_type": "code",
      "execution_count": null,
      "metadata": {
        "id": "yJDizpCvEwvG"
      },
      "outputs": [],
      "source": [
        "# enumerate() - типа присваивает индексы каждому элементу (нумерацию делает внатуре)\n",
        "# здесь мы получаем словаль\n",
        "# типа {'cdc' : 0, 'vf' : 1, 'avvfff' : 2, 'gtgt' : 3}\n",
        "word2index = {}\n",
        "for i,word in enumerate(vocab):\n",
        "    word2index[word]=i"
      ]
    },
    {
      "cell_type": "code",
      "execution_count": null,
      "metadata": {
        "id": "X6dzCma2R8pD"
      },
      "outputs": [],
      "source": [
        "word2index"
      ]
    },
    {
      "cell_type": "markdown",
      "metadata": {
        "id": "fW2_mxGpKF0U"
      },
      "source": [
        "**{'cdc b tgtrg' : 0,'sx vf rfr ' : 1,'avvfff gtgtt hhh' : 2,'tgu gtgt 54 gtgt' : 3}**"
      ]
    },
    {
      "cell_type": "code",
      "execution_count": null,
      "metadata": {
        "id": "ByEVYXVGEwvH"
      },
      "outputs": [],
      "source": [
        "input_dataset = list()\n",
        "for sent in tokens:\n",
        "    sent_indices = list()\n",
        "    for word in sent:\n",
        "        try:\n",
        "            sent_indices.append(word2index[word])\n",
        "        except:\n",
        "            \"\"\n",
        "    input_dataset.append(list(set(sent_indices)))"
      ]
    },
    {
      "cell_type": "code",
      "execution_count": null,
      "metadata": {
        "id": "IvPMG_RDEwvH"
      },
      "outputs": [],
      "source": [
        "input_dataset # типа [[4757,8787,8,56],[090,87,5465],...,[98,15,567]]"
      ]
    },
    {
      "cell_type": "code",
      "execution_count": null,
      "metadata": {
        "id": "Dd8kQA1IEwvH"
      },
      "outputs": [],
      "source": [
        "# закодировали, сделали цифрами (поменяли тип данных)\n",
        "target_dataset = list()\n",
        "for label in raw_labels:\n",
        "  if label == 'positive\\n':\n",
        "    target_dataset.append(1)\n",
        "  else:\n",
        "    target_dataset.append(0)"
      ]
    },
    {
      "cell_type": "code",
      "execution_count": null,
      "metadata": {
        "id": "3o4lR_uh_Fta"
      },
      "outputs": [],
      "source": [
        "target_dataset"
      ]
    },
    {
      "cell_type": "markdown",
      "metadata": {
        "id": "yXcPflj35uCP"
      },
      "source": [
        "________________________________________________________________________________"
      ]
    },
    {
      "cell_type": "code",
      "execution_count": null,
      "metadata": {
        "id": "BCVzGCjg6whx"
      },
      "outputs": [],
      "source": [
        "import pandas as pd\n",
        "import numpy as np\n",
        "import sklearn\n",
        "import random"
      ]
    },
    {
      "cell_type": "code",
      "execution_count": null,
      "metadata": {
        "id": "9OZc9Xq654Ea"
      },
      "outputs": [],
      "source": [
        "def sigmoid(x):\n",
        "  return 1/(1 + np.exp(-x))"
      ]
    },
    {
      "cell_type": "code",
      "execution_count": null,
      "metadata": {
        "id": "xZ-_ema454Be"
      },
      "outputs": [],
      "source": [
        "alpha, iterations = (0.01, 2)\n",
        "hidden_size = 100"
      ]
    },
    {
      "cell_type": "code",
      "execution_count": null,
      "metadata": {
        "id": "ZXEzpS4L53-s"
      },
      "outputs": [],
      "source": [
        "weights_0_1 = 0.2*np.random.random((len(vocab),hidden_size)) - 0.1\n",
        "weights_1_2 = 0.2*np.random.random((hidden_size,1)) - 0.1"
      ]
    },
    {
      "cell_type": "code",
      "execution_count": null,
      "metadata": {
        "colab": {
          "base_uri": "https://localhost:8080/"
        },
        "id": "-f7Vr7OXLvK1",
        "outputId": "cd7e9405-44d0-4ff9-f00e-26deb13bda0e"
      },
      "outputs": [
        {
          "output_type": "execute_result",
          "data": {
            "text/plain": [
              "67781"
            ]
          },
          "metadata": {},
          "execution_count": 39
        }
      ],
      "source": [
        "len(vocab)"
      ]
    },
    {
      "cell_type": "code",
      "execution_count": null,
      "metadata": {
        "colab": {
          "base_uri": "https://localhost:8080/"
        },
        "id": "Cib9h284LKrb",
        "outputId": "a3bedec6-05dd-4071-ce6b-e9510fefdd09"
      },
      "outputs": [
        {
          "output_type": "execute_result",
          "data": {
            "text/plain": [
              "(67781, 100)"
            ]
          },
          "metadata": {},
          "execution_count": 40
        }
      ],
      "source": [
        "weights_0_1.shape"
      ]
    },
    {
      "cell_type": "code",
      "execution_count": null,
      "metadata": {
        "colab": {
          "base_uri": "https://localhost:8080/"
        },
        "id": "Nziaq0lRLaMS",
        "outputId": "85840cfb-9dda-442a-8659-de18661a2605"
      },
      "outputs": [
        {
          "output_type": "execute_result",
          "data": {
            "text/plain": [
              "(100, 1)"
            ]
          },
          "metadata": {},
          "execution_count": 41
        }
      ],
      "source": [
        "weights_1_2.shape"
      ]
    },
    {
      "cell_type": "code",
      "execution_count": null,
      "metadata": {
        "colab": {
          "base_uri": "https://localhost:8080/"
        },
        "id": "WSJ0x58BX9y0",
        "outputId": "4a99baae-cd7f-4c9d-cc29-f9cae9903b56"
      },
      "outputs": [
        {
          "output_type": "stream",
          "name": "stderr",
          "text": [
            "/usr/local/lib/python3.7/dist-packages/ipykernel_launcher.py:1: VisibleDeprecationWarning: Creating an ndarray from ragged nested sequences (which is a list-or-tuple of lists-or-tuples-or ndarrays with different lengths or shapes) is deprecated. If you meant to do this, you must specify 'dtype=object' when creating the ndarray.\n",
            "  \"\"\"Entry point for launching an IPython kernel.\n"
          ]
        },
        {
          "output_type": "execute_result",
          "data": {
            "text/plain": [
              "((25000,), (25000,))"
            ]
          },
          "metadata": {},
          "execution_count": 42
        }
      ],
      "source": [
        "np.array(input_dataset).shape, np.array(target_dataset).shape"
      ]
    },
    {
      "cell_type": "code",
      "execution_count": null,
      "metadata": {
        "id": "i1pyUCDr537b"
      },
      "outputs": [],
      "source": [
        "correct,total = (0,0)"
      ]
    },
    {
      "cell_type": "code",
      "execution_count": null,
      "metadata": {
        "id": "vha0dq7w531i",
        "colab": {
          "base_uri": "https://localhost:8080/"
        },
        "outputId": "9525dbe2-3e75-41c3-e482-04d89b1be780"
      },
      "outputs": [
        {
          "output_type": "stream",
          "name": "stdout",
          "text": [
            "lter:0 Progress:95.99% Training Accuracy:0.571%\n",
            "lter:1 Progress:95.99% Training Accuracy:0.6145625%\n",
            "Test Accuracy:0.64\n"
          ]
        }
      ],
      "source": [
        "for iter in range(iterations):\n",
        "  for i in range(len(input_dataset)-1000):\n",
        "    x,y = (input_dataset[i],target_dataset[i])\n",
        "    layer_1 = sigmoid(np.sum(weights_0_1[x],axis=0))\n",
        "    layer_2 = sigmoid(np.dot(layer_1,weights_1_2))\n",
        "\n",
        "    layer_2_delta = layer_2-y\n",
        "    layer_1_delta = layer_2_delta. dot (weights_1_2.T)\n",
        "\n",
        "    weights_0_1[x] -= layer_1_delta * alpha\n",
        "    weights_1_2 -= np.outer(layer_1,layer_2_delta) * alpha\n",
        "\n",
        "    if(np.abs(layer_2_delta) < 0.5):\n",
        "      correct += 1\n",
        "    total += 1\n",
        "    if(i % 10 == 9):\n",
        "      progress = str(i/float(len(input_dataset)))\n",
        "      sys.stdout.write('\\rlter:'+str(iter)\\\n",
        "        +' Progress:'+progress[2:4]\\\n",
        "        +'.'+progress[4:6]\\\n",
        "        + '% Training Accuracy:'\\\n",
        "        + str(correct/float(total)) + '%')\n",
        "  print()\n",
        "correct,total = (0,0)\n",
        "for i in range(len(input_dataset)-1000,len(input_dataset)):\n",
        "  x = input_dataset[i]\n",
        "  у = target_dataset[i]\n",
        "  layer_1 = sigmoid(np.sum(weights_0_1[x],axis=0))\n",
        "  layer_2 = sigmoid(np.dot(layer_1,weights_1_2))\n",
        "  if(np.abs(layer_2 - y) < 0.5):\n",
        "    correct += 1\n",
        "  total += 1\n",
        "print(\"Test Accuracy:\" + str(correct / float(total)))"
      ]
    },
    {
      "cell_type": "markdown",
      "source": [
        "_________________________________________________________________________________"
      ],
      "metadata": {
        "id": "XZ3S4D52iYwh"
      }
    },
    {
      "cell_type": "markdown",
      "source": [
        "# **Главное, для чего все это создавалось**\n",
        "**Вывод сильно коррелирующих слов**"
      ],
      "metadata": {
        "id": "wBdt3wPKiGGv"
      }
    },
    {
      "cell_type": "code",
      "source": [
        "from collections import Counter\n",
        "import math"
      ],
      "metadata": {
        "id": "FWNjFUrVG_2N"
      },
      "execution_count": null,
      "outputs": []
    },
    {
      "cell_type": "code",
      "source": [
        "def similar(target='beautiful'):\n",
        "  target_index = word2index[target]\n",
        "  scores =Counter()\n",
        "  for word,index in word2index.items():\n",
        "    raw_difference = weights_0_1[index] - (weights_0_1[target_index])\n",
        "    squared_difference = raw_difference*raw_difference\n",
        "    scores[word] =- math.sqrt(sum(squared_difference))\n",
        "  return scores.most_common(10)"
      ],
      "metadata": {
        "id": "8N_7d1RZG_za"
      },
      "execution_count": null,
      "outputs": []
    },
    {
      "cell_type": "code",
      "source": [
        "print(similar('beautiful'))"
      ],
      "metadata": {
        "colab": {
          "base_uri": "https://localhost:8080/"
        },
        "id": "AExFwCN_G_tc",
        "outputId": "d3b54060-8326-4e6f-9119-76333b314df1"
      },
      "execution_count": null,
      "outputs": [
        {
          "output_type": "stream",
          "name": "stdout",
          "text": [
            "[('beautiful', -0.0), ('parrying', -0.734986262749967), ('eichmann', -0.7571592510015576), ('glad', -0.7676708076767522), ('highly', -0.7691657004168342), ('experience', -0.7700740995349066), ('aargh', -0.7769600014295582), ('provides', -0.7856697973718418), ('lungs', -0.7872241956694493), ('weinstein', -0.7877235267807184)]\n"
          ]
        }
      ]
    },
    {
      "cell_type": "markdown",
      "source": [
        "___________________________________________________________________________"
      ],
      "metadata": {
        "id": "0HSqktPUifDk"
      }
    }
  ],
  "metadata": {
    "colab": {
      "provenance": []
    },
    "kernelspec": {
      "display_name": "Python 3",
      "name": "python3"
    },
    "language_info": {
      "name": "python"
    }
  },
  "nbformat": 4,
  "nbformat_minor": 0
}