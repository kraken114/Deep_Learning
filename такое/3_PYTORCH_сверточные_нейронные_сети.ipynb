{
  "nbformat": 4,
  "nbformat_minor": 0,
  "metadata": {
    "colab": {
      "provenance": [],
      "collapsed_sections": [
        "yPkj1A-C-TY1"
      ]
    },
    "kernelspec": {
      "name": "python3",
      "display_name": "Python 3"
    },
    "language_info": {
      "name": "python"
    },
    "accelerator": "GPU",
    "gpuClass": "standard",
    "widgets": {
      "application/vnd.jupyter.widget-state+json": {
        "389ff7458b35442894f74adfd4b86365": {
          "model_module": "@jupyter-widgets/controls",
          "model_name": "HBoxModel",
          "model_module_version": "1.5.0",
          "state": {
            "_dom_classes": [],
            "_model_module": "@jupyter-widgets/controls",
            "_model_module_version": "1.5.0",
            "_model_name": "HBoxModel",
            "_view_count": null,
            "_view_module": "@jupyter-widgets/controls",
            "_view_module_version": "1.5.0",
            "_view_name": "HBoxView",
            "box_style": "",
            "children": [
              "IPY_MODEL_4f638700cd744a68aa07b7ae802cd3a6",
              "IPY_MODEL_28c1e259b3bd40e6aa7432e8e6b46cad",
              "IPY_MODEL_807169ee99364940a51088ec8029c5c6"
            ],
            "layout": "IPY_MODEL_b9470e08509740c992546e083642f35f"
          }
        },
        "4f638700cd744a68aa07b7ae802cd3a6": {
          "model_module": "@jupyter-widgets/controls",
          "model_name": "HTMLModel",
          "model_module_version": "1.5.0",
          "state": {
            "_dom_classes": [],
            "_model_module": "@jupyter-widgets/controls",
            "_model_module_version": "1.5.0",
            "_model_name": "HTMLModel",
            "_view_count": null,
            "_view_module": "@jupyter-widgets/controls",
            "_view_module_version": "1.5.0",
            "_view_name": "HTMLView",
            "description": "",
            "description_tooltip": null,
            "layout": "IPY_MODEL_3b8f39202f764e3dad019d02580f00cf",
            "placeholder": "​",
            "style": "IPY_MODEL_7af7e6ef8c604a6f80cd2cf63c0e91da",
            "value": "100%"
          }
        },
        "28c1e259b3bd40e6aa7432e8e6b46cad": {
          "model_module": "@jupyter-widgets/controls",
          "model_name": "FloatProgressModel",
          "model_module_version": "1.5.0",
          "state": {
            "_dom_classes": [],
            "_model_module": "@jupyter-widgets/controls",
            "_model_module_version": "1.5.0",
            "_model_name": "FloatProgressModel",
            "_view_count": null,
            "_view_module": "@jupyter-widgets/controls",
            "_view_module_version": "1.5.0",
            "_view_name": "ProgressView",
            "bar_style": "success",
            "description": "",
            "description_tooltip": null,
            "layout": "IPY_MODEL_7c434f4265064852b923f3e7c62cf4b8",
            "max": 102530333,
            "min": 0,
            "orientation": "horizontal",
            "style": "IPY_MODEL_814ffbf22b6a416a98869a7f6f29d9fe",
            "value": 102530333
          }
        },
        "807169ee99364940a51088ec8029c5c6": {
          "model_module": "@jupyter-widgets/controls",
          "model_name": "HTMLModel",
          "model_module_version": "1.5.0",
          "state": {
            "_dom_classes": [],
            "_model_module": "@jupyter-widgets/controls",
            "_model_module_version": "1.5.0",
            "_model_name": "HTMLModel",
            "_view_count": null,
            "_view_module": "@jupyter-widgets/controls",
            "_view_module_version": "1.5.0",
            "_view_name": "HTMLView",
            "description": "",
            "description_tooltip": null,
            "layout": "IPY_MODEL_893720ebdf824d90b2be665bae93a819",
            "placeholder": "​",
            "style": "IPY_MODEL_4721fd1fa88f4633bce6b2679761530a",
            "value": " 97.8M/97.8M [00:00&lt;00:00, 251MB/s]"
          }
        },
        "b9470e08509740c992546e083642f35f": {
          "model_module": "@jupyter-widgets/base",
          "model_name": "LayoutModel",
          "model_module_version": "1.2.0",
          "state": {
            "_model_module": "@jupyter-widgets/base",
            "_model_module_version": "1.2.0",
            "_model_name": "LayoutModel",
            "_view_count": null,
            "_view_module": "@jupyter-widgets/base",
            "_view_module_version": "1.2.0",
            "_view_name": "LayoutView",
            "align_content": null,
            "align_items": null,
            "align_self": null,
            "border": null,
            "bottom": null,
            "display": null,
            "flex": null,
            "flex_flow": null,
            "grid_area": null,
            "grid_auto_columns": null,
            "grid_auto_flow": null,
            "grid_auto_rows": null,
            "grid_column": null,
            "grid_gap": null,
            "grid_row": null,
            "grid_template_areas": null,
            "grid_template_columns": null,
            "grid_template_rows": null,
            "height": null,
            "justify_content": null,
            "justify_items": null,
            "left": null,
            "margin": null,
            "max_height": null,
            "max_width": null,
            "min_height": null,
            "min_width": null,
            "object_fit": null,
            "object_position": null,
            "order": null,
            "overflow": null,
            "overflow_x": null,
            "overflow_y": null,
            "padding": null,
            "right": null,
            "top": null,
            "visibility": null,
            "width": null
          }
        },
        "3b8f39202f764e3dad019d02580f00cf": {
          "model_module": "@jupyter-widgets/base",
          "model_name": "LayoutModel",
          "model_module_version": "1.2.0",
          "state": {
            "_model_module": "@jupyter-widgets/base",
            "_model_module_version": "1.2.0",
            "_model_name": "LayoutModel",
            "_view_count": null,
            "_view_module": "@jupyter-widgets/base",
            "_view_module_version": "1.2.0",
            "_view_name": "LayoutView",
            "align_content": null,
            "align_items": null,
            "align_self": null,
            "border": null,
            "bottom": null,
            "display": null,
            "flex": null,
            "flex_flow": null,
            "grid_area": null,
            "grid_auto_columns": null,
            "grid_auto_flow": null,
            "grid_auto_rows": null,
            "grid_column": null,
            "grid_gap": null,
            "grid_row": null,
            "grid_template_areas": null,
            "grid_template_columns": null,
            "grid_template_rows": null,
            "height": null,
            "justify_content": null,
            "justify_items": null,
            "left": null,
            "margin": null,
            "max_height": null,
            "max_width": null,
            "min_height": null,
            "min_width": null,
            "object_fit": null,
            "object_position": null,
            "order": null,
            "overflow": null,
            "overflow_x": null,
            "overflow_y": null,
            "padding": null,
            "right": null,
            "top": null,
            "visibility": null,
            "width": null
          }
        },
        "7af7e6ef8c604a6f80cd2cf63c0e91da": {
          "model_module": "@jupyter-widgets/controls",
          "model_name": "DescriptionStyleModel",
          "model_module_version": "1.5.0",
          "state": {
            "_model_module": "@jupyter-widgets/controls",
            "_model_module_version": "1.5.0",
            "_model_name": "DescriptionStyleModel",
            "_view_count": null,
            "_view_module": "@jupyter-widgets/base",
            "_view_module_version": "1.2.0",
            "_view_name": "StyleView",
            "description_width": ""
          }
        },
        "7c434f4265064852b923f3e7c62cf4b8": {
          "model_module": "@jupyter-widgets/base",
          "model_name": "LayoutModel",
          "model_module_version": "1.2.0",
          "state": {
            "_model_module": "@jupyter-widgets/base",
            "_model_module_version": "1.2.0",
            "_model_name": "LayoutModel",
            "_view_count": null,
            "_view_module": "@jupyter-widgets/base",
            "_view_module_version": "1.2.0",
            "_view_name": "LayoutView",
            "align_content": null,
            "align_items": null,
            "align_self": null,
            "border": null,
            "bottom": null,
            "display": null,
            "flex": null,
            "flex_flow": null,
            "grid_area": null,
            "grid_auto_columns": null,
            "grid_auto_flow": null,
            "grid_auto_rows": null,
            "grid_column": null,
            "grid_gap": null,
            "grid_row": null,
            "grid_template_areas": null,
            "grid_template_columns": null,
            "grid_template_rows": null,
            "height": null,
            "justify_content": null,
            "justify_items": null,
            "left": null,
            "margin": null,
            "max_height": null,
            "max_width": null,
            "min_height": null,
            "min_width": null,
            "object_fit": null,
            "object_position": null,
            "order": null,
            "overflow": null,
            "overflow_x": null,
            "overflow_y": null,
            "padding": null,
            "right": null,
            "top": null,
            "visibility": null,
            "width": null
          }
        },
        "814ffbf22b6a416a98869a7f6f29d9fe": {
          "model_module": "@jupyter-widgets/controls",
          "model_name": "ProgressStyleModel",
          "model_module_version": "1.5.0",
          "state": {
            "_model_module": "@jupyter-widgets/controls",
            "_model_module_version": "1.5.0",
            "_model_name": "ProgressStyleModel",
            "_view_count": null,
            "_view_module": "@jupyter-widgets/base",
            "_view_module_version": "1.2.0",
            "_view_name": "StyleView",
            "bar_color": null,
            "description_width": ""
          }
        },
        "893720ebdf824d90b2be665bae93a819": {
          "model_module": "@jupyter-widgets/base",
          "model_name": "LayoutModel",
          "model_module_version": "1.2.0",
          "state": {
            "_model_module": "@jupyter-widgets/base",
            "_model_module_version": "1.2.0",
            "_model_name": "LayoutModel",
            "_view_count": null,
            "_view_module": "@jupyter-widgets/base",
            "_view_module_version": "1.2.0",
            "_view_name": "LayoutView",
            "align_content": null,
            "align_items": null,
            "align_self": null,
            "border": null,
            "bottom": null,
            "display": null,
            "flex": null,
            "flex_flow": null,
            "grid_area": null,
            "grid_auto_columns": null,
            "grid_auto_flow": null,
            "grid_auto_rows": null,
            "grid_column": null,
            "grid_gap": null,
            "grid_row": null,
            "grid_template_areas": null,
            "grid_template_columns": null,
            "grid_template_rows": null,
            "height": null,
            "justify_content": null,
            "justify_items": null,
            "left": null,
            "margin": null,
            "max_height": null,
            "max_width": null,
            "min_height": null,
            "min_width": null,
            "object_fit": null,
            "object_position": null,
            "order": null,
            "overflow": null,
            "overflow_x": null,
            "overflow_y": null,
            "padding": null,
            "right": null,
            "top": null,
            "visibility": null,
            "width": null
          }
        },
        "4721fd1fa88f4633bce6b2679761530a": {
          "model_module": "@jupyter-widgets/controls",
          "model_name": "DescriptionStyleModel",
          "model_module_version": "1.5.0",
          "state": {
            "_model_module": "@jupyter-widgets/controls",
            "_model_module_version": "1.5.0",
            "_model_name": "DescriptionStyleModel",
            "_view_count": null,
            "_view_module": "@jupyter-widgets/base",
            "_view_module_version": "1.2.0",
            "_view_name": "StyleView",
            "description_width": ""
          }
        }
      }
    }
  },
  "cells": [
    {
      "cell_type": "markdown",
      "source": [
        "# **Загрузка_данных_с_моего_компьютера**"
      ],
      "metadata": {
        "id": "NVA8X1vlKUi5"
      }
    },
    {
      "cell_type": "markdown",
      "source": [
        "**1. Скачиваем zip-архив в колаб**\n",
        "\n",
        "**2. Разархивируем картинки с помощью !unzip**"
      ],
      "metadata": {
        "id": "oOhw0EvAKgMX"
      }
    },
    {
      "cell_type": "code",
      "execution_count": null,
      "metadata": {
        "id": "yQ8iWHEOSW0K"
      },
      "outputs": [],
      "source": [
        "from google.colab import drive"
      ]
    },
    {
      "cell_type": "code",
      "source": [
        "drive.mount('/content/gdrive')"
      ],
      "metadata": {
        "colab": {
          "base_uri": "https://localhost:8080/"
        },
        "id": "DPlQLwLOSssv",
        "outputId": "836c9ad4-8e28-4692-d92a-7717b782d077"
      },
      "execution_count": null,
      "outputs": [
        {
          "output_type": "stream",
          "name": "stdout",
          "text": [
            "Mounted at /content/gdrive\n"
          ]
        }
      ]
    },
    {
      "cell_type": "code",
      "source": [
        "import os"
      ],
      "metadata": {
        "id": "iOWKTenHWZML"
      },
      "execution_count": null,
      "outputs": []
    },
    {
      "cell_type": "code",
      "source": [
        "os.chdir('/content/gdrive/MyDrive/Colab Notebooks/DOM')"
      ],
      "metadata": {
        "id": "7ppcdwIACr88"
      },
      "execution_count": null,
      "outputs": []
    },
    {
      "cell_type": "code",
      "source": [
        "!unzip \"/content/gdrive/MyDrive/Colab Notebooks/DOM/animals.zip\""
      ],
      "metadata": {
        "id": "o91jNO_4IrJp",
        "colab": {
          "base_uri": "https://localhost:8080/"
        },
        "outputId": "4e98ea4c-cb44-402e-dca5-71f19633a08b"
      },
      "execution_count": null,
      "outputs": [
        {
          "output_type": "stream",
          "name": "stdout",
          "text": [
            "Archive:  /content/gdrive/MyDrive/Colab Notebooks/DOM/animals.zip\n",
            "replace animals/test/fox/00000158_224resized.png? [y]es, [n]o, [A]ll, [N]one, [r]ename: "
          ]
        }
      ]
    },
    {
      "cell_type": "markdown",
      "source": [
        "__________________________________________"
      ],
      "metadata": {
        "id": "Wqkbe06vKQhD"
      }
    },
    {
      "cell_type": "code",
      "execution_count": null,
      "metadata": {
        "id": "X3nZVkhsnpYN"
      },
      "outputs": [],
      "source": [
        "!pip3 install opencv-python"
      ]
    },
    {
      "cell_type": "code",
      "source": [
        "!pip3 install glob2"
      ],
      "metadata": {
        "id": "WpE6OqzepIxr"
      },
      "execution_count": null,
      "outputs": []
    },
    {
      "cell_type": "code",
      "source": [
        "import glob\n",
        "import cv2\n",
        "import numpy as np\n",
        "import torch\n",
        "from torch.utils.data import Dataset, DataLoader\n",
        "import torch.utils.data as data_utils\n",
        "import torch.nn as nn\n",
        "import torch.nn.functional as F"
      ],
      "metadata": {
        "id": "AtqM1YPKzjYH"
      },
      "execution_count": null,
      "outputs": []
    },
    {
      "cell_type": "code",
      "source": [
        "import torchvision\n",
        "from torchvision import transforms\n",
        "import torch\n",
        "from torch.utils.data import Dataset\n",
        "from torchvision import datasets\n",
        "from torchvision.transforms import ToTensor\n",
        "import matplotlib.pyplot as plt\n",
        "from torch.utils.data import DataLoader\n",
        "import pandas as pd"
      ],
      "metadata": {
        "id": "KBOcvznmzjVV"
      },
      "execution_count": null,
      "outputs": []
    },
    {
      "cell_type": "markdown",
      "source": [
        "_____________________________________________"
      ],
      "metadata": {
        "id": "gOvp3zu9RgC0"
      }
    },
    {
      "cell_type": "code",
      "source": [
        "os.chdir('/content/gdrive/MyDrive/Colab Notebooks/DOM')"
      ],
      "metadata": {
        "id": "gY-W9jXhc45V"
      },
      "execution_count": null,
      "outputs": []
    },
    {
      "cell_type": "code",
      "source": [
        "train_data_path = '/content/gdrive/MyDrive/Colab Notebooks/DOM/animals/train'"
      ],
      "metadata": {
        "id": "hWtmTGygzjSi"
      },
      "execution_count": null,
      "outputs": []
    },
    {
      "cell_type": "code",
      "source": [
        "transforms = transforms.Compose([\n",
        "              transforms.Resize(64),\n",
        "              transforms.ToTensor(),\n",
        "              transforms.Normalize(mean=[0.485, 0.456, 0.406],\n",
        "              std=[0.229, 0.224, 0.225] )\n",
        "              ])"
      ],
      "metadata": {
        "id": "VpGsYL1h0QA5"
      },
      "execution_count": null,
      "outputs": []
    },
    {
      "cell_type": "code",
      "source": [
        "train_data = torchvision.datasets.ImageFolder(root=train_data_path,transform=transforms)"
      ],
      "metadata": {
        "id": "DHH-TGwe0P9b"
      },
      "execution_count": null,
      "outputs": []
    },
    {
      "cell_type": "markdown",
      "source": [
        "__________________________________________________"
      ],
      "metadata": {
        "id": "J78YzTrIu6eq"
      }
    },
    {
      "cell_type": "code",
      "source": [
        "val_data_path = \"/content/gdrive/MyDrive/Colab Notebooks/DOM/animals/val\""
      ],
      "metadata": {
        "id": "K0ZnKQuXH7j-"
      },
      "execution_count": null,
      "outputs": []
    },
    {
      "cell_type": "code",
      "source": [
        "val_data = torchvision.datasets.ImageFolder(root=val_data_path,\n",
        "                                            transform=transforms)"
      ],
      "metadata": {
        "id": "pB4TE6bMH7hu"
      },
      "execution_count": null,
      "outputs": []
    },
    {
      "cell_type": "markdown",
      "source": [
        "_____________________________________________"
      ],
      "metadata": {
        "id": "D8NWxK5svBK8"
      }
    },
    {
      "cell_type": "code",
      "source": [
        "test_data_path = \"/content/gdrive/MyDrive/Colab Notebooks/DOM/animals/test\""
      ],
      "metadata": {
        "id": "y5sIz7eSKmWo"
      },
      "execution_count": null,
      "outputs": []
    },
    {
      "cell_type": "code",
      "source": [
        "test_data = torchvision.datasets.ImageFolder(root=test_data_path,\n",
        "                                            transform=transforms)"
      ],
      "metadata": {
        "id": "y-U1exWqKmWq"
      },
      "execution_count": null,
      "outputs": []
    },
    {
      "cell_type": "markdown",
      "source": [
        "________________________________________________"
      ],
      "metadata": {
        "id": "mhbWjcC6RjqY"
      }
    },
    {
      "cell_type": "markdown",
      "source": [
        "**!!!!!Шексперемены:**"
      ],
      "metadata": {
        "id": "tn8OUbXizB0D"
      }
    },
    {
      "cell_type": "markdown",
      "source": [
        "# **nn.Conv2d**"
      ],
      "metadata": {
        "id": "ku05LwIst3tq"
      }
    },
    {
      "cell_type": "code",
      "source": [
        "test_data[0][0]"
      ],
      "metadata": {
        "id": "P_LOyZ4I8s7h"
      },
      "execution_count": null,
      "outputs": []
    },
    {
      "cell_type": "code",
      "source": [
        "test_data[0][0].shape"
      ],
      "metadata": {
        "id": "UWXr0ftcRwX7",
        "colab": {
          "base_uri": "https://localhost:8080/"
        },
        "outputId": "5dc47bd0-04f9-4121-9c01-abd5373eed62"
      },
      "execution_count": null,
      "outputs": [
        {
          "output_type": "execute_result",
          "data": {
            "text/plain": [
              "torch.Size([3, 64, 64])"
            ]
          },
          "metadata": {},
          "execution_count": 16
        }
      ]
    },
    {
      "cell_type": "code",
      "source": [
        "matrix = test_data[0][0]\n",
        "matrix"
      ],
      "metadata": {
        "colab": {
          "base_uri": "https://localhost:8080/"
        },
        "id": "2llR0te3UFU9",
        "outputId": "437e92dd-9e16-4b9e-b4d6-e78ef8bbab47"
      },
      "execution_count": null,
      "outputs": [
        {
          "output_type": "execute_result",
          "data": {
            "text/plain": [
              "tensor([[[-0.4739, -0.5253, -0.6794,  ..., -1.2103, -1.2274, -1.1760],\n",
              "         [-0.4568, -0.5253, -0.6794,  ..., -1.1075, -1.2788, -1.1760],\n",
              "         [-0.6965, -0.7308, -0.8164,  ..., -1.0562, -1.2274, -0.9020],\n",
              "         ...,\n",
              "         [ 0.9474,  0.9474,  0.7762,  ...,  0.1426,  0.2282,  0.2282],\n",
              "         [ 0.7762,  0.7762,  0.6906,  ...,  0.1254,  0.4166,  0.3652],\n",
              "         [ 0.5364,  0.5193,  0.4508,  ...,  0.4166,  0.5364,  0.4679]],\n",
              "\n",
              "        [[-0.4251, -0.4776, -0.4951,  ..., -1.2304, -1.2479, -1.3179],\n",
              "         [-0.4251, -0.4426, -0.5476,  ..., -1.1954, -1.3704, -1.3529],\n",
              "         [-0.5476, -0.5476, -0.6702,  ..., -1.2129, -1.4055, -1.2129],\n",
              "         ...,\n",
              "         [ 1.0105,  1.0105,  0.8529,  ...,  0.3627,  0.4678,  0.4328],\n",
              "         [ 0.7654,  0.7654,  0.7829,  ...,  0.2752,  0.5728,  0.5378],\n",
              "         [ 0.4328,  0.4328,  0.5378,  ...,  0.5378,  0.6954,  0.6429]],\n",
              "\n",
              "        [[-1.0376, -1.0550, -0.9504,  ..., -1.4907, -1.4733, -1.4907],\n",
              "         [-1.0376, -1.0027, -0.9678,  ..., -1.4907, -1.5081, -1.5430],\n",
              "         [-1.0550, -1.0027, -1.0376,  ..., -1.4559, -1.5604, -1.5081],\n",
              "         ...,\n",
              "         [ 1.3677,  1.3677,  1.1759,  ...,  0.5659,  0.6182,  0.5485],\n",
              "         [ 1.1062,  1.0888,  1.0888,  ...,  0.6705,  0.8971,  0.8622],\n",
              "         [ 0.6531,  0.6705,  0.7751,  ...,  0.9494,  1.0714,  1.0539]]])"
            ]
          },
          "metadata": {},
          "execution_count": 27
        }
      ]
    },
    {
      "cell_type": "code",
      "source": [
        "c = nn.Conv2d(3,1, kernel_size=12, stride = 12,padding=0)"
      ],
      "metadata": {
        "id": "INKHGwLyRxYY"
      },
      "execution_count": null,
      "outputs": []
    },
    {
      "cell_type": "code",
      "source": [
        "c(matrix).shape"
      ],
      "metadata": {
        "colab": {
          "base_uri": "https://localhost:8080/"
        },
        "id": "Ib2-eLDzRxV5",
        "outputId": "ce58def0-4788-4c06-aa34-d0cb16537c66"
      },
      "execution_count": null,
      "outputs": [
        {
          "output_type": "execute_result",
          "data": {
            "text/plain": [
              "torch.Size([1, 5, 5])"
            ]
          },
          "metadata": {},
          "execution_count": 29
        }
      ]
    },
    {
      "cell_type": "code",
      "source": [
        "c(matrix).squeeze()"
      ],
      "metadata": {
        "colab": {
          "base_uri": "https://localhost:8080/"
        },
        "id": "z2-1ZVQGRxTL",
        "outputId": "167e56ce-6a50-42e8-97e0-94a3c411f38d"
      },
      "execution_count": null,
      "outputs": [
        {
          "output_type": "execute_result",
          "data": {
            "text/plain": [
              "tensor([[ 1.0032,  0.2662,  0.6294,  0.6886,  0.6598],\n",
              "        [ 0.6110, -0.3845, -0.1593,  0.0021,  0.2395],\n",
              "        [ 0.7308, -0.7248,  0.1683, -0.2726,  0.3193],\n",
              "        [ 0.5460,  0.4838,  0.0269,  0.2908,  0.2815],\n",
              "        [-0.0201, -0.3757, -0.9143, -0.0043, -0.1722]],\n",
              "       grad_fn=<SqueezeBackward0>)"
            ]
          },
          "metadata": {},
          "execution_count": 30
        }
      ]
    },
    {
      "cell_type": "code",
      "source": [
        "f = nn.Conv2d(3, 64, kernel_size=11, stride=4, padding=2)"
      ],
      "metadata": {
        "id": "LSwG5i_ZRxQZ"
      },
      "execution_count": null,
      "outputs": []
    },
    {
      "cell_type": "code",
      "source": [
        "f(matrix).shape"
      ],
      "metadata": {
        "colab": {
          "base_uri": "https://localhost:8080/"
        },
        "id": "jDu0DbnYqkUD",
        "outputId": "ce30b3e9-9aa6-4528-9105-d53addbebceb"
      },
      "execution_count": null,
      "outputs": [
        {
          "output_type": "execute_result",
          "data": {
            "text/plain": [
              "torch.Size([64, 15, 15])"
            ]
          },
          "metadata": {},
          "execution_count": 32
        }
      ]
    },
    {
      "cell_type": "code",
      "source": [
        "f(matrix)"
      ],
      "metadata": {
        "id": "_Moo238kRxNq"
      },
      "execution_count": null,
      "outputs": []
    },
    {
      "cell_type": "markdown",
      "source": [
        "# **nn.MaxPool2d**"
      ],
      "metadata": {
        "id": "CcJuqdsbt8mi"
      }
    },
    {
      "cell_type": "code",
      "source": [
        "m = nn.MaxPool2d(kernel_size=2, stride=2,padding=1)"
      ],
      "metadata": {
        "id": "Pso4Yz0uRxFi"
      },
      "execution_count": null,
      "outputs": []
    },
    {
      "cell_type": "code",
      "source": [
        "m(c(matrix))"
      ],
      "metadata": {
        "colab": {
          "base_uri": "https://localhost:8080/"
        },
        "id": "hMVbl5tPRxCy",
        "outputId": "1c06e573-2fcf-4563-9339-3fc7d8258e1c"
      },
      "execution_count": null,
      "outputs": [
        {
          "output_type": "execute_result",
          "data": {
            "text/plain": [
              "tensor([[[1.0032, 0.6294, 0.6886],\n",
              "         [0.7308, 0.1683, 0.3193],\n",
              "         [0.5460, 0.4838, 0.2908]]], grad_fn=<MaxPool2DWithIndicesBackward0>)"
            ]
          },
          "metadata": {},
          "execution_count": 35
        }
      ]
    },
    {
      "cell_type": "markdown",
      "source": [
        "________________________________________________________"
      ],
      "metadata": {
        "id": "p7jmPhJc-CvO"
      }
    },
    {
      "cell_type": "markdown",
      "source": [
        "# **Изучение структуры модели**"
      ],
      "metadata": {
        "id": "yPkj1A-C-TY1"
      }
    },
    {
      "cell_type": "markdown",
      "source": [
        "# **AlexNet, VGG, ResNet, Inception, DenseNet, SqueezeNet**"
      ],
      "metadata": {
        "id": "8o-V5v8d_EAr"
      }
    },
    {
      "cell_type": "code",
      "source": [
        "import torchvision.models as models\n",
        "alexnet = models.alexnet(num_classes=3)"
      ],
      "metadata": {
        "id": "3gn2AZyWRw_Z"
      },
      "execution_count": null,
      "outputs": []
    },
    {
      "cell_type": "code",
      "source": [
        "print(alexnet)"
      ],
      "metadata": {
        "id": "cPq8deApRw4J"
      },
      "execution_count": null,
      "outputs": []
    },
    {
      "cell_type": "code",
      "source": [
        "import torchvision.models as models\n",
        "resnet = models.resnet18(num_classes=3)"
      ],
      "metadata": {
        "id": "VWMpPptl_lsq"
      },
      "execution_count": null,
      "outputs": []
    },
    {
      "cell_type": "code",
      "source": [
        "print(resnet)"
      ],
      "metadata": {
        "id": "m7p6rZyW_gZp"
      },
      "execution_count": null,
      "outputs": []
    },
    {
      "cell_type": "markdown",
      "source": [
        "___________________________________________________________"
      ],
      "metadata": {
        "id": "WkKULAOOC7i9"
      }
    },
    {
      "cell_type": "code",
      "source": [],
      "metadata": {
        "id": "O8EzprEPSqaR"
      },
      "execution_count": null,
      "outputs": []
    },
    {
      "cell_type": "markdown",
      "source": [
        "# **Пробуем модель**"
      ],
      "metadata": {
        "id": "lW5s05fxC7Yi"
      }
    },
    {
      "cell_type": "code",
      "source": [
        "import glob\n",
        "import cv2\n",
        "import numpy as np\n",
        "import torch\n",
        "from torch.utils.data import Dataset, DataLoader\n",
        "import torch.utils.data as data_utils\n",
        "import torch.nn as nn\n",
        "import torch.nn.functional as F"
      ],
      "metadata": {
        "id": "SF8gkwB5D1Gy"
      },
      "execution_count": null,
      "outputs": []
    },
    {
      "cell_type": "code",
      "source": [
        "import torchvision\n",
        "from torchvision import transforms\n",
        "import torch\n",
        "from torch.utils.data import Dataset\n",
        "from torchvision import datasets\n",
        "from torchvision.transforms import ToTensor\n",
        "import matplotlib.pyplot as plt\n",
        "from torch.utils.data import DataLoader\n",
        "import pandas as pd"
      ],
      "metadata": {
        "id": "uyKvPy_ZD1w1"
      },
      "execution_count": null,
      "outputs": []
    },
    {
      "cell_type": "markdown",
      "source": [
        "**загружаем модель:**"
      ],
      "metadata": {
        "id": "2AyLwN98cYqR"
      }
    },
    {
      "cell_type": "code",
      "source": [
        "from torchvision import models"
      ],
      "metadata": {
        "id": "7Y_QaaZX3q00"
      },
      "execution_count": null,
      "outputs": []
    },
    {
      "cell_type": "code",
      "source": [
        "from torchvision.models import resnet50, ResNet50_Weights\n",
        "transfer_model = models.resnet50(pretrained=True)"
      ],
      "metadata": {
        "colab": {
          "base_uri": "https://localhost:8080/",
          "height": 156,
          "referenced_widgets": [
            "389ff7458b35442894f74adfd4b86365",
            "4f638700cd744a68aa07b7ae802cd3a6",
            "28c1e259b3bd40e6aa7432e8e6b46cad",
            "807169ee99364940a51088ec8029c5c6",
            "b9470e08509740c992546e083642f35f",
            "3b8f39202f764e3dad019d02580f00cf",
            "7af7e6ef8c604a6f80cd2cf63c0e91da",
            "7c434f4265064852b923f3e7c62cf4b8",
            "814ffbf22b6a416a98869a7f6f29d9fe",
            "893720ebdf824d90b2be665bae93a819",
            "4721fd1fa88f4633bce6b2679761530a"
          ]
        },
        "id": "Va-NWstBC6Hg",
        "outputId": "5c9df9d0-1f9b-4b51-ce96-2667e163a85f"
      },
      "execution_count": null,
      "outputs": [
        {
          "output_type": "stream",
          "name": "stderr",
          "text": [
            "/usr/local/lib/python3.8/dist-packages/torchvision/models/_utils.py:208: UserWarning: The parameter 'pretrained' is deprecated since 0.13 and may be removed in the future, please use 'weights' instead.\n",
            "  warnings.warn(\n",
            "/usr/local/lib/python3.8/dist-packages/torchvision/models/_utils.py:223: UserWarning: Arguments other than a weight enum or `None` for 'weights' are deprecated since 0.13 and may be removed in the future. The current behavior is equivalent to passing `weights=ResNet50_Weights.IMAGENET1K_V1`. You can also use `weights=ResNet50_Weights.DEFAULT` to get the most up-to-date weights.\n",
            "  warnings.warn(msg)\n",
            "Downloading: \"https://download.pytorch.org/models/resnet50-0676ba61.pth\" to /root/.cache/torch/hub/checkpoints/resnet50-0676ba61.pth\n"
          ]
        },
        {
          "output_type": "display_data",
          "data": {
            "text/plain": [
              "  0%|          | 0.00/97.8M [00:00<?, ?B/s]"
            ],
            "application/vnd.jupyter.widget-view+json": {
              "version_major": 2,
              "version_minor": 0,
              "model_id": "389ff7458b35442894f74adfd4b86365"
            }
          },
          "metadata": {}
        }
      ]
    },
    {
      "cell_type": "markdown",
      "source": [
        "**замораживаем веса модели:**"
      ],
      "metadata": {
        "id": "tuRUG7cIcqnS"
      }
    },
    {
      "cell_type": "code",
      "source": [
        "for name, param in transfer_model.named_parameters():\n",
        "    param.requires_grad = False"
      ],
      "metadata": {
        "id": "qEZ2B659crKm"
      },
      "execution_count": null,
      "outputs": []
    },
    {
      "cell_type": "code",
      "source": [
        "print(transfer_model)"
      ],
      "metadata": {
        "id": "osgDfnAldbuS"
      },
      "execution_count": null,
      "outputs": []
    },
    {
      "cell_type": "markdown",
      "source": [
        "**меняем содержание слоя fc загруженной модели**"
      ],
      "metadata": {
        "id": "OD3heEh3S3sq"
      }
    },
    {
      "cell_type": "code",
      "source": [
        "transfer_model.fc = nn.Sequential(nn.Linear(transfer_model.fc.in_features,500), nn.ReLU(),\n",
        "                                  nn.Dropout(), nn.Linear(500,2))"
      ],
      "metadata": {
        "id": "p9WIUNAVeNvx"
      },
      "execution_count": null,
      "outputs": []
    },
    {
      "cell_type": "code",
      "source": [
        "print(transfer_model)"
      ],
      "metadata": {
        "id": "2-WKQsNGfVXe"
      },
      "execution_count": null,
      "outputs": []
    },
    {
      "cell_type": "code",
      "source": [
        "batch_size=30\n",
        "train_data_loader = DataLoader(train_data, batch_size=batch_size, shuffle=True)\n",
        "val_data_loader = DataLoader(val_data, batch_size=batch_size, shuffle=True)\n",
        "test_data_loader = DataLoader(test_data, batch_size=batch_size, shuffle=True)"
      ],
      "metadata": {
        "id": "HVpWSltxDQ8H"
      },
      "execution_count": null,
      "outputs": []
    },
    {
      "cell_type": "code",
      "source": [
        "found_lr = 1e-2"
      ],
      "metadata": {
        "id": "NgDZYcao4Ats"
      },
      "execution_count": null,
      "outputs": []
    },
    {
      "cell_type": "markdown",
      "source": [
        "**задаем скорость обучения в слоях:**"
      ],
      "metadata": {
        "id": "x9SSa7qr5KMi"
      }
    },
    {
      "cell_type": "code",
      "source": [
        "optimizer = optim.Adam(simplenet.parameters(), lr=0.001)"
      ],
      "metadata": {
        "id": "Uor0lKYqUJzZ"
      },
      "execution_count": null,
      "outputs": []
    },
    {
      "cell_type": "code",
      "source": [
        "import torch.optim as optim\n",
        "optimizer = optim.Adam([{ 'params': transfer_model.layer4.parameters(), 'lr': found_lr /3},\n",
        "{ 'params': transfer_model.layer3.parameters(), 'lr': found_lr /9},\n",
        "], lr=found_lr)"
      ],
      "metadata": {
        "id": "CSEVtt1VDR4q"
      },
      "execution_count": null,
      "outputs": []
    },
    {
      "cell_type": "markdown",
      "source": [
        "**разрешаем изменение градиента в слоях (размораживаем):**"
      ],
      "metadata": {
        "id": "AhT0MDF05CFs"
      }
    },
    {
      "cell_type": "code",
      "source": [
        "unfreeze_layers = [transfer_model.layer3, transfer_model.layer4]\n",
        "for layer in unfreeze_layers:\n",
        " for param in layer.parameters():\n",
        "  param.requires_grad = True"
      ],
      "metadata": {
        "id": "gYfQ7lfP4jAz"
      },
      "execution_count": null,
      "outputs": []
    },
    {
      "cell_type": "code",
      "source": [
        "loss_fn=torch.nn.CrossEntropyLoss()"
      ],
      "metadata": {
        "id": "2tcJRF8HDSbY"
      },
      "execution_count": null,
      "outputs": []
    },
    {
      "cell_type": "code",
      "source": [
        "train(transfer_model, optimizer, torch.nn.CrossEntropyLoss(), train_data_loader, val_data_loader,device)"
      ],
      "metadata": {
        "id": "czHra3FjDd45"
      },
      "execution_count": null,
      "outputs": []
    },
    {
      "cell_type": "code",
      "source": [
        "plt.imshow(train_data[145][0][0], cmap=\"gray\")\n",
        "plt.show"
      ],
      "metadata": {
        "id": "UhVOEC76jIRm",
        "colab": {
          "base_uri": "https://localhost:8080/",
          "height": 285
        },
        "outputId": "8b642288-ae32-415a-add1-310e1583f699"
      },
      "execution_count": null,
      "outputs": [
        {
          "output_type": "execute_result",
          "data": {
            "text/plain": [
              "<function matplotlib.pyplot.show(*args, **kw)>"
            ]
          },
          "metadata": {},
          "execution_count": 59
        },
        {
          "output_type": "display_data",
          "data": {
            "text/plain": [
              "<Figure size 432x288 with 1 Axes>"
            ],
            "image/png": "[encoded data removed]"
          },
          "metadata": {
            "needs_background": "light"
          }
        }
      ]
    },
    {
      "cell_type": "markdown",
      "source": [
        "**изменяем контрастность**"
      ],
      "metadata": {
        "id": "pTZdjC1CL2NF"
      }
    },
    {
      "cell_type": "code",
      "source": [
        "torchvision.transforms.ColorJitter(brightness=0, contrast=0, saturation=0, hue=0)"
      ],
      "metadata": {
        "id": "j2OKt0vqjIOq",
        "colab": {
          "base_uri": "https://localhost:8080/"
        },
        "outputId": "5483298f-0f1b-47db-e6bd-6a91b11adf34"
      },
      "execution_count": null,
      "outputs": [
        {
          "output_type": "execute_result",
          "data": {
            "text/plain": [
              "ColorJitter(brightness=None, contrast=None, saturation=None, hue=None)"
            ]
          },
          "metadata": {},
          "execution_count": 64
        }
      ]
    },
    {
      "cell_type": "markdown",
      "source": [
        "**отражаем по горизонтали/вертикали**"
      ],
      "metadata": {
        "id": "7OCfjrUaMA-C"
      }
    },
    {
      "cell_type": "code",
      "source": [
        "torchvision.transforms.RandomHorizontalFlip(p=0.5)\n",
        "torchvision.transforms.RandomVerticalFlip(p=0.5)"
      ],
      "metadata": {
        "id": "KwMayviIjILg",
        "colab": {
          "base_uri": "https://localhost:8080/"
        },
        "outputId": "7bc165e8-3a9a-4dd1-eee0-b0fc3ff87105"
      },
      "execution_count": null,
      "outputs": [
        {
          "output_type": "execute_result",
          "data": {
            "text/plain": [
              "RandomVerticalFlip(p=0.5)"
            ]
          },
          "metadata": {},
          "execution_count": 66
        }
      ]
    },
    {
      "cell_type": "markdown",
      "source": [
        "**обрезаем картинку**"
      ],
      "metadata": {
        "id": "Fg9ceao-MZxb"
      }
    },
    {
      "cell_type": "code",
      "source": [
        "torchvision.transforms.RandomCrop(size, padding=None,\n",
        "pad_if_needed=False, fill=0, padding_mode='constant')\n",
        "torchvision.transforms.RandomResizedCrop(size, scale=(0.08, 1.0),\n",
        "ratio=(0.75, 1.3333333333333333), interpolation=2)"
      ],
      "metadata": {
        "id": "p-w49vmpMX8B"
      },
      "execution_count": null,
      "outputs": []
    },
    {
      "cell_type": "markdown",
      "source": [
        "**поворот изображения**"
      ],
      "metadata": {
        "id": "DzSV0DciMydN"
      }
    },
    {
      "cell_type": "code",
      "source": [
        "torchvision.transforms.RandomRotation(degrees, resample=False,expand=False,center=None)"
      ],
      "metadata": {
        "id": "4x3EwC7AMyzE"
      },
      "execution_count": null,
      "outputs": []
    },
    {
      "cell_type": "markdown",
      "source": [
        "**добавляем изображению отступы**"
      ],
      "metadata": {
        "id": "1AnDMBzWNK78"
      }
    },
    {
      "cell_type": "code",
      "source": [
        "torchvision.transforms.Pad(padding, fill=0, padding_mode=constant)"
      ],
      "metadata": {
        "id": "UAUI7IraNKlr"
      },
      "execution_count": null,
      "outputs": []
    },
    {
      "cell_type": "markdown",
      "source": [
        "**случайным образом меняет изображение**"
      ],
      "metadata": {
        "id": "vzba3SXNPw5N"
      }
    },
    {
      "cell_type": "code",
      "source": [
        "torchvision.transforms.RandomAffine(degrees, translate=None, scale=None,\n",
        "shear=None, resample=False, fillcolor=0)"
      ],
      "metadata": {
        "id": "WmN5rH0XPwov"
      },
      "execution_count": null,
      "outputs": []
    },
    {
      "cell_type": "markdown",
      "source": [
        "**преобразование из RGB в HSV стр.95**"
      ],
      "metadata": {
        "id": "DnDpPnC-eGQx"
      }
    },
    {
      "cell_type": "code",
      "source": [
        "def _random_colour_space(x):\n",
        " output = x.convert(\"HSV\")\n",
        " return output"
      ],
      "metadata": {
        "id": "AeUaY_RfeG0a"
      },
      "execution_count": null,
      "outputs": []
    },
    {
      "cell_type": "code",
      "source": [
        "colour_transform = transforms.Lambda(lambda x: _random_colour_space(x))"
      ],
      "metadata": {
        "id": "saGZsVbSeYcU"
      },
      "execution_count": null,
      "outputs": []
    },
    {
      "cell_type": "markdown",
      "source": [
        "**рэндомное преобразование из RGB в HSV 50% данных**"
      ],
      "metadata": {
        "id": "2ayLEEGXgCma"
      }
    },
    {
      "cell_type": "code",
      "source": [
        "random_colour_transform = torchvision.transforms.RandomApply([colour_transform])"
      ],
      "metadata": {
        "id": "akWR738agLcp"
      },
      "execution_count": null,
      "outputs": []
    },
    {
      "cell_type": "code",
      "source": [],
      "metadata": {
        "id": "M5Hvf_0i0IRl"
      },
      "execution_count": null,
      "outputs": []
    }
  ]
}