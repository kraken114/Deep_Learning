{
  "nbformat": 4,
  "nbformat_minor": 0,
  "metadata": {
    "colab": {
      "provenance": []
    },
    "kernelspec": {
      "name": "python3",
      "display_name": "Python 3"
    },
    "language_info": {
      "name": "python"
    },
    "accelerator": "GPU",
    "gpuClass": "standard"
  },
  "cells": [
    {
      "cell_type": "markdown",
      "source": [
        "# **Загрузка_данных_с_моего_компьютера**"
      ],
      "metadata": {
        "id": "NVA8X1vlKUi5"
      }
    },
    {
      "cell_type": "markdown",
      "source": [
        "**1. Скачиваем zip-архив в колаб**\n",
        "\n",
        "**2. Разархивируем картинки с помощью !unzip**"
      ],
      "metadata": {
        "id": "oOhw0EvAKgMX"
      }
    },
    {
      "cell_type": "code",
      "execution_count": null,
      "metadata": {
        "id": "yQ8iWHEOSW0K"
      },
      "outputs": [],
      "source": [
        "from google.colab import drive"
      ]
    },
    {
      "cell_type": "code",
      "source": [
        "drive.mount('/content/gdrive')"
      ],
      "metadata": {
        "colab": {
          "base_uri": "https://localhost:8080/"
        },
        "id": "DPlQLwLOSssv",
        "outputId": "1a1daad6-6286-48fd-8932-621e1b4b21ab"
      },
      "execution_count": null,
      "outputs": [
        {
          "output_type": "stream",
          "name": "stdout",
          "text": [
            "Mounted at /content/gdrive\n"
          ]
        }
      ]
    },
    {
      "cell_type": "code",
      "source": [
        "import os"
      ],
      "metadata": {
        "id": "iOWKTenHWZML"
      },
      "execution_count": null,
      "outputs": []
    },
    {
      "cell_type": "code",
      "source": [
        "os.chdir('/content/gdrive/MyDrive/Colab Notebooks/DOM')"
      ],
      "metadata": {
        "id": "7ppcdwIACr88"
      },
      "execution_count": null,
      "outputs": []
    },
    {
      "cell_type": "code",
      "source": [
        "!unzip \"/content/gdrive/MyDrive/Colab Notebooks/DOM/animals.zip\""
      ],
      "metadata": {
        "id": "o91jNO_4IrJp"
      },
      "execution_count": null,
      "outputs": []
    },
    {
      "cell_type": "markdown",
      "source": [
        "__________________________________________"
      ],
      "metadata": {
        "id": "Wqkbe06vKQhD"
      }
    },
    {
      "cell_type": "code",
      "execution_count": null,
      "metadata": {
        "id": "X3nZVkhsnpYN"
      },
      "outputs": [],
      "source": [
        "!pip3 install opencv-python"
      ]
    },
    {
      "cell_type": "code",
      "source": [
        "!pip3 install glob2"
      ],
      "metadata": {
        "id": "WpE6OqzepIxr"
      },
      "execution_count": null,
      "outputs": []
    },
    {
      "cell_type": "code",
      "source": [
        "import glob\n",
        "import cv2\n",
        "import numpy as np\n",
        "import torch\n",
        "from torch.utils.data import Dataset, DataLoader\n",
        "import torch.utils.data as data_utils\n",
        "import torch.nn as nn\n",
        "import torch.nn.functional as F"
      ],
      "metadata": {
        "id": "AtqM1YPKzjYH"
      },
      "execution_count": null,
      "outputs": []
    },
    {
      "cell_type": "code",
      "source": [
        "import torchvision\n",
        "from torchvision import transforms\n",
        "import torch\n",
        "from torch.utils.data import Dataset\n",
        "from torchvision import datasets\n",
        "from torchvision.transforms import ToTensor\n",
        "import matplotlib.pyplot as plt\n",
        "from torch.utils.data import DataLoader\n",
        "import pandas as pd"
      ],
      "metadata": {
        "id": "KBOcvznmzjVV"
      },
      "execution_count": null,
      "outputs": []
    },
    {
      "cell_type": "code",
      "source": [
        "os.chdir('/content/gdrive/MyDrive/Colab Notebooks/DOM')"
      ],
      "metadata": {
        "id": "gY-W9jXhc45V"
      },
      "execution_count": null,
      "outputs": []
    },
    {
      "cell_type": "code",
      "source": [
        "train_data_path = '/content/gdrive/MyDrive/Colab Notebooks/DOM/animals/train'"
      ],
      "metadata": {
        "id": "hWtmTGygzjSi"
      },
      "execution_count": null,
      "outputs": []
    },
    {
      "cell_type": "code",
      "source": [
        "transforms = transforms.Compose([\n",
        "              transforms.Resize(64),\n",
        "              transforms.ToTensor(),\n",
        "              transforms.Normalize(mean=[0.485, 0.456, 0.406],\n",
        "              std=[0.229, 0.224, 0.225] )\n",
        "              ])"
      ],
      "metadata": {
        "id": "VpGsYL1h0QA5"
      },
      "execution_count": null,
      "outputs": []
    },
    {
      "cell_type": "code",
      "source": [
        "train_data = torchvision.datasets.ImageFolder(root=train_data_path,transform=transforms)"
      ],
      "metadata": {
        "id": "DHH-TGwe0P9b"
      },
      "execution_count": null,
      "outputs": []
    },
    {
      "cell_type": "code",
      "source": [
        "lst=[]"
      ],
      "metadata": {
        "id": "aohfTBUm1saN"
      },
      "execution_count": null,
      "outputs": []
    },
    {
      "cell_type": "code",
      "source": [
        "for i,j in train_data:\n",
        "  lst.append([i[0],j])"
      ],
      "metadata": {
        "id": "T_4F0Zh20NIs"
      },
      "execution_count": null,
      "outputs": []
    },
    {
      "cell_type": "code",
      "source": [
        "train_data[0]"
      ],
      "metadata": {
        "id": "A2I9duQo9Pgi"
      },
      "execution_count": null,
      "outputs": []
    },
    {
      "cell_type": "code",
      "source": [
        "train_data[305][0].shape"
      ],
      "metadata": {
        "colab": {
          "base_uri": "https://localhost:8080/"
        },
        "id": "KvhkXQxVatTt",
        "outputId": "f2b6737c-f75e-4f4a-d4fb-4eb6655f3c19"
      },
      "execution_count": null,
      "outputs": [
        {
          "output_type": "execute_result",
          "data": {
            "text/plain": [
              "torch.Size([3, 64, 64])"
            ]
          },
          "metadata": {},
          "execution_count": 28
        }
      ]
    },
    {
      "cell_type": "code",
      "source": [
        "len(train_data)"
      ],
      "metadata": {
        "colab": {
          "base_uri": "https://localhost:8080/"
        },
        "id": "RzPcwFwYtqmN",
        "outputId": "3d186490-059f-46f4-9db2-b1564a659d52"
      },
      "execution_count": null,
      "outputs": [
        {
          "output_type": "execute_result",
          "data": {
            "text/plain": [
              "340"
            ]
          },
          "metadata": {},
          "execution_count": 73
        }
      ]
    },
    {
      "cell_type": "code",
      "source": [
        "train_data[20][0][0]"
      ],
      "metadata": {
        "colab": {
          "base_uri": "https://localhost:8080/"
        },
        "id": "C9JvDD_1phN1",
        "outputId": "d549e2b8-ead5-4b14-fc29-6d85de7a32bc"
      },
      "execution_count": null,
      "outputs": [
        {
          "output_type": "execute_result",
          "data": {
            "text/plain": [
              "tensor([[-0.8507, -0.8164, -0.7650,  ..., -1.5528, -1.5185, -1.4329],\n",
              "        [-0.9363, -0.9534, -0.9363,  ..., -1.4329, -1.4158, -1.4158],\n",
              "        [-1.0904, -1.0733, -1.0562,  ..., -1.2445, -1.2788, -1.1932],\n",
              "        ...,\n",
              "        [-0.8164, -0.8164, -0.7479,  ..., -0.3883, -0.3369, -0.4397],\n",
              "        [-0.6794, -0.7308, -0.6281,  ..., -0.3712, -0.5253, -0.6452],\n",
              "        [-0.6281, -0.6623, -0.5424,  ..., -0.4568, -0.6109, -0.6623]])"
            ]
          },
          "metadata": {},
          "execution_count": 47
        }
      ]
    },
    {
      "cell_type": "code",
      "source": [
        "plt.imshow(train_data[0][0][0], cmap=\"gray\")\n",
        "plt.show"
      ],
      "metadata": {
        "colab": {
          "base_uri": "https://localhost:8080/",
          "height": 286
        },
        "id": "cZi03Gxk5hYk",
        "outputId": "be4d9e5d-6148-476d-ff06-0b6a131770fe"
      },
      "execution_count": null,
      "outputs": [
        {
          "output_type": "execute_result",
          "data": {
            "text/plain": [
              "<function matplotlib.pyplot.show(*args, **kw)>"
            ]
          },
          "metadata": {},
          "execution_count": 53
        },
        {
          "output_type": "display_data",
          "data": {
            "text/plain": [
              "<Figure size 432x288 with 1 Axes>"
            ],
            "image/png": "[encoded data removed]"
          },
          "metadata": {
            "needs_background": "light"
          }
        }
      ]
    },
    {
      "cell_type": "markdown",
      "source": [
        "__________________________________________________"
      ],
      "metadata": {
        "id": "J78YzTrIu6eq"
      }
    },
    {
      "cell_type": "code",
      "source": [
        "val_data_path = \"/content/gdrive/MyDrive/Colab Notebooks/DOM/animals/val\""
      ],
      "metadata": {
        "id": "K0ZnKQuXH7j-"
      },
      "execution_count": null,
      "outputs": []
    },
    {
      "cell_type": "code",
      "source": [
        "val_data = torchvision.datasets.ImageFolder(root=val_data_path,\n",
        "                                            transform=transforms)"
      ],
      "metadata": {
        "id": "pB4TE6bMH7hu"
      },
      "execution_count": null,
      "outputs": []
    },
    {
      "cell_type": "code",
      "source": [
        "lst_val=[]"
      ],
      "metadata": {
        "id": "3ZEHte9OH7fW"
      },
      "execution_count": null,
      "outputs": []
    },
    {
      "cell_type": "code",
      "source": [
        "for i,j in val_data:\n",
        "  lst_val.append([i[0],j])"
      ],
      "metadata": {
        "id": "KbVaGbF8H7cY"
      },
      "execution_count": null,
      "outputs": []
    },
    {
      "cell_type": "markdown",
      "source": [
        "_____________________________________________"
      ],
      "metadata": {
        "id": "D8NWxK5svBK8"
      }
    },
    {
      "cell_type": "code",
      "source": [
        "test_data_path = \"/content/gdrive/MyDrive/Colab Notebooks/DOM/animals/test\""
      ],
      "metadata": {
        "id": "y5sIz7eSKmWo"
      },
      "execution_count": null,
      "outputs": []
    },
    {
      "cell_type": "code",
      "source": [
        "test_data = torchvision.datasets.ImageFolder(root=test_data_path,\n",
        "                                            transform=transforms)"
      ],
      "metadata": {
        "id": "y-U1exWqKmWq"
      },
      "execution_count": null,
      "outputs": []
    },
    {
      "cell_type": "code",
      "source": [
        "lst_test=[]"
      ],
      "metadata": {
        "id": "LSxB8XeqKmWq"
      },
      "execution_count": null,
      "outputs": []
    },
    {
      "cell_type": "code",
      "source": [
        "for i,j in test_data:\n",
        "  lst_test.append([i[0],j])"
      ],
      "metadata": {
        "id": "_-gYJhH9KmWq"
      },
      "execution_count": null,
      "outputs": []
    },
    {
      "cell_type": "markdown",
      "source": [
        "**!!!!!Добавление измерения:**"
      ],
      "metadata": {
        "id": "tn8OUbXizB0D"
      }
    },
    {
      "cell_type": "code",
      "source": [
        "lst_test[0][0].unsqueeze(0).shape"
      ],
      "metadata": {
        "id": "3xMbMOv1wbXo"
      },
      "execution_count": null,
      "outputs": []
    },
    {
      "cell_type": "code",
      "source": [
        "lst_test[0][0].view(-1, 5440).shape"
      ],
      "metadata": {
        "colab": {
          "base_uri": "https://localhost:8080/"
        },
        "id": "oa91v8sN3qf7",
        "outputId": "81cf5df5-f798-46b8-aebd-53587594c909"
      },
      "execution_count": null,
      "outputs": [
        {
          "output_type": "execute_result",
          "data": {
            "text/plain": [
              "torch.Size([1, 5440])"
            ]
          },
          "metadata": {},
          "execution_count": 55
        }
      ]
    },
    {
      "cell_type": "markdown",
      "source": [
        "_________________________________________________"
      ],
      "metadata": {
        "id": "P3ZOINxqvEwd"
      }
    },
    {
      "cell_type": "markdown",
      "source": [
        "**lst**\n",
        "\n",
        "**lst_val**\n",
        "\n",
        "**lst_test**"
      ],
      "metadata": {
        "id": "EE01LYYlK54A"
      }
    },
    {
      "cell_type": "code",
      "source": [
        "device = \"cuda\" if torch.cuda.is_available() else \"cpu\"\n",
        "print (f\"Using {device} device\")"
      ],
      "metadata": {
        "colab": {
          "base_uri": "https://localhost:8080/"
        },
        "id": "cdkn-iF9m14t",
        "outputId": "146dab6d-9931-481c-e950-a30dcd3315c0"
      },
      "execution_count": null,
      "outputs": [
        {
          "output_type": "stream",
          "name": "stdout",
          "text": [
            "Using cuda device\n"
          ]
        }
      ]
    },
    {
      "cell_type": "code",
      "source": [
        "if torch.cuda.is_available():\n",
        " device = torch.device(\"cuda\")\n",
        "else:\n",
        " device = torch.device(\"cpu\")\n",
        "simplenet.to(device)"
      ],
      "metadata": {
        "colab": {
          "base_uri": "https://localhost:8080/"
        },
        "id": "yS9QHsKf8k1f",
        "outputId": "314139e1-62b5-4fbb-bf04-5bbe9da8155b"
      },
      "execution_count": null,
      "outputs": [
        {
          "output_type": "execute_result",
          "data": {
            "text/plain": [
              "SimpleNet(\n",
              "  (flatten): Flatten(start_dim=1, end_dim=-1)\n",
              "  (linear_relu_stack): Sequential(\n",
              "    (0): Linear(in_features=12288, out_features=84, bias=True)\n",
              "    (1): Linear(in_features=84, out_features=50, bias=True)\n",
              "    (2): Linear(in_features=50, out_features=2, bias=True)\n",
              "  )\n",
              ")"
            ]
          },
          "metadata": {},
          "execution_count": 19
        }
      ]
    },
    {
      "cell_type": "code",
      "source": [
        "batch_size=30\n",
        "train_data_loader = DataLoader(train_data, batch_size=batch_size, shuffle=True)\n",
        "val_data_loader = DataLoader(val_data, batch_size=batch_size, shuffle=True)\n",
        "test_data_loader = DataLoader(test_data, batch_size=batch_size, shuffle=True)"
      ],
      "metadata": {
        "id": "kYLOZxnrLBA3"
      },
      "execution_count": null,
      "outputs": []
    },
    {
      "cell_type": "code",
      "source": [
        "class SimpleNet(nn.Module):\n",
        "    def __init__(self):\n",
        "        super(SimpleNet, self).__init__()\n",
        "        self.flatten=nn.Flatten()\n",
        "        self.linear_relu_stack=nn.Sequential(\n",
        "        nn.Linear(12288, 84),\n",
        "        nn.Linear(84, 50),\n",
        "        nn.Linear(50,2),)\n",
        "    def forward(self,x):\n",
        "        x = self.flatten(x)\n",
        "        logits = self.linear_relu_stack(x)\n",
        "        return logits\n",
        "simplenet = SimpleNet()"
      ],
      "metadata": {
        "id": "z6NmTW6Vdeim"
      },
      "execution_count": null,
      "outputs": []
    },
    {
      "cell_type": "code",
      "source": [
        "import torch.optim as optim\n",
        "optimizer = optim.Adam(simplenet.parameters(), lr=0.001)"
      ],
      "metadata": {
        "id": "vMtHec286IlE"
      },
      "execution_count": null,
      "outputs": []
    },
    {
      "cell_type": "code",
      "source": [
        "loss_fn=torch.nn.CrossEntropyLoss()"
      ],
      "metadata": {
        "id": "mInUZpCtCGa7"
      },
      "execution_count": null,
      "outputs": []
    },
    {
      "cell_type": "code",
      "source": [
        "def train(model, optimizer, loss_fn, train_loader, val_loader,\n",
        "epochs=20, device=\"cpu\"):\n",
        "    for epoch in range(20):\n",
        "      training_loss = 0.0\n",
        "      valid_loss = 0.0\n",
        "      model.train()\n",
        "      for batch in train_loader:\n",
        "        optimizer.zero_grad()\n",
        "        inputs, target = batch\n",
        "        inputs = inputs.to(device)\n",
        "        target = target.to(device)\n",
        "        output = model(inputs)\n",
        "        loss = loss_fn(output, target)\n",
        "        loss.backward()\n",
        "        optimizer.step()\n",
        "        training_loss += loss.data.item()\n",
        "      training_loss /= len(train_loader)\n",
        "      model.eval()\n",
        "      num_correct = 0\n",
        "      num_examples = 0\n",
        "      for batch in val_loader:\n",
        "          inputs, targets = batch\n",
        "          inputs = inputs.to(device)\n",
        "          output = model(inputs)\n",
        "          targets = targets.to(device)\n",
        "          loss = loss_fn(output,targets)\n",
        "          valid_loss += loss.data.item()\n",
        "          correct = torch.eq(torch.max(F.softmax(output), dim=1)[1],\n",
        "          targets).view(-1)\n",
        "          num_correct += torch.sum(correct).item()\n",
        "          num_examples += correct.shape[0]\n",
        "      valid_loss /= len(val_loader)\n",
        "      print('Epoch: {}, Training Loss: {:.2f},Validation Loss: {:.2f},accuracy = {:.2f}'.format\n",
        "          (epoch, training_loss,valid_loss, num_correct / num_examples))\n"
      ],
      "metadata": {
        "id": "ikEsBa1p71FH"
      },
      "execution_count": null,
      "outputs": []
    },
    {
      "cell_type": "code",
      "source": [
        "train(simplenet, optimizer, torch.nn.CrossEntropyLoss(), train_data_loader, val_data_loader,device)"
      ],
      "metadata": {
        "id": "Ff_HU2gFcfq4",
        "colab": {
          "base_uri": "https://localhost:8080/"
        },
        "outputId": "ce63312b-9256-4540-ebdc-2d2e1c779032"
      },
      "execution_count": null,
      "outputs": [
        {
          "output_type": "stream",
          "name": "stderr",
          "text": [
            "/usr/local/lib/python3.7/dist-packages/ipykernel_launcher.py:28: UserWarning: Implicit dimension choice for softmax has been deprecated. Change the call to include dim=X as an argument.\n"
          ]
        },
        {
          "output_type": "stream",
          "name": "stdout",
          "text": [
            "Epoch: 0, Training Loss: 0.01,Validation Loss: 1.54,accuracy = 0.71\n",
            "Epoch: 1, Training Loss: 0.01,Validation Loss: 1.58,accuracy = 0.71\n",
            "Epoch: 2, Training Loss: 0.00,Validation Loss: 1.56,accuracy = 0.72\n",
            "Epoch: 3, Training Loss: 0.00,Validation Loss: 1.56,accuracy = 0.72\n",
            "Epoch: 4, Training Loss: 0.00,Validation Loss: 1.61,accuracy = 0.70\n",
            "Epoch: 5, Training Loss: 0.00,Validation Loss: 1.64,accuracy = 0.68\n",
            "Epoch: 6, Training Loss: 0.00,Validation Loss: 1.64,accuracy = 0.71\n",
            "Epoch: 7, Training Loss: 0.00,Validation Loss: 1.65,accuracy = 0.72\n",
            "Epoch: 8, Training Loss: 0.00,Validation Loss: 1.68,accuracy = 0.71\n",
            "Epoch: 9, Training Loss: 0.00,Validation Loss: 1.71,accuracy = 0.71\n",
            "Epoch: 10, Training Loss: 0.00,Validation Loss: 1.71,accuracy = 0.72\n",
            "Epoch: 11, Training Loss: 0.00,Validation Loss: 1.71,accuracy = 0.72\n",
            "Epoch: 12, Training Loss: 0.00,Validation Loss: 1.73,accuracy = 0.71\n",
            "Epoch: 13, Training Loss: 0.00,Validation Loss: 1.74,accuracy = 0.72\n",
            "Epoch: 14, Training Loss: 0.00,Validation Loss: 1.76,accuracy = 0.71\n",
            "Epoch: 15, Training Loss: 0.00,Validation Loss: 1.77,accuracy = 0.71\n",
            "Epoch: 16, Training Loss: 0.00,Validation Loss: 1.78,accuracy = 0.72\n",
            "Epoch: 17, Training Loss: 0.00,Validation Loss: 1.79,accuracy = 0.72\n",
            "Epoch: 18, Training Loss: 0.00,Validation Loss: 1.80,accuracy = 0.72\n",
            "Epoch: 19, Training Loss: 0.00,Validation Loss: 1.81,accuracy = 0.72\n"
          ]
        }
      ]
    },
    {
      "cell_type": "markdown",
      "source": [
        "________________________________________"
      ],
      "metadata": {
        "id": "2stc_qodwa-W"
      }
    },
    {
      "cell_type": "code",
      "source": [
        "plt.imshow(test_data[0][0][0], cmap=\"gray\")"
      ],
      "metadata": {
        "colab": {
          "base_uri": "https://localhost:8080/",
          "height": 286
        },
        "id": "4xz_Jjg3pEk8",
        "outputId": "157e209d-2e48-4941-e349-9177eee28718"
      },
      "execution_count": null,
      "outputs": [
        {
          "output_type": "execute_result",
          "data": {
            "text/plain": [
              "<matplotlib.image.AxesImage at 0x7f3dfe1bf890>"
            ]
          },
          "metadata": {},
          "execution_count": 55
        },
        {
          "output_type": "display_data",
          "data": {
            "text/plain": [
              "<Figure size 432x288 with 1 Axes>"
            ],
            "image/png": "[encoded data removed]"
          },
          "metadata": {
            "needs_background": "light"
          }
        }
      ]
    },
    {
      "cell_type": "code",
      "source": [
        "from PIL import Image"
      ],
      "metadata": {
        "id": "7M71673uonPp"
      },
      "execution_count": null,
      "outputs": []
    },
    {
      "cell_type": "code",
      "source": [
        "labels = ['fox','lion']\n",
        "img = Image.open('/content/gdrive/MyDrive/Colab Notebooks/DOM/animals/train/fox/00000011_224resized.png')\n",
        "img = transforms(img)\n",
        "print(img)\n",
        "plt.imshow(img[0], cmap=\"gray\")\n",
        "img = img.unsqueeze(0)\n",
        "prediction = simplenet(img)\n",
        "prediction = prediction.argmax()\n",
        "print(labels[prediction])"
      ],
      "metadata": {
        "colab": {
          "base_uri": "https://localhost:8080/",
          "height": 711
        },
        "id": "UhpA7e3ConPr",
        "outputId": "9cb75abb-a8ec-4830-930d-7bc8958561fa"
      },
      "execution_count": null,
      "outputs": [
        {
          "output_type": "stream",
          "name": "stdout",
          "text": [
            "tensor([[[1.2557, 1.1187, 0.6563,  ..., 1.7694, 1.7694, 1.7694],\n",
            "         [1.6838, 1.2557, 0.8447,  ..., 1.7523, 1.7694, 1.7865],\n",
            "         [1.7352, 0.8618, 0.8618,  ..., 1.7694, 1.7865, 1.7865],\n",
            "         ...,\n",
            "         [1.5468, 1.5125, 1.5297,  ..., 1.6495, 1.6838, 1.8379],\n",
            "         [1.5297, 1.5297, 1.4954,  ..., 1.6324, 1.6495, 1.6838],\n",
            "         [1.5125, 1.5125, 1.4783,  ..., 1.6153, 1.6495, 1.6495]],\n",
            "\n",
            "        [[1.3782, 1.2556, 0.7304,  ..., 1.8859, 1.8859, 1.8859],\n",
            "         [1.8158, 1.3782, 0.9230,  ..., 1.8683, 1.8859, 1.9034],\n",
            "         [1.8683, 0.9580, 0.9055,  ..., 1.8859, 1.9034, 1.9034],\n",
            "         ...,\n",
            "         [1.6583, 1.6232, 1.6408,  ..., 1.6583, 1.6583, 1.8333],\n",
            "         [1.6583, 1.6583, 1.6232,  ..., 1.6758, 1.6583, 1.6583],\n",
            "         [1.6408, 1.6408, 1.6057,  ..., 1.6758, 1.6758, 1.6232]],\n",
            "\n",
            "        [[1.7685, 1.6640, 1.1062,  ..., 2.4308, 2.4308, 2.4308],\n",
            "         [2.2566, 1.8208, 1.3154,  ..., 2.4134, 2.4308, 2.4483],\n",
            "         [2.3088, 1.3677, 1.3328,  ..., 2.4134, 2.4483, 2.4483],\n",
            "         ...,\n",
            "         [2.0648, 2.0300, 2.0474,  ..., 2.0997, 2.0997, 2.2217],\n",
            "         [2.0648, 2.0648, 2.0300,  ..., 2.0997, 2.0997, 2.0648],\n",
            "         [2.0474, 2.0474, 2.0125,  ..., 2.0997, 2.0997, 2.0300]]])\n",
            "fox\n"
          ]
        },
        {
          "output_type": "display_data",
          "data": {
            "text/plain": [
              "<Figure size 432x288 with 1 Axes>"
            ],
            "image/png": "[encoded data removed]"
          },
          "metadata": {
            "needs_background": "light"
          }
        }
      ]
    },
    {
      "cell_type": "code",
      "source": [
        "train_data[1][0].view(-1, 12288)"
      ],
      "metadata": {
        "colab": {
          "base_uri": "https://localhost:8080/"
        },
        "id": "ZkbD-kJtvh5k",
        "outputId": "f3730365-c2a4-4027-ab41-b735c3f27d5f"
      },
      "execution_count": null,
      "outputs": [
        {
          "output_type": "execute_result",
          "data": {
            "text/plain": [
              "tensor([[-1.6213, -1.6213, -1.6213,  ...,  2.6051,  2.6051,  2.6051]])"
            ]
          },
          "metadata": {},
          "execution_count": 88
        }
      ]
    },
    {
      "cell_type": "code",
      "source": [
        "lst_test[0][0].view(-1, 5440).shape"
      ],
      "metadata": {
        "id": "FnMxOfz5vecz"
      },
      "execution_count": null,
      "outputs": []
    },
    {
      "cell_type": "markdown",
      "source": [
        "**предсказываем:**"
      ],
      "metadata": {
        "id": "wWVuu7C8wQ6H"
      }
    },
    {
      "cell_type": "code",
      "source": [
        "for i in range(len(test_data)):\n",
        "  prediction = simplenet(test_data[i][0].view(-1, 12288))\n",
        "  prediction = prediction.argmax()\n",
        "  print(labels[prediction])\n",
        "  plt.imshow(test_data[i][0][0], cmap=\"gray\")"
      ],
      "metadata": {
        "id": "6Juc0lm5tSzU"
      },
      "execution_count": null,
      "outputs": []
    },
    {
      "cell_type": "code",
      "source": [
        "plt.imshow(train_data[0][0][0], cmap=\"gray\")"
      ],
      "metadata": {
        "colab": {
          "base_uri": "https://localhost:8080/",
          "height": 286
        },
        "id": "2iF7v9fwomEM",
        "outputId": "7cdb1f2f-c622-41a0-b8c2-6e731ed17600"
      },
      "execution_count": null,
      "outputs": [
        {
          "output_type": "execute_result",
          "data": {
            "text/plain": [
              "<matplotlib.image.AxesImage at 0x7f3df76c7c90>"
            ]
          },
          "metadata": {},
          "execution_count": 74
        },
        {
          "output_type": "display_data",
          "data": {
            "text/plain": [
              "<Figure size 432x288 with 1 Axes>"
            ],
            "image/png": "[encoded data removed]"
          },
          "metadata": {
            "needs_background": "light"
          }
        }
      ]
    },
    {
      "cell_type": "code",
      "source": [],
      "metadata": {
        "id": "zfE3T6DNolc8"
      },
      "execution_count": null,
      "outputs": []
    },
    {
      "cell_type": "code",
      "source": [],
      "metadata": {
        "id": "PNFqipdCwaNP"
      },
      "execution_count": null,
      "outputs": []
    },
    {
      "cell_type": "code",
      "source": [
        "train_features, train_labels = next(iter(train_data_loader))"
      ],
      "metadata": {
        "id": "wlKux7AxMcpZ"
      },
      "execution_count": null,
      "outputs": []
    },
    {
      "cell_type": "code",
      "source": [
        "train_features.size()"
      ],
      "metadata": {
        "colab": {
          "base_uri": "https://localhost:8080/"
        },
        "id": "W-8VWUEUMPEJ",
        "outputId": "d8616875-69fd-4b28-df49-9eba93729fe0"
      },
      "execution_count": null,
      "outputs": [
        {
          "output_type": "execute_result",
          "data": {
            "text/plain": [
              "torch.Size([14, 3, 64, 64])"
            ]
          },
          "metadata": {},
          "execution_count": 21
        }
      ]
    },
    {
      "cell_type": "markdown",
      "source": [
        "# **Сохранение/загрузка модели**"
      ],
      "metadata": {
        "id": "6zW5NRa62rei"
      }
    },
    {
      "cell_type": "markdown",
      "source": [
        "**Сохранение содели**"
      ],
      "metadata": {
        "id": "-j5ivfLp34cj"
      }
    },
    {
      "cell_type": "code",
      "source": [
        "torch.save(simplenet, \"/content/gdrive/MyDrive/Colab Notebooks/DOM/animals/simplenet\")"
      ],
      "metadata": {
        "id": "KY_t9c6a2sCs"
      },
      "execution_count": null,
      "outputs": []
    },
    {
      "cell_type": "markdown",
      "source": [
        "**Сохранение модели в форме словаря**"
      ],
      "metadata": {
        "id": "SHTQ4Hzj4Cez"
      }
    },
    {
      "cell_type": "code",
      "source": [
        "torch.save(simplenet.state_dict(), '/content/gdrive/MyDrive/Colab Notebooks/DOM/animals/12')"
      ],
      "metadata": {
        "id": "lPrG6KXk2sv8"
      },
      "execution_count": null,
      "outputs": []
    },
    {
      "cell_type": "markdown",
      "source": [
        "**Загрузка модели**"
      ],
      "metadata": {
        "id": "AwPB2TpI4LrM"
      }
    },
    {
      "cell_type": "code",
      "source": [
        "simplenet = SimpleNet()\n",
        "simplenet_state_dict = torch.load(\"/content/gdrive/MyDrive/Colab Notebooks/DOM/animals/simplenet\")\n",
        "simplenet.load_state_dict('/content/gdrive/MyDrive/Colab Notebooks/DOM/animals/12')"
      ],
      "metadata": {
        "id": "pGq_CiPD2std"
      },
      "execution_count": null,
      "outputs": []
    },
    {
      "cell_type": "code",
      "source": [],
      "metadata": {
        "id": "5rsjwglx2soA"
      },
      "execution_count": null,
      "outputs": []
    },
    {
      "cell_type": "code",
      "source": [],
      "metadata": {
        "id": "8ixfZTn72sfH"
      },
      "execution_count": null,
      "outputs": []
    }
  ]
}