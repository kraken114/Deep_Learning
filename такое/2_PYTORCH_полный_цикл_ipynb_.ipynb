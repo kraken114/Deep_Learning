{
  "nbformat": 4,
  "nbformat_minor": 0,
  "metadata": {
    "colab": {
      "provenance": [],
      "collapsed_sections": [
        "Rzg2zNY3XJ4a",
        "pKXsPCBJXeHy",
        "4jENuvP6Xmwi",
        "psx5i-xhXvbT",
        "CClXGe21YTCz",
        "fMBKIAj6Yb2E",
        "ShMHoh1EYs5X",
        "X8Mz-ZRdY4d_",
        "4Lm2nZNZZKEY",
        "SVQhJpB3ZTCt",
        "bTzh5DxjahTB",
        "N-lTYNx_anvj",
        "cJ7PQA01bbYR"
      ]
    },
    "kernelspec": {
      "name": "python3",
      "display_name": "Python 3"
    },
    "language_info": {
      "name": "python"
    },
    "accelerator": "GPU",
    "gpuClass": "standard",
    "widgets": {
      "application/vnd.jupyter.widget-state+json": {
        "cb4d02921f1a4f20825ecbb481e8f18a": {
          "model_module": "@jupyter-widgets/controls",
          "model_name": "HBoxModel",
          "model_module_version": "1.5.0",
          "state": {
            "_dom_classes": [],
            "_model_module": "@jupyter-widgets/controls",
            "_model_module_version": "1.5.0",
            "_model_name": "HBoxModel",
            "_view_count": null,
            "_view_module": "@jupyter-widgets/controls",
            "_view_module_version": "1.5.0",
            "_view_name": "HBoxView",
            "box_style": "",
            "children": [
              "IPY_MODEL_74dd10b16a634ab5a457ec2fb3a0f7a6",
              "IPY_MODEL_91049386afc34f51a89adf3bd2e4b212",
              "IPY_MODEL_745321fa21494321927c889efe587181"
            ],
            "layout": "IPY_MODEL_263450548710434584fcf5d73a9656a0"
          }
        },
        "74dd10b16a634ab5a457ec2fb3a0f7a6": {
          "model_module": "@jupyter-widgets/controls",
          "model_name": "HTMLModel",
          "model_module_version": "1.5.0",
          "state": {
            "_dom_classes": [],
            "_model_module": "@jupyter-widgets/controls",
            "_model_module_version": "1.5.0",
            "_model_name": "HTMLModel",
            "_view_count": null,
            "_view_module": "@jupyter-widgets/controls",
            "_view_module_version": "1.5.0",
            "_view_name": "HTMLView",
            "description": "",
            "description_tooltip": null,
            "layout": "IPY_MODEL_fa03ed2f5b494603942758b2edf5a51c",
            "placeholder": "​",
            "style": "IPY_MODEL_ac123ecb08ec4356a75170db7cfe7b42",
            "value": "100%"
          }
        },
        "91049386afc34f51a89adf3bd2e4b212": {
          "model_module": "@jupyter-widgets/controls",
          "model_name": "FloatProgressModel",
          "model_module_version": "1.5.0",
          "state": {
            "_dom_classes": [],
            "_model_module": "@jupyter-widgets/controls",
            "_model_module_version": "1.5.0",
            "_model_name": "FloatProgressModel",
            "_view_count": null,
            "_view_module": "@jupyter-widgets/controls",
            "_view_module_version": "1.5.0",
            "_view_name": "ProgressView",
            "bar_style": "success",
            "description": "",
            "description_tooltip": null,
            "layout": "IPY_MODEL_85524ec804994dc090be09082e669e18",
            "max": 26421880,
            "min": 0,
            "orientation": "horizontal",
            "style": "IPY_MODEL_14e6f2d93db84f56bdd040e0d5f28e31",
            "value": 26421880
          }
        },
        "745321fa21494321927c889efe587181": {
          "model_module": "@jupyter-widgets/controls",
          "model_name": "HTMLModel",
          "model_module_version": "1.5.0",
          "state": {
            "_dom_classes": [],
            "_model_module": "@jupyter-widgets/controls",
            "_model_module_version": "1.5.0",
            "_model_name": "HTMLModel",
            "_view_count": null,
            "_view_module": "@jupyter-widgets/controls",
            "_view_module_version": "1.5.0",
            "_view_name": "HTMLView",
            "description": "",
            "description_tooltip": null,
            "layout": "IPY_MODEL_fb6667168e18406eb03ebd743d365718",
            "placeholder": "​",
            "style": "IPY_MODEL_bbc641868f0a41db8ca7ed75a66d3ee5",
            "value": " 26421880/26421880 [00:00&lt;00:00, 56231773.04it/s]"
          }
        },
        "263450548710434584fcf5d73a9656a0": {
          "model_module": "@jupyter-widgets/base",
          "model_name": "LayoutModel",
          "model_module_version": "1.2.0",
          "state": {
            "_model_module": "@jupyter-widgets/base",
            "_model_module_version": "1.2.0",
            "_model_name": "LayoutModel",
            "_view_count": null,
            "_view_module": "@jupyter-widgets/base",
            "_view_module_version": "1.2.0",
            "_view_name": "LayoutView",
            "align_content": null,
            "align_items": null,
            "align_self": null,
            "border": null,
            "bottom": null,
            "display": null,
            "flex": null,
            "flex_flow": null,
            "grid_area": null,
            "grid_auto_columns": null,
            "grid_auto_flow": null,
            "grid_auto_rows": null,
            "grid_column": null,
            "grid_gap": null,
            "grid_row": null,
            "grid_template_areas": null,
            "grid_template_columns": null,
            "grid_template_rows": null,
            "height": null,
            "justify_content": null,
            "justify_items": null,
            "left": null,
            "margin": null,
            "max_height": null,
            "max_width": null,
            "min_height": null,
            "min_width": null,
            "object_fit": null,
            "object_position": null,
            "order": null,
            "overflow": null,
            "overflow_x": null,
            "overflow_y": null,
            "padding": null,
            "right": null,
            "top": null,
            "visibility": null,
            "width": null
          }
        },
        "fa03ed2f5b494603942758b2edf5a51c": {
          "model_module": "@jupyter-widgets/base",
          "model_name": "LayoutModel",
          "model_module_version": "1.2.0",
          "state": {
            "_model_module": "@jupyter-widgets/base",
            "_model_module_version": "1.2.0",
            "_model_name": "LayoutModel",
            "_view_count": null,
            "_view_module": "@jupyter-widgets/base",
            "_view_module_version": "1.2.0",
            "_view_name": "LayoutView",
            "align_content": null,
            "align_items": null,
            "align_self": null,
            "border": null,
            "bottom": null,
            "display": null,
            "flex": null,
            "flex_flow": null,
            "grid_area": null,
            "grid_auto_columns": null,
            "grid_auto_flow": null,
            "grid_auto_rows": null,
            "grid_column": null,
            "grid_gap": null,
            "grid_row": null,
            "grid_template_areas": null,
            "grid_template_columns": null,
            "grid_template_rows": null,
            "height": null,
            "justify_content": null,
            "justify_items": null,
            "left": null,
            "margin": null,
            "max_height": null,
            "max_width": null,
            "min_height": null,
            "min_width": null,
            "object_fit": null,
            "object_position": null,
            "order": null,
            "overflow": null,
            "overflow_x": null,
            "overflow_y": null,
            "padding": null,
            "right": null,
            "top": null,
            "visibility": null,
            "width": null
          }
        },
        "ac123ecb08ec4356a75170db7cfe7b42": {
          "model_module": "@jupyter-widgets/controls",
          "model_name": "DescriptionStyleModel",
          "model_module_version": "1.5.0",
          "state": {
            "_model_module": "@jupyter-widgets/controls",
            "_model_module_version": "1.5.0",
            "_model_name": "DescriptionStyleModel",
            "_view_count": null,
            "_view_module": "@jupyter-widgets/base",
            "_view_module_version": "1.2.0",
            "_view_name": "StyleView",
            "description_width": ""
          }
        },
        "85524ec804994dc090be09082e669e18": {
          "model_module": "@jupyter-widgets/base",
          "model_name": "LayoutModel",
          "model_module_version": "1.2.0",
          "state": {
            "_model_module": "@jupyter-widgets/base",
            "_model_module_version": "1.2.0",
            "_model_name": "LayoutModel",
            "_view_count": null,
            "_view_module": "@jupyter-widgets/base",
            "_view_module_version": "1.2.0",
            "_view_name": "LayoutView",
            "align_content": null,
            "align_items": null,
            "align_self": null,
            "border": null,
            "bottom": null,
            "display": null,
            "flex": null,
            "flex_flow": null,
            "grid_area": null,
            "grid_auto_columns": null,
            "grid_auto_flow": null,
            "grid_auto_rows": null,
            "grid_column": null,
            "grid_gap": null,
            "grid_row": null,
            "grid_template_areas": null,
            "grid_template_columns": null,
            "grid_template_rows": null,
            "height": null,
            "justify_content": null,
            "justify_items": null,
            "left": null,
            "margin": null,
            "max_height": null,
            "max_width": null,
            "min_height": null,
            "min_width": null,
            "object_fit": null,
            "object_position": null,
            "order": null,
            "overflow": null,
            "overflow_x": null,
            "overflow_y": null,
            "padding": null,
            "right": null,
            "top": null,
            "visibility": null,
            "width": null
          }
        },
        "14e6f2d93db84f56bdd040e0d5f28e31": {
          "model_module": "@jupyter-widgets/controls",
          "model_name": "ProgressStyleModel",
          "model_module_version": "1.5.0",
          "state": {
            "_model_module": "@jupyter-widgets/controls",
            "_model_module_version": "1.5.0",
            "_model_name": "ProgressStyleModel",
            "_view_count": null,
            "_view_module": "@jupyter-widgets/base",
            "_view_module_version": "1.2.0",
            "_view_name": "StyleView",
            "bar_color": null,
            "description_width": ""
          }
        },
        "fb6667168e18406eb03ebd743d365718": {
          "model_module": "@jupyter-widgets/base",
          "model_name": "LayoutModel",
          "model_module_version": "1.2.0",
          "state": {
            "_model_module": "@jupyter-widgets/base",
            "_model_module_version": "1.2.0",
            "_model_name": "LayoutModel",
            "_view_count": null,
            "_view_module": "@jupyter-widgets/base",
            "_view_module_version": "1.2.0",
            "_view_name": "LayoutView",
            "align_content": null,
            "align_items": null,
            "align_self": null,
            "border": null,
            "bottom": null,
            "display": null,
            "flex": null,
            "flex_flow": null,
            "grid_area": null,
            "grid_auto_columns": null,
            "grid_auto_flow": null,
            "grid_auto_rows": null,
            "grid_column": null,
            "grid_gap": null,
            "grid_row": null,
            "grid_template_areas": null,
            "grid_template_columns": null,
            "grid_template_rows": null,
            "height": null,
            "justify_content": null,
            "justify_items": null,
            "left": null,
            "margin": null,
            "max_height": null,
            "max_width": null,
            "min_height": null,
            "min_width": null,
            "object_fit": null,
            "object_position": null,
            "order": null,
            "overflow": null,
            "overflow_x": null,
            "overflow_y": null,
            "padding": null,
            "right": null,
            "top": null,
            "visibility": null,
            "width": null
          }
        },
        "bbc641868f0a41db8ca7ed75a66d3ee5": {
          "model_module": "@jupyter-widgets/controls",
          "model_name": "DescriptionStyleModel",
          "model_module_version": "1.5.0",
          "state": {
            "_model_module": "@jupyter-widgets/controls",
            "_model_module_version": "1.5.0",
            "_model_name": "DescriptionStyleModel",
            "_view_count": null,
            "_view_module": "@jupyter-widgets/base",
            "_view_module_version": "1.2.0",
            "_view_name": "StyleView",
            "description_width": ""
          }
        },
        "f312302d44ef4f569f7b7eefb8818d05": {
          "model_module": "@jupyter-widgets/controls",
          "model_name": "HBoxModel",
          "model_module_version": "1.5.0",
          "state": {
            "_dom_classes": [],
            "_model_module": "@jupyter-widgets/controls",
            "_model_module_version": "1.5.0",
            "_model_name": "HBoxModel",
            "_view_count": null,
            "_view_module": "@jupyter-widgets/controls",
            "_view_module_version": "1.5.0",
            "_view_name": "HBoxView",
            "box_style": "",
            "children": [
              "IPY_MODEL_928b5a92be054a6d8185c74afb5f3dba",
              "IPY_MODEL_178ebdc45be241dfabe86d2ad01f51ea",
              "IPY_MODEL_8398d456251f46219d5a046e70e545e3"
            ],
            "layout": "IPY_MODEL_990e11c34f274d449de0849d00d93b26"
          }
        },
        "928b5a92be054a6d8185c74afb5f3dba": {
          "model_module": "@jupyter-widgets/controls",
          "model_name": "HTMLModel",
          "model_module_version": "1.5.0",
          "state": {
            "_dom_classes": [],
            "_model_module": "@jupyter-widgets/controls",
            "_model_module_version": "1.5.0",
            "_model_name": "HTMLModel",
            "_view_count": null,
            "_view_module": "@jupyter-widgets/controls",
            "_view_module_version": "1.5.0",
            "_view_name": "HTMLView",
            "description": "",
            "description_tooltip": null,
            "layout": "IPY_MODEL_d82cf740fffb41a3b224d0161c0d16e5",
            "placeholder": "​",
            "style": "IPY_MODEL_f6578ff27b85486e94bc64ed2eef1d55",
            "value": "100%"
          }
        },
        "178ebdc45be241dfabe86d2ad01f51ea": {
          "model_module": "@jupyter-widgets/controls",
          "model_name": "FloatProgressModel",
          "model_module_version": "1.5.0",
          "state": {
            "_dom_classes": [],
            "_model_module": "@jupyter-widgets/controls",
            "_model_module_version": "1.5.0",
            "_model_name": "FloatProgressModel",
            "_view_count": null,
            "_view_module": "@jupyter-widgets/controls",
            "_view_module_version": "1.5.0",
            "_view_name": "ProgressView",
            "bar_style": "success",
            "description": "",
            "description_tooltip": null,
            "layout": "IPY_MODEL_9b69514d231e4282b1f1df2a01b058ef",
            "max": 29515,
            "min": 0,
            "orientation": "horizontal",
            "style": "IPY_MODEL_c1f443f1c48b4dab84f0e22c1fcb8aec",
            "value": 29515
          }
        },
        "8398d456251f46219d5a046e70e545e3": {
          "model_module": "@jupyter-widgets/controls",
          "model_name": "HTMLModel",
          "model_module_version": "1.5.0",
          "state": {
            "_dom_classes": [],
            "_model_module": "@jupyter-widgets/controls",
            "_model_module_version": "1.5.0",
            "_model_name": "HTMLModel",
            "_view_count": null,
            "_view_module": "@jupyter-widgets/controls",
            "_view_module_version": "1.5.0",
            "_view_name": "HTMLView",
            "description": "",
            "description_tooltip": null,
            "layout": "IPY_MODEL_fc64965795874bfd83b8bdae98a60a55",
            "placeholder": "​",
            "style": "IPY_MODEL_02f295e65ddf46eea624e993bf211af8",
            "value": " 29515/29515 [00:00&lt;00:00, 768144.17it/s]"
          }
        },
        "990e11c34f274d449de0849d00d93b26": {
          "model_module": "@jupyter-widgets/base",
          "model_name": "LayoutModel",
          "model_module_version": "1.2.0",
          "state": {
            "_model_module": "@jupyter-widgets/base",
            "_model_module_version": "1.2.0",
            "_model_name": "LayoutModel",
            "_view_count": null,
            "_view_module": "@jupyter-widgets/base",
            "_view_module_version": "1.2.0",
            "_view_name": "LayoutView",
            "align_content": null,
            "align_items": null,
            "align_self": null,
            "border": null,
            "bottom": null,
            "display": null,
            "flex": null,
            "flex_flow": null,
            "grid_area": null,
            "grid_auto_columns": null,
            "grid_auto_flow": null,
            "grid_auto_rows": null,
            "grid_column": null,
            "grid_gap": null,
            "grid_row": null,
            "grid_template_areas": null,
            "grid_template_columns": null,
            "grid_template_rows": null,
            "height": null,
            "justify_content": null,
            "justify_items": null,
            "left": null,
            "margin": null,
            "max_height": null,
            "max_width": null,
            "min_height": null,
            "min_width": null,
            "object_fit": null,
            "object_position": null,
            "order": null,
            "overflow": null,
            "overflow_x": null,
            "overflow_y": null,
            "padding": null,
            "right": null,
            "top": null,
            "visibility": null,
            "width": null
          }
        },
        "d82cf740fffb41a3b224d0161c0d16e5": {
          "model_module": "@jupyter-widgets/base",
          "model_name": "LayoutModel",
          "model_module_version": "1.2.0",
          "state": {
            "_model_module": "@jupyter-widgets/base",
            "_model_module_version": "1.2.0",
            "_model_name": "LayoutModel",
            "_view_count": null,
            "_view_module": "@jupyter-widgets/base",
            "_view_module_version": "1.2.0",
            "_view_name": "LayoutView",
            "align_content": null,
            "align_items": null,
            "align_self": null,
            "border": null,
            "bottom": null,
            "display": null,
            "flex": null,
            "flex_flow": null,
            "grid_area": null,
            "grid_auto_columns": null,
            "grid_auto_flow": null,
            "grid_auto_rows": null,
            "grid_column": null,
            "grid_gap": null,
            "grid_row": null,
            "grid_template_areas": null,
            "grid_template_columns": null,
            "grid_template_rows": null,
            "height": null,
            "justify_content": null,
            "justify_items": null,
            "left": null,
            "margin": null,
            "max_height": null,
            "max_width": null,
            "min_height": null,
            "min_width": null,
            "object_fit": null,
            "object_position": null,
            "order": null,
            "overflow": null,
            "overflow_x": null,
            "overflow_y": null,
            "padding": null,
            "right": null,
            "top": null,
            "visibility": null,
            "width": null
          }
        },
        "f6578ff27b85486e94bc64ed2eef1d55": {
          "model_module": "@jupyter-widgets/controls",
          "model_name": "DescriptionStyleModel",
          "model_module_version": "1.5.0",
          "state": {
            "_model_module": "@jupyter-widgets/controls",
            "_model_module_version": "1.5.0",
            "_model_name": "DescriptionStyleModel",
            "_view_count": null,
            "_view_module": "@jupyter-widgets/base",
            "_view_module_version": "1.2.0",
            "_view_name": "StyleView",
            "description_width": ""
          }
        },
        "9b69514d231e4282b1f1df2a01b058ef": {
          "model_module": "@jupyter-widgets/base",
          "model_name": "LayoutModel",
          "model_module_version": "1.2.0",
          "state": {
            "_model_module": "@jupyter-widgets/base",
            "_model_module_version": "1.2.0",
            "_model_name": "LayoutModel",
            "_view_count": null,
            "_view_module": "@jupyter-widgets/base",
            "_view_module_version": "1.2.0",
            "_view_name": "LayoutView",
            "align_content": null,
            "align_items": null,
            "align_self": null,
            "border": null,
            "bottom": null,
            "display": null,
            "flex": null,
            "flex_flow": null,
            "grid_area": null,
            "grid_auto_columns": null,
            "grid_auto_flow": null,
            "grid_auto_rows": null,
            "grid_column": null,
            "grid_gap": null,
            "grid_row": null,
            "grid_template_areas": null,
            "grid_template_columns": null,
            "grid_template_rows": null,
            "height": null,
            "justify_content": null,
            "justify_items": null,
            "left": null,
            "margin": null,
            "max_height": null,
            "max_width": null,
            "min_height": null,
            "min_width": null,
            "object_fit": null,
            "object_position": null,
            "order": null,
            "overflow": null,
            "overflow_x": null,
            "overflow_y": null,
            "padding": null,
            "right": null,
            "top": null,
            "visibility": null,
            "width": null
          }
        },
        "c1f443f1c48b4dab84f0e22c1fcb8aec": {
          "model_module": "@jupyter-widgets/controls",
          "model_name": "ProgressStyleModel",
          "model_module_version": "1.5.0",
          "state": {
            "_model_module": "@jupyter-widgets/controls",
            "_model_module_version": "1.5.0",
            "_model_name": "ProgressStyleModel",
            "_view_count": null,
            "_view_module": "@jupyter-widgets/base",
            "_view_module_version": "1.2.0",
            "_view_name": "StyleView",
            "bar_color": null,
            "description_width": ""
          }
        },
        "fc64965795874bfd83b8bdae98a60a55": {
          "model_module": "@jupyter-widgets/base",
          "model_name": "LayoutModel",
          "model_module_version": "1.2.0",
          "state": {
            "_model_module": "@jupyter-widgets/base",
            "_model_module_version": "1.2.0",
            "_model_name": "LayoutModel",
            "_view_count": null,
            "_view_module": "@jupyter-widgets/base",
            "_view_module_version": "1.2.0",
            "_view_name": "LayoutView",
            "align_content": null,
            "align_items": null,
            "align_self": null,
            "border": null,
            "bottom": null,
            "display": null,
            "flex": null,
            "flex_flow": null,
            "grid_area": null,
            "grid_auto_columns": null,
            "grid_auto_flow": null,
            "grid_auto_rows": null,
            "grid_column": null,
            "grid_gap": null,
            "grid_row": null,
            "grid_template_areas": null,
            "grid_template_columns": null,
            "grid_template_rows": null,
            "height": null,
            "justify_content": null,
            "justify_items": null,
            "left": null,
            "margin": null,
            "max_height": null,
            "max_width": null,
            "min_height": null,
            "min_width": null,
            "object_fit": null,
            "object_position": null,
            "order": null,
            "overflow": null,
            "overflow_x": null,
            "overflow_y": null,
            "padding": null,
            "right": null,
            "top": null,
            "visibility": null,
            "width": null
          }
        },
        "02f295e65ddf46eea624e993bf211af8": {
          "model_module": "@jupyter-widgets/controls",
          "model_name": "DescriptionStyleModel",
          "model_module_version": "1.5.0",
          "state": {
            "_model_module": "@jupyter-widgets/controls",
            "_model_module_version": "1.5.0",
            "_model_name": "DescriptionStyleModel",
            "_view_count": null,
            "_view_module": "@jupyter-widgets/base",
            "_view_module_version": "1.2.0",
            "_view_name": "StyleView",
            "description_width": ""
          }
        },
        "33e372ffd7dc40579b831ce3fc9139cd": {
          "model_module": "@jupyter-widgets/controls",
          "model_name": "HBoxModel",
          "model_module_version": "1.5.0",
          "state": {
            "_dom_classes": [],
            "_model_module": "@jupyter-widgets/controls",
            "_model_module_version": "1.5.0",
            "_model_name": "HBoxModel",
            "_view_count": null,
            "_view_module": "@jupyter-widgets/controls",
            "_view_module_version": "1.5.0",
            "_view_name": "HBoxView",
            "box_style": "",
            "children": [
              "IPY_MODEL_300747d489f54637892e3e62f9a7162d",
              "IPY_MODEL_222702044c5842729c71c143a412948d",
              "IPY_MODEL_c4907c24e1114377bc9bb2a859895b3d"
            ],
            "layout": "IPY_MODEL_fcdaff6eccb94548a292feede0d0b0b3"
          }
        },
        "300747d489f54637892e3e62f9a7162d": {
          "model_module": "@jupyter-widgets/controls",
          "model_name": "HTMLModel",
          "model_module_version": "1.5.0",
          "state": {
            "_dom_classes": [],
            "_model_module": "@jupyter-widgets/controls",
            "_model_module_version": "1.5.0",
            "_model_name": "HTMLModel",
            "_view_count": null,
            "_view_module": "@jupyter-widgets/controls",
            "_view_module_version": "1.5.0",
            "_view_name": "HTMLView",
            "description": "",
            "description_tooltip": null,
            "layout": "IPY_MODEL_22c48eaa85234bf09a9bc7235801464e",
            "placeholder": "​",
            "style": "IPY_MODEL_b6f296eb4ff4403fa3f1edd09d008cfe",
            "value": "100%"
          }
        },
        "222702044c5842729c71c143a412948d": {
          "model_module": "@jupyter-widgets/controls",
          "model_name": "FloatProgressModel",
          "model_module_version": "1.5.0",
          "state": {
            "_dom_classes": [],
            "_model_module": "@jupyter-widgets/controls",
            "_model_module_version": "1.5.0",
            "_model_name": "FloatProgressModel",
            "_view_count": null,
            "_view_module": "@jupyter-widgets/controls",
            "_view_module_version": "1.5.0",
            "_view_name": "ProgressView",
            "bar_style": "success",
            "description": "",
            "description_tooltip": null,
            "layout": "IPY_MODEL_097508e509d146c89550a94d62696d77",
            "max": 4422102,
            "min": 0,
            "orientation": "horizontal",
            "style": "IPY_MODEL_3938ff04bec64a6088d2e96206b9149d",
            "value": 4422102
          }
        },
        "c4907c24e1114377bc9bb2a859895b3d": {
          "model_module": "@jupyter-widgets/controls",
          "model_name": "HTMLModel",
          "model_module_version": "1.5.0",
          "state": {
            "_dom_classes": [],
            "_model_module": "@jupyter-widgets/controls",
            "_model_module_version": "1.5.0",
            "_model_name": "HTMLModel",
            "_view_count": null,
            "_view_module": "@jupyter-widgets/controls",
            "_view_module_version": "1.5.0",
            "_view_name": "HTMLView",
            "description": "",
            "description_tooltip": null,
            "layout": "IPY_MODEL_e61fe6a34cd4466e933e5e79eac6f546",
            "placeholder": "​",
            "style": "IPY_MODEL_d5abb55bb14e40968e73bf24bade5961",
            "value": " 4422102/4422102 [00:00&lt;00:00, 51083465.60it/s]"
          }
        },
        "fcdaff6eccb94548a292feede0d0b0b3": {
          "model_module": "@jupyter-widgets/base",
          "model_name": "LayoutModel",
          "model_module_version": "1.2.0",
          "state": {
            "_model_module": "@jupyter-widgets/base",
            "_model_module_version": "1.2.0",
            "_model_name": "LayoutModel",
            "_view_count": null,
            "_view_module": "@jupyter-widgets/base",
            "_view_module_version": "1.2.0",
            "_view_name": "LayoutView",
            "align_content": null,
            "align_items": null,
            "align_self": null,
            "border": null,
            "bottom": null,
            "display": null,
            "flex": null,
            "flex_flow": null,
            "grid_area": null,
            "grid_auto_columns": null,
            "grid_auto_flow": null,
            "grid_auto_rows": null,
            "grid_column": null,
            "grid_gap": null,
            "grid_row": null,
            "grid_template_areas": null,
            "grid_template_columns": null,
            "grid_template_rows": null,
            "height": null,
            "justify_content": null,
            "justify_items": null,
            "left": null,
            "margin": null,
            "max_height": null,
            "max_width": null,
            "min_height": null,
            "min_width": null,
            "object_fit": null,
            "object_position": null,
            "order": null,
            "overflow": null,
            "overflow_x": null,
            "overflow_y": null,
            "padding": null,
            "right": null,
            "top": null,
            "visibility": null,
            "width": null
          }
        },
        "22c48eaa85234bf09a9bc7235801464e": {
          "model_module": "@jupyter-widgets/base",
          "model_name": "LayoutModel",
          "model_module_version": "1.2.0",
          "state": {
            "_model_module": "@jupyter-widgets/base",
            "_model_module_version": "1.2.0",
            "_model_name": "LayoutModel",
            "_view_count": null,
            "_view_module": "@jupyter-widgets/base",
            "_view_module_version": "1.2.0",
            "_view_name": "LayoutView",
            "align_content": null,
            "align_items": null,
            "align_self": null,
            "border": null,
            "bottom": null,
            "display": null,
            "flex": null,
            "flex_flow": null,
            "grid_area": null,
            "grid_auto_columns": null,
            "grid_auto_flow": null,
            "grid_auto_rows": null,
            "grid_column": null,
            "grid_gap": null,
            "grid_row": null,
            "grid_template_areas": null,
            "grid_template_columns": null,
            "grid_template_rows": null,
            "height": null,
            "justify_content": null,
            "justify_items": null,
            "left": null,
            "margin": null,
            "max_height": null,
            "max_width": null,
            "min_height": null,
            "min_width": null,
            "object_fit": null,
            "object_position": null,
            "order": null,
            "overflow": null,
            "overflow_x": null,
            "overflow_y": null,
            "padding": null,
            "right": null,
            "top": null,
            "visibility": null,
            "width": null
          }
        },
        "b6f296eb4ff4403fa3f1edd09d008cfe": {
          "model_module": "@jupyter-widgets/controls",
          "model_name": "DescriptionStyleModel",
          "model_module_version": "1.5.0",
          "state": {
            "_model_module": "@jupyter-widgets/controls",
            "_model_module_version": "1.5.0",
            "_model_name": "DescriptionStyleModel",
            "_view_count": null,
            "_view_module": "@jupyter-widgets/base",
            "_view_module_version": "1.2.0",
            "_view_name": "StyleView",
            "description_width": ""
          }
        },
        "097508e509d146c89550a94d62696d77": {
          "model_module": "@jupyter-widgets/base",
          "model_name": "LayoutModel",
          "model_module_version": "1.2.0",
          "state": {
            "_model_module": "@jupyter-widgets/base",
            "_model_module_version": "1.2.0",
            "_model_name": "LayoutModel",
            "_view_count": null,
            "_view_module": "@jupyter-widgets/base",
            "_view_module_version": "1.2.0",
            "_view_name": "LayoutView",
            "align_content": null,
            "align_items": null,
            "align_self": null,
            "border": null,
            "bottom": null,
            "display": null,
            "flex": null,
            "flex_flow": null,
            "grid_area": null,
            "grid_auto_columns": null,
            "grid_auto_flow": null,
            "grid_auto_rows": null,
            "grid_column": null,
            "grid_gap": null,
            "grid_row": null,
            "grid_template_areas": null,
            "grid_template_columns": null,
            "grid_template_rows": null,
            "height": null,
            "justify_content": null,
            "justify_items": null,
            "left": null,
            "margin": null,
            "max_height": null,
            "max_width": null,
            "min_height": null,
            "min_width": null,
            "object_fit": null,
            "object_position": null,
            "order": null,
            "overflow": null,
            "overflow_x": null,
            "overflow_y": null,
            "padding": null,
            "right": null,
            "top": null,
            "visibility": null,
            "width": null
          }
        },
        "3938ff04bec64a6088d2e96206b9149d": {
          "model_module": "@jupyter-widgets/controls",
          "model_name": "ProgressStyleModel",
          "model_module_version": "1.5.0",
          "state": {
            "_model_module": "@jupyter-widgets/controls",
            "_model_module_version": "1.5.0",
            "_model_name": "ProgressStyleModel",
            "_view_count": null,
            "_view_module": "@jupyter-widgets/base",
            "_view_module_version": "1.2.0",
            "_view_name": "StyleView",
            "bar_color": null,
            "description_width": ""
          }
        },
        "e61fe6a34cd4466e933e5e79eac6f546": {
          "model_module": "@jupyter-widgets/base",
          "model_name": "LayoutModel",
          "model_module_version": "1.2.0",
          "state": {
            "_model_module": "@jupyter-widgets/base",
            "_model_module_version": "1.2.0",
            "_model_name": "LayoutModel",
            "_view_count": null,
            "_view_module": "@jupyter-widgets/base",
            "_view_module_version": "1.2.0",
            "_view_name": "LayoutView",
            "align_content": null,
            "align_items": null,
            "align_self": null,
            "border": null,
            "bottom": null,
            "display": null,
            "flex": null,
            "flex_flow": null,
            "grid_area": null,
            "grid_auto_columns": null,
            "grid_auto_flow": null,
            "grid_auto_rows": null,
            "grid_column": null,
            "grid_gap": null,
            "grid_row": null,
            "grid_template_areas": null,
            "grid_template_columns": null,
            "grid_template_rows": null,
            "height": null,
            "justify_content": null,
            "justify_items": null,
            "left": null,
            "margin": null,
            "max_height": null,
            "max_width": null,
            "min_height": null,
            "min_width": null,
            "object_fit": null,
            "object_position": null,
            "order": null,
            "overflow": null,
            "overflow_x": null,
            "overflow_y": null,
            "padding": null,
            "right": null,
            "top": null,
            "visibility": null,
            "width": null
          }
        },
        "d5abb55bb14e40968e73bf24bade5961": {
          "model_module": "@jupyter-widgets/controls",
          "model_name": "DescriptionStyleModel",
          "model_module_version": "1.5.0",
          "state": {
            "_model_module": "@jupyter-widgets/controls",
            "_model_module_version": "1.5.0",
            "_model_name": "DescriptionStyleModel",
            "_view_count": null,
            "_view_module": "@jupyter-widgets/base",
            "_view_module_version": "1.2.0",
            "_view_name": "StyleView",
            "description_width": ""
          }
        },
        "d12126bcf5a743c3a6fe590abfad42f5": {
          "model_module": "@jupyter-widgets/controls",
          "model_name": "HBoxModel",
          "model_module_version": "1.5.0",
          "state": {
            "_dom_classes": [],
            "_model_module": "@jupyter-widgets/controls",
            "_model_module_version": "1.5.0",
            "_model_name": "HBoxModel",
            "_view_count": null,
            "_view_module": "@jupyter-widgets/controls",
            "_view_module_version": "1.5.0",
            "_view_name": "HBoxView",
            "box_style": "",
            "children": [
              "IPY_MODEL_626eb1f9137e4fb5993fb3d9997ab306",
              "IPY_MODEL_4d2166472a8c4cf596e0b1f2fbf4f256",
              "IPY_MODEL_c25fb0d51f5d4f66852a0ce830317a21"
            ],
            "layout": "IPY_MODEL_9c0daf6b4d194b2fa46d16647bb83d06"
          }
        },
        "626eb1f9137e4fb5993fb3d9997ab306": {
          "model_module": "@jupyter-widgets/controls",
          "model_name": "HTMLModel",
          "model_module_version": "1.5.0",
          "state": {
            "_dom_classes": [],
            "_model_module": "@jupyter-widgets/controls",
            "_model_module_version": "1.5.0",
            "_model_name": "HTMLModel",
            "_view_count": null,
            "_view_module": "@jupyter-widgets/controls",
            "_view_module_version": "1.5.0",
            "_view_name": "HTMLView",
            "description": "",
            "description_tooltip": null,
            "layout": "IPY_MODEL_50a2e3fc761c459ab0ecb6e0c183ea7c",
            "placeholder": "​",
            "style": "IPY_MODEL_2ba48d98f51542d1bb1b744f8d52353b",
            "value": "100%"
          }
        },
        "4d2166472a8c4cf596e0b1f2fbf4f256": {
          "model_module": "@jupyter-widgets/controls",
          "model_name": "FloatProgressModel",
          "model_module_version": "1.5.0",
          "state": {
            "_dom_classes": [],
            "_model_module": "@jupyter-widgets/controls",
            "_model_module_version": "1.5.0",
            "_model_name": "FloatProgressModel",
            "_view_count": null,
            "_view_module": "@jupyter-widgets/controls",
            "_view_module_version": "1.5.0",
            "_view_name": "ProgressView",
            "bar_style": "success",
            "description": "",
            "description_tooltip": null,
            "layout": "IPY_MODEL_fe29c93db9e146c58c08cbeca9eba2be",
            "max": 5148,
            "min": 0,
            "orientation": "horizontal",
            "style": "IPY_MODEL_4cebd3b4ec354d289cfaa7ddfd686d2c",
            "value": 5148
          }
        },
        "c25fb0d51f5d4f66852a0ce830317a21": {
          "model_module": "@jupyter-widgets/controls",
          "model_name": "HTMLModel",
          "model_module_version": "1.5.0",
          "state": {
            "_dom_classes": [],
            "_model_module": "@jupyter-widgets/controls",
            "_model_module_version": "1.5.0",
            "_model_name": "HTMLModel",
            "_view_count": null,
            "_view_module": "@jupyter-widgets/controls",
            "_view_module_version": "1.5.0",
            "_view_name": "HTMLView",
            "description": "",
            "description_tooltip": null,
            "layout": "IPY_MODEL_fe2252203aff4215b8805707521d9466",
            "placeholder": "​",
            "style": "IPY_MODEL_5a7b1063519346a78c6292e8abaf7839",
            "value": " 5148/5148 [00:00&lt;00:00, 173135.74it/s]"
          }
        },
        "9c0daf6b4d194b2fa46d16647bb83d06": {
          "model_module": "@jupyter-widgets/base",
          "model_name": "LayoutModel",
          "model_module_version": "1.2.0",
          "state": {
            "_model_module": "@jupyter-widgets/base",
            "_model_module_version": "1.2.0",
            "_model_name": "LayoutModel",
            "_view_count": null,
            "_view_module": "@jupyter-widgets/base",
            "_view_module_version": "1.2.0",
            "_view_name": "LayoutView",
            "align_content": null,
            "align_items": null,
            "align_self": null,
            "border": null,
            "bottom": null,
            "display": null,
            "flex": null,
            "flex_flow": null,
            "grid_area": null,
            "grid_auto_columns": null,
            "grid_auto_flow": null,
            "grid_auto_rows": null,
            "grid_column": null,
            "grid_gap": null,
            "grid_row": null,
            "grid_template_areas": null,
            "grid_template_columns": null,
            "grid_template_rows": null,
            "height": null,
            "justify_content": null,
            "justify_items": null,
            "left": null,
            "margin": null,
            "max_height": null,
            "max_width": null,
            "min_height": null,
            "min_width": null,
            "object_fit": null,
            "object_position": null,
            "order": null,
            "overflow": null,
            "overflow_x": null,
            "overflow_y": null,
            "padding": null,
            "right": null,
            "top": null,
            "visibility": null,
            "width": null
          }
        },
        "50a2e3fc761c459ab0ecb6e0c183ea7c": {
          "model_module": "@jupyter-widgets/base",
          "model_name": "LayoutModel",
          "model_module_version": "1.2.0",
          "state": {
            "_model_module": "@jupyter-widgets/base",
            "_model_module_version": "1.2.0",
            "_model_name": "LayoutModel",
            "_view_count": null,
            "_view_module": "@jupyter-widgets/base",
            "_view_module_version": "1.2.0",
            "_view_name": "LayoutView",
            "align_content": null,
            "align_items": null,
            "align_self": null,
            "border": null,
            "bottom": null,
            "display": null,
            "flex": null,
            "flex_flow": null,
            "grid_area": null,
            "grid_auto_columns": null,
            "grid_auto_flow": null,
            "grid_auto_rows": null,
            "grid_column": null,
            "grid_gap": null,
            "grid_row": null,
            "grid_template_areas": null,
            "grid_template_columns": null,
            "grid_template_rows": null,
            "height": null,
            "justify_content": null,
            "justify_items": null,
            "left": null,
            "margin": null,
            "max_height": null,
            "max_width": null,
            "min_height": null,
            "min_width": null,
            "object_fit": null,
            "object_position": null,
            "order": null,
            "overflow": null,
            "overflow_x": null,
            "overflow_y": null,
            "padding": null,
            "right": null,
            "top": null,
            "visibility": null,
            "width": null
          }
        },
        "2ba48d98f51542d1bb1b744f8d52353b": {
          "model_module": "@jupyter-widgets/controls",
          "model_name": "DescriptionStyleModel",
          "model_module_version": "1.5.0",
          "state": {
            "_model_module": "@jupyter-widgets/controls",
            "_model_module_version": "1.5.0",
            "_model_name": "DescriptionStyleModel",
            "_view_count": null,
            "_view_module": "@jupyter-widgets/base",
            "_view_module_version": "1.2.0",
            "_view_name": "StyleView",
            "description_width": ""
          }
        },
        "fe29c93db9e146c58c08cbeca9eba2be": {
          "model_module": "@jupyter-widgets/base",
          "model_name": "LayoutModel",
          "model_module_version": "1.2.0",
          "state": {
            "_model_module": "@jupyter-widgets/base",
            "_model_module_version": "1.2.0",
            "_model_name": "LayoutModel",
            "_view_count": null,
            "_view_module": "@jupyter-widgets/base",
            "_view_module_version": "1.2.0",
            "_view_name": "LayoutView",
            "align_content": null,
            "align_items": null,
            "align_self": null,
            "border": null,
            "bottom": null,
            "display": null,
            "flex": null,
            "flex_flow": null,
            "grid_area": null,
            "grid_auto_columns": null,
            "grid_auto_flow": null,
            "grid_auto_rows": null,
            "grid_column": null,
            "grid_gap": null,
            "grid_row": null,
            "grid_template_areas": null,
            "grid_template_columns": null,
            "grid_template_rows": null,
            "height": null,
            "justify_content": null,
            "justify_items": null,
            "left": null,
            "margin": null,
            "max_height": null,
            "max_width": null,
            "min_height": null,
            "min_width": null,
            "object_fit": null,
            "object_position": null,
            "order": null,
            "overflow": null,
            "overflow_x": null,
            "overflow_y": null,
            "padding": null,
            "right": null,
            "top": null,
            "visibility": null,
            "width": null
          }
        },
        "4cebd3b4ec354d289cfaa7ddfd686d2c": {
          "model_module": "@jupyter-widgets/controls",
          "model_name": "ProgressStyleModel",
          "model_module_version": "1.5.0",
          "state": {
            "_model_module": "@jupyter-widgets/controls",
            "_model_module_version": "1.5.0",
            "_model_name": "ProgressStyleModel",
            "_view_count": null,
            "_view_module": "@jupyter-widgets/base",
            "_view_module_version": "1.2.0",
            "_view_name": "StyleView",
            "bar_color": null,
            "description_width": ""
          }
        },
        "fe2252203aff4215b8805707521d9466": {
          "model_module": "@jupyter-widgets/base",
          "model_name": "LayoutModel",
          "model_module_version": "1.2.0",
          "state": {
            "_model_module": "@jupyter-widgets/base",
            "_model_module_version": "1.2.0",
            "_model_name": "LayoutModel",
            "_view_count": null,
            "_view_module": "@jupyter-widgets/base",
            "_view_module_version": "1.2.0",
            "_view_name": "LayoutView",
            "align_content": null,
            "align_items": null,
            "align_self": null,
            "border": null,
            "bottom": null,
            "display": null,
            "flex": null,
            "flex_flow": null,
            "grid_area": null,
            "grid_auto_columns": null,
            "grid_auto_flow": null,
            "grid_auto_rows": null,
            "grid_column": null,
            "grid_gap": null,
            "grid_row": null,
            "grid_template_areas": null,
            "grid_template_columns": null,
            "grid_template_rows": null,
            "height": null,
            "justify_content": null,
            "justify_items": null,
            "left": null,
            "margin": null,
            "max_height": null,
            "max_width": null,
            "min_height": null,
            "min_width": null,
            "object_fit": null,
            "object_position": null,
            "order": null,
            "overflow": null,
            "overflow_x": null,
            "overflow_y": null,
            "padding": null,
            "right": null,
            "top": null,
            "visibility": null,
            "width": null
          }
        },
        "5a7b1063519346a78c6292e8abaf7839": {
          "model_module": "@jupyter-widgets/controls",
          "model_name": "DescriptionStyleModel",
          "model_module_version": "1.5.0",
          "state": {
            "_model_module": "@jupyter-widgets/controls",
            "_model_module_version": "1.5.0",
            "_model_name": "DescriptionStyleModel",
            "_view_count": null,
            "_view_module": "@jupyter-widgets/base",
            "_view_module_version": "1.2.0",
            "_view_name": "StyleView",
            "description_width": ""
          }
        }
      }
    }
  },
  "cells": [
    {
      "cell_type": "markdown",
      "source": [
        "# **Загрузка набора данных**"
      ],
      "metadata": {
        "id": "2jOabPl1_1uW"
      }
    },
    {
      "cell_type": "code",
      "source": [
        "import torch\n",
        "from torch.utils.data import Dataset\n",
        "from torchvision import datasets\n",
        "from torchvision.transforms import ToTensor\n",
        "import matplotlib.pyplot as plt\n",
        "from torch.utils.data import DataLoader\n",
        "import pandas as pd\n",
        "\n",
        "training_data = datasets.FashionMNIST(\n",
        "    root=\"data\",\n",
        "    train=True,\n",
        "    download=True,\n",
        "    transform=ToTensor()\n",
        ")\n",
        "\n",
        "test_data = datasets.FashionMNIST(\n",
        "    root=\"data\",\n",
        "    train=False,\n",
        "    download=True,\n",
        "    transform=ToTensor()\n",
        ")"
      ],
      "metadata": {
        "id": "kwKVbq0j-em-",
        "colab": {
          "base_uri": "https://localhost:8080/",
          "height": 423,
          "referenced_widgets": [
            "cb4d02921f1a4f20825ecbb481e8f18a",
            "74dd10b16a634ab5a457ec2fb3a0f7a6",
            "91049386afc34f51a89adf3bd2e4b212",
            "745321fa21494321927c889efe587181",
            "263450548710434584fcf5d73a9656a0",
            "fa03ed2f5b494603942758b2edf5a51c",
            "ac123ecb08ec4356a75170db7cfe7b42",
            "85524ec804994dc090be09082e669e18",
            "14e6f2d93db84f56bdd040e0d5f28e31",
            "fb6667168e18406eb03ebd743d365718",
            "bbc641868f0a41db8ca7ed75a66d3ee5",
            "f312302d44ef4f569f7b7eefb8818d05",
            "928b5a92be054a6d8185c74afb5f3dba",
            "178ebdc45be241dfabe86d2ad01f51ea",
            "8398d456251f46219d5a046e70e545e3",
            "990e11c34f274d449de0849d00d93b26",
            "d82cf740fffb41a3b224d0161c0d16e5",
            "f6578ff27b85486e94bc64ed2eef1d55",
            "9b69514d231e4282b1f1df2a01b058ef",
            "c1f443f1c48b4dab84f0e22c1fcb8aec",
            "fc64965795874bfd83b8bdae98a60a55",
            "02f295e65ddf46eea624e993bf211af8",
            "33e372ffd7dc40579b831ce3fc9139cd",
            "300747d489f54637892e3e62f9a7162d",
            "222702044c5842729c71c143a412948d",
            "c4907c24e1114377bc9bb2a859895b3d",
            "fcdaff6eccb94548a292feede0d0b0b3",
            "22c48eaa85234bf09a9bc7235801464e",
            "b6f296eb4ff4403fa3f1edd09d008cfe",
            "097508e509d146c89550a94d62696d77",
            "3938ff04bec64a6088d2e96206b9149d",
            "e61fe6a34cd4466e933e5e79eac6f546",
            "d5abb55bb14e40968e73bf24bade5961",
            "d12126bcf5a743c3a6fe590abfad42f5",
            "626eb1f9137e4fb5993fb3d9997ab306",
            "4d2166472a8c4cf596e0b1f2fbf4f256",
            "c25fb0d51f5d4f66852a0ce830317a21",
            "9c0daf6b4d194b2fa46d16647bb83d06",
            "50a2e3fc761c459ab0ecb6e0c183ea7c",
            "2ba48d98f51542d1bb1b744f8d52353b",
            "fe29c93db9e146c58c08cbeca9eba2be",
            "4cebd3b4ec354d289cfaa7ddfd686d2c",
            "fe2252203aff4215b8805707521d9466",
            "5a7b1063519346a78c6292e8abaf7839"
          ]
        },
        "outputId": "ba6601de-c968-4920-aa74-26f6eb00f658"
      },
      "execution_count": null,
      "outputs": [
        {
          "output_type": "stream",
          "name": "stdout",
          "text": [
            "Downloading http://fashion-mnist.s3-website.eu-central-1.amazonaws.com/train-images-idx3-ubyte.gz\n",
            "Downloading http://fashion-mnist.s3-website.eu-central-1.amazonaws.com/train-images-idx3-ubyte.gz to data/FashionMNIST/raw/train-images-idx3-ubyte.gz\n"
          ]
        },
        {
          "output_type": "display_data",
          "data": {
            "text/plain": [
              "  0%|          | 0/26421880 [00:00<?, ?it/s]"
            ],
            "application/vnd.jupyter.widget-view+json": {
              "version_major": 2,
              "version_minor": 0,
              "model_id": "cb4d02921f1a4f20825ecbb481e8f18a"
            }
          },
          "metadata": {}
        },
        {
          "output_type": "stream",
          "name": "stdout",
          "text": [
            "Extracting data/FashionMNIST/raw/train-images-idx3-ubyte.gz to data/FashionMNIST/raw\n",
            "\n",
            "Downloading http://fashion-mnist.s3-website.eu-central-1.amazonaws.com/train-labels-idx1-ubyte.gz\n",
            "Downloading http://fashion-mnist.s3-website.eu-central-1.amazonaws.com/train-labels-idx1-ubyte.gz to data/FashionMNIST/raw/train-labels-idx1-ubyte.gz\n"
          ]
        },
        {
          "output_type": "display_data",
          "data": {
            "text/plain": [
              "  0%|          | 0/29515 [00:00<?, ?it/s]"
            ],
            "application/vnd.jupyter.widget-view+json": {
              "version_major": 2,
              "version_minor": 0,
              "model_id": "f312302d44ef4f569f7b7eefb8818d05"
            }
          },
          "metadata": {}
        },
        {
          "output_type": "stream",
          "name": "stdout",
          "text": [
            "Extracting data/FashionMNIST/raw/train-labels-idx1-ubyte.gz to data/FashionMNIST/raw\n",
            "\n",
            "Downloading http://fashion-mnist.s3-website.eu-central-1.amazonaws.com/t10k-images-idx3-ubyte.gz\n",
            "Downloading http://fashion-mnist.s3-website.eu-central-1.amazonaws.com/t10k-images-idx3-ubyte.gz to data/FashionMNIST/raw/t10k-images-idx3-ubyte.gz\n"
          ]
        },
        {
          "output_type": "display_data",
          "data": {
            "text/plain": [
              "  0%|          | 0/4422102 [00:00<?, ?it/s]"
            ],
            "application/vnd.jupyter.widget-view+json": {
              "version_major": 2,
              "version_minor": 0,
              "model_id": "33e372ffd7dc40579b831ce3fc9139cd"
            }
          },
          "metadata": {}
        },
        {
          "output_type": "stream",
          "name": "stdout",
          "text": [
            "Extracting data/FashionMNIST/raw/t10k-images-idx3-ubyte.gz to data/FashionMNIST/raw\n",
            "\n",
            "Downloading http://fashion-mnist.s3-website.eu-central-1.amazonaws.com/t10k-labels-idx1-ubyte.gz\n",
            "Downloading http://fashion-mnist.s3-website.eu-central-1.amazonaws.com/t10k-labels-idx1-ubyte.gz to data/FashionMNIST/raw/t10k-labels-idx1-ubyte.gz\n"
          ]
        },
        {
          "output_type": "display_data",
          "data": {
            "text/plain": [
              "  0%|          | 0/5148 [00:00<?, ?it/s]"
            ],
            "application/vnd.jupyter.widget-view+json": {
              "version_major": 2,
              "version_minor": 0,
              "model_id": "d12126bcf5a743c3a6fe590abfad42f5"
            }
          },
          "metadata": {}
        },
        {
          "output_type": "stream",
          "name": "stdout",
          "text": [
            "Extracting data/FashionMNIST/raw/t10k-labels-idx1-ubyte.gz to data/FashionMNIST/raw\n",
            "\n"
          ]
        }
      ]
    },
    {
      "cell_type": "markdown",
      "source": [
        "# **Визуализация картинок из чисел**"
      ],
      "metadata": {
        "id": "DXL4sg3mADXR"
      }
    },
    {
      "cell_type": "code",
      "source": [
        "labels_map = {\n",
        "    0: \"T-Shirt\",\n",
        "    1: \"Trouser\",\n",
        "    2: \"Pullover\",\n",
        "    3: \"Dress\",\n",
        "    4: \"Coat\",\n",
        "    5: \"Sandal\",\n",
        "    6: \"Shirt\",\n",
        "    7: \"Sneaker\",\n",
        "    8: \"Bag\",\n",
        "    9: \"Ankle Boot\",\n",
        "}\n",
        "figure = plt.figure(figsize=(8, 8))\n",
        "cols, rows = 3, 3\n",
        "for i in range(1, cols * rows + 1):\n",
        "    sample_idx = torch.randint(len(training_data), size=(1,)).item() # рэндомный номер картинка 1 из 60000\n",
        "    img, label = training_data[sample_idx] # img - матрица картинки вытаскивается, label - метка\n",
        "    figure.add_subplot(rows, cols, i) # вставляет картинку в зависимости от i\n",
        "    plt.title(labels_map[label]) # доступ к названию предмета по метке\n",
        "    plt.axis(\"off\") # убирает оси\n",
        "    plt.imshow(img.squeeze(), cmap=\"gray\")\n",
        "plt.show()"
      ],
      "metadata": {
        "colab": {
          "base_uri": "https://localhost:8080/",
          "height": 482
        },
        "id": "U46IswQX-ekT",
        "outputId": "f48906c3-4f20-4efe-ad07-fc02c29f8845"
      },
      "execution_count": null,
      "outputs": [
        {
          "output_type": "display_data",
          "data": {
            "text/plain": [
              "<Figure size 576x576 with 9 Axes>"
            ],
            "image/png": "[encoded data removed]"
          },
          "metadata": {
            "needs_background": "light"
          }
        }
      ]
    },
    {
      "cell_type": "code",
      "source": [
        "plt.imshow(training_data[202][0].squeeze(), cmap=\"gray\") # смотрим картинки"
      ],
      "metadata": {
        "id": "l64LNCUqh24n",
        "colab": {
          "base_uri": "https://localhost:8080/",
          "height": 282
        },
        "outputId": "f6b06fca-1c65-43e9-dc39-fd505a1e6be9"
      },
      "execution_count": null,
      "outputs": [
        {
          "output_type": "execute_result",
          "data": {
            "text/plain": [
              "<matplotlib.image.AxesImage at 0x7f20d00b81d0>"
            ]
          },
          "metadata": {},
          "execution_count": 3
        },
        {
          "output_type": "display_data",
          "data": {
            "text/plain": [
              "<Figure size 432x288 with 1 Axes>"
            ],
            "image/png": "[encoded data removed]"
          },
          "metadata": {
            "needs_background": "light"
          }
        }
      ]
    },
    {
      "cell_type": "markdown",
      "source": [
        "_________________________________________________________________________\n",
        "**разъяснения:**"
      ],
      "metadata": {
        "id": "3U1VRaquzyNl"
      }
    },
    {
      "cell_type": "code",
      "source": [
        "print(torch.randint(len(training_data), size=(1,)))\n",
        "print(torch.randint(len(training_data), size=(1,)).item())"
      ],
      "metadata": {
        "colab": {
          "base_uri": "https://localhost:8080/"
        },
        "id": "OYvyTCACT_cf",
        "outputId": "b1fd16f3-1151-4f6c-e877-2ef337e1eb48"
      },
      "execution_count": null,
      "outputs": [
        {
          "output_type": "stream",
          "name": "stdout",
          "text": [
            "tensor([5064])\n",
            "37607\n"
          ]
        }
      ]
    },
    {
      "cell_type": "code",
      "source": [
        "torch.randint(len(training_data), size=(2,2))"
      ],
      "metadata": {
        "colab": {
          "base_uri": "https://localhost:8080/"
        },
        "id": "690xzfx8UFMy",
        "outputId": "a1c52dfd-962c-44e9-d2e7-99b6315e539a"
      },
      "execution_count": null,
      "outputs": [
        {
          "output_type": "execute_result",
          "data": {
            "text/plain": [
              "tensor([[53228, 17455],\n",
              "        [ 6307, 50305]])"
            ]
          },
          "metadata": {},
          "execution_count": 5
        }
      ]
    },
    {
      "cell_type": "code",
      "source": [
        "training_data[4] # комплект изображение + метка"
      ],
      "metadata": {
        "id": "Sp_x8EtJY6YL"
      },
      "execution_count": null,
      "outputs": []
    },
    {
      "cell_type": "code",
      "source": [
        "training_data[156][0].squeeze() # показывает матрицу изображения, снижая (.squeeze()) размерность до 2-х"
      ],
      "metadata": {
        "id": "VLVuVRJrjNa5"
      },
      "execution_count": null,
      "outputs": []
    },
    {
      "cell_type": "code",
      "source": [
        "training_data[156][1] # смотрим метку"
      ],
      "metadata": {
        "colab": {
          "base_uri": "https://localhost:8080/"
        },
        "id": "WyKFVEHSpjYF",
        "outputId": "4ace4c8f-ac59-4738-fc5c-9c597e67a86f"
      },
      "execution_count": null,
      "outputs": [
        {
          "output_type": "execute_result",
          "data": {
            "text/plain": [
              "8"
            ]
          },
          "metadata": {},
          "execution_count": 8
        }
      ]
    },
    {
      "cell_type": "code",
      "source": [
        "img, label = training_data[50496] # img - матрица картинки вытаскивается, label - метка"
      ],
      "metadata": {
        "id": "ZWmASw7tstB5"
      },
      "execution_count": null,
      "outputs": []
    },
    {
      "cell_type": "code",
      "source": [
        "label"
      ],
      "metadata": {
        "colab": {
          "base_uri": "https://localhost:8080/"
        },
        "id": "5yDTZQt4s2JF",
        "outputId": "71c6df49-d7ae-402d-9e37-c096ff26b5b9"
      },
      "execution_count": null,
      "outputs": [
        {
          "output_type": "execute_result",
          "data": {
            "text/plain": [
              "4"
            ]
          },
          "metadata": {},
          "execution_count": 10
        }
      ]
    },
    {
      "cell_type": "markdown",
      "source": [
        "# **Создание пользовательского набора данных для ваших файлов**"
      ],
      "metadata": {
        "id": "SGdwA8n1AIXY"
      }
    },
    {
      "cell_type": "markdown",
      "source": [
        "изображения FashionMNIST хранятся в каталоге img_dir, а их ярлыки хранятся отдельно в файле CSV annotations_file"
      ],
      "metadata": {
        "id": "5QLiWbD-0Ytc"
      }
    },
    {
      "cell_type": "code",
      "source": [
        "import os\n",
        "import pandas as pd\n",
        "from torchvision.io import read_image\n",
        "\n",
        "class CustomImageDataset(Dataset):\n",
        "    def __init__(self, annotations_file, img_dir, transform=None, target_transform=None):\n",
        "        self.img_labels = pd.read_csv(annotations_file)\n",
        "        self.img_dir = img_dir\n",
        "        self.transform = transform\n",
        "        self.target_transform = target_transform\n",
        "\n",
        "    def __len__(self):\n",
        "        return len(self.img_labels)\n",
        "\n",
        "    def __getitem__(self, idx):\n",
        "        img_path = os.path.join(self.img_dir, self.img_labels.iloc[idx, 0])\n",
        "        image = read_image(img_path)\n",
        "        label = self.img_labels.iloc[idx, 1]\n",
        "        if self.transform:\n",
        "            image = self.transform(image)\n",
        "        if self.target_transform:\n",
        "            label = self.target_transform(label)\n",
        "        return image, label"
      ],
      "metadata": {
        "id": "t8-Oh8G7-ehi"
      },
      "execution_count": null,
      "outputs": []
    },
    {
      "cell_type": "markdown",
      "source": [
        "# **Подготовка данных для обучения с помощью загрузчиков данных**"
      ],
      "metadata": {
        "id": "oVc605eiAXv-"
      }
    },
    {
      "cell_type": "code",
      "source": [
        "train_dataloader = DataLoader(training_data, batch_size=64, shuffle=True)\n",
        "test_dataloader = DataLoader(test_data, batch_size=64, shuffle=True)"
      ],
      "metadata": {
        "id": "8WHuRxny-ee2"
      },
      "execution_count": null,
      "outputs": []
    },
    {
      "cell_type": "markdown",
      "source": [
        "# **Выполните итерацию через загрузчик данных**"
      ],
      "metadata": {
        "id": "vMyHLSD-Acej"
      }
    },
    {
      "cell_type": "markdown",
      "source": [
        "**train_features, train_labels = next(iter(train_dataloader))** - попарно итерирует картинку и метку (разделяем набор картинок и набор меток)"
      ],
      "metadata": {
        "id": "ygFt8iQ559yX"
      }
    },
    {
      "cell_type": "code",
      "source": [
        "# Display image and label.\n",
        "train_features, train_labels = next(iter(train_dataloader)) # попарно итерирует картинку и метку\n",
        "                                                            #(разделяем набор картинок и набор меток)\n",
        "print(f\"Feature batch shape: {train_features.size()}\")\n",
        "print(f\"Labels batch shape: {train_labels.size()}\")\n",
        "img = train_features[0].squeeze()\n",
        "label = train_labels[0]\n",
        "plt.imshow(img, cmap=\"gray\")\n",
        "plt.show()\n",
        "print(f\"Label: {label}\")"
      ],
      "metadata": {
        "colab": {
          "base_uri": "https://localhost:8080/",
          "height": 317
        },
        "id": "zZrtBh3w-eby",
        "outputId": "16d5fb86-7806-44fe-d1bb-1215751addbb"
      },
      "execution_count": null,
      "outputs": [
        {
          "output_type": "stream",
          "name": "stdout",
          "text": [
            "Feature batch shape: torch.Size([64, 1, 28, 28])\n",
            "Labels batch shape: torch.Size([64])\n"
          ]
        },
        {
          "output_type": "display_data",
          "data": {
            "text/plain": [
              "<Figure size 432x288 with 1 Axes>"
            ],
            "image/png": "[encoded data removed]"
          },
          "metadata": {
            "needs_background": "light"
          }
        },
        {
          "output_type": "stream",
          "name": "stdout",
          "text": [
            "Label: 5\n"
          ]
        }
      ]
    },
    {
      "cell_type": "markdown",
      "source": [
        "_________________________________________________________________________\n",
        "**разъяснения:**"
      ],
      "metadata": {
        "id": "Ihomq5NX6qf1"
      }
    },
    {
      "cell_type": "code",
      "source": [
        "train_labels"
      ],
      "metadata": {
        "colab": {
          "base_uri": "https://localhost:8080/"
        },
        "id": "0OmUHFV14UuY",
        "outputId": "5608e796-58c5-46ce-f97c-1d6196e9c424"
      },
      "execution_count": null,
      "outputs": [
        {
          "output_type": "execute_result",
          "data": {
            "text/plain": [
              "tensor([5, 3, 6, 8, 0, 5, 3, 2, 9, 1, 6, 4, 8, 7, 0, 0, 8, 3, 2, 4, 0, 3, 7, 0,\n",
              "        1, 3, 7, 1, 2, 7, 8, 1, 8, 2, 5, 2, 9, 5, 1, 4, 7, 2, 1, 3, 2, 1, 5, 2,\n",
              "        8, 6, 2, 4, 8, 7, 4, 9, 0, 9, 2, 4, 1, 7, 6, 2])"
            ]
          },
          "metadata": {},
          "execution_count": 9
        }
      ]
    },
    {
      "cell_type": "code",
      "source": [
        "plt.imshow(train_features[4].squeeze(), cmap=\"gray\")\n",
        "plt.axis(\"off\")\n",
        "plt.show()"
      ],
      "metadata": {
        "colab": {
          "base_uri": "https://localhost:8080/",
          "height": 248
        },
        "id": "00sRw6jh5hEx",
        "outputId": "f3f04141-ced8-4589-c9ab-abe19d364c16"
      },
      "execution_count": null,
      "outputs": [
        {
          "output_type": "display_data",
          "data": {
            "text/plain": [
              "<Figure size 432x288 with 1 Axes>"
            ],
            "image/png": "[encoded data removed]"
          },
          "metadata": {
            "needs_background": "light"
          }
        }
      ]
    },
    {
      "cell_type": "markdown",
      "source": [
        "# **ПОСТРОЕНИЕ НЕЙРОННОЙ СЕТИ**"
      ],
      "metadata": {
        "id": "go9D5Lv6Bytq"
      }
    },
    {
      "cell_type": "code",
      "source": [
        "import os\n",
        "import torch\n",
        "from torch import nn\n",
        "from torch.utils.data import DataLoader\n",
        "from torchvision import datasets, transforms\n",
        "import matplotlib.pyplot as plt"
      ],
      "metadata": {
        "id": "OLmnKqwj_U-c"
      },
      "execution_count": null,
      "outputs": []
    },
    {
      "cell_type": "markdown",
      "source": [
        "# **Получить устройство для обучения**"
      ],
      "metadata": {
        "id": "Pg5JlI8tB8oB"
      }
    },
    {
      "cell_type": "markdown",
      "source": [
        "**Подключаем модуль CUDA**"
      ],
      "metadata": {
        "id": "z5UA21xoCENn"
      }
    },
    {
      "cell_type": "code",
      "source": [
        "device = \"cuda\" if torch.cuda.is_available() else \"cpu\"\n",
        "print(f\"Using {device} device\")"
      ],
      "metadata": {
        "colab": {
          "base_uri": "https://localhost:8080/"
        },
        "id": "N5zHx5GU_U7k",
        "outputId": "a5fa4f5e-2d0f-4e75-ceef-b949e8a62321"
      },
      "execution_count": null,
      "outputs": [
        {
          "output_type": "stream",
          "name": "stdout",
          "text": [
            "Using cuda device\n"
          ]
        }
      ]
    },
    {
      "cell_type": "markdown",
      "source": [
        "# **Определите класс**"
      ],
      "metadata": {
        "id": "9-86yUQBCWxi"
      }
    },
    {
      "cell_type": "code",
      "source": [
        "class NeuralNetwork(nn.Module):\n",
        "    def __init__(self):\n",
        "        super(NeuralNetwork, self).__init__()\n",
        "        self.flatten = nn.Flatten()\n",
        "        self.linear_relu_stack = nn.Sequential(\n",
        "            nn.Linear(28*28, 512),\n",
        "            nn.ReLU(),\n",
        "            nn.Linear(512, 512),\n",
        "            nn.ReLU(),\n",
        "            nn.Linear(512, 10),\n",
        "        )\n",
        "    def forward(self, x):\n",
        "        x = self.flatten(x)\n",
        "        logits = self.linear_relu_stack(x)\n",
        "        return logits"
      ],
      "metadata": {
        "id": "7YRSZU98_U4u"
      },
      "execution_count": null,
      "outputs": []
    },
    {
      "cell_type": "markdown",
      "source": [
        "**Мы создаем экземпляр NeuralNetwork, перемещаем его в device, и печатаем его структуру.**"
      ],
      "metadata": {
        "id": "64d_AdAjCmWc"
      }
    },
    {
      "cell_type": "code",
      "source": [
        "model = NeuralNetwork().to(device)\n",
        "print(model)"
      ],
      "metadata": {
        "colab": {
          "base_uri": "https://localhost:8080/"
        },
        "id": "nSKlY58Z_U2F",
        "outputId": "de3c9cb7-b720-4489-c442-6cadae5ae68c"
      },
      "execution_count": null,
      "outputs": [
        {
          "output_type": "stream",
          "name": "stdout",
          "text": [
            "NeuralNetwork(\n",
            "  (flatten): Flatten(start_dim=1, end_dim=-1)\n",
            "  (linear_relu_stack): Sequential(\n",
            "    (0): Linear(in_features=784, out_features=512, bias=True)\n",
            "    (1): ReLU()\n",
            "    (2): Linear(in_features=512, out_features=512, bias=True)\n",
            "    (3): ReLU()\n",
            "    (4): Linear(in_features=512, out_features=10, bias=True)\n",
            "  )\n",
            ")\n"
          ]
        }
      ]
    },
    {
      "cell_type": "markdown",
      "source": [
        "# **Предсказание:**"
      ],
      "metadata": {
        "id": "st25QcPCHWPt"
      }
    },
    {
      "cell_type": "code",
      "source": [
        "X = torch.rand(1, 28, 28, device=device)\n",
        "logits = model(X)\n",
        "pred_probab = nn.Softmax(dim=1)(logits)\n",
        "y_pred = pred_probab.argmax(1)\n",
        "print(f\"Predicted class: {y_pred}\")"
      ],
      "metadata": {
        "colab": {
          "base_uri": "https://localhost:8080/"
        },
        "id": "6nYcsoLm_UzN",
        "outputId": "3fe7ff08-043c-4a4a-d91c-52d704cb7cb8"
      },
      "execution_count": null,
      "outputs": [
        {
          "output_type": "stream",
          "name": "stdout",
          "text": [
            "Predicted class: tensor([5], device='cuda:0')\n"
          ]
        }
      ]
    },
    {
      "cell_type": "code",
      "source": [],
      "metadata": {
        "id": "ipCU7Je_GyKv"
      },
      "execution_count": null,
      "outputs": []
    },
    {
      "cell_type": "code",
      "source": [
        "plt.imshow(torch.rand(1, 28, 28).squeeze()) # это то, что пытаемся предсказать )))"
      ],
      "metadata": {
        "colab": {
          "base_uri": "https://localhost:8080/",
          "height": 282
        },
        "id": "YyKnXklAsvh5",
        "outputId": "9e04a3fa-e1fa-48b0-9907-be86dd01e47f"
      },
      "execution_count": null,
      "outputs": [
        {
          "output_type": "execute_result",
          "data": {
            "text/plain": [
              "<matplotlib.image.AxesImage at 0x7f20c96a0790>"
            ]
          },
          "metadata": {},
          "execution_count": 19
        },
        {
          "output_type": "display_data",
          "data": {
            "text/plain": [
              "<Figure size 432x288 with 1 Axes>"
            ],
            "image/png": "[encoded data removed]"
          },
          "metadata": {
            "needs_background": "light"
          }
        }
      ]
    },
    {
      "cell_type": "markdown",
      "source": [
        "# **Разъяснения слоев модели:**"
      ],
      "metadata": {
        "id": "lWRkvAqwJp7n"
      }
    },
    {
      "cell_type": "markdown",
      "source": [
        "**Матрица 2-го порядка c 3-мя матрицами, для разъяснения**"
      ],
      "metadata": {
        "id": "hDYANyf4J5zm"
      }
    },
    {
      "cell_type": "code",
      "source": [
        "input_image = torch.rand(3,28,28)\n",
        "print(input_image.size())\n",
        "input_image"
      ],
      "metadata": {
        "id": "zUh0E8ZDCt46",
        "colab": {
          "base_uri": "https://localhost:8080/"
        },
        "outputId": "18c82e62-f1bf-4667-dd7a-ddd91eee527c"
      },
      "execution_count": null,
      "outputs": [
        {
          "output_type": "stream",
          "name": "stdout",
          "text": [
            "torch.Size([3, 28, 28])\n"
          ]
        },
        {
          "output_type": "execute_result",
          "data": {
            "text/plain": [
              "tensor([[[0.1846, 0.0227, 0.2799,  ..., 0.2216, 0.2265, 0.5956],\n",
              "         [0.9350, 0.3089, 0.6886,  ..., 0.3791, 0.9261, 0.4825],\n",
              "         [0.2677, 0.0946, 0.3450,  ..., 0.9946, 0.0735, 0.0055],\n",
              "         ...,\n",
              "         [0.2200, 0.3947, 0.5437,  ..., 0.6555, 0.3457, 0.7372],\n",
              "         [0.6764, 0.6745, 0.3837,  ..., 0.3439, 0.2464, 0.1121],\n",
              "         [0.4039, 0.5910, 0.5803,  ..., 0.7570, 0.6194, 0.1078]],\n",
              "\n",
              "        [[0.8555, 0.9145, 0.7339,  ..., 0.0464, 0.3514, 0.3077],\n",
              "         [0.5257, 0.1228, 0.0274,  ..., 0.7625, 0.0791, 0.4784],\n",
              "         [0.8155, 0.2610, 0.8637,  ..., 0.5163, 0.7047, 0.0266],\n",
              "         ...,\n",
              "         [0.8996, 0.8348, 0.8998,  ..., 0.3886, 0.9378, 0.3610],\n",
              "         [0.8170, 0.0052, 0.8262,  ..., 0.6396, 0.1944, 0.2183],\n",
              "         [0.8890, 0.6101, 0.5296,  ..., 0.9893, 0.8638, 0.3155]],\n",
              "\n",
              "        [[0.5114, 0.2504, 0.2677,  ..., 0.4436, 0.6581, 0.9070],\n",
              "         [0.4579, 0.3226, 0.9843,  ..., 0.6917, 0.3464, 0.0469],\n",
              "         [0.3904, 0.9534, 0.4653,  ..., 0.3092, 0.7535, 0.7424],\n",
              "         ...,\n",
              "         [0.4078, 0.7469, 0.3228,  ..., 0.8024, 0.5708, 0.3070],\n",
              "         [0.2896, 0.3227, 0.1253,  ..., 0.4002, 0.8290, 0.8958],\n",
              "         [0.3487, 0.9470, 0.9351,  ..., 0.0735, 0.4294, 0.0064]]])"
            ]
          },
          "metadata": {},
          "execution_count": 11
        }
      ]
    },
    {
      "cell_type": "markdown",
      "source": [
        "**nn.Flatten**"
      ],
      "metadata": {
        "id": "1nzYOSy3KFTr"
      }
    },
    {
      "cell_type": "code",
      "source": [
        "flatten = nn.Flatten()\n",
        "flat_image = flatten(input_image)\n",
        "print (flat_image.size())\n",
        "flat_image"
      ],
      "metadata": {
        "id": "cYrwDhnICt1Q"
      },
      "execution_count": null,
      "outputs": []
    },
    {
      "cell_type": "markdown",
      "source": [
        "**nn.Linear**"
      ],
      "metadata": {
        "id": "lGHNWxo2KPEZ"
      }
    },
    {
      "cell_type": "code",
      "source": [
        "layer1 = nn.Linear(in_features=28*28, out_features=20)\n",
        "hidden1 = layer1(flat_image)\n",
        "print(hidden1.size())\n",
        "layer1"
      ],
      "metadata": {
        "id": "bdof6qIlCtyM",
        "colab": {
          "base_uri": "https://localhost:8080/"
        },
        "outputId": "67a29478-796f-4764-a178-00ff07cb9e47"
      },
      "execution_count": null,
      "outputs": [
        {
          "output_type": "stream",
          "name": "stdout",
          "text": [
            "torch.Size([3, 20])\n"
          ]
        },
        {
          "output_type": "execute_result",
          "data": {
            "text/plain": [
              "Linear(in_features=784, out_features=20, bias=True)"
            ]
          },
          "metadata": {},
          "execution_count": 17
        }
      ]
    },
    {
      "cell_type": "markdown",
      "source": [
        "_________________________________________________________________________\n",
        "**разъяснения:**"
      ],
      "metadata": {
        "id": "nZ3uZI-VsPML"
      }
    },
    {
      "cell_type": "code",
      "source": [
        "# создает матрицу весов 4х5 (зависимая переменная) и вектор смещения (независимая переменная),\n",
        "# решается линейное уравнение y = x*W^T + b и вроде через сигмойду пропускается +-1,\n",
        "# аргумент - входные значения\n",
        "m = nn.Linear(4,5)\n",
        "m"
      ],
      "metadata": {
        "colab": {
          "base_uri": "https://localhost:8080/"
        },
        "id": "AVeOD78_q4Uz",
        "outputId": "22b2f357-2547-4076-986a-f13ac9bdf430"
      },
      "execution_count": null,
      "outputs": [
        {
          "output_type": "execute_result",
          "data": {
            "text/plain": [
              "Linear(in_features=4, out_features=5, bias=True)"
            ]
          },
          "metadata": {},
          "execution_count": 13
        }
      ]
    },
    {
      "cell_type": "code",
      "source": [
        "m.weight"
      ],
      "metadata": {
        "colab": {
          "base_uri": "https://localhost:8080/"
        },
        "id": "AYreMrvBq9fB",
        "outputId": "12570526-c3cb-4c69-d333-44f63e66d349"
      },
      "execution_count": null,
      "outputs": [
        {
          "output_type": "execute_result",
          "data": {
            "text/plain": [
              "Parameter containing:\n",
              "tensor([[-0.3136, -0.2505,  0.2619,  0.4065],\n",
              "        [ 0.4447,  0.3984,  0.3271,  0.0613],\n",
              "        [-0.0932,  0.1953,  0.1114, -0.0029],\n",
              "        [-0.0507,  0.1265, -0.1252,  0.0177],\n",
              "        [ 0.3209,  0.3416, -0.2600,  0.4509]], requires_grad=True)"
            ]
          },
          "metadata": {},
          "execution_count": 18
        }
      ]
    },
    {
      "cell_type": "code",
      "source": [
        "m.bias"
      ],
      "metadata": {
        "colab": {
          "base_uri": "https://localhost:8080/"
        },
        "id": "aGehhW83rQ71",
        "outputId": "92326b24-91ab-41b2-8d7b-e23930ab4425"
      },
      "execution_count": null,
      "outputs": [
        {
          "output_type": "execute_result",
          "data": {
            "text/plain": [
              "Parameter containing:\n",
              "tensor([ 0.1648,  0.2035, -0.2593, -0.3818,  0.1799], requires_grad=True)"
            ]
          },
          "metadata": {},
          "execution_count": 19
        }
      ]
    },
    {
      "cell_type": "markdown",
      "source": [
        "__________________________________________________"
      ],
      "metadata": {
        "id": "CvuxKnAksTSA"
      }
    },
    {
      "cell_type": "markdown",
      "source": [
        "**nn.ReLU**"
      ],
      "metadata": {
        "id": "xVxHcXlgLbKD"
      }
    },
    {
      "cell_type": "code",
      "source": [
        "print(f\"Before ReLU: {hidden1}\\n\\n\")\n",
        "hidden1 = nn.ReLU()(hidden1)\n",
        "print(f\"After ReLU: {hidden1}\")"
      ],
      "metadata": {
        "id": "EPai6ZX9Ctvb",
        "colab": {
          "base_uri": "https://localhost:8080/"
        },
        "outputId": "826b1dc4-d379-42dc-9179-49ef6759c1d8"
      },
      "execution_count": null,
      "outputs": [
        {
          "output_type": "stream",
          "name": "stdout",
          "text": [
            "Before ReLU: tensor([[-0.0203, -0.2737, -0.2405,  0.2856, -0.4874,  0.1680, -0.3207,  0.1895,\n",
            "          0.2977,  0.2221,  0.1889,  0.4355, -0.4107,  0.2486,  0.3738,  0.5151,\n",
            "          0.2092,  0.2742, -0.2397, -0.3244],\n",
            "        [ 0.2417, -0.5059, -0.5311,  0.1827, -0.2451, -0.2342, -0.4568,  0.1696,\n",
            "          0.1042,  0.2184, -0.0876,  0.2746,  0.3698,  0.4877,  0.2139,  0.4063,\n",
            "          0.4259,  0.2932, -0.2269, -0.6407],\n",
            "        [-0.1008, -0.5507, -0.5359,  0.2430, -0.0755,  0.3868, -0.2796,  0.1750,\n",
            "          0.3921,  0.0993,  0.2894,  0.3223, -0.1165,  0.3072,  0.1632,  0.4271,\n",
            "          0.2674,  0.1790, -0.3791, -0.6472]], grad_fn=<AddmmBackward0>)\n",
            "\n",
            "\n",
            "After ReLU: tensor([[0.0000, 0.0000, 0.0000, 0.2856, 0.0000, 0.1680, 0.0000, 0.1895, 0.2977,\n",
            "         0.2221, 0.1889, 0.4355, 0.0000, 0.2486, 0.3738, 0.5151, 0.2092, 0.2742,\n",
            "         0.0000, 0.0000],\n",
            "        [0.2417, 0.0000, 0.0000, 0.1827, 0.0000, 0.0000, 0.0000, 0.1696, 0.1042,\n",
            "         0.2184, 0.0000, 0.2746, 0.3698, 0.4877, 0.2139, 0.4063, 0.4259, 0.2932,\n",
            "         0.0000, 0.0000],\n",
            "        [0.0000, 0.0000, 0.0000, 0.2430, 0.0000, 0.3868, 0.0000, 0.1750, 0.3921,\n",
            "         0.0993, 0.2894, 0.3223, 0.0000, 0.3072, 0.1632, 0.4271, 0.2674, 0.1790,\n",
            "         0.0000, 0.0000]], grad_fn=<ReluBackward0>)\n"
          ]
        }
      ]
    },
    {
      "cell_type": "markdown",
      "source": [
        "**nn.Sequential**"
      ],
      "metadata": {
        "id": "cABwKJIcL6lc"
      }
    },
    {
      "cell_type": "code",
      "source": [
        "seq_modules = nn.Sequential(\n",
        "    flatten,\n",
        "    layer1,\n",
        "    nn.ReLU(),\n",
        "    nn.Linear(20, 10)\n",
        ")\n",
        "input_image = torch.rand(3,28,28)\n",
        "logits = seq_modules(input_image)\n",
        "logits"
      ],
      "metadata": {
        "id": "76PpMH9SCts0",
        "colab": {
          "base_uri": "https://localhost:8080/"
        },
        "outputId": "23b66058-7b01-43ee-b366-d88f44ee8fa1"
      },
      "execution_count": null,
      "outputs": [
        {
          "output_type": "execute_result",
          "data": {
            "text/plain": [
              "tensor([[-0.0724, -0.1575,  0.0664,  0.0897,  0.2065,  0.0180, -0.5017, -0.0242,\n",
              "          0.0472,  0.4672],\n",
              "        [-0.0532, -0.2372,  0.0555,  0.0705,  0.1506,  0.1316, -0.5407,  0.1109,\n",
              "         -0.0358,  0.2253],\n",
              "        [-0.1441, -0.1332,  0.0671, -0.0240,  0.1895, -0.0198, -0.3625,  0.0768,\n",
              "          0.0770,  0.2048]], grad_fn=<AddmmBackward0>)"
            ]
          },
          "metadata": {},
          "execution_count": 22
        }
      ]
    },
    {
      "cell_type": "markdown",
      "source": [
        "**nn.Softmax**"
      ],
      "metadata": {
        "id": "Sd-Tk-J7P5bs"
      }
    },
    {
      "cell_type": "code",
      "source": [
        "softmax = nn.Softmax(dim = 1)\n",
        "pred_probab = softmax(logits)\n",
        "pred_probab"
      ],
      "metadata": {
        "id": "TE-_mignCtp_",
        "colab": {
          "base_uri": "https://localhost:8080/"
        },
        "outputId": "2794cf15-af28-403c-92af-3e2d2d75f72c"
      },
      "execution_count": null,
      "outputs": [
        {
          "output_type": "execute_result",
          "data": {
            "text/plain": [
              "tensor([[0.0893, 0.0820, 0.1026, 0.1050, 0.1180, 0.0977, 0.0581, 0.0937, 0.1006,\n",
              "         0.1531],\n",
              "        [0.0940, 0.0782, 0.1048, 0.1064, 0.1152, 0.1131, 0.0577, 0.1108, 0.0956,\n",
              "         0.1242],\n",
              "        [0.0861, 0.0870, 0.1063, 0.0971, 0.1202, 0.0975, 0.0692, 0.1073, 0.1074,\n",
              "         0.1220]], grad_fn=<SoftmaxBackward0>)"
            ]
          },
          "metadata": {},
          "execution_count": 24
        }
      ]
    },
    {
      "cell_type": "markdown",
      "source": [
        "**Параметры модели:**"
      ],
      "metadata": {
        "id": "nWPPFR8RQKYF"
      }
    },
    {
      "cell_type": "code",
      "source": [
        "print(f\"Model structure: {model}\\n\\n\")\n",
        "\n",
        "for name, param in model.named_parameters():\n",
        "    print(f\"Layer: {name} | Size: {param.size()} | Values : {param[:2]} \\n\")"
      ],
      "metadata": {
        "id": "b0NHPNKBCtnV",
        "colab": {
          "base_uri": "https://localhost:8080/"
        },
        "outputId": "fcb7e3b8-18d7-4768-b99b-cd0a79373051"
      },
      "execution_count": null,
      "outputs": [
        {
          "output_type": "stream",
          "name": "stdout",
          "text": [
            "Model structure: NeuralNetwork(\n",
            "  (flatten): Flatten(start_dim=1, end_dim=-1)\n",
            "  (linear_relu_stack): Sequential(\n",
            "    (0): Linear(in_features=784, out_features=512, bias=True)\n",
            "    (1): ReLU()\n",
            "    (2): Linear(in_features=512, out_features=512, bias=True)\n",
            "    (3): ReLU()\n",
            "    (4): Linear(in_features=512, out_features=10, bias=True)\n",
            "  )\n",
            ")\n",
            "\n",
            "\n",
            "Layer: linear_relu_stack.0.weight | Size: torch.Size([512, 784]) | Values : tensor([[ 0.0029,  0.0199,  0.0149,  ..., -0.0076,  0.0082, -0.0174],\n",
            "        [ 0.0240,  0.0283,  0.0307,  ..., -0.0248,  0.0130,  0.0093]],\n",
            "       grad_fn=<SliceBackward0>) \n",
            "\n",
            "Layer: linear_relu_stack.0.bias | Size: torch.Size([512]) | Values : tensor([-0.0345, -0.0036], grad_fn=<SliceBackward0>) \n",
            "\n",
            "Layer: linear_relu_stack.2.weight | Size: torch.Size([512, 512]) | Values : tensor([[ 0.0244, -0.0226, -0.0303,  ...,  0.0163,  0.0343, -0.0032],\n",
            "        [-0.0056,  0.0222,  0.0030,  ..., -0.0337,  0.0005,  0.0374]],\n",
            "       grad_fn=<SliceBackward0>) \n",
            "\n",
            "Layer: linear_relu_stack.2.bias | Size: torch.Size([512]) | Values : tensor([-0.0127, -0.0411], grad_fn=<SliceBackward0>) \n",
            "\n",
            "Layer: linear_relu_stack.4.weight | Size: torch.Size([10, 512]) | Values : tensor([[ 0.0186, -0.0037, -0.0061,  ..., -0.0115, -0.0009,  0.0384],\n",
            "        [ 0.0191,  0.0312, -0.0307,  ..., -0.0278,  0.0351,  0.0160]],\n",
            "       grad_fn=<SliceBackward0>) \n",
            "\n",
            "Layer: linear_relu_stack.4.bias | Size: torch.Size([10]) | Values : tensor([0.0042, 0.0154], grad_fn=<SliceBackward0>) \n",
            "\n"
          ]
        }
      ]
    },
    {
      "cell_type": "markdown",
      "source": [
        "# **АВТОМАТИЧЕСКАЯ ДИФФЕРЕНЦИАЦИЯ С TORCH.AUTOGRAD**"
      ],
      "metadata": {
        "id": "Rzg2zNY3XJ4a"
      }
    },
    {
      "cell_type": "code",
      "source": [
        "import torch\n",
        "\n",
        "x = torch.ones(5)  # input tensor\n",
        "y = torch.zeros(3)  # expected output\n",
        "w = torch.randn(5, 3, requires_grad=True)\n",
        "b = torch.randn(3, requires_grad=True)\n",
        "z = torch.matmul(x, w)+b\n",
        "loss = torch.nn.functional.binary_cross_entropy_with_logits(z, y)\n",
        "x,y,w,b,x,loss.item()"
      ],
      "metadata": {
        "id": "VjVD8hb6QAgI",
        "colab": {
          "base_uri": "https://localhost:8080/"
        },
        "outputId": "baaffe72-3c23-423a-f8b5-701cb2d8f33e"
      },
      "execution_count": null,
      "outputs": [
        {
          "output_type": "execute_result",
          "data": {
            "text/plain": [
              "(tensor([1., 1., 1., 1., 1.]),\n",
              " tensor([0., 0., 0.]),\n",
              " tensor([[-0.1183,  0.4812,  0.5550],\n",
              "         [-0.8365,  0.0897,  0.1798],\n",
              "         [ 1.9515, -0.5747, -1.6910],\n",
              "         [ 1.1938,  1.3984, -0.4733],\n",
              "         [-1.0063, -0.3348, -1.2871]], requires_grad=True),\n",
              " tensor([-0.8573, -1.0877, -1.0545], requires_grad=True),\n",
              " tensor([1., 1., 1., 1., 1.]),\n",
              " 0.5239996314048767)"
            ]
          },
          "metadata": {},
          "execution_count": 1
        }
      ]
    },
    {
      "cell_type": "code",
      "source": [
        "loss.item()"
      ],
      "metadata": {
        "colab": {
          "base_uri": "https://localhost:8080/"
        },
        "id": "888T1fqPDq65",
        "outputId": "0c859e17-3405-407a-ec09-8c25a6345cdf"
      },
      "execution_count": null,
      "outputs": [
        {
          "output_type": "execute_result",
          "data": {
            "text/plain": [
              "0.5239996314048767"
            ]
          },
          "metadata": {},
          "execution_count": 2
        }
      ]
    },
    {
      "cell_type": "markdown",
      "source": [
        "# **Тензоры, функции и вычислительный граф**"
      ],
      "metadata": {
        "id": "pKXsPCBJXeHy"
      }
    },
    {
      "cell_type": "code",
      "source": [
        "print(f\"Gradient function for z = {z.grad_fn}\")\n",
        "print(f\"Gradient function for loss = {loss.grad_fn}\")"
      ],
      "metadata": {
        "id": "1jp66HVoQAdi",
        "colab": {
          "base_uri": "https://localhost:8080/"
        },
        "outputId": "0015100f-aba9-4ffb-e52c-106edb63a76b"
      },
      "execution_count": null,
      "outputs": [
        {
          "output_type": "stream",
          "name": "stdout",
          "text": [
            "Gradient function for z = <AddBackward0 object at 0x7f7964bbac10>\n",
            "Gradient function for loss = <BinaryCrossEntropyWithLogitsBackward0 object at 0x7f7964bbaed0>\n"
          ]
        }
      ]
    },
    {
      "cell_type": "markdown",
      "source": [
        "# **Вычисление градиентов**"
      ],
      "metadata": {
        "id": "4jENuvP6Xmwi"
      }
    },
    {
      "cell_type": "markdown",
      "source": [
        "Чтобы оптимизировать веса параметров в нейронной сети, нам нужно вычислить производные нашей функции потерь по параметрам, а именно, нам нужны \\frac{\\partial loss}{\\partial w}\n",
        "∂w\n",
        "∂l oss\n",
        "  и \\frac{\\partial loss}{\\partial b}\n",
        "∂b\n",
        "∂l oss\n",
        "  при некоторых фиксированных значениях xи y. Чтобы вычислить эти производные, мы вызываемloss.backward(), а затем извлекаем значения из w.gradиb.grad:\n",
        "\n",
        "смотри https://pytorch.org/tutorials/beginner/basics/autogradqs_tutorial.html"
      ],
      "metadata": {
        "id": "dDLpQF3nFSs1"
      }
    },
    {
      "cell_type": "code",
      "source": [
        "loss.backward()\n",
        "print(w.grad)\n",
        "print(b.grad)"
      ],
      "metadata": {
        "id": "I1Ol6MJHQAbX",
        "colab": {
          "base_uri": "https://localhost:8080/"
        },
        "outputId": "c3e0bad2-af98-456a-ff38-a35a401fa292"
      },
      "execution_count": null,
      "outputs": [
        {
          "output_type": "stream",
          "name": "stdout",
          "text": [
            "tensor([[0.2748, 0.2839, 0.3072],\n",
            "        [0.2748, 0.2839, 0.3072],\n",
            "        [0.2748, 0.2839, 0.3072],\n",
            "        [0.2748, 0.2839, 0.3072],\n",
            "        [0.2748, 0.2839, 0.3072]])\n",
            "tensor([0.2748, 0.2839, 0.3072])\n"
          ]
        }
      ]
    },
    {
      "cell_type": "markdown",
      "source": [
        "# **Отключение отслеживания градиента**"
      ],
      "metadata": {
        "id": "psx5i-xhXvbT"
      }
    },
    {
      "cell_type": "markdown",
      "source": [
        "**1-й способ**"
      ],
      "metadata": {
        "id": "uVCRG0jJHMf-"
      }
    },
    {
      "cell_type": "code",
      "source": [
        "z = torch.matmul(x, w)+b\n",
        "print(z.requires_grad)\n",
        "\n",
        "with torch.no_grad():\n",
        "    z = torch.matmul(x, w)+b\n",
        "print(z.requires_grad)"
      ],
      "metadata": {
        "id": "hLeXg3YAQAYB",
        "colab": {
          "base_uri": "https://localhost:8080/"
        },
        "outputId": "1ef6b359-b246-4d43-b923-03704662158e"
      },
      "execution_count": null,
      "outputs": [
        {
          "output_type": "stream",
          "name": "stdout",
          "text": [
            "True\n",
            "False\n"
          ]
        }
      ]
    },
    {
      "cell_type": "markdown",
      "source": [
        "**2-й способ**"
      ],
      "metadata": {
        "id": "YS0bIyvuHPug"
      }
    },
    {
      "cell_type": "code",
      "source": [
        "z = torch.matmul(x, w)+b\n",
        "z_det = z.detach()\n",
        "print(z_det.requires_grad)"
      ],
      "metadata": {
        "id": "Azy3k9hMQAVJ",
        "colab": {
          "base_uri": "https://localhost:8080/"
        },
        "outputId": "fc9c9d7d-4bdf-46f5-d7bd-ff08a260f4dc"
      },
      "execution_count": null,
      "outputs": [
        {
          "output_type": "stream",
          "name": "stdout",
          "text": [
            "False\n"
          ]
        }
      ]
    },
    {
      "cell_type": "markdown",
      "source": [
        "# **ОПТИМИЗАЦИЯ ПАРАМЕТРОВ МОДЕЛИ**"
      ],
      "metadata": {
        "id": "CClXGe21YTCz"
      }
    },
    {
      "cell_type": "markdown",
      "source": [
        "# **Обязательный код**"
      ],
      "metadata": {
        "id": "fMBKIAj6Yb2E"
      }
    },
    {
      "cell_type": "code",
      "source": [
        "import torch\n",
        "from torch import nn\n",
        "from torch.utils.data import DataLoader\n",
        "from torchvision import datasets\n",
        "from torchvision.transforms import ToTensor\n",
        "\n",
        "training_data = datasets.FashionMNIST(\n",
        "    root=\"data\",\n",
        "    train=True,\n",
        "    download=True,\n",
        "    transform=ToTensor()\n",
        ")\n",
        "\n",
        "test_data = datasets.FashionMNIST(\n",
        "    root=\"data\",\n",
        "    train=False,\n",
        "    download=True,\n",
        "    transform=ToTensor()\n",
        ")\n",
        "\n",
        "train_dataloader = DataLoader(training_data, batch_size=64)\n",
        "test_dataloader = DataLoader(test_data, batch_size=64)\n",
        "\n",
        "class NeuralNetwork(nn.Module):\n",
        "    def __init__(self):\n",
        "        super(NeuralNetwork, self).__init__()\n",
        "        self.flatten = nn.Flatten()\n",
        "        self.linear_relu_stack = nn.Sequential(\n",
        "            nn.Linear(28*28, 512),\n",
        "            nn.ReLU(),\n",
        "            nn.Linear(512, 512),\n",
        "            nn.ReLU(),\n",
        "            nn.Linear(512, 10),\n",
        "        )\n",
        "\n",
        "    def forward(self, x):\n",
        "        x = self.flatten(x)\n",
        "        logits = self.linear_relu_stack(x)\n",
        "        return logits\n",
        "\n",
        "model = NeuralNetwork()"
      ],
      "metadata": {
        "id": "KOgATRYAQAR-"
      },
      "execution_count": null,
      "outputs": []
    },
    {
      "cell_type": "markdown",
      "source": [
        "# **Дополнительное чтение: тензорные градиенты и произведения Якоби**"
      ],
      "metadata": {
        "id": "EXx6l7moTLXE"
      }
    },
    {
      "cell_type": "code",
      "source": [
        "inp=torch.eye(4, 5, requires_grad=True)\n",
        "out=(inp+1).pow(2).t()\n",
        "out"
      ],
      "metadata": {
        "colab": {
          "base_uri": "https://localhost:8080/"
        },
        "id": "dMLLyyk9TKGG",
        "outputId": "32c4b1cc-3b42-4f98-fe6e-63a8dddb4693"
      },
      "execution_count": null,
      "outputs": [
        {
          "output_type": "execute_result",
          "data": {
            "text/plain": [
              "tensor([[4., 1., 1., 1.],\n",
              "        [1., 4., 1., 1.],\n",
              "        [1., 1., 4., 1.],\n",
              "        [1., 1., 1., 4.],\n",
              "        [1., 1., 1., 1.]], grad_fn=<TBackward0>)"
            ]
          },
          "metadata": {},
          "execution_count": 22
        }
      ]
    },
    {
      "cell_type": "code",
      "source": [
        "torch.ones_like(out)"
      ],
      "metadata": {
        "colab": {
          "base_uri": "https://localhost:8080/"
        },
        "id": "PEnauvblTjat",
        "outputId": "9a11145c-387f-4d6d-808c-59f783f7b333"
      },
      "execution_count": null,
      "outputs": [
        {
          "output_type": "execute_result",
          "data": {
            "text/plain": [
              "tensor([[1., 1., 1., 1.],\n",
              "        [1., 1., 1., 1.],\n",
              "        [1., 1., 1., 1.],\n",
              "        [1., 1., 1., 1.],\n",
              "        [1., 1., 1., 1.]])"
            ]
          },
          "metadata": {},
          "execution_count": 39
        }
      ]
    },
    {
      "cell_type": "code",
      "source": [
        "out.backward(torch.ones_like(out), retain_graph=True)"
      ],
      "metadata": {
        "id": "17t9Fg_4T4ei"
      },
      "execution_count": null,
      "outputs": []
    },
    {
      "cell_type": "code",
      "source": [
        "inp.grad"
      ],
      "metadata": {
        "colab": {
          "base_uri": "https://localhost:8080/"
        },
        "id": "_rMr4dJJT0aY",
        "outputId": "6fcb9351-799b-4f37-8cad-1c412fc4711f"
      },
      "execution_count": null,
      "outputs": [
        {
          "output_type": "execute_result",
          "data": {
            "text/plain": [
              "tensor([[4., 2., 2., 2., 2.],\n",
              "        [2., 4., 2., 2., 2.],\n",
              "        [2., 2., 4., 2., 2.],\n",
              "        [2., 2., 2., 4., 2.]])"
            ]
          },
          "metadata": {},
          "execution_count": 42
        }
      ]
    },
    {
      "cell_type": "code",
      "source": [
        "inp = torch.eye(4, 5, requires_grad=True)\n",
        "out = (inp+1).pow(2).t()\n",
        "out.backward(torch.ones_like(out), retain_graph=True)\n",
        "print(f\"First call\\n{inp.grad}\")\n",
        "out.backward(torch.ones_like(out), retain_graph=True)\n",
        "print(f\"\\nSecond call\\n{inp.grad}\")\n",
        "inp.grad.zero_()\n",
        "out.backward(torch.ones_like(out), retain_graph=True)\n",
        "print(f\"\\nCall after zeroing gradients\\n{inp.grad}\")"
      ],
      "metadata": {
        "colab": {
          "base_uri": "https://localhost:8080/"
        },
        "id": "7Y_a-Kp6TJ6f",
        "outputId": "4bb1c068-794a-4d75-fef6-b9d77c9f164e"
      },
      "execution_count": null,
      "outputs": [
        {
          "output_type": "stream",
          "name": "stdout",
          "text": [
            "First call\n",
            "tensor([[4., 2., 2., 2., 2.],\n",
            "        [2., 4., 2., 2., 2.],\n",
            "        [2., 2., 4., 2., 2.],\n",
            "        [2., 2., 2., 4., 2.]])\n",
            "\n",
            "Second call\n",
            "tensor([[8., 4., 4., 4., 4.],\n",
            "        [4., 8., 4., 4., 4.],\n",
            "        [4., 4., 8., 4., 4.],\n",
            "        [4., 4., 4., 8., 4.]])\n",
            "\n",
            "Call after zeroing gradients\n",
            "tensor([[4., 2., 2., 2., 2.],\n",
            "        [2., 4., 2., 2., 2.],\n",
            "        [2., 2., 4., 2., 2.],\n",
            "        [2., 2., 2., 4., 2.]])\n"
          ]
        }
      ]
    },
    {
      "cell_type": "markdown",
      "source": [
        "# **Гиперпараметры**"
      ],
      "metadata": {
        "id": "ShMHoh1EYs5X"
      }
    },
    {
      "cell_type": "code",
      "source": [
        "learning_rate = 1e-3\n",
        "batch_size = 64\n",
        "epochs = 5"
      ],
      "metadata": {
        "id": "1QRW_6B4QAOx"
      },
      "execution_count": null,
      "outputs": []
    },
    {
      "cell_type": "markdown",
      "source": [
        "# **Цикл оптимизации**"
      ],
      "metadata": {
        "id": "X8Mz-ZRdY4d_"
      }
    },
    {
      "cell_type": "code",
      "source": [
        "# Initialize the loss function\n",
        "loss_fn = nn.CrossEntropyLoss()"
      ],
      "metadata": {
        "id": "4zcTvPgRY3xV"
      },
      "execution_count": null,
      "outputs": []
    },
    {
      "cell_type": "markdown",
      "source": [
        "# **Оптимизатор**"
      ],
      "metadata": {
        "id": "4Lm2nZNZZKEY"
      }
    },
    {
      "cell_type": "code",
      "source": [
        "optimizer = torch.optim.SGD(model.parameters(), lr=learning_rate)"
      ],
      "metadata": {
        "id": "OSo_xhpxY3uc"
      },
      "execution_count": null,
      "outputs": []
    },
    {
      "cell_type": "markdown",
      "source": [
        "# **Полная реализация**"
      ],
      "metadata": {
        "id": "SVQhJpB3ZTCt"
      }
    },
    {
      "cell_type": "code",
      "source": [
        "def train_loop(dataloader, model, loss_fn, optimizer):\n",
        "    size = len(dataloader.dataset)\n",
        "    for batch, (X, y) in enumerate(dataloader):\n",
        "        # Compute prediction and loss\n",
        "        pred = model(X)\n",
        "        loss = loss_fn(pred, y)\n",
        "\n",
        "        # Backpropagation\n",
        "        optimizer.zero_grad()\n",
        "        loss.backward()\n",
        "        optimizer.step()\n",
        "\n",
        "        if batch % 100 == 0:\n",
        "            loss, current = loss.item(), batch * len(X)\n",
        "            print(f\"loss: {loss:>7f}  [{current:>5d}/{size:>5d}]\")\n",
        "\n",
        "\n",
        "def test_loop(dataloader, model, loss_fn):\n",
        "    size = len(dataloader.dataset)\n",
        "    num_batches = len(dataloader)\n",
        "    test_loss, correct = 0, 0\n",
        "\n",
        "    with torch.no_grad():\n",
        "        for X, y in dataloader:\n",
        "            pred = model(X)\n",
        "            test_loss += loss_fn(pred, y).item()\n",
        "            correct += (pred.argmax(1) == y).type(torch.float).sum().item()\n",
        "\n",
        "    test_loss /= num_batches\n",
        "    correct /= size\n",
        "    print(f\"Test Error: \\n Accuracy: {(100*correct):>0.1f}%, Avg loss: {test_loss:>8f} \\n\")"
      ],
      "metadata": {
        "id": "oI3u3p9HY3rf"
      },
      "execution_count": null,
      "outputs": []
    },
    {
      "cell_type": "code",
      "source": [
        "enumerate(train_dataloader.dataset)"
      ],
      "metadata": {
        "colab": {
          "base_uri": "https://localhost:8080/"
        },
        "id": "FEadO5pD-U74",
        "outputId": "66d51b53-cb44-492d-cccf-bffb70328274"
      },
      "execution_count": null,
      "outputs": [
        {
          "output_type": "execute_result",
          "data": {
            "text/plain": [
              "<enumerate at 0x7f20c1f6d8c0>"
            ]
          },
          "metadata": {},
          "execution_count": 27
        }
      ]
    },
    {
      "cell_type": "code",
      "source": [
        "loss_fn = nn.CrossEntropyLoss()\n",
        "optimizer = torch.optim.SGD(model.parameters(), lr=learning_rate)\n",
        "\n",
        "epochs = 10\n",
        "for t in range(epochs):\n",
        "    print(f\"Epoch {t+1}\\n-------------------------------\")\n",
        "    train_loop(train_dataloader, model, loss_fn, optimizer)\n",
        "    test_loop(test_dataloader, model, loss_fn)\n",
        "print(\"Done!\")"
      ],
      "metadata": {
        "id": "paVNPRMQY3pP",
        "colab": {
          "base_uri": "https://localhost:8080/"
        },
        "outputId": "e0e9863d-cf05-4dcb-b27b-2a6a58b5af4e"
      },
      "execution_count": null,
      "outputs": [
        {
          "output_type": "stream",
          "name": "stdout",
          "text": [
            "Epoch 1\n",
            "-------------------------------\n",
            "loss: 2.303427  [    0/60000]\n",
            "loss: 2.294185  [ 6400/60000]\n",
            "loss: 2.283306  [12800/60000]\n",
            "loss: 2.281470  [19200/60000]\n",
            "loss: 2.248290  [25600/60000]\n",
            "loss: 2.228171  [32000/60000]\n",
            "loss: 2.230286  [38400/60000]\n",
            "loss: 2.199241  [44800/60000]\n",
            "loss: 2.196887  [51200/60000]\n",
            "loss: 2.165648  [57600/60000]\n",
            "Test Error: \n",
            " Accuracy: 42.8%, Avg loss: 2.164077 \n",
            "\n",
            "Epoch 2\n",
            "-------------------------------\n",
            "loss: 2.164654  [    0/60000]\n",
            "loss: 2.162005  [ 6400/60000]\n",
            "loss: 2.112016  [12800/60000]\n",
            "loss: 2.131830  [19200/60000]\n",
            "loss: 2.068114  [25600/60000]\n",
            "loss: 2.013877  [32000/60000]\n",
            "loss: 2.039639  [38400/60000]\n",
            "loss: 1.959815  [44800/60000]\n",
            "loss: 1.964820  [51200/60000]\n",
            "loss: 1.895270  [57600/60000]\n",
            "Test Error: \n",
            " Accuracy: 50.2%, Avg loss: 1.898508 \n",
            "\n",
            "Epoch 3\n",
            "-------------------------------\n",
            "loss: 1.920171  [    0/60000]\n",
            "loss: 1.901477  [ 6400/60000]\n",
            "loss: 1.791493  [12800/60000]\n",
            "loss: 1.836136  [19200/60000]\n",
            "loss: 1.711557  [25600/60000]\n",
            "loss: 1.667054  [32000/60000]\n",
            "loss: 1.690506  [38400/60000]\n",
            "loss: 1.588560  [44800/60000]\n",
            "loss: 1.615431  [51200/60000]\n",
            "loss: 1.514896  [57600/60000]\n",
            "Test Error: \n",
            " Accuracy: 58.4%, Avg loss: 1.533012 \n",
            "\n",
            "Epoch 4\n",
            "-------------------------------\n",
            "loss: 1.590302  [    0/60000]\n",
            "loss: 1.564666  [ 6400/60000]\n",
            "loss: 1.418370  [12800/60000]\n",
            "loss: 1.495179  [19200/60000]\n",
            "loss: 1.365925  [25600/60000]\n",
            "loss: 1.364163  [32000/60000]\n",
            "loss: 1.381482  [38400/60000]\n",
            "loss: 1.301933  [44800/60000]\n",
            "loss: 1.335794  [51200/60000]\n",
            "loss: 1.245771  [57600/60000]\n",
            "Test Error: \n",
            " Accuracy: 62.6%, Avg loss: 1.267720 \n",
            "\n",
            "Epoch 5\n",
            "-------------------------------\n",
            "loss: 1.336131  [    0/60000]\n",
            "loss: 1.326936  [ 6400/60000]\n",
            "loss: 1.161228  [12800/60000]\n",
            "loss: 1.271439  [19200/60000]\n",
            "loss: 1.140993  [25600/60000]\n",
            "loss: 1.165594  [32000/60000]\n",
            "loss: 1.190608  [38400/60000]\n",
            "loss: 1.122581  [44800/60000]\n",
            "loss: 1.157960  [51200/60000]\n",
            "loss: 1.085975  [57600/60000]\n",
            "Test Error: \n",
            " Accuracy: 64.2%, Avg loss: 1.101278 \n",
            "\n",
            "Epoch 6\n",
            "-------------------------------\n",
            "loss: 1.163265  [    0/60000]\n",
            "loss: 1.175891  [ 6400/60000]\n",
            "loss: 0.990470  [12800/60000]\n",
            "loss: 1.129557  [19200/60000]\n",
            "loss: 0.998331  [25600/60000]\n",
            "loss: 1.029548  [32000/60000]\n",
            "loss: 1.069496  [38400/60000]\n",
            "loss: 1.006731  [44800/60000]\n",
            "loss: 1.040897  [51200/60000]\n",
            "loss: 0.983766  [57600/60000]\n",
            "Test Error: \n",
            " Accuracy: 65.3%, Avg loss: 0.992129 \n",
            "\n",
            "Epoch 7\n",
            "-------------------------------\n",
            "loss: 1.041948  [    0/60000]\n",
            "loss: 1.077261  [ 6400/60000]\n",
            "loss: 0.872755  [12800/60000]\n",
            "loss: 1.033700  [19200/60000]\n",
            "loss: 0.906381  [25600/60000]\n",
            "loss: 0.932453  [32000/60000]\n",
            "loss: 0.989292  [38400/60000]\n",
            "loss: 0.930747  [44800/60000]\n",
            "loss: 0.960019  [51200/60000]\n",
            "loss: 0.914439  [57600/60000]\n",
            "Test Error: \n",
            " Accuracy: 66.5%, Avg loss: 0.917260 \n",
            "\n",
            "Epoch 8\n",
            "-------------------------------\n",
            "loss: 0.952786  [    0/60000]\n",
            "loss: 1.008548  [ 6400/60000]\n",
            "loss: 0.788402  [12800/60000]\n",
            "loss: 0.965505  [19200/60000]\n",
            "loss: 0.844853  [25600/60000]\n",
            "loss: 0.861070  [32000/60000]\n",
            "loss: 0.932956  [38400/60000]\n",
            "loss: 0.879653  [44800/60000]\n",
            "loss: 0.901967  [51200/60000]\n",
            "loss: 0.864723  [57600/60000]\n",
            "Test Error: \n",
            " Accuracy: 67.8%, Avg loss: 0.863375 \n",
            "\n",
            "Epoch 9\n",
            "-------------------------------\n",
            "loss: 0.884714  [    0/60000]\n",
            "loss: 0.957343  [ 6400/60000]\n",
            "loss: 0.725421  [12800/60000]\n",
            "loss: 0.915011  [19200/60000]\n",
            "loss: 0.801329  [25600/60000]\n",
            "loss: 0.807576  [32000/60000]\n",
            "loss: 0.890827  [38400/60000]\n",
            "loss: 0.844103  [44800/60000]\n",
            "loss: 0.859180  [51200/60000]\n",
            "loss: 0.827182  [57600/60000]\n",
            "Test Error: \n",
            " Accuracy: 69.0%, Avg loss: 0.822950 \n",
            "\n",
            "Epoch 10\n",
            "-------------------------------\n",
            "loss: 0.830959  [    0/60000]\n",
            "loss: 0.916594  [ 6400/60000]\n",
            "loss: 0.677164  [12800/60000]\n",
            "loss: 0.876153  [19200/60000]\n",
            "loss: 0.768802  [25600/60000]\n",
            "loss: 0.766760  [32000/60000]\n",
            "loss: 0.857225  [38400/60000]\n",
            "loss: 0.817983  [44800/60000]\n",
            "loss: 0.826266  [51200/60000]\n",
            "loss: 0.797386  [57600/60000]\n",
            "Test Error: \n",
            " Accuracy: 70.4%, Avg loss: 0.791092 \n",
            "\n",
            "Done!\n"
          ]
        }
      ]
    },
    {
      "cell_type": "markdown",
      "source": [
        "# **СОХРАНИТЕ И ЗАГРУЗИТЕ МОДЕЛЬ**"
      ],
      "metadata": {
        "id": "bTzh5DxjahTB"
      }
    },
    {
      "cell_type": "code",
      "source": [
        "import torch\n",
        "import torchvision.models as models"
      ],
      "metadata": {
        "id": "3u3Iu4NtarSp"
      },
      "execution_count": null,
      "outputs": []
    },
    {
      "cell_type": "markdown",
      "source": [
        "# **Сохранение и загрузка весов модели**"
      ],
      "metadata": {
        "id": "N-lTYNx_anvj"
      }
    },
    {
      "cell_type": "code",
      "source": [
        "model = models.vgg16(pretrained=True)\n",
        "torch.save(model.state_dict(), 'model_weights.pth')"
      ],
      "metadata": {
        "id": "saLH7ADSY3l-"
      },
      "execution_count": null,
      "outputs": []
    },
    {
      "cell_type": "code",
      "source": [
        "model = models.vgg16() # # мы не указываем pretrained=True, т.е. Не загружаем веса по умолчанию\n",
        "model.load_state_dict(torch.load('model_weights.pth'))\n",
        "model.eval()"
      ],
      "metadata": {
        "id": "CimKfVXLY3i8"
      },
      "execution_count": null,
      "outputs": []
    },
    {
      "cell_type": "markdown",
      "source": [
        "# **Сохранение и загрузка моделей с формами**"
      ],
      "metadata": {
        "id": "cJ7PQA01bbYR"
      }
    },
    {
      "cell_type": "code",
      "source": [
        "torch.save(model, 'model.pth')"
      ],
      "metadata": {
        "id": "H-TCrLxFY3f8"
      },
      "execution_count": null,
      "outputs": []
    },
    {
      "cell_type": "code",
      "source": [
        "model = torch.load('model.pth')"
      ],
      "metadata": {
        "id": "ykx9pxqlY3cX"
      },
      "execution_count": null,
      "outputs": []
    },
    {
      "cell_type": "code",
      "source": [],
      "metadata": {
        "id": "yKZK1RpjY3Zb"
      },
      "execution_count": null,
      "outputs": []
    },
    {
      "cell_type": "code",
      "source": [],
      "metadata": {
        "id": "3zlIUsbCY3UZ"
      },
      "execution_count": null,
      "outputs": []
    },
    {
      "cell_type": "code",
      "source": [],
      "metadata": {
        "id": "aNAw4ZKVY3RP"
      },
      "execution_count": null,
      "outputs": []
    }
  ]
}