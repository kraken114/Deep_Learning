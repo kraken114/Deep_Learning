{
  "nbformat": 4,
  "nbformat_minor": 0,
  "metadata": {
    "kernelspec": {
      "name": "python3",
      "display_name": "Python 3"
    },
    "language_info": {
      "codemirror_mode": {
        "name": "ipython",
        "version": 3
      },
      "file_extension": ".py",
      "mimetype": "text/x-python",
      "name": "python",
      "nbconvert_exporter": "python",
      "pygments_lexer": "ipython3",
      "version": "3.6.6"
    },
    "colab": {
      "provenance": []
    }
  },
  "cells": [
    {
      "cell_type": "code",
      "metadata": {
        "id": "MIEGXF8oM9tt"
      },
      "source": [
        "from io import open\n",
        "import unicodedata\n",
        "import string\n",
        "import re\n",
        "import pandas as pd\n",
        "import numpy as np\n",
        "import random\n",
        "from itertools import product\n",
        "import torch\n",
        "import torch.nn as nn\n",
        "from torch import optim\n",
        "import torch.nn.functional as F\n",
        "\n",
        "device = torch.device(\"cuda\" if torch.cuda.is_available() else \"cpu\")"
      ],
      "execution_count": null,
      "outputs": []
    },
    {
      "cell_type": "code",
      "metadata": {
        "id": "-YlRH3mQM9tf"
      },
      "source": [
        "# Visualisation\n",
        "import matplotlib as mpl\n",
        "import matplotlib.pyplot as plt\n",
        "import seaborn as sns\n",
        "%matplotlib inline"
      ],
      "execution_count": null,
      "outputs": []
    },
    {
      "cell_type": "code",
      "metadata": {
        "id": "wkKa2S1so4jE"
      },
      "source": [
        "drive.mount('/content/drive')"
      ],
      "execution_count": null,
      "outputs": []
    },
    {
      "cell_type": "code",
      "metadata": {
        "id": "MTVkH1myZyrY"
      },
      "source": [
        "import os\n",
        "import sys\n",
        "from google.colab import drive"
      ],
      "execution_count": null,
      "outputs": []
    },
    {
      "cell_type": "markdown",
      "metadata": {
        "id": "CDNF5crkbNj-"
      },
      "source": [
        "### 2. Импорт и предобработка текста"
      ]
    },
    {
      "cell_type": "markdown",
      "metadata": {
        "id": "S_KIkF9PfhY2"
      },
      "source": [
        "####2.1."
      ]
    },
    {
      "cell_type": "code",
      "metadata": {
        "id": "8UKlPFcBNZl5",
        "colab": {
          "base_uri": "https://localhost:8080/"
        },
        "outputId": "6eb550cc-55e2-4da1-ee63-213d3cbdbf64"
      },
      "source": [
        "!wget https://www.manythings.org/anki/rus-eng.zip\n",
        "!unzip rus-eng.zip"
      ],
      "execution_count": null,
      "outputs": [
        {
          "output_type": "stream",
          "name": "stdout",
          "text": [
            "--2023-03-26 14:49:59--  https://www.manythings.org/anki/rus-eng.zip\n",
            "Resolving www.manythings.org (www.manythings.org)... 173.254.30.110\n",
            "Connecting to www.manythings.org (www.manythings.org)|173.254.30.110|:443... connected.\n",
            "HTTP request sent, awaiting response... 200 OK\n",
            "Length: 15374406 (15M) [application/zip]\n",
            "Saving to: ‘rus-eng.zip’\n",
            "\n",
            "rus-eng.zip         100%[===================>]  14.66M  7.84MB/s    in 1.9s    \n",
            "\n",
            "2023-03-26 14:50:02 (7.84 MB/s) - ‘rus-eng.zip’ saved [15374406/15374406]\n",
            "\n",
            "Archive:  rus-eng.zip\n",
            "  inflating: rus.txt                 \n",
            "  inflating: _about.txt              \n"
          ]
        }
      ]
    },
    {
      "cell_type": "code",
      "metadata": {
        "id": "twIcAJnyRkW-",
        "colab": {
          "base_uri": "https://localhost:8080/"
        },
        "outputId": "636d2459-1d59-45f8-c2d3-422d609382b8"
      },
      "source": [
        "!head rus.txt"
      ],
      "execution_count": null,
      "outputs": [
        {
          "output_type": "stream",
          "name": "stdout",
          "text": [
            "Go.\tМарш!\tCC-BY 2.0 (France) Attribution: tatoeba.org #2877272 (CM) & #1159202 (shanghainese)\n",
            "Go.\tИди.\tCC-BY 2.0 (France) Attribution: tatoeba.org #2877272 (CM) & #5898247 (marafon)\n",
            "Go.\tИдите.\tCC-BY 2.0 (France) Attribution: tatoeba.org #2877272 (CM) & #5898250 (marafon)\n",
            "Hi.\tЗдравствуйте.\tCC-BY 2.0 (France) Attribution: tatoeba.org #538123 (CM) & #402127 (odexed)\n",
            "Hi.\tПривет!\tCC-BY 2.0 (France) Attribution: tatoeba.org #538123 (CM) & #466968 (katjka)\n",
            "Hi.\tХай.\tCC-BY 2.0 (France) Attribution: tatoeba.org #538123 (CM) & #467233 (timsa)\n",
            "Hi.\tЗдрасте.\tCC-BY 2.0 (France) Attribution: tatoeba.org #538123 (CM) & #3803577 (marafon)\n",
            "Hi.\tЗдоро́во!\tCC-BY 2.0 (France) Attribution: tatoeba.org #538123 (CM) & #3854188 (marafon)\n",
            "Hi.\tПриветик!\tCC-BY 2.0 (France) Attribution: tatoeba.org #538123 (CM) & #7234283 (marafon)\n",
            "Run!\tБеги!\tCC-BY 2.0 (France) Attribution: tatoeba.org #906328 (papabear) & #1569978 (Biga)\n"
          ]
        }
      ]
    },
    {
      "cell_type": "code",
      "metadata": {
        "id": "kyNnJyruM9t1"
      },
      "source": [
        "SOS_token = 0\n",
        "EOS_token = 1\n",
        "lang1 = 'rus'\n",
        "lang2 = 'eng'\n",
        "\n",
        "class Lang:\n",
        "    def __init__(self, name):\n",
        "        self.name = name\n",
        "        self.word2index = {}\n",
        "        self.word2count = {}\n",
        "        self.index2word = {0: \"SOS\", 1: \"EOS\"}\n",
        "        self.n_words = 2  # Count SOS and EOS\n",
        "\n",
        "    def addSentence(self, sentence):\n",
        "        for word in sentence.split(' '):\n",
        "            self.addWord(word)\n",
        "\n",
        "    def addWord(self, word):\n",
        "        if word not in self.word2index:\n",
        "            self.word2index[word] = self.n_words\n",
        "            self.word2count[word] = 1\n",
        "            self.index2word[self.n_words] = word\n",
        "            self.n_words += 1\n",
        "        else:\n",
        "            self.word2count[word] += 1"
      ],
      "execution_count": null,
      "outputs": []
    },
    {
      "cell_type": "code",
      "metadata": {
        "id": "FXKs8j4bM9t6"
      },
      "source": [
        "# Turn a Unicode string to plain ASCII, thanks to\n",
        "# http://stackoverflow.com/a/518232/2809427\n",
        "def unicodeToAscii(s):\n",
        "    return ''.join(\n",
        "        c for c in unicodedata.normalize('NFD', s)\n",
        "        if unicodedata.category(c) != 'Mn'\n",
        "    )\n",
        "\n",
        "# Lowercase, trim, and remove non-letter characters\n",
        "def normalizeString(s):\n",
        "    s = unicodeToAscii(s.lower().strip())\n",
        "    s = re.sub(r\"([.!?])\", r\" \\1\", s)\n",
        "    s = re.sub(r\"[^a-zA-Zа-яА-Я.!?]+\", r\" \", s)\n",
        "    return s"
      ],
      "execution_count": null,
      "outputs": []
    },
    {
      "cell_type": "code",
      "metadata": {
        "id": "D8T4VxZeM9t-"
      },
      "source": [
        "def readLangs(lang1, lang2, reverse=False):\n",
        "    print(\"Reading lines...\")\n",
        "\n",
        "    # Read the file and split into lines    #data/%s-%s.txt\n",
        "    # lines = open('data/%s-%s.txt' % (lang1, lang2), encoding='utf-8').read().strip().split('\\n')\n",
        "    lines = open('rus.txt', encoding='utf-8').read().strip().split('\\n')\n",
        "\n",
        "    # Split every line into pairs and normalize\n",
        "    # pairs = [[normalizeString(s) for s in l.split('\\t')] for l in lines]\n",
        "    pairs = [[normalizeString(s) for s in l.split('\\t')[:-1]] for l in lines]\n",
        "\n",
        "    # Reverse pairs, make Lang instances\n",
        "    if reverse:\n",
        "        pairs = [list(reversed(p)) for p in pairs]\n",
        "        input_lang = Lang(lang2)\n",
        "        output_lang = Lang(lang1)\n",
        "    else:\n",
        "        input_lang  = Lang(lang1)\n",
        "        output_lang = Lang(lang2)\n",
        "\n",
        "    return input_lang, output_lang, pairs"
      ],
      "execution_count": null,
      "outputs": []
    },
    {
      "cell_type": "markdown",
      "metadata": {
        "id": "Wn1gx_3yfEYL"
      },
      "source": [
        "#### 2.__"
      ]
    },
    {
      "cell_type": "code",
      "metadata": {
        "colab": {
          "base_uri": "https://localhost:8080/"
        },
        "id": "kpjeVQq3mLwr",
        "outputId": "a044d538-1479-40f7-cc32-d8aef423f636"
      },
      "source": [
        "rl = readLangs('eng', 'rus', reverse=False)[2]"
      ],
      "execution_count": null,
      "outputs": [
        {
          "output_type": "stream",
          "name": "stdout",
          "text": [
            "Reading lines...\n"
          ]
        }
      ]
    },
    {
      "cell_type": "code",
      "metadata": {
        "colab": {
          "base_uri": "https://localhost:8080/"
        },
        "id": "qX9fs4czE3jN",
        "outputId": "08ba449d-1118-4452-9ecc-4f6c58291a55"
      },
      "source": [
        "rl[2000:2005]"
      ],
      "execution_count": null,
      "outputs": [
        {
          "output_type": "execute_result",
          "data": {
            "text/plain": [
              "[['who s tom ?', 'кто том ?'],\n",
              " ['who s tom ?', 'кто такои том ?'],\n",
              " ['who s ill ?', 'кто болен ?'],\n",
              " ['who s she ?', 'кто она ?'],\n",
              " ['wonderful !', 'замечательно !']]"
            ]
          },
          "metadata": {},
          "execution_count": 10
        }
      ]
    },
    {
      "cell_type": "code",
      "metadata": {
        "colab": {
          "base_uri": "https://localhost:8080/",
          "height": 250
        },
        "id": "JrwncSeRVrgM",
        "outputId": "9732c3db-f555-4e50-da5f-3e7f4b0a248e"
      },
      "source": [
        "df_temp = pd.DataFrame(rl, columns = ['eng', 'rus'])\n",
        "df_temp['eng_words'] =df_temp['eng'].str.split().apply(len)\n",
        "df_temp['rus_words'] =df_temp['rus'].str.split().apply(len)\n",
        "df_temp['min_words'] =df_temp[['rus_words', 'eng_words']].min(axis=1)\n",
        "df_temp.tail()"
      ],
      "execution_count": null,
      "outputs": [
        {
          "output_type": "execute_result",
          "data": {
            "text/plain": [
              "                                                      eng  \\\n",
              "464005  at a moment when our economy is growing our bu...   \n",
              "464006  when i was younger i hated going to weddings ....   \n",
              "464007  since there are usually multiple websites on a...   \n",
              "464008  if someone who doesn t know your background sa...   \n",
              "464009  doubtless there exists in this world precisely...   \n",
              "\n",
              "                                                      rus  eng_words  \\\n",
              "464005  в тот момент когда наша экономика растет наши ...         43   \n",
              "464006  когда я была помоложе я ненавидела ходить на с...         49   \n",
              "464007  поскольку саитов посвященных какои либо теме к...         46   \n",
              "464008  если кто то незнакомыи говорит что вы говорите...         49   \n",
              "464009  несомненно для каждого мужчины в этом мире где...        102   \n",
              "\n",
              "        rus_words  min_words  \n",
              "464005         36         36  \n",
              "464006         47         47  \n",
              "464007         40         40  \n",
              "464008         39         39  \n",
              "464009         83         83  "
            ],
            "text/html": [
              "\n",
              "  <div id=\"df-976f101e-20c2-4972-8594-88602ca96332\">\n",
              "    <div class=\"colab-df-container\">\n",
              "      <div>\n",
              "<style scoped>\n",
              "    .dataframe tbody tr th:only-of-type {\n",
              "        vertical-align: middle;\n",
              "    }\n",
              "\n",
              "    .dataframe tbody tr th {\n",
              "        vertical-align: top;\n",
              "    }\n",
              "\n",
              "    .dataframe thead th {\n",
              "        text-align: right;\n",
              "    }\n",
              "</style>\n",
              "<table border=\"1\" class=\"dataframe\">\n",
              "  <thead>\n",
              "    <tr style=\"text-align: right;\">\n",
              "      <th></th>\n",
              "      <th>eng</th>\n",
              "      <th>rus</th>\n",
              "      <th>eng_words</th>\n",
              "      <th>rus_words</th>\n",
              "      <th>min_words</th>\n",
              "    </tr>\n",
              "  </thead>\n",
              "  <tbody>\n",
              "    <tr>\n",
              "      <th>464005</th>\n",
              "      <td>at a moment when our economy is growing our bu...</td>\n",
              "      <td>в тот момент когда наша экономика растет наши ...</td>\n",
              "      <td>43</td>\n",
              "      <td>36</td>\n",
              "      <td>36</td>\n",
              "    </tr>\n",
              "    <tr>\n",
              "      <th>464006</th>\n",
              "      <td>when i was younger i hated going to weddings ....</td>\n",
              "      <td>когда я была помоложе я ненавидела ходить на с...</td>\n",
              "      <td>49</td>\n",
              "      <td>47</td>\n",
              "      <td>47</td>\n",
              "    </tr>\n",
              "    <tr>\n",
              "      <th>464007</th>\n",
              "      <td>since there are usually multiple websites on a...</td>\n",
              "      <td>поскольку саитов посвященных какои либо теме к...</td>\n",
              "      <td>46</td>\n",
              "      <td>40</td>\n",
              "      <td>40</td>\n",
              "    </tr>\n",
              "    <tr>\n",
              "      <th>464008</th>\n",
              "      <td>if someone who doesn t know your background sa...</td>\n",
              "      <td>если кто то незнакомыи говорит что вы говорите...</td>\n",
              "      <td>49</td>\n",
              "      <td>39</td>\n",
              "      <td>39</td>\n",
              "    </tr>\n",
              "    <tr>\n",
              "      <th>464009</th>\n",
              "      <td>doubtless there exists in this world precisely...</td>\n",
              "      <td>несомненно для каждого мужчины в этом мире где...</td>\n",
              "      <td>102</td>\n",
              "      <td>83</td>\n",
              "      <td>83</td>\n",
              "    </tr>\n",
              "  </tbody>\n",
              "</table>\n",
              "</div>\n",
              "      <button class=\"colab-df-convert\" onclick=\"convertToInteractive('df-976f101e-20c2-4972-8594-88602ca96332')\"\n",
              "              title=\"Convert this dataframe to an interactive table.\"\n",
              "              style=\"display:none;\">\n",
              "        \n",
              "  <svg xmlns=\"http://www.w3.org/2000/svg\" height=\"24px\"viewBox=\"0 0 24 24\"\n",
              "       width=\"24px\">\n",
              "    <path d=\"M0 0h24v24H0V0z\" fill=\"none\"/>\n",
              "    <path d=\"M18.56 5.44l.94 2.06.94-2.06 2.06-.94-2.06-.94-.94-2.06-.94 2.06-2.06.94zm-11 1L8.5 8.5l.94-2.06 2.06-.94-2.06-.94L8.5 2.5l-.94 2.06-2.06.94zm10 10l.94 2.06.94-2.06 2.06-.94-2.06-.94-.94-2.06-.94 2.06-2.06.94z\"/><path d=\"M17.41 7.96l-1.37-1.37c-.4-.4-.92-.59-1.43-.59-.52 0-1.04.2-1.43.59L10.3 9.45l-7.72 7.72c-.78.78-.78 2.05 0 2.83L4 21.41c.39.39.9.59 1.41.59.51 0 1.02-.2 1.41-.59l7.78-7.78 2.81-2.81c.8-.78.8-2.07 0-2.86zM5.41 20L4 18.59l7.72-7.72 1.47 1.35L5.41 20z\"/>\n",
              "  </svg>\n",
              "      </button>\n",
              "      \n",
              "  <style>\n",
              "    .colab-df-container {\n",
              "      display:flex;\n",
              "      flex-wrap:wrap;\n",
              "      gap: 12px;\n",
              "    }\n",
              "\n",
              "    .colab-df-convert {\n",
              "      background-color: #E8F0FE;\n",
              "      border: none;\n",
              "      border-radius: 50%;\n",
              "      cursor: pointer;\n",
              "      display: none;\n",
              "      fill: #1967D2;\n",
              "      height: 32px;\n",
              "      padding: 0 0 0 0;\n",
              "      width: 32px;\n",
              "    }\n",
              "\n",
              "    .colab-df-convert:hover {\n",
              "      background-color: #E2EBFA;\n",
              "      box-shadow: 0px 1px 2px rgba(60, 64, 67, 0.3), 0px 1px 3px 1px rgba(60, 64, 67, 0.15);\n",
              "      fill: #174EA6;\n",
              "    }\n",
              "\n",
              "    [theme=dark] .colab-df-convert {\n",
              "      background-color: #3B4455;\n",
              "      fill: #D2E3FC;\n",
              "    }\n",
              "\n",
              "    [theme=dark] .colab-df-convert:hover {\n",
              "      background-color: #434B5C;\n",
              "      box-shadow: 0px 1px 3px 1px rgba(0, 0, 0, 0.15);\n",
              "      filter: drop-shadow(0px 1px 2px rgba(0, 0, 0, 0.3));\n",
              "      fill: #FFFFFF;\n",
              "    }\n",
              "  </style>\n",
              "\n",
              "      <script>\n",
              "        const buttonEl =\n",
              "          document.querySelector('#df-976f101e-20c2-4972-8594-88602ca96332 button.colab-df-convert');\n",
              "        buttonEl.style.display =\n",
              "          google.colab.kernel.accessAllowed ? 'block' : 'none';\n",
              "\n",
              "        async function convertToInteractive(key) {\n",
              "          const element = document.querySelector('#df-976f101e-20c2-4972-8594-88602ca96332');\n",
              "          const dataTable =\n",
              "            await google.colab.kernel.invokeFunction('convertToInteractive',\n",
              "                                                     [key], {});\n",
              "          if (!dataTable) return;\n",
              "\n",
              "          const docLinkHtml = 'Like what you see? Visit the ' +\n",
              "            '<a target=\"_blank\" href=https://colab.research.google.com/notebooks/data_table.ipynb>data table notebook</a>'\n",
              "            + ' to learn more about interactive tables.';\n",
              "          element.innerHTML = '';\n",
              "          dataTable['output_type'] = 'display_data';\n",
              "          await google.colab.output.renderOutput(dataTable, element);\n",
              "          const docLink = document.createElement('div');\n",
              "          docLink.innerHTML = docLinkHtml;\n",
              "          element.appendChild(docLink);\n",
              "        }\n",
              "      </script>\n",
              "    </div>\n",
              "  </div>\n",
              "  "
            ]
          },
          "metadata": {},
          "execution_count": 11
        }
      ]
    },
    {
      "cell_type": "code",
      "metadata": {
        "colab": {
          "base_uri": "https://localhost:8080/"
        },
        "id": "mH4sYH1Obf7s",
        "outputId": "87eec6de-07f9-434e-ddc1-c3431841961b"
      },
      "source": [
        "df_temp['min_w_gr']  =pd.cut(df_temp['min_words'],[-9,4,5,6,7,8,9,10,20,9999])\n",
        "df_temp['min_w_gr'].value_counts()"
      ],
      "execution_count": null,
      "outputs": [
        {
          "output_type": "execute_result",
          "data": {
            "text/plain": [
              "(4, 5]        100569\n",
              "(5, 6]         98344\n",
              "(-9, 4]        90260\n",
              "(6, 7]         75136\n",
              "(7, 8]         46857\n",
              "(8, 9]         25911\n",
              "(10, 20]       13771\n",
              "(9, 10]        13041\n",
              "(20, 9999]       121\n",
              "Name: min_w_gr, dtype: int64"
            ]
          },
          "metadata": {},
          "execution_count": 12
        }
      ]
    },
    {
      "cell_type": "code",
      "metadata": {
        "colab": {
          "base_uri": "https://localhost:8080/"
        },
        "id": "Tcma7YsD25aZ",
        "outputId": "e351721a-5602-41cb-d71d-ac1d1026c84b"
      },
      "source": [
        "eng_prefixes = (\"i am \", \"i m \",\n",
        "                \"he is\", \"he s \",\n",
        "                \"she is\", \"she s\",\n",
        "                \"you are\", \"you re \",\n",
        "                \"we are\", \"we re \",\n",
        "                \"they are\", \"they re \")\n",
        "\n",
        "df_temp['prefi'] = [df_temp.loc[i,'eng'].startswith(eng_prefixes)\n",
        "                                                    for i in df_temp.index]\n",
        "\n",
        "df_temp['prefi'].value_counts()"
      ],
      "execution_count": null,
      "outputs": [
        {
          "output_type": "execute_result",
          "data": {
            "text/plain": [
              "False    431782\n",
              "True      32228\n",
              "Name: prefi, dtype: int64"
            ]
          },
          "metadata": {},
          "execution_count": 13
        }
      ]
    },
    {
      "cell_type": "code",
      "metadata": {
        "colab": {
          "base_uri": "https://localhost:8080/"
        },
        "id": "4hF2hTcmFSy9",
        "outputId": "001ecad0-170b-4ba5-83f8-2637b5e58b99"
      },
      "source": [
        "df_temp[df_temp['prefi']==True].min_words.value_counts()"
      ],
      "execution_count": null,
      "outputs": [
        {
          "output_type": "execute_result",
          "data": {
            "text/plain": [
              "4     7114\n",
              "5     6667\n",
              "6     5655\n",
              "7     4323\n",
              "3     3558\n",
              "8     2530\n",
              "9     1213\n",
              "10     628\n",
              "11     275\n",
              "12     118\n",
              "13      53\n",
              "14      34\n",
              "2       33\n",
              "15      10\n",
              "16      10\n",
              "17       3\n",
              "18       3\n",
              "20       1\n",
              "Name: min_words, dtype: int64"
            ]
          },
          "metadata": {},
          "execution_count": 14
        }
      ]
    },
    {
      "cell_type": "code",
      "metadata": {
        "colab": {
          "base_uri": "https://localhost:8080/"
        },
        "id": "TLJ9Y3cq7A9V",
        "outputId": "366d5894-72b0-4a9c-8595-c11d22803623"
      },
      "source": [
        "df_temp[(df_temp['prefi']==True)&(df_temp['min_words']>3)&(df_temp['min_words']<20)].shape[0]"
      ],
      "execution_count": null,
      "outputs": [
        {
          "output_type": "execute_result",
          "data": {
            "text/plain": [
              "28636"
            ]
          },
          "metadata": {},
          "execution_count": 15
        }
      ]
    },
    {
      "cell_type": "code",
      "metadata": {
        "colab": {
          "base_uri": "https://localhost:8080/"
        },
        "id": "QNvzZFKm7BHK",
        "outputId": "5275a36d-49e1-4799-a1ae-13732162b827"
      },
      "source": [
        "df_temp[(df_temp['min_words']>3)&(df_temp['min_words']<7)].shape[0]"
      ],
      "execution_count": null,
      "outputs": [
        {
          "output_type": "execute_result",
          "data": {
            "text/plain": [
              "267012"
            ]
          },
          "metadata": {},
          "execution_count": 16
        }
      ]
    },
    {
      "cell_type": "code",
      "metadata": {
        "colab": {
          "base_uri": "https://localhost:8080/"
        },
        "id": "ltYxR-_t8cLb",
        "outputId": "b860e918-36bf-41a1-b862-ba153b196942"
      },
      "source": [
        "df_temp[(df_temp['min_words']>3)&(df_temp['min_words']<20)].shape[0]"
      ],
      "execution_count": null,
      "outputs": [
        {
          "output_type": "execute_result",
          "data": {
            "text/plain": [
              "441677"
            ]
          },
          "metadata": {},
          "execution_count": 17
        }
      ]
    },
    {
      "cell_type": "code",
      "metadata": {
        "colab": {
          "base_uri": "https://localhost:8080/"
        },
        "id": "2ZfrU6JBLw1N",
        "outputId": "92429b56-4fcb-4c19-f69a-a6972dc8d75e"
      },
      "source": [
        "df_temp['delta_len'] = abs(df_temp['eng_words'] - df_temp['rus_words'])\n",
        "df_temp['delta_len'].value_counts()"
      ],
      "execution_count": null,
      "outputs": [
        {
          "output_type": "execute_result",
          "data": {
            "text/plain": [
              "1     185494\n",
              "2     111598\n",
              "0      98563\n",
              "3      45143\n",
              "4      15904\n",
              "5       5166\n",
              "6       1554\n",
              "7        407\n",
              "8        105\n",
              "9         35\n",
              "10        20\n",
              "11        13\n",
              "12         5\n",
              "13         2\n",
              "19         1\n",
              "Name: delta_len, dtype: int64"
            ]
          },
          "metadata": {},
          "execution_count": 18
        }
      ]
    },
    {
      "cell_type": "code",
      "metadata": {
        "colab": {
          "base_uri": "https://localhost:8080/",
          "height": 375
        },
        "id": "PNTrsvymgiNK",
        "outputId": "e8819841-a8b6-49e1-d905-10171c645c39"
      },
      "source": [
        " df_temp[(df_temp['delta_len']>10)&(df_temp['min_words']<20)].iloc[:,[0,1,2,3,-1]][2:11]"
      ],
      "execution_count": null,
      "outputs": [
        {
          "output_type": "execute_result",
          "data": {
            "text/plain": [
              "                                                      eng  \\\n",
              "462900  i promise i ll pay you back the money that i o...   \n",
              "462902  i promise i ll pay you back the money that i o...   \n",
              "462904  i promise that i ll pay you back the money i o...   \n",
              "462906  i promise that i ll pay you back the money i o...   \n",
              "463250  i promise that i ll pay you back the money tha...   \n",
              "463252  i promise that i ll pay you back the money tha...   \n",
              "463622  it had the head of a woman the body of a lion ...   \n",
              "463722  i ve heard it said that it s harder to please ...   \n",
              "463723  i ve heard it said that it s harder to please ...   \n",
              "\n",
              "                                                      rus  eng_words  \\\n",
              "462900       обещаю что верну тебе долг до конца месяца .         20   \n",
              "462902        обещаю что верну вам долг до конца месяца .         20   \n",
              "462904       обещаю что верну тебе долг до конца месяца .         20   \n",
              "462906        обещаю что верну вам долг до конца месяца .         20   \n",
              "463250       обещаю что верну тебе долг до конца месяца .         21   \n",
              "463252        обещаю что верну вам долг до конца месяца .         21   \n",
              "463622  у него была голова женщины тело льва крылья пт...         24   \n",
              "463722  я слышал что женщине труднее угодить чем мужчи...         26   \n",
              "463723  я слышал что женщину труднее удовлетворить чем...         26   \n",
              "\n",
              "        rus_words  delta_len  \n",
              "462900          9         11  \n",
              "462902          9         11  \n",
              "462904          9         11  \n",
              "462906          9         11  \n",
              "463250          9         12  \n",
              "463252          9         12  \n",
              "463622         13         11  \n",
              "463722         15         11  \n",
              "463723         15         11  "
            ],
            "text/html": [
              "\n",
              "  <div id=\"df-bb5a1b17-7e1c-42ce-af37-0cd4edbbfe8b\">\n",
              "    <div class=\"colab-df-container\">\n",
              "      <div>\n",
              "<style scoped>\n",
              "    .dataframe tbody tr th:only-of-type {\n",
              "        vertical-align: middle;\n",
              "    }\n",
              "\n",
              "    .dataframe tbody tr th {\n",
              "        vertical-align: top;\n",
              "    }\n",
              "\n",
              "    .dataframe thead th {\n",
              "        text-align: right;\n",
              "    }\n",
              "</style>\n",
              "<table border=\"1\" class=\"dataframe\">\n",
              "  <thead>\n",
              "    <tr style=\"text-align: right;\">\n",
              "      <th></th>\n",
              "      <th>eng</th>\n",
              "      <th>rus</th>\n",
              "      <th>eng_words</th>\n",
              "      <th>rus_words</th>\n",
              "      <th>delta_len</th>\n",
              "    </tr>\n",
              "  </thead>\n",
              "  <tbody>\n",
              "    <tr>\n",
              "      <th>462900</th>\n",
              "      <td>i promise i ll pay you back the money that i o...</td>\n",
              "      <td>обещаю что верну тебе долг до конца месяца .</td>\n",
              "      <td>20</td>\n",
              "      <td>9</td>\n",
              "      <td>11</td>\n",
              "    </tr>\n",
              "    <tr>\n",
              "      <th>462902</th>\n",
              "      <td>i promise i ll pay you back the money that i o...</td>\n",
              "      <td>обещаю что верну вам долг до конца месяца .</td>\n",
              "      <td>20</td>\n",
              "      <td>9</td>\n",
              "      <td>11</td>\n",
              "    </tr>\n",
              "    <tr>\n",
              "      <th>462904</th>\n",
              "      <td>i promise that i ll pay you back the money i o...</td>\n",
              "      <td>обещаю что верну тебе долг до конца месяца .</td>\n",
              "      <td>20</td>\n",
              "      <td>9</td>\n",
              "      <td>11</td>\n",
              "    </tr>\n",
              "    <tr>\n",
              "      <th>462906</th>\n",
              "      <td>i promise that i ll pay you back the money i o...</td>\n",
              "      <td>обещаю что верну вам долг до конца месяца .</td>\n",
              "      <td>20</td>\n",
              "      <td>9</td>\n",
              "      <td>11</td>\n",
              "    </tr>\n",
              "    <tr>\n",
              "      <th>463250</th>\n",
              "      <td>i promise that i ll pay you back the money tha...</td>\n",
              "      <td>обещаю что верну тебе долг до конца месяца .</td>\n",
              "      <td>21</td>\n",
              "      <td>9</td>\n",
              "      <td>12</td>\n",
              "    </tr>\n",
              "    <tr>\n",
              "      <th>463252</th>\n",
              "      <td>i promise that i ll pay you back the money tha...</td>\n",
              "      <td>обещаю что верну вам долг до конца месяца .</td>\n",
              "      <td>21</td>\n",
              "      <td>9</td>\n",
              "      <td>12</td>\n",
              "    </tr>\n",
              "    <tr>\n",
              "      <th>463622</th>\n",
              "      <td>it had the head of a woman the body of a lion ...</td>\n",
              "      <td>у него была голова женщины тело льва крылья пт...</td>\n",
              "      <td>24</td>\n",
              "      <td>13</td>\n",
              "      <td>11</td>\n",
              "    </tr>\n",
              "    <tr>\n",
              "      <th>463722</th>\n",
              "      <td>i ve heard it said that it s harder to please ...</td>\n",
              "      <td>я слышал что женщине труднее угодить чем мужчи...</td>\n",
              "      <td>26</td>\n",
              "      <td>15</td>\n",
              "      <td>11</td>\n",
              "    </tr>\n",
              "    <tr>\n",
              "      <th>463723</th>\n",
              "      <td>i ve heard it said that it s harder to please ...</td>\n",
              "      <td>я слышал что женщину труднее удовлетворить чем...</td>\n",
              "      <td>26</td>\n",
              "      <td>15</td>\n",
              "      <td>11</td>\n",
              "    </tr>\n",
              "  </tbody>\n",
              "</table>\n",
              "</div>\n",
              "      <button class=\"colab-df-convert\" onclick=\"convertToInteractive('df-bb5a1b17-7e1c-42ce-af37-0cd4edbbfe8b')\"\n",
              "              title=\"Convert this dataframe to an interactive table.\"\n",
              "              style=\"display:none;\">\n",
              "        \n",
              "  <svg xmlns=\"http://www.w3.org/2000/svg\" height=\"24px\"viewBox=\"0 0 24 24\"\n",
              "       width=\"24px\">\n",
              "    <path d=\"M0 0h24v24H0V0z\" fill=\"none\"/>\n",
              "    <path d=\"M18.56 5.44l.94 2.06.94-2.06 2.06-.94-2.06-.94-.94-2.06-.94 2.06-2.06.94zm-11 1L8.5 8.5l.94-2.06 2.06-.94-2.06-.94L8.5 2.5l-.94 2.06-2.06.94zm10 10l.94 2.06.94-2.06 2.06-.94-2.06-.94-.94-2.06-.94 2.06-2.06.94z\"/><path d=\"M17.41 7.96l-1.37-1.37c-.4-.4-.92-.59-1.43-.59-.52 0-1.04.2-1.43.59L10.3 9.45l-7.72 7.72c-.78.78-.78 2.05 0 2.83L4 21.41c.39.39.9.59 1.41.59.51 0 1.02-.2 1.41-.59l7.78-7.78 2.81-2.81c.8-.78.8-2.07 0-2.86zM5.41 20L4 18.59l7.72-7.72 1.47 1.35L5.41 20z\"/>\n",
              "  </svg>\n",
              "      </button>\n",
              "      \n",
              "  <style>\n",
              "    .colab-df-container {\n",
              "      display:flex;\n",
              "      flex-wrap:wrap;\n",
              "      gap: 12px;\n",
              "    }\n",
              "\n",
              "    .colab-df-convert {\n",
              "      background-color: #E8F0FE;\n",
              "      border: none;\n",
              "      border-radius: 50%;\n",
              "      cursor: pointer;\n",
              "      display: none;\n",
              "      fill: #1967D2;\n",
              "      height: 32px;\n",
              "      padding: 0 0 0 0;\n",
              "      width: 32px;\n",
              "    }\n",
              "\n",
              "    .colab-df-convert:hover {\n",
              "      background-color: #E2EBFA;\n",
              "      box-shadow: 0px 1px 2px rgba(60, 64, 67, 0.3), 0px 1px 3px 1px rgba(60, 64, 67, 0.15);\n",
              "      fill: #174EA6;\n",
              "    }\n",
              "\n",
              "    [theme=dark] .colab-df-convert {\n",
              "      background-color: #3B4455;\n",
              "      fill: #D2E3FC;\n",
              "    }\n",
              "\n",
              "    [theme=dark] .colab-df-convert:hover {\n",
              "      background-color: #434B5C;\n",
              "      box-shadow: 0px 1px 3px 1px rgba(0, 0, 0, 0.15);\n",
              "      filter: drop-shadow(0px 1px 2px rgba(0, 0, 0, 0.3));\n",
              "      fill: #FFFFFF;\n",
              "    }\n",
              "  </style>\n",
              "\n",
              "      <script>\n",
              "        const buttonEl =\n",
              "          document.querySelector('#df-bb5a1b17-7e1c-42ce-af37-0cd4edbbfe8b button.colab-df-convert');\n",
              "        buttonEl.style.display =\n",
              "          google.colab.kernel.accessAllowed ? 'block' : 'none';\n",
              "\n",
              "        async function convertToInteractive(key) {\n",
              "          const element = document.querySelector('#df-bb5a1b17-7e1c-42ce-af37-0cd4edbbfe8b');\n",
              "          const dataTable =\n",
              "            await google.colab.kernel.invokeFunction('convertToInteractive',\n",
              "                                                     [key], {});\n",
              "          if (!dataTable) return;\n",
              "\n",
              "          const docLinkHtml = 'Like what you see? Visit the ' +\n",
              "            '<a target=\"_blank\" href=https://colab.research.google.com/notebooks/data_table.ipynb>data table notebook</a>'\n",
              "            + ' to learn more about interactive tables.';\n",
              "          element.innerHTML = '';\n",
              "          dataTable['output_type'] = 'display_data';\n",
              "          await google.colab.output.renderOutput(dataTable, element);\n",
              "          const docLink = document.createElement('div');\n",
              "          docLink.innerHTML = docLinkHtml;\n",
              "          element.appendChild(docLink);\n",
              "        }\n",
              "      </script>\n",
              "    </div>\n",
              "  </div>\n",
              "  "
            ]
          },
          "metadata": {},
          "execution_count": 19
        }
      ]
    },
    {
      "cell_type": "markdown",
      "metadata": {
        "id": "ZajQB_Z9fSs7"
      },
      "source": [
        "#### 2.2."
      ]
    },
    {
      "cell_type": "code",
      "metadata": {
        "id": "eBOwgEBdM9uB"
      },
      "source": [
        "def filterPair(p, prefi, max_):\n",
        "    if prefi == None:\n",
        "        return  len(p[0].split(' ')) >3 and \\\n",
        "                len(p[1].split(' ')) >3 and \\\n",
        "                len(p[0].split(' ')) < max_ and \\\n",
        "                len(p[1].split(' ')) < max_\n",
        "    else:\n",
        "        return  len(p[0].split(' ')) >3 and \\\n",
        "                len(p[1].split(' ')) >3 and \\\n",
        "                len(p[0].split(' ')) < max_ and \\\n",
        "                len(p[1].split(' ')) < max_ and \\\n",
        "                p[0].startswith(prefi) #\n",
        "\n",
        "def filterPairs(pairs, pref, max_l):\n",
        "    return [pair for pair in pairs if filterPair(pair, pref, max_l)]"
      ],
      "execution_count": null,
      "outputs": []
    },
    {
      "cell_type": "code",
      "metadata": {
        "id": "6dZOGjd5M9uE"
      },
      "source": [
        "def prepareData(lang1, lang2, pre, max_le, reverse=False):\n",
        "    input_lang, output_lang, pairs = readLangs(lang1, lang2, reverse)\n",
        "    print(\"Read %s sentence pairs\" % len(pairs))\n",
        "    pairs = filterPairs(pairs, pre, max_le)\n",
        "    print(\"Trimmed to %s sentence pairs\" % len(pairs))\n",
        "    print(\"Counting words...\")\n",
        "    for pair in pairs:\n",
        "        input_lang.addSentence(pair[0])\n",
        "        output_lang.addSentence(pair[1])\n",
        "    print(\"Counted words:\")\n",
        "    print(input_lang.name, input_lang.n_words)\n",
        "    print(output_lang.name, output_lang.n_words)\n",
        "    return input_lang, output_lang, pairs"
      ],
      "execution_count": null,
      "outputs": []
    },
    {
      "cell_type": "code",
      "metadata": {
        "id": "z6gGPtXFM9uQ"
      },
      "source": [
        "def indexesFromSentence(lang, sentence):\n",
        "    return [lang.word2index[word] for word in sentence.split(' ')]\n",
        "\n",
        "def tensorFromSentence(lang, sentence):\n",
        "    indexes = indexesFromSentence(lang, sentence)\n",
        "    indexes.append(EOS_token)\n",
        "    return torch.tensor(indexes, dtype=torch.long, device=device).view(-1, 1)\n",
        "\n",
        "def tensorsFromPair(pair, input_l, output_l):\n",
        "    input_tensor = tensorFromSentence(input_l, pair[0])\n",
        "    target_tensor = tensorFromSentence(output_l, pair[1])\n",
        "    return (input_tensor, target_tensor)"
      ],
      "execution_count": null,
      "outputs": []
    },
    {
      "cell_type": "markdown",
      "metadata": {
        "id": "vgtWqznCM9uH"
      },
      "source": [
        "# **7 The Encoder** (прогоняет наши данные через модель)\n",
        "-----------\n",
        "\n",
        "\n"
      ]
    },
    {
      "cell_type": "code",
      "metadata": {
        "id": "FqukGu_qSGW9"
      },
      "source": [
        "class EncoderRNN2(nn.Module):\n",
        "    def __init__(self, input_size, hidden_size, n_layers, rnn_type):\n",
        "        super(EncoderRNN2, self).__init__()\n",
        "        self.hidden_size = hidden_size\n",
        "\n",
        "        self.embedding = nn.Embedding(input_size, hidden_size)\n",
        "        self.rnn = rnn_type(hidden_size, hidden_size, n_layers)\n",
        "\n",
        "    def forward(self, input, hidden):\n",
        "        embedded = self.embedding(input).view(1, 1, -1)\n",
        "        output = embedded\n",
        "        output, hidden = self.rnn(output, hidden)\n",
        "        return output, hidden\n",
        "\n",
        "    def initHidden(self, n_layers):\n",
        "        return torch.zeros(n_layers, 1, self.hidden_size, device=device)"
      ],
      "execution_count": null,
      "outputs": []
    },
    {
      "cell_type": "markdown",
      "metadata": {
        "id": "FwLTlgSyM9uK"
      },
      "source": [
        "#  **8 The Decoder**\n",
        "-----------\n"
      ]
    },
    {
      "cell_type": "code",
      "metadata": {
        "id": "_qR8FKQZRmQm"
      },
      "source": [
        "class DecoderRNN2(nn.Module):\n",
        "    def __init__(self, hidden_size, output_size, n_layers, rnn_type):\n",
        "        super(DecoderRNN2, self).__init__()\n",
        "        self.hidden_size = hidden_size\n",
        "\n",
        "        self.embedding = nn.Embedding(output_size, hidden_size)\n",
        "        self.rnn       = rnn_type(hidden_size, hidden_size, n_layers)\n",
        "        self.out       = nn.Linear(hidden_size, output_size)\n",
        "        self.softmax   = nn.LogSoftmax(dim=1)\n",
        "\n",
        "    def forward(self, input, hidden):\n",
        "        output         = self.embedding(input).view(1, 1, -1)\n",
        "        output         = F.relu(output)\n",
        "        output, hidden = self.rnn(output, hidden)\n",
        "        output         = self.softmax(self.out(output[0]))\n",
        "        return output, hidden\n",
        "\n",
        "    def initHidden(self, n_layers):\n",
        "        return torch.zeros(n_layers, 1, self.hidden_size, device=device)"
      ],
      "execution_count": null,
      "outputs": []
    },
    {
      "cell_type": "markdown",
      "metadata": {
        "id": "PWJB9sIqeG4e"
      },
      "source": [
        "#### 3.3. Train + Teacher forcing"
      ]
    },
    {
      "cell_type": "code",
      "metadata": {
        "id": "8Fn8VDv8M9uS"
      },
      "source": [
        "def train(input_tensor, target_tensor,\n",
        "          encoder, decoder, encoder_optimizer, decoder_optimizer,\n",
        "          criterion, max_length, rnn_ty, n_layers, t_f_ratio):\n",
        "\n",
        "    if rnn_ty.__name__ == 'LSTM':\n",
        "        encoder_hidden = (encoder.initHidden(n_layers), encoder.initHidden(n_layers))\n",
        "    else:\n",
        "        encoder_hidden = encoder.initHidden(n_layers)\n",
        "\n",
        "    encoder_optimizer.zero_grad()\n",
        "    decoder_optimizer.zero_grad()\n",
        "\n",
        "    input_length = input_tensor.size(0)\n",
        "    target_length = target_tensor.size(0)\n",
        "\n",
        "    encoder_outputs = torch.zeros(max_length, encoder.hidden_size, device=device)\n",
        "\n",
        "    loss = 0\n",
        "\n",
        "    for ei in range(input_length):\n",
        "        encoder_output, encoder_hidden = encoder(\n",
        "                                            input_tensor[ei], encoder_hidden)\n",
        "        encoder_outputs[ei] = encoder_output[0, 0]\n",
        "\n",
        "    decoder_input = torch.tensor([[SOS_token]], device=device)\n",
        "\n",
        "    decoder_hidden = encoder_hidden\n",
        "\n",
        "    use_teacher_forcing = True if random.random() < t_f_ratio else False\n",
        "\n",
        "    if use_teacher_forcing:\n",
        "        # Teacher forcing: Feed the target as the next input\n",
        "        for di in range(target_length):\n",
        "            decoder_output, decoder_hidden = decoder(\n",
        "                                                decoder_input, decoder_hidden)\n",
        "            loss += criterion(decoder_output, target_tensor[di])\n",
        "            decoder_input = target_tensor[di]  # Teacher forcing\n",
        "\n",
        "    else:\n",
        "        # Without teacher forcing: use its own predictions as the next input\n",
        "        for di in range(target_length):\n",
        "            decoder_output, decoder_hidden = decoder(\n",
        "                                                decoder_input, decoder_hidden)\n",
        "            topv, topi = decoder_output.topk(1)\n",
        "            decoder_input = topi.squeeze().detach()  # detach from history as input\n",
        "\n",
        "            loss += criterion(decoder_output, target_tensor[di])\n",
        "            if decoder_input.item() == EOS_token:\n",
        "                break\n",
        "\n",
        "    loss.backward()\n",
        "\n",
        "    encoder_optimizer.step()\n",
        "    decoder_optimizer.step()\n",
        "\n",
        "    return loss.item() / target_length"
      ],
      "execution_count": null,
      "outputs": []
    },
    {
      "cell_type": "markdown",
      "metadata": {
        "id": "uLEY3Vv9egYf"
      },
      "source": [
        "#### 3.4. Train + iters"
      ]
    },
    {
      "cell_type": "code",
      "metadata": {
        "id": "C_z_k5IiM9uX"
      },
      "source": [
        "def trainIters(pair_sentenses, encoder, decoder, learning_rate, n_iters,\n",
        "               MAX_LENGTH, rnn_typ, nu_layers, teach_f_ratio, input_lan, output_lan,\n",
        "               print_every=5000, plot_every=500):\n",
        "\n",
        "    start               = time.time()\n",
        "    print_loss_total_loc = 0\n",
        "    print_loss_avg = 0\n",
        "\n",
        "    encoder_optimizer = optim.Adam(encoder.parameters())\n",
        "    decoder_optimizer = optim.Adam(decoder.parameters())\n",
        "\n",
        "    training_pairs = [tensorsFromPair(random.choice(pair_sentenses),\n",
        "                                      input_lan, output_lan)\n",
        "                                      for i in range(n_iters)]\n",
        "    criterion = nn.NLLLoss()\n",
        "\n",
        "    for iter in range(1, n_iters + 1):\n",
        "        training_pair = training_pairs[iter - 1]\n",
        "        input_tensor = training_pair[0]\n",
        "        target_tensor = training_pair[1]\n",
        "\n",
        "        loss = train(input_tensor, target_tensor, encoder, decoder,\n",
        "                     encoder_optimizer, decoder_optimizer, criterion,\n",
        "                     MAX_LENGTH, rnn_typ, nu_layers, teach_f_ratio)\n",
        "        print_loss_total_loc += loss\n",
        "\n",
        "        if iter % print_every == 0:\n",
        "            print_loss_avg = print_loss_total_loc / print_every\n",
        "            print_loss_total_loc = 0\n",
        "            print('%s (%d %d%%) %.4f' % (timeSince(start, iter / n_iters),\n",
        "                                         iter, iter / n_iters * 100, print_loss_avg))\n",
        "\n",
        "\n",
        "    return print_loss_avg"
      ],
      "execution_count": null,
      "outputs": []
    },
    {
      "cell_type": "markdown",
      "metadata": {
        "id": "i6krQ6s2euzs"
      },
      "source": [
        "#### 3.5. Evaluate"
      ]
    },
    {
      "cell_type": "code",
      "metadata": {
        "id": "3Bxf45h6M9ud"
      },
      "source": [
        "def evaluate(encoder, decoder, sentence, max_length, n_layers,\n",
        "             Rnn, inp_lang, out_lang):\n",
        "\n",
        "    with torch.no_grad():\n",
        "        input_tensor = tensorFromSentence(inp_lang, sentence)\n",
        "        input_length = input_tensor.size()[0]\n",
        "\n",
        "        if Rnn.__name__ == 'LSTM':\n",
        "            encoder_hidden = (encoder.initHidden(n_layers), encoder.initHidden(n_layers))\n",
        "        else:\n",
        "            encoder_hidden = encoder.initHidden(n_layers)\n",
        "\n",
        "        encoder_outputs = torch.zeros(max_length, encoder.hidden_size, device=device)\n",
        "\n",
        "        for ei in range(input_length):\n",
        "            encoder_output, encoder_hidden = encoder(input_tensor[ei],\n",
        "                                                     encoder_hidden)\n",
        "            encoder_outputs[ei] += encoder_output[0, 0]\n",
        "\n",
        "        decoder_input = torch.tensor([[SOS_token]], device=device)  # SOS\n",
        "\n",
        "        decoder_hidden = encoder_hidden\n",
        "\n",
        "        decoded_words = []\n",
        "\n",
        "        for di in range(max_length):\n",
        "            decoder_output, decoder_hidden = decoder(\n",
        "                decoder_input, decoder_hidden)\n",
        "            topv, topi = decoder_output.data.topk(1)\n",
        "            if topi.item() == EOS_token:\n",
        "                decoded_words.append('<EOS>')\n",
        "                break\n",
        "            else:\n",
        "                decoded_words.append(out_lang.index2word[topi.item()])\n",
        "\n",
        "            decoder_input = topi.squeeze().detach()\n",
        "\n",
        "        return decoded_words"
      ],
      "execution_count": null,
      "outputs": []
    },
    {
      "cell_type": "code",
      "metadata": {
        "id": "1qUmQIGwM9uf"
      },
      "source": [
        "def evaluateRandomly(pair_sen, encoder, decoder, MAX_LENGTH,\n",
        "                     _lauers, rnn_, in_lang, o_lang,  n=10):\n",
        "    for i in range(n):\n",
        "        pair = random.choice(pair_sen)\n",
        "        print('>', pair[0])\n",
        "        print('=', pair[1])\n",
        "        output_words = evaluate(encoder, decoder, pair[0], MAX_LENGTH,\n",
        "                                 _lauers, rnn_, in_lang, o_lang)\n",
        "        output_sentence = ' '.join(output_words)\n",
        "        print('<', output_sentence)\n",
        "        print('')"
      ],
      "execution_count": null,
      "outputs": []
    },
    {
      "cell_type": "markdown",
      "metadata": {
        "id": "qGykVYN2dXVf"
      },
      "source": [
        "#### 3.6. Вспомогательные функции"
      ]
    },
    {
      "cell_type": "code",
      "metadata": {
        "id": "0JXG-RzCM9uZ"
      },
      "source": [
        "import matplotlib.pyplot as plt\n",
        "plt.switch_backend('agg')\n",
        "import matplotlib.ticker as ticker\n",
        "import numpy as np\n",
        "\n",
        "\n",
        "def showPlot(points):\n",
        "    plt.figure()\n",
        "    fig, ax = plt.subplots()\n",
        "    # this locator puts ticks at regular intervals\n",
        "    loc = ticker.MultipleLocator(base=0.2)\n",
        "    ax.yaxis.set_major_locator(loc)\n",
        "    plt.plot(points)"
      ],
      "execution_count": null,
      "outputs": []
    },
    {
      "cell_type": "code",
      "metadata": {
        "id": "EKsdwPmSM9uU"
      },
      "source": [
        "import time\n",
        "import math\n",
        "\n",
        "\n",
        "def asMinutes(s):\n",
        "    m = math.floor(s / 60)\n",
        "    s -= m * 60\n",
        "    return '%dm %ds' % (m, s)\n",
        "\n",
        "\n",
        "def timeSince(since, percent):\n",
        "    now = time.time()\n",
        "    s = now - since\n",
        "    es = s / (percent)\n",
        "    rs = es - s\n",
        "    return '%s (- %s)' % (asMinutes(s), asMinutes(rs))"
      ],
      "execution_count": null,
      "outputs": []
    },
    {
      "cell_type": "markdown",
      "metadata": {
        "id": "msFzE3vEdiUr"
      },
      "source": [
        "### 4. Обучение"
      ]
    },
    {
      "cell_type": "code",
      "metadata": {
        "id": "l6NXeEdM9-xf"
      },
      "source": [
        "eng_prefixes = (\"i am \", \"i m \",\n",
        "                \"he is\", \"he s \",\n",
        "                \"she is\", \"she s\",\n",
        "                \"you are\", \"you re \",\n",
        "                \"we are\", \"we re \",\n",
        "                \"they are\", \"they re \"\n",
        "                )\n",
        "\n",
        "rnn_types           = [nn.RNN, nn.LSTM, nn.GRU]\n",
        "cols                = ['Max_length', 'RNN_Type', 'Hidden_layers', 'Loss']\n",
        "PATH7               = '/content/df_tt'"
      ],
      "execution_count": null,
      "outputs": []
    },
    {
      "cell_type": "code",
      "metadata": {
        "id": "tGzNoAxYAjh7"
      },
      "source": [
        "def test_model_hw_7(max_length_sent, num_hidden_lay_list, hidden_size = 256,\n",
        "                    learn_rate = 0.006, prefix = None,\n",
        "                    teach_force_ratio = 0.5,\n",
        "                    num_iters = 50000, every = 1000, num_file = 998):\n",
        "\n",
        "    input_lang, output_lang, pair_s = prepareData(lang1, lang2, prefix, max_length_sent)\n",
        "    print(random.choice(pair_s))\n",
        "\n",
        "    df = pd.DataFrame(columns= cols)\n",
        "\n",
        "    for rnn_type, num_layers in product(rnn_types, num_hidden_lay_list):\n",
        "\n",
        "        encoder2 = EncoderRNN2(input_lang.n_words, hidden_size, num_layers, rnn_type\n",
        "                               ).to(device)\n",
        "        decoder2 = DecoderRNN2(hidden_size, output_lang.n_words, num_layers, rnn_type\n",
        "                               ).to(device)\n",
        "\n",
        "        print('\\nMax_length = ', max_length_sent)\n",
        "        print(f'{rnn_type.__name__}, {num_layers} layers\\n\\ntraining')\n",
        "        loss_= trainIters(pair_s, encoder2, decoder2, learn_rate, num_iters,\n",
        "                          max_length_sent, rnn_type, num_layers, teach_force_ratio,\n",
        "                          input_lang, output_lang, every)\n",
        "\n",
        "        print('\\nevaluate\\n')\n",
        "        evaluateRandomly(pair_s, encoder2, decoder2, max_length_sent,\n",
        "                         num_layers, rnn_type, input_lang, output_lang)\n",
        "\n",
        "        string          = [max_length_sent, rnn_type.__name__, num_layers, loss_]\n",
        "        df.loc[len(df)] = string\n",
        "        file_name       = PATH7 + '.csv'\n",
        "        df.to_csv(file_name)"
      ],
      "execution_count": null,
      "outputs": []
    },
    {
      "cell_type": "markdown",
      "metadata": {
        "id": "ksVzm5ezfDCa"
      },
      "source": [
        "#### 4.1.  Модель"
      ]
    },
    {
      "cell_type": "code",
      "metadata": {
        "colab": {
          "base_uri": "https://localhost:8080/"
        },
        "id": "6k9Nd17dXgSn",
        "outputId": "01993779-9316-48fc-91ae-2cc70aee1d5e"
      },
      "source": [
        "test_model_hw_7(max_length_sent = 20, num_hidden_lay_list = [1,3],\n",
        "                learn_rate = 0.0001, teach_force_ratio = 0.5,\n",
        "                prefix = eng_prefixes, num_iters = 20000, every = 1000,\n",
        "                num_file = 1)"
      ],
      "execution_count": null,
      "outputs": [
        {
          "output_type": "stream",
          "name": "stdout",
          "text": [
            "Reading lines...\n",
            "Read 464010 sentence pairs\n",
            "Trimmed to 28626 sentence pairs\n",
            "Counting words...\n",
            "Counted words:\n",
            "rus 4274\n",
            "eng 10267\n",
            "['you re not going to cry are you ?', 'вы же не будете плакать ?']\n",
            "\n",
            "Max_length =  20\n",
            "RNN, 1 layers\n",
            "\n",
            "training\n",
            "3m 15s (- 61m 45s) (1000 5%) 4.7512\n",
            "6m 35s (- 59m 17s) (2000 10%) 4.6375\n",
            "9m 58s (- 56m 29s) (3000 15%) 4.6800\n",
            "13m 23s (- 53m 35s) (4000 20%) 4.6121\n",
            "16m 51s (- 50m 33s) (5000 25%) 4.6672\n",
            "20m 21s (- 47m 30s) (6000 30%) 4.5790\n",
            "23m 52s (- 44m 19s) (7000 35%) 4.4837\n",
            "27m 23s (- 41m 4s) (8000 40%) 4.5036\n",
            "30m 56s (- 37m 48s) (9000 45%) 4.4190\n",
            "34m 30s (- 34m 30s) (10000 50%) 4.5056\n",
            "38m 9s (- 31m 13s) (11000 55%) 4.5351\n",
            "41m 48s (- 27m 52s) (12000 60%) 4.4722\n",
            "45m 28s (- 24m 29s) (13000 65%) 4.4502\n",
            "49m 8s (- 21m 3s) (14000 70%) 4.4890\n",
            "52m 48s (- 17m 36s) (15000 75%) 4.4634\n",
            "56m 26s (- 14m 6s) (16000 80%) 4.4955\n",
            "60m 7s (- 10m 36s) (17000 85%) 4.4800\n",
            "63m 50s (- 7m 5s) (18000 90%) 4.4157\n",
            "67m 33s (- 3m 33s) (19000 95%) 4.4397\n",
            "71m 18s (- 0m 0s) (20000 100%) 4.3987\n",
            "\n",
            "evaluate\n",
            "\n",
            "> we re going to be late for school .\n",
            "= мы в школу опоздаем .\n",
            "< мы не что . . <EOS>\n",
            "\n",
            "> i m your bodyguard .\n",
            "= я твои телохранитель .\n",
            "< я не что . <EOS>\n",
            "\n",
            "> he is far from being happy .\n",
            "= он далеко не счастлив .\n",
            "< я не что . . <EOS>\n",
            "\n",
            "> i m the one who has to do this .\n",
            "= это надо сделать мне .\n",
            "< я не что . . <EOS>\n",
            "\n",
            "> i m very poor .\n",
            "= я очень беден .\n",
            "< я не что . <EOS>\n",
            "\n",
            "> i m glad you re safe .\n",
            "= я рад что ты в безопасности .\n",
            "< я не что . . <EOS>\n",
            "\n",
            "> i m going to teach you some karate .\n",
            "= я собираюсь дать тебе немного уроков карате .\n",
            "< я не что . . <EOS>\n",
            "\n",
            "> you aren t one of us .\n",
            "= ты не одна из нас .\n",
            "< ты такои умнее . <EOS>\n",
            "\n",
            "> we re feeling great .\n",
            "= мы чувствуем себя отлично .\n",
            "< мы не что . . <EOS>\n",
            "\n",
            "> we re not doing anything right now .\n",
            "= прямо сеичас мы ничего не делаем .\n",
            "< мы не что . . <EOS>\n",
            "\n",
            "\n",
            "Max_length =  20\n",
            "RNN, 3 layers\n",
            "\n",
            "training\n",
            "3m 26s (- 65m 21s) (1000 5%) 4.8181\n",
            "6m 56s (- 62m 31s) (2000 10%) 4.7028\n",
            "10m 31s (- 59m 38s) (3000 15%) 4.6875\n",
            "14m 9s (- 56m 38s) (4000 20%) 4.6555\n",
            "17m 49s (- 53m 27s) (5000 25%) 4.7097\n",
            "21m 30s (- 50m 11s) (6000 30%) 4.7170\n",
            "25m 14s (- 46m 52s) (7000 35%) 4.7975\n",
            "29m 0s (- 43m 30s) (8000 40%) 4.7386\n",
            "32m 47s (- 40m 4s) (9000 45%) 4.7436\n",
            "36m 36s (- 36m 36s) (10000 50%) 4.6420\n",
            "40m 27s (- 33m 6s) (11000 55%) 4.7004\n",
            "44m 20s (- 29m 33s) (12000 60%) 4.7555\n",
            "48m 11s (- 25m 56s) (13000 65%) 4.6996\n",
            "52m 5s (- 22m 19s) (14000 70%) 4.7507\n",
            "56m 1s (- 18m 40s) (15000 75%) 4.6720\n",
            "59m 58s (- 14m 59s) (16000 80%) 4.7638\n",
            "63m 59s (- 11m 17s) (17000 85%) 4.7668\n",
            "67m 59s (- 7m 33s) (18000 90%) 4.6940\n",
            "72m 2s (- 3m 47s) (19000 95%) 4.8220\n",
            "76m 6s (- 0m 0s) (20000 100%) 4.7451\n",
            "\n",
            "evaluate\n",
            "\n",
            "> i m your age .\n",
            "= я ваш ровесник .\n",
            "< я уверен что . <EOS>\n",
            "\n",
            "> i m in no mood to sing right now .\n",
            "= я сеичас не в настроении петь .\n",
            "< я уверен что . <EOS>\n",
            "\n",
            "> he is absorbed in the study of latin .\n",
            "= он погружен в занятия латынью .\n",
            "< я уверен что . <EOS>\n",
            "\n",
            "> i m sick and tired of your complaints .\n",
            "= меня достали ваши жалобы .\n",
            "< я уверен что . <EOS>\n",
            "\n",
            "> you re not even thirty yet .\n",
            "= тебе еще нет даже тридцати .\n",
            "< я уверен что . <EOS>\n",
            "\n",
            "> she sang pretty well .\n",
            "= она пела довольно хорошо .\n",
            "< она учится на . <EOS>\n",
            "\n",
            "> i m not going to teach you how to do that .\n",
            "= я не собираюсь учить тебя как это делать .\n",
            "< я уверен что . <EOS>\n",
            "\n",
            "> i m sure i turned off the stove .\n",
            "= я уверен что выключил плиту .\n",
            "< я уверен что . <EOS>\n",
            "\n",
            "> i m going to shoot .\n",
            "= я буду стрелять .\n",
            "< я уверен что . <EOS>\n",
            "\n",
            "> i m starting to feel pretty insecure .\n",
            "= я начинаю чувствовать себя довольно неуверенно .\n",
            "< я уверен что . <EOS>\n",
            "\n",
            "\n",
            "Max_length =  20\n",
            "LSTM, 1 layers\n",
            "\n",
            "training\n",
            "3m 46s (- 71m 41s) (1000 5%) 4.6340\n",
            "7m 35s (- 68m 19s) (2000 10%) 4.2437\n",
            "11m 30s (- 65m 11s) (3000 15%) 4.0417\n",
            "15m 27s (- 61m 49s) (4000 20%) 3.9306\n",
            "19m 26s (- 58m 19s) (5000 25%) 3.7898\n",
            "23m 27s (- 54m 44s) (6000 30%) 3.6787\n",
            "27m 29s (- 51m 4s) (7000 35%) 3.6874\n",
            "31m 35s (- 47m 23s) (8000 40%) 3.5623\n",
            "35m 40s (- 43m 36s) (9000 45%) 3.5368\n",
            "39m 48s (- 39m 48s) (10000 50%) 3.4834\n",
            "43m 56s (- 35m 57s) (11000 55%) 3.3467\n",
            "48m 7s (- 32m 4s) (12000 60%) 3.3772\n",
            "52m 19s (- 28m 10s) (13000 65%) 3.3870\n",
            "56m 32s (- 24m 14s) (14000 70%) 3.2738\n",
            "60m 45s (- 20m 15s) (15000 75%) 3.2659\n",
            "65m 1s (- 16m 15s) (16000 80%) 3.1885\n",
            "69m 16s (- 12m 13s) (17000 85%) 3.0794\n",
            "73m 35s (- 8m 10s) (18000 90%) 3.1172\n",
            "77m 54s (- 4m 6s) (19000 95%) 3.1460\n",
            "82m 12s (- 0m 0s) (20000 100%) 3.0160\n",
            "\n",
            "evaluate\n",
            "\n",
            "> i m being fired because i ve been late to work a lot .\n",
            "= меня увольняют потому что я много раз опаздывал на работу .\n",
            "< я ищу тем что у меня не . . <EOS>\n",
            "\n",
            "> she is no less beautiful than her sister .\n",
            "= она не менее красива чем ее сестра .\n",
            "< она не она моложе чем . . <EOS>\n",
            "\n",
            "> you re smarter than most of tom s friends .\n",
            "= ты умнее большинства друзеи тома .\n",
            "< вы лучшии моложе тома . . <EOS>\n",
            "\n",
            "> you re in big trouble .\n",
            "= у тебя большие проблемы .\n",
            "< у тебя в неприятности . <EOS>\n",
            "\n",
            "> you re not from around here are you ?\n",
            "= вы ведь не местныи ?\n",
            "< ты не не не не ? ? <EOS>\n",
            "\n",
            "> i m asking for your help .\n",
            "= я прошу твоеи помощи .\n",
            "< я твоя с помощь . <EOS>\n",
            "\n",
            "> i m not so sure i want to get married .\n",
            "= я не совсем уверена что хочу замуж .\n",
            "< я не уверен что хочу будет . . . <EOS>\n",
            "\n",
            "> i m not going to play golf with tom .\n",
            "= я не собираюсь играть в гольф с томом .\n",
            "< я не собираюсь с томом тому в . <EOS>\n",
            "\n",
            "> you re going to be jealous .\n",
            "= вы будете ревновать .\n",
            "< вы будешь будет . <EOS>\n",
            "\n",
            "> i m your best friend .\n",
            "= я твои лучшии друг .\n",
            "< я твои друг . . <EOS>\n",
            "\n",
            "\n",
            "Max_length =  20\n",
            "LSTM, 3 layers\n",
            "\n",
            "training\n",
            "4m 33s (- 86m 31s) (1000 5%) 4.9405\n",
            "9m 6s (- 81m 56s) (2000 10%) 4.5752\n",
            "13m 48s (- 78m 16s) (3000 15%) 4.4156\n",
            "18m 32s (- 74m 8s) (4000 20%) 4.3781\n",
            "23m 15s (- 69m 47s) (5000 25%) 4.1970\n",
            "27m 59s (- 65m 18s) (6000 30%) 4.1160\n",
            "32m 48s (- 60m 55s) (7000 35%) 4.0456\n",
            "37m 38s (- 56m 27s) (8000 40%) 4.0569\n",
            "42m 26s (- 51m 52s) (9000 45%) 3.9080\n",
            "47m 21s (- 47m 21s) (10000 50%) 3.9271\n",
            "52m 16s (- 42m 46s) (11000 55%) 3.8840\n",
            "57m 12s (- 38m 8s) (12000 60%) 3.7839\n",
            "62m 7s (- 33m 27s) (13000 65%) 3.8065\n",
            "67m 6s (- 28m 45s) (14000 70%) 3.7699\n",
            "72m 5s (- 24m 1s) (15000 75%) 3.7033\n",
            "77m 7s (- 19m 16s) (16000 80%) 3.7426\n",
            "82m 6s (- 14m 29s) (17000 85%) 3.6596\n",
            "87m 9s (- 9m 41s) (18000 90%) 3.6413\n",
            "92m 16s (- 4m 51s) (19000 95%) 3.6778\n",
            "97m 21s (- 0m 0s) (20000 100%) 3.7188\n",
            "\n",
            "evaluate\n",
            "\n",
            "> you re credible .\n",
            "= тебе можно доверять .\n",
            "< ты не человек . <EOS>\n",
            "\n",
            "> i am weak in math .\n",
            "= у меня плохо с математикои .\n",
            "< я уезжаю в . . <EOS>\n",
            "\n",
            "> i m getting married in october .\n",
            "= в октябре я женюсь .\n",
            "< я собираюсь в . . . <EOS>\n",
            "\n",
            "> i m already working on it .\n",
            "= я уже работаю над этим .\n",
            "< я очень очень за . . <EOS>\n",
            "\n",
            "> i m looking for tom . do you know where he is ?\n",
            "= я ищу тома . не знаешь где он ?\n",
            "< я собираюсь я я не не не . . <EOS>\n",
            "\n",
            "> i m not asking you tom .\n",
            "= я не тебя спрашиваю том .\n",
            "< я не не не . . <EOS>\n",
            "\n",
            "> i m never going to get married .\n",
            "= я вообще не собираюсь жениться .\n",
            "< я не я . . <EOS>\n",
            "\n",
            "> i am tired and i want to go to bed .\n",
            "= я устала и хочу поити спать .\n",
            "< я просто тем что том . . <EOS>\n",
            "\n",
            "> we re not going with you .\n",
            "= мы с вами не едем .\n",
            "< мы не не не . . <EOS>\n",
            "\n",
            "> you re wearing my shoes .\n",
            "= вы в моих ботинках .\n",
            "< ты слишком ужасныи . <EOS>\n",
            "\n",
            "\n",
            "Max_length =  20\n",
            "GRU, 1 layers\n",
            "\n",
            "training\n",
            "3m 22s (- 64m 8s) (1000 5%) 4.4924\n",
            "6m 51s (- 61m 42s) (2000 10%) 4.1767\n",
            "10m 24s (- 58m 59s) (3000 15%) 3.8821\n",
            "14m 2s (- 56m 9s) (4000 20%) 3.7160\n",
            "17m 44s (- 53m 14s) (5000 25%) 3.4982\n",
            "21m 24s (- 49m 57s) (6000 30%) 3.4514\n",
            "25m 9s (- 46m 42s) (7000 35%) 3.3490\n",
            "28m 53s (- 43m 19s) (8000 40%) 3.2166\n",
            "32m 42s (- 39m 58s) (9000 45%) 3.1611\n",
            "36m 31s (- 36m 31s) (10000 50%) 3.0409\n",
            "40m 24s (- 33m 3s) (11000 55%) 2.9842\n",
            "44m 16s (- 29m 30s) (12000 60%) 3.0023\n",
            "48m 9s (- 25m 56s) (13000 65%) 2.9372\n",
            "52m 5s (- 22m 19s) (14000 70%) 2.9371\n",
            "56m 1s (- 18m 40s) (15000 75%) 2.8843\n",
            "59m 57s (- 14m 59s) (16000 80%) 2.8747\n",
            "63m 54s (- 11m 16s) (17000 85%) 2.7305\n",
            "67m 51s (- 7m 32s) (18000 90%) 2.7193\n",
            "71m 49s (- 3m 46s) (19000 95%) 2.7507\n",
            "75m 47s (- 0m 0s) (20000 100%) 2.6780\n",
            "\n",
            "evaluate\n",
            "\n",
            "> i m not in any danger .\n",
            "= мне ничего не угрожает .\n",
            "< я не не . . <EOS>\n",
            "\n",
            "> they re still here .\n",
            "= они все еще здесь .\n",
            "< они все еще здесь . <EOS>\n",
            "\n",
            "> you re too young to join the army .\n",
            "= тебе рано идти в армию .\n",
            "< вы слишком молоды чтобы армию в армию . <EOS>\n",
            "\n",
            "> i am just a humble teacher .\n",
            "= я всего лишь простои учитель .\n",
            "< я просто учитель учитель . <EOS>\n",
            "\n",
            "> i m going to tom s house to study .\n",
            "= я иду к тому домои чтобы позаниматься .\n",
            "< я собираюсь к тому тома тома . <EOS>\n",
            "\n",
            "> i m tired of people telling me what to do .\n",
            "= я устал от людеи которые говорят мне что делать .\n",
            "< мне устала мне мне мне мне мне мне . <EOS>\n",
            "\n",
            "> i m sorry for what happened .\n",
            "= я сожалею о том что произошло .\n",
            "< сожалею что я так . <EOS>\n",
            "\n",
            "> i m the one who ll take care of you .\n",
            "= о тебе позабочусь я .\n",
            "< это я больше тебя больше . <EOS>\n",
            "\n",
            "> you re a funny girl .\n",
            "= ты забавная девчонка .\n",
            "< ты девушка девушка . <EOS>\n",
            "\n",
            "> i m as ready as i ll ever be .\n",
            "= я готов как никогда .\n",
            "< я почти так же как как . <EOS>\n",
            "\n",
            "\n",
            "Max_length =  20\n",
            "GRU, 3 layers\n",
            "\n",
            "training\n",
            "4m 19s (- 82m 19s) (1000 5%) 4.7170\n",
            "8m 45s (- 78m 45s) (2000 10%) 4.4427\n",
            "13m 16s (- 75m 13s) (3000 15%) 4.3470\n",
            "17m 53s (- 71m 32s) (4000 20%) 4.2019\n",
            "22m 30s (- 67m 30s) (5000 25%) 4.1754\n",
            "27m 13s (- 63m 31s) (6000 30%) 4.0748\n",
            "31m 54s (- 59m 15s) (7000 35%) 3.9109\n",
            "36m 38s (- 54m 58s) (8000 40%) 3.8670\n",
            "41m 25s (- 50m 38s) (9000 45%) 3.9158\n",
            "46m 14s (- 46m 14s) (10000 50%) 3.7621\n",
            "51m 2s (- 41m 45s) (11000 55%) 3.7175\n",
            "55m 53s (- 37m 15s) (12000 60%) 3.7130\n",
            "60m 45s (- 32m 42s) (13000 65%) 3.6455\n",
            "65m 38s (- 28m 8s) (14000 70%) 3.5366\n",
            "70m 34s (- 23m 31s) (15000 75%) 3.5449\n",
            "75m 30s (- 18m 52s) (16000 80%) 3.5094\n",
            "80m 27s (- 14m 11s) (17000 85%) 3.5043\n",
            "85m 25s (- 9m 29s) (18000 90%) 3.4266\n",
            "90m 23s (- 4m 45s) (19000 95%) 3.4737\n",
            "95m 25s (- 0m 0s) (20000 100%) 3.5095\n",
            "\n",
            "evaluate\n",
            "\n",
            "> you re not leaving japan for good are you ?\n",
            "= ты ведь не навсегда из японии уезжаешь а ?\n",
            "< ты ведь не не не не ? <EOS>\n",
            "\n",
            "> i am sorry to have kept you waiting so long .\n",
            "= простите что заставил вас так долго ждать .\n",
            "< прости что заставила тебя долго ждать ждать . <EOS>\n",
            "\n",
            "> i m sure that tom would be able to help me if he were here .\n",
            "= я уверен что будь том здесь он бы смог мне помочь .\n",
            "< я уверена что том не . . <EOS>\n",
            "\n",
            "> you re a lawyer right ?\n",
            "= ты ведь адвокат верно ?\n",
            "< вы ведь меня ? <EOS>\n",
            "\n",
            "> i m sorry . i didn t do it on purpose .\n",
            "= простите я нечаянно .\n",
            "< простите но я не могу . <EOS>\n",
            "\n",
            "> i m glad we agree tom .\n",
            "= я рад что мы согласны том .\n",
            "< я рада что том это . . <EOS>\n",
            "\n",
            "> i m friends with a lot of them .\n",
            "= я со многими из них дружу .\n",
            "< я все по горло . <EOS>\n",
            "\n",
            "> you re asking for trouble .\n",
            "= ты напрашиваешься на неприятности .\n",
            "< ты слишком и . . <EOS>\n",
            "\n",
            "> i m happy about that .\n",
            "= я этим доволен .\n",
            "< я рада это . <EOS>\n",
            "\n",
            "> i m still mad at tom .\n",
            "= я по прежнему зол на тома .\n",
            "< я еще еще за томом . <EOS>\n",
            "\n"
          ]
        }
      ]
    },
    {
      "cell_type": "code",
      "metadata": {
        "colab": {
          "base_uri": "https://localhost:8080/",
          "height": 237
        },
        "id": "frEIUW2fHh4s",
        "outputId": "8c1313ec-dc1c-4c2f-92e8-de88d66a9dc5"
      },
      "source": [
        "pd.pivot_table(pd.read_csv('/content/df_tt.csv').iloc[:,1:],\n",
        "               index=[\"RNN_Type\"],\n",
        "               values=[\"Loss\"],\n",
        "               columns=[\"Hidden_layers\"],\n",
        "               aggfunc=[np.max])"
      ],
      "execution_count": null,
      "outputs": [
        {
          "output_type": "execute_result",
          "data": {
            "text/plain": [
              "                   amax          \n",
              "                   Loss          \n",
              "Hidden_layers         1         3\n",
              "RNN_Type                         \n",
              "GRU            2.677981  3.509464\n",
              "LSTM           3.015960  3.718794\n",
              "RNN            4.398707  4.745136"
            ],
            "text/html": [
              "\n",
              "  <div id=\"df-cce334d0-93b6-4be7-9608-48d44d50e1f6\">\n",
              "    <div class=\"colab-df-container\">\n",
              "      <div>\n",
              "<style scoped>\n",
              "    .dataframe tbody tr th:only-of-type {\n",
              "        vertical-align: middle;\n",
              "    }\n",
              "\n",
              "    .dataframe tbody tr th {\n",
              "        vertical-align: top;\n",
              "    }\n",
              "\n",
              "    .dataframe thead tr th {\n",
              "        text-align: left;\n",
              "    }\n",
              "\n",
              "    .dataframe thead tr:last-of-type th {\n",
              "        text-align: right;\n",
              "    }\n",
              "</style>\n",
              "<table border=\"1\" class=\"dataframe\">\n",
              "  <thead>\n",
              "    <tr>\n",
              "      <th></th>\n",
              "      <th colspan=\"2\" halign=\"left\">amax</th>\n",
              "    </tr>\n",
              "    <tr>\n",
              "      <th></th>\n",
              "      <th colspan=\"2\" halign=\"left\">Loss</th>\n",
              "    </tr>\n",
              "    <tr>\n",
              "      <th>Hidden_layers</th>\n",
              "      <th>1</th>\n",
              "      <th>3</th>\n",
              "    </tr>\n",
              "    <tr>\n",
              "      <th>RNN_Type</th>\n",
              "      <th></th>\n",
              "      <th></th>\n",
              "    </tr>\n",
              "  </thead>\n",
              "  <tbody>\n",
              "    <tr>\n",
              "      <th>GRU</th>\n",
              "      <td>2.677981</td>\n",
              "      <td>3.509464</td>\n",
              "    </tr>\n",
              "    <tr>\n",
              "      <th>LSTM</th>\n",
              "      <td>3.015960</td>\n",
              "      <td>3.718794</td>\n",
              "    </tr>\n",
              "    <tr>\n",
              "      <th>RNN</th>\n",
              "      <td>4.398707</td>\n",
              "      <td>4.745136</td>\n",
              "    </tr>\n",
              "  </tbody>\n",
              "</table>\n",
              "</div>\n",
              "      <button class=\"colab-df-convert\" onclick=\"convertToInteractive('df-cce334d0-93b6-4be7-9608-48d44d50e1f6')\"\n",
              "              title=\"Convert this dataframe to an interactive table.\"\n",
              "              style=\"display:none;\">\n",
              "        \n",
              "  <svg xmlns=\"http://www.w3.org/2000/svg\" height=\"24px\"viewBox=\"0 0 24 24\"\n",
              "       width=\"24px\">\n",
              "    <path d=\"M0 0h24v24H0V0z\" fill=\"none\"/>\n",
              "    <path d=\"M18.56 5.44l.94 2.06.94-2.06 2.06-.94-2.06-.94-.94-2.06-.94 2.06-2.06.94zm-11 1L8.5 8.5l.94-2.06 2.06-.94-2.06-.94L8.5 2.5l-.94 2.06-2.06.94zm10 10l.94 2.06.94-2.06 2.06-.94-2.06-.94-.94-2.06-.94 2.06-2.06.94z\"/><path d=\"M17.41 7.96l-1.37-1.37c-.4-.4-.92-.59-1.43-.59-.52 0-1.04.2-1.43.59L10.3 9.45l-7.72 7.72c-.78.78-.78 2.05 0 2.83L4 21.41c.39.39.9.59 1.41.59.51 0 1.02-.2 1.41-.59l7.78-7.78 2.81-2.81c.8-.78.8-2.07 0-2.86zM5.41 20L4 18.59l7.72-7.72 1.47 1.35L5.41 20z\"/>\n",
              "  </svg>\n",
              "      </button>\n",
              "      \n",
              "  <style>\n",
              "    .colab-df-container {\n",
              "      display:flex;\n",
              "      flex-wrap:wrap;\n",
              "      gap: 12px;\n",
              "    }\n",
              "\n",
              "    .colab-df-convert {\n",
              "      background-color: #E8F0FE;\n",
              "      border: none;\n",
              "      border-radius: 50%;\n",
              "      cursor: pointer;\n",
              "      display: none;\n",
              "      fill: #1967D2;\n",
              "      height: 32px;\n",
              "      padding: 0 0 0 0;\n",
              "      width: 32px;\n",
              "    }\n",
              "\n",
              "    .colab-df-convert:hover {\n",
              "      background-color: #E2EBFA;\n",
              "      box-shadow: 0px 1px 2px rgba(60, 64, 67, 0.3), 0px 1px 3px 1px rgba(60, 64, 67, 0.15);\n",
              "      fill: #174EA6;\n",
              "    }\n",
              "\n",
              "    [theme=dark] .colab-df-convert {\n",
              "      background-color: #3B4455;\n",
              "      fill: #D2E3FC;\n",
              "    }\n",
              "\n",
              "    [theme=dark] .colab-df-convert:hover {\n",
              "      background-color: #434B5C;\n",
              "      box-shadow: 0px 1px 3px 1px rgba(0, 0, 0, 0.15);\n",
              "      filter: drop-shadow(0px 1px 2px rgba(0, 0, 0, 0.3));\n",
              "      fill: #FFFFFF;\n",
              "    }\n",
              "  </style>\n",
              "\n",
              "      <script>\n",
              "        const buttonEl =\n",
              "          document.querySelector('#df-cce334d0-93b6-4be7-9608-48d44d50e1f6 button.colab-df-convert');\n",
              "        buttonEl.style.display =\n",
              "          google.colab.kernel.accessAllowed ? 'block' : 'none';\n",
              "\n",
              "        async function convertToInteractive(key) {\n",
              "          const element = document.querySelector('#df-cce334d0-93b6-4be7-9608-48d44d50e1f6');\n",
              "          const dataTable =\n",
              "            await google.colab.kernel.invokeFunction('convertToInteractive',\n",
              "                                                     [key], {});\n",
              "          if (!dataTable) return;\n",
              "\n",
              "          const docLinkHtml = 'Like what you see? Visit the ' +\n",
              "            '<a target=\"_blank\" href=https://colab.research.google.com/notebooks/data_table.ipynb>data table notebook</a>'\n",
              "            + ' to learn more about interactive tables.';\n",
              "          element.innerHTML = '';\n",
              "          dataTable['output_type'] = 'display_data';\n",
              "          await google.colab.output.renderOutput(dataTable, element);\n",
              "          const docLink = document.createElement('div');\n",
              "          docLink.innerHTML = docLinkHtml;\n",
              "          element.appendChild(docLink);\n",
              "        }\n",
              "      </script>\n",
              "    </div>\n",
              "  </div>\n",
              "  "
            ]
          },
          "metadata": {},
          "execution_count": 48
        }
      ]
    }
  ]
}