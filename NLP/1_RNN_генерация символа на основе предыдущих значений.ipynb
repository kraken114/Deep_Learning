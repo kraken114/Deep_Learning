{
  "cells": [
    {
      "cell_type": "markdown",
      "source": [
        "# Рекуррентные нейросети\n",
        "\n",
        "Построим простейшую нейросеть для посимвольной генерации текста"
      ],
      "metadata": {
        "id": "rNzdSQVo9l_q"
      }
    },
    {
      "cell_type": "code",
      "source": [
        "import pandas as pd  # для работы с данными\n",
        "import time  # для оценки времени\n",
        "import torch  # для написания нейросети\n",
        "import re\n",
        "import random as r\n",
        "import os"
      ],
      "metadata": {
        "id": "ZXyiaVSa9rGX"
      },
      "execution_count": 4,
      "outputs": []
    },
    {
      "cell_type": "code",
      "execution_count": 2,
      "metadata": {
        "id": "yQ8iWHEOSW0K"
      },
      "outputs": [],
      "source": [
        "from google.colab import drive"
      ]
    },
    {
      "cell_type": "code",
      "source": [
        "drive.mount('/content/gdrive')"
      ],
      "metadata": {
        "colab": {
          "base_uri": "https://localhost:8080/"
        },
        "id": "DPlQLwLOSssv",
        "outputId": "3998c01a-4d8b-41f8-e0ca-5ec1703e3c24"
      },
      "execution_count": 3,
      "outputs": [
        {
          "output_type": "stream",
          "name": "stdout",
          "text": [
            "Mounted at /content/gdrive\n"
          ]
        }
      ]
    },
    {
      "cell_type": "code",
      "source": [
        "os.chdir('/content/gdrive/MyDrive/Colab Notebooks/DOM')"
      ],
      "metadata": {
        "id": "7ppcdwIACr88"
      },
      "execution_count": 5,
      "outputs": []
    },
    {
      "cell_type": "markdown",
      "metadata": {
        "id": "c3aOx64Mm1oZ"
      },
      "source": [
        "## Загрузка данных\n",
        "\n",
        "Будем работать с датасетом реплик из Симпсонов. Нам нужно извлечь предобработанные тексты и закодировать их числами"
      ]
    },
    {
      "cell_type": "code",
      "execution_count": 6,
      "metadata": {
        "ExecuteTime": {
          "end_time": "2020-03-12T15:12:00.685533Z",
          "start_time": "2020-03-12T15:12:00.591616Z"
        },
        "colab": {
          "base_uri": "https://localhost:8080/",
          "height": 414
        },
        "id": "duHW4TnGm1ob",
        "outputId": "4f9b184f-e302-4c88-a06b-4448abcccec5"
      },
      "outputs": [
        {
          "output_type": "execute_result",
          "data": {
            "text/plain": [
              "   Unnamed: 0     id  episode_id  number  \\\n",
              "0           0  10368          35      29   \n",
              "1           1  10369          35      30   \n",
              "2           2  10370          35      31   \n",
              "3           3  10372          35      33   \n",
              "4           4  10374          35      35   \n",
              "\n",
              "                                            raw_text  timestamp_in_ms  \\\n",
              "0           Lisa Simpson: Maggie, look. What's that?           235000   \n",
              "1                    Lisa Simpson: Lee-mur. Lee-mur.           237000   \n",
              "2                    Lisa Simpson: Zee-boo. Zee-boo.           239000   \n",
              "3  Lisa Simpson: I'm trying to teach Maggie that ...           245000   \n",
              "4  Lisa Simpson: It's like an ox, only it has a h...           254000   \n",
              "\n",
              "   speaking_line  character_id  location_id raw_character_text  \\\n",
              "0           True             9          5.0       Lisa Simpson   \n",
              "1           True             9          5.0       Lisa Simpson   \n",
              "2           True             9          5.0       Lisa Simpson   \n",
              "3           True             9          5.0       Lisa Simpson   \n",
              "4           True             9          5.0       Lisa Simpson   \n",
              "\n",
              "  raw_location_text                                       spoken_words  \\\n",
              "0      Simpson Home                         Maggie, look. What's that?   \n",
              "1      Simpson Home                                  Lee-mur. Lee-mur.   \n",
              "2      Simpson Home                                  Zee-boo. Zee-boo.   \n",
              "3      Simpson Home  I'm trying to teach Maggie that nature doesn't...   \n",
              "4      Simpson Home  It's like an ox, only it has a hump and a dewl...   \n",
              "\n",
              "                                     normalized_text  word_count  \n",
              "0                             maggie look whats that         4.0  \n",
              "1                                    lee-mur lee-mur         2.0  \n",
              "2                                    zee-boo zee-boo         2.0  \n",
              "3  im trying to teach maggie that nature doesnt e...        24.0  \n",
              "4  its like an ox only it has a hump and a dewlap...        18.0  "
            ],
            "text/html": [
              "\n",
              "  <div id=\"df-70bae888-dce2-4e20-af52-9b95c2eb573d\" class=\"colab-df-container\">\n",
              "    <div>\n",
              "<style scoped>\n",
              "    .dataframe tbody tr th:only-of-type {\n",
              "        vertical-align: middle;\n",
              "    }\n",
              "\n",
              "    .dataframe tbody tr th {\n",
              "        vertical-align: top;\n",
              "    }\n",
              "\n",
              "    .dataframe thead th {\n",
              "        text-align: right;\n",
              "    }\n",
              "</style>\n",
              "<table border=\"1\" class=\"dataframe\">\n",
              "  <thead>\n",
              "    <tr style=\"text-align: right;\">\n",
              "      <th></th>\n",
              "      <th>Unnamed: 0</th>\n",
              "      <th>id</th>\n",
              "      <th>episode_id</th>\n",
              "      <th>number</th>\n",
              "      <th>raw_text</th>\n",
              "      <th>timestamp_in_ms</th>\n",
              "      <th>speaking_line</th>\n",
              "      <th>character_id</th>\n",
              "      <th>location_id</th>\n",
              "      <th>raw_character_text</th>\n",
              "      <th>raw_location_text</th>\n",
              "      <th>spoken_words</th>\n",
              "      <th>normalized_text</th>\n",
              "      <th>word_count</th>\n",
              "    </tr>\n",
              "  </thead>\n",
              "  <tbody>\n",
              "    <tr>\n",
              "      <th>0</th>\n",
              "      <td>0</td>\n",
              "      <td>10368</td>\n",
              "      <td>35</td>\n",
              "      <td>29</td>\n",
              "      <td>Lisa Simpson: Maggie, look. What's that?</td>\n",
              "      <td>235000</td>\n",
              "      <td>True</td>\n",
              "      <td>9</td>\n",
              "      <td>5.0</td>\n",
              "      <td>Lisa Simpson</td>\n",
              "      <td>Simpson Home</td>\n",
              "      <td>Maggie, look. What's that?</td>\n",
              "      <td>maggie look whats that</td>\n",
              "      <td>4.0</td>\n",
              "    </tr>\n",
              "    <tr>\n",
              "      <th>1</th>\n",
              "      <td>1</td>\n",
              "      <td>10369</td>\n",
              "      <td>35</td>\n",
              "      <td>30</td>\n",
              "      <td>Lisa Simpson: Lee-mur. Lee-mur.</td>\n",
              "      <td>237000</td>\n",
              "      <td>True</td>\n",
              "      <td>9</td>\n",
              "      <td>5.0</td>\n",
              "      <td>Lisa Simpson</td>\n",
              "      <td>Simpson Home</td>\n",
              "      <td>Lee-mur. Lee-mur.</td>\n",
              "      <td>lee-mur lee-mur</td>\n",
              "      <td>2.0</td>\n",
              "    </tr>\n",
              "    <tr>\n",
              "      <th>2</th>\n",
              "      <td>2</td>\n",
              "      <td>10370</td>\n",
              "      <td>35</td>\n",
              "      <td>31</td>\n",
              "      <td>Lisa Simpson: Zee-boo. Zee-boo.</td>\n",
              "      <td>239000</td>\n",
              "      <td>True</td>\n",
              "      <td>9</td>\n",
              "      <td>5.0</td>\n",
              "      <td>Lisa Simpson</td>\n",
              "      <td>Simpson Home</td>\n",
              "      <td>Zee-boo. Zee-boo.</td>\n",
              "      <td>zee-boo zee-boo</td>\n",
              "      <td>2.0</td>\n",
              "    </tr>\n",
              "    <tr>\n",
              "      <th>3</th>\n",
              "      <td>3</td>\n",
              "      <td>10372</td>\n",
              "      <td>35</td>\n",
              "      <td>33</td>\n",
              "      <td>Lisa Simpson: I'm trying to teach Maggie that ...</td>\n",
              "      <td>245000</td>\n",
              "      <td>True</td>\n",
              "      <td>9</td>\n",
              "      <td>5.0</td>\n",
              "      <td>Lisa Simpson</td>\n",
              "      <td>Simpson Home</td>\n",
              "      <td>I'm trying to teach Maggie that nature doesn't...</td>\n",
              "      <td>im trying to teach maggie that nature doesnt e...</td>\n",
              "      <td>24.0</td>\n",
              "    </tr>\n",
              "    <tr>\n",
              "      <th>4</th>\n",
              "      <td>4</td>\n",
              "      <td>10374</td>\n",
              "      <td>35</td>\n",
              "      <td>35</td>\n",
              "      <td>Lisa Simpson: It's like an ox, only it has a h...</td>\n",
              "      <td>254000</td>\n",
              "      <td>True</td>\n",
              "      <td>9</td>\n",
              "      <td>5.0</td>\n",
              "      <td>Lisa Simpson</td>\n",
              "      <td>Simpson Home</td>\n",
              "      <td>It's like an ox, only it has a hump and a dewl...</td>\n",
              "      <td>its like an ox only it has a hump and a dewlap...</td>\n",
              "      <td>18.0</td>\n",
              "    </tr>\n",
              "  </tbody>\n",
              "</table>\n",
              "</div>\n",
              "    <div class=\"colab-df-buttons\">\n",
              "\n",
              "  <div class=\"colab-df-container\">\n",
              "    <button class=\"colab-df-convert\" onclick=\"convertToInteractive('df-70bae888-dce2-4e20-af52-9b95c2eb573d')\"\n",
              "            title=\"Convert this dataframe to an interactive table.\"\n",
              "            style=\"display:none;\">\n",
              "\n",
              "  <svg xmlns=\"http://www.w3.org/2000/svg\" height=\"24px\" viewBox=\"0 -960 960 960\">\n",
              "    <path d=\"M120-120v-720h720v720H120Zm60-500h600v-160H180v160Zm220 220h160v-160H400v160Zm0 220h160v-160H400v160ZM180-400h160v-160H180v160Zm440 0h160v-160H620v160ZM180-180h160v-160H180v160Zm440 0h160v-160H620v160Z\"/>\n",
              "  </svg>\n",
              "    </button>\n",
              "\n",
              "  <style>\n",
              "    .colab-df-container {\n",
              "      display:flex;\n",
              "      gap: 12px;\n",
              "    }\n",
              "\n",
              "    .colab-df-convert {\n",
              "      background-color: #E8F0FE;\n",
              "      border: none;\n",
              "      border-radius: 50%;\n",
              "      cursor: pointer;\n",
              "      display: none;\n",
              "      fill: #1967D2;\n",
              "      height: 32px;\n",
              "      padding: 0 0 0 0;\n",
              "      width: 32px;\n",
              "    }\n",
              "\n",
              "    .colab-df-convert:hover {\n",
              "      background-color: #E2EBFA;\n",
              "      box-shadow: 0px 1px 2px rgba(60, 64, 67, 0.3), 0px 1px 3px 1px rgba(60, 64, 67, 0.15);\n",
              "      fill: #174EA6;\n",
              "    }\n",
              "\n",
              "    .colab-df-buttons div {\n",
              "      margin-bottom: 4px;\n",
              "    }\n",
              "\n",
              "    [theme=dark] .colab-df-convert {\n",
              "      background-color: #3B4455;\n",
              "      fill: #D2E3FC;\n",
              "    }\n",
              "\n",
              "    [theme=dark] .colab-df-convert:hover {\n",
              "      background-color: #434B5C;\n",
              "      box-shadow: 0px 1px 3px 1px rgba(0, 0, 0, 0.15);\n",
              "      filter: drop-shadow(0px 1px 2px rgba(0, 0, 0, 0.3));\n",
              "      fill: #FFFFFF;\n",
              "    }\n",
              "  </style>\n",
              "\n",
              "    <script>\n",
              "      const buttonEl =\n",
              "        document.querySelector('#df-70bae888-dce2-4e20-af52-9b95c2eb573d button.colab-df-convert');\n",
              "      buttonEl.style.display =\n",
              "        google.colab.kernel.accessAllowed ? 'block' : 'none';\n",
              "\n",
              "      async function convertToInteractive(key) {\n",
              "        const element = document.querySelector('#df-70bae888-dce2-4e20-af52-9b95c2eb573d');\n",
              "        const dataTable =\n",
              "          await google.colab.kernel.invokeFunction('convertToInteractive',\n",
              "                                                    [key], {});\n",
              "        if (!dataTable) return;\n",
              "\n",
              "        const docLinkHtml = 'Like what you see? Visit the ' +\n",
              "          '<a target=\"_blank\" href=https://colab.research.google.com/notebooks/data_table.ipynb>data table notebook</a>'\n",
              "          + ' to learn more about interactive tables.';\n",
              "        element.innerHTML = '';\n",
              "        dataTable['output_type'] = 'display_data';\n",
              "        await google.colab.output.renderOutput(dataTable, element);\n",
              "        const docLink = document.createElement('div');\n",
              "        docLink.innerHTML = docLinkHtml;\n",
              "        element.appendChild(docLink);\n",
              "      }\n",
              "    </script>\n",
              "  </div>\n",
              "\n",
              "\n",
              "<div id=\"df-60c65b16-4c1d-406f-a5ee-8494bfd2ff75\">\n",
              "  <button class=\"colab-df-quickchart\" onclick=\"quickchart('df-60c65b16-4c1d-406f-a5ee-8494bfd2ff75')\"\n",
              "            title=\"Suggest charts\"\n",
              "            style=\"display:none;\">\n",
              "\n",
              "<svg xmlns=\"http://www.w3.org/2000/svg\" height=\"24px\"viewBox=\"0 0 24 24\"\n",
              "     width=\"24px\">\n",
              "    <g>\n",
              "        <path d=\"M19 3H5c-1.1 0-2 .9-2 2v14c0 1.1.9 2 2 2h14c1.1 0 2-.9 2-2V5c0-1.1-.9-2-2-2zM9 17H7v-7h2v7zm4 0h-2V7h2v10zm4 0h-2v-4h2v4z\"/>\n",
              "    </g>\n",
              "</svg>\n",
              "  </button>\n",
              "\n",
              "<style>\n",
              "  .colab-df-quickchart {\n",
              "      --bg-color: #E8F0FE;\n",
              "      --fill-color: #1967D2;\n",
              "      --hover-bg-color: #E2EBFA;\n",
              "      --hover-fill-color: #174EA6;\n",
              "      --disabled-fill-color: #AAA;\n",
              "      --disabled-bg-color: #DDD;\n",
              "  }\n",
              "\n",
              "  [theme=dark] .colab-df-quickchart {\n",
              "      --bg-color: #3B4455;\n",
              "      --fill-color: #D2E3FC;\n",
              "      --hover-bg-color: #434B5C;\n",
              "      --hover-fill-color: #FFFFFF;\n",
              "      --disabled-bg-color: #3B4455;\n",
              "      --disabled-fill-color: #666;\n",
              "  }\n",
              "\n",
              "  .colab-df-quickchart {\n",
              "    background-color: var(--bg-color);\n",
              "    border: none;\n",
              "    border-radius: 50%;\n",
              "    cursor: pointer;\n",
              "    display: none;\n",
              "    fill: var(--fill-color);\n",
              "    height: 32px;\n",
              "    padding: 0;\n",
              "    width: 32px;\n",
              "  }\n",
              "\n",
              "  .colab-df-quickchart:hover {\n",
              "    background-color: var(--hover-bg-color);\n",
              "    box-shadow: 0 1px 2px rgba(60, 64, 67, 0.3), 0 1px 3px 1px rgba(60, 64, 67, 0.15);\n",
              "    fill: var(--button-hover-fill-color);\n",
              "  }\n",
              "\n",
              "  .colab-df-quickchart-complete:disabled,\n",
              "  .colab-df-quickchart-complete:disabled:hover {\n",
              "    background-color: var(--disabled-bg-color);\n",
              "    fill: var(--disabled-fill-color);\n",
              "    box-shadow: none;\n",
              "  }\n",
              "\n",
              "  .colab-df-spinner {\n",
              "    border: 2px solid var(--fill-color);\n",
              "    border-color: transparent;\n",
              "    border-bottom-color: var(--fill-color);\n",
              "    animation:\n",
              "      spin 1s steps(1) infinite;\n",
              "  }\n",
              "\n",
              "  @keyframes spin {\n",
              "    0% {\n",
              "      border-color: transparent;\n",
              "      border-bottom-color: var(--fill-color);\n",
              "      border-left-color: var(--fill-color);\n",
              "    }\n",
              "    20% {\n",
              "      border-color: transparent;\n",
              "      border-left-color: var(--fill-color);\n",
              "      border-top-color: var(--fill-color);\n",
              "    }\n",
              "    30% {\n",
              "      border-color: transparent;\n",
              "      border-left-color: var(--fill-color);\n",
              "      border-top-color: var(--fill-color);\n",
              "      border-right-color: var(--fill-color);\n",
              "    }\n",
              "    40% {\n",
              "      border-color: transparent;\n",
              "      border-right-color: var(--fill-color);\n",
              "      border-top-color: var(--fill-color);\n",
              "    }\n",
              "    60% {\n",
              "      border-color: transparent;\n",
              "      border-right-color: var(--fill-color);\n",
              "    }\n",
              "    80% {\n",
              "      border-color: transparent;\n",
              "      border-right-color: var(--fill-color);\n",
              "      border-bottom-color: var(--fill-color);\n",
              "    }\n",
              "    90% {\n",
              "      border-color: transparent;\n",
              "      border-bottom-color: var(--fill-color);\n",
              "    }\n",
              "  }\n",
              "</style>\n",
              "\n",
              "  <script>\n",
              "    async function quickchart(key) {\n",
              "      const quickchartButtonEl =\n",
              "        document.querySelector('#' + key + ' button');\n",
              "      quickchartButtonEl.disabled = true;  // To prevent multiple clicks.\n",
              "      quickchartButtonEl.classList.add('colab-df-spinner');\n",
              "      try {\n",
              "        const charts = await google.colab.kernel.invokeFunction(\n",
              "            'suggestCharts', [key], {});\n",
              "      } catch (error) {\n",
              "        console.error('Error during call to suggestCharts:', error);\n",
              "      }\n",
              "      quickchartButtonEl.classList.remove('colab-df-spinner');\n",
              "      quickchartButtonEl.classList.add('colab-df-quickchart-complete');\n",
              "    }\n",
              "    (() => {\n",
              "      let quickchartButtonEl =\n",
              "        document.querySelector('#df-60c65b16-4c1d-406f-a5ee-8494bfd2ff75 button');\n",
              "      quickchartButtonEl.style.display =\n",
              "        google.colab.kernel.accessAllowed ? 'block' : 'none';\n",
              "    })();\n",
              "  </script>\n",
              "</div>\n",
              "    </div>\n",
              "  </div>\n"
            ]
          },
          "metadata": {},
          "execution_count": 6
        }
      ],
      "source": [
        "df = pd.read_csv('data.csv')\n",
        "df.head()"
      ]
    },
    {
      "cell_type": "code",
      "execution_count": 7,
      "metadata": {
        "ExecuteTime": {
          "end_time": "2020-03-12T15:12:15.820742Z",
          "start_time": "2020-03-12T15:12:15.809523Z"
        },
        "colab": {
          "base_uri": "https://localhost:8080/"
        },
        "id": "gjSdDLcSm1oc",
        "outputId": "62f7f8eb-95c5-4f0f-96ae-883932760888"
      },
      "outputs": [
        {
          "output_type": "execute_result",
          "data": {
            "text/plain": [
              "['maggie look whats that',\n",
              " 'lee-mur lee-mur',\n",
              " 'zee-boo zee-boo',\n",
              " 'im trying to teach maggie that nature doesnt end with the barnyard i want her to have all the advantages that i didnt have',\n",
              " 'its like an ox only it has a hump and a dewlap hump and dew-lap hump and dew-lap',\n",
              " 'you know his blood type how romantic',\n",
              " 'oh yeah whats my shoe size',\n",
              " 'ring',\n",
              " 'yes dad',\n",
              " 'ooh look maggie what is that do-dec-ah-edron dodecahedron']"
            ]
          },
          "metadata": {},
          "execution_count": 7
        }
      ],
      "source": [
        "phrases = df['normalized_text'].tolist()  # колонка с предобработанными текстами\n",
        "phrases[:10]"
      ]
    },
    {
      "cell_type": "code",
      "execution_count": 8,
      "metadata": {
        "ExecuteTime": {
          "end_time": "2020-03-12T15:12:32.809563Z",
          "start_time": "2020-03-12T15:12:32.768140Z"
        },
        "id": "1ChXCEWwm1od"
      },
      "outputs": [],
      "source": [
        "text = [[c for c in ph] for ph in phrases if type(ph) is str] # проверяем, что нет NaN или числовых значений,\n",
        "                                                              # они будут удалены (наверно в DataSet было бы проще сделпть)"
      ]
    },
    {
      "cell_type": "code",
      "source": [
        "len(phrases), len(text)"
      ],
      "metadata": {
        "colab": {
          "base_uri": "https://localhost:8080/"
        },
        "id": "t2lQCGh7Y9XX",
        "outputId": "f7ca1139-7a72-4acd-ad8b-a28d14cefccc"
      },
      "execution_count": 9,
      "outputs": [
        {
          "output_type": "execute_result",
          "data": {
            "text/plain": [
              "(11639, 10891)"
            ]
          },
          "metadata": {},
          "execution_count": 9
        }
      ]
    },
    {
      "cell_type": "markdown",
      "metadata": {
        "id": "jAQEsntvm1od"
      },
      "source": [
        "## Создаём массив с данными\n",
        "\n",
        "Нужно\n",
        "\n",
        "1. Разбить данные на токены (у нас символы)\n",
        "2. Закодировать числами\n",
        "3. Превратить в эмбеддинги"
      ]
    },
    {
      "cell_type": "code",
      "execution_count": 10,
      "metadata": {
        "ExecuteTime": {
          "end_time": "2020-03-12T15:12:53.641351Z",
          "start_time": "2020-03-12T15:12:53.636757Z"
        },
        "id": "ZnCuSmHym1od"
      },
      "outputs": [],
      "source": [
        "CHARS = set('abcdefghijklmnopqrstuvwxyz ')  # все символы, которые мы хотим использовать для кодировки = наш словарь\n",
        "INDEX_TO_CHAR = ['none'] + [w for w in CHARS]  # все неизвестные символы будут получать тег none\n",
        "CHAR_TO_INDEX = {w: i for i, w in enumerate(INDEX_TO_CHAR)}  # словарь токен-индекс"
      ]
    },
    {
      "cell_type": "code",
      "source": [
        "print(CHARS)"
      ],
      "metadata": {
        "colab": {
          "base_uri": "https://localhost:8080/"
        },
        "id": "XmEIBu8RZpl_",
        "outputId": "12da11b5-ce9d-45dc-8a33-ed416a6d5204"
      },
      "execution_count": 13,
      "outputs": [
        {
          "output_type": "stream",
          "name": "stdout",
          "text": [
            "{'w', 'u', 'g', 'b', 'y', 'x', 'q', 't', 'k', 'i', 'd', 'r', ' ', 'z', 'l', 'n', 'p', 'j', 'f', 'h', 'v', 'o', 'c', 's', 'm', 'e', 'a'}\n"
          ]
        }
      ]
    },
    {
      "cell_type": "code",
      "source": [
        "print(INDEX_TO_CHAR)"
      ],
      "metadata": {
        "colab": {
          "base_uri": "https://localhost:8080/"
        },
        "id": "gKuFPYPBZ1lm",
        "outputId": "b53a2b52-2036-49e9-ca18-d665dfbdb30e"
      },
      "execution_count": 15,
      "outputs": [
        {
          "output_type": "stream",
          "name": "stdout",
          "text": [
            "['none', 'w', 'u', 'g', 'b', 'y', 'x', 'q', 't', 'k', 'i', 'd', 'r', ' ', 'z', 'l', 'n', 'p', 'j', 'f', 'h', 'v', 'o', 'c', 's', 'm', 'e', 'a']\n"
          ]
        }
      ]
    },
    {
      "cell_type": "code",
      "source": [
        "print(CHAR_TO_INDEX)"
      ],
      "metadata": {
        "colab": {
          "base_uri": "https://localhost:8080/"
        },
        "id": "qoC3Z7zzaIWt",
        "outputId": "c437427f-4fff-4481-e298-4ba9095bb97d"
      },
      "execution_count": 17,
      "outputs": [
        {
          "output_type": "stream",
          "name": "stdout",
          "text": [
            "{'none': 0, 'w': 1, 'u': 2, 'g': 3, 'b': 4, 'y': 5, 'x': 6, 'q': 7, 't': 8, 'k': 9, 'i': 10, 'd': 11, 'r': 12, ' ': 13, 'z': 14, 'l': 15, 'n': 16, 'p': 17, 'j': 18, 'f': 19, 'h': 20, 'v': 21, 'o': 22, 'c': 23, 's': 24, 'm': 25, 'e': 26, 'a': 27}\n"
          ]
        }
      ]
    },
    {
      "cell_type": "code",
      "source": [
        "len(INDEX_TO_CHAR)"
      ],
      "metadata": {
        "colab": {
          "base_uri": "https://localhost:8080/"
        },
        "id": "vp5hyfQMIXUe",
        "outputId": "e06f0b3d-cef5-4fc8-8105-7139f9e264e0"
      },
      "execution_count": null,
      "outputs": [
        {
          "output_type": "execute_result",
          "data": {
            "text/plain": [
              "28"
            ]
          },
          "metadata": {},
          "execution_count": 65
        }
      ]
    },
    {
      "cell_type": "code",
      "source": [
        "X.shape # нулевая матрица, в которой строки - это число фраз в списке text, а столбцы - это батч, здесь = 50"
      ],
      "metadata": {
        "colab": {
          "base_uri": "https://localhost:8080/"
        },
        "id": "EkGMVJEGa3ZC",
        "outputId": "1cd565a3-159d-487e-f820-bbfdd39e8b41"
      },
      "execution_count": 19,
      "outputs": [
        {
          "output_type": "execute_result",
          "data": {
            "text/plain": [
              "torch.Size([10891, 50])"
            ]
          },
          "metadata": {},
          "execution_count": 19
        }
      ]
    },
    {
      "cell_type": "code",
      "execution_count": 22,
      "metadata": {
        "ExecuteTime": {
          "end_time": "2020-03-12T15:13:58.918002Z",
          "start_time": "2020-03-12T15:13:55.602551Z"
        },
        "id": "Z8_Kqpjnm1oe"
      },
      "outputs": [],
      "source": [
        "MAX_LEN = 50  # мы хотим ограничить максимальную длину ввода\n",
        "X = torch.zeros((len(text), MAX_LEN), dtype=int)  # создаём пустой вектор для текста, чтобы класть в него индексы токенов\n",
        "X\n",
        "for i in range(len(text)):  # для каждого предложения\n",
        "    for j, w in enumerate(text[i]):  # для каждого токена (токен здесь - буква или символ (единичный))\n",
        "        if j >= MAX_LEN:\n",
        "            break\n",
        "        X[i, j] = CHAR_TO_INDEX.get(w, CHAR_TO_INDEX['none'])"
      ]
    },
    {
      "cell_type": "code",
      "execution_count": 23,
      "metadata": {
        "ExecuteTime": {
          "end_time": "2020-03-12T15:14:24.776980Z",
          "start_time": "2020-03-12T15:14:24.761649Z"
        },
        "scrolled": true,
        "colab": {
          "base_uri": "https://localhost:8080/"
        },
        "id": "UZ_pRDrHm1of",
        "outputId": "ff24402d-95be-4ff9-db5f-7a122b29ae2d"
      },
      "outputs": [
        {
          "output_type": "execute_result",
          "data": {
            "text/plain": [
              "tensor([[25, 27,  3,  3, 10, 26, 13, 15, 22, 22,  9, 13,  1, 20, 27,  8, 24, 13,\n",
              "          8, 20, 27,  8,  0,  0,  0,  0,  0,  0,  0,  0,  0,  0,  0,  0,  0,  0,\n",
              "          0,  0,  0,  0,  0,  0,  0,  0,  0,  0,  0,  0,  0,  0],\n",
              "        [15, 26, 26,  0, 25,  2, 12, 13, 15, 26, 26,  0, 25,  2, 12,  0,  0,  0,\n",
              "          0,  0,  0,  0,  0,  0,  0,  0,  0,  0,  0,  0,  0,  0,  0,  0,  0,  0,\n",
              "          0,  0,  0,  0,  0,  0,  0,  0,  0,  0,  0,  0,  0,  0]])"
            ]
          },
          "metadata": {},
          "execution_count": 23
        }
      ],
      "source": [
        "X[0:2]"
      ]
    },
    {
      "cell_type": "markdown",
      "metadata": {
        "id": "_j4Fpnr2m1of"
      },
      "source": [
        "## Embedding и RNN ячейки\n",
        "\n",
        "Каждому токену мы хотим сопоставить не просто число, но вектор. Поэтому вектор текста нам нужно умножить на матрицу эмбеддингов, которая тоже будет учиться в процессе обучения нейросети. Для создания такой матрицы нам нужен слой `nn.Embedding`"
      ]
    },
    {
      "cell_type": "code",
      "source": [
        "X[0:5].shape"
      ],
      "metadata": {
        "colab": {
          "base_uri": "https://localhost:8080/"
        },
        "id": "49DO7kkNqtVK",
        "outputId": "50959db1-381e-43f4-ccc0-888741f6b01a"
      },
      "execution_count": 24,
      "outputs": [
        {
          "output_type": "execute_result",
          "data": {
            "text/plain": [
              "torch.Size([5, 50])"
            ]
          },
          "metadata": {},
          "execution_count": 24
        }
      ]
    },
    {
      "cell_type": "code",
      "execution_count": 25,
      "metadata": {
        "ExecuteTime": {
          "end_time": "2020-03-12T15:14:15.694973Z",
          "start_time": "2020-03-12T15:14:15.644024Z"
        },
        "colab": {
          "base_uri": "https://localhost:8080/"
        },
        "id": "grMla_CJm1og",
        "outputId": "0e0858e8-26fb-444f-f911-d4bfc57fc9d0"
      },
      "outputs": [
        {
          "output_type": "execute_result",
          "data": {
            "text/plain": [
              "torch.Size([5, 50, 28])"
            ]
          },
          "metadata": {},
          "execution_count": 25
        }
      ],
      "source": [
        "embeddings = torch.nn.Embedding(len(INDEX_TO_CHAR), 28)  # размер словаря * размер вектора для кодировки каждого слова\n",
        "t = embeddings(X[0:5])\n",
        "t.shape"
      ]
    },
    {
      "cell_type": "code",
      "execution_count": 26,
      "metadata": {
        "ExecuteTime": {
          "end_time": "2020-03-12T15:14:48.405046Z",
          "start_time": "2020-03-12T15:14:48.400041Z"
        },
        "colab": {
          "base_uri": "https://localhost:8080/"
        },
        "id": "28tafLrcm1og",
        "outputId": "e852df6a-6230-4965-cdbb-20353c5919ce"
      },
      "outputs": [
        {
          "output_type": "execute_result",
          "data": {
            "text/plain": [
              "(torch.Size([5, 50, 28]), torch.Size([5, 50]))"
            ]
          },
          "metadata": {},
          "execution_count": 26
        }
      ],
      "source": [
        "t.shape, X[0:5].shape"
      ]
    },
    {
      "cell_type": "code",
      "execution_count": 29,
      "metadata": {
        "ExecuteTime": {
          "end_time": "2020-03-12T15:18:23.190978Z",
          "start_time": "2020-03-12T15:18:23.180493Z"
        },
        "colab": {
          "base_uri": "https://localhost:8080/"
        },
        "id": "PdGchJjim1oh",
        "outputId": "bbdd7002-936f-4c73-b081-7a99dbf46209"
      },
      "outputs": [
        {
          "output_type": "execute_result",
          "data": {
            "text/plain": [
              "(torch.Size([5, 50, 128]), torch.Size([1, 5, 128]))"
            ]
          },
          "metadata": {},
          "execution_count": 29
        }
      ],
      "source": [
        "rnn = torch.nn.RNN(28, 128, batch_first=True)  # на вход - размер эмбеддинга, размер скрытого состояния и порядок размерностей\n",
        "# скрытое состояние - это на сколько должна быть большой матрица контекста\n",
        "o, s = rnn(t) # o - выход из последнего слоя модели, s - последнее скрытое состояние\n",
        "# вектора для слов: батч * число токенов * размер скрытого состояния\n",
        "# вектор скрытого состояния: число вектров (один) * батч * размер скрытого состояния\n",
        "o.shape, s.shape"
      ]
    },
    {
      "cell_type": "markdown",
      "source": [
        "Можно применять несколько рекуррентных ячеек подряд"
      ],
      "metadata": {
        "id": "n7JUp4QuCQZu"
      }
    },
    {
      "cell_type": "code",
      "execution_count": 30,
      "metadata": {
        "ExecuteTime": {
          "end_time": "2020-03-12T15:18:35.190131Z",
          "start_time": "2020-03-12T15:18:35.180708Z"
        },
        "colab": {
          "base_uri": "https://localhost:8080/"
        },
        "id": "kdLW-BSsm1oh",
        "outputId": "3ced31c7-4a1d-43d0-8671-c4f1c05e507f"
      },
      "outputs": [
        {
          "output_type": "execute_result",
          "data": {
            "text/plain": [
              "(torch.Size([5, 50, 128]), torch.Size([1, 5, 128]))"
            ]
          },
          "metadata": {},
          "execution_count": 30
        }
      ],
      "source": [
        "o, s2 = rnn(t, s)\n",
        "o.shape, s2.shape"
      ]
    },
    {
      "cell_type": "markdown",
      "metadata": {
        "id": "ghow-s0Gm1oi"
      },
      "source": [
        "## Реализация сети с RNN\n",
        "3 слоя:\n",
        "1. Embeding (30)\n",
        "2. RNN (hidden_dim=128)\n",
        "3. Полносвязный слой для предсказания буквы (28, то есть размер словаря)"
      ]
    },
    {
      "cell_type": "code",
      "execution_count": 31,
      "metadata": {
        "ExecuteTime": {
          "end_time": "2020-03-12T15:26:45.716418Z",
          "start_time": "2020-03-12T15:26:45.710937Z"
        },
        "id": "Z9toGCkOm1oi"
      },
      "outputs": [],
      "source": [
        "class Network(torch.nn.Module):\n",
        "    def __init__(self):\n",
        "        super(Network, self).__init__()\n",
        "        self.embedding = torch.nn.Embedding(28, 30)\n",
        "        self.rnn = torch.nn.RNN(30, 128)\n",
        "        self.out = torch.nn.Linear(128, 28)\n",
        "\n",
        "    def forward(self, sentences, state=None):\n",
        "        x = self.embedding(sentences)\n",
        "        x, s = self.rnn(x) # берём выход с последнего слоя для всех токенов, а не скрытое состояние\n",
        "        return self.out(x)"
      ]
    },
    {
      "cell_type": "code",
      "execution_count": 32,
      "metadata": {
        "ExecuteTime": {
          "end_time": "2020-03-12T15:20:53.260599Z",
          "start_time": "2020-03-12T15:20:53.256979Z"
        },
        "id": "f6aCazQOm1oi"
      },
      "outputs": [],
      "source": [
        "model = Network()"
      ]
    },
    {
      "cell_type": "code",
      "execution_count": 33,
      "metadata": {
        "ExecuteTime": {
          "end_time": "2020-03-12T15:21:01.929404Z",
          "start_time": "2020-03-12T15:21:01.925999Z"
        },
        "id": "HmdNPJEWm1oj"
      },
      "outputs": [],
      "source": [
        "criterion = torch.nn.CrossEntropyLoss()  # типичный лосс многоклассовой классификации\n",
        "optimizer = torch.optim.SGD(model.parameters(), lr=.05)"
      ]
    },
    {
      "cell_type": "markdown",
      "source": [
        "Обучение:"
      ],
      "metadata": {
        "id": "-J6XXp0gDUOO"
      }
    },
    {
      "cell_type": "code",
      "execution_count": 34,
      "metadata": {
        "ExecuteTime": {
          "end_time": "2020-03-12T15:22:04.410583Z",
          "start_time": "2020-03-12T15:21:34.734119Z"
        },
        "scrolled": true,
        "colab": {
          "base_uri": "https://localhost:8080/"
        },
        "id": "o7zbPtfLm1oj",
        "outputId": "7764a33d-6ce3-4e90-a388-b9b15b3f60c1"
      },
      "outputs": [
        {
          "output_type": "stream",
          "name": "stdout",
          "text": [
            "Epoch 0. Time: 5.144, Train loss: 2.113\n",
            "Epoch 1. Time: 3.671, Train loss: 1.859\n",
            "Epoch 2. Time: 3.709, Train loss: 1.804\n",
            "Epoch 3. Time: 4.591, Train loss: 1.772\n",
            "Epoch 4. Time: 4.493, Train loss: 1.750\n",
            "Epoch 5. Time: 3.641, Train loss: 1.733\n",
            "Epoch 6. Time: 3.690, Train loss: 1.720\n",
            "Epoch 7. Time: 5.060, Train loss: 1.709\n",
            "Epoch 8. Time: 3.973, Train loss: 1.700\n",
            "Epoch 9. Time: 3.664, Train loss: 1.693\n",
            "Epoch 10. Time: 3.903, Train loss: 1.687\n",
            "Epoch 11. Time: 5.131, Train loss: 1.682\n",
            "Epoch 12. Time: 3.683, Train loss: 1.677\n",
            "Epoch 13. Time: 3.624, Train loss: 1.674\n",
            "Epoch 14. Time: 4.470, Train loss: 1.670\n",
            "Epoch 15. Time: 4.454, Train loss: 1.667\n",
            "Epoch 16. Time: 4.684, Train loss: 1.665\n",
            "Epoch 17. Time: 4.177, Train loss: 1.662\n",
            "Epoch 18. Time: 5.081, Train loss: 1.660\n",
            "Epoch 19. Time: 3.658, Train loss: 1.658\n"
          ]
        }
      ],
      "source": [
        "for ep in range(20):\n",
        "    start = time.time()\n",
        "    train_loss = 0.\n",
        "    train_passed = 0\n",
        "\n",
        "    for i in range(int(len(X) / 100)):\n",
        "        # берём батч в 100 элементов\n",
        "        batch = X[i * 100:(i + 1) * 100]\n",
        "        X_batch = batch[:, :-1]\n",
        "        Y_batch = batch[:, 1:].flatten()\n",
        "\n",
        "        optimizer.zero_grad()\n",
        "        answers = model.forward(X_batch)\n",
        "        answers = answers.view(-1, len(INDEX_TO_CHAR))\n",
        "        loss = criterion(answers, Y_batch)\n",
        "        train_loss += loss.item()\n",
        "\n",
        "        loss.backward()\n",
        "        optimizer.step()\n",
        "        train_passed += 1\n",
        "\n",
        "    print(\"Epoch {}. Time: {:.3f}, Train loss: {:.3f}\".format(ep, time.time() - start, train_loss / train_passed))"
      ]
    },
    {
      "cell_type": "markdown",
      "metadata": {
        "ExecuteTime": {
          "end_time": "2020-03-12T15:28:40.363097Z",
          "start_time": "2020-03-12T15:28:40.357998Z"
        },
        "id": "xP_GQWpkm1ok"
      },
      "source": [
        "## Генерация\n",
        "\n",
        "\n",
        "- Сначала отправлем в модель буквы из предложения (прогревая состояние)\n",
        "- Затем берём самую вероятную букву и добавляем её в предложение\n",
        "- Повторяем пока не получим none (0)"
      ]
    },
    {
      "cell_type": "code",
      "source": [
        "CHAR_TO_INDEX['none']"
      ],
      "metadata": {
        "colab": {
          "base_uri": "https://localhost:8080/"
        },
        "id": "ybcHzCbUJs-R",
        "outputId": "74e2c59f-ce73-46bc-9601-6453771c8a0b"
      },
      "execution_count": 35,
      "outputs": [
        {
          "output_type": "execute_result",
          "data": {
            "text/plain": [
              "0"
            ]
          },
          "metadata": {},
          "execution_count": 35
        }
      ]
    },
    {
      "cell_type": "code",
      "source": [
        "def generate_sentence(word):\n",
        "    sentence = list(word)\n",
        "    sentence = [CHAR_TO_INDEX.get(s, 0) for s in sentence]\n",
        "    answers = model.forward(torch.tensor(sentence))\n",
        "    probas, indices = answers.topk(1)\n",
        "    return ''.join([INDEX_TO_CHAR[ind.item()] for ind in indices.flatten()])"
      ],
      "metadata": {
        "id": "PuqijUpeL3eB"
      },
      "execution_count": 36,
      "outputs": []
    },
    {
      "cell_type": "code",
      "source": [
        "generate_sentence('dog')"
      ],
      "metadata": {
        "id": "YpjZvuR_L92Z",
        "outputId": "8d35ae82-3b38-49df-83e8-16abd5cbfd11",
        "colab": {
          "base_uri": "https://localhost:8080/",
          "height": 36
        }
      },
      "execution_count": 37,
      "outputs": [
        {
          "output_type": "execute_result",
          "data": {
            "text/plain": [
              "' u '"
            ],
            "application/vnd.google.colaboratory.intrinsic+json": {
              "type": "string"
            }
          },
          "metadata": {},
          "execution_count": 37
        }
      ]
    },
    {
      "cell_type": "code",
      "source": [
        "generate_sentence('It is')"
      ],
      "metadata": {
        "colab": {
          "base_uri": "https://localhost:8080/",
          "height": 36
        },
        "id": "xqS7Y-z1HghE",
        "outputId": "365a551e-7ab9-45d9-bc64-edbb9b700087"
      },
      "execution_count": 38,
      "outputs": [
        {
          "output_type": "execute_result",
          "data": {
            "text/plain": [
              "'nonehtn '"
            ],
            "application/vnd.google.colaboratory.intrinsic+json": {
              "type": "string"
            }
          },
          "metadata": {},
          "execution_count": 38
        }
      ]
    }
  ],
  "metadata": {
    "kernelspec": {
      "display_name": "Python 3",
      "language": "python",
      "name": "python3"
    },
    "language_info": {
      "codemirror_mode": {
        "name": "ipython",
        "version": 3
      },
      "file_extension": ".py",
      "mimetype": "text/x-python",
      "name": "python",
      "nbconvert_exporter": "python",
      "pygments_lexer": "ipython3",
      "version": "3.7.1"
    },
    "colab": {
      "provenance": []
    }
  },
  "nbformat": 4,
  "nbformat_minor": 0
}