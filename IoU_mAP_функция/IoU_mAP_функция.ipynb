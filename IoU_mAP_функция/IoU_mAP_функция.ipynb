{
  "nbformat": 4,
  "nbformat_minor": 0,
  "metadata": {
    "colab": {
      "provenance": []
    },
    "kernelspec": {
      "name": "python3",
      "display_name": "Python 3"
    },
    "language_info": {
      "name": "python"
    }
  },
  "cells": [
    {
      "cell_type": "markdown",
      "source": [
        "https://colab.research.google.com/drive/1C7-7qZrYu-7e36OhfitR-Rop_E94O9Vz#scrollTo=REGWp7ArGEi0"
      ],
      "metadata": {
        "id": "REGWp7ArGEi0"
      }
    },
    {
      "cell_type": "code",
      "source": [
        "import torch\n",
        "from collections import Counter"
      ],
      "metadata": {
        "id": "Kkg6WCj7E3xG"
      },
      "execution_count": null,
      "outputs": []
    },
    {
      "cell_type": "markdown",
      "source": [
        "\n",
        "\n",
        "---\n",
        "\n"
      ],
      "metadata": {
        "id": "e6Zhl4f-H2s6"
      }
    },
    {
      "cell_type": "markdown",
      "source": [
        "x1,y1,x2,y2\n",
        "\n",
        "(x1,y1): Координата верхнего левого угла BBOX (может быть нормализована)\n",
        "\n",
        "(x2,y2): Координата нижнего правого угла BBOX (возможно, была нормализована)"
      ],
      "metadata": {
        "id": "rOOky4GDGE9M"
      }
    },
    {
      "cell_type": "code",
      "source": [
        "boxes_labels = torch.tensor([[30,40,80,80],[20,20,70,80]])\n",
        "boxes_preds = torch.tensor([[50,35,70,105],[20,25,75,70]])"
      ],
      "metadata": {
        "id": "fcEw9zvfBoGZ"
      },
      "execution_count": null,
      "outputs": []
    },
    {
      "cell_type": "markdown",
      "source": [
        "**функция рабочая (на листике считал)!**"
      ],
      "metadata": {
        "id": "lpEqW9T3fc3J"
      }
    },
    {
      "cell_type": "code",
      "execution_count": null,
      "metadata": {
        "id": "L0pq2Pla6zXY"
      },
      "outputs": [],
      "source": [
        "def insert_over_union(boxes_preds,boxes_labels):\n",
        "#x1,y1,x2,y2\n",
        "#(x1,y1): Координата нижнего левого угла BBOX (может быть нормализована)\n",
        "#(x2,y2): Координата верхнего правого угла BBOX (возможно, была нормализована)\n",
        "# !!!!!!!!! если перепутать, будет на выходе '0'\n",
        "    box1_x1=boxes_preds[...,0:1]\n",
        "    box1_y1=boxes_preds[...,1:2]\n",
        "    box1_x2=boxes_preds[...,2:3]\n",
        "    box1_y2=boxes_preds[...,3:4]#shape:[N,1]\n",
        "\n",
        "    box2_x1=boxes_labels[...,0:1]\n",
        "    box2_y1=boxes_labels[...,1:2]\n",
        "    box2_x2=boxes_labels[...,2:3]\n",
        "    box2_y2=boxes_labels[...,3:4]\n",
        "\n",
        "    x1=torch.max(box1_x1,box2_x1)\n",
        "    y1=torch.max(box1_y1,box2_y1)\n",
        "    x2=torch.min(box1_x2,box2_x2)\n",
        "    y2=torch.min(box1_y2,box2_y2)\n",
        "\n",
        "\n",
        "    #Calculate the area of intersection area\n",
        "    intersection=(x2-x1).clamp(0)*(y2-y1).clamp(0)\n",
        "\n",
        "    box1_area=abs((box1_x2-box1_x1)*(box1_y1-box1_y2))\n",
        "    box2_area=abs((box2_x2-box2_x1)*(box2_y1-box2_y2))\n",
        "\n",
        "    return intersection/(box1_area+box2_area-intersection+1e-6)"
      ]
    },
    {
      "cell_type": "code",
      "source": [
        "insert_over_union(boxes_preds,boxes_labels)"
      ],
      "metadata": {
        "id": "yccpF2Z9BRlq",
        "colab": {
          "base_uri": "https://localhost:8080/"
        },
        "outputId": "42aed09b-4491-47d7-a64e-af98b3e161eb"
      },
      "execution_count": null,
      "outputs": [
        {
          "output_type": "execute_result",
          "data": {
            "text/plain": [
              "tensor([[0.3077],\n",
              "        [0.6977]])"
            ]
          },
          "metadata": {},
          "execution_count": 4
        }
      ]
    },
    {
      "cell_type": "markdown",
      "source": [
        "\n",
        "\n",
        "---\n",
        "\n"
      ],
      "metadata": {
        "id": "RfoEqiCuH5rY"
      }
    },
    {
      "cell_type": "code",
      "source": [
        "boxes_labels = [[1,0,1.,30,40,80,80],[2,1,1.,30,80,80,40]]\n",
        "boxes_preds = [[1,0,0.4,50,35,70,105],[2,0,0.5,50,70,105,35]]"
      ],
      "metadata": {
        "id": "DBbYdbnBImSZ"
      },
      "execution_count": null,
      "outputs": []
    },
    {
      "cell_type": "code",
      "source": [
        "# этот срабатывает\n",
        "# Xmin,Ymin,Xmax,Ymax\n",
        "boxes_labels = [[0,0,1,30,40,80,80],[1,1,1,20,20,70,80]]\n",
        "boxes_preds = [[0,0,0.4,50,35,70,105],[1,1,0.9,20,25,75,70],[1,1,0.7,5,40,45,60],[1,1,0.1,85,70,105,100]]"
      ],
      "metadata": {
        "id": "MqL7MVsrIJuX"
      },
      "execution_count": null,
      "outputs": []
    },
    {
      "cell_type": "code",
      "source": [
        "# этот пока не срабатывает\n",
        "# такие координаты указывал автор кода, но так у меня получаются нули\n",
        "# Xmin,Ymax,Xmax,Ymin\n",
        "boxes_labels = [[0,0,1.,30,80,80,40],[1,1,1.,20,80,70,20]]\n",
        "boxes_preds = [[0,0,0.4,50,105,70,35],[1,1,0.9,20,70,75,25],[1,1,0.7,5,60,45,40],[1,1,0.1,85,100,105,70]]"
      ],
      "metadata": {
        "id": "Mdo_WDaHgmZw"
      },
      "execution_count": null,
      "outputs": []
    },
    {
      "cell_type": "code",
      "source": [
        "num_classes=2\n",
        "for c in range(num_classes):\n",
        "  print(c)"
      ],
      "metadata": {
        "colab": {
          "base_uri": "https://localhost:8080/"
        },
        "id": "Ou7qzDKRjCPA",
        "outputId": "91cd6456-8b3e-44d9-dc7a-d3c7fd20d435"
      },
      "execution_count": null,
      "outputs": [
        {
          "output_type": "stream",
          "name": "stdout",
          "text": [
            "0\n",
            "1\n"
          ]
        }
      ]
    },
    {
      "cell_type": "code",
      "source": [
        "import torch\n",
        "from collections import Counter\n",
        "\n",
        "def mean_average_precision(pred_bboxes, true_boxes, iou_threshold=0.2, num_classes=2):\n",
        "\n",
        "    #pred_bboxes(list): [[train_idx,class_pred,prob_score,x1,y1,x2,y2], ...]\n",
        "    print(true_boxes)\n",
        "    print(pred_bboxes)\n",
        "    average_precisions=[]#Пустой список для AP\n",
        "    epsilon=1e-6#коэффициент для избежания ошибок\n",
        "\n",
        "    #Для каждой категории!!!!!!!!!!!\n",
        "    for c in range(num_classes):\n",
        "        print(f'=================================================класс {c}=====================================================================')\n",
        "        detections=[]#Store bbox predicted for this category\n",
        "        ground_truths=[]#Storage itself is bbox(GT) of this category\n",
        "\n",
        "        for detection in pred_bboxes: # список данных для pred (предсказаний)\n",
        "            if detection[1]==c:\n",
        "                detections.append(detection)\n",
        "        # print('------detections--------')\n",
        "        # print(detections)\n",
        "\n",
        "        for true_box in true_boxes: # список данных для true (исходных коробок)\n",
        "            if true_box[1]==c:\n",
        "                ground_truths.append(true_box)\n",
        "        # print('------ground_truths--------')\n",
        "        # print(ground_truths)\n",
        "\n",
        "        # print(ground_truths)\n",
        "        #img 0 has 3 bboxes\n",
        "        #img 1 has 5 bboxes\n",
        "        #It's like this: amount_bboxes={0:3,1:5}\n",
        "        #Count the number of real boxes in each picture_ IDX indicates the number of the image to distinguish each image\n",
        "        amount_bboxes=Counter(gt[0] for gt in ground_truths) # создаем amount_bboxes={0:3,1:5}, для подсчета количества реальных блоков на каждом изображении\n",
        "        # print('------amount_bboxes--------')\n",
        "        # print(amount_bboxes)\n",
        "        for key,val in amount_bboxes.items(): #изменяем amount_bboxes в amount_bboxes={0:torch.tensor([0,0,0]),1:torch.tensor([0,0,0,0,0])}\n",
        "            amount_bboxes[key]=torch.zeros(val)#Set to 0, which means that none of these real boxes initially matches any prediction box\n",
        "        print('--------------')\n",
        "        print(amount_bboxes)\n",
        "\n",
        "        #Rank the prediction boxes in order of confidence\n",
        "        detections.sort(key=lambda x:x[2],reverse=True) # сортируем от 1 до 0 по степени уверенности модели в своих предсказаниях\n",
        "        # print('--------------')\n",
        "        # print(detections)\n",
        "        #Initialize TP,FP\n",
        "        TP=torch.zeros(len(detections)) # создаем нулевой тензор TP\n",
        "        FP=torch.zeros(len(detections)) # создаем нулевой тензор FP\n",
        "        # print('------TP---FP-------')\n",
        "        # print(TP)\n",
        "        # print(FP)\n",
        "        #TP+FN это общее количество ящиков GT в текущей категории, которое является фиксированным\n",
        "        total_true_bboxes=len(ground_truths) # ground_truths -  список данных для true (исходных коробок)\n",
        "        # print('------total_true_bboxes--------')\n",
        "        # print(total_true_bboxes)\n",
        "        #Если в текущей категории нет поля GT, вы можете пропустить его напрямую\n",
        "        if total_true_bboxes == 0:\n",
        "            continue\n",
        "\n",
        "        #For each prediction box, first find all the real boxes in its picture, and then calculate the IoU between the prediction box and each real box. If the IoU threshold is greater than the IoU threshold and the real box does not match other prediction boxes, the prediction result of the prediction box is set as TP, otherwise it is FP\n",
        "        # Для каждого поля предсказания сначала найдите все реальные поля на его картинке, а затем вычислите долговую расписку между полем предсказания и каждым реальным полем. Если пороговое значение долговой расписки больше, чем пороговое значение долговой расписки,\n",
        "        # и поле real не соответствует другим полям прогнозирования, результат прогнозирования для поля прогнозирования устанавливается как TP, в противном случае это FP\n",
        "        # print(ground_truths)\n",
        "        # print(detections)\n",
        "        for detection_idx,detection in enumerate(detections):\n",
        "            # print('-------detection_idx,detection--------')\n",
        "            # print(detection_idx)\n",
        "            # print(detection)\n",
        "            #При расчете долговой расписки это может быть сделано только на одной картинке, а не между разными картинками\n",
        "            #Номер картинки имеет 0-е измерение\n",
        "            #Итак, функция следующего кода такова: найдите все реальные ячейки на изображении текущего обнаружения ячейки прогнозирования и используйте их для вычисления долговой расписки\n",
        "            ground_truth_img=[bbox for bbox in ground_truths if bbox[0]==detection[0]] # список, которое выдергивает данные из ground_truths для 1 картинки, если индексы с данными в detection совпадают\n",
        "            # print('------ground_truth_img--------')\n",
        "            # print(ground_truth_img)\n",
        "            num_gts=len(ground_truth_img) # длина списка коробок true\n",
        "\n",
        "            best_iou=0\n",
        "            for idx,gt in enumerate(ground_truth_img): # для каждой истинной рамки ...\n",
        "                #Вычислите IoU текущего обнаружения блока прогнозирования и каждого реального блока на его изображении\n",
        "                iou=insert_over_union(torch.tensor(detection[3:]),torch.tensor(gt[3:]))\n",
        "                print('----------------------------iou--------')\n",
        "                print(iou)\n",
        "                # print(best_iou)\n",
        "                if iou >best_iou: # ищем лучшее значение IoU\n",
        "                    best_iou=iou\n",
        "                    best_gt_idx=idx # индекс лучшего значения для класса\n",
        "                    # print('----------------------------------------------best_iou--------')\n",
        "                    # print(best_iou)\n",
        "                    # print(best_gt_idx)\n",
        "                # else: best_iou\n",
        "            if best_iou>iou_threshold: # отсекаем предсказания с IoU ниже порога\n",
        "                #The detection[0] here is amount_ A key of bboxes, representing the number of the picture, best_gt_idx is the subscript of the real box in the value corresponding to the key\n",
        "                #Обнаружение[0] здесь - это amount_ Ключ bboxes, представляющий номер изображения, best_gt_idx - это индекс реального поля в значении, соответствующем ключу\n",
        "                #print(amount_bboxes[detection[0]])\n",
        "                if amount_bboxes[detection[0]][best_gt_idx]==0:#Only the unoccupied real box can be used, and 0 means unoccupied (occupied: the real box matches a prediction box [both IoU are greater than the set IoU threshold])\n",
        "                #Можно использовать только незанятое реальное поле, а 0 означает незанятое (занято: реальное поле совпадает с полем прогнозирования [обе IoU превышают установленный порог долговых обязательств])\n",
        "                    TP[detection_idx]=1#The prediction box is TP\n",
        "                    amount_bboxes[detection[0]][best_gt_idx]=1#Mark the real box as used and cannot be used for other prediction boxes. Because a prediction box can only correspond to one real box at most (at most: when IoU is less than IoU threshold, the prediction box has no corresponding real box)\n",
        "                    #Отметьте поле real как используемое и не может быть использовано для других полей прогнозирования. Поскольку поле прогнозирования может соответствовать не более чем одному реальному полю (самое большее: когда долговая расписка меньше порогового значения, поле прогнозирования не имеет соответствующего реального поля)\n",
        "                else:\n",
        "                    FP[detection_idx]=1#Although the IoU between the prediction box and one of the real boxes is greater than the IoU threshold, the real box has already matched with other prediction boxes, so the prediction box is FP\n",
        "            else:\n",
        "                FP[detection_idx]=1#The IoU between the prediction box and each box in the real box is less than the IoU threshold, so the prediction box is directly FP\n",
        "            print('------FP--TP---------')\n",
        "            print(FP)\n",
        "            print(TP)\n",
        "        TP_cumsum=torch.cumsum(TP,dim=0)\n",
        "        FP_cumsum=torch.cumsum(FP,dim=0)\n",
        "        print('------TP_cumsum--FP_cumsum---------')\n",
        "        print(TP_cumsum)\n",
        "        print(FP_cumsum)\n",
        "        #apply a formula\n",
        "        recalls=TP_cumsum/(total_true_bboxes+epsilon)\n",
        "        precisions=torch.divide(TP_cumsum,(TP_cumsum+FP_cumsum+epsilon))\n",
        "        print('------precisions--recalls---------')\n",
        "        print(precisions)\n",
        "        print(recalls)\n",
        "        #Add the point [0,1]\n",
        "        precisions=torch.cat((torch.tensor([1]),precisions))\n",
        "        recalls=torch.cat((torch.tensor([0]),recalls))\n",
        "        print('------precisions--recalls---------')\n",
        "        print(precisions)\n",
        "        print(recalls)\n",
        "        #Using trapz to calculate AP\n",
        "        average_precisions.append(torch.trapz(precisions,recalls))\n",
        "        print('------average_precisions---------')\n",
        "        print(average_precisions)\n",
        "    return sum(average_precisions)/len(average_precisions), average_precisions\n",
        "\n",
        "\n",
        "def insert_over_union(boxes_preds,boxes_labels):\n",
        "#x1,y1,x2,y2\n",
        "#(x1,y1): Координата нижнего левого угла BBOX (может быть нормализована)\n",
        "#(x2,y2): Координата верхнего правого угла BBOX (возможно, была нормализована)\n",
        "# !!!!!!!!! если перепутать, будет на выходе '0'\n",
        "    box1_x1=boxes_preds[...,0:1]\n",
        "    box1_y1=boxes_preds[...,1:2]\n",
        "    box1_x2=boxes_preds[...,2:3]\n",
        "    box1_y2=boxes_preds[...,3:4]#shape:[N,1]\n",
        "\n",
        "    box2_x1=boxes_labels[...,0:1]\n",
        "    box2_y1=boxes_labels[...,1:2]\n",
        "    box2_x2=boxes_labels[...,2:3]\n",
        "    box2_y2=boxes_labels[...,3:4]\n",
        "\n",
        "    x1=torch.max(box1_x1,box2_x1)\n",
        "    y1=torch.max(box1_y1,box2_y1)\n",
        "    x2=torch.min(box1_x2,box2_x2)\n",
        "    y2=torch.min(box1_y2,box2_y2)\n",
        "\n",
        "\n",
        "    #Calculate the area of intersection area\n",
        "    intersection=(x2-x1).clamp(0)*(y2-y1).clamp(0)\n",
        "\n",
        "    box1_area=abs((box1_x2-box1_x1)*(box1_y1-box1_y2))\n",
        "    box2_area=abs((box2_x2-box2_x1)*(box2_y1-box2_y2))\n",
        "    # print(box1_area)\n",
        "    # print(box2_area)\n",
        "    return intersection/(box1_area+box2_area-intersection+1e-6)"
      ],
      "metadata": {
        "id": "tLCuSRIucvv7"
      },
      "execution_count": null,
      "outputs": []
    },
    {
      "cell_type": "code",
      "source": [
        "mean_average_precision(boxes_preds,boxes_labels)"
      ],
      "metadata": {
        "colab": {
          "base_uri": "https://localhost:8080/"
        },
        "id": "P6tABrXBIJjI",
        "outputId": "f9ccef88-dfdb-42a3-ecd6-7cd1dfd7e53c"
      },
      "execution_count": null,
      "outputs": [
        {
          "output_type": "stream",
          "name": "stdout",
          "text": [
            "[[0, 0, 1, 30, 40, 80, 80], [1, 1, 1, 20, 20, 70, 80]]\n",
            "[[0, 0, 0.4, 50, 35, 70, 105], [1, 1, 0.9, 20, 25, 75, 70], [1, 1, 0.7, 5, 40, 45, 60], [1, 1, 0.1, 85, 70, 105, 100]]\n",
            "=================================================класс 0=====================================================================\n",
            "--------------\n",
            "Counter({0: tensor([0.])})\n",
            "----------------------------iou--------\n",
            "tensor([0.3077])\n",
            "------FP--TP---------\n",
            "tensor([0.])\n",
            "tensor([1.])\n",
            "------TP_cumsum--FP_cumsum---------\n",
            "tensor([1.])\n",
            "tensor([0.])\n",
            "------precisions--recalls---------\n",
            "tensor([1.0000])\n",
            "tensor([1.0000])\n",
            "------precisions--recalls---------\n",
            "tensor([1.0000, 1.0000])\n",
            "tensor([0.0000, 1.0000])\n",
            "------average_precisions---------\n",
            "[tensor(1.0000)]\n",
            "=================================================класс 1=====================================================================\n",
            "--------------\n",
            "Counter({1: tensor([0.])})\n",
            "----------------------------iou--------\n",
            "tensor([0.6977])\n",
            "------FP--TP---------\n",
            "tensor([0., 0., 0.])\n",
            "tensor([1., 0., 0.])\n",
            "----------------------------iou--------\n",
            "tensor([0.1515])\n",
            "------FP--TP---------\n",
            "tensor([0., 1., 0.])\n",
            "tensor([1., 0., 0.])\n",
            "----------------------------iou--------\n",
            "tensor([0.])\n",
            "------FP--TP---------\n",
            "tensor([0., 1., 1.])\n",
            "tensor([1., 0., 0.])\n",
            "------TP_cumsum--FP_cumsum---------\n",
            "tensor([1., 1., 1.])\n",
            "tensor([0., 1., 2.])\n",
            "------precisions--recalls---------\n",
            "tensor([1.0000, 0.5000, 0.3333])\n",
            "tensor([1.0000, 1.0000, 1.0000])\n",
            "------precisions--recalls---------\n",
            "tensor([1.0000, 1.0000, 0.5000, 0.3333])\n",
            "tensor([0.0000, 1.0000, 1.0000, 1.0000])\n",
            "------average_precisions---------\n",
            "[tensor(1.0000), tensor(1.0000)]\n"
          ]
        },
        {
          "output_type": "execute_result",
          "data": {
            "text/plain": [
              "(tensor(1.0000), [tensor(1.0000), tensor(1.0000)])"
            ]
          },
          "metadata": {},
          "execution_count": 14
        }
      ]
    },
    {
      "cell_type": "markdown",
      "source": [
        "#**Пробуем выводить по центральной точке и ширине и высоте**"
      ],
      "metadata": {
        "id": "FyThxjeArM7a"
      }
    },
    {
      "cell_type": "code",
      "source": [
        "def intersection_over_union(boxes_preds, boxes_labels, box_format='midpoint'):\n",
        "\n",
        "\t\"\"\"\n",
        "         boxes_preds (tensor): predictive boundary frame (BATCH_SIZE, 4)\n",
        "         Boxes_labels (tensor): real boundary frame (BATCH_SIZE, 4)\n",
        "         box_format (str): Midpoint/Corners, the shape of bbox is (x, y, w, h) or (x1, y1, x2, y2)\n",
        "\t\"\"\"\n",
        "\n",
        "    if box_format == \"midpoint\":\n",
        "        box1_x1 = boxes_preds[..., 0:1] - boxes_preds[..., 2:3] / 2\n",
        "        box1_y1 = boxes_preds[..., 1:2] - boxes_preds[..., 3:4] / 2\n",
        "        box1_x2 = boxes_preds[..., 0:1] + boxes_preds[..., 2:3] / 2\n",
        "        box1_y2 = boxes_preds[..., 1:2] + boxes_preds[..., 3:4] / 2\n",
        "        box2_x1 = boxes_labels[..., 0:1] - boxes_labels[..., 2:3] / 2\n",
        "        box2_y1 = boxes_labels[..., 1:2] - boxes_labels[..., 3:4] / 2\n",
        "        box2_x2 = boxes_labels[..., 0:1] + boxes_labels[..., 2:3] / 2\n",
        "        box2_y2 = boxes_labels[..., 1:2] + boxes_labels[..., 3:4] / 2\n",
        "\n",
        "    if box_format == \"corners\":\n",
        "        box1_x1 = boxes_preds[..., 0:1]\n",
        "        box1_y1 = boxes_preds[..., 1:2]\n",
        "        box1_x2 = boxes_preds[..., 2:3]\n",
        "        box1_y2 = boxes_preds[..., 3:4]  # (N, 1)\n",
        "        box2_x1 = boxes_labels[..., 0:1]\n",
        "        box2_y1 = boxes_labels[..., 1:2]\n",
        "        box2_x2 = boxes_labels[..., 2:3]\n",
        "        box2_y2 = boxes_labels[..., 3:4]\n",
        "\n",
        "    x1 = torch.max(box1_x1, box2_x1)\n",
        "    y1 = torch.max(box1_y1, box2_y1)\n",
        "    x2 = torch.min(box1_x2, box2_x2)\n",
        "    y2 = torch.min(box1_y2, box2_y2)\n",
        "\n",
        "\t# .clamp (0) for the situation where Box did not intersect\n",
        "    intersection = (x2 - x1).clamp(0) * (y2 - y1).clamp(0)\n",
        "\n",
        "    box1_area = abs((box1_x2 - box1_x1) * (box1_y2 - box1_y1))\n",
        "    box2_area = abs((box2_x2 - box2_x1) * (box2_y2 - box2_y1))\n",
        "\n",
        "    return intersection / (box1_area + box2_area - intersection + 1e-6)"
      ],
      "metadata": {
        "id": "hQG-128FrLba"
      },
      "execution_count": null,
      "outputs": []
    },
    {
      "cell_type": "code",
      "source": [
        "import torch\n",
        "from collections import Counter\n",
        "\n",
        "from iou import intersection_over_union\n",
        "\n",
        "def mean_average_precision(\n",
        "    pred_boxes, true_boxes, iou_threshold=0.5, box_format=\"midpoint\", num_classes=20\n",
        "):\n",
        "    \"\"\"\n",
        "    Calculates mean average precision\n",
        "\n",
        "    Parameters:\n",
        "        pred_boxes (list): list of lists containing all bboxes with each bboxes\n",
        "        specified as [train_idx, class_prediction, prob_score, x1, y1, x2, y2]\n",
        "        true_boxes (list): Similar as pred_boxes except all the correct ones\n",
        "        iou_threshold (float): threshold where predicted bboxes is correct\n",
        "        box_format (str): \"midpoint\" or \"corners\" used to specify bboxes\n",
        "        num_classes (int): number of classes\n",
        "\n",
        "    Returns:\n",
        "        float: mAP value across all classes given a specific IoU threshold\n",
        "    \"\"\"\n",
        "\n",
        "    # list storing all AP for respective classes\n",
        "    average_precisions = []\n",
        "\n",
        "    # used for numerical stability later on\n",
        "    epsilon = 1e-6\n",
        "\n",
        "    for c in range(num_classes):\n",
        "        detections = []\n",
        "        ground_truths = []\n",
        "\n",
        "        # Go through all predictions and targets,\n",
        "        # and only add the ones that belong to the\n",
        "        # current class c\n",
        "        for detection in pred_boxes:\n",
        "            if detection[1] == c:\n",
        "                detections.append(detection)\n",
        "\n",
        "        for true_box in true_boxes:\n",
        "            if true_box[1] == c:\n",
        "                ground_truths.append(true_box)\n",
        "\n",
        "        # find the amount of bboxes for each training example\n",
        "        # Counter here finds how many ground truth bboxes we get\n",
        "        # for each training example, so let's say img 0 has 3,\n",
        "        # img 1 has 5 then we will obtain a dictionary with:\n",
        "        # amount_bboxes = {0:3, 1:5}\n",
        "        amount_bboxes = Counter([gt[0] for gt in ground_truths])\n",
        "\n",
        "        # We then go through each key, val in this dictionary\n",
        "        # and convert to the following (w.r.t same example):\n",
        "        # ammount_bboxes = {0:torch.tensor[0,0,0], 1:torch.tensor[0,0,0,0,0]}\n",
        "        for key, val in amount_bboxes.items():\n",
        "            amount_bboxes[key] = torch.zeros(val)\n",
        "\n",
        "        # sort by box probabilities which is index 2\n",
        "        detections.sort(key=lambda x: x[2], reverse=True)\n",
        "        TP = torch.zeros((len(detections)))\n",
        "        FP = torch.zeros((len(detections)))\n",
        "        total_true_bboxes = len(ground_truths)\n",
        "\n",
        "        # If none exists for this class then we can safely skip\n",
        "        if total_true_bboxes == 0:\n",
        "            continue\n",
        "\n",
        "        for detection_idx, detection in enumerate(detections):\n",
        "            # Only take out the ground_truths that have the same\n",
        "            # training idx as detection\n",
        "            ground_truth_img = [\n",
        "                bbox for bbox in ground_truths if bbox[0] == detection[0]\n",
        "            ]\n",
        "\n",
        "            num_gts = len(ground_truth_img)\n",
        "            best_iou = 0\n",
        "\n",
        "            for idx, gt in enumerate(ground_truth_img):\n",
        "                iou = intersection_over_union(\n",
        "                    torch.tensor(detection[3:]),\n",
        "                    torch.tensor(gt[3:]),\n",
        "                    box_format=box_format,\n",
        "                )\n",
        "\n",
        "                if iou > best_iou:\n",
        "                    best_iou = iou\n",
        "                    best_gt_idx = idx\n",
        "\n",
        "            if best_iou > iou_threshold:\n",
        "                # only detect ground truth detection once\n",
        "                if amount_bboxes[detection[0]][best_gt_idx] == 0:\n",
        "                    # true positive and add this bounding box to seen\n",
        "                    TP[detection_idx] = 1\n",
        "                    amount_bboxes[detection[0]][best_gt_idx] = 1\n",
        "                else:\n",
        "                    FP[detection_idx] = 1\n",
        "\n",
        "            # if IOU is lower then the detection is a false positive\n",
        "            else:\n",
        "                FP[detection_idx] = 1\n",
        "\n",
        "        TP_cumsum = torch.cumsum(TP, dim=0)\n",
        "        FP_cumsum = torch.cumsum(FP, dim=0)\n",
        "        recalls = TP_cumsum / (total_true_bboxes + epsilon)\n",
        "        precisions = TP_cumsum / (TP_cumsum + FP_cumsum + epsilon)\n",
        "        precisions = torch.cat((torch.tensor([1]), precisions))\n",
        "        recalls = torch.cat((torch.tensor([0]), recalls))\n",
        "        # torch.trapz for numerical integration\n",
        "        average_precisions.append(torch.trapz(precisions, recalls))\n",
        "\n",
        "    return sum(average_precisions) / len(average_precisions)"
      ],
      "metadata": {
        "id": "XbZWF109nZW3"
      },
      "execution_count": null,
      "outputs": []
    }
  ]
}