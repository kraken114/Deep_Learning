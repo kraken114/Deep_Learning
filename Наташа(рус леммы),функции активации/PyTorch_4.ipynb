{
  "nbformat": 4,
  "nbformat_minor": 0,
  "metadata": {
    "colab": {
      "provenance": []
    },
    "kernelspec": {
      "name": "python3",
      "display_name": "Python 3"
    },
    "language_info": {
      "name": "python"
    }
  },
  "cells": [
    {
      "cell_type": "code",
      "execution_count": null,
      "metadata": {
        "id": "yQ8iWHEOSW0K"
      },
      "outputs": [],
      "source": [
        "from google.colab import drive"
      ]
    },
    {
      "cell_type": "code",
      "source": [
        "drive.mount('/content/gdrive')"
      ],
      "metadata": {
        "colab": {
          "base_uri": "https://localhost:8080/"
        },
        "id": "DPlQLwLOSssv",
        "outputId": "fbf6b95f-54e8-4fec-93e2-53a94816a814"
      },
      "execution_count": null,
      "outputs": [
        {
          "output_type": "stream",
          "name": "stdout",
          "text": [
            "Mounted at /content/gdrive\n"
          ]
        }
      ]
    },
    {
      "cell_type": "code",
      "source": [
        "import os"
      ],
      "metadata": {
        "id": "iOWKTenHWZML"
      },
      "execution_count": null,
      "outputs": []
    },
    {
      "cell_type": "code",
      "source": [
        "os.chdir('/content/gdrive/MyDrive/Colab Notebooks/DOM')"
      ],
      "metadata": {
        "id": "7ppcdwIACr88"
      },
      "execution_count": null,
      "outputs": []
    },
    {
      "cell_type": "code",
      "source": [
        "import pandas as pd\n",
        "import numpy as np"
      ],
      "metadata": {
        "id": "KbJut5ywXwBE"
      },
      "execution_count": null,
      "outputs": []
    },
    {
      "cell_type": "code",
      "source": [
        "df = pd.read_csv('Restaurant_Reviews.tsv', delimiter = '\\t')"
      ],
      "metadata": {
        "id": "-LR9bmBzXwD3"
      },
      "execution_count": null,
      "outputs": []
    },
    {
      "cell_type": "code",
      "source": [
        "df.dtypes"
      ],
      "metadata": {
        "colab": {
          "base_uri": "https://localhost:8080/"
        },
        "id": "DhDYU4YHY-kd",
        "outputId": "88efb092-59ef-4c0c-abc7-0a0331c52af7"
      },
      "execution_count": null,
      "outputs": [
        {
          "output_type": "execute_result",
          "data": {
            "text/plain": [
              "Review    object\n",
              "Liked      int64\n",
              "dtype: object"
            ]
          },
          "metadata": {},
          "execution_count": 10
        }
      ]
    },
    {
      "cell_type": "code",
      "source": [
        "df.isna().sum()"
      ],
      "metadata": {
        "id": "z8Fa-4sIZbc3"
      },
      "execution_count": null,
      "outputs": []
    },
    {
      "cell_type": "code",
      "source": [
        "df"
      ],
      "metadata": {
        "id": "_HgxRMGcZxJv"
      },
      "execution_count": null,
      "outputs": []
    },
    {
      "cell_type": "code",
      "source": [
        "er = list(df.Review)"
      ],
      "metadata": {
        "id": "SStU91I0Zi4S"
      },
      "execution_count": null,
      "outputs": []
    },
    {
      "cell_type": "code",
      "source": [
        "df['klf'] = er"
      ],
      "metadata": {
        "id": "tgZ-ixkFZ58O"
      },
      "execution_count": null,
      "outputs": []
    },
    {
      "cell_type": "code",
      "source": [
        "df"
      ],
      "metadata": {
        "id": "N1dse37hZ558"
      },
      "execution_count": null,
      "outputs": []
    },
    {
      "cell_type": "code",
      "source": [],
      "metadata": {
        "id": "bGH8pxfTZ52d"
      },
      "execution_count": null,
      "outputs": []
    },
    {
      "cell_type": "code",
      "source": [],
      "metadata": {
        "id": "XYqilcpnZ5zO"
      },
      "execution_count": null,
      "outputs": []
    },
    {
      "cell_type": "markdown",
      "source": [
        "# **Набор данных обзоров Yelp**"
      ],
      "metadata": {
        "id": "8ERa6Cmm8W3P"
      }
    },
    {
      "cell_type": "code",
      "source": [
        "# Разбиваем поднабор по рейтингу для создания нового обучающего (train),\n",
        "# проверочного (val) и контрольного (test) фрагментов\n",
        "by_rating = collections.defaultdict(list)\n",
        "for _, row in review_subset.iterrows():\n",
        "    by_rating[row.rating].append(row.to_dict())\n",
        "    # Создаем фрагменты данных\n",
        "    final_list = []\n",
        "    np.random.seed(args.seed)\n",
        "    for _, item_list in sorted(by_rating.items()):\n",
        "        np.random.shuffle(item_list)\n",
        "        n_total = len(item_list)\n",
        "        n_train = int(args.train_proportion * n_total)"
      ],
      "metadata": {
        "id": "pN_aGwbAR8q-"
      },
      "execution_count": null,
      "outputs": []
    },
    {
      "cell_type": "code",
      "source": [],
      "metadata": {
        "id": "gKNoIweUR8mq"
      },
      "execution_count": null,
      "outputs": []
    },
    {
      "cell_type": "code",
      "source": [],
      "metadata": {
        "id": "3vguNMFDR8kG"
      },
      "execution_count": null,
      "outputs": []
    },
    {
      "cell_type": "code",
      "source": [],
      "metadata": {
        "id": "H_eOxLjZR8hh"
      },
      "execution_count": null,
      "outputs": []
    },
    {
      "cell_type": "code",
      "source": [],
      "metadata": {
        "id": "EItD11f_R8ej"
      },
      "execution_count": null,
      "outputs": []
    },
    {
      "cell_type": "code",
      "source": [],
      "metadata": {
        "id": "LBK05wSMR8DB"
      },
      "execution_count": null,
      "outputs": []
    },
    {
      "cell_type": "markdown",
      "source": [
        "# **Сигма функция**"
      ],
      "metadata": {
        "id": "MrUlCLa9XrUr"
      }
    },
    {
      "cell_type": "code",
      "execution_count": null,
      "metadata": {
        "id": "UieGz5Vu0L8m"
      },
      "outputs": [],
      "source": [
        "import torch\n",
        "import matplotlib.pyplot as plt"
      ]
    },
    {
      "cell_type": "code",
      "source": [
        "x = torch.range(-5., 5., 0.1)\n",
        "len(x)"
      ],
      "metadata": {
        "colab": {
          "base_uri": "https://localhost:8080/"
        },
        "id": "RT84QQ5QX6tD",
        "outputId": "8fad76b0-9849-48d2-eb03-c20ded2a4d37"
      },
      "execution_count": null,
      "outputs": [
        {
          "output_type": "stream",
          "name": "stderr",
          "text": [
            "/usr/local/lib/python3.7/dist-packages/ipykernel_launcher.py:1: UserWarning: torch.range is deprecated and will be removed in a future release because its behavior is inconsistent with Python's range builtin. Instead, use torch.arange, which produces values in [start, end).\n",
            "  \"\"\"Entry point for launching an IPython kernel.\n"
          ]
        },
        {
          "output_type": "execute_result",
          "data": {
            "text/plain": [
              "101"
            ]
          },
          "metadata": {},
          "execution_count": 3
        }
      ]
    },
    {
      "cell_type": "code",
      "source": [
        "y = torch.sigmoid(x)\n",
        "y"
      ],
      "metadata": {
        "colab": {
          "base_uri": "https://localhost:8080/"
        },
        "id": "7_3caJpNX6qQ",
        "outputId": "163637b3-0abd-449b-bf5e-d3f3d7680c0d"
      },
      "execution_count": null,
      "outputs": [
        {
          "output_type": "execute_result",
          "data": {
            "text/plain": [
              "tensor([0.0067, 0.0074, 0.0082, 0.0090, 0.0100, 0.0110, 0.0121, 0.0134, 0.0148,\n",
              "        0.0163, 0.0180, 0.0198, 0.0219, 0.0241, 0.0266, 0.0293, 0.0323, 0.0356,\n",
              "        0.0392, 0.0431, 0.0474, 0.0522, 0.0573, 0.0630, 0.0691, 0.0759, 0.0832,\n",
              "        0.0911, 0.0998, 0.1091, 0.1192, 0.1301, 0.1419, 0.1545, 0.1680, 0.1824,\n",
              "        0.1978, 0.2142, 0.2315, 0.2497, 0.2689, 0.2891, 0.3100, 0.3318, 0.3543,\n",
              "        0.3775, 0.4013, 0.4256, 0.4502, 0.4750, 0.5000, 0.5250, 0.5498, 0.5744,\n",
              "        0.5987, 0.6225, 0.6457, 0.6682, 0.6900, 0.7109, 0.7311, 0.7503, 0.7685,\n",
              "        0.7858, 0.8022, 0.8176, 0.8320, 0.8455, 0.8581, 0.8699, 0.8808, 0.8909,\n",
              "        0.9002, 0.9089, 0.9168, 0.9241, 0.9309, 0.9370, 0.9427, 0.9478, 0.9526,\n",
              "        0.9569, 0.9608, 0.9644, 0.9677, 0.9707, 0.9734, 0.9759, 0.9781, 0.9802,\n",
              "        0.9820, 0.9837, 0.9852, 0.9866, 0.9879, 0.9890, 0.9900, 0.9910, 0.9918,\n",
              "        0.9926, 0.9933])"
            ]
          },
          "metadata": {},
          "execution_count": 4
        }
      ]
    },
    {
      "cell_type": "code",
      "source": [
        "plt.plot(x.numpy(), y.numpy())\n",
        "plt.show()"
      ],
      "metadata": {
        "colab": {
          "base_uri": "https://localhost:8080/",
          "height": 265
        },
        "id": "z-Nu4KtmX6nT",
        "outputId": "15108cba-bed8-4127-a489-9cc682a80020"
      },
      "execution_count": null,
      "outputs": [
        {
          "output_type": "display_data",
          "data": {
            "text/plain": [
              "<Figure size 432x288 with 1 Axes>"
            ],
            "image/png": "[encoded data removed]"
          },
          "metadata": {
            "needs_background": "light"
          }
        }
      ]
    },
    {
      "cell_type": "markdown",
      "source": [
        "# **Гиперболический тангенс**"
      ],
      "metadata": {
        "id": "pExIagUXZrsj"
      }
    },
    {
      "cell_type": "code",
      "source": [
        "import torch\n",
        "import matplotlib.pyplot as plt"
      ],
      "metadata": {
        "id": "yjWROrnyX6j8"
      },
      "execution_count": null,
      "outputs": []
    },
    {
      "cell_type": "code",
      "source": [
        "x = torch.range(-5., 5., 0.1)\n",
        "y = torch.tanh(x)\n",
        "plt.plot(x.numpy(), y.numpy())\n",
        "plt.show()"
      ],
      "metadata": {
        "colab": {
          "base_uri": "https://localhost:8080/",
          "height": 321
        },
        "id": "vNtS9KQ2X6g4",
        "outputId": "c1695875-b77f-49cc-d563-55393d765ad2"
      },
      "execution_count": null,
      "outputs": [
        {
          "output_type": "stream",
          "name": "stderr",
          "text": [
            "/usr/local/lib/python3.7/dist-packages/ipykernel_launcher.py:1: UserWarning: torch.range is deprecated and will be removed in a future release because its behavior is inconsistent with Python's range builtin. Instead, use torch.arange, which produces values in [start, end).\n",
            "  \"\"\"Entry point for launching an IPython kernel.\n"
          ]
        },
        {
          "output_type": "display_data",
          "data": {
            "text/plain": [
              "<Figure size 432x288 with 1 Axes>"
            ],
            "image/png": "[encoded data removed]"
          },
          "metadata": {
            "needs_background": "light"
          }
        }
      ]
    },
    {
      "cell_type": "markdown",
      "source": [
        "# **ReLU**"
      ],
      "metadata": {
        "id": "01gcNJvAaC-S"
      }
    },
    {
      "cell_type": "code",
      "source": [
        "import torch\n",
        "import matplotlib.pyplot as plt"
      ],
      "metadata": {
        "id": "fiAvJzYcX6dp"
      },
      "execution_count": null,
      "outputs": []
    },
    {
      "cell_type": "code",
      "source": [
        "relu = torch.nn.ReLU()\n",
        "x = torch.range(-5., 5., 0.1)\n",
        "y = relu(x)"
      ],
      "metadata": {
        "colab": {
          "base_uri": "https://localhost:8080/"
        },
        "id": "wBlO1svCX6Uk",
        "outputId": "787e14c3-743b-4736-8454-afa6cee80153"
      },
      "execution_count": null,
      "outputs": [
        {
          "output_type": "stream",
          "name": "stderr",
          "text": [
            "/usr/local/lib/python3.7/dist-packages/ipykernel_launcher.py:2: UserWarning: torch.range is deprecated and will be removed in a future release because its behavior is inconsistent with Python's range builtin. Instead, use torch.arange, which produces values in [start, end).\n",
            "  \n"
          ]
        }
      ]
    },
    {
      "cell_type": "code",
      "source": [
        "plt.plot(x.numpy(), y.numpy())\n",
        "plt.show()"
      ],
      "metadata": {
        "colab": {
          "base_uri": "https://localhost:8080/",
          "height": 265
        },
        "id": "KBJU1a0qaNn_",
        "outputId": "21aa5a0a-3684-4649-ef8a-9f065bac0394"
      },
      "execution_count": null,
      "outputs": [
        {
          "output_type": "display_data",
          "data": {
            "text/plain": [
              "<Figure size 432x288 with 1 Axes>"
            ],
            "image/png": "[encoded data removed]"
          },
          "metadata": {
            "needs_background": "light"
          }
        }
      ]
    },
    {
      "cell_type": "markdown",
      "source": [
        "\n"
      ],
      "metadata": {
        "id": "bTnJ_syNasXC"
      }
    },
    {
      "cell_type": "markdown",
      "source": [
        "# **PReLU**"
      ],
      "metadata": {
        "id": "bYXXq8G6agJW"
      }
    },
    {
      "cell_type": "code",
      "source": [
        "import torch\n",
        "import matplotlib.pyplot as plt\n",
        "import numpy as np"
      ],
      "metadata": {
        "id": "1W0mBx6Daf1G"
      },
      "execution_count": null,
      "outputs": []
    },
    {
      "cell_type": "code",
      "source": [
        "import matplotlib.pyplot as plt\n",
        "prelu = torch.nn.PReLU(num_parameters=1)\n",
        "x = torch.range(-5., 5., 0.1)\n",
        "y = prelu(x)\n",
        "\n",
        "len(x), len(y)"
      ],
      "metadata": {
        "colab": {
          "base_uri": "https://localhost:8080/"
        },
        "id": "U9sZVDCIaf4K",
        "outputId": "a071fb55-f273-4a40-d9ff-5e511f1ce3b2"
      },
      "execution_count": null,
      "outputs": [
        {
          "output_type": "stream",
          "name": "stderr",
          "text": [
            "/usr/local/lib/python3.7/dist-packages/ipykernel_launcher.py:3: UserWarning: torch.range is deprecated and will be removed in a future release because its behavior is inconsistent with Python's range builtin. Instead, use torch.arange, which produces values in [start, end).\n",
            "  This is separate from the ipykernel package so we can avoid doing imports until\n"
          ]
        },
        {
          "output_type": "execute_result",
          "data": {
            "text/plain": [
              "(101, 101)"
            ]
          },
          "metadata": {},
          "execution_count": 10
        }
      ]
    },
    {
      "cell_type": "code",
      "source": [
        "plt.plot(x.numpy(), y.numpy())\n",
        "plt.show()"
      ],
      "metadata": {
        "id": "P2hSdNN9afyE"
      },
      "execution_count": null,
      "outputs": []
    },
    {
      "cell_type": "markdown",
      "source": [
        "# **Многомерная логистическая функция (softmax)**"
      ],
      "metadata": {
        "id": "dlEISwECclZu"
      }
    },
    {
      "cell_type": "code",
      "source": [
        "import torch.nn as nn\n",
        "import torch"
      ],
      "metadata": {
        "id": "1gHSXwGDafvX"
      },
      "execution_count": null,
      "outputs": []
    },
    {
      "cell_type": "code",
      "source": [
        "softmax = nn.Softmax(dim=1)\n",
        "x_input = torch.randn(1, 3)\n",
        "y_output = softmax(x_input)\n",
        "print(x_input)\n",
        "print(y_output)\n",
        "print(torch.sum(y_output, dim=1))"
      ],
      "metadata": {
        "id": "1f-0XiATafsE",
        "colab": {
          "base_uri": "https://localhost:8080/"
        },
        "outputId": "735b617d-75c9-4a66-a989-599b3b0a0e9b"
      },
      "execution_count": null,
      "outputs": [
        {
          "output_type": "stream",
          "name": "stdout",
          "text": [
            "tensor([[-1.0094,  0.0327, -1.1522]])\n",
            "tensor([[0.2127, 0.6030, 0.1844]])\n",
            "tensor([1.])\n"
          ]
        }
      ]
    },
    {
      "cell_type": "markdown",
      "source": [
        "# **Функции потерь**"
      ],
      "metadata": {
        "id": "1x9O5uPSdwHo"
      }
    },
    {
      "cell_type": "markdown",
      "source": [
        "# **Среднеквадратичная погрешность MSE**"
      ],
      "metadata": {
        "id": "PzH0BOnVdvcS"
      }
    },
    {
      "cell_type": "code",
      "source": [
        "import torch\n",
        "import torch.nn as nn"
      ],
      "metadata": {
        "id": "S6j3JqfFafo6"
      },
      "execution_count": null,
      "outputs": []
    },
    {
      "cell_type": "code",
      "source": [
        "mse_loss = nn.MSELoss()\n",
        "outputs = torch.randn(3, 5, requires_grad=True)\n",
        "targets = torch.randn(3, 5)\n",
        "loss = mse_loss(outputs, targets)\n",
        "print(loss)"
      ],
      "metadata": {
        "id": "l1tOaw6Yaflp",
        "colab": {
          "base_uri": "https://localhost:8080/"
        },
        "outputId": "11efb93f-1f39-426c-c9ad-ee05c070d1cf"
      },
      "execution_count": null,
      "outputs": [
        {
          "output_type": "stream",
          "name": "stdout",
          "text": [
            "tensor(1.7518, grad_fn=<MseLossBackward0>)\n"
          ]
        }
      ]
    },
    {
      "cell_type": "markdown",
      "source": [
        "# **Функции потерь на основе дискретной перекрестной энтропии**"
      ],
      "metadata": {
        "id": "9VC8j2PFerjY"
      }
    },
    {
      "cell_type": "markdown",
      "source": [
        "**обычно используется при постановке задачи многоклассовой классификации**"
      ],
      "metadata": {
        "id": "mJjl8CBWfJHH"
      }
    },
    {
      "cell_type": "code",
      "source": [
        "import torch\n",
        "import torch.nn as nn"
      ],
      "metadata": {
        "id": "NZwdw93Telog"
      },
      "execution_count": null,
      "outputs": []
    },
    {
      "cell_type": "code",
      "source": [
        "ce_loss = nn.CrossEntropyLoss()\n",
        "outputs = torch.randn(3, 5, requires_grad=True)\n",
        "targets = torch.tensor([1, 0, 3], dtype=torch.int64)\n",
        "loss = ce_loss(outputs, targets)\n",
        "print(loss)"
      ],
      "metadata": {
        "colab": {
          "base_uri": "https://localhost:8080/"
        },
        "id": "JHPY6o5delkw",
        "outputId": "e9c32ac6-631b-49c3-bec1-35166198568b"
      },
      "execution_count": null,
      "outputs": [
        {
          "output_type": "stream",
          "name": "stdout",
          "text": [
            "tensor(1.9548, grad_fn=<NllLossBackward0>)\n"
          ]
        }
      ]
    },
    {
      "cell_type": "markdown",
      "source": [
        "# **Функция потерь на основе бинарной перекрестной энтропии**"
      ],
      "metadata": {
        "id": "3gFJJ6BHgZWi"
      }
    },
    {
      "cell_type": "markdown",
      "source": [
        "**очень удобна для решения задач классификации в случае 2-х классов**"
      ],
      "metadata": {
        "id": "NmdYph38g6Iv"
      }
    },
    {
      "cell_type": "code",
      "source": [
        "bce_loss = nn.BCELoss()\n",
        "sigmoid = nn.Sigmoid()\n",
        "probabilities = sigmoid(torch.randn(4, 1, requires_grad=True))\n",
        "targets = torch.tensor([1, 0, 1, 0], dtype=torch.float32).view(4, 1)\n",
        "loss = bce_loss(probabilities, targets)\n",
        "print(probabilities)\n",
        "print(loss)"
      ],
      "metadata": {
        "colab": {
          "base_uri": "https://localhost:8080/"
        },
        "id": "JHiI6O6Jelgp",
        "outputId": "27cde0a2-7d8d-413b-9631-789cd6c4d07c"
      },
      "execution_count": null,
      "outputs": [
        {
          "output_type": "stream",
          "name": "stdout",
          "text": [
            "tensor([[0.7338],\n",
            "        [0.6136],\n",
            "        [0.7967],\n",
            "        [0.7688]], grad_fn=<SigmoidBackward0>)\n",
            "tensor(0.7380, grad_fn=<BinaryCrossEntropyBackward0>)\n"
          ]
        }
      ]
    },
    {
      "cell_type": "markdown",
      "source": [
        "# **Углубляемся в обучение с учителем**"
      ],
      "metadata": {
        "id": "9IMRng32tH4P"
      }
    },
    {
      "cell_type": "code",
      "source": [
        "import torch\n",
        "import torch.nn as nn\n",
        "class Perceptron(nn.Module):\n",
        "    \"\"\" Перцептрон представляет собой один линейный слой \"\"\"\n",
        "    def __init__(self, input_dim):\n",
        "        \"\"\"\n",
        "        Аргументы:\n",
        "        input_dim (int): размер вектора входных признаков\n",
        "        \"\"\"\n",
        "        super(Perceptron, self).__init__()\n",
        "        self.fc1 = nn.Linear(input_dim, 1)\n",
        "    def forward(self, x_in):\n",
        "        \"\"\" Прямой проход перцептрона\n",
        "        Аргументы:\n",
        "        x_in (torch.Tensor): тензор входных данных\n",
        "        x_in.shape должен быть равен (batch, num_features)\n",
        "        Возвращает:\n",
        "        Итоговый тензор. tensor.shape должен быть равен (batch,).\n",
        "        \"\"\"\n",
        "        return torch.sigmoid(self.fc1(x_in)).squeeze()"
      ],
      "metadata": {
        "id": "xC0AXRy7fomG"
      },
      "execution_count": null,
      "outputs": []
    },
    {
      "cell_type": "code",
      "source": [],
      "metadata": {
        "id": "LCNi9bNRfocD"
      },
      "execution_count": null,
      "outputs": []
    },
    {
      "cell_type": "code",
      "source": [
        "import torch.nn as nn\n",
        "import torch.optim as optim\n",
        "from sklearn.linear_model import Perceptron"
      ],
      "metadata": {
        "id": "q3wM5RqmtK4Z"
      },
      "execution_count": null,
      "outputs": []
    },
    {
      "cell_type": "code",
      "source": [
        "input_dim = 2\n",
        "lr = 0.001"
      ],
      "metadata": {
        "id": "RlCHvolUtLpj"
      },
      "execution_count": null,
      "outputs": []
    },
    {
      "cell_type": "code",
      "source": [
        "perceptron = Perceptron(input_dim=input_dim)\n",
        "bce_loss = nn.BCELoss()\n",
        "optimizer = optim.Adam(params=perceptron.parameters(), lr=lr)"
      ],
      "metadata": {
        "id": "VHkn2kpntLmq"
      },
      "execution_count": null,
      "outputs": []
    },
    {
      "cell_type": "code",
      "source": [
        "# Каждая из эпох представляет собой полный проход\n",
        "# по обучающей последовательности\n",
        "for epoch_i in range(n_epochs):\n",
        "    # Проходим во внутреннем цикле по пакетам набора данных\n",
        "    for batch_i in range(n_batches):\n",
        "        # Шаг 0: получаем данные\n",
        "        x_data, y_target = get_toy_data(batch_size)\n",
        "        # Шаг 1: очищаем значения градиентов\n",
        "        perceptron.zero_grad()\n",
        "        # Шаг 2: вычисляем прямой проход модели\n",
        "        y_pred = perceptron(x_data, apply_sigmoid=True)\n",
        "        # Шаг 3: вычисляем оптимизируемую величину потерь\n",
        "        loss = bce_loss(y_pred, y_target)\n",
        "        # Шаг 4: транслируем сигнал потерь обратно по графу вычислений\n",
        "        loss.backward()\n",
        "        # Шаг 5: запускаем выполнение обновления оптимизатором\n",
        "        optimizer.step()"
      ],
      "metadata": {
        "id": "uzkeURcttLj2"
      },
      "execution_count": null,
      "outputs": []
    }
  ]
}