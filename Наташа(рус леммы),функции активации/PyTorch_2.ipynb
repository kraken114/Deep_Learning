{
  "nbformat": 4,
  "nbformat_minor": 0,
  "metadata": {
    "colab": {
      "provenance": []
    },
    "kernelspec": {
      "name": "python3",
      "display_name": "Python 3"
    },
    "language_info": {
      "name": "python"
    }
  },
  "cells": [
    {
      "cell_type": "markdown",
      "source": [
        "# **Корпусы текстов, токены и типы**"
      ],
      "metadata": {
        "id": "8ERa6Cmm8W3P"
      }
    },
    {
      "cell_type": "code",
      "execution_count": null,
      "metadata": {
        "id": "UieGz5Vu0L8m"
      },
      "outputs": [],
      "source": [
        "import torch"
      ]
    },
    {
      "cell_type": "code",
      "source": [
        "import spacy"
      ],
      "metadata": {
        "id": "P2_8E1SD17Fg"
      },
      "execution_count": null,
      "outputs": []
    },
    {
      "cell_type": "code",
      "source": [
        "nlp = spacy.load('en_core_web_sm')"
      ],
      "metadata": {
        "id": "L7jAjOE218IG"
      },
      "execution_count": null,
      "outputs": []
    },
    {
      "cell_type": "code",
      "source": [
        "text = \"Мы истину похожую на ложь ложка лгать должны хранить сомкнутыми устами, \\\n",
        "        иначе срам невинно наживешь.\""
      ],
      "metadata": {
        "id": "BP2HEg_i18E7"
      },
      "execution_count": null,
      "outputs": []
    },
    {
      "cell_type": "code",
      "source": [
        "tokens = [str(token) for token in nlp(text.lower())]\n",
        "print(tokens)"
      ],
      "metadata": {
        "colab": {
          "base_uri": "https://localhost:8080/"
        },
        "id": "MyTPtQem18CM",
        "outputId": "101c9ab2-aa49-49c5-9844-3c99b275435d"
      },
      "execution_count": null,
      "outputs": [
        {
          "output_type": "stream",
          "name": "stdout",
          "text": [
            "['посол', 'израиля', 'на', 'украине', 'йоэль', 'лион', 'признался', ',', 'что', 'пришел', 'в', 'шок', ',', 'узнав', 'о', 'решении', 'властей', 'львовской', 'области', 'объявить', '2019', 'год', 'годом', 'лидера', 'запрещенной', 'в', 'россии', 'организации', 'украинских', 'националистов', '(', 'оун', ')', 'степана', 'бандеры', '...']\n"
          ]
        }
      ]
    },
    {
      "cell_type": "code",
      "source": [],
      "metadata": {
        "id": "6ZBz5kJr9Yyx"
      },
      "execution_count": null,
      "outputs": []
    },
    {
      "cell_type": "code",
      "source": [
        "from nltk.tokenize import TweetTokenizer"
      ],
      "metadata": {
        "id": "rJZu_mPO17_Z"
      },
      "execution_count": null,
      "outputs": []
    },
    {
      "cell_type": "code",
      "source": [
        "tweet=\"Snow White and the Seven Degrees \\\n",
        "#MakeAMovieCold@midnight:-)\""
      ],
      "metadata": {
        "id": "9Y91BUYh178J"
      },
      "execution_count": null,
      "outputs": []
    },
    {
      "cell_type": "code",
      "source": [
        "tokenizer = TweetTokenizer()"
      ],
      "metadata": {
        "id": "-slPQEto175E"
      },
      "execution_count": null,
      "outputs": []
    },
    {
      "cell_type": "code",
      "source": [
        "print(tokenizer.tokenize(tweet.lower()))"
      ],
      "metadata": {
        "colab": {
          "base_uri": "https://localhost:8080/"
        },
        "id": "rx2rNkdl1715",
        "outputId": "ada4c0fb-139f-4e56-82a3-ea8e593cdb72"
      },
      "execution_count": null,
      "outputs": [
        {
          "output_type": "stream",
          "name": "stdout",
          "text": [
            "['snow', 'white', 'and', 'the', 'seven', 'degrees', '#makeamoviecold', '@midnight', ':-)']\n"
          ]
        }
      ]
    },
    {
      "cell_type": "markdown",
      "source": [
        "# **Униграммы, биграммы, триграммы... n-граммы**"
      ],
      "metadata": {
        "id": "qUZGA8RO8N_X"
      }
    },
    {
      "cell_type": "code",
      "source": [
        "def n_grams(text, n):\n",
        "      '''\n",
        "      Принимает на входе токены или текст, возвращает список n-грамм\n",
        "      '''\n",
        "      return [text[i:i+n] for i in range(len(text)-n+1)]\n",
        "df = n_grams(tokens, 3)\n",
        "df"
      ],
      "metadata": {
        "colab": {
          "base_uri": "https://localhost:8080/"
        },
        "id": "VNkxFqt66NDB",
        "outputId": "8c22015d-4e15-4ff3-f1c4-6042219998be"
      },
      "execution_count": null,
      "outputs": [
        {
          "output_type": "execute_result",
          "data": {
            "text/plain": [
              "[['мы', 'истину', 'похожую'],\n",
              " ['истину', 'похожую', 'на'],\n",
              " ['похожую', 'на', 'ложь'],\n",
              " ['на', 'ложь', 'должны'],\n",
              " ['ложь', 'должны', 'хранить'],\n",
              " ['должны', 'хранить', 'сомкнутыми'],\n",
              " ['хранить', 'сомкнутыми', 'устами'],\n",
              " ['сомкнутыми', 'устами', ','],\n",
              " ['устами', ',', '        '],\n",
              " [',', '        ', 'иначе'],\n",
              " ['        ', 'иначе', 'срам'],\n",
              " ['иначе', 'срам', 'невинно'],\n",
              " ['срам', 'невинно', 'наживешь'],\n",
              " ['невинно', 'наживешь', '.']]"
            ]
          },
          "metadata": {},
          "execution_count": 26
        }
      ]
    },
    {
      "cell_type": "markdown",
      "source": [
        "# **Леммы и основы слов**"
      ],
      "metadata": {
        "id": "ETji6mVQ_GQq"
      }
    },
    {
      "cell_type": "code",
      "source": [
        "import spacy"
      ],
      "metadata": {
        "id": "pHuVshom_rb-"
      },
      "execution_count": null,
      "outputs": []
    },
    {
      "cell_type": "code",
      "source": [
        "nlp = spacy.load('en_core_web_sm')"
      ],
      "metadata": {
        "id": "Z0xMM8IiB49Q"
      },
      "execution_count": null,
      "outputs": []
    },
    {
      "cell_type": "code",
      "source": [
        "doc = nlp('Dante would have thought that he beheld his seven circles of hell on the march.')\n",
        "for token in doc:\n",
        "  print(f'{token} --> {token.lemma_}')"
      ],
      "metadata": {
        "colab": {
          "base_uri": "https://localhost:8080/"
        },
        "id": "3P-IkDtT6M9j",
        "outputId": "300579c0-8b79-418b-a43a-9aac3e6bfde0"
      },
      "execution_count": null,
      "outputs": [
        {
          "output_type": "stream",
          "name": "stdout",
          "text": [
            "Dante --> Dante\n",
            "would --> would\n",
            "have --> have\n",
            "thought --> think\n",
            "that --> that\n",
            "he --> he\n",
            "beheld --> behold\n",
            "his --> his\n",
            "seven --> seven\n",
            "circles --> circle\n",
            "of --> of\n",
            "hell --> hell\n",
            "on --> on\n",
            "the --> the\n",
            "march --> march\n",
            ". --> .\n"
          ]
        }
      ]
    },
    {
      "cell_type": "markdown",
      "source": [
        "# **Наташа (для русских лемм)**"
      ],
      "metadata": {
        "id": "8nRHAe3KP0nc"
      }
    },
    {
      "cell_type": "code",
      "source": [
        "!pip install natasha"
      ],
      "metadata": {
        "id": "ojHue4XMPogM",
        "colab": {
          "base_uri": "https://localhost:8080/"
        },
        "outputId": "1e5a00e1-eb7e-446d-d5d0-6a534cc61099"
      },
      "execution_count": null,
      "outputs": [
        {
          "output_type": "stream",
          "name": "stdout",
          "text": [
            "Looking in indexes: https://pypi.org/simple, https://us-python.pkg.dev/colab-wheels/public/simple/\n",
            "Collecting natasha\n",
            "  Downloading natasha-1.4.0-py3-none-any.whl (34.4 MB)\n",
            "\u001b[K     |████████████████████████████████| 34.4 MB 1.2 MB/s \n",
            "\u001b[?25hCollecting pymorphy2\n",
            "  Downloading pymorphy2-0.9.1-py3-none-any.whl (55 kB)\n",
            "\u001b[K     |████████████████████████████████| 55 kB 4.3 MB/s \n",
            "\u001b[?25hCollecting yargy>=0.14.0\n",
            "  Downloading yargy-0.15.0-py3-none-any.whl (41 kB)\n",
            "\u001b[K     |████████████████████████████████| 41 kB 127 kB/s \n",
            "\u001b[?25hCollecting slovnet>=0.3.0\n",
            "  Downloading slovnet-0.5.0-py3-none-any.whl (49 kB)\n",
            "\u001b[K     |████████████████████████████████| 49 kB 5.4 MB/s \n",
            "\u001b[?25hCollecting navec>=0.9.0\n",
            "  Downloading navec-0.10.0-py3-none-any.whl (23 kB)\n",
            "Collecting ipymarkup>=0.8.0\n",
            "  Downloading ipymarkup-0.9.0-py3-none-any.whl (14 kB)\n",
            "Collecting razdel>=0.5.0\n",
            "  Downloading razdel-0.5.0-py3-none-any.whl (21 kB)\n",
            "Collecting intervaltree>=3\n",
            "  Downloading intervaltree-3.1.0.tar.gz (32 kB)\n",
            "Requirement already satisfied: sortedcontainers<3.0,>=2.0 in /usr/local/lib/python3.7/dist-packages (from intervaltree>=3->ipymarkup>=0.8.0->natasha) (2.4.0)\n",
            "Requirement already satisfied: numpy in /usr/local/lib/python3.7/dist-packages (from navec>=0.9.0->natasha) (1.21.6)\n",
            "Collecting pymorphy2-dicts-ru<3.0,>=2.4\n",
            "  Downloading pymorphy2_dicts_ru-2.4.417127.4579844-py2.py3-none-any.whl (8.2 MB)\n",
            "\u001b[K     |████████████████████████████████| 8.2 MB 61.3 MB/s \n",
            "\u001b[?25hCollecting docopt>=0.6\n",
            "  Downloading docopt-0.6.2.tar.gz (25 kB)\n",
            "Collecting dawg-python>=0.7.1\n",
            "  Downloading DAWG_Python-0.7.2-py2.py3-none-any.whl (11 kB)\n",
            "Building wheels for collected packages: intervaltree, docopt\n",
            "  Building wheel for intervaltree (setup.py) ... \u001b[?25l\u001b[?25hdone\n",
            "  Created wheel for intervaltree: filename=intervaltree-3.1.0-py2.py3-none-any.whl size=26119 sha256=d304bb1e21801b0c575b257fec7fbb941a3e78d6064e047ebd9e821c3cabd8e7\n",
            "  Stored in directory: /root/.cache/pip/wheels/16/85/bd/1001cbb46dcfb71c2001cd7401c6fb250392f22a81ce3722f7\n",
            "  Building wheel for docopt (setup.py) ... \u001b[?25l\u001b[?25hdone\n",
            "  Created wheel for docopt: filename=docopt-0.6.2-py2.py3-none-any.whl size=13723 sha256=e09dd7b3a7e4dceab632bd797db900443c5439bfae945e7f1e81173d93d05c2d\n",
            "  Stored in directory: /root/.cache/pip/wheels/72/b0/3f/1d95f96ff986c7dfffe46ce2be4062f38ebd04b506c77c81b9\n",
            "Successfully built intervaltree docopt\n",
            "Installing collected packages: pymorphy2-dicts-ru, docopt, dawg-python, razdel, pymorphy2, navec, intervaltree, yargy, slovnet, ipymarkup, natasha\n",
            "  Attempting uninstall: intervaltree\n",
            "    Found existing installation: intervaltree 2.1.0\n",
            "    Uninstalling intervaltree-2.1.0:\n",
            "      Successfully uninstalled intervaltree-2.1.0\n",
            "Successfully installed dawg-python-0.7.2 docopt-0.6.2 intervaltree-3.1.0 ipymarkup-0.9.0 natasha-1.4.0 navec-0.10.0 pymorphy2-0.9.1 pymorphy2-dicts-ru-2.4.417127.4579844 razdel-0.5.0 slovnet-0.5.0 yargy-0.15.0\n"
          ]
        }
      ]
    },
    {
      "cell_type": "code",
      "source": [
        "from natasha import Segmenter, MorphVocab, NewsEmbedding, NewsMorphTagger, NewsSyntaxParser, NewsNERTagger,NamesExtractor, Doc"
      ],
      "metadata": {
        "id": "7NwyESEaPodQ"
      },
      "execution_count": null,
      "outputs": []
    },
    {
      "cell_type": "code",
      "source": [
        "text = 'Посол Израиля на Украине Йоэль Лион признался, что пришел в шок, узнав о решении властей Львовской области объявить 2019 год годом лидера запрещенной в России Организации украинских националистов (ОУН) Степана Бандеры...'"
      ],
      "metadata": {
        "id": "z7DHX6ONUSQQ"
      },
      "execution_count": null,
      "outputs": []
    },
    {
      "cell_type": "code",
      "source": [
        "doc = Doc(text)\n",
        "doc"
      ],
      "metadata": {
        "colab": {
          "base_uri": "https://localhost:8080/"
        },
        "id": "13WZVhgqTEAc",
        "outputId": "e0becffe-9f5d-4df6-d650-597b5c014f4b"
      },
      "execution_count": null,
      "outputs": [
        {
          "output_type": "execute_result",
          "data": {
            "text/plain": [
              "Doc(text='Посол Израиля на Украине Йоэль Лион признался, чт...)"
            ]
          },
          "metadata": {},
          "execution_count": 4
        }
      ]
    },
    {
      "cell_type": "code",
      "source": [
        "segmenter = Segmenter()"
      ],
      "metadata": {
        "id": "9Ijw6wMTbEzy"
      },
      "execution_count": null,
      "outputs": []
    },
    {
      "cell_type": "code",
      "source": [
        "doc.segment(segmenter)\n",
        "print(doc.tokens[:5])"
      ],
      "metadata": {
        "colab": {
          "base_uri": "https://localhost:8080/"
        },
        "id": "lVm-E47tawwm",
        "outputId": "67ea4014-d7d4-4f11-8250-9a35e5c52f1d"
      },
      "execution_count": null,
      "outputs": [
        {
          "output_type": "stream",
          "name": "stdout",
          "text": [
            "[DocToken(stop=5, text='Посол'), DocToken(start=6, stop=13, text='Израиля'), DocToken(start=14, stop=16, text='на'), DocToken(start=17, stop=24, text='Украине'), DocToken(start=25, stop=30, text='Йоэль')]\n"
          ]
        }
      ]
    },
    {
      "cell_type": "code",
      "source": [
        "emb = NewsEmbedding()\n",
        "morph_vocab = MorphVocab()\n",
        "morph_tagger = NewsMorphTagger(emb)"
      ],
      "metadata": {
        "id": "dq4FbD2dbeLo"
      },
      "execution_count": null,
      "outputs": []
    },
    {
      "cell_type": "code",
      "source": [
        "doc.tag_morph(morph_tagger)\n",
        "print(doc.tokens[:5])"
      ],
      "metadata": {
        "colab": {
          "base_uri": "https://localhost:8080/"
        },
        "id": "xed5QOHibgxd",
        "outputId": "3efc01ce-e13c-4d86-c340-09e15f3d7207"
      },
      "execution_count": null,
      "outputs": [
        {
          "output_type": "stream",
          "name": "stdout",
          "text": [
            "[DocToken(stop=5, text='Посол', pos='NOUN', feats=<Anim,Nom,Masc,Sing>), DocToken(start=6, stop=13, text='Израиля', pos='PROPN', feats=<Inan,Gen,Masc,Sing>), DocToken(start=14, stop=16, text='на', pos='ADP'), DocToken(start=17, stop=24, text='Украине', pos='PROPN', feats=<Inan,Loc,Fem,Sing>), DocToken(start=25, stop=30, text='Йоэль', pos='PROPN', feats=<Anim,Nom,Masc,Sing>)]\n"
          ]
        }
      ]
    },
    {
      "cell_type": "code",
      "source": [
        "morph_vocab = MorphVocab()"
      ],
      "metadata": {
        "id": "azdpa50PcEFh"
      },
      "execution_count": null,
      "outputs": []
    },
    {
      "cell_type": "code",
      "source": [
        "for token in doc.tokens:\n",
        "  token.lemmatize(morph_vocab)"
      ],
      "metadata": {
        "id": "qpoItElGcGYt"
      },
      "execution_count": null,
      "outputs": []
    },
    {
      "cell_type": "code",
      "source": [
        "{_.text: _.lemma for _ in doc.tokens}"
      ],
      "metadata": {
        "colab": {
          "base_uri": "https://localhost:8080/"
        },
        "id": "V-8qmErKcckr",
        "outputId": "df4bf411-a295-499a-9d09-3f96216b7eb2"
      },
      "execution_count": null,
      "outputs": [
        {
          "output_type": "execute_result",
          "data": {
            "text/plain": [
              "{'Посол': 'посол',\n",
              " 'Израиля': 'израиль',\n",
              " 'на': 'на',\n",
              " 'Украине': 'украина',\n",
              " 'Йоэль': 'йоэль',\n",
              " 'Лион': 'лион',\n",
              " 'признался': 'признаться',\n",
              " ',': ',',\n",
              " 'что': 'что',\n",
              " 'пришел': 'прийти',\n",
              " 'в': 'в',\n",
              " 'шок': 'шок',\n",
              " 'узнав': 'узнать',\n",
              " 'о': 'о',\n",
              " 'решении': 'решение',\n",
              " 'властей': 'власть',\n",
              " 'Львовской': 'львовский',\n",
              " 'области': 'область',\n",
              " 'объявить': 'объявить',\n",
              " '2019': '2019',\n",
              " 'год': 'год',\n",
              " 'годом': 'год',\n",
              " 'лидера': 'лидер',\n",
              " 'запрещенной': 'запретить',\n",
              " 'России': 'россия',\n",
              " 'Организации': 'организация',\n",
              " 'украинских': 'украинский',\n",
              " 'националистов': 'националист',\n",
              " '(': '(',\n",
              " 'ОУН': 'оун',\n",
              " ')': ')',\n",
              " 'Степана': 'степан',\n",
              " 'Бандеры': 'бандера',\n",
              " '...': '...'}"
            ]
          },
          "metadata": {},
          "execution_count": 127
        }
      ]
    },
    {
      "cell_type": "markdown",
      "source": [
        "# **Категоризация слов: маркирование частей речи**"
      ],
      "metadata": {
        "id": "jQiuBC0QHkAF"
      }
    },
    {
      "cell_type": "code",
      "source": [
        "import spacy"
      ],
      "metadata": {
        "id": "u7XekLSR6M6p"
      },
      "execution_count": null,
      "outputs": []
    },
    {
      "cell_type": "code",
      "source": [
        "nlp = spacy.load('en_core_web_sm')"
      ],
      "metadata": {
        "id": "JwSA0cQq6M3d"
      },
      "execution_count": null,
      "outputs": []
    },
    {
      "cell_type": "code",
      "source": [
        "doc = nlp(u\"Mary slapped the green witch.\")"
      ],
      "metadata": {
        "id": "fcLHnk_B6M0L"
      },
      "execution_count": null,
      "outputs": []
    },
    {
      "cell_type": "code",
      "source": [
        "for token in doc:\n",
        "  print('{} - {}'.format(token, token.pos_))"
      ],
      "metadata": {
        "id": "yeW9MUyC6Mv9",
        "colab": {
          "base_uri": "https://localhost:8080/"
        },
        "outputId": "25cb8eda-818f-4f92-86a8-83dd97614099"
      },
      "execution_count": null,
      "outputs": [
        {
          "output_type": "stream",
          "name": "stdout",
          "text": [
            "Mary - PROPN\n",
            "slapped - VERB\n",
            "the - DET\n",
            "green - ADJ\n",
            "witch - NOUN\n",
            ". - PUNCT\n"
          ]
        }
      ]
    },
    {
      "cell_type": "markdown",
      "source": [
        "**Тоже на Наташе**"
      ],
      "metadata": {
        "id": "_6O4_SCuHWDy"
      }
    },
    {
      "cell_type": "code",
      "source": [
        "!pip install natasha"
      ],
      "metadata": {
        "id": "2LtfnieOIpVU"
      },
      "execution_count": null,
      "outputs": []
    },
    {
      "cell_type": "code",
      "source": [
        "from natasha import Segmenter, MorphVocab, NewsEmbedding, NewsMorphTagger, NewsSyntaxParser, NewsNERTagger,NamesExtractor, Doc"
      ],
      "metadata": {
        "id": "DXEWzLPJIpVV"
      },
      "execution_count": null,
      "outputs": []
    },
    {
      "cell_type": "code",
      "source": [
        "text = 'Посол Израиля на Украине Йоэль Лион признался, что пришел в шок, узнав о решении властей Львовской области объявить 2019 год годом лидера запрещенной в России Организации украинских националистов (ОУН) Степана Бандеры...'"
      ],
      "metadata": {
        "id": "STVlh_DJIpVV"
      },
      "execution_count": null,
      "outputs": []
    },
    {
      "cell_type": "code",
      "source": [
        "doc = Doc(text)\n",
        "doc"
      ],
      "metadata": {
        "colab": {
          "base_uri": "https://localhost:8080/"
        },
        "outputId": "68841b57-254f-42e7-c5ae-2957ed697341",
        "id": "gynkSrrUIpVW"
      },
      "execution_count": null,
      "outputs": [
        {
          "output_type": "execute_result",
          "data": {
            "text/plain": [
              "Doc(text='Посол Израиля на Украине Йоэль Лион признался, чт...)"
            ]
          },
          "metadata": {},
          "execution_count": 14
        }
      ]
    },
    {
      "cell_type": "code",
      "source": [
        "segmenter = Segmenter()"
      ],
      "metadata": {
        "id": "jRxJ8xVoIpVW"
      },
      "execution_count": null,
      "outputs": []
    },
    {
      "cell_type": "code",
      "source": [
        "doc.segment(segmenter)\n",
        "print(doc.tokens[:5])"
      ],
      "metadata": {
        "colab": {
          "base_uri": "https://localhost:8080/"
        },
        "outputId": "0397f930-03c1-48ca-f01a-633c4c431a2c",
        "id": "cuX_Qj4oIpVW"
      },
      "execution_count": null,
      "outputs": [
        {
          "output_type": "stream",
          "name": "stdout",
          "text": [
            "[DocToken(stop=5, text='Посол'), DocToken(start=6, stop=13, text='Израиля'), DocToken(start=14, stop=16, text='на'), DocToken(start=17, stop=24, text='Украине'), DocToken(start=25, stop=30, text='Йоэль')]\n"
          ]
        }
      ]
    },
    {
      "cell_type": "code",
      "source": [
        "emb = NewsEmbedding()\n",
        "morph_vocab = MorphVocab()\n",
        "morph_tagger = NewsMorphTagger(emb)"
      ],
      "metadata": {
        "id": "b-gyKQMYIpVX"
      },
      "execution_count": null,
      "outputs": []
    },
    {
      "cell_type": "code",
      "source": [
        "doc.tag_morph(morph_tagger)\n",
        "doc.tokens[:5]"
      ],
      "metadata": {
        "colab": {
          "base_uri": "https://localhost:8080/"
        },
        "outputId": "c50a9b06-bf38-4ea9-cea0-f470e133dbc2",
        "id": "32CJj5lcIpVX"
      },
      "execution_count": null,
      "outputs": [
        {
          "output_type": "execute_result",
          "data": {
            "text/plain": [
              "[DocToken(stop=5, text='Посол', pos='NOUN', feats=<Anim,Nom,Masc,Sing>),\n",
              " DocToken(start=6, stop=13, text='Израиля', pos='PROPN', feats=<Inan,Gen,Masc,Sing>),\n",
              " DocToken(start=14, stop=16, text='на', pos='ADP'),\n",
              " DocToken(start=17, stop=24, text='Украине', pos='PROPN', feats=<Inan,Loc,Fem,Sing>),\n",
              " DocToken(start=25, stop=30, text='Йоэль', pos='PROPN', feats=<Anim,Nom,Masc,Sing>)]"
            ]
          },
          "metadata": {},
          "execution_count": 19
        }
      ]
    },
    {
      "cell_type": "markdown",
      "source": [
        "# **Категоризация отрезков текста: разбивка на порции и распознавание поименованных сущностей**"
      ],
      "metadata": {
        "id": "vV5ZkKQFJ3ww"
      }
    },
    {
      "cell_type": "code",
      "source": [
        "import spacy\n",
        "nlp = spacy.load('en_core_web_sm')"
      ],
      "metadata": {
        "id": "iQj5vhEiHAIi"
      },
      "execution_count": null,
      "outputs": []
    },
    {
      "cell_type": "code",
      "source": [
        "doc = nlp(u\"Mary slapped the green witch.\")"
      ],
      "metadata": {
        "id": "Td5m3fJuHAFH"
      },
      "execution_count": null,
      "outputs": []
    },
    {
      "cell_type": "code",
      "source": [
        "for chunk in doc.noun_chunks:\n",
        "  print ('{} - {}'.format(chunk, chunk.label_))"
      ],
      "metadata": {
        "colab": {
          "base_uri": "https://localhost:8080/"
        },
        "id": "86kXsoh9G_80",
        "outputId": "64140cdc-c039-4a81-9a3d-1f068f22e3f0"
      },
      "execution_count": null,
      "outputs": [
        {
          "output_type": "stream",
          "name": "stdout",
          "text": [
            "Mary - NP\n",
            "the green witch - NP\n"
          ]
        }
      ]
    }
  ]
}