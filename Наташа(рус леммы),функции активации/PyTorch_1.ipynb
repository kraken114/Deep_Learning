{
  "nbformat": 4,
  "nbformat_minor": 0,
  "metadata": {
    "colab": {
      "provenance": []
    },
    "kernelspec": {
      "name": "python3",
      "display_name": "Python 3"
    },
    "language_info": {
      "name": "python"
    }
  },
  "cells": [
    {
      "cell_type": "code",
      "execution_count": null,
      "metadata": {
        "id": "dMf4I5QhvO5b"
      },
      "outputs": [],
      "source": [
        "!pip3 install fastai"
      ]
    },
    {
      "cell_type": "code",
      "source": [
        "from fastai.vision.all import *"
      ],
      "metadata": {
        "id": "fcV9PdjxvlKM"
      },
      "execution_count": null,
      "outputs": []
    },
    {
      "cell_type": "code",
      "source": [
        "path = untar_data(URLs.PETS)/'grizzly'"
      ],
      "metadata": {
        "colab": {
          "base_uri": "https://localhost:8080/",
          "height": 37
        },
        "id": "gPDYpMuIvlHX",
        "outputId": "622783cd-0619-409a-b50e-ff6d4f576b85"
      },
      "execution_count": null,
      "outputs": [
        {
          "output_type": "display_data",
          "data": {
            "text/plain": [
              "<IPython.core.display.HTML object>"
            ],
            "text/html": [
              "\n",
              "<style>\n",
              "    /* Turns off some styling */\n",
              "    progress {\n",
              "        /* gets rid of default border in Firefox and Opera. */\n",
              "        border: none;\n",
              "        /* Needs to be in here for Safari polyfill so background images work as expected. */\n",
              "        background-size: auto;\n",
              "    }\n",
              "    progress:not([value]), progress:not([value])::-webkit-progress-bar {\n",
              "        background: repeating-linear-gradient(45deg, #7e7e7e, #7e7e7e 10px, #5c5c5c 10px, #5c5c5c 20px);\n",
              "    }\n",
              "    .progress-bar-interrupted, .progress-bar-interrupted::-webkit-progress-bar {\n",
              "        background: #F44336;\n",
              "    }\n",
              "</style>\n"
            ]
          },
          "metadata": {}
        },
        {
          "output_type": "display_data",
          "data": {
            "text/plain": [
              "<IPython.core.display.HTML object>"
            ],
            "text/html": [
              "\n",
              "    <div>\n",
              "      <progress value='811712512' class='' max='811706944' style='width:300px; height:20px; vertical-align: middle;'></progress>\n",
              "      100.00% [811712512/811706944 00:10&lt;00:00]\n",
              "    </div>\n",
              "    "
            ]
          },
          "metadata": {}
        }
      ]
    },
    {
      "cell_type": "code",
      "source": [
        "path"
      ],
      "metadata": {
        "colab": {
          "base_uri": "https://localhost:8080/",
          "height": 169
        },
        "id": "rVj50U24E_tT",
        "outputId": "f36ec235-e7e4-4724-be7a-7300b95b8658"
      },
      "execution_count": null,
      "outputs": [
        {
          "output_type": "error",
          "ename": "AttributeError",
          "evalue": "ignored",
          "traceback": [
            "\u001b[0;31m---------------------------------------------------------------------------\u001b[0m",
            "\u001b[0;31mAttributeError\u001b[0m                            Traceback (most recent call last)",
            "\u001b[0;32m<ipython-input-11-92dc3c6100da>\u001b[0m in \u001b[0;36m<module>\u001b[0;34m\u001b[0m\n\u001b[0;32m----> 1\u001b[0;31m \u001b[0mpath\u001b[0m\u001b[0;34m.\u001b[0m\u001b[0mshape\u001b[0m\u001b[0;34m\u001b[0m\u001b[0;34m\u001b[0m\u001b[0m\n\u001b[0m",
            "\u001b[0;31mAttributeError\u001b[0m: 'PosixPath' object has no attribute 'shape'"
          ]
        }
      ]
    },
    {
      "cell_type": "code",
      "source": [
        "dest = 'images/grizzly.jpg'\n",
        "#download_url(ims[0], dest)"
      ],
      "metadata": {
        "id": "epUw8A6pq9FE"
      },
      "execution_count": null,
      "outputs": []
    },
    {
      "cell_type": "code",
      "source": [
        "dest"
      ],
      "metadata": {
        "colab": {
          "base_uri": "https://localhost:8080/",
          "height": 36
        },
        "id": "X3jZ0hOTEc9N",
        "outputId": "2cfc8ffb-60f9-4155-966a-cb5c1e01c693"
      },
      "execution_count": null,
      "outputs": [
        {
          "output_type": "execute_result",
          "data": {
            "text/plain": [
              "'images/grizzly.jpg'"
            ],
            "application/vnd.google.colaboratory.intrinsic+json": {
              "type": "string"
            }
          },
          "metadata": {},
          "execution_count": 6
        }
      ]
    },
    {
      "cell_type": "code",
      "source": [
        "results = search_images_bing(key, 'grizzly bear')\n",
        "ims = results.attrgot('content_url')\n",
        "len(ims)"
      ],
      "metadata": {
        "id": "KyJAe6Ahqrgx"
      },
      "execution_count": null,
      "outputs": []
    },
    {
      "cell_type": "code",
      "source": [
        "import torch"
      ],
      "metadata": {
        "id": "5T1lBUIIqrd1"
      },
      "execution_count": null,
      "outputs": []
    },
    {
      "cell_type": "code",
      "source": [
        "torch.Tensor(4,4)"
      ],
      "metadata": {
        "id": "EiFhmk-pqrbJ",
        "colab": {
          "base_uri": "https://localhost:8080/"
        },
        "outputId": "db105632-2743-48a2-88a4-74140bb20e97"
      },
      "execution_count": null,
      "outputs": [
        {
          "output_type": "execute_result",
          "data": {
            "text/plain": [
              "tensor([[3.1025e-35, 0.0000e+00, 0.0000e+00, 0.0000e+00],\n",
              "        [0.0000e+00, 0.0000e+00, 0.0000e+00, 0.0000e+00],\n",
              "        [0.0000e+00, 0.0000e+00, 0.0000e+00, 0.0000e+00],\n",
              "        [0.0000e+00, 0.0000e+00, 0.0000e+00, 0.0000e+00]])"
            ]
          },
          "metadata": {},
          "execution_count": 6
        }
      ]
    },
    {
      "cell_type": "code",
      "source": [
        "torch.rand(2, 3) # случайное равномерное распределение"
      ],
      "metadata": {
        "id": "-W46WY2DqrX5",
        "colab": {
          "base_uri": "https://localhost:8080/"
        },
        "outputId": "8c1eaba4-e74c-47e9-e48c-7092d39b4322"
      },
      "execution_count": null,
      "outputs": [
        {
          "output_type": "execute_result",
          "data": {
            "text/plain": [
              "tensor([[0.3835, 0.9707, 0.5268],\n",
              "        [0.1730, 0.4657, 0.6388]])"
            ]
          },
          "metadata": {},
          "execution_count": 7
        }
      ]
    },
    {
      "cell_type": "code",
      "source": [
        "torch.randn(2, 3) # случайное нормальное распределение"
      ],
      "metadata": {
        "id": "cdKJSEy_qrUz",
        "colab": {
          "base_uri": "https://localhost:8080/"
        },
        "outputId": "6a0d9752-63b2-48a6-92c7-62e8b2b5dc27"
      },
      "execution_count": null,
      "outputs": [
        {
          "output_type": "execute_result",
          "data": {
            "text/plain": [
              "tensor([[ 0.2569,  0.1955,  1.0948],\n",
              "        [-1.1033, -0.8579,  0.9320]])"
            ]
          },
          "metadata": {},
          "execution_count": 8
        }
      ]
    },
    {
      "cell_type": "code",
      "source": [
        "torch.ones(2, 3).fill_(34) # заполнение матрицы одинаковыми значениями"
      ],
      "metadata": {
        "id": "4yQ_7hf4qrSH",
        "colab": {
          "base_uri": "https://localhost:8080/"
        },
        "outputId": "51e40c7b-73f4-49b7-c725-c02fd41ecfe5"
      },
      "execution_count": null,
      "outputs": [
        {
          "output_type": "execute_result",
          "data": {
            "text/plain": [
              "tensor([[34., 34., 34.],\n",
              "        [34., 34., 34.]])"
            ]
          },
          "metadata": {},
          "execution_count": 16
        }
      ]
    },
    {
      "cell_type": "code",
      "source": [
        "npy = np.random.rand(2, 3)\n",
        "npy"
      ],
      "metadata": {
        "id": "zdENOjVVqrOA",
        "colab": {
          "base_uri": "https://localhost:8080/"
        },
        "outputId": "06a556cb-8f9b-4e52-a498-a8a3560a9e5e"
      },
      "execution_count": null,
      "outputs": [
        {
          "output_type": "execute_result",
          "data": {
            "text/plain": [
              "array([[0.71774612, 0.19178166, 0.21630851],\n",
              "       [0.44229226, 0.53134391, 0.42079998]])"
            ]
          },
          "metadata": {},
          "execution_count": 19
        }
      ]
    },
    {
      "cell_type": "code",
      "source": [
        "torch.from_numpy(npy) # создаем тензоры из массива NumPy"
      ],
      "metadata": {
        "colab": {
          "base_uri": "https://localhost:8080/"
        },
        "id": "6hCy19O3sXfo",
        "outputId": "52daa0bb-d692-4b06-b3ff-a8faf64bbea8"
      },
      "execution_count": null,
      "outputs": [
        {
          "output_type": "execute_result",
          "data": {
            "text/plain": [
              "tensor([[0.7177, 0.1918, 0.2163],\n",
              "        [0.4423, 0.5313, 0.4208]], dtype=torch.float64)"
            ]
          },
          "metadata": {},
          "execution_count": 20
        }
      ]
    },
    {
      "cell_type": "markdown",
      "source": [
        "# **Типы и размеры тензора**"
      ],
      "metadata": {
        "id": "IG18SQsui4YZ"
      }
    },
    {
      "cell_type": "code",
      "source": [
        "import torch\n",
        "import numpy as np"
      ],
      "metadata": {
        "id": "c09wnsMcsXc7"
      },
      "execution_count": null,
      "outputs": []
    },
    {
      "cell_type": "code",
      "source": [
        "npy = np.random.rand(2, 3)"
      ],
      "metadata": {
        "id": "6Lk52LEPsXaH"
      },
      "execution_count": null,
      "outputs": []
    },
    {
      "cell_type": "code",
      "source": [
        "npy"
      ],
      "metadata": {
        "id": "yZrrkl1OsXXX",
        "colab": {
          "base_uri": "https://localhost:8080/"
        },
        "outputId": "f5fbc965-2885-4e12-d47b-a4dc572bc185"
      },
      "execution_count": null,
      "outputs": [
        {
          "output_type": "execute_result",
          "data": {
            "text/plain": [
              "array([[0.54640094, 0.49249895, 0.852286  ],\n",
              "       [0.94964371, 0.52611408, 0.58661298]])"
            ]
          },
          "metadata": {},
          "execution_count": 4
        }
      ]
    },
    {
      "cell_type": "code",
      "source": [
        "torch.from_numpy(npy) # перевод из numpy в torch"
      ],
      "metadata": {
        "id": "8k4wIKUYsXUJ",
        "colab": {
          "base_uri": "https://localhost:8080/"
        },
        "outputId": "8fa241bf-930a-469d-d8f5-1be372415794"
      },
      "execution_count": null,
      "outputs": [
        {
          "output_type": "execute_result",
          "data": {
            "text/plain": [
              "tensor([[0.5464, 0.4925, 0.8523],\n",
              "        [0.9496, 0.5261, 0.5866]], dtype=torch.float64)"
            ]
          },
          "metadata": {},
          "execution_count": 5
        }
      ]
    },
    {
      "cell_type": "code",
      "source": [
        "x = torch.FloatTensor([[1, 2, 3],\n",
        "                      [4, 5, 6]])\n",
        "x"
      ],
      "metadata": {
        "id": "cNQTFwzIgusy",
        "colab": {
          "base_uri": "https://localhost:8080/"
        },
        "outputId": "81cf46de-aad4-4388-c5ee-68ecdf4b7f3f"
      },
      "execution_count": null,
      "outputs": [
        {
          "output_type": "execute_result",
          "data": {
            "text/plain": [
              "tensor([[1., 2., 3.],\n",
              "        [4., 5., 6.]])"
            ]
          },
          "metadata": {},
          "execution_count": 9
        }
      ]
    },
    {
      "cell_type": "code",
      "source": [
        "x.long() # перевод в int"
      ],
      "metadata": {
        "id": "-enXNJdegupz",
        "colab": {
          "base_uri": "https://localhost:8080/"
        },
        "outputId": "4949373b-792a-4b03-ca08-96141e706d8d"
      },
      "execution_count": null,
      "outputs": [
        {
          "output_type": "execute_result",
          "data": {
            "text/plain": [
              "tensor([[1, 2, 3],\n",
              "        [4, 5, 6]])"
            ]
          },
          "metadata": {},
          "execution_count": 10
        }
      ]
    },
    {
      "cell_type": "code",
      "source": [
        "x = torch.tensor([[1, 2, 3],\n",
        "                  [4, 5, 6]], dtype=torch.int64)\n",
        "x"
      ],
      "metadata": {
        "colab": {
          "base_uri": "https://localhost:8080/"
        },
        "id": "hKqKm4bsjy-_",
        "outputId": "c376838b-0ed0-44ff-f8ca-c816b2f50745"
      },
      "execution_count": null,
      "outputs": [
        {
          "output_type": "execute_result",
          "data": {
            "text/plain": [
              "tensor([[1, 2, 3],\n",
              "        [4, 5, 6]])"
            ]
          },
          "metadata": {},
          "execution_count": 11
        }
      ]
    },
    {
      "cell_type": "code",
      "source": [
        "x = x.float()\n",
        "x"
      ],
      "metadata": {
        "colab": {
          "base_uri": "https://localhost:8080/"
        },
        "id": "cl9lJr99jy8K",
        "outputId": "09e5110c-156f-4241-e5e2-d12609f84956"
      },
      "execution_count": null,
      "outputs": [
        {
          "output_type": "execute_result",
          "data": {
            "text/plain": [
              "tensor([[1., 2., 3.],\n",
              "        [4., 5., 6.]])"
            ]
          },
          "metadata": {},
          "execution_count": 14
        }
      ]
    },
    {
      "cell_type": "code",
      "source": [
        "torch.add(x, x) # умножение тензора самого на себя"
      ],
      "metadata": {
        "colab": {
          "base_uri": "https://localhost:8080/"
        },
        "id": "opiAr3Yijy42",
        "outputId": "b6f68520-7b92-481c-f6cf-2f2f017ff306"
      },
      "execution_count": null,
      "outputs": [
        {
          "output_type": "execute_result",
          "data": {
            "text/plain": [
              "tensor([[ 2.,  4.,  6.],\n",
              "        [ 8., 10., 12.]])"
            ]
          },
          "metadata": {},
          "execution_count": 16
        }
      ]
    },
    {
      "cell_type": "code",
      "source": [
        "torch.arange(6)"
      ],
      "metadata": {
        "colab": {
          "base_uri": "https://localhost:8080/"
        },
        "id": "TGDsMf02jy1l",
        "outputId": "fe9722c7-9270-4914-ca70-2144e9003df6"
      },
      "execution_count": null,
      "outputs": [
        {
          "output_type": "execute_result",
          "data": {
            "text/plain": [
              "tensor([0, 1, 2, 3, 4, 5])"
            ]
          },
          "metadata": {},
          "execution_count": 17
        }
      ]
    },
    {
      "cell_type": "code",
      "source": [
        "x.view(2, 3)"
      ],
      "metadata": {
        "colab": {
          "base_uri": "https://localhost:8080/"
        },
        "id": "bmDvPsOOjyyM",
        "outputId": "7805b850-b3b2-49a1-cb50-0e9b80d8bd6b"
      },
      "execution_count": null,
      "outputs": [
        {
          "output_type": "execute_result",
          "data": {
            "text/plain": [
              "tensor([[1., 2., 3.],\n",
              "        [4., 5., 6.]])"
            ]
          },
          "metadata": {},
          "execution_count": 18
        }
      ]
    },
    {
      "cell_type": "code",
      "source": [
        "torch.sum(x, dim=0).int() # сумма столбцов"
      ],
      "metadata": {
        "colab": {
          "base_uri": "https://localhost:8080/"
        },
        "id": "8z_gUMcyjyu4",
        "outputId": "c9e3d6a4-db35-4c2b-a70b-252832a9b432"
      },
      "execution_count": null,
      "outputs": [
        {
          "output_type": "execute_result",
          "data": {
            "text/plain": [
              "tensor([5, 7, 9], dtype=torch.int32)"
            ]
          },
          "metadata": {},
          "execution_count": 22
        }
      ]
    },
    {
      "cell_type": "code",
      "source": [
        "torch.arange(6)"
      ],
      "metadata": {
        "id": "dbETMaOWjyre",
        "colab": {
          "base_uri": "https://localhost:8080/"
        },
        "outputId": "3daced37-02e9-4ea6-c27d-b4f7b4075019"
      },
      "execution_count": null,
      "outputs": [
        {
          "output_type": "execute_result",
          "data": {
            "text/plain": [
              "tensor([0, 1, 2, 3, 4, 5])"
            ]
          },
          "metadata": {},
          "execution_count": 23
        }
      ]
    },
    {
      "cell_type": "code",
      "source": [
        "x"
      ],
      "metadata": {
        "id": "AKydTUlQjylg",
        "colab": {
          "base_uri": "https://localhost:8080/"
        },
        "outputId": "3251b4ff-149a-413b-bf44-ab49240a9aaa"
      },
      "execution_count": null,
      "outputs": [
        {
          "output_type": "execute_result",
          "data": {
            "text/plain": [
              "tensor([[1., 2., 3.],\n",
              "        [4., 5., 6.]])"
            ]
          },
          "metadata": {},
          "execution_count": 24
        }
      ]
    },
    {
      "cell_type": "code",
      "source": [
        "x.view(2, 3)"
      ],
      "metadata": {
        "colab": {
          "base_uri": "https://localhost:8080/"
        },
        "id": "Zn612rKOpn6w",
        "outputId": "287f9936-0807-4877-e23e-acfa2c422292"
      },
      "execution_count": null,
      "outputs": [
        {
          "output_type": "execute_result",
          "data": {
            "text/plain": [
              "tensor([[1., 2., 3.],\n",
              "        [4., 5., 6.]])"
            ]
          },
          "metadata": {},
          "execution_count": 27
        }
      ]
    },
    {
      "cell_type": "code",
      "source": [
        "torch.sum(x, dim=1)"
      ],
      "metadata": {
        "colab": {
          "base_uri": "https://localhost:8080/"
        },
        "id": "NVnKaQ2Tp7dA",
        "outputId": "c569dce7-22b6-4636-c238-bbd61950628e"
      },
      "execution_count": null,
      "outputs": [
        {
          "output_type": "execute_result",
          "data": {
            "text/plain": [
              "tensor([ 6., 15.])"
            ]
          },
          "metadata": {},
          "execution_count": 31
        }
      ]
    },
    {
      "cell_type": "code",
      "source": [
        "torch.transpose(x,0,1)"
      ],
      "metadata": {
        "colab": {
          "base_uri": "https://localhost:8080/"
        },
        "id": "QLFm9onsp7Zu",
        "outputId": "c12cc075-4d47-4517-ba1d-63c53b322701"
      },
      "execution_count": null,
      "outputs": [
        {
          "output_type": "execute_result",
          "data": {
            "text/plain": [
              "tensor([[1., 4.],\n",
              "        [2., 5.],\n",
              "        [3., 6.]])"
            ]
          },
          "metadata": {},
          "execution_count": 35
        }
      ]
    },
    {
      "cell_type": "markdown",
      "source": [
        "# **Обращение по индексу, срезы и объединение**"
      ],
      "metadata": {
        "id": "S0C4xJAJqkAI"
      }
    },
    {
      "cell_type": "code",
      "source": [
        "x = torch.arange(6).view(2, 3)"
      ],
      "metadata": {
        "id": "W3FpN6Nzp7Wz"
      },
      "execution_count": null,
      "outputs": []
    },
    {
      "cell_type": "code",
      "source": [
        "x[:1, :2]"
      ],
      "metadata": {
        "colab": {
          "base_uri": "https://localhost:8080/"
        },
        "id": "VNszx7FEp7UL",
        "outputId": "ab5c0e07-b6a4-4f75-8511-0311cb3b56c8"
      },
      "execution_count": null,
      "outputs": [
        {
          "output_type": "execute_result",
          "data": {
            "text/plain": [
              "tensor([[0, 1]])"
            ]
          },
          "metadata": {},
          "execution_count": 39
        }
      ]
    },
    {
      "cell_type": "code",
      "source": [
        "x"
      ],
      "metadata": {
        "colab": {
          "base_uri": "https://localhost:8080/"
        },
        "id": "t3XvJzy3p7Qv",
        "outputId": "e6b2dc8e-4fb9-4cc9-c905-96f4d9facae1"
      },
      "execution_count": null,
      "outputs": [
        {
          "output_type": "execute_result",
          "data": {
            "text/plain": [
              "tensor([[0, 1, 2],\n",
              "        [3, 4, 5]])"
            ]
          },
          "metadata": {},
          "execution_count": 40
        }
      ]
    },
    {
      "cell_type": "markdown",
      "source": [
        "**Сложный доступ по индексам:**"
      ],
      "metadata": {
        "id": "hXAoqI7DsIdh"
      }
    },
    {
      "cell_type": "code",
      "source": [
        "indices = torch.LongTensor([0, 2])"
      ],
      "metadata": {
        "id": "ORtr6Xt0p7Nk"
      },
      "execution_count": null,
      "outputs": []
    },
    {
      "cell_type": "code",
      "source": [
        "x"
      ],
      "metadata": {
        "colab": {
          "base_uri": "https://localhost:8080/"
        },
        "id": "8FnRBH6OrdU2",
        "outputId": "6fcaa7cc-ff3f-4275-8802-b3950f0849e8"
      },
      "execution_count": null,
      "outputs": [
        {
          "output_type": "execute_result",
          "data": {
            "text/plain": [
              "tensor([[0, 1, 2],\n",
              "        [3, 4, 5]])"
            ]
          },
          "metadata": {},
          "execution_count": 44
        }
      ]
    },
    {
      "cell_type": "code",
      "source": [
        "torch.index_select(x, dim=1, index=indices) #!!!!!!!!!!!!!!!!!!"
      ],
      "metadata": {
        "colab": {
          "base_uri": "https://localhost:8080/"
        },
        "id": "fZxPdc5jrUW_",
        "outputId": "fb9f14ef-5aff-424a-b4ca-a0dd05dd32e6"
      },
      "execution_count": null,
      "outputs": [
        {
          "output_type": "execute_result",
          "data": {
            "text/plain": [
              "tensor([[0, 2],\n",
              "        [3, 5]])"
            ]
          },
          "metadata": {},
          "execution_count": 45
        }
      ]
    },
    {
      "cell_type": "markdown",
      "source": [
        "_____________________________________"
      ],
      "metadata": {
        "id": "svnqMQK7sbb7"
      }
    },
    {
      "cell_type": "code",
      "source": [
        "indices = torch.LongTensor([0, 0])"
      ],
      "metadata": {
        "id": "oUOUgjF_sOUK"
      },
      "execution_count": null,
      "outputs": []
    },
    {
      "cell_type": "code",
      "source": [
        "torch.index_select(x, dim=0, index=indices)"
      ],
      "metadata": {
        "colab": {
          "base_uri": "https://localhost:8080/"
        },
        "id": "sxYNsAyjsORM",
        "outputId": "571e7779-98a8-4b16-8b95-2f7a37ca2d5e"
      },
      "execution_count": null,
      "outputs": [
        {
          "output_type": "execute_result",
          "data": {
            "text/plain": [
              "tensor([[0, 1, 2],\n",
              "        [0, 1, 2]])"
            ]
          },
          "metadata": {},
          "execution_count": 47
        }
      ]
    },
    {
      "cell_type": "markdown",
      "source": [
        "_____________________________"
      ],
      "metadata": {
        "id": "hWOw7YJQuEd3"
      }
    },
    {
      "cell_type": "markdown",
      "source": [
        "Задаем 2 группы координат чисел и из матрицы выбираются эти числа создавая 1 мерный тензор"
      ],
      "metadata": {
        "id": "LKpgFzHZuHwb"
      }
    },
    {
      "cell_type": "code",
      "source": [
        "row_indices = torch.arange(2).long()\n",
        "row_indices"
      ],
      "metadata": {
        "colab": {
          "base_uri": "https://localhost:8080/"
        },
        "id": "1MMIVDRnsOOD",
        "outputId": "af63782c-3a7d-410f-85fd-876c01d38665"
      },
      "execution_count": null,
      "outputs": [
        {
          "output_type": "execute_result",
          "data": {
            "text/plain": [
              "tensor([0, 1])"
            ]
          },
          "metadata": {},
          "execution_count": 55
        }
      ]
    },
    {
      "cell_type": "code",
      "source": [
        "col_indices = torch.LongTensor([0, 1])\n",
        "col_indices"
      ],
      "metadata": {
        "colab": {
          "base_uri": "https://localhost:8080/"
        },
        "id": "b2IjLKPOsOLd",
        "outputId": "1ac665f8-268e-4bbd-a597-8d9e3f1cad80"
      },
      "execution_count": null,
      "outputs": [
        {
          "output_type": "execute_result",
          "data": {
            "text/plain": [
              "tensor([0, 1])"
            ]
          },
          "metadata": {},
          "execution_count": 56
        }
      ]
    },
    {
      "cell_type": "code",
      "source": [
        "x"
      ],
      "metadata": {
        "colab": {
          "base_uri": "https://localhost:8080/"
        },
        "id": "9wk8gwkyt1m3",
        "outputId": "c4fc61e4-6415-4a65-feab-b298b92cd16d"
      },
      "execution_count": null,
      "outputs": [
        {
          "output_type": "execute_result",
          "data": {
            "text/plain": [
              "tensor([[0, 1, 2],\n",
              "        [3, 4, 5]])"
            ]
          },
          "metadata": {},
          "execution_count": 57
        }
      ]
    },
    {
      "cell_type": "code",
      "source": [
        "x[row_indices, col_indices]"
      ],
      "metadata": {
        "colab": {
          "base_uri": "https://localhost:8080/"
        },
        "id": "I3lFtHLMsOIr",
        "outputId": "5ae2a3a0-7c7c-4e6f-c2e8-ca1f6b5e28db"
      },
      "execution_count": null,
      "outputs": [
        {
          "output_type": "execute_result",
          "data": {
            "text/plain": [
              "tensor([0, 4])"
            ]
          },
          "metadata": {},
          "execution_count": 58
        }
      ]
    },
    {
      "cell_type": "markdown",
      "source": [
        "____________________________"
      ],
      "metadata": {
        "id": "HGWeg9VeunQu"
      }
    },
    {
      "cell_type": "markdown",
      "source": [
        "**Контагенация**"
      ],
      "metadata": {
        "id": "XjDBlu4tu2dj"
      }
    },
    {
      "cell_type": "code",
      "source": [
        "x = torch.arange(6).view(2,3)\n",
        "x"
      ],
      "metadata": {
        "colab": {
          "base_uri": "https://localhost:8080/"
        },
        "id": "fiC5r-ugsOFv",
        "outputId": "bdc52cfe-5fbb-49c8-a5bd-607feed90b28"
      },
      "execution_count": null,
      "outputs": [
        {
          "output_type": "execute_result",
          "data": {
            "text/plain": [
              "tensor([[0, 1, 2],\n",
              "        [3, 4, 5]])"
            ]
          },
          "metadata": {},
          "execution_count": 59
        }
      ]
    },
    {
      "cell_type": "code",
      "source": [
        "torch.cat([x, x], dim=0)"
      ],
      "metadata": {
        "colab": {
          "base_uri": "https://localhost:8080/"
        },
        "id": "ckjU2ihNsOC3",
        "outputId": "38fa56ff-74c4-4ca6-b1a4-69c6bb69e2f6"
      },
      "execution_count": null,
      "outputs": [
        {
          "output_type": "execute_result",
          "data": {
            "text/plain": [
              "tensor([[0, 1, 2],\n",
              "        [3, 4, 5],\n",
              "        [0, 1, 2],\n",
              "        [3, 4, 5]])"
            ]
          },
          "metadata": {},
          "execution_count": 60
        }
      ]
    },
    {
      "cell_type": "code",
      "source": [
        "torch.cat([x, x], dim=1)"
      ],
      "metadata": {
        "colab": {
          "base_uri": "https://localhost:8080/"
        },
        "id": "-9OhlSEJsN_T",
        "outputId": "35f3104d-9f3e-471e-c9ff-d5e778fa6ddb"
      },
      "execution_count": null,
      "outputs": [
        {
          "output_type": "execute_result",
          "data": {
            "text/plain": [
              "tensor([[0, 1, 2, 0, 1, 2],\n",
              "        [3, 4, 5, 3, 4, 5]])"
            ]
          },
          "metadata": {},
          "execution_count": 61
        }
      ]
    },
    {
      "cell_type": "code",
      "source": [
        "y = torch.stack([x, x])"
      ],
      "metadata": {
        "id": "diAk9XdMsN75"
      },
      "execution_count": null,
      "outputs": []
    },
    {
      "cell_type": "code",
      "source": [
        "x1 = torch.arange(6).view(2, 3)\n",
        "x1"
      ],
      "metadata": {
        "colab": {
          "base_uri": "https://localhost:8080/"
        },
        "id": "KvV_FwgqwaF2",
        "outputId": "a63dce7b-0dce-4bda-9589-722b44a972f0"
      },
      "execution_count": null,
      "outputs": [
        {
          "output_type": "execute_result",
          "data": {
            "text/plain": [
              "tensor([[0, 1, 2],\n",
              "        [3, 4, 5]])"
            ]
          },
          "metadata": {},
          "execution_count": 72
        }
      ]
    },
    {
      "cell_type": "code",
      "source": [
        "x2 = torch.ones(3, 2)\n",
        "x2"
      ],
      "metadata": {
        "colab": {
          "base_uri": "https://localhost:8080/"
        },
        "id": "ecnZh6iwwaCo",
        "outputId": "5ba92198-a206-44dc-dc0a-6469f5678345"
      },
      "execution_count": null,
      "outputs": [
        {
          "output_type": "execute_result",
          "data": {
            "text/plain": [
              "tensor([[1., 1.],\n",
              "        [1., 1.],\n",
              "        [1., 1.]])"
            ]
          },
          "metadata": {},
          "execution_count": 82
        }
      ]
    },
    {
      "cell_type": "code",
      "source": [
        "x2[:, 1]"
      ],
      "metadata": {
        "colab": {
          "base_uri": "https://localhost:8080/"
        },
        "id": "AcK-EYgmwZ_w",
        "outputId": "9b687eb0-1ad6-4877-b03b-7689a697b781"
      },
      "execution_count": null,
      "outputs": [
        {
          "output_type": "execute_result",
          "data": {
            "text/plain": [
              "tensor([1., 1., 1.])"
            ]
          },
          "metadata": {},
          "execution_count": 68
        }
      ]
    },
    {
      "cell_type": "code",
      "source": [
        "x2[:, 1] += 1 #  прибавляем к столбцу число"
      ],
      "metadata": {
        "id": "3fZjBBgzwZ9S"
      },
      "execution_count": null,
      "outputs": []
    },
    {
      "cell_type": "code",
      "source": [
        "x1"
      ],
      "metadata": {
        "colab": {
          "base_uri": "https://localhost:8080/"
        },
        "id": "Ja9LZOG3zeKn",
        "outputId": "03ccea89-b117-453e-92b2-7177a37f0084"
      },
      "execution_count": null,
      "outputs": [
        {
          "output_type": "execute_result",
          "data": {
            "text/plain": [
              "tensor([[0, 1, 2],\n",
              "        [3, 4, 5]])"
            ]
          },
          "metadata": {},
          "execution_count": 81
        }
      ]
    },
    {
      "cell_type": "code",
      "source": [
        "describe(torch.mm(x1, x2))"
      ],
      "metadata": {
        "id": "myE1P6fs01uk"
      },
      "execution_count": null,
      "outputs": []
    },
    {
      "cell_type": "code",
      "source": [],
      "metadata": {
        "id": "8g1I0u3RwZ2n"
      },
      "execution_count": null,
      "outputs": []
    },
    {
      "cell_type": "markdown",
      "source": [
        "# **Проверка. Первая глава**"
      ],
      "metadata": {
        "id": "ut2QMuhso8xt"
      }
    },
    {
      "cell_type": "code",
      "source": [
        "import torch"
      ],
      "metadata": {
        "id": "TUZ0h7sqwZzO"
      },
      "execution_count": null,
      "outputs": []
    },
    {
      "cell_type": "markdown",
      "source": [
        "**1. Создайте двумерный тензор, после чего добавьте в него новое измерение размером 1 перед измерением 0.**"
      ],
      "metadata": {
        "id": "a46LHhDGuGZ5"
      }
    },
    {
      "cell_type": "code",
      "source": [
        "a = torch.rand(3,3)\n",
        "a"
      ],
      "metadata": {
        "colab": {
          "base_uri": "https://localhost:8080/"
        },
        "id": "On7P6hHLnYl0",
        "outputId": "47bf1c7f-5f05-44be-c68f-eda1bee3dd18"
      },
      "execution_count": null,
      "outputs": [
        {
          "output_type": "execute_result",
          "data": {
            "text/plain": [
              "tensor([[0.2434, 0.4706, 0.6867],\n",
              "        [0.9855, 0.9357, 0.8029],\n",
              "        [0.0630, 0.9719, 0.9990]])"
            ]
          },
          "metadata": {},
          "execution_count": 12
        }
      ]
    },
    {
      "cell_type": "code",
      "source": [
        "a = a.unsqueeze(0) # добавляет новое измерение"
      ],
      "metadata": {
        "id": "Yiyt--s0nYii"
      },
      "execution_count": null,
      "outputs": []
    },
    {
      "cell_type": "code",
      "source": [
        "a"
      ],
      "metadata": {
        "colab": {
          "base_uri": "https://localhost:8080/"
        },
        "id": "htunmAJjnYfW",
        "outputId": "e49da98e-28bb-4888-b7b4-f91b54e695d8"
      },
      "execution_count": null,
      "outputs": [
        {
          "output_type": "execute_result",
          "data": {
            "text/plain": [
              "tensor([[[0.2434, 0.4706, 0.6867],\n",
              "         [0.9855, 0.9357, 0.8029],\n",
              "         [0.0630, 0.9719, 0.9990]]])"
            ]
          },
          "metadata": {},
          "execution_count": 16
        }
      ]
    },
    {
      "cell_type": "markdown",
      "source": [
        "**2. Удалите дополнительное измерение, которое вы только что добавили в предыдущий тензор.**"
      ],
      "metadata": {
        "id": "-TTCowbEuKf6"
      }
    },
    {
      "cell_type": "code",
      "source": [
        "a.squeeze(0)"
      ],
      "metadata": {
        "colab": {
          "base_uri": "https://localhost:8080/"
        },
        "id": "QC2twgtznYco",
        "outputId": "2763db9a-53d2-495a-c2d4-3b7b94cff8be"
      },
      "execution_count": null,
      "outputs": [
        {
          "output_type": "execute_result",
          "data": {
            "text/plain": [
              "tensor([[0.2434, 0.4706, 0.6867],\n",
              "        [0.9855, 0.9357, 0.8029],\n",
              "        [0.0630, 0.9719, 0.9990]])"
            ]
          },
          "metadata": {},
          "execution_count": 17
        }
      ]
    },
    {
      "cell_type": "markdown",
      "source": [
        "**3. Создайте случайный тензор формой 5 × 3 в интервале [3, 7).**"
      ],
      "metadata": {
        "id": "k749MyQkuPdD"
      }
    },
    {
      "cell_type": "code",
      "source": [
        "3 + torch.rand(5,3)*(7-3)"
      ],
      "metadata": {
        "colab": {
          "base_uri": "https://localhost:8080/"
        },
        "id": "kFspm5ornYZz",
        "outputId": "6d2b35b0-1e45-4bc9-a143-f673ac5e27e0"
      },
      "execution_count": null,
      "outputs": [
        {
          "output_type": "execute_result",
          "data": {
            "text/plain": [
              "tensor([[5.0193, 5.9209, 6.0803],\n",
              "        [3.5559, 5.5533, 3.1975],\n",
              "        [6.9156, 5.5567, 3.9628],\n",
              "        [6.7137, 6.3318, 3.8497],\n",
              "        [4.0258, 6.2586, 6.3773]])"
            ]
          },
          "metadata": {},
          "execution_count": 24
        }
      ]
    },
    {
      "cell_type": "markdown",
      "source": [
        "**4. Создайте тензор со значениями, взятыми из нормального распределения (математическое ожидание = 0, стандартное отклонение = 1).**"
      ],
      "metadata": {
        "id": "8JDImW5fuQ6T"
      }
    },
    {
      "cell_type": "code",
      "source": [
        "a = torch.rand(3,3)\n",
        "a.normal_()"
      ],
      "metadata": {
        "colab": {
          "base_uri": "https://localhost:8080/"
        },
        "id": "jeTEFq1fnYW3",
        "outputId": "39314691-aac0-4f12-d87c-33e6ea869e52"
      },
      "execution_count": null,
      "outputs": [
        {
          "output_type": "execute_result",
          "data": {
            "text/plain": [
              "tensor([[ 0.2906,  1.2943,  0.0738],\n",
              "        [ 0.7053, -0.1759,  0.9373],\n",
              "        [-1.0881, -0.1298,  0.9830]])"
            ]
          },
          "metadata": {},
          "execution_count": 26
        }
      ]
    },
    {
      "cell_type": "markdown",
      "source": [
        "**5. Извлеките индексы всех ненулевых элементов из тензора torch.Tensor([1, 1, 1, 0, 1]).**"
      ],
      "metadata": {
        "id": "5162DGURuU4X"
      }
    },
    {
      "cell_type": "code",
      "source": [
        "a = torch.Tensor([1, 1, 1, 0, 1])"
      ],
      "metadata": {
        "id": "tsvOwwiZnYTs"
      },
      "execution_count": null,
      "outputs": []
    },
    {
      "cell_type": "code",
      "source": [
        "torch.nonzero(a)"
      ],
      "metadata": {
        "colab": {
          "base_uri": "https://localhost:8080/"
        },
        "id": "3lDBzE8As8-N",
        "outputId": "bbb39386-1ba2-499b-ac37-f05850baa180"
      },
      "execution_count": null,
      "outputs": [
        {
          "output_type": "execute_result",
          "data": {
            "text/plain": [
              "tensor([[0],\n",
              "        [1],\n",
              "        [2],\n",
              "        [4]])"
            ]
          },
          "metadata": {},
          "execution_count": 32
        }
      ]
    },
    {
      "cell_type": "markdown",
      "source": [
        "**6. Создайте случайный тензор размером (3,1), а затем горизонтально разместите в ряд четыре его копии.**"
      ],
      "metadata": {
        "id": "iVzewGbCu3Pn"
      }
    },
    {
      "cell_type": "code",
      "source": [
        "a = torch.rand(3,1)\n",
        "a"
      ],
      "metadata": {
        "colab": {
          "base_uri": "https://localhost:8080/"
        },
        "id": "BYvh8HHAs87m",
        "outputId": "3c22b353-ec5b-47fb-9339-0e44a01986fb"
      },
      "execution_count": null,
      "outputs": [
        {
          "output_type": "execute_result",
          "data": {
            "text/plain": [
              "tensor([[0.0112],\n",
              "        [0.2256],\n",
              "        [0.3104]])"
            ]
          },
          "metadata": {},
          "execution_count": 40
        }
      ]
    },
    {
      "cell_type": "code",
      "source": [
        "a.expand(3,4)"
      ],
      "metadata": {
        "colab": {
          "base_uri": "https://localhost:8080/"
        },
        "id": "E_R9MgvVs84u",
        "outputId": "0131a54f-664b-4e00-bfbe-dc92b6540fb7"
      },
      "execution_count": null,
      "outputs": [
        {
          "output_type": "execute_result",
          "data": {
            "text/plain": [
              "tensor([[0.0112, 0.0112, 0.0112, 0.0112],\n",
              "        [0.2256, 0.2256, 0.2256, 0.2256],\n",
              "        [0.3104, 0.3104, 0.3104, 0.3104]])"
            ]
          },
          "metadata": {},
          "execution_count": 41
        }
      ]
    },
    {
      "cell_type": "markdown",
      "source": [
        "**7. Верните пакетное произведение двух трехмерных матриц (a=torch.rand(3,4,5), b=torch.rand(3,5,4)).**"
      ],
      "metadata": {
        "id": "JxlCpmmBu9-W"
      }
    },
    {
      "cell_type": "code",
      "source": [
        "a=torch.rand(3,4,5)\n",
        "a"
      ],
      "metadata": {
        "colab": {
          "base_uri": "https://localhost:8080/"
        },
        "id": "N953gcvys812",
        "outputId": "e2980da8-95e1-4961-b9ae-fe29d24ee188"
      },
      "execution_count": null,
      "outputs": [
        {
          "output_type": "execute_result",
          "data": {
            "text/plain": [
              "tensor([[[0.0101, 0.8154, 0.5314, 0.6388, 0.1552],\n",
              "         [0.3173, 0.8920, 0.0328, 0.5002, 0.8187],\n",
              "         [0.2578, 0.8911, 0.6409, 0.1597, 0.0215],\n",
              "         [0.9825, 0.4277, 0.0819, 0.3686, 0.6359]],\n",
              "\n",
              "        [[0.6950, 0.0471, 0.3349, 0.3760, 0.6559],\n",
              "         [0.4083, 0.0081, 0.5169, 0.3561, 0.1334],\n",
              "         [0.8996, 0.4122, 0.0299, 0.2961, 0.1153],\n",
              "         [0.7518, 0.7955, 0.5410, 0.2421, 0.7969]],\n",
              "\n",
              "        [[0.2597, 0.0130, 0.7634, 0.8982, 0.3489],\n",
              "         [0.3929, 0.5344, 0.3267, 0.2250, 0.6849],\n",
              "         [0.1652, 0.4608, 0.7056, 0.4511, 0.4787],\n",
              "         [0.9802, 0.6807, 0.1673, 0.9048, 0.1962]]])"
            ]
          },
          "metadata": {},
          "execution_count": 42
        }
      ]
    },
    {
      "cell_type": "code",
      "source": [
        "b=torch.rand(3,5,4)\n",
        "b"
      ],
      "metadata": {
        "colab": {
          "base_uri": "https://localhost:8080/"
        },
        "id": "POxojdmRs8yp",
        "outputId": "9a34d629-fbc0-4c1c-c532-64ba5f4327b0"
      },
      "execution_count": null,
      "outputs": [
        {
          "output_type": "execute_result",
          "data": {
            "text/plain": [
              "tensor([[[0.2879, 0.5829, 0.9801, 0.7400],\n",
              "         [0.5566, 0.4217, 0.6443, 0.6633],\n",
              "         [0.3541, 0.1272, 0.9072, 0.4997],\n",
              "         [0.3720, 0.0536, 0.8031, 0.0452],\n",
              "         [0.3737, 0.6548, 0.2590, 0.3403]],\n",
              "\n",
              "        [[0.1076, 0.7862, 0.5828, 0.4523],\n",
              "         [0.3108, 0.0724, 0.1252, 0.3926],\n",
              "         [0.3673, 0.8341, 0.2727, 0.5814],\n",
              "         [0.9778, 0.2167, 0.5062, 0.7940],\n",
              "         [0.6372, 0.8068, 0.4345, 0.0043]],\n",
              "\n",
              "        [[0.0349, 0.9382, 0.6337, 0.6027],\n",
              "         [0.0571, 0.6894, 0.0401, 0.6581],\n",
              "         [0.2659, 0.5399, 0.1492, 0.9057],\n",
              "         [0.3982, 0.2259, 0.7580, 0.4519],\n",
              "         [0.3509, 0.4869, 0.5853, 0.5593]]])"
            ]
          },
          "metadata": {},
          "execution_count": 43
        }
      ]
    },
    {
      "cell_type": "code",
      "source": [
        "torch.bmm(a,b)"
      ],
      "metadata": {
        "colab": {
          "base_uri": "https://localhost:8080/"
        },
        "id": "phxULhyes8sT",
        "outputId": "fa02d0d3-eb00-40b6-95ae-b4c9585a1c20"
      },
      "execution_count": null,
      "outputs": [
        {
          "output_type": "execute_result",
          "data": {
            "text/plain": [
              "tensor([[[0.9405, 0.5532, 1.5705, 0.8956],\n",
              "         [1.0914, 1.1282, 1.5292, 1.1441],\n",
              "         [0.8645, 0.6302, 1.5420, 1.1167],\n",
              "         [0.9247, 1.1996, 1.7736, 1.2848]],\n",
              "\n",
              "        [[0.9980, 1.4398, 0.9775, 0.8289],\n",
              "         [0.6695, 0.9375, 0.6181, 0.7717],\n",
              "         [0.5990, 0.9193, 0.7840, 0.8217],\n",
              "         [1.2714, 1.7953, 1.1540, 1.1625]],\n",
              "\n",
              "        [[0.6929, 1.0375, 1.1641, 1.4575],\n",
              "         [0.4610, 1.2976, 0.8906, 1.3691],\n",
              "         [0.5673, 1.1885, 0.8506, 1.5135],\n",
              "         [0.5467, 1.7790, 1.4741, 1.7089]]])"
            ]
          },
          "metadata": {},
          "execution_count": 44
        }
      ]
    },
    {
      "cell_type": "markdown",
      "source": [
        "**8. Верните пакетное произведение трехмерной и двумерной матриц (a=torch.rand(3,4,5), b=torch.rand(5,4)).**"
      ],
      "metadata": {
        "id": "CWbCSxswv2S-"
      }
    },
    {
      "cell_type": "code",
      "source": [
        "a = torch.rand(3, 4, 5)\n",
        "a"
      ],
      "metadata": {
        "id": "MX9NB1hyv1t2"
      },
      "execution_count": null,
      "outputs": []
    },
    {
      "cell_type": "code",
      "source": [
        "b = torch.rand(5, 4)\n",
        "b"
      ],
      "metadata": {
        "id": "gEqywgbnv1rQ"
      },
      "execution_count": null,
      "outputs": []
    },
    {
      "cell_type": "code",
      "source": [
        "b.unsqueeze(0)"
      ],
      "metadata": {
        "id": "1Nvjqyv_v1oR"
      },
      "execution_count": null,
      "outputs": []
    },
    {
      "cell_type": "code",
      "source": [
        "a.size(0)"
      ],
      "metadata": {
        "colab": {
          "base_uri": "https://localhost:8080/"
        },
        "id": "X-f160qSv1lO",
        "outputId": "547ca37e-9890-4de1-d5a7-e6b9d80f25dc"
      },
      "execution_count": null,
      "outputs": [
        {
          "output_type": "execute_result",
          "data": {
            "text/plain": [
              "3"
            ]
          },
          "metadata": {},
          "execution_count": 48
        }
      ]
    },
    {
      "cell_type": "code",
      "source": [
        "b.size()"
      ],
      "metadata": {
        "colab": {
          "base_uri": "https://localhost:8080/"
        },
        "id": "LlQ5EIFuwzGc",
        "outputId": "78f41192-f133-4a57-ab7a-d796a7d58de2"
      },
      "execution_count": null,
      "outputs": [
        {
          "output_type": "execute_result",
          "data": {
            "text/plain": [
              "torch.Size([5, 4])"
            ]
          },
          "metadata": {},
          "execution_count": 50
        }
      ]
    },
    {
      "cell_type": "code",
      "source": [
        "torch.bmm(a, b.unsqueeze(0).expand(a.size(0), *b.size()))"
      ],
      "metadata": {
        "colab": {
          "base_uri": "https://localhost:8080/"
        },
        "id": "BQ2zzXbSwzDj",
        "outputId": "b846b09d-0cca-493e-c703-27d706727eb1"
      },
      "execution_count": null,
      "outputs": [
        {
          "output_type": "execute_result",
          "data": {
            "text/plain": [
              "tensor([[[0.7381, 0.7605, 0.5121, 1.0784],\n",
              "         [0.5935, 0.5316, 0.6459, 0.8957],\n",
              "         [0.8106, 0.8121, 0.8602, 1.3159],\n",
              "         [1.0408, 1.4373, 1.3706, 1.9253]],\n",
              "\n",
              "        [[0.8156, 0.6973, 0.5550, 0.9750],\n",
              "         [0.7147, 0.8549, 0.9439, 1.3538],\n",
              "         [0.6956, 1.0095, 0.5616, 1.1597],\n",
              "         [0.5493, 0.7389, 0.7119, 0.9568]],\n",
              "\n",
              "        [[1.5043, 1.8066, 1.6368, 2.5471],\n",
              "         [1.0253, 1.5892, 1.2344, 1.7319],\n",
              "         [1.1151, 1.0120, 1.1551, 1.8361],\n",
              "         [0.8770, 1.0279, 1.1539, 1.5575]]])"
            ]
          },
          "metadata": {},
          "execution_count": 51
        }
      ]
    },
    {
      "cell_type": "markdown",
      "source": [
        "# **CUDA**"
      ],
      "metadata": {
        "id": "lxuEXo5uzbMa"
      }
    },
    {
      "cell_type": "code",
      "source": [
        "import torch\n",
        "print (torch.cuda.is_available())"
      ],
      "metadata": {
        "colab": {
          "base_uri": "https://localhost:8080/"
        },
        "id": "P_eIA1czwzA9",
        "outputId": "47581130-0b9f-4cca-902e-0c42a29ad03e"
      },
      "execution_count": null,
      "outputs": [
        {
          "output_type": "stream",
          "name": "stdout",
          "text": [
            "False\n"
          ]
        }
      ]
    }
  ]
}