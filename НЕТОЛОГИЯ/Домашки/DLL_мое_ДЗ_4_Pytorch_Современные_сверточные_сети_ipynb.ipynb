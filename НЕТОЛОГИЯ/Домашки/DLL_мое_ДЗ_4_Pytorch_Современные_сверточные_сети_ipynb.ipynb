{
  "nbformat": 4,
  "nbformat_minor": 0,
  "metadata": {
    "colab": {
      "provenance": []
    },
    "kernelspec": {
      "name": "python3",
      "display_name": "Python 3"
    },
    "language_info": {
      "name": "python"
    }
  },
  "cells": [
    {
      "cell_type": "markdown",
      "source": [
        "***1. Предварительные манипуляции + загрузка данных**"
      ],
      "metadata": {
        "id": "sT1hFdazZyHD"
      }
    },
    {
      "cell_type": "code",
      "execution_count": null,
      "metadata": {
        "id": "yQ8iWHEOSW0K"
      },
      "outputs": [],
      "source": [
        "from google.colab import drive"
      ]
    },
    {
      "cell_type": "code",
      "source": [
        "drive.mount('/content/gdrive')"
      ],
      "metadata": {
        "colab": {
          "base_uri": "https://localhost:8080/"
        },
        "id": "DPlQLwLOSssv",
        "outputId": "d7f7d142-1cca-41fc-dad0-ed2ce62ed2d0"
      },
      "execution_count": null,
      "outputs": [
        {
          "output_type": "stream",
          "name": "stdout",
          "text": [
            "Drive already mounted at /content/gdrive; to attempt to forcibly remount, call drive.mount(\"/content/gdrive\", force_remount=True).\n"
          ]
        }
      ]
    },
    {
      "cell_type": "code",
      "source": [
        "import os"
      ],
      "metadata": {
        "id": "iOWKTenHWZML"
      },
      "execution_count": null,
      "outputs": []
    },
    {
      "cell_type": "code",
      "source": [
        "os.chdir('/content/gdrive/MyDrive/Colab Notebooks/DOM')"
      ],
      "metadata": {
        "id": "7ppcdwIACr88"
      },
      "execution_count": null,
      "outputs": []
    },
    {
      "cell_type": "code",
      "source": [
        "!unzip \"/content/gdrive/MyDrive/Colab Notebooks/DOM/Перепончатокрылые.zip\""
      ],
      "metadata": {
        "id": "zucQXzhXWsoh"
      },
      "execution_count": null,
      "outputs": []
    },
    {
      "cell_type": "code",
      "source": [
        "import numpy as np\n",
        "import pandas as pd\n",
        "import re\n",
        "import torch\n",
        "from torch import nn\n",
        "import torchvision as tv\n",
        "import time\n",
        "from torchvision import transforms\n",
        "from torch.utils.data import DataLoader\n",
        "import matplotlib.pyplot as plt"
      ],
      "metadata": {
        "id": "0VSowe8F7SBf"
      },
      "execution_count": null,
      "outputs": []
    },
    {
      "cell_type": "code",
      "source": [
        "train_data_path = '/content/gdrive/MyDrive/Colab Notebooks/DOM/hymenoptera_data/train'\n",
        "val_data_path = '/content/gdrive/MyDrive/Colab Notebooks/DOM/hymenoptera_data/val'"
      ],
      "metadata": {
        "id": "55-mdBdF7Hco"
      },
      "execution_count": null,
      "outputs": []
    },
    {
      "cell_type": "code",
      "source": [
        "transform = tv.transforms.Compose([\n",
        "#              tv.transforms.Grayscale(3),\n",
        "              tv.transforms.Resize((224,224)),\n",
        "              tv.transforms.ToTensor()\n",
        "])"
      ],
      "metadata": {
        "id": "DPMHWyv7bt_I"
      },
      "execution_count": null,
      "outputs": []
    },
    {
      "cell_type": "code",
      "source": [
        "BATCH_SIZE = 32"
      ],
      "metadata": {
        "id": "INNggDjRlukZ"
      },
      "execution_count": null,
      "outputs": []
    },
    {
      "cell_type": "code",
      "source": [
        "train_data = tv.datasets.ImageFolder(root=train_data_path,transform=transform)\n",
        "val_data = tv.datasets.ImageFolder(root=val_data_path,transform=transform)\n",
        "train_iter = torch.utils.data.DataLoader(train_data, batch_size=BATCH_SIZE)\n",
        "test_iter = torch.utils.data.DataLoader(val_data, batch_size=BATCH_SIZE)"
      ],
      "metadata": {
        "id": "BPW6CiZidIJ1"
      },
      "execution_count": null,
      "outputs": []
    },
    {
      "cell_type": "code",
      "source": [
        "val_data[0][0].shape"
      ],
      "metadata": {
        "colab": {
          "base_uri": "https://localhost:8080/"
        },
        "id": "yA9vlT3nnRi5",
        "outputId": "b088ff14-5101-4e9d-b37f-92e218885998"
      },
      "execution_count": null,
      "outputs": [
        {
          "output_type": "execute_result",
          "data": {
            "text/plain": [
              "torch.Size([3, 224, 224])"
            ]
          },
          "metadata": {},
          "execution_count": 66
        }
      ]
    },
    {
      "cell_type": "code",
      "source": [
        "plt.imshow(train_data[4][0][0])\n",
        "plt.show"
      ],
      "metadata": {
        "colab": {
          "base_uri": "https://localhost:8080/",
          "height": 287
        },
        "id": "egmxmO0SFo_7",
        "outputId": "529da0bd-a1e4-4743-de66-9305a394c328"
      },
      "execution_count": null,
      "outputs": [
        {
          "output_type": "execute_result",
          "data": {
            "text/plain": [
              "<function matplotlib.pyplot.show(*args, **kw)>"
            ]
          },
          "metadata": {},
          "execution_count": 69
        },
        {
          "output_type": "display_data",
          "data": {
            "text/plain": [
              "<Figure size 432x288 with 1 Axes>"
            ],
            "image/png": "[encoded data removed]"
          },
          "metadata": {
            "needs_background": "light"
          }
        }
      ]
    },
    {
      "cell_type": "markdown",
      "source": [
        "#**ResNet18(pretrained=False)**"
      ],
      "metadata": {
        "id": "B0R2vwBPRi49"
      }
    },
    {
      "cell_type": "code",
      "source": [
        "mod_resn18 = tv.models.resnet18(pretrained=False)"
      ],
      "metadata": {
        "id": "kXbTD6gkb3d1"
      },
      "execution_count": null,
      "outputs": []
    },
    {
      "cell_type": "code",
      "source": [
        "mod_resn18"
      ],
      "metadata": {
        "id": "ZbgxdQANymmo"
      },
      "execution_count": null,
      "outputs": []
    },
    {
      "cell_type": "markdown",
      "source": [
        "\n",
        "\n",
        "---\n",
        "\n"
      ],
      "metadata": {
        "id": "qRYGbCnuM8j3"
      }
    },
    {
      "cell_type": "markdown",
      "source": [
        "**Ниже 2 блока не использовалось в обучении сети, оставил, чтобы не потерять (полезное)**"
      ],
      "metadata": {
        "id": "xPoxCKwmNAVc"
      }
    },
    {
      "cell_type": "code",
      "source": [
        "# можно заморозить все, кроме BatchNorm2d (bn..)\n",
        "for name, param in mod_resn18.named_parameters():\n",
        " if(\"bn\" not in name):\n",
        "  param.requires_grad = False"
      ],
      "metadata": {
        "id": "f9YQ0k5Lz-H1"
      },
      "execution_count": null,
      "outputs": []
    },
    {
      "cell_type": "code",
      "source": [
        "x.requires_grad # выясняем вычисляется ли для тензора градиент\n",
        "x.requires_grad_() # включает функцию градиента (inplace выходит)\n",
        "x=x.detach() # отключает функцию градиента\n",
        "x.grad # градиент хранится в свойстве .grad"
      ],
      "metadata": {
        "id": "dYNDMC8P__V9"
      },
      "execution_count": null,
      "outputs": []
    },
    {
      "cell_type": "markdown",
      "source": [
        "\n",
        "\n",
        "---\n",
        "\n"
      ],
      "metadata": {
        "id": "VWsFk6EtM_G1"
      }
    },
    {
      "cell_type": "code",
      "source": [
        "# замораживаем все слои\n",
        "for name, param in mod_resn18.named_parameters():\n",
        " param.requires_grad = False"
      ],
      "metadata": {
        "id": "OeKwc5DKTvUz"
      },
      "execution_count": null,
      "outputs": []
    },
    {
      "cell_type": "code",
      "source": [
        "# меняем полносвязные слои и назначаем 2 признака\n",
        "mod_resn18.fc = nn.Sequential(nn.Linear(mod_resn18.fc.in_features,128),\n",
        "                              nn.ReLU(),\n",
        "#                              nn.Dropout(),\n",
        "                              nn.Linear(128,2))"
      ],
      "metadata": {
        "id": "z_sxBExLdkoW"
      },
      "execution_count": null,
      "outputs": []
    },
    {
      "cell_type": "code",
      "source": [
        "# размораживаем нижние слои: layer4 и fc\n",
        "\n",
        "unfreeze_layers = [mod_resn18.layer4, mod_resn18.fc]\n",
        "for layer in unfreeze_layers:\n",
        " for param in layer.parameters():\n",
        "  param.requires_grad = True"
      ],
      "metadata": {
        "id": "Jijxjc6LTvUz"
      },
      "execution_count": null,
      "outputs": []
    },
    {
      "cell_type": "code",
      "execution_count": null,
      "metadata": {
        "ExecuteTime": {
          "end_time": "2019-11-18T16:20:21.306023Z",
          "start_time": "2019-11-18T16:20:21.293827Z"
        },
        "id": "mQdCZbabvO4J"
      },
      "outputs": [],
      "source": [
        "# считает accuracy - берет данные прогоняет через модель и дает долю правильных ответов\n",
        "def evaluate_accuracy(data_iter, net): #data_iter - картинка в виде тензора+метка, net-модель\n",
        "    acc_sum, n = torch.Tensor([0]), 0 # acc_sum-тензор = 0, n=0 (счетчик типа)\n",
        "    net.eval()\n",
        "    for X, y in data_iter:\n",
        "        acc_sum += (net(X).argmax(axis=1) == y).sum()\n",
        "        # acc_sum - доля правильных ответов\n",
        "        n += y.shape[0]\n",
        "    return acc_sum.item() / n"
      ]
    },
    {
      "cell_type": "code",
      "execution_count": null,
      "metadata": {
        "ExecuteTime": {
          "end_time": "2019-11-18T16:20:21.693926Z",
          "start_time": "2019-11-18T16:20:21.678441Z"
        },
        "id": "zP_OFRfTvO4K"
      },
      "outputs": [],
      "source": [
        "def train(net, train_iter, test_iter, trainer, num_epochs):\n",
        "    loss = nn.CrossEntropyLoss(reduction='sum')\n",
        "    net.train()\n",
        "    for epoch in range(num_epochs):\n",
        "        train_l_sum, train_acc_sum, n, start = 0.0, 0.0, 0, time.time()\n",
        "        for X, y in train_iter:\n",
        "            trainer.zero_grad()\n",
        "            y_hat = net(X)\n",
        "            l = loss(y_hat, y)\n",
        "            l.backward()\n",
        "            trainer.step()\n",
        "            train_l_sum += l.item()\n",
        "            train_acc_sum += (y_hat.argmax(axis=1) == y).sum().item()\n",
        "            n += y.shape[0]\n",
        "            print(\"Step. time since epoch: {:.3f}. Train acc: {:.3f}. Train Loss: {:.3f}\".format(time.time() -  start,\n",
        "                (y_hat.argmax(axis=1) == y).sum().item() / y.shape[0], l.item()))\n",
        "        test_acc = evaluate_accuracy(test_iter, net)\n",
        "        print('epoch %d, loss %.4f, train acc %.3f, test acc %.3f, '\n",
        "              'time %.1f sec'\n",
        "              % (epoch + 1, train_l_sum / n, train_acc_sum / n, test_acc,\n",
        "                 time.time() - start))"
      ]
    },
    {
      "cell_type": "code",
      "source": [
        "lr, num_epochs = 0.0001, 5\n",
        "trainer = torch.optim.SGD(mod_resn18.parameters(), lr=lr)\n",
        "train(mod_resn18, train_iter, test_iter, trainer, num_epochs)"
      ],
      "metadata": {
        "colab": {
          "base_uri": "https://localhost:8080/"
        },
        "id": "BFvuXqCtmo0M",
        "outputId": "fb10e1bc-0c6c-49eb-ac72-9603989ebe42"
      },
      "execution_count": null,
      "outputs": [
        {
          "output_type": "stream",
          "name": "stdout",
          "text": [
            "Step. time since epoch: 4.073. Train acc: 0.656. Train Loss: 21.882\n",
            "Step. time since epoch: 8.119. Train acc: 1.000. Train Loss: 18.976\n",
            "Step. time since epoch: 12.168. Train acc: 1.000. Train Loss: 16.742\n",
            "Step. time since epoch: 16.402. Train acc: 0.844. Train Loss: 17.326\n",
            "Step. time since epoch: 20.499. Train acc: 0.000. Train Loss: 33.933\n",
            "Step. time since epoch: 24.623. Train acc: 0.000. Train Loss: 28.716\n",
            "Step. time since epoch: 28.712. Train acc: 0.000. Train Loss: 24.455\n",
            "Step. time since epoch: 31.307. Train acc: 0.950. Train Loss: 13.192\n",
            "epoch 1, loss 0.7181, train acc 0.537, test acc 0.458, time 44.4 sec\n",
            "Step. time since epoch: 3.824. Train acc: 0.938. Train Loss: 21.770\n",
            "Step. time since epoch: 7.667. Train acc: 1.000. Train Loss: 19.972\n",
            "Step. time since epoch: 11.516. Train acc: 1.000. Train Loss: 18.504\n",
            "Step. time since epoch: 15.523. Train acc: 0.844. Train Loss: 18.863\n",
            "Step. time since epoch: 19.397. Train acc: 0.000. Train Loss: 29.110\n",
            "Step. time since epoch: 23.266. Train acc: 0.000. Train Loss: 26.680\n",
            "Step. time since epoch: 27.108. Train acc: 0.000. Train Loss: 24.549\n",
            "Step. time since epoch: 29.560. Train acc: 0.000. Train Loss: 14.209\n",
            "epoch 2, loss 0.7117, train acc 0.496, test acc 0.549, time 42.6 sec\n",
            "Step. time since epoch: 3.807. Train acc: 0.031. Train Loss: 22.658\n",
            "Step. time since epoch: 7.629. Train acc: 1.000. Train Loss: 21.004\n",
            "Step. time since epoch: 11.455. Train acc: 1.000. Train Loss: 19.484\n",
            "Step. time since epoch: 15.348. Train acc: 0.844. Train Loss: 19.495\n",
            "Step. time since epoch: 19.188. Train acc: 0.000. Train Loss: 27.651\n",
            "Step. time since epoch: 23.030. Train acc: 0.000. Train Loss: 25.547\n",
            "Step. time since epoch: 26.866. Train acc: 0.000. Train Loss: 23.661\n",
            "Step. time since epoch: 29.294. Train acc: 0.700. Train Loss: 13.824\n",
            "epoch 3, loss 0.7103, train acc 0.434, test acc 0.542, time 42.2 sec\n",
            "Step. time since epoch: 3.791. Train acc: 0.000. Train Loss: 23.106\n",
            "Step. time since epoch: 7.597. Train acc: 0.969. Train Loss: 21.651\n",
            "Step. time since epoch: 11.367. Train acc: 1.000. Train Loss: 20.189\n",
            "Step. time since epoch: 15.222. Train acc: 0.844. Train Loss: 19.970\n",
            "Step. time since epoch: 19.086. Train acc: 0.000. Train Loss: 26.638\n",
            "Step. time since epoch: 22.906. Train acc: 0.000. Train Loss: 24.759\n",
            "Step. time since epoch: 26.700. Train acc: 0.000. Train Loss: 23.075\n",
            "Step. time since epoch: 29.108. Train acc: 1.000. Train Loss: 13.614\n",
            "epoch 4, loss 0.7090, train acc 0.451, test acc 0.542, time 42.0 sec\n",
            "Step. time since epoch: 3.813. Train acc: 0.000. Train Loss: 23.308\n",
            "Step. time since epoch: 7.663. Train acc: 0.719. Train Loss: 22.025\n",
            "Step. time since epoch: 11.451. Train acc: 1.000. Train Loss: 20.669\n",
            "Step. time since epoch: 15.322. Train acc: 0.844. Train Loss: 20.343\n",
            "Step. time since epoch: 19.203. Train acc: 0.000. Train Loss: 25.876\n",
            "Step. time since epoch: 23.047. Train acc: 0.000. Train Loss: 24.186\n",
            "Step. time since epoch: 26.945. Train acc: 0.000. Train Loss: 22.695\n",
            "Step. time since epoch: 29.420. Train acc: 1.000. Train Loss: 13.474\n",
            "epoch 5, loss 0.7073, train acc 0.418, test acc 0.542, time 42.6 sec\n"
          ]
        }
      ]
    },
    {
      "cell_type": "markdown",
      "source": [
        "#**VGG16(pretrained=False)**"
      ],
      "metadata": {
        "id": "fxx9LbTtRafY"
      }
    },
    {
      "cell_type": "code",
      "source": [
        "mod_VGG16 = tv.models.vgg16(pretrained=False)"
      ],
      "metadata": {
        "id": "SG7GQ3SxQndD"
      },
      "execution_count": null,
      "outputs": []
    },
    {
      "cell_type": "code",
      "source": [
        "mod_VGG16"
      ],
      "metadata": {
        "colab": {
          "base_uri": "https://localhost:8080/"
        },
        "outputId": "0b3545d8-01c6-45ce-dd98-7125d55ab6fc",
        "id": "U4NNEo42QndJ"
      },
      "execution_count": null,
      "outputs": [
        {
          "output_type": "execute_result",
          "data": {
            "text/plain": [
              "VGG(\n",
              "  (features): Sequential(\n",
              "    (0): Conv2d(3, 64, kernel_size=(3, 3), stride=(1, 1), padding=(1, 1))\n",
              "    (1): ReLU(inplace=True)\n",
              "    (2): Conv2d(64, 64, kernel_size=(3, 3), stride=(1, 1), padding=(1, 1))\n",
              "    (3): ReLU(inplace=True)\n",
              "    (4): MaxPool2d(kernel_size=2, stride=2, padding=0, dilation=1, ceil_mode=False)\n",
              "    (5): Conv2d(64, 128, kernel_size=(3, 3), stride=(1, 1), padding=(1, 1))\n",
              "    (6): ReLU(inplace=True)\n",
              "    (7): Conv2d(128, 128, kernel_size=(3, 3), stride=(1, 1), padding=(1, 1))\n",
              "    (8): ReLU(inplace=True)\n",
              "    (9): MaxPool2d(kernel_size=2, stride=2, padding=0, dilation=1, ceil_mode=False)\n",
              "    (10): Conv2d(128, 256, kernel_size=(3, 3), stride=(1, 1), padding=(1, 1))\n",
              "    (11): ReLU(inplace=True)\n",
              "    (12): Conv2d(256, 256, kernel_size=(3, 3), stride=(1, 1), padding=(1, 1))\n",
              "    (13): ReLU(inplace=True)\n",
              "    (14): Conv2d(256, 256, kernel_size=(3, 3), stride=(1, 1), padding=(1, 1))\n",
              "    (15): ReLU(inplace=True)\n",
              "    (16): MaxPool2d(kernel_size=2, stride=2, padding=0, dilation=1, ceil_mode=False)\n",
              "    (17): Conv2d(256, 512, kernel_size=(3, 3), stride=(1, 1), padding=(1, 1))\n",
              "    (18): ReLU(inplace=True)\n",
              "    (19): Conv2d(512, 512, kernel_size=(3, 3), stride=(1, 1), padding=(1, 1))\n",
              "    (20): ReLU(inplace=True)\n",
              "    (21): Conv2d(512, 512, kernel_size=(3, 3), stride=(1, 1), padding=(1, 1))\n",
              "    (22): ReLU(inplace=True)\n",
              "    (23): MaxPool2d(kernel_size=2, stride=2, padding=0, dilation=1, ceil_mode=False)\n",
              "    (24): Conv2d(512, 512, kernel_size=(3, 3), stride=(1, 1), padding=(1, 1))\n",
              "    (25): ReLU(inplace=True)\n",
              "    (26): Conv2d(512, 512, kernel_size=(3, 3), stride=(1, 1), padding=(1, 1))\n",
              "    (27): ReLU(inplace=True)\n",
              "    (28): Conv2d(512, 512, kernel_size=(3, 3), stride=(1, 1), padding=(1, 1))\n",
              "    (29): ReLU(inplace=True)\n",
              "    (30): MaxPool2d(kernel_size=2, stride=2, padding=0, dilation=1, ceil_mode=False)\n",
              "  )\n",
              "  (avgpool): AdaptiveAvgPool2d(output_size=(7, 7))\n",
              "  (classifier): Sequential(\n",
              "    (0): Linear(in_features=25088, out_features=4096, bias=True)\n",
              "    (1): ReLU(inplace=True)\n",
              "    (2): Dropout(p=0.5, inplace=False)\n",
              "    (3): Linear(in_features=4096, out_features=4096, bias=True)\n",
              "    (4): ReLU(inplace=True)\n",
              "    (5): Dropout(p=0.5, inplace=False)\n",
              "    (6): Linear(in_features=4096, out_features=1000, bias=True)\n",
              "  )\n",
              ")"
            ]
          },
          "metadata": {},
          "execution_count": 113
        }
      ]
    },
    {
      "cell_type": "code",
      "source": [
        "mod_VGG16.classifier[6]"
      ],
      "metadata": {
        "colab": {
          "base_uri": "https://localhost:8080/"
        },
        "id": "zokyrbOISRmL",
        "outputId": "1dce72e2-5ea1-43c3-bbd8-675f75a16471"
      },
      "execution_count": null,
      "outputs": [
        {
          "output_type": "execute_result",
          "data": {
            "text/plain": [
              "Linear(in_features=4096, out_features=1000, bias=True)"
            ]
          },
          "metadata": {},
          "execution_count": 114
        }
      ]
    },
    {
      "cell_type": "code",
      "source": [
        "# замораживаем все слои\n",
        "for name, param in mod_VGG16.named_parameters():\n",
        " param.requires_grad = False"
      ],
      "metadata": {
        "id": "y08LCY7wmkRn"
      },
      "execution_count": null,
      "outputs": []
    },
    {
      "cell_type": "code",
      "source": [
        "# меняем полносвязные слои и назначаем 2 признака\n",
        "mod_VGG16.classifier[6] = nn.Linear(mod_VGG16.classifier[6].in_features,2)"
      ],
      "metadata": {
        "id": "_UfrIjZ7QndK"
      },
      "execution_count": null,
      "outputs": []
    },
    {
      "cell_type": "code",
      "source": [
        "# размораживаем нижние слой: classifier\n",
        "for name, param in mod_VGG16.classifier.named_parameters():\n",
        " param.requires_grad = True"
      ],
      "metadata": {
        "id": "jubk2OlnS2vs"
      },
      "execution_count": null,
      "outputs": []
    },
    {
      "cell_type": "code",
      "source": [
        "lr, num_epochs = 0.001, 5\n",
        "trainer = torch.optim.SGD(mod_VGG16.parameters(), lr=lr)\n",
        "train(mod_VGG16, train_iter, test_iter, trainer, num_epochs)"
      ],
      "metadata": {
        "colab": {
          "base_uri": "https://localhost:8080/"
        },
        "id": "EbmKbVy0moqK",
        "outputId": "746d6846-1b62-4b6b-9c48-b39d474ce117"
      },
      "execution_count": null,
      "outputs": [
        {
          "output_type": "stream",
          "name": "stdout",
          "text": [
            "Step. time since epoch: 19.685. Train acc: 0.219. Train Loss: 22.681\n",
            "Step. time since epoch: 38.557. Train acc: 1.000. Train Loss: 18.890\n",
            "Step. time since epoch: 56.356. Train acc: 1.000. Train Loss: 15.810\n",
            "Step. time since epoch: 80.073. Train acc: 0.844. Train Loss: 16.351\n",
            "Step. time since epoch: 99.335. Train acc: 0.000. Train Loss: 37.683\n",
            "Step. time since epoch: 116.997. Train acc: 0.000. Train Loss: 28.527\n",
            "Step. time since epoch: 134.595. Train acc: 0.000. Train Loss: 23.664\n",
            "Step. time since epoch: 145.627. Train acc: 1.000. Train Loss: 12.472\n",
            "epoch 1, loss 0.7216, train acc 0.484, test acc 0.542, time 228.5 sec\n",
            "Step. time since epoch: 17.764. Train acc: 0.000. Train Loss: 26.614\n",
            "Step. time since epoch: 35.243. Train acc: 0.969. Train Loss: 21.895\n",
            "Step. time since epoch: 52.798. Train acc: 1.000. Train Loss: 18.941\n",
            "Step. time since epoch: 70.358. Train acc: 0.844. Train Loss: 18.218\n",
            "Step. time since epoch: 88.094. Train acc: 0.000. Train Loss: 31.338\n",
            "Step. time since epoch: 105.712. Train acc: 0.000. Train Loss: 26.081\n",
            "Step. time since epoch: 123.340. Train acc: 0.094. Train Loss: 22.465\n",
            "Step. time since epoch: 134.456. Train acc: 1.000. Train Loss: 12.297\n",
            "epoch 2, loss 0.7289, train acc 0.463, test acc 0.542, time 216.4 sec\n",
            "Step. time since epoch: 17.481. Train acc: 0.000. Train Loss: 26.764\n",
            "Step. time since epoch: 34.857. Train acc: 0.000. Train Loss: 22.761\n",
            "Step. time since epoch: 52.526. Train acc: 1.000. Train Loss: 20.159\n",
            "Step. time since epoch: 69.964. Train acc: 0.844. Train Loss: 19.200\n",
            "Step. time since epoch: 87.403. Train acc: 0.000. Train Loss: 28.825\n",
            "Step. time since epoch: 105.042. Train acc: 0.000. Train Loss: 24.951\n",
            "Step. time since epoch: 122.549. Train acc: 0.656. Train Loss: 22.090\n",
            "Step. time since epoch: 133.728. Train acc: 1.000. Train Loss: 12.324\n",
            "epoch 3, loss 0.7257, train acc 0.410, test acc 0.542, time 216.6 sec\n",
            "Step. time since epoch: 18.027. Train acc: 0.000. Train Loss: 26.285\n",
            "Step. time since epoch: 36.099. Train acc: 0.000. Train Loss: 22.964\n",
            "Step. time since epoch: 54.322. Train acc: 1.000. Train Loss: 20.663\n",
            "Step. time since epoch: 72.541. Train acc: 0.844. Train Loss: 19.692\n",
            "Step. time since epoch: 90.350. Train acc: 0.000. Train Loss: 27.601\n",
            "Step. time since epoch: 108.102. Train acc: 0.000. Train Loss: 24.409\n",
            "Step. time since epoch: 125.811. Train acc: 0.844. Train Loss: 21.962\n",
            "Step. time since epoch: 137.006. Train acc: 1.000. Train Loss: 12.409\n",
            "epoch 4, loss 0.7213, train acc 0.434, test acc 0.542, time 219.7 sec\n",
            "Step. time since epoch: 17.470. Train acc: 0.000. Train Loss: 25.827\n",
            "Step. time since epoch: 35.278. Train acc: 0.000. Train Loss: 23.002\n",
            "Step. time since epoch: 52.795. Train acc: 1.000. Train Loss: 20.926\n",
            "Step. time since epoch: 70.315. Train acc: 0.844. Train Loss: 19.992\n",
            "Step. time since epoch: 88.005. Train acc: 0.000. Train Loss: 26.852\n",
            "Step. time since epoch: 105.461. Train acc: 0.000. Train Loss: 24.086\n",
            "Step. time since epoch: 122.953. Train acc: 0.844. Train Loss: 21.915\n",
            "Step. time since epoch: 133.986. Train acc: 1.000. Train Loss: 12.495\n",
            "epoch 5, loss 0.7176, train acc 0.434, test acc 0.542, time 217.8 sec\n"
          ]
        }
      ]
    },
    {
      "cell_type": "markdown",
      "source": [
        "#**ResNet18(pretrained=True)**"
      ],
      "metadata": {
        "id": "WG4uXHGdg8wD"
      }
    },
    {
      "cell_type": "code",
      "source": [
        "mod_resn18 = tv.models.resnet18(pretrained=True)"
      ],
      "metadata": {
        "id": "jXn4hJkhg8wE"
      },
      "execution_count": null,
      "outputs": []
    },
    {
      "cell_type": "code",
      "source": [
        "mod_resn18"
      ],
      "metadata": {
        "colab": {
          "base_uri": "https://localhost:8080/"
        },
        "id": "SHp2sn2Hg8wE",
        "outputId": "3a307fda-e6d0-47fa-fa2c-017f6bd381e3"
      },
      "execution_count": null,
      "outputs": [
        {
          "output_type": "execute_result",
          "data": {
            "text/plain": [
              "ResNet(\n",
              "  (conv1): Conv2d(3, 64, kernel_size=(7, 7), stride=(2, 2), padding=(3, 3), bias=False)\n",
              "  (bn1): BatchNorm2d(64, eps=1e-05, momentum=0.1, affine=True, track_running_stats=True)\n",
              "  (relu): ReLU(inplace=True)\n",
              "  (maxpool): MaxPool2d(kernel_size=3, stride=2, padding=1, dilation=1, ceil_mode=False)\n",
              "  (layer1): Sequential(\n",
              "    (0): BasicBlock(\n",
              "      (conv1): Conv2d(64, 64, kernel_size=(3, 3), stride=(1, 1), padding=(1, 1), bias=False)\n",
              "      (bn1): BatchNorm2d(64, eps=1e-05, momentum=0.1, affine=True, track_running_stats=True)\n",
              "      (relu): ReLU(inplace=True)\n",
              "      (conv2): Conv2d(64, 64, kernel_size=(3, 3), stride=(1, 1), padding=(1, 1), bias=False)\n",
              "      (bn2): BatchNorm2d(64, eps=1e-05, momentum=0.1, affine=True, track_running_stats=True)\n",
              "    )\n",
              "    (1): BasicBlock(\n",
              "      (conv1): Conv2d(64, 64, kernel_size=(3, 3), stride=(1, 1), padding=(1, 1), bias=False)\n",
              "      (bn1): BatchNorm2d(64, eps=1e-05, momentum=0.1, affine=True, track_running_stats=True)\n",
              "      (relu): ReLU(inplace=True)\n",
              "      (conv2): Conv2d(64, 64, kernel_size=(3, 3), stride=(1, 1), padding=(1, 1), bias=False)\n",
              "      (bn2): BatchNorm2d(64, eps=1e-05, momentum=0.1, affine=True, track_running_stats=True)\n",
              "    )\n",
              "  )\n",
              "  (layer2): Sequential(\n",
              "    (0): BasicBlock(\n",
              "      (conv1): Conv2d(64, 128, kernel_size=(3, 3), stride=(2, 2), padding=(1, 1), bias=False)\n",
              "      (bn1): BatchNorm2d(128, eps=1e-05, momentum=0.1, affine=True, track_running_stats=True)\n",
              "      (relu): ReLU(inplace=True)\n",
              "      (conv2): Conv2d(128, 128, kernel_size=(3, 3), stride=(1, 1), padding=(1, 1), bias=False)\n",
              "      (bn2): BatchNorm2d(128, eps=1e-05, momentum=0.1, affine=True, track_running_stats=True)\n",
              "      (downsample): Sequential(\n",
              "        (0): Conv2d(64, 128, kernel_size=(1, 1), stride=(2, 2), bias=False)\n",
              "        (1): BatchNorm2d(128, eps=1e-05, momentum=0.1, affine=True, track_running_stats=True)\n",
              "      )\n",
              "    )\n",
              "    (1): BasicBlock(\n",
              "      (conv1): Conv2d(128, 128, kernel_size=(3, 3), stride=(1, 1), padding=(1, 1), bias=False)\n",
              "      (bn1): BatchNorm2d(128, eps=1e-05, momentum=0.1, affine=True, track_running_stats=True)\n",
              "      (relu): ReLU(inplace=True)\n",
              "      (conv2): Conv2d(128, 128, kernel_size=(3, 3), stride=(1, 1), padding=(1, 1), bias=False)\n",
              "      (bn2): BatchNorm2d(128, eps=1e-05, momentum=0.1, affine=True, track_running_stats=True)\n",
              "    )\n",
              "  )\n",
              "  (layer3): Sequential(\n",
              "    (0): BasicBlock(\n",
              "      (conv1): Conv2d(128, 256, kernel_size=(3, 3), stride=(2, 2), padding=(1, 1), bias=False)\n",
              "      (bn1): BatchNorm2d(256, eps=1e-05, momentum=0.1, affine=True, track_running_stats=True)\n",
              "      (relu): ReLU(inplace=True)\n",
              "      (conv2): Conv2d(256, 256, kernel_size=(3, 3), stride=(1, 1), padding=(1, 1), bias=False)\n",
              "      (bn2): BatchNorm2d(256, eps=1e-05, momentum=0.1, affine=True, track_running_stats=True)\n",
              "      (downsample): Sequential(\n",
              "        (0): Conv2d(128, 256, kernel_size=(1, 1), stride=(2, 2), bias=False)\n",
              "        (1): BatchNorm2d(256, eps=1e-05, momentum=0.1, affine=True, track_running_stats=True)\n",
              "      )\n",
              "    )\n",
              "    (1): BasicBlock(\n",
              "      (conv1): Conv2d(256, 256, kernel_size=(3, 3), stride=(1, 1), padding=(1, 1), bias=False)\n",
              "      (bn1): BatchNorm2d(256, eps=1e-05, momentum=0.1, affine=True, track_running_stats=True)\n",
              "      (relu): ReLU(inplace=True)\n",
              "      (conv2): Conv2d(256, 256, kernel_size=(3, 3), stride=(1, 1), padding=(1, 1), bias=False)\n",
              "      (bn2): BatchNorm2d(256, eps=1e-05, momentum=0.1, affine=True, track_running_stats=True)\n",
              "    )\n",
              "  )\n",
              "  (layer4): Sequential(\n",
              "    (0): BasicBlock(\n",
              "      (conv1): Conv2d(256, 512, kernel_size=(3, 3), stride=(2, 2), padding=(1, 1), bias=False)\n",
              "      (bn1): BatchNorm2d(512, eps=1e-05, momentum=0.1, affine=True, track_running_stats=True)\n",
              "      (relu): ReLU(inplace=True)\n",
              "      (conv2): Conv2d(512, 512, kernel_size=(3, 3), stride=(1, 1), padding=(1, 1), bias=False)\n",
              "      (bn2): BatchNorm2d(512, eps=1e-05, momentum=0.1, affine=True, track_running_stats=True)\n",
              "      (downsample): Sequential(\n",
              "        (0): Conv2d(256, 512, kernel_size=(1, 1), stride=(2, 2), bias=False)\n",
              "        (1): BatchNorm2d(512, eps=1e-05, momentum=0.1, affine=True, track_running_stats=True)\n",
              "      )\n",
              "    )\n",
              "    (1): BasicBlock(\n",
              "      (conv1): Conv2d(512, 512, kernel_size=(3, 3), stride=(1, 1), padding=(1, 1), bias=False)\n",
              "      (bn1): BatchNorm2d(512, eps=1e-05, momentum=0.1, affine=True, track_running_stats=True)\n",
              "      (relu): ReLU(inplace=True)\n",
              "      (conv2): Conv2d(512, 512, kernel_size=(3, 3), stride=(1, 1), padding=(1, 1), bias=False)\n",
              "      (bn2): BatchNorm2d(512, eps=1e-05, momentum=0.1, affine=True, track_running_stats=True)\n",
              "    )\n",
              "  )\n",
              "  (avgpool): AdaptiveAvgPool2d(output_size=(1, 1))\n",
              "  (fc): Linear(in_features=512, out_features=1000, bias=True)\n",
              ")"
            ]
          },
          "metadata": {},
          "execution_count": 102
        }
      ]
    },
    {
      "cell_type": "code",
      "source": [
        "# замораживаем все слои\n",
        "for name, param in mod_resn18.named_parameters():\n",
        " param.requires_grad = False"
      ],
      "metadata": {
        "id": "bbTHjcEksEWy"
      },
      "execution_count": null,
      "outputs": []
    },
    {
      "cell_type": "code",
      "source": [
        "# меняем полносвязные слои и назначаем 2 признака\n",
        "mod_resn18.fc = nn.Sequential(nn.Linear(mod_resn18.fc.in_features,128),\n",
        "                              nn.ReLU(),\n",
        "#                              nn.Dropout(),\n",
        "                              nn.Linear(128,2))"
      ],
      "metadata": {
        "id": "6SEHOBsHsEWz"
      },
      "execution_count": null,
      "outputs": []
    },
    {
      "cell_type": "code",
      "source": [
        "# размораживаем нижние слои: layer4 и fc\n",
        "\n",
        "unfreeze_layers = [mod_resn18.layer4, mod_resn18.fc]\n",
        "for layer in unfreeze_layers:\n",
        " for param in layer.parameters():\n",
        "  param.requires_grad = True"
      ],
      "metadata": {
        "id": "0SUP4N0rsEW0"
      },
      "execution_count": null,
      "outputs": []
    },
    {
      "cell_type": "code",
      "source": [
        "dev = torch.device(\"cuda\") if torch.cuda.is_available() else torch.device(\"cpu\")"
      ],
      "metadata": {
        "id": "sUHOtglOhtHd"
      },
      "execution_count": null,
      "outputs": []
    },
    {
      "cell_type": "code",
      "source": [
        "dev"
      ],
      "metadata": {
        "colab": {
          "base_uri": "https://localhost:8080/"
        },
        "id": "nrc4ry99hs8u",
        "outputId": "f62e02f2-5fe3-453f-bbe8-cc9c2346430a"
      },
      "execution_count": null,
      "outputs": [
        {
          "output_type": "execute_result",
          "data": {
            "text/plain": [
              "device(type='cpu')"
            ]
          },
          "metadata": {},
          "execution_count": 125
        }
      ]
    },
    {
      "cell_type": "code",
      "source": [
        "mod_resn18 = mod_resn18.to(dev) # отправляем данные на GPU"
      ],
      "metadata": {
        "id": "cgUPtiqPh2cb"
      },
      "execution_count": null,
      "outputs": []
    },
    {
      "cell_type": "code",
      "source": [],
      "metadata": {
        "id": "E0xsGlQkh2ZY"
      },
      "execution_count": null,
      "outputs": []
    },
    {
      "cell_type": "code",
      "execution_count": null,
      "metadata": {
        "ExecuteTime": {
          "end_time": "2019-11-18T16:20:21.306023Z",
          "start_time": "2019-11-18T16:20:21.293827Z"
        },
        "id": "zktybTNBg8wF"
      },
      "outputs": [],
      "source": [
        "# считает accuracy - берет данные прогоняет через модель и дает долю правильных ответов\n",
        "def evaluate_accuracy(data_iter, net): #data_iter - картинка в виде тензора+метка, net-модель\n",
        "    acc_sum, n = torch.Tensor([0]), 0 # acc_sum-тензор = 0, n=0 (счетчик типа)\n",
        "    net.eval()\n",
        "    for X, y in data_iter:\n",
        "        X, y = X.to(dev), y.to(dev) # отправляем данные на GPU\n",
        "        acc_sum += (net(X).argmax(axis=1) == y).sum()\n",
        "        # acc_sum - доля правильных ответов\n",
        "        n += y.shape[0]\n",
        "    return acc_sum.item() / n"
      ]
    },
    {
      "cell_type": "code",
      "execution_count": null,
      "metadata": {
        "ExecuteTime": {
          "end_time": "2019-11-18T16:20:21.693926Z",
          "start_time": "2019-11-18T16:20:21.678441Z"
        },
        "id": "fP9uEjkSg8wF"
      },
      "outputs": [],
      "source": [
        "def train(net, train_iter, test_iter, trainer, num_epochs):\n",
        "    loss = nn.CrossEntropyLoss(reduction='sum')\n",
        "    net.train()\n",
        "    for epoch in range(num_epochs):\n",
        "        train_l_sum, train_acc_sum, n, start = 0.0, 0.0, 0, time.time()\n",
        "        for X, y in train_iter:\n",
        "            trainer.zero_grad()\n",
        "            X, y = X.to(dev), y.to(dev) # отправляем данные на GPU\n",
        "            y_hat = net(X)\n",
        "            l = loss(y_hat, y)\n",
        "            l.backward()\n",
        "            trainer.step()\n",
        "            train_l_sum += l.item() # накапливаем характеристики\n",
        "            train_acc_sum += (y_hat.argmax(axis=1) == y).sum().item() # накапливаем характеристики\n",
        "            n += y.shape[0] # накапливаем характеристики\n",
        "            print(\"Step. time since epoch: {:.3f}. Train acc: {:.3f}. Train Loss: {:.3f}\".format(time.time() -  start,\n",
        "                (y_hat.argmax(axis=1) == y).sum().item() / y.shape[0], l.item()))\n",
        "        test_acc = evaluate_accuracy(test_iter, net)\n",
        "        print('epoch %d, loss %.4f, train acc %.3f, test acc %.3f, '\n",
        "              'time %.1f sec'\n",
        "              % (epoch + 1, train_l_sum / n, train_acc_sum / n, test_acc,\n",
        "                 time.time() - start))"
      ]
    },
    {
      "cell_type": "code",
      "source": [
        "lr, num_epochs = 0.001, 5\n",
        "trainer = torch.optim.SGD(mod_resn18.parameters(), lr=lr)\n",
        "train(mod_resn18, train_iter, test_iter, trainer, num_epochs)"
      ],
      "metadata": {
        "colab": {
          "base_uri": "https://localhost:8080/"
        },
        "outputId": "15ee10de-02f8-44a0-cdfc-1f0aebd67c06",
        "id": "FIbQ2sbZg8wF"
      },
      "execution_count": null,
      "outputs": [
        {
          "output_type": "stream",
          "name": "stdout",
          "text": [
            "Step. time since epoch: 4.325. Train acc: 0.375. Train Loss: 23.625\n",
            "Step. time since epoch: 8.594. Train acc: 1.000. Train Loss: 7.652\n",
            "Step. time since epoch: 12.777. Train acc: 1.000. Train Loss: 4.186\n",
            "Step. time since epoch: 16.935. Train acc: 0.844. Train Loss: 14.951\n",
            "Step. time since epoch: 21.045. Train acc: 0.000. Train Loss: 73.466\n",
            "Step. time since epoch: 25.160. Train acc: 1.000. Train Loss: 18.038\n",
            "Step. time since epoch: 29.279. Train acc: 1.000. Train Loss: 13.044\n",
            "Step. time since epoch: 31.939. Train acc: 1.000. Train Loss: 5.381\n",
            "epoch 1, loss 0.6571, train acc 0.766, test acc 0.542, time 45.3 sec\n",
            "Step. time since epoch: 3.834. Train acc: 0.000. Train Loss: 52.568\n",
            "Step. time since epoch: 7.618. Train acc: 0.844. Train Loss: 21.406\n",
            "Step. time since epoch: 11.356. Train acc: 1.000. Train Loss: 19.832\n",
            "Step. time since epoch: 15.216. Train acc: 0.844. Train Loss: 18.937\n",
            "Step. time since epoch: 19.014. Train acc: 0.000. Train Loss: 29.887\n",
            "Step. time since epoch: 22.789. Train acc: 0.156. Train Loss: 22.895\n",
            "Step. time since epoch: 26.545. Train acc: 0.969. Train Loss: 21.293\n",
            "Step. time since epoch: 28.997. Train acc: 1.000. Train Loss: 12.312\n",
            "epoch 2, loss 0.8161, train acc 0.582, test acc 0.562, time 41.9 sec\n",
            "Step. time since epoch: 3.778. Train acc: 0.000. Train Loss: 23.827\n",
            "Step. time since epoch: 7.693. Train acc: 0.594. Train Loss: 22.019\n",
            "Step. time since epoch: 11.457. Train acc: 0.906. Train Loss: 20.343\n",
            "Step. time since epoch: 15.259. Train acc: 0.844. Train Loss: 18.873\n",
            "Step. time since epoch: 19.072. Train acc: 0.031. Train Loss: 25.631\n",
            "Step. time since epoch: 22.867. Train acc: 0.719. Train Loss: 21.725\n",
            "Step. time since epoch: 26.661. Train acc: 0.969. Train Loss: 19.260\n",
            "Step. time since epoch: 29.051. Train acc: 1.000. Train Loss: 9.648\n",
            "epoch 3, loss 0.6612, train acc 0.615, test acc 0.562, time 42.1 sec\n",
            "Step. time since epoch: 3.819. Train acc: 0.031. Train Loss: 26.491\n",
            "Step. time since epoch: 7.626. Train acc: 0.688. Train Loss: 20.550\n",
            "Step. time since epoch: 11.425. Train acc: 0.938. Train Loss: 17.210\n",
            "Step. time since epoch: 15.287. Train acc: 0.844. Train Loss: 14.100\n",
            "Step. time since epoch: 19.086. Train acc: 0.000. Train Loss: 33.082\n",
            "Step. time since epoch: 22.882. Train acc: 1.000. Train Loss: 16.664\n",
            "Step. time since epoch: 26.820. Train acc: 1.000. Train Loss: 10.734\n",
            "Step. time since epoch: 29.224. Train acc: 1.000. Train Loss: 2.568\n",
            "epoch 4, loss 0.5795, train acc 0.672, test acc 0.542, time 42.2 sec\n",
            "Step. time since epoch: 3.839. Train acc: 0.000. Train Loss: 45.289\n",
            "Step. time since epoch: 7.665. Train acc: 1.000. Train Loss: 16.897\n",
            "Step. time since epoch: 11.576. Train acc: 1.000. Train Loss: 13.575\n",
            "Step. time since epoch: 15.474. Train acc: 0.844. Train Loss: 11.777\n",
            "Step. time since epoch: 19.260. Train acc: 0.000. Train Loss: 36.424\n",
            "Step. time since epoch: 23.069. Train acc: 0.938. Train Loss: 19.500\n",
            "Step. time since epoch: 26.911. Train acc: 1.000. Train Loss: 16.643\n",
            "Step. time since epoch: 29.311. Train acc: 1.000. Train Loss: 7.925\n",
            "epoch 5, loss 0.6886, train acc 0.709, test acc 0.673, time 42.4 sec\n"
          ]
        }
      ]
    },
    {
      "cell_type": "markdown",
      "source": [
        "#**VGG16(pretrained=True)**"
      ],
      "metadata": {
        "id": "5XkHLB7yjaTm"
      }
    },
    {
      "cell_type": "code",
      "source": [
        "mod_VGG16 = tv.models.vgg16(pretrained=True)"
      ],
      "metadata": {
        "id": "VyrAO9PwjaTr"
      },
      "execution_count": null,
      "outputs": []
    },
    {
      "cell_type": "code",
      "source": [
        "mod_VGG16"
      ],
      "metadata": {
        "colab": {
          "base_uri": "https://localhost:8080/"
        },
        "outputId": "c1401d83-f0ad-42b7-8b69-feca4a0af4ff",
        "id": "S306Ui-yjaTr"
      },
      "execution_count": null,
      "outputs": [
        {
          "output_type": "execute_result",
          "data": {
            "text/plain": [
              "VGG(\n",
              "  (features): Sequential(\n",
              "    (0): Conv2d(3, 64, kernel_size=(3, 3), stride=(1, 1), padding=(1, 1))\n",
              "    (1): ReLU(inplace=True)\n",
              "    (2): Conv2d(64, 64, kernel_size=(3, 3), stride=(1, 1), padding=(1, 1))\n",
              "    (3): ReLU(inplace=True)\n",
              "    (4): MaxPool2d(kernel_size=2, stride=2, padding=0, dilation=1, ceil_mode=False)\n",
              "    (5): Conv2d(64, 128, kernel_size=(3, 3), stride=(1, 1), padding=(1, 1))\n",
              "    (6): ReLU(inplace=True)\n",
              "    (7): Conv2d(128, 128, kernel_size=(3, 3), stride=(1, 1), padding=(1, 1))\n",
              "    (8): ReLU(inplace=True)\n",
              "    (9): MaxPool2d(kernel_size=2, stride=2, padding=0, dilation=1, ceil_mode=False)\n",
              "    (10): Conv2d(128, 256, kernel_size=(3, 3), stride=(1, 1), padding=(1, 1))\n",
              "    (11): ReLU(inplace=True)\n",
              "    (12): Conv2d(256, 256, kernel_size=(3, 3), stride=(1, 1), padding=(1, 1))\n",
              "    (13): ReLU(inplace=True)\n",
              "    (14): Conv2d(256, 256, kernel_size=(3, 3), stride=(1, 1), padding=(1, 1))\n",
              "    (15): ReLU(inplace=True)\n",
              "    (16): MaxPool2d(kernel_size=2, stride=2, padding=0, dilation=1, ceil_mode=False)\n",
              "    (17): Conv2d(256, 512, kernel_size=(3, 3), stride=(1, 1), padding=(1, 1))\n",
              "    (18): ReLU(inplace=True)\n",
              "    (19): Conv2d(512, 512, kernel_size=(3, 3), stride=(1, 1), padding=(1, 1))\n",
              "    (20): ReLU(inplace=True)\n",
              "    (21): Conv2d(512, 512, kernel_size=(3, 3), stride=(1, 1), padding=(1, 1))\n",
              "    (22): ReLU(inplace=True)\n",
              "    (23): MaxPool2d(kernel_size=2, stride=2, padding=0, dilation=1, ceil_mode=False)\n",
              "    (24): Conv2d(512, 512, kernel_size=(3, 3), stride=(1, 1), padding=(1, 1))\n",
              "    (25): ReLU(inplace=True)\n",
              "    (26): Conv2d(512, 512, kernel_size=(3, 3), stride=(1, 1), padding=(1, 1))\n",
              "    (27): ReLU(inplace=True)\n",
              "    (28): Conv2d(512, 512, kernel_size=(3, 3), stride=(1, 1), padding=(1, 1))\n",
              "    (29): ReLU(inplace=True)\n",
              "    (30): MaxPool2d(kernel_size=2, stride=2, padding=0, dilation=1, ceil_mode=False)\n",
              "  )\n",
              "  (avgpool): AdaptiveAvgPool2d(output_size=(7, 7))\n",
              "  (classifier): Sequential(\n",
              "    (0): Linear(in_features=25088, out_features=4096, bias=True)\n",
              "    (1): ReLU(inplace=True)\n",
              "    (2): Dropout(p=0.5, inplace=False)\n",
              "    (3): Linear(in_features=4096, out_features=4096, bias=True)\n",
              "    (4): ReLU(inplace=True)\n",
              "    (5): Dropout(p=0.5, inplace=False)\n",
              "    (6): Linear(in_features=4096, out_features=2, bias=True)\n",
              "  )\n",
              ")"
            ]
          },
          "metadata": {},
          "execution_count": 142
        }
      ]
    },
    {
      "cell_type": "code",
      "source": [
        "mod_VGG16.features[6]"
      ],
      "metadata": {
        "colab": {
          "base_uri": "https://localhost:8080/"
        },
        "outputId": "c8bb65d3-e5f0-4724-d786-6d17a4e3288b",
        "id": "XBzDZXo2jaTr"
      },
      "execution_count": null,
      "outputs": [
        {
          "output_type": "execute_result",
          "data": {
            "text/plain": [
              "ReLU(inplace=True)"
            ]
          },
          "metadata": {},
          "execution_count": 138
        }
      ]
    },
    {
      "cell_type": "code",
      "source": [
        "# замораживаем все слои\n",
        "for name, param in mod_VGG16.named_parameters():\n",
        " param.requires_grad = False"
      ],
      "metadata": {
        "id": "UbXx2dNExbj4"
      },
      "execution_count": null,
      "outputs": []
    },
    {
      "cell_type": "code",
      "source": [
        "# меняем полносвязные слои и назначаем 2 признака\n",
        "mod_VGG16.classifier[6] = nn.Linear(mod_VGG16.classifier[6].in_features,2)"
      ],
      "metadata": {
        "id": "TaH8Wqw6xbj5"
      },
      "execution_count": null,
      "outputs": []
    },
    {
      "cell_type": "code",
      "source": [
        "# размораживаем нижние слой: classifier\n",
        "for name, param in mod_VGG16.classifier.named_parameters():\n",
        " param.requires_grad = True"
      ],
      "metadata": {
        "id": "nhAQ8QbMxbj5"
      },
      "execution_count": null,
      "outputs": []
    },
    {
      "cell_type": "code",
      "source": [
        "dev = torch.device(\"cuda\") if torch.cuda.is_available() else torch.device(\"cpu\")"
      ],
      "metadata": {
        "id": "YJ14ZdJOjnJk"
      },
      "execution_count": null,
      "outputs": []
    },
    {
      "cell_type": "code",
      "source": [
        "dev"
      ],
      "metadata": {
        "colab": {
          "base_uri": "https://localhost:8080/"
        },
        "outputId": "407a9982-4ccc-4f4c-85b5-660441982fd2",
        "id": "xesS9rKvjnJk"
      },
      "execution_count": null,
      "outputs": [
        {
          "output_type": "execute_result",
          "data": {
            "text/plain": [
              "device(type='cpu')"
            ]
          },
          "metadata": {},
          "execution_count": 144
        }
      ]
    },
    {
      "cell_type": "code",
      "source": [
        "mod_VGG16 = mod_VGG16.to(dev) # отправляем данные на GPU"
      ],
      "metadata": {
        "id": "blGVZmAHjnJl"
      },
      "execution_count": null,
      "outputs": []
    },
    {
      "cell_type": "code",
      "source": [],
      "metadata": {
        "id": "1LSsj6TgjnJl"
      },
      "execution_count": null,
      "outputs": []
    },
    {
      "cell_type": "code",
      "source": [
        "lr, num_epochs = 0.001, 5\n",
        "trainer = torch.optim.SGD(mod_VGG16.parameters(), lr=lr)\n",
        "train(mod_VGG16, train_iter, test_iter, trainer, num_epochs)"
      ],
      "metadata": {
        "colab": {
          "base_uri": "https://localhost:8080/"
        },
        "outputId": "81d8f623-e54e-472d-b373-212e74d934c0",
        "id": "pI3RdL3cjaTs"
      },
      "execution_count": null,
      "outputs": [
        {
          "output_type": "stream",
          "name": "stdout",
          "text": [
            "Step. time since epoch: 18.760. Train acc: 0.406. Train Loss: 27.171\n",
            "Step. time since epoch: 37.069. Train acc: 1.000. Train Loss: 0.001\n",
            "Step. time since epoch: 54.445. Train acc: 1.000. Train Loss: 0.000\n",
            "Step. time since epoch: 72.009. Train acc: 0.844. Train Loss: 84.292\n",
            "Step. time since epoch: 89.500. Train acc: 0.000. Train Loss: 253.110\n",
            "Step. time since epoch: 107.116. Train acc: 1.000. Train Loss: 0.611\n",
            "Step. time since epoch: 124.480. Train acc: 1.000. Train Loss: 0.414\n",
            "Step. time since epoch: 135.968. Train acc: 1.000. Train Loss: 0.363\n",
            "epoch 1, loss 1.4998, train acc 0.770, test acc 0.556, time 219.1 sec\n",
            "Step. time since epoch: 18.686. Train acc: 0.219. Train Loss: 48.513\n",
            "Step. time since epoch: 37.403. Train acc: 0.688. Train Loss: 18.639\n",
            "Step. time since epoch: 57.070. Train acc: 0.875. Train Loss: 10.984\n",
            "Step. time since epoch: 76.122. Train acc: 0.875. Train Loss: 8.235\n",
            "Step. time since epoch: 94.811. Train acc: 0.844. Train Loss: 16.920\n",
            "Step. time since epoch: 114.136. Train acc: 0.938. Train Loss: 9.033\n",
            "Step. time since epoch: 133.385. Train acc: 0.969. Train Loss: 5.328\n",
            "Step. time since epoch: 144.732. Train acc: 0.950. Train Loss: 3.210\n",
            "epoch 2, loss 0.4953, train acc 0.787, test acc 0.863, time 226.9 sec\n",
            "Step. time since epoch: 17.275. Train acc: 0.875. Train Loss: 6.865\n",
            "Step. time since epoch: 34.533. Train acc: 0.906. Train Loss: 8.586\n",
            "Step. time since epoch: 51.804. Train acc: 0.875. Train Loss: 9.380\n",
            "Step. time since epoch: 69.153. Train acc: 0.906. Train Loss: 5.183\n",
            "Step. time since epoch: 86.402. Train acc: 0.969. Train Loss: 7.957\n",
            "Step. time since epoch: 103.683. Train acc: 0.938. Train Loss: 4.968\n",
            "Step. time since epoch: 120.918. Train acc: 1.000. Train Loss: 2.519\n",
            "Step. time since epoch: 131.866. Train acc: 0.950. Train Loss: 2.093\n",
            "epoch 3, loss 0.1949, train acc 0.926, test acc 0.882, time 212.3 sec\n",
            "Step. time since epoch: 17.605. Train acc: 0.969. Train Loss: 3.872\n",
            "Step. time since epoch: 34.799. Train acc: 0.969. Train Loss: 4.149\n",
            "Step. time since epoch: 51.992. Train acc: 0.938. Train Loss: 6.208\n",
            "Step. time since epoch: 69.184. Train acc: 0.969. Train Loss: 3.080\n",
            "Step. time since epoch: 86.319. Train acc: 0.969. Train Loss: 3.823\n",
            "Step. time since epoch: 103.448. Train acc: 1.000. Train Loss: 3.044\n",
            "Step. time since epoch: 120.512. Train acc: 1.000. Train Loss: 1.478\n",
            "Step. time since epoch: 131.365. Train acc: 1.000. Train Loss: 1.298\n",
            "epoch 4, loss 0.1105, train acc 0.975, test acc 0.889, time 211.4 sec\n",
            "Step. time since epoch: 17.107. Train acc: 1.000. Train Loss: 2.144\n",
            "Step. time since epoch: 34.468. Train acc: 1.000. Train Loss: 2.106\n",
            "Step. time since epoch: 51.596. Train acc: 0.969. Train Loss: 3.962\n",
            "Step. time since epoch: 68.791. Train acc: 1.000. Train Loss: 1.896\n",
            "Step. time since epoch: 85.936. Train acc: 1.000. Train Loss: 1.858\n",
            "Step. time since epoch: 103.083. Train acc: 1.000. Train Loss: 1.847\n",
            "Step. time since epoch: 120.163. Train acc: 1.000. Train Loss: 0.934\n",
            "Step. time since epoch: 130.969. Train acc: 1.000. Train Loss: 0.860\n",
            "epoch 5, loss 0.0640, train acc 0.996, test acc 0.895, time 211.0 sec\n"
          ]
        }
      ]
    },
    {
      "cell_type": "markdown",
      "source": [
        "#**ResNet18(pretrained=True) + аугментация**"
      ],
      "metadata": {
        "id": "NuQNVPK2w9Pa"
      }
    },
    {
      "cell_type": "code",
      "source": [
        "augs = tv.transforms.Compose([\n",
        "    tv.transforms.RandomHorizontalFlip(),\n",
        "    tv.transforms.RandomVerticalFlip(),\n",
        "    tv.transforms.RandomResizedCrop((28, 28), scale=(0.1, 1), ratio=(0.5, 2)),\n",
        "#    tv.transforms.Grayscale(3),\n",
        "    tv.transforms.Resize((224,224)),\n",
        "    tv.transforms.ToTensor()\n",
        "    ])"
      ],
      "metadata": {
        "id": "tSWLSKQBmoid"
      },
      "execution_count": null,
      "outputs": []
    },
    {
      "cell_type": "code",
      "source": [
        "BATCH_SIZE = 32"
      ],
      "metadata": {
        "id": "r4LqhJRaxgJj"
      },
      "execution_count": null,
      "outputs": []
    },
    {
      "cell_type": "code",
      "source": [
        "train_data = tv.datasets.ImageFolder(root=train_data_path,transform=augs)\n",
        "val_data = tv.datasets.ImageFolder(root=val_data_path,transform=augs)\n",
        "train_iter = torch.utils.data.DataLoader(train_data, batch_size=BATCH_SIZE)\n",
        "test_iter = torch.utils.data.DataLoader(val_data, batch_size=BATCH_SIZE)"
      ],
      "metadata": {
        "id": "xfuv1rU6xgJp"
      },
      "execution_count": null,
      "outputs": []
    },
    {
      "cell_type": "code",
      "source": [
        "val_data[0][0].shape"
      ],
      "metadata": {
        "colab": {
          "base_uri": "https://localhost:8080/"
        },
        "outputId": "25c524c4-4e74-4a88-887d-9307ad20697a",
        "id": "4em5tfJ5xgJp"
      },
      "execution_count": null,
      "outputs": [
        {
          "output_type": "execute_result",
          "data": {
            "text/plain": [
              "torch.Size([3, 224, 224])"
            ]
          },
          "metadata": {},
          "execution_count": 150
        }
      ]
    },
    {
      "cell_type": "code",
      "source": [
        "plt.imshow(train_data[20][0][0])\n",
        "plt.show"
      ],
      "metadata": {
        "colab": {
          "base_uri": "https://localhost:8080/",
          "height": 287
        },
        "outputId": "39e1c1d0-e0e4-4b19-fc44-4bf2c03a26e9",
        "id": "c46f9F8LxgJp"
      },
      "execution_count": null,
      "outputs": [
        {
          "output_type": "execute_result",
          "data": {
            "text/plain": [
              "<function matplotlib.pyplot.show(*args, **kw)>"
            ]
          },
          "metadata": {},
          "execution_count": 151
        },
        {
          "output_type": "display_data",
          "data": {
            "text/plain": [
              "<Figure size 432x288 with 1 Axes>"
            ],
            "image/png": "[encoded data removed]"
          },
          "metadata": {
            "needs_background": "light"
          }
        }
      ]
    },
    {
      "cell_type": "code",
      "source": [
        "mod_resn18 = tv.models.resnet18(pretrained=True)"
      ],
      "metadata": {
        "id": "-VbU-khKxgJp",
        "colab": {
          "base_uri": "https://localhost:8080/"
        },
        "outputId": "d0f2eccd-22ab-4b6b-9b8b-e881b38ea927"
      },
      "execution_count": null,
      "outputs": [
        {
          "output_type": "stream",
          "name": "stderr",
          "text": [
            "/usr/local/lib/python3.8/dist-packages/torchvision/models/_utils.py:208: UserWarning: The parameter 'pretrained' is deprecated since 0.13 and may be removed in the future, please use 'weights' instead.\n",
            "  warnings.warn(\n",
            "/usr/local/lib/python3.8/dist-packages/torchvision/models/_utils.py:223: UserWarning: Arguments other than a weight enum or `None` for 'weights' are deprecated since 0.13 and may be removed in the future. The current behavior is equivalent to passing `weights=ResNet18_Weights.IMAGENET1K_V1`. You can also use `weights=ResNet18_Weights.DEFAULT` to get the most up-to-date weights.\n",
            "  warnings.warn(msg)\n"
          ]
        }
      ]
    },
    {
      "cell_type": "code",
      "source": [
        "mod_resn18"
      ],
      "metadata": {
        "id": "Y6NuzIV6xgJp",
        "colab": {
          "base_uri": "https://localhost:8080/"
        },
        "outputId": "aac91db1-3b9c-4d4e-f648-b92754e2f7dc"
      },
      "execution_count": null,
      "outputs": [
        {
          "output_type": "execute_result",
          "data": {
            "text/plain": [
              "ResNet(\n",
              "  (conv1): Conv2d(3, 64, kernel_size=(7, 7), stride=(2, 2), padding=(3, 3), bias=False)\n",
              "  (bn1): BatchNorm2d(64, eps=1e-05, momentum=0.1, affine=True, track_running_stats=True)\n",
              "  (relu): ReLU(inplace=True)\n",
              "  (maxpool): MaxPool2d(kernel_size=3, stride=2, padding=1, dilation=1, ceil_mode=False)\n",
              "  (layer1): Sequential(\n",
              "    (0): BasicBlock(\n",
              "      (conv1): Conv2d(64, 64, kernel_size=(3, 3), stride=(1, 1), padding=(1, 1), bias=False)\n",
              "      (bn1): BatchNorm2d(64, eps=1e-05, momentum=0.1, affine=True, track_running_stats=True)\n",
              "      (relu): ReLU(inplace=True)\n",
              "      (conv2): Conv2d(64, 64, kernel_size=(3, 3), stride=(1, 1), padding=(1, 1), bias=False)\n",
              "      (bn2): BatchNorm2d(64, eps=1e-05, momentum=0.1, affine=True, track_running_stats=True)\n",
              "    )\n",
              "    (1): BasicBlock(\n",
              "      (conv1): Conv2d(64, 64, kernel_size=(3, 3), stride=(1, 1), padding=(1, 1), bias=False)\n",
              "      (bn1): BatchNorm2d(64, eps=1e-05, momentum=0.1, affine=True, track_running_stats=True)\n",
              "      (relu): ReLU(inplace=True)\n",
              "      (conv2): Conv2d(64, 64, kernel_size=(3, 3), stride=(1, 1), padding=(1, 1), bias=False)\n",
              "      (bn2): BatchNorm2d(64, eps=1e-05, momentum=0.1, affine=True, track_running_stats=True)\n",
              "    )\n",
              "  )\n",
              "  (layer2): Sequential(\n",
              "    (0): BasicBlock(\n",
              "      (conv1): Conv2d(64, 128, kernel_size=(3, 3), stride=(2, 2), padding=(1, 1), bias=False)\n",
              "      (bn1): BatchNorm2d(128, eps=1e-05, momentum=0.1, affine=True, track_running_stats=True)\n",
              "      (relu): ReLU(inplace=True)\n",
              "      (conv2): Conv2d(128, 128, kernel_size=(3, 3), stride=(1, 1), padding=(1, 1), bias=False)\n",
              "      (bn2): BatchNorm2d(128, eps=1e-05, momentum=0.1, affine=True, track_running_stats=True)\n",
              "      (downsample): Sequential(\n",
              "        (0): Conv2d(64, 128, kernel_size=(1, 1), stride=(2, 2), bias=False)\n",
              "        (1): BatchNorm2d(128, eps=1e-05, momentum=0.1, affine=True, track_running_stats=True)\n",
              "      )\n",
              "    )\n",
              "    (1): BasicBlock(\n",
              "      (conv1): Conv2d(128, 128, kernel_size=(3, 3), stride=(1, 1), padding=(1, 1), bias=False)\n",
              "      (bn1): BatchNorm2d(128, eps=1e-05, momentum=0.1, affine=True, track_running_stats=True)\n",
              "      (relu): ReLU(inplace=True)\n",
              "      (conv2): Conv2d(128, 128, kernel_size=(3, 3), stride=(1, 1), padding=(1, 1), bias=False)\n",
              "      (bn2): BatchNorm2d(128, eps=1e-05, momentum=0.1, affine=True, track_running_stats=True)\n",
              "    )\n",
              "  )\n",
              "  (layer3): Sequential(\n",
              "    (0): BasicBlock(\n",
              "      (conv1): Conv2d(128, 256, kernel_size=(3, 3), stride=(2, 2), padding=(1, 1), bias=False)\n",
              "      (bn1): BatchNorm2d(256, eps=1e-05, momentum=0.1, affine=True, track_running_stats=True)\n",
              "      (relu): ReLU(inplace=True)\n",
              "      (conv2): Conv2d(256, 256, kernel_size=(3, 3), stride=(1, 1), padding=(1, 1), bias=False)\n",
              "      (bn2): BatchNorm2d(256, eps=1e-05, momentum=0.1, affine=True, track_running_stats=True)\n",
              "      (downsample): Sequential(\n",
              "        (0): Conv2d(128, 256, kernel_size=(1, 1), stride=(2, 2), bias=False)\n",
              "        (1): BatchNorm2d(256, eps=1e-05, momentum=0.1, affine=True, track_running_stats=True)\n",
              "      )\n",
              "    )\n",
              "    (1): BasicBlock(\n",
              "      (conv1): Conv2d(256, 256, kernel_size=(3, 3), stride=(1, 1), padding=(1, 1), bias=False)\n",
              "      (bn1): BatchNorm2d(256, eps=1e-05, momentum=0.1, affine=True, track_running_stats=True)\n",
              "      (relu): ReLU(inplace=True)\n",
              "      (conv2): Conv2d(256, 256, kernel_size=(3, 3), stride=(1, 1), padding=(1, 1), bias=False)\n",
              "      (bn2): BatchNorm2d(256, eps=1e-05, momentum=0.1, affine=True, track_running_stats=True)\n",
              "    )\n",
              "  )\n",
              "  (layer4): Sequential(\n",
              "    (0): BasicBlock(\n",
              "      (conv1): Conv2d(256, 512, kernel_size=(3, 3), stride=(2, 2), padding=(1, 1), bias=False)\n",
              "      (bn1): BatchNorm2d(512, eps=1e-05, momentum=0.1, affine=True, track_running_stats=True)\n",
              "      (relu): ReLU(inplace=True)\n",
              "      (conv2): Conv2d(512, 512, kernel_size=(3, 3), stride=(1, 1), padding=(1, 1), bias=False)\n",
              "      (bn2): BatchNorm2d(512, eps=1e-05, momentum=0.1, affine=True, track_running_stats=True)\n",
              "      (downsample): Sequential(\n",
              "        (0): Conv2d(256, 512, kernel_size=(1, 1), stride=(2, 2), bias=False)\n",
              "        (1): BatchNorm2d(512, eps=1e-05, momentum=0.1, affine=True, track_running_stats=True)\n",
              "      )\n",
              "    )\n",
              "    (1): BasicBlock(\n",
              "      (conv1): Conv2d(512, 512, kernel_size=(3, 3), stride=(1, 1), padding=(1, 1), bias=False)\n",
              "      (bn1): BatchNorm2d(512, eps=1e-05, momentum=0.1, affine=True, track_running_stats=True)\n",
              "      (relu): ReLU(inplace=True)\n",
              "      (conv2): Conv2d(512, 512, kernel_size=(3, 3), stride=(1, 1), padding=(1, 1), bias=False)\n",
              "      (bn2): BatchNorm2d(512, eps=1e-05, momentum=0.1, affine=True, track_running_stats=True)\n",
              "    )\n",
              "  )\n",
              "  (avgpool): AdaptiveAvgPool2d(output_size=(1, 1))\n",
              "  (fc): Linear(in_features=512, out_features=1000, bias=True)\n",
              ")"
            ]
          },
          "metadata": {},
          "execution_count": 153
        }
      ]
    },
    {
      "cell_type": "code",
      "source": [
        "# замораживаем все слои\n",
        "for name, param in mod_resn18.named_parameters():\n",
        " param.requires_grad = False"
      ],
      "metadata": {
        "id": "bdy2xKIi6ARH"
      },
      "execution_count": null,
      "outputs": []
    },
    {
      "cell_type": "code",
      "source": [
        "# меняем полносвязные слои и назначаем 2 признака\n",
        "mod_resn18.fc = nn.Sequential(nn.Linear(mod_resn18.fc.in_features,128),\n",
        "                              nn.ReLU(),\n",
        "#                              nn.Dropout(),\n",
        "                              nn.Linear(128,2))"
      ],
      "metadata": {
        "id": "fLZmgME_6ARH"
      },
      "execution_count": null,
      "outputs": []
    },
    {
      "cell_type": "code",
      "source": [
        "# размораживаем нижние слои: layer4 и fc\n",
        "\n",
        "unfreeze_layers = [mod_resn18.layer4, mod_resn18.fc]\n",
        "for layer in unfreeze_layers:\n",
        " for param in layer.parameters():\n",
        "  param.requires_grad = True"
      ],
      "metadata": {
        "id": "cbvJn_1-6ARH"
      },
      "execution_count": null,
      "outputs": []
    },
    {
      "cell_type": "code",
      "source": [
        "dev = torch.device(\"cuda\") if torch.cuda.is_available() else torch.device(\"cpu\")"
      ],
      "metadata": {
        "id": "69jcKTRmyX33"
      },
      "execution_count": null,
      "outputs": []
    },
    {
      "cell_type": "code",
      "source": [
        "dev"
      ],
      "metadata": {
        "colab": {
          "base_uri": "https://localhost:8080/"
        },
        "outputId": "9a4dd799-0a08-4f7c-df73-5888f12713aa",
        "id": "m9UXebrCyX38"
      },
      "execution_count": null,
      "outputs": [
        {
          "output_type": "execute_result",
          "data": {
            "text/plain": [
              "device(type='cpu')"
            ]
          },
          "metadata": {},
          "execution_count": 158
        }
      ]
    },
    {
      "cell_type": "code",
      "source": [
        "mod_resn18 = mod_resn18.to(dev) # отправляем данные на GPU"
      ],
      "metadata": {
        "id": "laTWcwkgyX38"
      },
      "execution_count": null,
      "outputs": []
    },
    {
      "cell_type": "code",
      "execution_count": null,
      "metadata": {
        "ExecuteTime": {
          "end_time": "2019-11-18T16:20:21.306023Z",
          "start_time": "2019-11-18T16:20:21.293827Z"
        },
        "id": "y5g71NeYyX38"
      },
      "outputs": [],
      "source": [
        "# считает accuracy - берет данные прогоняет через модель и дает долю правильных ответов\n",
        "def evaluate_accuracy(data_iter, net): #data_iter - картинка в виде тензора+метка, net-модель\n",
        "    acc_sum, n = torch.Tensor([0]), 0 # acc_sum-тензор = 0, n=0 (счетчик типа)\n",
        "    net.eval()\n",
        "    for X, y in data_iter:\n",
        "        X, y = X.to(dev), y.to(dev) # отправляем данные на GPU\n",
        "        acc_sum += (net(X).argmax(axis=1) == y).sum()\n",
        "        # acc_sum - доля правильных ответов\n",
        "        n += y.shape[0]\n",
        "    return acc_sum.item() / n"
      ]
    },
    {
      "cell_type": "code",
      "execution_count": null,
      "metadata": {
        "ExecuteTime": {
          "end_time": "2019-11-18T16:20:21.693926Z",
          "start_time": "2019-11-18T16:20:21.678441Z"
        },
        "id": "rUJqaR-ryX38"
      },
      "outputs": [],
      "source": [
        "def train(net, train_iter, test_iter, trainer, num_epochs):\n",
        "    loss = nn.CrossEntropyLoss(reduction='sum')\n",
        "    net.train()\n",
        "    for epoch in range(num_epochs):\n",
        "        train_l_sum, train_acc_sum, n, start = 0.0, 0.0, 0, time.time()\n",
        "        for X, y in train_iter:\n",
        "            trainer.zero_grad()\n",
        "            X, y = X.to(dev), y.to(dev) # отправляем данные на GPU\n",
        "            y_hat = net(X)\n",
        "            l = loss(y_hat, y)\n",
        "            l.backward()\n",
        "            trainer.step()\n",
        "            train_l_sum += l.item() # накапливаем характеристики\n",
        "            train_acc_sum += (y_hat.argmax(axis=1) == y).sum().item() # накапливаем характеристики\n",
        "            n += y.shape[0] # накапливаем характеристики\n",
        "            print(\"Step. time since epoch: {:.3f}. Train acc: {:.3f}. Train Loss: {:.3f}\".format(time.time() -  start,\n",
        "                (y_hat.argmax(axis=1) == y).sum().item() / y.shape[0], l.item()))\n",
        "        test_acc = evaluate_accuracy(test_iter, net)\n",
        "        print('epoch %d, loss %.4f, train acc %.3f, test acc %.3f, '\n",
        "              'time %.1f sec'\n",
        "              % (epoch + 1, train_l_sum / n, train_acc_sum / n, test_acc,\n",
        "                 time.time() - start))"
      ]
    },
    {
      "cell_type": "code",
      "source": [
        "lr, num_epochs = 0.001, 5\n",
        "trainer = torch.optim.SGD(mod_resn18.parameters(), lr=lr)\n",
        "train(mod_resn18, train_iter, test_iter, trainer, num_epochs)"
      ],
      "metadata": {
        "colab": {
          "base_uri": "https://localhost:8080/"
        },
        "outputId": "60da9261-4903-40a0-8c24-a02d60d83b84",
        "id": "Z6eLkvT_yX38"
      },
      "execution_count": null,
      "outputs": [
        {
          "output_type": "stream",
          "name": "stdout",
          "text": [
            "Step. time since epoch: 4.094. Train acc: 0.031. Train Loss: 28.205\n",
            "Step. time since epoch: 8.060. Train acc: 1.000. Train Loss: 1.818\n",
            "Step. time since epoch: 12.062. Train acc: 1.000. Train Loss: 1.304\n",
            "Step. time since epoch: 16.047. Train acc: 0.844. Train Loss: 16.667\n",
            "Step. time since epoch: 20.053. Train acc: 0.000. Train Loss: 90.983\n",
            "Step. time since epoch: 24.024. Train acc: 1.000. Train Loss: 10.664\n",
            "Step. time since epoch: 28.020. Train acc: 1.000. Train Loss: 6.381\n",
            "Step. time since epoch: 30.558. Train acc: 1.000. Train Loss: 2.400\n",
            "epoch 1, loss 0.6493, train acc 0.721, test acc 0.542, time 44.4 sec\n",
            "Step. time since epoch: 3.709. Train acc: 0.000. Train Loss: 54.764\n",
            "Step. time since epoch: 7.373. Train acc: 1.000. Train Loss: 21.506\n",
            "Step. time since epoch: 11.042. Train acc: 1.000. Train Loss: 18.570\n",
            "Step. time since epoch: 14.735. Train acc: 0.844. Train Loss: 17.964\n",
            "Step. time since epoch: 18.408. Train acc: 0.000. Train Loss: 36.868\n",
            "Step. time since epoch: 22.077. Train acc: 0.000. Train Loss: 23.616\n",
            "Step. time since epoch: 25.738. Train acc: 0.844. Train Loss: 21.911\n",
            "Step. time since epoch: 28.086. Train acc: 1.000. Train Loss: 12.791\n",
            "epoch 2, loss 0.8524, train acc 0.566, test acc 0.542, time 40.6 sec\n",
            "Step. time since epoch: 3.686. Train acc: 0.000. Train Loss: 25.150\n",
            "Step. time since epoch: 7.376. Train acc: 0.031. Train Loss: 22.683\n",
            "Step. time since epoch: 11.035. Train acc: 0.938. Train Loss: 21.489\n",
            "Step. time since epoch: 14.728. Train acc: 0.844. Train Loss: 20.843\n",
            "Step. time since epoch: 18.397. Train acc: 0.000. Train Loss: 25.116\n",
            "Step. time since epoch: 22.059. Train acc: 0.062. Train Loss: 23.027\n",
            "Step. time since epoch: 25.740. Train acc: 0.750. Train Loss: 21.829\n",
            "Step. time since epoch: 28.100. Train acc: 1.000. Train Loss: 12.995\n",
            "epoch 3, loss 0.7096, train acc 0.426, test acc 0.542, time 40.6 sec\n",
            "Step. time since epoch: 3.650. Train acc: 0.000. Train Loss: 24.193\n",
            "Step. time since epoch: 7.302. Train acc: 0.062. Train Loss: 22.661\n",
            "Step. time since epoch: 10.960. Train acc: 0.875. Train Loss: 21.640\n",
            "Step. time since epoch: 14.638. Train acc: 0.844. Train Loss: 20.915\n",
            "Step. time since epoch: 18.321. Train acc: 0.000. Train Loss: 24.625\n",
            "Step. time since epoch: 21.987. Train acc: 0.094. Train Loss: 22.832\n",
            "Step. time since epoch: 25.697. Train acc: 0.875. Train Loss: 21.810\n",
            "Step. time since epoch: 28.011. Train acc: 1.000. Train Loss: 13.046\n",
            "epoch 4, loss 0.7038, train acc 0.443, test acc 0.542, time 40.6 sec\n",
            "Step. time since epoch: 3.710. Train acc: 0.000. Train Loss: 24.053\n",
            "Step. time since epoch: 7.342. Train acc: 0.156. Train Loss: 22.574\n",
            "Step. time since epoch: 11.000. Train acc: 0.844. Train Loss: 21.585\n",
            "Step. time since epoch: 14.681. Train acc: 0.844. Train Loss: 20.950\n",
            "Step. time since epoch: 18.343. Train acc: 0.000. Train Loss: 24.469\n",
            "Step. time since epoch: 22.007. Train acc: 0.156. Train Loss: 22.792\n",
            "Step. time since epoch: 25.714. Train acc: 0.781. Train Loss: 21.775\n",
            "Step. time since epoch: 28.036. Train acc: 1.000. Train Loss: 12.984\n",
            "epoch 5, loss 0.7016, train acc 0.447, test acc 0.542, time 40.6 sec\n"
          ]
        }
      ]
    },
    {
      "cell_type": "code",
      "source": [],
      "metadata": {
        "id": "nHQ-DCwYmodE"
      },
      "execution_count": null,
      "outputs": []
    },
    {
      "cell_type": "markdown",
      "source": [
        "#**VGG16(pretrained=True) + аугментация**"
      ],
      "metadata": {
        "id": "LxllqlA81YCr"
      }
    },
    {
      "cell_type": "code",
      "source": [
        "augs = tv.transforms.Compose([\n",
        "    tv.transforms.RandomHorizontalFlip(),\n",
        "    tv.transforms.RandomVerticalFlip(),\n",
        "    tv.transforms.RandomResizedCrop((28, 28), scale=(0.1, 1), ratio=(0.5, 2)),\n",
        "#    tv.transforms.Grayscale(3),\n",
        "    tv.transforms.Resize((224,224)),\n",
        "    tv.transforms.ToTensor()\n",
        "    ])"
      ],
      "metadata": {
        "id": "IPfwtGbH1YCz"
      },
      "execution_count": null,
      "outputs": []
    },
    {
      "cell_type": "code",
      "source": [
        "BATCH_SIZE = 32"
      ],
      "metadata": {
        "id": "uYEFleSP1YCz"
      },
      "execution_count": null,
      "outputs": []
    },
    {
      "cell_type": "code",
      "source": [
        "train_data = tv.datasets.ImageFolder(root=train_data_path,transform=augs)\n",
        "val_data = tv.datasets.ImageFolder(root=val_data_path,transform=augs)\n",
        "train_iter = torch.utils.data.DataLoader(train_data, batch_size=BATCH_SIZE)\n",
        "test_iter = torch.utils.data.DataLoader(val_data, batch_size=BATCH_SIZE)"
      ],
      "metadata": {
        "id": "4pKzU7S81YCz"
      },
      "execution_count": null,
      "outputs": []
    },
    {
      "cell_type": "code",
      "source": [
        "val_data[0][0].shape"
      ],
      "metadata": {
        "colab": {
          "base_uri": "https://localhost:8080/"
        },
        "outputId": "fb45a2b8-0df5-41ee-f1af-cb1ac961071c",
        "id": "rih_rjI41YCz"
      },
      "execution_count": null,
      "outputs": [
        {
          "output_type": "execute_result",
          "data": {
            "text/plain": [
              "torch.Size([3, 224, 224])"
            ]
          },
          "metadata": {},
          "execution_count": 166
        }
      ]
    },
    {
      "cell_type": "code",
      "source": [
        "plt.imshow(train_data[30][0][0])\n",
        "plt.show"
      ],
      "metadata": {
        "colab": {
          "base_uri": "https://localhost:8080/",
          "height": 287
        },
        "outputId": "7adb3bf1-de67-4892-8c0b-83da5e30167b",
        "id": "V-y0cqtw1YCz"
      },
      "execution_count": null,
      "outputs": [
        {
          "output_type": "execute_result",
          "data": {
            "text/plain": [
              "<function matplotlib.pyplot.show(*args, **kw)>"
            ]
          },
          "metadata": {},
          "execution_count": 168
        },
        {
          "output_type": "display_data",
          "data": {
            "text/plain": [
              "<Figure size 432x288 with 1 Axes>"
            ],
            "image/png": "[encoded data removed]"
          },
          "metadata": {
            "needs_background": "light"
          }
        }
      ]
    },
    {
      "cell_type": "code",
      "source": [
        "mod_VGG16 = tv.models.vgg16(pretrained=True)"
      ],
      "metadata": {
        "id": "sSV9drRU1trf"
      },
      "execution_count": null,
      "outputs": []
    },
    {
      "cell_type": "code",
      "source": [
        "mod_VGG16"
      ],
      "metadata": {
        "colab": {
          "base_uri": "https://localhost:8080/"
        },
        "outputId": "87125595-d767-433a-d0c6-1ab61f79bc7c",
        "id": "9cEOwBuj1trg"
      },
      "execution_count": null,
      "outputs": [
        {
          "output_type": "execute_result",
          "data": {
            "text/plain": [
              "VGG(\n",
              "  (features): Sequential(\n",
              "    (0): Conv2d(3, 64, kernel_size=(3, 3), stride=(1, 1), padding=(1, 1))\n",
              "    (1): ReLU(inplace=True)\n",
              "    (2): Conv2d(64, 64, kernel_size=(3, 3), stride=(1, 1), padding=(1, 1))\n",
              "    (3): ReLU(inplace=True)\n",
              "    (4): MaxPool2d(kernel_size=2, stride=2, padding=0, dilation=1, ceil_mode=False)\n",
              "    (5): Conv2d(64, 128, kernel_size=(3, 3), stride=(1, 1), padding=(1, 1))\n",
              "    (6): ReLU(inplace=True)\n",
              "    (7): Conv2d(128, 128, kernel_size=(3, 3), stride=(1, 1), padding=(1, 1))\n",
              "    (8): ReLU(inplace=True)\n",
              "    (9): MaxPool2d(kernel_size=2, stride=2, padding=0, dilation=1, ceil_mode=False)\n",
              "    (10): Conv2d(128, 256, kernel_size=(3, 3), stride=(1, 1), padding=(1, 1))\n",
              "    (11): ReLU(inplace=True)\n",
              "    (12): Conv2d(256, 256, kernel_size=(3, 3), stride=(1, 1), padding=(1, 1))\n",
              "    (13): ReLU(inplace=True)\n",
              "    (14): Conv2d(256, 256, kernel_size=(3, 3), stride=(1, 1), padding=(1, 1))\n",
              "    (15): ReLU(inplace=True)\n",
              "    (16): MaxPool2d(kernel_size=2, stride=2, padding=0, dilation=1, ceil_mode=False)\n",
              "    (17): Conv2d(256, 512, kernel_size=(3, 3), stride=(1, 1), padding=(1, 1))\n",
              "    (18): ReLU(inplace=True)\n",
              "    (19): Conv2d(512, 512, kernel_size=(3, 3), stride=(1, 1), padding=(1, 1))\n",
              "    (20): ReLU(inplace=True)\n",
              "    (21): Conv2d(512, 512, kernel_size=(3, 3), stride=(1, 1), padding=(1, 1))\n",
              "    (22): ReLU(inplace=True)\n",
              "    (23): MaxPool2d(kernel_size=2, stride=2, padding=0, dilation=1, ceil_mode=False)\n",
              "    (24): Conv2d(512, 512, kernel_size=(3, 3), stride=(1, 1), padding=(1, 1))\n",
              "    (25): ReLU(inplace=True)\n",
              "    (26): Conv2d(512, 512, kernel_size=(3, 3), stride=(1, 1), padding=(1, 1))\n",
              "    (27): ReLU(inplace=True)\n",
              "    (28): Conv2d(512, 512, kernel_size=(3, 3), stride=(1, 1), padding=(1, 1))\n",
              "    (29): ReLU(inplace=True)\n",
              "    (30): MaxPool2d(kernel_size=2, stride=2, padding=0, dilation=1, ceil_mode=False)\n",
              "  )\n",
              "  (avgpool): AdaptiveAvgPool2d(output_size=(7, 7))\n",
              "  (classifier): Sequential(\n",
              "    (0): Linear(in_features=25088, out_features=4096, bias=True)\n",
              "    (1): ReLU(inplace=True)\n",
              "    (2): Dropout(p=0.5, inplace=False)\n",
              "    (3): Linear(in_features=4096, out_features=4096, bias=True)\n",
              "    (4): ReLU(inplace=True)\n",
              "    (5): Dropout(p=0.5, inplace=False)\n",
              "    (6): Linear(in_features=4096, out_features=1000, bias=True)\n",
              "  )\n",
              ")"
            ]
          },
          "metadata": {},
          "execution_count": 182
        }
      ]
    },
    {
      "cell_type": "code",
      "source": [
        "mod_VGG16.classifier[6]"
      ],
      "metadata": {
        "colab": {
          "base_uri": "https://localhost:8080/"
        },
        "outputId": "9c13aea4-6ed3-45af-daac-c4d2705e7cb0",
        "id": "GTJ2hhy71trh"
      },
      "execution_count": null,
      "outputs": [
        {
          "output_type": "execute_result",
          "data": {
            "text/plain": [
              "Linear(in_features=4096, out_features=1000, bias=True)"
            ]
          },
          "metadata": {},
          "execution_count": 183
        }
      ]
    },
    {
      "cell_type": "code",
      "source": [
        "# замораживаем все слои\n",
        "for name, param in mod_VGG16.named_parameters():\n",
        " param.requires_grad = False"
      ],
      "metadata": {
        "id": "Mg31kv-tBIia"
      },
      "execution_count": null,
      "outputs": []
    },
    {
      "cell_type": "code",
      "source": [
        "# меняем полносвязные слои и назначаем 2 признака\n",
        "mod_VGG16.classifier[6] = nn.Linear(mod_VGG16.classifier[6].in_features,2)"
      ],
      "metadata": {
        "id": "Isg1-yADBIia"
      },
      "execution_count": null,
      "outputs": []
    },
    {
      "cell_type": "code",
      "source": [
        "# размораживаем нижние слой: classifier\n",
        "for name, param in mod_VGG16.classifier.named_parameters():\n",
        " param.requires_grad = True"
      ],
      "metadata": {
        "id": "EbdkfUvBBIia"
      },
      "execution_count": null,
      "outputs": []
    },
    {
      "cell_type": "code",
      "source": [
        "dev = torch.device(\"cuda\") if torch.cuda.is_available() else torch.device(\"cpu\")"
      ],
      "metadata": {
        "id": "P-PGgA5y1trj"
      },
      "execution_count": null,
      "outputs": []
    },
    {
      "cell_type": "code",
      "source": [
        "dev"
      ],
      "metadata": {
        "colab": {
          "base_uri": "https://localhost:8080/"
        },
        "outputId": "4f15b4cf-9283-4ae3-9013-4378a6070dd9",
        "id": "Avn4M3e51trj"
      },
      "execution_count": null,
      "outputs": [
        {
          "output_type": "execute_result",
          "data": {
            "text/plain": [
              "device(type='cpu')"
            ]
          },
          "metadata": {},
          "execution_count": 188
        }
      ]
    },
    {
      "cell_type": "code",
      "source": [
        "mod_VGG16 = mod_VGG16.to(dev) # отправляем данные на GPU"
      ],
      "metadata": {
        "id": "DC8jaoDu1trj"
      },
      "execution_count": null,
      "outputs": []
    },
    {
      "cell_type": "code",
      "source": [],
      "metadata": {
        "id": "3CgpQFT_1trj"
      },
      "execution_count": null,
      "outputs": []
    },
    {
      "cell_type": "code",
      "source": [
        "lr, num_epochs = 0.001, 5\n",
        "trainer = torch.optim.SGD(mod_VGG16.parameters(), lr=lr)\n",
        "train(mod_VGG16, train_iter, test_iter, trainer, num_epochs)"
      ],
      "metadata": {
        "colab": {
          "base_uri": "https://localhost:8080/"
        },
        "outputId": "4f69370e-9bfc-4cc1-8268-bdfee19eb73f",
        "id": "GyYFX1nh1trj"
      },
      "execution_count": null,
      "outputs": [
        {
          "output_type": "stream",
          "name": "stdout",
          "text": [
            "Step. time since epoch: 17.835. Train acc: 0.625. Train Loss: 19.287\n",
            "Step. time since epoch: 36.562. Train acc: 1.000. Train Loss: 0.000\n",
            "Step. time since epoch: 53.701. Train acc: 1.000. Train Loss: 0.000\n",
            "Step. time since epoch: 70.792. Train acc: 0.844. Train Loss: 88.549\n",
            "Step. time since epoch: 87.792. Train acc: 0.000. Train Loss: 210.948\n",
            "Step. time since epoch: 104.983. Train acc: 1.000. Train Loss: 1.860\n",
            "Step. time since epoch: 122.022. Train acc: 1.000. Train Loss: 1.408\n",
            "Step. time since epoch: 132.857. Train acc: 1.000. Train Loss: 0.579\n",
            "epoch 1, loss 1.3223, train acc 0.799, test acc 0.542, time 212.7 sec\n",
            "Step. time since epoch: 17.030. Train acc: 0.000. Train Loss: 100.207\n",
            "Step. time since epoch: 34.069. Train acc: 0.469. Train Loss: 22.726\n",
            "Step. time since epoch: 51.157. Train acc: 0.688. Train Loss: 21.047\n",
            "Step. time since epoch: 68.343. Train acc: 0.781. Train Loss: 19.148\n",
            "Step. time since epoch: 85.410. Train acc: 0.125. Train Loss: 26.564\n",
            "Step. time since epoch: 102.434. Train acc: 0.438. Train Loss: 21.936\n",
            "Step. time since epoch: 119.644. Train acc: 0.688. Train Loss: 20.883\n",
            "Step. time since epoch: 130.418. Train acc: 0.900. Train Loss: 11.129\n",
            "epoch 2, loss 0.9985, train acc 0.492, test acc 0.680, time 210.0 sec\n",
            "Step. time since epoch: 16.963. Train acc: 0.531. Train Loss: 23.306\n",
            "Step. time since epoch: 34.101. Train acc: 0.625. Train Loss: 21.292\n",
            "Step. time since epoch: 51.037. Train acc: 0.750. Train Loss: 19.156\n",
            "Step. time since epoch: 68.045. Train acc: 0.781. Train Loss: 18.286\n",
            "Step. time since epoch: 85.027. Train acc: 0.250. Train Loss: 26.797\n",
            "Step. time since epoch: 102.107. Train acc: 0.438. Train Loss: 22.534\n",
            "Step. time since epoch: 119.075. Train acc: 0.688. Train Loss: 20.182\n",
            "Step. time since epoch: 129.824. Train acc: 0.900. Train Loss: 10.538\n",
            "epoch 3, loss 0.6643, train acc 0.607, test acc 0.712, time 209.5 sec\n",
            "Step. time since epoch: 16.982. Train acc: 0.469. Train Loss: 23.641\n",
            "Step. time since epoch: 33.960. Train acc: 0.594. Train Loss: 20.824\n",
            "Step. time since epoch: 50.967. Train acc: 0.719. Train Loss: 19.223\n",
            "Step. time since epoch: 68.143. Train acc: 0.844. Train Loss: 16.249\n",
            "Step. time since epoch: 85.142. Train acc: 0.344. Train Loss: 28.582\n",
            "Step. time since epoch: 102.238. Train acc: 0.750. Train Loss: 19.173\n",
            "Step. time since epoch: 119.324. Train acc: 0.781. Train Loss: 19.144\n",
            "Step. time since epoch: 130.205. Train acc: 0.900. Train Loss: 8.893\n",
            "epoch 4, loss 0.6382, train acc 0.664, test acc 0.712, time 209.9 sec\n",
            "Step. time since epoch: 17.064. Train acc: 0.406. Train Loss: 25.962\n",
            "Step. time since epoch: 34.197. Train acc: 0.562. Train Loss: 21.124\n",
            "Step. time since epoch: 51.123. Train acc: 0.812. Train Loss: 17.381\n",
            "Step. time since epoch: 68.204. Train acc: 0.844. Train Loss: 17.526\n",
            "Step. time since epoch: 85.199. Train acc: 0.312. Train Loss: 27.858\n",
            "Step. time since epoch: 102.353. Train acc: 0.719. Train Loss: 18.461\n",
            "Step. time since epoch: 119.366. Train acc: 0.781. Train Loss: 18.388\n",
            "Step. time since epoch: 130.195. Train acc: 0.950. Train Loss: 7.110\n",
            "epoch 5, loss 0.6304, train acc 0.660, test acc 0.667, time 210.0 sec\n"
          ]
        }
      ]
    },
    {
      "cell_type": "markdown",
      "source": [
        "#**ИТОГО:**"
      ],
      "metadata": {
        "id": "5cajekle4mL-"
      }
    },
    {
      "cell_type": "markdown",
      "source": [
        "**accuracy тестового набора:**"
      ],
      "metadata": {
        "id": "yqUjbpm542k7"
      }
    },
    {
      "cell_type": "code",
      "source": [
        "import pandas as pd"
      ],
      "metadata": {
        "id": "0UBVcRZy53wT"
      },
      "execution_count": null,
      "outputs": []
    },
    {
      "cell_type": "code",
      "source": [
        "data = {'retrained=False':[0.542, 0.542], 'pretrained=True':[0.673, 0.895], '+ Аугментация':[0.542, 0.667]}\n",
        "df = pd.DataFrame(data, index =['ResNet18', 'VGG16'])"
      ],
      "metadata": {
        "id": "2fLSpEFW5HWH"
      },
      "execution_count": null,
      "outputs": []
    },
    {
      "cell_type": "code",
      "source": [
        "df"
      ],
      "metadata": {
        "colab": {
          "base_uri": "https://localhost:8080/",
          "height": 112
        },
        "id": "nzOSWj9P5HSu",
        "outputId": "77a65cfb-fe82-4813-815f-7bc150b27324"
      },
      "execution_count": null,
      "outputs": [
        {
          "output_type": "execute_result",
          "data": {
            "text/plain": [
              "          retrained=False  pretrained=True  + Аугментация\n",
              "ResNet18            0.542            0.673          0.542\n",
              "VGG16               0.542            0.895          0.667"
            ],
            "text/html": [
              "\n",
              "  <div id=\"df-f8962256-1c0b-43c5-915b-b54adedc42e3\">\n",
              "    <div class=\"colab-df-container\">\n",
              "      <div>\n",
              "<style scoped>\n",
              "    .dataframe tbody tr th:only-of-type {\n",
              "        vertical-align: middle;\n",
              "    }\n",
              "\n",
              "    .dataframe tbody tr th {\n",
              "        vertical-align: top;\n",
              "    }\n",
              "\n",
              "    .dataframe thead th {\n",
              "        text-align: right;\n",
              "    }\n",
              "</style>\n",
              "<table border=\"1\" class=\"dataframe\">\n",
              "  <thead>\n",
              "    <tr style=\"text-align: right;\">\n",
              "      <th></th>\n",
              "      <th>retrained=False</th>\n",
              "      <th>pretrained=True</th>\n",
              "      <th>+ Аугментация</th>\n",
              "    </tr>\n",
              "  </thead>\n",
              "  <tbody>\n",
              "    <tr>\n",
              "      <th>ResNet18</th>\n",
              "      <td>0.542</td>\n",
              "      <td>0.673</td>\n",
              "      <td>0.542</td>\n",
              "    </tr>\n",
              "    <tr>\n",
              "      <th>VGG16</th>\n",
              "      <td>0.542</td>\n",
              "      <td>0.895</td>\n",
              "      <td>0.667</td>\n",
              "    </tr>\n",
              "  </tbody>\n",
              "</table>\n",
              "</div>\n",
              "      <button class=\"colab-df-convert\" onclick=\"convertToInteractive('df-f8962256-1c0b-43c5-915b-b54adedc42e3')\"\n",
              "              title=\"Convert this dataframe to an interactive table.\"\n",
              "              style=\"display:none;\">\n",
              "        \n",
              "  <svg xmlns=\"http://www.w3.org/2000/svg\" height=\"24px\"viewBox=\"0 0 24 24\"\n",
              "       width=\"24px\">\n",
              "    <path d=\"M0 0h24v24H0V0z\" fill=\"none\"/>\n",
              "    <path d=\"M18.56 5.44l.94 2.06.94-2.06 2.06-.94-2.06-.94-.94-2.06-.94 2.06-2.06.94zm-11 1L8.5 8.5l.94-2.06 2.06-.94-2.06-.94L8.5 2.5l-.94 2.06-2.06.94zm10 10l.94 2.06.94-2.06 2.06-.94-2.06-.94-.94-2.06-.94 2.06-2.06.94z\"/><path d=\"M17.41 7.96l-1.37-1.37c-.4-.4-.92-.59-1.43-.59-.52 0-1.04.2-1.43.59L10.3 9.45l-7.72 7.72c-.78.78-.78 2.05 0 2.83L4 21.41c.39.39.9.59 1.41.59.51 0 1.02-.2 1.41-.59l7.78-7.78 2.81-2.81c.8-.78.8-2.07 0-2.86zM5.41 20L4 18.59l7.72-7.72 1.47 1.35L5.41 20z\"/>\n",
              "  </svg>\n",
              "      </button>\n",
              "      \n",
              "  <style>\n",
              "    .colab-df-container {\n",
              "      display:flex;\n",
              "      flex-wrap:wrap;\n",
              "      gap: 12px;\n",
              "    }\n",
              "\n",
              "    .colab-df-convert {\n",
              "      background-color: #E8F0FE;\n",
              "      border: none;\n",
              "      border-radius: 50%;\n",
              "      cursor: pointer;\n",
              "      display: none;\n",
              "      fill: #1967D2;\n",
              "      height: 32px;\n",
              "      padding: 0 0 0 0;\n",
              "      width: 32px;\n",
              "    }\n",
              "\n",
              "    .colab-df-convert:hover {\n",
              "      background-color: #E2EBFA;\n",
              "      box-shadow: 0px 1px 2px rgba(60, 64, 67, 0.3), 0px 1px 3px 1px rgba(60, 64, 67, 0.15);\n",
              "      fill: #174EA6;\n",
              "    }\n",
              "\n",
              "    [theme=dark] .colab-df-convert {\n",
              "      background-color: #3B4455;\n",
              "      fill: #D2E3FC;\n",
              "    }\n",
              "\n",
              "    [theme=dark] .colab-df-convert:hover {\n",
              "      background-color: #434B5C;\n",
              "      box-shadow: 0px 1px 3px 1px rgba(0, 0, 0, 0.15);\n",
              "      filter: drop-shadow(0px 1px 2px rgba(0, 0, 0, 0.3));\n",
              "      fill: #FFFFFF;\n",
              "    }\n",
              "  </style>\n",
              "\n",
              "      <script>\n",
              "        const buttonEl =\n",
              "          document.querySelector('#df-f8962256-1c0b-43c5-915b-b54adedc42e3 button.colab-df-convert');\n",
              "        buttonEl.style.display =\n",
              "          google.colab.kernel.accessAllowed ? 'block' : 'none';\n",
              "\n",
              "        async function convertToInteractive(key) {\n",
              "          const element = document.querySelector('#df-f8962256-1c0b-43c5-915b-b54adedc42e3');\n",
              "          const dataTable =\n",
              "            await google.colab.kernel.invokeFunction('convertToInteractive',\n",
              "                                                     [key], {});\n",
              "          if (!dataTable) return;\n",
              "\n",
              "          const docLinkHtml = 'Like what you see? Visit the ' +\n",
              "            '<a target=\"_blank\" href=https://colab.research.google.com/notebooks/data_table.ipynb>data table notebook</a>'\n",
              "            + ' to learn more about interactive tables.';\n",
              "          element.innerHTML = '';\n",
              "          dataTable['output_type'] = 'display_data';\n",
              "          await google.colab.output.renderOutput(dataTable, element);\n",
              "          const docLink = document.createElement('div');\n",
              "          docLink.innerHTML = docLinkHtml;\n",
              "          element.appendChild(docLink);\n",
              "        }\n",
              "      </script>\n",
              "    </div>\n",
              "  </div>\n",
              "  "
            ]
          },
          "metadata": {},
          "execution_count": 193
        }
      ]
    },
    {
      "cell_type": "markdown",
      "source": [
        "# **ДОПОЛНИТЕЛЬНОЕ ЗАДАНИЕ:**"
      ],
      "metadata": {
        "id": "GbLSk6K1Ebyb"
      }
    },
    {
      "cell_type": "markdown",
      "source": [
        "Примените Fine-tuning ResNet 18 к Fashion Mnist. Удалось ли увидеть резкое увеличение качества?\n",
        "\n"
      ],
      "metadata": {
        "id": "nHc9FlpMEjIR"
      }
    },
    {
      "cell_type": "code",
      "source": [
        "transform = tv.transforms.Compose([\n",
        "#              tv.transforms.Grayscale(3),\n",
        "              tv.transforms.Resize((224,224)),\n",
        "              tv.transforms.ToTensor()\n",
        "])"
      ],
      "metadata": {
        "id": "izdkU3lXFA7F"
      },
      "execution_count": null,
      "outputs": []
    },
    {
      "cell_type": "code",
      "execution_count": null,
      "metadata": {
        "ExecuteTime": {
          "end_time": "2019-11-11T21:16:32.441551Z",
          "start_time": "2019-11-11T21:16:32.438570Z"
        },
        "id": "WmltoWM7M-Lj"
      },
      "outputs": [],
      "source": [
        "BATCH_SIZE=256"
      ]
    },
    {
      "cell_type": "code",
      "execution_count": null,
      "metadata": {
        "ExecuteTime": {
          "end_time": "2019-11-11T21:23:40.230893Z",
          "start_time": "2019-11-11T21:23:40.189035Z"
        },
        "id": "sjOyLCPqM-Lj"
      },
      "outputs": [],
      "source": [
        "train_dataset = tv.datasets.FashionMNIST('.', train=True, transform=transform, download=True)\n",
        "test_dataset = tv.datasets.FashionMNIST('.', train=False, transform=transform, download=True)\n",
        "train_iter = torch.utils.data.DataLoader(train_dataset, batch_size=BATCH_SIZE)\n",
        "test_iter = torch.utils.data.DataLoader(test_dataset, batch_size=BATCH_SIZE)"
      ]
    },
    {
      "cell_type": "code",
      "source": [
        "train_dataset[0][0].shape"
      ],
      "metadata": {
        "colab": {
          "base_uri": "https://localhost:8080/"
        },
        "id": "_dgMQvGjFT2P",
        "outputId": "7068e027-3f9b-4309-f572-c4a7232fb50a"
      },
      "execution_count": null,
      "outputs": [
        {
          "output_type": "execute_result",
          "data": {
            "text/plain": [
              "torch.Size([1, 224, 224])"
            ]
          },
          "metadata": {},
          "execution_count": 207
        }
      ]
    },
    {
      "cell_type": "code",
      "execution_count": null,
      "metadata": {
        "ExecuteTime": {
          "end_time": "2019-11-11T21:23:40.795687Z",
          "start_time": "2019-11-11T21:23:40.672226Z"
        },
        "scrolled": true,
        "id": "NnbfcVTfM-Lk",
        "outputId": "068e0184-aa86-4d57-98b4-c97b41c78681",
        "colab": {
          "base_uri": "https://localhost:8080/",
          "height": 287
        }
      },
      "outputs": [
        {
          "output_type": "execute_result",
          "data": {
            "text/plain": [
              "<matplotlib.image.AxesImage at 0x7f320b8225e0>"
            ]
          },
          "metadata": {},
          "execution_count": 208
        },
        {
          "output_type": "display_data",
          "data": {
            "text/plain": [
              "<Figure size 432x288 with 1 Axes>"
            ],
            "image/png": "[encoded data removed]"
          },
          "metadata": {
            "needs_background": "light"
          }
        }
      ],
      "source": [
        "plt.imshow(train_dataset[15][0][0], cmap='gray')"
      ]
    },
    {
      "cell_type": "code",
      "source": [
        "mod_resn18 = tv.models.resnet18(pretrained=True)"
      ],
      "metadata": {
        "colab": {
          "base_uri": "https://localhost:8080/"
        },
        "outputId": "666baf8a-fe70-4b1b-8704-0dab35f571f1",
        "id": "0KrjPspRGPCn"
      },
      "execution_count": null,
      "outputs": [
        {
          "output_type": "stream",
          "name": "stderr",
          "text": [
            "/usr/local/lib/python3.8/dist-packages/torchvision/models/_utils.py:208: UserWarning: The parameter 'pretrained' is deprecated since 0.13 and may be removed in the future, please use 'weights' instead.\n",
            "  warnings.warn(\n",
            "/usr/local/lib/python3.8/dist-packages/torchvision/models/_utils.py:223: UserWarning: Arguments other than a weight enum or `None` for 'weights' are deprecated since 0.13 and may be removed in the future. The current behavior is equivalent to passing `weights=ResNet18_Weights.IMAGENET1K_V1`. You can also use `weights=ResNet18_Weights.DEFAULT` to get the most up-to-date weights.\n",
            "  warnings.warn(msg)\n"
          ]
        }
      ]
    },
    {
      "cell_type": "code",
      "source": [
        "mod_resn18"
      ],
      "metadata": {
        "colab": {
          "base_uri": "https://localhost:8080/"
        },
        "outputId": "bb696e8d-55d2-4563-aff5-f5465b8610d2",
        "id": "wEAcda6KGPCo"
      },
      "execution_count": null,
      "outputs": [
        {
          "output_type": "execute_result",
          "data": {
            "text/plain": [
              "ResNet(\n",
              "  (conv1): Conv2d(1, 64, kernel_size=(7, 7), stride=(2, 2), padding=(3, 3), bias=False)\n",
              "  (bn1): BatchNorm2d(64, eps=1e-05, momentum=0.1, affine=True, track_running_stats=True)\n",
              "  (relu): ReLU(inplace=True)\n",
              "  (maxpool): MaxPool2d(kernel_size=3, stride=2, padding=1, dilation=1, ceil_mode=False)\n",
              "  (layer1): Sequential(\n",
              "    (0): BasicBlock(\n",
              "      (conv1): Conv2d(64, 64, kernel_size=(3, 3), stride=(1, 1), padding=(1, 1), bias=False)\n",
              "      (bn1): BatchNorm2d(64, eps=1e-05, momentum=0.1, affine=True, track_running_stats=True)\n",
              "      (relu): ReLU(inplace=True)\n",
              "      (conv2): Conv2d(64, 64, kernel_size=(3, 3), stride=(1, 1), padding=(1, 1), bias=False)\n",
              "      (bn2): BatchNorm2d(64, eps=1e-05, momentum=0.1, affine=True, track_running_stats=True)\n",
              "    )\n",
              "    (1): BasicBlock(\n",
              "      (conv1): Conv2d(64, 64, kernel_size=(3, 3), stride=(1, 1), padding=(1, 1), bias=False)\n",
              "      (bn1): BatchNorm2d(64, eps=1e-05, momentum=0.1, affine=True, track_running_stats=True)\n",
              "      (relu): ReLU(inplace=True)\n",
              "      (conv2): Conv2d(64, 64, kernel_size=(3, 3), stride=(1, 1), padding=(1, 1), bias=False)\n",
              "      (bn2): BatchNorm2d(64, eps=1e-05, momentum=0.1, affine=True, track_running_stats=True)\n",
              "    )\n",
              "  )\n",
              "  (layer2): Sequential(\n",
              "    (0): BasicBlock(\n",
              "      (conv1): Conv2d(64, 128, kernel_size=(3, 3), stride=(2, 2), padding=(1, 1), bias=False)\n",
              "      (bn1): BatchNorm2d(128, eps=1e-05, momentum=0.1, affine=True, track_running_stats=True)\n",
              "      (relu): ReLU(inplace=True)\n",
              "      (conv2): Conv2d(128, 128, kernel_size=(3, 3), stride=(1, 1), padding=(1, 1), bias=False)\n",
              "      (bn2): BatchNorm2d(128, eps=1e-05, momentum=0.1, affine=True, track_running_stats=True)\n",
              "      (downsample): Sequential(\n",
              "        (0): Conv2d(64, 128, kernel_size=(1, 1), stride=(2, 2), bias=False)\n",
              "        (1): BatchNorm2d(128, eps=1e-05, momentum=0.1, affine=True, track_running_stats=True)\n",
              "      )\n",
              "    )\n",
              "    (1): BasicBlock(\n",
              "      (conv1): Conv2d(128, 128, kernel_size=(3, 3), stride=(1, 1), padding=(1, 1), bias=False)\n",
              "      (bn1): BatchNorm2d(128, eps=1e-05, momentum=0.1, affine=True, track_running_stats=True)\n",
              "      (relu): ReLU(inplace=True)\n",
              "      (conv2): Conv2d(128, 128, kernel_size=(3, 3), stride=(1, 1), padding=(1, 1), bias=False)\n",
              "      (bn2): BatchNorm2d(128, eps=1e-05, momentum=0.1, affine=True, track_running_stats=True)\n",
              "    )\n",
              "  )\n",
              "  (layer3): Sequential(\n",
              "    (0): BasicBlock(\n",
              "      (conv1): Conv2d(128, 256, kernel_size=(3, 3), stride=(2, 2), padding=(1, 1), bias=False)\n",
              "      (bn1): BatchNorm2d(256, eps=1e-05, momentum=0.1, affine=True, track_running_stats=True)\n",
              "      (relu): ReLU(inplace=True)\n",
              "      (conv2): Conv2d(256, 256, kernel_size=(3, 3), stride=(1, 1), padding=(1, 1), bias=False)\n",
              "      (bn2): BatchNorm2d(256, eps=1e-05, momentum=0.1, affine=True, track_running_stats=True)\n",
              "      (downsample): Sequential(\n",
              "        (0): Conv2d(128, 256, kernel_size=(1, 1), stride=(2, 2), bias=False)\n",
              "        (1): BatchNorm2d(256, eps=1e-05, momentum=0.1, affine=True, track_running_stats=True)\n",
              "      )\n",
              "    )\n",
              "    (1): BasicBlock(\n",
              "      (conv1): Conv2d(256, 256, kernel_size=(3, 3), stride=(1, 1), padding=(1, 1), bias=False)\n",
              "      (bn1): BatchNorm2d(256, eps=1e-05, momentum=0.1, affine=True, track_running_stats=True)\n",
              "      (relu): ReLU(inplace=True)\n",
              "      (conv2): Conv2d(256, 256, kernel_size=(3, 3), stride=(1, 1), padding=(1, 1), bias=False)\n",
              "      (bn2): BatchNorm2d(256, eps=1e-05, momentum=0.1, affine=True, track_running_stats=True)\n",
              "    )\n",
              "  )\n",
              "  (layer4): Sequential(\n",
              "    (0): BasicBlock(\n",
              "      (conv1): Conv2d(256, 512, kernel_size=(3, 3), stride=(2, 2), padding=(1, 1), bias=False)\n",
              "      (bn1): BatchNorm2d(512, eps=1e-05, momentum=0.1, affine=True, track_running_stats=True)\n",
              "      (relu): ReLU(inplace=True)\n",
              "      (conv2): Conv2d(512, 512, kernel_size=(3, 3), stride=(1, 1), padding=(1, 1), bias=False)\n",
              "      (bn2): BatchNorm2d(512, eps=1e-05, momentum=0.1, affine=True, track_running_stats=True)\n",
              "      (downsample): Sequential(\n",
              "        (0): Conv2d(256, 512, kernel_size=(1, 1), stride=(2, 2), bias=False)\n",
              "        (1): BatchNorm2d(512, eps=1e-05, momentum=0.1, affine=True, track_running_stats=True)\n",
              "      )\n",
              "    )\n",
              "    (1): BasicBlock(\n",
              "      (conv1): Conv2d(512, 512, kernel_size=(3, 3), stride=(1, 1), padding=(1, 1), bias=False)\n",
              "      (bn1): BatchNorm2d(512, eps=1e-05, momentum=0.1, affine=True, track_running_stats=True)\n",
              "      (relu): ReLU(inplace=True)\n",
              "      (conv2): Conv2d(512, 512, kernel_size=(3, 3), stride=(1, 1), padding=(1, 1), bias=False)\n",
              "      (bn2): BatchNorm2d(512, eps=1e-05, momentum=0.1, affine=True, track_running_stats=True)\n",
              "    )\n",
              "  )\n",
              "  (avgpool): AdaptiveAvgPool2d(output_size=(1, 1))\n",
              "  (fc): Sequential(\n",
              "    (0): Linear(in_features=512, out_features=128, bias=True)\n",
              "    (1): ReLU()\n",
              "    (2): Dropout(p=0.5, inplace=False)\n",
              "    (3): Linear(in_features=128, out_features=10, bias=True)\n",
              "  )\n",
              ")"
            ]
          },
          "metadata": {},
          "execution_count": 222
        }
      ]
    },
    {
      "cell_type": "code",
      "source": [
        "mod_resn18.conv1 = nn.Conv2d(1, 64, kernel_size=(7, 7), stride=(2, 2), padding=(3, 3), bias=False)"
      ],
      "metadata": {
        "id": "GWQg1OeQHwOp"
      },
      "execution_count": null,
      "outputs": []
    },
    {
      "cell_type": "code",
      "source": [],
      "metadata": {
        "id": "_kSzfsoZHwGh"
      },
      "execution_count": null,
      "outputs": []
    },
    {
      "cell_type": "code",
      "source": [
        "# меняем полносвязные слои и назначаем 10 признаков\n",
        "mod_resn18.fc = nn.Sequential(nn.Linear(mod_resn18.fc.in_features,128),\n",
        "                              nn.ReLU(),\n",
        "                              nn.Dropout(),\n",
        "                              nn.Linear(128,10))"
      ],
      "metadata": {
        "id": "TpsP-iHLGPCo"
      },
      "execution_count": null,
      "outputs": []
    },
    {
      "cell_type": "code",
      "source": [
        "# замораживаем все слои\n",
        "\n",
        "for name, param in mod_resn18.named_parameters():\n",
        " param.requires_grad = False"
      ],
      "metadata": {
        "id": "YarSIsa4cscf"
      },
      "execution_count": null,
      "outputs": []
    },
    {
      "cell_type": "code",
      "source": [
        "# размораживаем нижние слои: layer4 и fc\n",
        "\n",
        "unfreeze_layers = [mod_resn18.layer4, mod_resn18.fc]\n",
        "for layer in unfreeze_layers:\n",
        " for param in layer.parameters():\n",
        "  param.requires_grad = True"
      ],
      "metadata": {
        "id": "8w7KOO4hGPCo"
      },
      "execution_count": null,
      "outputs": []
    },
    {
      "cell_type": "code",
      "source": [
        "dev = torch.device(\"cuda\") if torch.cuda.is_available() else torch.device(\"cpu\")"
      ],
      "metadata": {
        "id": "7jcn94qTGPCo"
      },
      "execution_count": null,
      "outputs": []
    },
    {
      "cell_type": "code",
      "source": [
        "dev"
      ],
      "metadata": {
        "colab": {
          "base_uri": "https://localhost:8080/"
        },
        "outputId": "e3dadee8-3bf0-449c-8111-0fde4f95df7f",
        "id": "KJ1rnMcPGPCo"
      },
      "execution_count": null,
      "outputs": [
        {
          "output_type": "execute_result",
          "data": {
            "text/plain": [
              "device(type='cpu')"
            ]
          },
          "metadata": {},
          "execution_count": 228
        }
      ]
    },
    {
      "cell_type": "code",
      "source": [
        "mod_resn18 = mod_resn18.to(dev) # отправляем данные на GPU"
      ],
      "metadata": {
        "id": "X_nKCEibGPCo"
      },
      "execution_count": null,
      "outputs": []
    },
    {
      "cell_type": "code",
      "execution_count": null,
      "metadata": {
        "ExecuteTime": {
          "end_time": "2019-11-18T16:20:21.306023Z",
          "start_time": "2019-11-18T16:20:21.293827Z"
        },
        "id": "Xu2BSvWGGPCo"
      },
      "outputs": [],
      "source": [
        "# считает accuracy - берет данные прогоняет через модель и дает долю правильных ответов\n",
        "def evaluate_accuracy(data_iter, net): #data_iter - картинка в виде тензора+метка, net-модель\n",
        "    acc_sum, n = torch.Tensor([0]), 0 # acc_sum-тензор = 0, n=0 (счетчик типа)\n",
        "    net.eval()\n",
        "    for X, y in data_iter:\n",
        "        X, y = X.to(dev), y.to(dev) # отправляем данные на GPU\n",
        "        acc_sum += (net(X).argmax(axis=1) == y).sum()\n",
        "        # acc_sum - доля правильных ответов\n",
        "        n += y.shape[0]\n",
        "    return acc_sum.item() / n"
      ]
    },
    {
      "cell_type": "code",
      "execution_count": null,
      "metadata": {
        "ExecuteTime": {
          "end_time": "2019-11-18T16:20:21.693926Z",
          "start_time": "2019-11-18T16:20:21.678441Z"
        },
        "id": "QYDvi72tGPCo"
      },
      "outputs": [],
      "source": [
        "def train(net, train_iter, test_iter, trainer, num_epochs):\n",
        "    loss = nn.CrossEntropyLoss(reduction='sum')\n",
        "    net.train()\n",
        "    for epoch in range(num_epochs):\n",
        "        train_l_sum, train_acc_sum, n, start = 0.0, 0.0, 0, time.time()\n",
        "        for X, y in train_iter:\n",
        "            trainer.zero_grad()\n",
        "            X, y = X.to(dev), y.to(dev) # отправляем данные на GPU\n",
        "            y_hat = net(X)\n",
        "            l = loss(y_hat, y)\n",
        "            l.backward()\n",
        "            trainer.step()\n",
        "            train_l_sum += l.item() # накапливаем характеристики\n",
        "            train_acc_sum += (y_hat.argmax(axis=1) == y).sum().item() # накапливаем характеристики\n",
        "            n += y.shape[0] # накапливаем характеристики\n",
        "            print(\"Step. time since epoch: {:.3f}. Train acc: {:.3f}. Train Loss: {:.3f}\".format(time.time() -  start,\n",
        "                (y_hat.argmax(axis=1) == y).sum().item() / y.shape[0], l.item()))\n",
        "        test_acc = evaluate_accuracy(test_iter, net)\n",
        "        print('epoch %d, loss %.4f, train acc %.3f, test acc %.3f, '\n",
        "              'time %.1f sec'\n",
        "              % (epoch + 1, train_l_sum / n, train_acc_sum / n, test_acc,\n",
        "                 time.time() - start))"
      ]
    },
    {
      "cell_type": "code",
      "source": [
        "lr, num_epochs = 0.001, 5\n",
        "trainer = torch.optim.SGD(mod_resn18.parameters(), lr=lr)\n",
        "train(mod_resn18, train_iter, test_iter, trainer, num_epochs)"
      ],
      "metadata": {
        "id": "YT1byYbOGPCp",
        "colab": {
          "base_uri": "https://localhost:8080/",
          "height": 1000
        },
        "outputId": "4a9be89a-4d54-429d-ecc6-4b2cf58a1374"
      },
      "execution_count": null,
      "outputs": [
        {
          "output_type": "stream",
          "name": "stdout",
          "text": [
            "Step. time since epoch: 31.119. Train acc: 0.082. Train Loss: 606.204\n",
            "Step. time since epoch: 61.087. Train acc: 0.309. Train Loss: 545.575\n",
            "Step. time since epoch: 89.553. Train acc: 0.328. Train Loss: 502.552\n",
            "Step. time since epoch: 118.031. Train acc: 0.328. Train Loss: 463.058\n",
            "Step. time since epoch: 146.385. Train acc: 0.324. Train Loss: 495.973\n",
            "Step. time since epoch: 174.893. Train acc: 0.332. Train Loss: 497.413\n",
            "Step. time since epoch: 203.319. Train acc: 0.391. Train Loss: 422.719\n",
            "Step. time since epoch: 231.917. Train acc: 0.449. Train Loss: 453.849\n",
            "Step. time since epoch: 260.421. Train acc: 0.508. Train Loss: 368.424\n",
            "Step. time since epoch: 289.006. Train acc: 0.582. Train Loss: 302.714\n",
            "Step. time since epoch: 317.463. Train acc: 0.660. Train Loss: 257.351\n",
            "Step. time since epoch: 346.150. Train acc: 0.582. Train Loss: 272.524\n",
            "Step. time since epoch: 374.752. Train acc: 0.586. Train Loss: 264.363\n",
            "Step. time since epoch: 403.467. Train acc: 0.664. Train Loss: 237.707\n",
            "Step. time since epoch: 432.026. Train acc: 0.719. Train Loss: 202.293\n",
            "Step. time since epoch: 460.571. Train acc: 0.691. Train Loss: 238.967\n",
            "Step. time since epoch: 489.076. Train acc: 0.734. Train Loss: 208.282\n",
            "Step. time since epoch: 517.590. Train acc: 0.734. Train Loss: 204.930\n",
            "Step. time since epoch: 546.096. Train acc: 0.805. Train Loss: 160.226\n",
            "Step. time since epoch: 574.591. Train acc: 0.781. Train Loss: 168.351\n",
            "Step. time since epoch: 603.065. Train acc: 0.766. Train Loss: 162.804\n",
            "Step. time since epoch: 631.475. Train acc: 0.781. Train Loss: 160.554\n",
            "Step. time since epoch: 659.746. Train acc: 0.746. Train Loss: 173.142\n",
            "Step. time since epoch: 687.987. Train acc: 0.699. Train Loss: 201.111\n",
            "Step. time since epoch: 716.539. Train acc: 0.758. Train Loss: 206.198\n",
            "Step. time since epoch: 745.042. Train acc: 0.754. Train Loss: 195.674\n",
            "Step. time since epoch: 773.718. Train acc: 0.781. Train Loss: 161.233\n",
            "Step. time since epoch: 802.128. Train acc: 0.738. Train Loss: 167.943\n",
            "Step. time since epoch: 830.802. Train acc: 0.758. Train Loss: 176.542\n",
            "Step. time since epoch: 859.168. Train acc: 0.672. Train Loss: 201.795\n",
            "Step. time since epoch: 887.757. Train acc: 0.746. Train Loss: 186.253\n",
            "Step. time since epoch: 916.155. Train acc: 0.797. Train Loss: 152.539\n",
            "Step. time since epoch: 945.659. Train acc: 0.777. Train Loss: 150.005\n",
            "Step. time since epoch: 974.244. Train acc: 0.781. Train Loss: 153.372\n",
            "Step. time since epoch: 1002.803. Train acc: 0.770. Train Loss: 167.281\n",
            "Step. time since epoch: 1031.242. Train acc: 0.805. Train Loss: 152.946\n",
            "Step. time since epoch: 1059.698. Train acc: 0.812. Train Loss: 133.980\n",
            "Step. time since epoch: 1088.302. Train acc: 0.789. Train Loss: 156.774\n",
            "Step. time since epoch: 1116.803. Train acc: 0.773. Train Loss: 157.580\n",
            "Step. time since epoch: 1145.523. Train acc: 0.863. Train Loss: 121.400\n",
            "Step. time since epoch: 1176.268. Train acc: 0.812. Train Loss: 133.666\n",
            "Step. time since epoch: 1207.082. Train acc: 0.844. Train Loss: 107.832\n",
            "Step. time since epoch: 1236.793. Train acc: 0.848. Train Loss: 109.057\n",
            "Step. time since epoch: 1266.513. Train acc: 0.863. Train Loss: 106.453\n",
            "Step. time since epoch: 1297.126. Train acc: 0.875. Train Loss: 107.003\n",
            "Step. time since epoch: 1326.565. Train acc: 0.812. Train Loss: 139.220\n",
            "Step. time since epoch: 1355.459. Train acc: 0.758. Train Loss: 191.192\n",
            "Step. time since epoch: 1384.870. Train acc: 0.781. Train Loss: 148.203\n",
            "Step. time since epoch: 1414.240. Train acc: 0.848. Train Loss: 111.633\n",
            "Step. time since epoch: 1443.608. Train acc: 0.824. Train Loss: 135.854\n",
            "Step. time since epoch: 1472.830. Train acc: 0.879. Train Loss: 85.051\n",
            "Step. time since epoch: 1502.280. Train acc: 0.836. Train Loss: 113.322\n",
            "Step. time since epoch: 1531.259. Train acc: 0.820. Train Loss: 128.998\n",
            "Step. time since epoch: 1559.831. Train acc: 0.820. Train Loss: 105.562\n",
            "Step. time since epoch: 1588.298. Train acc: 0.840. Train Loss: 115.840\n",
            "Step. time since epoch: 1616.828. Train acc: 0.852. Train Loss: 92.431\n",
            "Step. time since epoch: 1645.321. Train acc: 0.836. Train Loss: 102.127\n",
            "Step. time since epoch: 1674.015. Train acc: 0.840. Train Loss: 123.881\n",
            "Step. time since epoch: 1702.538. Train acc: 0.848. Train Loss: 122.590\n",
            "Step. time since epoch: 1731.164. Train acc: 0.844. Train Loss: 110.288\n",
            "Step. time since epoch: 1759.527. Train acc: 0.836. Train Loss: 135.535\n",
            "Step. time since epoch: 1787.722. Train acc: 0.855. Train Loss: 102.951\n",
            "Step. time since epoch: 1816.102. Train acc: 0.844. Train Loss: 108.433\n",
            "Step. time since epoch: 1844.480. Train acc: 0.840. Train Loss: 113.108\n",
            "Step. time since epoch: 1872.902. Train acc: 0.848. Train Loss: 117.838\n",
            "Step. time since epoch: 1901.281. Train acc: 0.832. Train Loss: 118.767\n",
            "Step. time since epoch: 1929.748. Train acc: 0.848. Train Loss: 106.067\n",
            "Step. time since epoch: 1958.184. Train acc: 0.820. Train Loss: 121.934\n",
            "Step. time since epoch: 1986.695. Train acc: 0.816. Train Loss: 122.645\n",
            "Step. time since epoch: 2015.026. Train acc: 0.816. Train Loss: 135.163\n",
            "Step. time since epoch: 2043.565. Train acc: 0.840. Train Loss: 126.490\n",
            "Step. time since epoch: 2071.980. Train acc: 0.836. Train Loss: 121.498\n",
            "Step. time since epoch: 2100.683. Train acc: 0.871. Train Loss: 96.255\n",
            "Step. time since epoch: 2129.074. Train acc: 0.844. Train Loss: 110.803\n",
            "Step. time since epoch: 2157.782. Train acc: 0.832. Train Loss: 124.727\n",
            "Step. time since epoch: 2186.329. Train acc: 0.824. Train Loss: 102.732\n",
            "Step. time since epoch: 2214.892. Train acc: 0.887. Train Loss: 85.379\n",
            "Step. time since epoch: 2243.230. Train acc: 0.840. Train Loss: 123.630\n",
            "Step. time since epoch: 2271.686. Train acc: 0.848. Train Loss: 101.293\n",
            "Step. time since epoch: 2300.130. Train acc: 0.863. Train Loss: 102.427\n",
            "Step. time since epoch: 2328.622. Train acc: 0.848. Train Loss: 107.072\n",
            "Step. time since epoch: 2356.647. Train acc: 0.844. Train Loss: 96.684\n",
            "Step. time since epoch: 2384.701. Train acc: 0.879. Train Loss: 100.945\n",
            "Step. time since epoch: 2412.894. Train acc: 0.844. Train Loss: 118.952\n",
            "Step. time since epoch: 2440.893. Train acc: 0.906. Train Loss: 77.822\n",
            "Step. time since epoch: 2468.950. Train acc: 0.875. Train Loss: 88.300\n",
            "Step. time since epoch: 2496.815. Train acc: 0.844. Train Loss: 120.830\n",
            "Step. time since epoch: 2525.394. Train acc: 0.855. Train Loss: 106.602\n",
            "Step. time since epoch: 2554.389. Train acc: 0.836. Train Loss: 114.630\n",
            "Step. time since epoch: 2583.640. Train acc: 0.871. Train Loss: 102.120\n",
            "Step. time since epoch: 2612.747. Train acc: 0.867. Train Loss: 105.758\n",
            "Step. time since epoch: 2642.664. Train acc: 0.879. Train Loss: 103.157\n",
            "Step. time since epoch: 2672.455. Train acc: 0.891. Train Loss: 76.401\n",
            "Step. time since epoch: 2702.905. Train acc: 0.883. Train Loss: 99.236\n",
            "Step. time since epoch: 2732.267. Train acc: 0.914. Train Loss: 69.675\n",
            "Step. time since epoch: 2760.934. Train acc: 0.875. Train Loss: 99.070\n",
            "Step. time since epoch: 2789.434. Train acc: 0.883. Train Loss: 109.689\n",
            "Step. time since epoch: 2818.168. Train acc: 0.910. Train Loss: 75.628\n",
            "Step. time since epoch: 2846.697. Train acc: 0.918. Train Loss: 73.335\n",
            "Step. time since epoch: 2875.185. Train acc: 0.844. Train Loss: 118.725\n",
            "Step. time since epoch: 2903.629. Train acc: 0.883. Train Loss: 86.985\n",
            "Step. time since epoch: 2932.057. Train acc: 0.887. Train Loss: 96.376\n",
            "Step. time since epoch: 2960.832. Train acc: 0.859. Train Loss: 93.955\n",
            "Step. time since epoch: 2989.442. Train acc: 0.883. Train Loss: 88.743\n",
            "Step. time since epoch: 3017.839. Train acc: 0.871. Train Loss: 103.045\n",
            "Step. time since epoch: 3046.139. Train acc: 0.863. Train Loss: 104.375\n",
            "Step. time since epoch: 3074.454. Train acc: 0.879. Train Loss: 89.491\n",
            "Step. time since epoch: 3102.750. Train acc: 0.883. Train Loss: 89.235\n",
            "Step. time since epoch: 3131.292. Train acc: 0.910. Train Loss: 69.829\n",
            "Step. time since epoch: 3159.890. Train acc: 0.891. Train Loss: 79.630\n",
            "Step. time since epoch: 3188.408. Train acc: 0.891. Train Loss: 87.092\n",
            "Step. time since epoch: 3216.828. Train acc: 0.902. Train Loss: 73.135\n",
            "Step. time since epoch: 3245.350. Train acc: 0.855. Train Loss: 78.978\n",
            "Step. time since epoch: 3273.849. Train acc: 0.859. Train Loss: 94.902\n",
            "Step. time since epoch: 3302.301. Train acc: 0.875. Train Loss: 104.018\n",
            "Step. time since epoch: 3330.801. Train acc: 0.820. Train Loss: 139.112\n",
            "Step. time since epoch: 3359.393. Train acc: 0.836. Train Loss: 117.810\n",
            "Step. time since epoch: 3387.893. Train acc: 0.867. Train Loss: 95.900\n",
            "Step. time since epoch: 3416.375. Train acc: 0.863. Train Loss: 99.094\n",
            "Step. time since epoch: 3444.897. Train acc: 0.875. Train Loss: 83.610\n",
            "Step. time since epoch: 3473.479. Train acc: 0.875. Train Loss: 89.636\n",
            "Step. time since epoch: 3502.426. Train acc: 0.855. Train Loss: 117.362\n",
            "Step. time since epoch: 3530.734. Train acc: 0.859. Train Loss: 88.896\n",
            "Step. time since epoch: 3560.688. Train acc: 0.887. Train Loss: 81.241\n",
            "Step. time since epoch: 3590.038. Train acc: 0.910. Train Loss: 67.464\n",
            "Step. time since epoch: 3619.801. Train acc: 0.891. Train Loss: 83.546\n",
            "Step. time since epoch: 3648.943. Train acc: 0.855. Train Loss: 91.165\n",
            "Step. time since epoch: 3679.347. Train acc: 0.910. Train Loss: 61.500\n",
            "Step. time since epoch: 3708.833. Train acc: 0.879. Train Loss: 73.456\n",
            "Step. time since epoch: 3738.107. Train acc: 0.895. Train Loss: 77.689\n",
            "Step. time since epoch: 3767.190. Train acc: 0.895. Train Loss: 83.613\n",
            "Step. time since epoch: 3796.862. Train acc: 0.879. Train Loss: 91.913\n",
            "Step. time since epoch: 3826.992. Train acc: 0.867. Train Loss: 86.370\n",
            "Step. time since epoch: 3856.877. Train acc: 0.867. Train Loss: 89.788\n",
            "Step. time since epoch: 3885.620. Train acc: 0.918. Train Loss: 71.003\n",
            "Step. time since epoch: 3914.915. Train acc: 0.887. Train Loss: 96.460\n",
            "Step. time since epoch: 3943.715. Train acc: 0.867. Train Loss: 98.409\n",
            "Step. time since epoch: 3972.583. Train acc: 0.871. Train Loss: 100.579\n",
            "Step. time since epoch: 4001.137. Train acc: 0.875. Train Loss: 79.119\n",
            "Step. time since epoch: 4029.633. Train acc: 0.867. Train Loss: 101.668\n",
            "Step. time since epoch: 4058.128. Train acc: 0.891. Train Loss: 92.976\n",
            "Step. time since epoch: 4086.445. Train acc: 0.887. Train Loss: 86.484\n",
            "Step. time since epoch: 4114.805. Train acc: 0.828. Train Loss: 107.276\n",
            "Step. time since epoch: 4143.113. Train acc: 0.871. Train Loss: 96.868\n",
            "Step. time since epoch: 4171.514. Train acc: 0.852. Train Loss: 93.409\n",
            "Step. time since epoch: 4199.828. Train acc: 0.891. Train Loss: 90.387\n",
            "Step. time since epoch: 4228.261. Train acc: 0.898. Train Loss: 70.335\n",
            "Step. time since epoch: 4256.648. Train acc: 0.934. Train Loss: 56.996\n",
            "Step. time since epoch: 4284.993. Train acc: 0.887. Train Loss: 90.884\n",
            "Step. time since epoch: 4313.386. Train acc: 0.918. Train Loss: 69.182\n",
            "Step. time since epoch: 4341.805. Train acc: 0.895. Train Loss: 83.018\n",
            "Step. time since epoch: 4370.078. Train acc: 0.887. Train Loss: 86.993\n",
            "Step. time since epoch: 4398.347. Train acc: 0.926. Train Loss: 74.724\n",
            "Step. time since epoch: 4426.674. Train acc: 0.875. Train Loss: 90.501\n",
            "Step. time since epoch: 4455.187. Train acc: 0.863. Train Loss: 83.544\n",
            "Step. time since epoch: 4483.537. Train acc: 0.891. Train Loss: 75.330\n",
            "Step. time since epoch: 4511.806. Train acc: 0.848. Train Loss: 119.509\n",
            "Step. time since epoch: 4540.123. Train acc: 0.930. Train Loss: 49.704\n",
            "Step. time since epoch: 4568.530. Train acc: 0.895. Train Loss: 90.417\n",
            "Step. time since epoch: 4596.754. Train acc: 0.887. Train Loss: 87.432\n",
            "Step. time since epoch: 4624.990. Train acc: 0.898. Train Loss: 74.576\n",
            "Step. time since epoch: 4653.287. Train acc: 0.895. Train Loss: 64.856\n",
            "Step. time since epoch: 4681.531. Train acc: 0.895. Train Loss: 74.544\n",
            "Step. time since epoch: 4709.960. Train acc: 0.891. Train Loss: 81.716\n",
            "Step. time since epoch: 4738.194. Train acc: 0.891. Train Loss: 99.770\n",
            "Step. time since epoch: 4766.550. Train acc: 0.875. Train Loss: 95.940\n",
            "Step. time since epoch: 4794.836. Train acc: 0.883. Train Loss: 72.936\n",
            "Step. time since epoch: 4823.229. Train acc: 0.910. Train Loss: 73.033\n",
            "Step. time since epoch: 4852.191. Train acc: 0.914. Train Loss: 77.027\n",
            "Step. time since epoch: 4880.575. Train acc: 0.887. Train Loss: 84.989\n",
            "Step. time since epoch: 4908.889. Train acc: 0.906. Train Loss: 70.718\n",
            "Step. time since epoch: 4937.516. Train acc: 0.902. Train Loss: 76.467\n",
            "Step. time since epoch: 4965.983. Train acc: 0.875. Train Loss: 94.693\n"
          ]
        },
        {
          "output_type": "error",
          "ename": "KeyboardInterrupt",
          "evalue": "ignored",
          "traceback": [
            "\u001b[0;31m---------------------------------------------------------------------------\u001b[0m",
            "\u001b[0;31mKeyboardInterrupt\u001b[0m                         Traceback (most recent call last)",
            "\u001b[0;32m<ipython-input-232-1c86990677d5>\u001b[0m in \u001b[0;36m<module>\u001b[0;34m\u001b[0m\n\u001b[1;32m      1\u001b[0m \u001b[0mlr\u001b[0m\u001b[0;34m,\u001b[0m \u001b[0mnum_epochs\u001b[0m \u001b[0;34m=\u001b[0m \u001b[0;36m0.001\u001b[0m\u001b[0;34m,\u001b[0m \u001b[0;36m5\u001b[0m\u001b[0;34m\u001b[0m\u001b[0;34m\u001b[0m\u001b[0m\n\u001b[1;32m      2\u001b[0m \u001b[0mtrainer\u001b[0m \u001b[0;34m=\u001b[0m \u001b[0mtorch\u001b[0m\u001b[0;34m.\u001b[0m\u001b[0moptim\u001b[0m\u001b[0;34m.\u001b[0m\u001b[0mSGD\u001b[0m\u001b[0;34m(\u001b[0m\u001b[0mmod_resn18\u001b[0m\u001b[0;34m.\u001b[0m\u001b[0mparameters\u001b[0m\u001b[0;34m(\u001b[0m\u001b[0;34m)\u001b[0m\u001b[0;34m,\u001b[0m \u001b[0mlr\u001b[0m\u001b[0;34m=\u001b[0m\u001b[0mlr\u001b[0m\u001b[0;34m)\u001b[0m\u001b[0;34m\u001b[0m\u001b[0;34m\u001b[0m\u001b[0m\n\u001b[0;32m----> 3\u001b[0;31m \u001b[0mtrain\u001b[0m\u001b[0;34m(\u001b[0m\u001b[0mmod_resn18\u001b[0m\u001b[0;34m,\u001b[0m \u001b[0mtrain_iter\u001b[0m\u001b[0;34m,\u001b[0m \u001b[0mtest_iter\u001b[0m\u001b[0;34m,\u001b[0m \u001b[0mtrainer\u001b[0m\u001b[0;34m,\u001b[0m \u001b[0mnum_epochs\u001b[0m\u001b[0;34m)\u001b[0m\u001b[0;34m\u001b[0m\u001b[0;34m\u001b[0m\u001b[0m\n\u001b[0m",
            "\u001b[0;32m<ipython-input-231-246573adcc56>\u001b[0m in \u001b[0;36mtrain\u001b[0;34m(net, train_iter, test_iter, trainer, num_epochs)\u001b[0m\n\u001b[1;32m      7\u001b[0m             \u001b[0mtrainer\u001b[0m\u001b[0;34m.\u001b[0m\u001b[0mzero_grad\u001b[0m\u001b[0;34m(\u001b[0m\u001b[0;34m)\u001b[0m\u001b[0;34m\u001b[0m\u001b[0;34m\u001b[0m\u001b[0m\n\u001b[1;32m      8\u001b[0m             \u001b[0mX\u001b[0m\u001b[0;34m,\u001b[0m \u001b[0my\u001b[0m \u001b[0;34m=\u001b[0m \u001b[0mX\u001b[0m\u001b[0;34m.\u001b[0m\u001b[0mto\u001b[0m\u001b[0;34m(\u001b[0m\u001b[0mdev\u001b[0m\u001b[0;34m)\u001b[0m\u001b[0;34m,\u001b[0m \u001b[0my\u001b[0m\u001b[0;34m.\u001b[0m\u001b[0mto\u001b[0m\u001b[0;34m(\u001b[0m\u001b[0mdev\u001b[0m\u001b[0;34m)\u001b[0m \u001b[0;31m# отправляем данные на GPU\u001b[0m\u001b[0;34m\u001b[0m\u001b[0;34m\u001b[0m\u001b[0m\n\u001b[0;32m----> 9\u001b[0;31m             \u001b[0my_hat\u001b[0m \u001b[0;34m=\u001b[0m \u001b[0mnet\u001b[0m\u001b[0;34m(\u001b[0m\u001b[0mX\u001b[0m\u001b[0;34m)\u001b[0m\u001b[0;34m\u001b[0m\u001b[0;34m\u001b[0m\u001b[0m\n\u001b[0m\u001b[1;32m     10\u001b[0m             \u001b[0ml\u001b[0m \u001b[0;34m=\u001b[0m \u001b[0mloss\u001b[0m\u001b[0;34m(\u001b[0m\u001b[0my_hat\u001b[0m\u001b[0;34m,\u001b[0m \u001b[0my\u001b[0m\u001b[0;34m)\u001b[0m\u001b[0;34m\u001b[0m\u001b[0;34m\u001b[0m\u001b[0m\n\u001b[1;32m     11\u001b[0m             \u001b[0ml\u001b[0m\u001b[0;34m.\u001b[0m\u001b[0mbackward\u001b[0m\u001b[0;34m(\u001b[0m\u001b[0;34m)\u001b[0m\u001b[0;34m\u001b[0m\u001b[0;34m\u001b[0m\u001b[0m\n",
            "\u001b[0;32m/usr/local/lib/python3.8/dist-packages/torch/nn/modules/module.py\u001b[0m in \u001b[0;36m_call_impl\u001b[0;34m(self, *input, **kwargs)\u001b[0m\n\u001b[1;32m   1192\u001b[0m         if not (self._backward_hooks or self._forward_hooks or self._forward_pre_hooks or _global_backward_hooks\n\u001b[1;32m   1193\u001b[0m                 or _global_forward_hooks or _global_forward_pre_hooks):\n\u001b[0;32m-> 1194\u001b[0;31m             \u001b[0;32mreturn\u001b[0m \u001b[0mforward_call\u001b[0m\u001b[0;34m(\u001b[0m\u001b[0;34m*\u001b[0m\u001b[0minput\u001b[0m\u001b[0;34m,\u001b[0m \u001b[0;34m**\u001b[0m\u001b[0mkwargs\u001b[0m\u001b[0;34m)\u001b[0m\u001b[0;34m\u001b[0m\u001b[0;34m\u001b[0m\u001b[0m\n\u001b[0m\u001b[1;32m   1195\u001b[0m         \u001b[0;31m# Do not call functions when jit is used\u001b[0m\u001b[0;34m\u001b[0m\u001b[0;34m\u001b[0m\u001b[0;34m\u001b[0m\u001b[0m\n\u001b[1;32m   1196\u001b[0m         \u001b[0mfull_backward_hooks\u001b[0m\u001b[0;34m,\u001b[0m \u001b[0mnon_full_backward_hooks\u001b[0m \u001b[0;34m=\u001b[0m \u001b[0;34m[\u001b[0m\u001b[0;34m]\u001b[0m\u001b[0;34m,\u001b[0m \u001b[0;34m[\u001b[0m\u001b[0;34m]\u001b[0m\u001b[0;34m\u001b[0m\u001b[0;34m\u001b[0m\u001b[0m\n",
            "\u001b[0;32m/usr/local/lib/python3.8/dist-packages/torchvision/models/resnet.py\u001b[0m in \u001b[0;36mforward\u001b[0;34m(self, x)\u001b[0m\n\u001b[1;32m    283\u001b[0m \u001b[0;34m\u001b[0m\u001b[0m\n\u001b[1;32m    284\u001b[0m     \u001b[0;32mdef\u001b[0m \u001b[0mforward\u001b[0m\u001b[0;34m(\u001b[0m\u001b[0mself\u001b[0m\u001b[0;34m,\u001b[0m \u001b[0mx\u001b[0m\u001b[0;34m:\u001b[0m \u001b[0mTensor\u001b[0m\u001b[0;34m)\u001b[0m \u001b[0;34m->\u001b[0m \u001b[0mTensor\u001b[0m\u001b[0;34m:\u001b[0m\u001b[0;34m\u001b[0m\u001b[0;34m\u001b[0m\u001b[0m\n\u001b[0;32m--> 285\u001b[0;31m         \u001b[0;32mreturn\u001b[0m \u001b[0mself\u001b[0m\u001b[0;34m.\u001b[0m\u001b[0m_forward_impl\u001b[0m\u001b[0;34m(\u001b[0m\u001b[0mx\u001b[0m\u001b[0;34m)\u001b[0m\u001b[0;34m\u001b[0m\u001b[0;34m\u001b[0m\u001b[0m\n\u001b[0m\u001b[1;32m    286\u001b[0m \u001b[0;34m\u001b[0m\u001b[0m\n\u001b[1;32m    287\u001b[0m \u001b[0;34m\u001b[0m\u001b[0m\n",
            "\u001b[0;32m/usr/local/lib/python3.8/dist-packages/torchvision/models/resnet.py\u001b[0m in \u001b[0;36m_forward_impl\u001b[0;34m(self, x)\u001b[0m\n\u001b[1;32m    272\u001b[0m \u001b[0;34m\u001b[0m\u001b[0m\n\u001b[1;32m    273\u001b[0m         \u001b[0mx\u001b[0m \u001b[0;34m=\u001b[0m \u001b[0mself\u001b[0m\u001b[0;34m.\u001b[0m\u001b[0mlayer1\u001b[0m\u001b[0;34m(\u001b[0m\u001b[0mx\u001b[0m\u001b[0;34m)\u001b[0m\u001b[0;34m\u001b[0m\u001b[0;34m\u001b[0m\u001b[0m\n\u001b[0;32m--> 274\u001b[0;31m         \u001b[0mx\u001b[0m \u001b[0;34m=\u001b[0m \u001b[0mself\u001b[0m\u001b[0;34m.\u001b[0m\u001b[0mlayer2\u001b[0m\u001b[0;34m(\u001b[0m\u001b[0mx\u001b[0m\u001b[0;34m)\u001b[0m\u001b[0;34m\u001b[0m\u001b[0;34m\u001b[0m\u001b[0m\n\u001b[0m\u001b[1;32m    275\u001b[0m         \u001b[0mx\u001b[0m \u001b[0;34m=\u001b[0m \u001b[0mself\u001b[0m\u001b[0;34m.\u001b[0m\u001b[0mlayer3\u001b[0m\u001b[0;34m(\u001b[0m\u001b[0mx\u001b[0m\u001b[0;34m)\u001b[0m\u001b[0;34m\u001b[0m\u001b[0;34m\u001b[0m\u001b[0m\n\u001b[1;32m    276\u001b[0m         \u001b[0mx\u001b[0m \u001b[0;34m=\u001b[0m \u001b[0mself\u001b[0m\u001b[0;34m.\u001b[0m\u001b[0mlayer4\u001b[0m\u001b[0;34m(\u001b[0m\u001b[0mx\u001b[0m\u001b[0;34m)\u001b[0m\u001b[0;34m\u001b[0m\u001b[0;34m\u001b[0m\u001b[0m\n",
            "\u001b[0;32m/usr/local/lib/python3.8/dist-packages/torch/nn/modules/module.py\u001b[0m in \u001b[0;36m_call_impl\u001b[0;34m(self, *input, **kwargs)\u001b[0m\n\u001b[1;32m   1192\u001b[0m         if not (self._backward_hooks or self._forward_hooks or self._forward_pre_hooks or _global_backward_hooks\n\u001b[1;32m   1193\u001b[0m                 or _global_forward_hooks or _global_forward_pre_hooks):\n\u001b[0;32m-> 1194\u001b[0;31m             \u001b[0;32mreturn\u001b[0m \u001b[0mforward_call\u001b[0m\u001b[0;34m(\u001b[0m\u001b[0;34m*\u001b[0m\u001b[0minput\u001b[0m\u001b[0;34m,\u001b[0m \u001b[0;34m**\u001b[0m\u001b[0mkwargs\u001b[0m\u001b[0;34m)\u001b[0m\u001b[0;34m\u001b[0m\u001b[0;34m\u001b[0m\u001b[0m\n\u001b[0m\u001b[1;32m   1195\u001b[0m         \u001b[0;31m# Do not call functions when jit is used\u001b[0m\u001b[0;34m\u001b[0m\u001b[0;34m\u001b[0m\u001b[0;34m\u001b[0m\u001b[0m\n\u001b[1;32m   1196\u001b[0m         \u001b[0mfull_backward_hooks\u001b[0m\u001b[0;34m,\u001b[0m \u001b[0mnon_full_backward_hooks\u001b[0m \u001b[0;34m=\u001b[0m \u001b[0;34m[\u001b[0m\u001b[0;34m]\u001b[0m\u001b[0;34m,\u001b[0m \u001b[0;34m[\u001b[0m\u001b[0;34m]\u001b[0m\u001b[0;34m\u001b[0m\u001b[0;34m\u001b[0m\u001b[0m\n",
            "\u001b[0;32m/usr/local/lib/python3.8/dist-packages/torch/nn/modules/container.py\u001b[0m in \u001b[0;36mforward\u001b[0;34m(self, input)\u001b[0m\n\u001b[1;32m    202\u001b[0m     \u001b[0;32mdef\u001b[0m \u001b[0mforward\u001b[0m\u001b[0;34m(\u001b[0m\u001b[0mself\u001b[0m\u001b[0;34m,\u001b[0m \u001b[0minput\u001b[0m\u001b[0;34m)\u001b[0m\u001b[0;34m:\u001b[0m\u001b[0;34m\u001b[0m\u001b[0;34m\u001b[0m\u001b[0m\n\u001b[1;32m    203\u001b[0m         \u001b[0;32mfor\u001b[0m \u001b[0mmodule\u001b[0m \u001b[0;32min\u001b[0m \u001b[0mself\u001b[0m\u001b[0;34m:\u001b[0m\u001b[0;34m\u001b[0m\u001b[0;34m\u001b[0m\u001b[0m\n\u001b[0;32m--> 204\u001b[0;31m             \u001b[0minput\u001b[0m \u001b[0;34m=\u001b[0m \u001b[0mmodule\u001b[0m\u001b[0;34m(\u001b[0m\u001b[0minput\u001b[0m\u001b[0;34m)\u001b[0m\u001b[0;34m\u001b[0m\u001b[0;34m\u001b[0m\u001b[0m\n\u001b[0m\u001b[1;32m    205\u001b[0m         \u001b[0;32mreturn\u001b[0m \u001b[0minput\u001b[0m\u001b[0;34m\u001b[0m\u001b[0;34m\u001b[0m\u001b[0m\n\u001b[1;32m    206\u001b[0m \u001b[0;34m\u001b[0m\u001b[0m\n",
            "\u001b[0;32m/usr/local/lib/python3.8/dist-packages/torch/nn/modules/module.py\u001b[0m in \u001b[0;36m_call_impl\u001b[0;34m(self, *input, **kwargs)\u001b[0m\n\u001b[1;32m   1192\u001b[0m         if not (self._backward_hooks or self._forward_hooks or self._forward_pre_hooks or _global_backward_hooks\n\u001b[1;32m   1193\u001b[0m                 or _global_forward_hooks or _global_forward_pre_hooks):\n\u001b[0;32m-> 1194\u001b[0;31m             \u001b[0;32mreturn\u001b[0m \u001b[0mforward_call\u001b[0m\u001b[0;34m(\u001b[0m\u001b[0;34m*\u001b[0m\u001b[0minput\u001b[0m\u001b[0;34m,\u001b[0m \u001b[0;34m**\u001b[0m\u001b[0mkwargs\u001b[0m\u001b[0;34m)\u001b[0m\u001b[0;34m\u001b[0m\u001b[0;34m\u001b[0m\u001b[0m\n\u001b[0m\u001b[1;32m   1195\u001b[0m         \u001b[0;31m# Do not call functions when jit is used\u001b[0m\u001b[0;34m\u001b[0m\u001b[0;34m\u001b[0m\u001b[0;34m\u001b[0m\u001b[0m\n\u001b[1;32m   1196\u001b[0m         \u001b[0mfull_backward_hooks\u001b[0m\u001b[0;34m,\u001b[0m \u001b[0mnon_full_backward_hooks\u001b[0m \u001b[0;34m=\u001b[0m \u001b[0;34m[\u001b[0m\u001b[0;34m]\u001b[0m\u001b[0;34m,\u001b[0m \u001b[0;34m[\u001b[0m\u001b[0;34m]\u001b[0m\u001b[0;34m\u001b[0m\u001b[0;34m\u001b[0m\u001b[0m\n",
            "\u001b[0;32m/usr/local/lib/python3.8/dist-packages/torchvision/models/resnet.py\u001b[0m in \u001b[0;36mforward\u001b[0;34m(self, x)\u001b[0m\n\u001b[1;32m     94\u001b[0m         \u001b[0mout\u001b[0m \u001b[0;34m=\u001b[0m \u001b[0mself\u001b[0m\u001b[0;34m.\u001b[0m\u001b[0mrelu\u001b[0m\u001b[0;34m(\u001b[0m\u001b[0mout\u001b[0m\u001b[0;34m)\u001b[0m\u001b[0;34m\u001b[0m\u001b[0;34m\u001b[0m\u001b[0m\n\u001b[1;32m     95\u001b[0m \u001b[0;34m\u001b[0m\u001b[0m\n\u001b[0;32m---> 96\u001b[0;31m         \u001b[0mout\u001b[0m \u001b[0;34m=\u001b[0m \u001b[0mself\u001b[0m\u001b[0;34m.\u001b[0m\u001b[0mconv2\u001b[0m\u001b[0;34m(\u001b[0m\u001b[0mout\u001b[0m\u001b[0;34m)\u001b[0m\u001b[0;34m\u001b[0m\u001b[0;34m\u001b[0m\u001b[0m\n\u001b[0m\u001b[1;32m     97\u001b[0m         \u001b[0mout\u001b[0m \u001b[0;34m=\u001b[0m \u001b[0mself\u001b[0m\u001b[0;34m.\u001b[0m\u001b[0mbn2\u001b[0m\u001b[0;34m(\u001b[0m\u001b[0mout\u001b[0m\u001b[0;34m)\u001b[0m\u001b[0;34m\u001b[0m\u001b[0;34m\u001b[0m\u001b[0m\n\u001b[1;32m     98\u001b[0m \u001b[0;34m\u001b[0m\u001b[0m\n",
            "\u001b[0;32m/usr/local/lib/python3.8/dist-packages/torch/nn/modules/module.py\u001b[0m in \u001b[0;36m_call_impl\u001b[0;34m(self, *input, **kwargs)\u001b[0m\n\u001b[1;32m   1192\u001b[0m         if not (self._backward_hooks or self._forward_hooks or self._forward_pre_hooks or _global_backward_hooks\n\u001b[1;32m   1193\u001b[0m                 or _global_forward_hooks or _global_forward_pre_hooks):\n\u001b[0;32m-> 1194\u001b[0;31m             \u001b[0;32mreturn\u001b[0m \u001b[0mforward_call\u001b[0m\u001b[0;34m(\u001b[0m\u001b[0;34m*\u001b[0m\u001b[0minput\u001b[0m\u001b[0;34m,\u001b[0m \u001b[0;34m**\u001b[0m\u001b[0mkwargs\u001b[0m\u001b[0;34m)\u001b[0m\u001b[0;34m\u001b[0m\u001b[0;34m\u001b[0m\u001b[0m\n\u001b[0m\u001b[1;32m   1195\u001b[0m         \u001b[0;31m# Do not call functions when jit is used\u001b[0m\u001b[0;34m\u001b[0m\u001b[0;34m\u001b[0m\u001b[0;34m\u001b[0m\u001b[0m\n\u001b[1;32m   1196\u001b[0m         \u001b[0mfull_backward_hooks\u001b[0m\u001b[0;34m,\u001b[0m \u001b[0mnon_full_backward_hooks\u001b[0m \u001b[0;34m=\u001b[0m \u001b[0;34m[\u001b[0m\u001b[0;34m]\u001b[0m\u001b[0;34m,\u001b[0m \u001b[0;34m[\u001b[0m\u001b[0;34m]\u001b[0m\u001b[0;34m\u001b[0m\u001b[0;34m\u001b[0m\u001b[0m\n",
            "\u001b[0;32m/usr/local/lib/python3.8/dist-packages/torch/nn/modules/conv.py\u001b[0m in \u001b[0;36mforward\u001b[0;34m(self, input)\u001b[0m\n\u001b[1;32m    461\u001b[0m \u001b[0;34m\u001b[0m\u001b[0m\n\u001b[1;32m    462\u001b[0m     \u001b[0;32mdef\u001b[0m \u001b[0mforward\u001b[0m\u001b[0;34m(\u001b[0m\u001b[0mself\u001b[0m\u001b[0;34m,\u001b[0m \u001b[0minput\u001b[0m\u001b[0;34m:\u001b[0m \u001b[0mTensor\u001b[0m\u001b[0;34m)\u001b[0m \u001b[0;34m->\u001b[0m \u001b[0mTensor\u001b[0m\u001b[0;34m:\u001b[0m\u001b[0;34m\u001b[0m\u001b[0;34m\u001b[0m\u001b[0m\n\u001b[0;32m--> 463\u001b[0;31m         \u001b[0;32mreturn\u001b[0m \u001b[0mself\u001b[0m\u001b[0;34m.\u001b[0m\u001b[0m_conv_forward\u001b[0m\u001b[0;34m(\u001b[0m\u001b[0minput\u001b[0m\u001b[0;34m,\u001b[0m \u001b[0mself\u001b[0m\u001b[0;34m.\u001b[0m\u001b[0mweight\u001b[0m\u001b[0;34m,\u001b[0m \u001b[0mself\u001b[0m\u001b[0;34m.\u001b[0m\u001b[0mbias\u001b[0m\u001b[0;34m)\u001b[0m\u001b[0;34m\u001b[0m\u001b[0;34m\u001b[0m\u001b[0m\n\u001b[0m\u001b[1;32m    464\u001b[0m \u001b[0;34m\u001b[0m\u001b[0m\n\u001b[1;32m    465\u001b[0m \u001b[0;32mclass\u001b[0m \u001b[0mConv3d\u001b[0m\u001b[0;34m(\u001b[0m\u001b[0m_ConvNd\u001b[0m\u001b[0;34m)\u001b[0m\u001b[0;34m:\u001b[0m\u001b[0;34m\u001b[0m\u001b[0;34m\u001b[0m\u001b[0m\n",
            "\u001b[0;32m/usr/local/lib/python3.8/dist-packages/torch/nn/modules/conv.py\u001b[0m in \u001b[0;36m_conv_forward\u001b[0;34m(self, input, weight, bias)\u001b[0m\n\u001b[1;32m    457\u001b[0m                             \u001b[0mweight\u001b[0m\u001b[0;34m,\u001b[0m \u001b[0mbias\u001b[0m\u001b[0;34m,\u001b[0m \u001b[0mself\u001b[0m\u001b[0;34m.\u001b[0m\u001b[0mstride\u001b[0m\u001b[0;34m,\u001b[0m\u001b[0;34m\u001b[0m\u001b[0;34m\u001b[0m\u001b[0m\n\u001b[1;32m    458\u001b[0m                             _pair(0), self.dilation, self.groups)\n\u001b[0;32m--> 459\u001b[0;31m         return F.conv2d(input, weight, bias, self.stride,\n\u001b[0m\u001b[1;32m    460\u001b[0m                         self.padding, self.dilation, self.groups)\n\u001b[1;32m    461\u001b[0m \u001b[0;34m\u001b[0m\u001b[0m\n",
            "\u001b[0;31mKeyboardInterrupt\u001b[0m: "
          ]
        }
      ]
    }
  ]
}