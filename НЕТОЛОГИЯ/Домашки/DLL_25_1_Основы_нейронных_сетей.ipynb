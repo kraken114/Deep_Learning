{
  "nbformat": 4,
  "nbformat_minor": 0,
  "metadata": {
    "colab": {
      "provenance": []
    },
    "kernelspec": {
      "name": "python3",
      "display_name": "Python 3"
    },
    "language_info": {
      "name": "python"
    }
  },
  "cells": [
    {
      "cell_type": "markdown",
      "source": [
        "\n",
        "\n",
        "---\n",
        "\n"
      ],
      "metadata": {
        "id": "hPxcVxtBS1Y4"
      }
    },
    {
      "cell_type": "code",
      "execution_count": null,
      "metadata": {
        "colab": {
          "base_uri": "https://localhost:8080/",
          "height": 91
        },
        "outputId": "581e71cb-cdb7-4b36-da20-116b30cfb854",
        "id": "b3CCSEUCWSrn"
      },
      "outputs": [
        {
          "output_type": "display_data",
          "data": {
            "text/plain": [
              "<IPython.core.display.HTML object>"
            ],
            "text/html": [
              "\n",
              "     <input type=\"file\" id=\"files-dd13d7f6-7826-4b21-b098-ef3efebc93f2\" name=\"files[]\" multiple disabled\n",
              "        style=\"border:none\" />\n",
              "     <output id=\"result-dd13d7f6-7826-4b21-b098-ef3efebc93f2\">\n",
              "      Upload widget is only available when the cell has been executed in the\n",
              "      current browser session. Please rerun this cell to enable.\n",
              "      </output>\n",
              "      <script>// Copyright 2017 Google LLC\n",
              "//\n",
              "// Licensed under the Apache License, Version 2.0 (the \"License\");\n",
              "// you may not use this file except in compliance with the License.\n",
              "// You may obtain a copy of the License at\n",
              "//\n",
              "//      http://www.apache.org/licenses/LICENSE-2.0\n",
              "//\n",
              "// Unless required by applicable law or agreed to in writing, software\n",
              "// distributed under the License is distributed on an \"AS IS\" BASIS,\n",
              "// WITHOUT WARRANTIES OR CONDITIONS OF ANY KIND, either express or implied.\n",
              "// See the License for the specific language governing permissions and\n",
              "// limitations under the License.\n",
              "\n",
              "/**\n",
              " * @fileoverview Helpers for google.colab Python module.\n",
              " */\n",
              "(function(scope) {\n",
              "function span(text, styleAttributes = {}) {\n",
              "  const element = document.createElement('span');\n",
              "  element.textContent = text;\n",
              "  for (const key of Object.keys(styleAttributes)) {\n",
              "    element.style[key] = styleAttributes[key];\n",
              "  }\n",
              "  return element;\n",
              "}\n",
              "\n",
              "// Max number of bytes which will be uploaded at a time.\n",
              "const MAX_PAYLOAD_SIZE = 100 * 1024;\n",
              "\n",
              "function _uploadFiles(inputId, outputId) {\n",
              "  const steps = uploadFilesStep(inputId, outputId);\n",
              "  const outputElement = document.getElementById(outputId);\n",
              "  // Cache steps on the outputElement to make it available for the next call\n",
              "  // to uploadFilesContinue from Python.\n",
              "  outputElement.steps = steps;\n",
              "\n",
              "  return _uploadFilesContinue(outputId);\n",
              "}\n",
              "\n",
              "// This is roughly an async generator (not supported in the browser yet),\n",
              "// where there are multiple asynchronous steps and the Python side is going\n",
              "// to poll for completion of each step.\n",
              "// This uses a Promise to block the python side on completion of each step,\n",
              "// then passes the result of the previous step as the input to the next step.\n",
              "function _uploadFilesContinue(outputId) {\n",
              "  const outputElement = document.getElementById(outputId);\n",
              "  const steps = outputElement.steps;\n",
              "\n",
              "  const next = steps.next(outputElement.lastPromiseValue);\n",
              "  return Promise.resolve(next.value.promise).then((value) => {\n",
              "    // Cache the last promise value to make it available to the next\n",
              "    // step of the generator.\n",
              "    outputElement.lastPromiseValue = value;\n",
              "    return next.value.response;\n",
              "  });\n",
              "}\n",
              "\n",
              "/**\n",
              " * Generator function which is called between each async step of the upload\n",
              " * process.\n",
              " * @param {string} inputId Element ID of the input file picker element.\n",
              " * @param {string} outputId Element ID of the output display.\n",
              " * @return {!Iterable<!Object>} Iterable of next steps.\n",
              " */\n",
              "function* uploadFilesStep(inputId, outputId) {\n",
              "  const inputElement = document.getElementById(inputId);\n",
              "  inputElement.disabled = false;\n",
              "\n",
              "  const outputElement = document.getElementById(outputId);\n",
              "  outputElement.innerHTML = '';\n",
              "\n",
              "  const pickedPromise = new Promise((resolve) => {\n",
              "    inputElement.addEventListener('change', (e) => {\n",
              "      resolve(e.target.files);\n",
              "    });\n",
              "  });\n",
              "\n",
              "  const cancel = document.createElement('button');\n",
              "  inputElement.parentElement.appendChild(cancel);\n",
              "  cancel.textContent = 'Cancel upload';\n",
              "  const cancelPromise = new Promise((resolve) => {\n",
              "    cancel.onclick = () => {\n",
              "      resolve(null);\n",
              "    };\n",
              "  });\n",
              "\n",
              "  // Wait for the user to pick the files.\n",
              "  const files = yield {\n",
              "    promise: Promise.race([pickedPromise, cancelPromise]),\n",
              "    response: {\n",
              "      action: 'starting',\n",
              "    }\n",
              "  };\n",
              "\n",
              "  cancel.remove();\n",
              "\n",
              "  // Disable the input element since further picks are not allowed.\n",
              "  inputElement.disabled = true;\n",
              "\n",
              "  if (!files) {\n",
              "    return {\n",
              "      response: {\n",
              "        action: 'complete',\n",
              "      }\n",
              "    };\n",
              "  }\n",
              "\n",
              "  for (const file of files) {\n",
              "    const li = document.createElement('li');\n",
              "    li.append(span(file.name, {fontWeight: 'bold'}));\n",
              "    li.append(span(\n",
              "        `(${file.type || 'n/a'}) - ${file.size} bytes, ` +\n",
              "        `last modified: ${\n",
              "            file.lastModifiedDate ? file.lastModifiedDate.toLocaleDateString() :\n",
              "                                    'n/a'} - `));\n",
              "    const percent = span('0% done');\n",
              "    li.appendChild(percent);\n",
              "\n",
              "    outputElement.appendChild(li);\n",
              "\n",
              "    const fileDataPromise = new Promise((resolve) => {\n",
              "      const reader = new FileReader();\n",
              "      reader.onload = (e) => {\n",
              "        resolve(e.target.result);\n",
              "      };\n",
              "      reader.readAsArrayBuffer(file);\n",
              "    });\n",
              "    // Wait for the data to be ready.\n",
              "    let fileData = yield {\n",
              "      promise: fileDataPromise,\n",
              "      response: {\n",
              "        action: 'continue',\n",
              "      }\n",
              "    };\n",
              "\n",
              "    // Use a chunked sending to avoid message size limits. See b/62115660.\n",
              "    let position = 0;\n",
              "    do {\n",
              "      const length = Math.min(fileData.byteLength - position, MAX_PAYLOAD_SIZE);\n",
              "      const chunk = new Uint8Array(fileData, position, length);\n",
              "      position += length;\n",
              "\n",
              "      const base64 = btoa(String.fromCharCode.apply(null, chunk));\n",
              "      yield {\n",
              "        response: {\n",
              "          action: 'append',\n",
              "          file: file.name,\n",
              "          data: base64,\n",
              "        },\n",
              "      };\n",
              "\n",
              "      let percentDone = fileData.byteLength === 0 ?\n",
              "          100 :\n",
              "          Math.round((position / fileData.byteLength) * 100);\n",
              "      percent.textContent = `${percentDone}% done`;\n",
              "\n",
              "    } while (position < fileData.byteLength);\n",
              "  }\n",
              "\n",
              "  // All done.\n",
              "  yield {\n",
              "    response: {\n",
              "      action: 'complete',\n",
              "    }\n",
              "  };\n",
              "}\n",
              "\n",
              "scope.google = scope.google || {};\n",
              "scope.google.colab = scope.google.colab || {};\n",
              "scope.google.colab._files = {\n",
              "  _uploadFiles,\n",
              "  _uploadFilesContinue,\n",
              "};\n",
              "})(self);\n",
              "</script> "
            ]
          },
          "metadata": {}
        },
        {
          "output_type": "stream",
          "name": "stdout",
          "text": [
            "Saving kaggle.json to kaggle.json\n"
          ]
        },
        {
          "output_type": "execute_result",
          "data": {
            "text/plain": [
              "{'kaggle.json': b'{\"username\":\"kostyasereginmailru\",\"key\":\"ad05ad97cdde449caa2e57874c5b2819\"}'}"
            ]
          },
          "metadata": {},
          "execution_count": 1
        }
      ],
      "source": [
        "from google.colab import files\n",
        "files.upload()"
      ]
    },
    {
      "cell_type": "code",
      "execution_count": null,
      "metadata": {
        "colab": {
          "base_uri": "https://localhost:8080/"
        },
        "outputId": "8d3115ee-9187-49d2-ffec-b54a113a79f4",
        "id": "MHqewgmVWSrn"
      },
      "outputs": [
        {
          "output_type": "stream",
          "name": "stdout",
          "text": [
            "-rw-r--r-- 1 root root 75 Jul  9 06:23 kaggle.json\n"
          ]
        }
      ],
      "source": [
        "!ls -lha kaggle.json"
      ]
    },
    {
      "cell_type": "code",
      "execution_count": null,
      "metadata": {
        "id": "xYwGbCKkWSro"
      },
      "outputs": [],
      "source": [
        "!pip install -q kaggle"
      ]
    },
    {
      "cell_type": "code",
      "execution_count": null,
      "metadata": {
        "id": "ZTK5_srsWSro"
      },
      "outputs": [],
      "source": [
        "!mkdir -p ~/.kaggle\n",
        "!cp kaggle.json ~/.kaggle/\n",
        "\n",
        "!chmod 600 ~/.kaggle/kaggle.json"
      ]
    },
    {
      "cell_type": "code",
      "execution_count": null,
      "metadata": {
        "colab": {
          "base_uri": "https://localhost:8080/"
        },
        "outputId": "1d332ab1-9cea-4506-e12e-e29894310ec6",
        "id": "zSh0LOiVWSro"
      },
      "outputs": [
        {
          "output_type": "stream",
          "name": "stdout",
          "text": [
            "Downloading emnist.zip to /content\n",
            " 99% 1.23G/1.24G [00:12<00:00, 144MB/s]\n",
            "100% 1.24G/1.24G [00:12<00:00, 108MB/s]\n"
          ]
        }
      ],
      "source": [
        "!kaggle datasets download -d crawford/emnist"
      ]
    },
    {
      "cell_type": "code",
      "execution_count": null,
      "metadata": {
        "id": "K_VNNGQvWSrp"
      },
      "outputs": [],
      "source": [
        "!unzip -qq /content/emnist.zip"
      ]
    },
    {
      "cell_type": "code",
      "source": [
        "import pandas as pd\n",
        "df=pd.read_csv('/content/housing.csv')"
      ],
      "metadata": {
        "id": "4wE4EVl4EnLZ"
      },
      "execution_count": null,
      "outputs": []
    },
    {
      "cell_type": "code",
      "source": [
        "df.sample(5)"
      ],
      "metadata": {
        "colab": {
          "base_uri": "https://localhost:8080/",
          "height": 206
        },
        "id": "LMkFT2DoEr0m",
        "outputId": "1cb2f3d1-dd64-4306-8a46-a1cef313f0c1"
      },
      "execution_count": null,
      "outputs": [
        {
          "output_type": "execute_result",
          "data": {
            "text/plain": [
              "       longitude  latitude  housing_median_age  total_rooms  total_bedrooms  \\\n",
              "17405    -120.45     34.95                 7.0       1479.0           532.0   \n",
              "13734    -117.19     34.05                33.0       3007.0           498.0   \n",
              "10460    -117.63     33.47                 4.0       2320.0           405.0   \n",
              "15273    -117.28     33.06                 8.0       4172.0          1022.0   \n",
              "18151    -122.04     37.34                19.0       3694.0          1036.0   \n",
              "\n",
              "       population  households  median_income  median_house_value  \\\n",
              "17405      1057.0       459.0         2.2538            162500.0   \n",
              "13734      1252.0       488.0         3.8816            134600.0   \n",
              "10460      1408.0       477.0         6.3369            256000.0   \n",
              "15273      2585.0       941.0         4.0118            245800.0   \n",
              "18151      2496.0       986.0         3.6991            271500.0   \n",
              "\n",
              "      ocean_proximity  \n",
              "17405       <1H OCEAN  \n",
              "13734          INLAND  \n",
              "10460      NEAR OCEAN  \n",
              "15273      NEAR OCEAN  \n",
              "18151       <1H OCEAN  "
            ],
            "text/html": [
              "\n",
              "  <div id=\"df-cba90a30-99e5-4f15-87fb-674fcc511a98\">\n",
              "    <div class=\"colab-df-container\">\n",
              "      <div>\n",
              "<style scoped>\n",
              "    .dataframe tbody tr th:only-of-type {\n",
              "        vertical-align: middle;\n",
              "    }\n",
              "\n",
              "    .dataframe tbody tr th {\n",
              "        vertical-align: top;\n",
              "    }\n",
              "\n",
              "    .dataframe thead th {\n",
              "        text-align: right;\n",
              "    }\n",
              "</style>\n",
              "<table border=\"1\" class=\"dataframe\">\n",
              "  <thead>\n",
              "    <tr style=\"text-align: right;\">\n",
              "      <th></th>\n",
              "      <th>longitude</th>\n",
              "      <th>latitude</th>\n",
              "      <th>housing_median_age</th>\n",
              "      <th>total_rooms</th>\n",
              "      <th>total_bedrooms</th>\n",
              "      <th>population</th>\n",
              "      <th>households</th>\n",
              "      <th>median_income</th>\n",
              "      <th>median_house_value</th>\n",
              "      <th>ocean_proximity</th>\n",
              "    </tr>\n",
              "  </thead>\n",
              "  <tbody>\n",
              "    <tr>\n",
              "      <th>17405</th>\n",
              "      <td>-120.45</td>\n",
              "      <td>34.95</td>\n",
              "      <td>7.0</td>\n",
              "      <td>1479.0</td>\n",
              "      <td>532.0</td>\n",
              "      <td>1057.0</td>\n",
              "      <td>459.0</td>\n",
              "      <td>2.2538</td>\n",
              "      <td>162500.0</td>\n",
              "      <td>&lt;1H OCEAN</td>\n",
              "    </tr>\n",
              "    <tr>\n",
              "      <th>13734</th>\n",
              "      <td>-117.19</td>\n",
              "      <td>34.05</td>\n",
              "      <td>33.0</td>\n",
              "      <td>3007.0</td>\n",
              "      <td>498.0</td>\n",
              "      <td>1252.0</td>\n",
              "      <td>488.0</td>\n",
              "      <td>3.8816</td>\n",
              "      <td>134600.0</td>\n",
              "      <td>INLAND</td>\n",
              "    </tr>\n",
              "    <tr>\n",
              "      <th>10460</th>\n",
              "      <td>-117.63</td>\n",
              "      <td>33.47</td>\n",
              "      <td>4.0</td>\n",
              "      <td>2320.0</td>\n",
              "      <td>405.0</td>\n",
              "      <td>1408.0</td>\n",
              "      <td>477.0</td>\n",
              "      <td>6.3369</td>\n",
              "      <td>256000.0</td>\n",
              "      <td>NEAR OCEAN</td>\n",
              "    </tr>\n",
              "    <tr>\n",
              "      <th>15273</th>\n",
              "      <td>-117.28</td>\n",
              "      <td>33.06</td>\n",
              "      <td>8.0</td>\n",
              "      <td>4172.0</td>\n",
              "      <td>1022.0</td>\n",
              "      <td>2585.0</td>\n",
              "      <td>941.0</td>\n",
              "      <td>4.0118</td>\n",
              "      <td>245800.0</td>\n",
              "      <td>NEAR OCEAN</td>\n",
              "    </tr>\n",
              "    <tr>\n",
              "      <th>18151</th>\n",
              "      <td>-122.04</td>\n",
              "      <td>37.34</td>\n",
              "      <td>19.0</td>\n",
              "      <td>3694.0</td>\n",
              "      <td>1036.0</td>\n",
              "      <td>2496.0</td>\n",
              "      <td>986.0</td>\n",
              "      <td>3.6991</td>\n",
              "      <td>271500.0</td>\n",
              "      <td>&lt;1H OCEAN</td>\n",
              "    </tr>\n",
              "  </tbody>\n",
              "</table>\n",
              "</div>\n",
              "      <button class=\"colab-df-convert\" onclick=\"convertToInteractive('df-cba90a30-99e5-4f15-87fb-674fcc511a98')\"\n",
              "              title=\"Convert this dataframe to an interactive table.\"\n",
              "              style=\"display:none;\">\n",
              "        \n",
              "  <svg xmlns=\"http://www.w3.org/2000/svg\" height=\"24px\"viewBox=\"0 0 24 24\"\n",
              "       width=\"24px\">\n",
              "    <path d=\"M0 0h24v24H0V0z\" fill=\"none\"/>\n",
              "    <path d=\"M18.56 5.44l.94 2.06.94-2.06 2.06-.94-2.06-.94-.94-2.06-.94 2.06-2.06.94zm-11 1L8.5 8.5l.94-2.06 2.06-.94-2.06-.94L8.5 2.5l-.94 2.06-2.06.94zm10 10l.94 2.06.94-2.06 2.06-.94-2.06-.94-.94-2.06-.94 2.06-2.06.94z\"/><path d=\"M17.41 7.96l-1.37-1.37c-.4-.4-.92-.59-1.43-.59-.52 0-1.04.2-1.43.59L10.3 9.45l-7.72 7.72c-.78.78-.78 2.05 0 2.83L4 21.41c.39.39.9.59 1.41.59.51 0 1.02-.2 1.41-.59l7.78-7.78 2.81-2.81c.8-.78.8-2.07 0-2.86zM5.41 20L4 18.59l7.72-7.72 1.47 1.35L5.41 20z\"/>\n",
              "  </svg>\n",
              "      </button>\n",
              "      \n",
              "  <style>\n",
              "    .colab-df-container {\n",
              "      display:flex;\n",
              "      flex-wrap:wrap;\n",
              "      gap: 12px;\n",
              "    }\n",
              "\n",
              "    .colab-df-convert {\n",
              "      background-color: #E8F0FE;\n",
              "      border: none;\n",
              "      border-radius: 50%;\n",
              "      cursor: pointer;\n",
              "      display: none;\n",
              "      fill: #1967D2;\n",
              "      height: 32px;\n",
              "      padding: 0 0 0 0;\n",
              "      width: 32px;\n",
              "    }\n",
              "\n",
              "    .colab-df-convert:hover {\n",
              "      background-color: #E2EBFA;\n",
              "      box-shadow: 0px 1px 2px rgba(60, 64, 67, 0.3), 0px 1px 3px 1px rgba(60, 64, 67, 0.15);\n",
              "      fill: #174EA6;\n",
              "    }\n",
              "\n",
              "    [theme=dark] .colab-df-convert {\n",
              "      background-color: #3B4455;\n",
              "      fill: #D2E3FC;\n",
              "    }\n",
              "\n",
              "    [theme=dark] .colab-df-convert:hover {\n",
              "      background-color: #434B5C;\n",
              "      box-shadow: 0px 1px 3px 1px rgba(0, 0, 0, 0.15);\n",
              "      filter: drop-shadow(0px 1px 2px rgba(0, 0, 0, 0.3));\n",
              "      fill: #FFFFFF;\n",
              "    }\n",
              "  </style>\n",
              "\n",
              "      <script>\n",
              "        const buttonEl =\n",
              "          document.querySelector('#df-cba90a30-99e5-4f15-87fb-674fcc511a98 button.colab-df-convert');\n",
              "        buttonEl.style.display =\n",
              "          google.colab.kernel.accessAllowed ? 'block' : 'none';\n",
              "\n",
              "        async function convertToInteractive(key) {\n",
              "          const element = document.querySelector('#df-cba90a30-99e5-4f15-87fb-674fcc511a98');\n",
              "          const dataTable =\n",
              "            await google.colab.kernel.invokeFunction('convertToInteractive',\n",
              "                                                     [key], {});\n",
              "          if (!dataTable) return;\n",
              "\n",
              "          const docLinkHtml = 'Like what you see? Visit the ' +\n",
              "            '<a target=\"_blank\" href=https://colab.research.google.com/notebooks/data_table.ipynb>data table notebook</a>'\n",
              "            + ' to learn more about interactive tables.';\n",
              "          element.innerHTML = '';\n",
              "          dataTable['output_type'] = 'display_data';\n",
              "          await google.colab.output.renderOutput(dataTable, element);\n",
              "          const docLink = document.createElement('div');\n",
              "          docLink.innerHTML = docLinkHtml;\n",
              "          element.appendChild(docLink);\n",
              "        }\n",
              "      </script>\n",
              "    </div>\n",
              "  </div>\n",
              "  "
            ]
          },
          "metadata": {},
          "execution_count": 9
        }
      ]
    },
    {
      "cell_type": "code",
      "source": [
        "df.info()"
      ],
      "metadata": {
        "colab": {
          "base_uri": "https://localhost:8080/"
        },
        "id": "8vaQ99NlEy1v",
        "outputId": "c0404caa-b4e7-4276-dc5a-befbee10d3fa"
      },
      "execution_count": null,
      "outputs": [
        {
          "output_type": "stream",
          "name": "stdout",
          "text": [
            "<class 'pandas.core.frame.DataFrame'>\n",
            "RangeIndex: 20640 entries, 0 to 20639\n",
            "Data columns (total 10 columns):\n",
            " #   Column              Non-Null Count  Dtype  \n",
            "---  ------              --------------  -----  \n",
            " 0   longitude           20640 non-null  float64\n",
            " 1   latitude            20640 non-null  float64\n",
            " 2   housing_median_age  20640 non-null  float64\n",
            " 3   total_rooms         20640 non-null  float64\n",
            " 4   total_bedrooms      20433 non-null  float64\n",
            " 5   population          20640 non-null  float64\n",
            " 6   households          20640 non-null  float64\n",
            " 7   median_income       20640 non-null  float64\n",
            " 8   median_house_value  20640 non-null  float64\n",
            " 9   ocean_proximity     20640 non-null  object \n",
            "dtypes: float64(9), object(1)\n",
            "memory usage: 1.6+ MB\n"
          ]
        }
      ]
    },
    {
      "cell_type": "code",
      "source": [
        "df.ocean_proximity.value_counts()#.unique()"
      ],
      "metadata": {
        "colab": {
          "base_uri": "https://localhost:8080/"
        },
        "id": "b2wkecnnGGVM",
        "outputId": "f96024fc-a9fd-4e0d-d828-28cf866ea301"
      },
      "execution_count": null,
      "outputs": [
        {
          "output_type": "execute_result",
          "data": {
            "text/plain": [
              "<1H OCEAN     9136\n",
              "INLAND        6551\n",
              "NEAR OCEAN    2658\n",
              "NEAR BAY      2290\n",
              "ISLAND           5\n",
              "Name: ocean_proximity, dtype: int64"
            ]
          },
          "metadata": {},
          "execution_count": 11
        }
      ]
    },
    {
      "cell_type": "code",
      "source": [
        "df.shape"
      ],
      "metadata": {
        "colab": {
          "base_uri": "https://localhost:8080/"
        },
        "id": "r1PZOpo0IDY5",
        "outputId": "6ac03a48-5019-4018-964d-cbc6836366c8"
      },
      "execution_count": null,
      "outputs": [
        {
          "output_type": "execute_result",
          "data": {
            "text/plain": [
              "(20640, 10)"
            ]
          },
          "metadata": {},
          "execution_count": 12
        }
      ]
    },
    {
      "cell_type": "code",
      "source": [
        "dct_codes = {l:t for t,l in enumerate(set(df.ocean_proximity))}\n",
        "codes_ocean = []\n",
        "for i in df.ocean_proximity:\n",
        "  for j in dct_codes:\n",
        "    if i == j:\n",
        "      codes_ocean.append(dct_codes[j])\n",
        "print(f'кодировка: {dct_codes}\\nпроверка длины: {len(codes_ocean)}')"
      ],
      "metadata": {
        "colab": {
          "base_uri": "https://localhost:8080/"
        },
        "id": "__RlTE0aGGO7",
        "outputId": "ecde7697-7ee5-48bf-9f57-92bdb3b4ef53"
      },
      "execution_count": null,
      "outputs": [
        {
          "output_type": "stream",
          "name": "stdout",
          "text": [
            "кодировка: {'ISLAND': 0, 'NEAR BAY': 1, '<1H OCEAN': 2, 'INLAND': 3, 'NEAR OCEAN': 4}\n",
            "проверка длины: 20640\n"
          ]
        }
      ]
    },
    {
      "cell_type": "code",
      "source": [
        "df.ocean_proximity = codes_ocean\n",
        "df.ocean_proximity = df.ocean_proximity.astype('float64')\n",
        "cols = df.columns.tolist()\n",
        "cols = cols[:8] + cols[-1:] + cols[8:9]\n",
        "df = df[cols]\n",
        "df.sample(6)"
      ],
      "metadata": {
        "colab": {
          "base_uri": "https://localhost:8080/",
          "height": 237
        },
        "id": "Jr8w2fa2GGLn",
        "outputId": "5b68ec4e-f8ad-48d2-a846-1437aaf8ad95"
      },
      "execution_count": null,
      "outputs": [
        {
          "output_type": "execute_result",
          "data": {
            "text/plain": [
              "       longitude  latitude  housing_median_age  total_rooms  total_bedrooms  \\\n",
              "1474     -122.04     37.97                26.0       2470.0           626.0   \n",
              "14261    -117.12     32.70                36.0       1011.0           253.0   \n",
              "18119    -122.03     37.32                15.0       5132.0          1059.0   \n",
              "15174    -117.07     33.03                14.0       6665.0          1231.0   \n",
              "9776     -121.24     36.34                33.0       1691.0           308.0   \n",
              "10645    -117.80     33.55                35.0       2067.0           428.0   \n",
              "\n",
              "       population  households  median_income  ocean_proximity  \\\n",
              "1474       1174.0       573.0         2.9861              1.0   \n",
              "14261       763.0       226.0         1.8187              4.0   \n",
              "18119      2156.0       982.0         5.6511              2.0   \n",
              "15174      2026.0      1001.0         5.0900              2.0   \n",
              "9776        792.0       262.0         2.6648              2.0   \n",
              "10645       724.0       377.0         5.8371              2.0   \n",
              "\n",
              "       median_house_value  \n",
              "1474             160900.0  \n",
              "14261             84100.0  \n",
              "18119            404800.0  \n",
              "15174            268500.0  \n",
              "9776             164600.0  \n",
              "10645            500001.0  "
            ],
            "text/html": [
              "\n",
              "  <div id=\"df-1f25614c-ea7a-46be-b443-dd54af353eaa\">\n",
              "    <div class=\"colab-df-container\">\n",
              "      <div>\n",
              "<style scoped>\n",
              "    .dataframe tbody tr th:only-of-type {\n",
              "        vertical-align: middle;\n",
              "    }\n",
              "\n",
              "    .dataframe tbody tr th {\n",
              "        vertical-align: top;\n",
              "    }\n",
              "\n",
              "    .dataframe thead th {\n",
              "        text-align: right;\n",
              "    }\n",
              "</style>\n",
              "<table border=\"1\" class=\"dataframe\">\n",
              "  <thead>\n",
              "    <tr style=\"text-align: right;\">\n",
              "      <th></th>\n",
              "      <th>longitude</th>\n",
              "      <th>latitude</th>\n",
              "      <th>housing_median_age</th>\n",
              "      <th>total_rooms</th>\n",
              "      <th>total_bedrooms</th>\n",
              "      <th>population</th>\n",
              "      <th>households</th>\n",
              "      <th>median_income</th>\n",
              "      <th>ocean_proximity</th>\n",
              "      <th>median_house_value</th>\n",
              "    </tr>\n",
              "  </thead>\n",
              "  <tbody>\n",
              "    <tr>\n",
              "      <th>1474</th>\n",
              "      <td>-122.04</td>\n",
              "      <td>37.97</td>\n",
              "      <td>26.0</td>\n",
              "      <td>2470.0</td>\n",
              "      <td>626.0</td>\n",
              "      <td>1174.0</td>\n",
              "      <td>573.0</td>\n",
              "      <td>2.9861</td>\n",
              "      <td>1.0</td>\n",
              "      <td>160900.0</td>\n",
              "    </tr>\n",
              "    <tr>\n",
              "      <th>14261</th>\n",
              "      <td>-117.12</td>\n",
              "      <td>32.70</td>\n",
              "      <td>36.0</td>\n",
              "      <td>1011.0</td>\n",
              "      <td>253.0</td>\n",
              "      <td>763.0</td>\n",
              "      <td>226.0</td>\n",
              "      <td>1.8187</td>\n",
              "      <td>4.0</td>\n",
              "      <td>84100.0</td>\n",
              "    </tr>\n",
              "    <tr>\n",
              "      <th>18119</th>\n",
              "      <td>-122.03</td>\n",
              "      <td>37.32</td>\n",
              "      <td>15.0</td>\n",
              "      <td>5132.0</td>\n",
              "      <td>1059.0</td>\n",
              "      <td>2156.0</td>\n",
              "      <td>982.0</td>\n",
              "      <td>5.6511</td>\n",
              "      <td>2.0</td>\n",
              "      <td>404800.0</td>\n",
              "    </tr>\n",
              "    <tr>\n",
              "      <th>15174</th>\n",
              "      <td>-117.07</td>\n",
              "      <td>33.03</td>\n",
              "      <td>14.0</td>\n",
              "      <td>6665.0</td>\n",
              "      <td>1231.0</td>\n",
              "      <td>2026.0</td>\n",
              "      <td>1001.0</td>\n",
              "      <td>5.0900</td>\n",
              "      <td>2.0</td>\n",
              "      <td>268500.0</td>\n",
              "    </tr>\n",
              "    <tr>\n",
              "      <th>9776</th>\n",
              "      <td>-121.24</td>\n",
              "      <td>36.34</td>\n",
              "      <td>33.0</td>\n",
              "      <td>1691.0</td>\n",
              "      <td>308.0</td>\n",
              "      <td>792.0</td>\n",
              "      <td>262.0</td>\n",
              "      <td>2.6648</td>\n",
              "      <td>2.0</td>\n",
              "      <td>164600.0</td>\n",
              "    </tr>\n",
              "    <tr>\n",
              "      <th>10645</th>\n",
              "      <td>-117.80</td>\n",
              "      <td>33.55</td>\n",
              "      <td>35.0</td>\n",
              "      <td>2067.0</td>\n",
              "      <td>428.0</td>\n",
              "      <td>724.0</td>\n",
              "      <td>377.0</td>\n",
              "      <td>5.8371</td>\n",
              "      <td>2.0</td>\n",
              "      <td>500001.0</td>\n",
              "    </tr>\n",
              "  </tbody>\n",
              "</table>\n",
              "</div>\n",
              "      <button class=\"colab-df-convert\" onclick=\"convertToInteractive('df-1f25614c-ea7a-46be-b443-dd54af353eaa')\"\n",
              "              title=\"Convert this dataframe to an interactive table.\"\n",
              "              style=\"display:none;\">\n",
              "        \n",
              "  <svg xmlns=\"http://www.w3.org/2000/svg\" height=\"24px\"viewBox=\"0 0 24 24\"\n",
              "       width=\"24px\">\n",
              "    <path d=\"M0 0h24v24H0V0z\" fill=\"none\"/>\n",
              "    <path d=\"M18.56 5.44l.94 2.06.94-2.06 2.06-.94-2.06-.94-.94-2.06-.94 2.06-2.06.94zm-11 1L8.5 8.5l.94-2.06 2.06-.94-2.06-.94L8.5 2.5l-.94 2.06-2.06.94zm10 10l.94 2.06.94-2.06 2.06-.94-2.06-.94-.94-2.06-.94 2.06-2.06.94z\"/><path d=\"M17.41 7.96l-1.37-1.37c-.4-.4-.92-.59-1.43-.59-.52 0-1.04.2-1.43.59L10.3 9.45l-7.72 7.72c-.78.78-.78 2.05 0 2.83L4 21.41c.39.39.9.59 1.41.59.51 0 1.02-.2 1.41-.59l7.78-7.78 2.81-2.81c.8-.78.8-2.07 0-2.86zM5.41 20L4 18.59l7.72-7.72 1.47 1.35L5.41 20z\"/>\n",
              "  </svg>\n",
              "      </button>\n",
              "      \n",
              "  <style>\n",
              "    .colab-df-container {\n",
              "      display:flex;\n",
              "      flex-wrap:wrap;\n",
              "      gap: 12px;\n",
              "    }\n",
              "\n",
              "    .colab-df-convert {\n",
              "      background-color: #E8F0FE;\n",
              "      border: none;\n",
              "      border-radius: 50%;\n",
              "      cursor: pointer;\n",
              "      display: none;\n",
              "      fill: #1967D2;\n",
              "      height: 32px;\n",
              "      padding: 0 0 0 0;\n",
              "      width: 32px;\n",
              "    }\n",
              "\n",
              "    .colab-df-convert:hover {\n",
              "      background-color: #E2EBFA;\n",
              "      box-shadow: 0px 1px 2px rgba(60, 64, 67, 0.3), 0px 1px 3px 1px rgba(60, 64, 67, 0.15);\n",
              "      fill: #174EA6;\n",
              "    }\n",
              "\n",
              "    [theme=dark] .colab-df-convert {\n",
              "      background-color: #3B4455;\n",
              "      fill: #D2E3FC;\n",
              "    }\n",
              "\n",
              "    [theme=dark] .colab-df-convert:hover {\n",
              "      background-color: #434B5C;\n",
              "      box-shadow: 0px 1px 3px 1px rgba(0, 0, 0, 0.15);\n",
              "      filter: drop-shadow(0px 1px 2px rgba(0, 0, 0, 0.3));\n",
              "      fill: #FFFFFF;\n",
              "    }\n",
              "  </style>\n",
              "\n",
              "      <script>\n",
              "        const buttonEl =\n",
              "          document.querySelector('#df-1f25614c-ea7a-46be-b443-dd54af353eaa button.colab-df-convert');\n",
              "        buttonEl.style.display =\n",
              "          google.colab.kernel.accessAllowed ? 'block' : 'none';\n",
              "\n",
              "        async function convertToInteractive(key) {\n",
              "          const element = document.querySelector('#df-1f25614c-ea7a-46be-b443-dd54af353eaa');\n",
              "          const dataTable =\n",
              "            await google.colab.kernel.invokeFunction('convertToInteractive',\n",
              "                                                     [key], {});\n",
              "          if (!dataTable) return;\n",
              "\n",
              "          const docLinkHtml = 'Like what you see? Visit the ' +\n",
              "            '<a target=\"_blank\" href=https://colab.research.google.com/notebooks/data_table.ipynb>data table notebook</a>'\n",
              "            + ' to learn more about interactive tables.';\n",
              "          element.innerHTML = '';\n",
              "          dataTable['output_type'] = 'display_data';\n",
              "          await google.colab.output.renderOutput(dataTable, element);\n",
              "          const docLink = document.createElement('div');\n",
              "          docLink.innerHTML = docLinkHtml;\n",
              "          element.appendChild(docLink);\n",
              "        }\n",
              "      </script>\n",
              "    </div>\n",
              "  </div>\n",
              "  "
            ]
          },
          "metadata": {},
          "execution_count": 14
        }
      ]
    },
    {
      "cell_type": "code",
      "source": [
        "df.head(2)"
      ],
      "metadata": {
        "colab": {
          "base_uri": "https://localhost:8080/",
          "height": 112
        },
        "id": "_gmYmrBBu83w",
        "outputId": "ed3629e5-f097-402f-f0c4-405a2134d4d5"
      },
      "execution_count": null,
      "outputs": [
        {
          "output_type": "execute_result",
          "data": {
            "text/plain": [
              "   longitude  latitude  housing_median_age  total_rooms  total_bedrooms  \\\n",
              "0    -122.23     37.88                41.0        880.0           129.0   \n",
              "1    -122.22     37.86                21.0       7099.0          1106.0   \n",
              "\n",
              "   population  households  median_income  ocean_proximity  median_house_value  \n",
              "0       322.0       126.0         8.3252              1.0            452600.0  \n",
              "1      2401.0      1138.0         8.3014              1.0            358500.0  "
            ],
            "text/html": [
              "\n",
              "  <div id=\"df-e534c0ff-9d39-4749-ac75-7b933356e9ae\">\n",
              "    <div class=\"colab-df-container\">\n",
              "      <div>\n",
              "<style scoped>\n",
              "    .dataframe tbody tr th:only-of-type {\n",
              "        vertical-align: middle;\n",
              "    }\n",
              "\n",
              "    .dataframe tbody tr th {\n",
              "        vertical-align: top;\n",
              "    }\n",
              "\n",
              "    .dataframe thead th {\n",
              "        text-align: right;\n",
              "    }\n",
              "</style>\n",
              "<table border=\"1\" class=\"dataframe\">\n",
              "  <thead>\n",
              "    <tr style=\"text-align: right;\">\n",
              "      <th></th>\n",
              "      <th>longitude</th>\n",
              "      <th>latitude</th>\n",
              "      <th>housing_median_age</th>\n",
              "      <th>total_rooms</th>\n",
              "      <th>total_bedrooms</th>\n",
              "      <th>population</th>\n",
              "      <th>households</th>\n",
              "      <th>median_income</th>\n",
              "      <th>ocean_proximity</th>\n",
              "      <th>median_house_value</th>\n",
              "    </tr>\n",
              "  </thead>\n",
              "  <tbody>\n",
              "    <tr>\n",
              "      <th>0</th>\n",
              "      <td>-122.23</td>\n",
              "      <td>37.88</td>\n",
              "      <td>41.0</td>\n",
              "      <td>880.0</td>\n",
              "      <td>129.0</td>\n",
              "      <td>322.0</td>\n",
              "      <td>126.0</td>\n",
              "      <td>8.3252</td>\n",
              "      <td>1.0</td>\n",
              "      <td>452600.0</td>\n",
              "    </tr>\n",
              "    <tr>\n",
              "      <th>1</th>\n",
              "      <td>-122.22</td>\n",
              "      <td>37.86</td>\n",
              "      <td>21.0</td>\n",
              "      <td>7099.0</td>\n",
              "      <td>1106.0</td>\n",
              "      <td>2401.0</td>\n",
              "      <td>1138.0</td>\n",
              "      <td>8.3014</td>\n",
              "      <td>1.0</td>\n",
              "      <td>358500.0</td>\n",
              "    </tr>\n",
              "  </tbody>\n",
              "</table>\n",
              "</div>\n",
              "      <button class=\"colab-df-convert\" onclick=\"convertToInteractive('df-e534c0ff-9d39-4749-ac75-7b933356e9ae')\"\n",
              "              title=\"Convert this dataframe to an interactive table.\"\n",
              "              style=\"display:none;\">\n",
              "        \n",
              "  <svg xmlns=\"http://www.w3.org/2000/svg\" height=\"24px\"viewBox=\"0 0 24 24\"\n",
              "       width=\"24px\">\n",
              "    <path d=\"M0 0h24v24H0V0z\" fill=\"none\"/>\n",
              "    <path d=\"M18.56 5.44l.94 2.06.94-2.06 2.06-.94-2.06-.94-.94-2.06-.94 2.06-2.06.94zm-11 1L8.5 8.5l.94-2.06 2.06-.94-2.06-.94L8.5 2.5l-.94 2.06-2.06.94zm10 10l.94 2.06.94-2.06 2.06-.94-2.06-.94-.94-2.06-.94 2.06-2.06.94z\"/><path d=\"M17.41 7.96l-1.37-1.37c-.4-.4-.92-.59-1.43-.59-.52 0-1.04.2-1.43.59L10.3 9.45l-7.72 7.72c-.78.78-.78 2.05 0 2.83L4 21.41c.39.39.9.59 1.41.59.51 0 1.02-.2 1.41-.59l7.78-7.78 2.81-2.81c.8-.78.8-2.07 0-2.86zM5.41 20L4 18.59l7.72-7.72 1.47 1.35L5.41 20z\"/>\n",
              "  </svg>\n",
              "      </button>\n",
              "      \n",
              "  <style>\n",
              "    .colab-df-container {\n",
              "      display:flex;\n",
              "      flex-wrap:wrap;\n",
              "      gap: 12px;\n",
              "    }\n",
              "\n",
              "    .colab-df-convert {\n",
              "      background-color: #E8F0FE;\n",
              "      border: none;\n",
              "      border-radius: 50%;\n",
              "      cursor: pointer;\n",
              "      display: none;\n",
              "      fill: #1967D2;\n",
              "      height: 32px;\n",
              "      padding: 0 0 0 0;\n",
              "      width: 32px;\n",
              "    }\n",
              "\n",
              "    .colab-df-convert:hover {\n",
              "      background-color: #E2EBFA;\n",
              "      box-shadow: 0px 1px 2px rgba(60, 64, 67, 0.3), 0px 1px 3px 1px rgba(60, 64, 67, 0.15);\n",
              "      fill: #174EA6;\n",
              "    }\n",
              "\n",
              "    [theme=dark] .colab-df-convert {\n",
              "      background-color: #3B4455;\n",
              "      fill: #D2E3FC;\n",
              "    }\n",
              "\n",
              "    [theme=dark] .colab-df-convert:hover {\n",
              "      background-color: #434B5C;\n",
              "      box-shadow: 0px 1px 3px 1px rgba(0, 0, 0, 0.15);\n",
              "      filter: drop-shadow(0px 1px 2px rgba(0, 0, 0, 0.3));\n",
              "      fill: #FFFFFF;\n",
              "    }\n",
              "  </style>\n",
              "\n",
              "      <script>\n",
              "        const buttonEl =\n",
              "          document.querySelector('#df-e534c0ff-9d39-4749-ac75-7b933356e9ae button.colab-df-convert');\n",
              "        buttonEl.style.display =\n",
              "          google.colab.kernel.accessAllowed ? 'block' : 'none';\n",
              "\n",
              "        async function convertToInteractive(key) {\n",
              "          const element = document.querySelector('#df-e534c0ff-9d39-4749-ac75-7b933356e9ae');\n",
              "          const dataTable =\n",
              "            await google.colab.kernel.invokeFunction('convertToInteractive',\n",
              "                                                     [key], {});\n",
              "          if (!dataTable) return;\n",
              "\n",
              "          const docLinkHtml = 'Like what you see? Visit the ' +\n",
              "            '<a target=\"_blank\" href=https://colab.research.google.com/notebooks/data_table.ipynb>data table notebook</a>'\n",
              "            + ' to learn more about interactive tables.';\n",
              "          element.innerHTML = '';\n",
              "          dataTable['output_type'] = 'display_data';\n",
              "          await google.colab.output.renderOutput(dataTable, element);\n",
              "          const docLink = document.createElement('div');\n",
              "          docLink.innerHTML = docLinkHtml;\n",
              "          element.appendChild(docLink);\n",
              "        }\n",
              "      </script>\n",
              "    </div>\n",
              "  </div>\n",
              "  "
            ]
          },
          "metadata": {},
          "execution_count": 15
        }
      ]
    },
    {
      "cell_type": "code",
      "source": [
        "df.astype('float32').info()"
      ],
      "metadata": {
        "id": "phNY4gXFGGF2",
        "colab": {
          "base_uri": "https://localhost:8080/"
        },
        "outputId": "60d57513-3d6c-42a0-c226-582b5430d6fa"
      },
      "execution_count": null,
      "outputs": [
        {
          "output_type": "stream",
          "name": "stdout",
          "text": [
            "<class 'pandas.core.frame.DataFrame'>\n",
            "RangeIndex: 20640 entries, 0 to 20639\n",
            "Data columns (total 10 columns):\n",
            " #   Column              Non-Null Count  Dtype  \n",
            "---  ------              --------------  -----  \n",
            " 0   longitude           20640 non-null  float32\n",
            " 1   latitude            20640 non-null  float32\n",
            " 2   housing_median_age  20640 non-null  float32\n",
            " 3   total_rooms         20640 non-null  float32\n",
            " 4   total_bedrooms      20433 non-null  float32\n",
            " 5   population          20640 non-null  float32\n",
            " 6   households          20640 non-null  float32\n",
            " 7   median_income       20640 non-null  float32\n",
            " 8   ocean_proximity     20640 non-null  float32\n",
            " 9   median_house_value  20640 non-null  float32\n",
            "dtypes: float32(10)\n",
            "memory usage: 806.4 KB\n"
          ]
        }
      ]
    },
    {
      "cell_type": "code",
      "source": [
        "corr = df.corr()\n",
        "corr.style.background_gradient(cmap='coolwarm')"
      ],
      "metadata": {
        "colab": {
          "base_uri": "https://localhost:8080/",
          "height": 363
        },
        "id": "j_VR9G7PNfi6",
        "outputId": "540b0a14-6cc0-49ae-b45d-e74603437a9d"
      },
      "execution_count": null,
      "outputs": [
        {
          "output_type": "execute_result",
          "data": {
            "text/plain": [
              "<pandas.io.formats.style.Styler at 0x7f50ccae15a0>"
            ],
            "text/html": [
              "<style type=\"text/css\">\n",
              "#T_5fc5f_row0_col0, #T_5fc5f_row1_col1, #T_5fc5f_row2_col2, #T_5fc5f_row3_col3, #T_5fc5f_row4_col4, #T_5fc5f_row5_col5, #T_5fc5f_row6_col6, #T_5fc5f_row7_col7, #T_5fc5f_row8_col8, #T_5fc5f_row9_col9 {\n",
              "  background-color: #b40426;\n",
              "  color: #f1f1f1;\n",
              "}\n",
              "#T_5fc5f_row0_col1, #T_5fc5f_row1_col0, #T_5fc5f_row2_col3, #T_5fc5f_row2_col4, #T_5fc5f_row2_col5, #T_5fc5f_row2_col6, #T_5fc5f_row3_col2, #T_5fc5f_row8_col7, #T_5fc5f_row8_col9, #T_5fc5f_row9_col8 {\n",
              "  background-color: #3b4cc0;\n",
              "  color: #f1f1f1;\n",
              "}\n",
              "#T_5fc5f_row0_col2 {\n",
              "  background-color: #7699f6;\n",
              "  color: #f1f1f1;\n",
              "}\n",
              "#T_5fc5f_row0_col3 {\n",
              "  background-color: #9ebeff;\n",
              "  color: #000000;\n",
              "}\n",
              "#T_5fc5f_row0_col4 {\n",
              "  background-color: #9dbdff;\n",
              "  color: #000000;\n",
              "}\n",
              "#T_5fc5f_row0_col5 {\n",
              "  background-color: #a1c0ff;\n",
              "  color: #000000;\n",
              "}\n",
              "#T_5fc5f_row0_col6, #T_5fc5f_row1_col2, #T_5fc5f_row8_col3 {\n",
              "  background-color: #96b7ff;\n",
              "  color: #000000;\n",
              "}\n",
              "#T_5fc5f_row0_col7 {\n",
              "  background-color: #5977e3;\n",
              "  color: #f1f1f1;\n",
              "}\n",
              "#T_5fc5f_row0_col8 {\n",
              "  background-color: #a6c4fe;\n",
              "  color: #000000;\n",
              "}\n",
              "#T_5fc5f_row0_col9 {\n",
              "  background-color: #6687ed;\n",
              "  color: #f1f1f1;\n",
              "}\n",
              "#T_5fc5f_row1_col3 {\n",
              "  background-color: #89acfd;\n",
              "  color: #000000;\n",
              "}\n",
              "#T_5fc5f_row1_col4 {\n",
              "  background-color: #799cf8;\n",
              "  color: #f1f1f1;\n",
              "}\n",
              "#T_5fc5f_row1_col5 {\n",
              "  background-color: #688aef;\n",
              "  color: #f1f1f1;\n",
              "}\n",
              "#T_5fc5f_row1_col6, #T_5fc5f_row4_col8, #T_5fc5f_row7_col2 {\n",
              "  background-color: #7396f5;\n",
              "  color: #f1f1f1;\n",
              "}\n",
              "#T_5fc5f_row1_col7 {\n",
              "  background-color: #485fd1;\n",
              "  color: #f1f1f1;\n",
              "}\n",
              "#T_5fc5f_row1_col8, #T_5fc5f_row5_col7 {\n",
              "  background-color: #5f7fe8;\n",
              "  color: #f1f1f1;\n",
              "}\n",
              "#T_5fc5f_row1_col9 {\n",
              "  background-color: #4b64d5;\n",
              "  color: #f1f1f1;\n",
              "}\n",
              "#T_5fc5f_row2_col0, #T_5fc5f_row5_col1 {\n",
              "  background-color: #c7d7f0;\n",
              "  color: #000000;\n",
              "}\n",
              "#T_5fc5f_row2_col1 {\n",
              "  background-color: #d9dce1;\n",
              "  color: #000000;\n",
              "}\n",
              "#T_5fc5f_row2_col7 {\n",
              "  background-color: #3d50c3;\n",
              "  color: #f1f1f1;\n",
              "}\n",
              "#T_5fc5f_row2_col8 {\n",
              "  background-color: #3c4ec2;\n",
              "  color: #f1f1f1;\n",
              "}\n",
              "#T_5fc5f_row2_col9 {\n",
              "  background-color: #92b4fe;\n",
              "  color: #000000;\n",
              "}\n",
              "#T_5fc5f_row3_col0 {\n",
              "  background-color: #dddcdc;\n",
              "  color: #000000;\n",
              "}\n",
              "#T_5fc5f_row3_col1 {\n",
              "  background-color: #d3dbe7;\n",
              "  color: #000000;\n",
              "}\n",
              "#T_5fc5f_row3_col4, #T_5fc5f_row4_col3 {\n",
              "  background-color: #c73635;\n",
              "  color: #f1f1f1;\n",
              "}\n",
              "#T_5fc5f_row3_col5 {\n",
              "  background-color: #d95847;\n",
              "  color: #f1f1f1;\n",
              "}\n",
              "#T_5fc5f_row3_col6 {\n",
              "  background-color: #cb3e38;\n",
              "  color: #f1f1f1;\n",
              "}\n",
              "#T_5fc5f_row3_col7 {\n",
              "  background-color: #9bbcff;\n",
              "  color: #000000;\n",
              "}\n",
              "#T_5fc5f_row3_col8 {\n",
              "  background-color: #779af7;\n",
              "  color: #f1f1f1;\n",
              "}\n",
              "#T_5fc5f_row3_col9 {\n",
              "  background-color: #9abbff;\n",
              "  color: #000000;\n",
              "}\n",
              "#T_5fc5f_row4_col0 {\n",
              "  background-color: #e1dad6;\n",
              "  color: #000000;\n",
              "}\n",
              "#T_5fc5f_row4_col1, #T_5fc5f_row8_col1 {\n",
              "  background-color: #cedaeb;\n",
              "  color: #000000;\n",
              "}\n",
              "#T_5fc5f_row4_col2 {\n",
              "  background-color: #4358cb;\n",
              "  color: #f1f1f1;\n",
              "}\n",
              "#T_5fc5f_row4_col5 {\n",
              "  background-color: #d55042;\n",
              "  color: #f1f1f1;\n",
              "}\n",
              "#T_5fc5f_row4_col6, #T_5fc5f_row6_col4 {\n",
              "  background-color: #b8122a;\n",
              "  color: #f1f1f1;\n",
              "}\n",
              "#T_5fc5f_row4_col7 {\n",
              "  background-color: #5b7ae5;\n",
              "  color: #f1f1f1;\n",
              "}\n",
              "#T_5fc5f_row4_col9 {\n",
              "  background-color: #81a4fb;\n",
              "  color: #f1f1f1;\n",
              "}\n",
              "#T_5fc5f_row5_col0 {\n",
              "  background-color: #e5d8d1;\n",
              "  color: #000000;\n",
              "}\n",
              "#T_5fc5f_row5_col2 {\n",
              "  background-color: #4961d2;\n",
              "  color: #f1f1f1;\n",
              "}\n",
              "#T_5fc5f_row5_col3 {\n",
              "  background-color: #d75445;\n",
              "  color: #f1f1f1;\n",
              "}\n",
              "#T_5fc5f_row5_col4 {\n",
              "  background-color: #d44e41;\n",
              "  color: #f1f1f1;\n",
              "}\n",
              "#T_5fc5f_row5_col6, #T_5fc5f_row6_col5 {\n",
              "  background-color: #cd423b;\n",
              "  color: #f1f1f1;\n",
              "}\n",
              "#T_5fc5f_row5_col8 {\n",
              "  background-color: #7093f3;\n",
              "  color: #f1f1f1;\n",
              "}\n",
              "#T_5fc5f_row5_col9 {\n",
              "  background-color: #6b8df0;\n",
              "  color: #f1f1f1;\n",
              "}\n",
              "#T_5fc5f_row6_col0 {\n",
              "  background-color: #dfdbd9;\n",
              "  color: #000000;\n",
              "}\n",
              "#T_5fc5f_row6_col1 {\n",
              "  background-color: #cdd9ec;\n",
              "  color: #000000;\n",
              "}\n",
              "#T_5fc5f_row6_col2 {\n",
              "  background-color: #465ecf;\n",
              "  color: #f1f1f1;\n",
              "}\n",
              "#T_5fc5f_row6_col3 {\n",
              "  background-color: #ca3b37;\n",
              "  color: #f1f1f1;\n",
              "}\n",
              "#T_5fc5f_row6_col7 {\n",
              "  background-color: #6282ea;\n",
              "  color: #f1f1f1;\n",
              "}\n",
              "#T_5fc5f_row6_col8 {\n",
              "  background-color: #6e90f2;\n",
              "  color: #f1f1f1;\n",
              "}\n",
              "#T_5fc5f_row6_col9 {\n",
              "  background-color: #85a8fc;\n",
              "  color: #f1f1f1;\n",
              "}\n",
              "#T_5fc5f_row7_col0 {\n",
              "  background-color: #d5dbe5;\n",
              "  color: #000000;\n",
              "}\n",
              "#T_5fc5f_row7_col1 {\n",
              "  background-color: #ccd9ed;\n",
              "  color: #000000;\n",
              "}\n",
              "#T_5fc5f_row7_col3 {\n",
              "  background-color: #c4d5f3;\n",
              "  color: #000000;\n",
              "}\n",
              "#T_5fc5f_row7_col4 {\n",
              "  background-color: #88abfd;\n",
              "  color: #000000;\n",
              "}\n",
              "#T_5fc5f_row7_col5 {\n",
              "  background-color: #86a9fc;\n",
              "  color: #f1f1f1;\n",
              "}\n",
              "#T_5fc5f_row7_col6, #T_5fc5f_row8_col4 {\n",
              "  background-color: #8badfd;\n",
              "  color: #000000;\n",
              "}\n",
              "#T_5fc5f_row7_col8 {\n",
              "  background-color: #4f69d9;\n",
              "  color: #f1f1f1;\n",
              "}\n",
              "#T_5fc5f_row7_col9 {\n",
              "  background-color: #f59c7d;\n",
              "  color: #000000;\n",
              "}\n",
              "#T_5fc5f_row8_col0 {\n",
              "  background-color: #edd1c2;\n",
              "  color: #000000;\n",
              "}\n",
              "#T_5fc5f_row8_col2 {\n",
              "  background-color: #5e7de7;\n",
              "  color: #f1f1f1;\n",
              "}\n",
              "#T_5fc5f_row8_col5 {\n",
              "  background-color: #84a7fc;\n",
              "  color: #f1f1f1;\n",
              "}\n",
              "#T_5fc5f_row8_col6 {\n",
              "  background-color: #82a6fb;\n",
              "  color: #f1f1f1;\n",
              "}\n",
              "#T_5fc5f_row9_col0 {\n",
              "  background-color: #d1dae9;\n",
              "  color: #000000;\n",
              "}\n",
              "#T_5fc5f_row9_col1 {\n",
              "  background-color: #c1d4f4;\n",
              "  color: #000000;\n",
              "}\n",
              "#T_5fc5f_row9_col2 {\n",
              "  background-color: #adc9fd;\n",
              "  color: #000000;\n",
              "}\n",
              "#T_5fc5f_row9_col3 {\n",
              "  background-color: #b5cdfa;\n",
              "  color: #000000;\n",
              "}\n",
              "#T_5fc5f_row9_col4 {\n",
              "  background-color: #97b8ff;\n",
              "  color: #000000;\n",
              "}\n",
              "#T_5fc5f_row9_col5 {\n",
              "  background-color: #7ea1fa;\n",
              "  color: #f1f1f1;\n",
              "}\n",
              "#T_5fc5f_row9_col6 {\n",
              "  background-color: #98b9ff;\n",
              "  color: #000000;\n",
              "}\n",
              "#T_5fc5f_row9_col7 {\n",
              "  background-color: #f6a385;\n",
              "  color: #000000;\n",
              "}\n",
              "</style>\n",
              "<table id=\"T_5fc5f\" class=\"dataframe\">\n",
              "  <thead>\n",
              "    <tr>\n",
              "      <th class=\"blank level0\" >&nbsp;</th>\n",
              "      <th id=\"T_5fc5f_level0_col0\" class=\"col_heading level0 col0\" >longitude</th>\n",
              "      <th id=\"T_5fc5f_level0_col1\" class=\"col_heading level0 col1\" >latitude</th>\n",
              "      <th id=\"T_5fc5f_level0_col2\" class=\"col_heading level0 col2\" >housing_median_age</th>\n",
              "      <th id=\"T_5fc5f_level0_col3\" class=\"col_heading level0 col3\" >total_rooms</th>\n",
              "      <th id=\"T_5fc5f_level0_col4\" class=\"col_heading level0 col4\" >total_bedrooms</th>\n",
              "      <th id=\"T_5fc5f_level0_col5\" class=\"col_heading level0 col5\" >population</th>\n",
              "      <th id=\"T_5fc5f_level0_col6\" class=\"col_heading level0 col6\" >households</th>\n",
              "      <th id=\"T_5fc5f_level0_col7\" class=\"col_heading level0 col7\" >median_income</th>\n",
              "      <th id=\"T_5fc5f_level0_col8\" class=\"col_heading level0 col8\" >ocean_proximity</th>\n",
              "      <th id=\"T_5fc5f_level0_col9\" class=\"col_heading level0 col9\" >median_house_value</th>\n",
              "    </tr>\n",
              "  </thead>\n",
              "  <tbody>\n",
              "    <tr>\n",
              "      <th id=\"T_5fc5f_level0_row0\" class=\"row_heading level0 row0\" >longitude</th>\n",
              "      <td id=\"T_5fc5f_row0_col0\" class=\"data row0 col0\" >1.000000</td>\n",
              "      <td id=\"T_5fc5f_row0_col1\" class=\"data row0 col1\" >-0.924664</td>\n",
              "      <td id=\"T_5fc5f_row0_col2\" class=\"data row0 col2\" >-0.108197</td>\n",
              "      <td id=\"T_5fc5f_row0_col3\" class=\"data row0 col3\" >0.044568</td>\n",
              "      <td id=\"T_5fc5f_row0_col4\" class=\"data row0 col4\" >0.069608</td>\n",
              "      <td id=\"T_5fc5f_row0_col5\" class=\"data row0 col5\" >0.099773</td>\n",
              "      <td id=\"T_5fc5f_row0_col6\" class=\"data row0 col6\" >0.055310</td>\n",
              "      <td id=\"T_5fc5f_row0_col7\" class=\"data row0 col7\" >-0.015176</td>\n",
              "      <td id=\"T_5fc5f_row0_col8\" class=\"data row0 col8\" >0.179531</td>\n",
              "      <td id=\"T_5fc5f_row0_col9\" class=\"data row0 col9\" >-0.045967</td>\n",
              "    </tr>\n",
              "    <tr>\n",
              "      <th id=\"T_5fc5f_level0_row1\" class=\"row_heading level0 row1\" >latitude</th>\n",
              "      <td id=\"T_5fc5f_row1_col0\" class=\"data row1 col0\" >-0.924664</td>\n",
              "      <td id=\"T_5fc5f_row1_col1\" class=\"data row1 col1\" >1.000000</td>\n",
              "      <td id=\"T_5fc5f_row1_col2\" class=\"data row1 col2\" >0.011173</td>\n",
              "      <td id=\"T_5fc5f_row1_col3\" class=\"data row1 col3\" >-0.036100</td>\n",
              "      <td id=\"T_5fc5f_row1_col4\" class=\"data row1 col4\" >-0.066983</td>\n",
              "      <td id=\"T_5fc5f_row1_col5\" class=\"data row1 col5\" >-0.108785</td>\n",
              "      <td id=\"T_5fc5f_row1_col6\" class=\"data row1 col6\" >-0.071035</td>\n",
              "      <td id=\"T_5fc5f_row1_col7\" class=\"data row1 col7\" >-0.079809</td>\n",
              "      <td id=\"T_5fc5f_row1_col8\" class=\"data row1 col8\" >-0.066080</td>\n",
              "      <td id=\"T_5fc5f_row1_col9\" class=\"data row1 col9\" >-0.144160</td>\n",
              "    </tr>\n",
              "    <tr>\n",
              "      <th id=\"T_5fc5f_level0_row2\" class=\"row_heading level0 row2\" >housing_median_age</th>\n",
              "      <td id=\"T_5fc5f_row2_col0\" class=\"data row2 col0\" >-0.108197</td>\n",
              "      <td id=\"T_5fc5f_row2_col1\" class=\"data row2 col1\" >0.011173</td>\n",
              "      <td id=\"T_5fc5f_row2_col2\" class=\"data row2 col2\" >1.000000</td>\n",
              "      <td id=\"T_5fc5f_row2_col3\" class=\"data row2 col3\" >-0.361262</td>\n",
              "      <td id=\"T_5fc5f_row2_col4\" class=\"data row2 col4\" >-0.320451</td>\n",
              "      <td id=\"T_5fc5f_row2_col5\" class=\"data row2 col5\" >-0.296244</td>\n",
              "      <td id=\"T_5fc5f_row2_col6\" class=\"data row2 col6\" >-0.302916</td>\n",
              "      <td id=\"T_5fc5f_row2_col7\" class=\"data row2 col7\" >-0.119034</td>\n",
              "      <td id=\"T_5fc5f_row2_col8\" class=\"data row2 col8\" >-0.206445</td>\n",
              "      <td id=\"T_5fc5f_row2_col9\" class=\"data row2 col9\" >0.105623</td>\n",
              "    </tr>\n",
              "    <tr>\n",
              "      <th id=\"T_5fc5f_level0_row3\" class=\"row_heading level0 row3\" >total_rooms</th>\n",
              "      <td id=\"T_5fc5f_row3_col0\" class=\"data row3 col0\" >0.044568</td>\n",
              "      <td id=\"T_5fc5f_row3_col1\" class=\"data row3 col1\" >-0.036100</td>\n",
              "      <td id=\"T_5fc5f_row3_col2\" class=\"data row3 col2\" >-0.361262</td>\n",
              "      <td id=\"T_5fc5f_row3_col3\" class=\"data row3 col3\" >1.000000</td>\n",
              "      <td id=\"T_5fc5f_row3_col4\" class=\"data row3 col4\" >0.930380</td>\n",
              "      <td id=\"T_5fc5f_row3_col5\" class=\"data row3 col5\" >0.857126</td>\n",
              "      <td id=\"T_5fc5f_row3_col6\" class=\"data row3 col6\" >0.918484</td>\n",
              "      <td id=\"T_5fc5f_row3_col7\" class=\"data row3 col7\" >0.198050</td>\n",
              "      <td id=\"T_5fc5f_row3_col8\" class=\"data row3 col8\" >0.015509</td>\n",
              "      <td id=\"T_5fc5f_row3_col9\" class=\"data row3 col9\" >0.134153</td>\n",
              "    </tr>\n",
              "    <tr>\n",
              "      <th id=\"T_5fc5f_level0_row4\" class=\"row_heading level0 row4\" >total_bedrooms</th>\n",
              "      <td id=\"T_5fc5f_row4_col0\" class=\"data row4 col0\" >0.069608</td>\n",
              "      <td id=\"T_5fc5f_row4_col1\" class=\"data row4 col1\" >-0.066983</td>\n",
              "      <td id=\"T_5fc5f_row4_col2\" class=\"data row4 col2\" >-0.320451</td>\n",
              "      <td id=\"T_5fc5f_row4_col3\" class=\"data row4 col3\" >0.930380</td>\n",
              "      <td id=\"T_5fc5f_row4_col4\" class=\"data row4 col4\" >1.000000</td>\n",
              "      <td id=\"T_5fc5f_row4_col5\" class=\"data row4 col5\" >0.877747</td>\n",
              "      <td id=\"T_5fc5f_row4_col6\" class=\"data row4 col6\" >0.979728</td>\n",
              "      <td id=\"T_5fc5f_row4_col7\" class=\"data row4 col7\" >-0.007723</td>\n",
              "      <td id=\"T_5fc5f_row4_col8\" class=\"data row4 col8\" >0.004480</td>\n",
              "      <td id=\"T_5fc5f_row4_col9\" class=\"data row4 col9\" >0.049686</td>\n",
              "    </tr>\n",
              "    <tr>\n",
              "      <th id=\"T_5fc5f_level0_row5\" class=\"row_heading level0 row5\" >population</th>\n",
              "      <td id=\"T_5fc5f_row5_col0\" class=\"data row5 col0\" >0.099773</td>\n",
              "      <td id=\"T_5fc5f_row5_col1\" class=\"data row5 col1\" >-0.108785</td>\n",
              "      <td id=\"T_5fc5f_row5_col2\" class=\"data row5 col2\" >-0.296244</td>\n",
              "      <td id=\"T_5fc5f_row5_col3\" class=\"data row5 col3\" >0.857126</td>\n",
              "      <td id=\"T_5fc5f_row5_col4\" class=\"data row5 col4\" >0.877747</td>\n",
              "      <td id=\"T_5fc5f_row5_col5\" class=\"data row5 col5\" >1.000000</td>\n",
              "      <td id=\"T_5fc5f_row5_col6\" class=\"data row5 col6\" >0.907222</td>\n",
              "      <td id=\"T_5fc5f_row5_col7\" class=\"data row5 col7\" >0.004834</td>\n",
              "      <td id=\"T_5fc5f_row5_col8\" class=\"data row5 col8\" >-0.007563</td>\n",
              "      <td id=\"T_5fc5f_row5_col9\" class=\"data row5 col9\" >-0.024650</td>\n",
              "    </tr>\n",
              "    <tr>\n",
              "      <th id=\"T_5fc5f_level0_row6\" class=\"row_heading level0 row6\" >households</th>\n",
              "      <td id=\"T_5fc5f_row6_col0\" class=\"data row6 col0\" >0.055310</td>\n",
              "      <td id=\"T_5fc5f_row6_col1\" class=\"data row6 col1\" >-0.071035</td>\n",
              "      <td id=\"T_5fc5f_row6_col2\" class=\"data row6 col2\" >-0.302916</td>\n",
              "      <td id=\"T_5fc5f_row6_col3\" class=\"data row6 col3\" >0.918484</td>\n",
              "      <td id=\"T_5fc5f_row6_col4\" class=\"data row6 col4\" >0.979728</td>\n",
              "      <td id=\"T_5fc5f_row6_col5\" class=\"data row6 col5\" >0.907222</td>\n",
              "      <td id=\"T_5fc5f_row6_col6\" class=\"data row6 col6\" >1.000000</td>\n",
              "      <td id=\"T_5fc5f_row6_col7\" class=\"data row6 col7\" >0.013033</td>\n",
              "      <td id=\"T_5fc5f_row6_col8\" class=\"data row6 col8\" >-0.016085</td>\n",
              "      <td id=\"T_5fc5f_row6_col9\" class=\"data row6 col9\" >0.065843</td>\n",
              "    </tr>\n",
              "    <tr>\n",
              "      <th id=\"T_5fc5f_level0_row7\" class=\"row_heading level0 row7\" >median_income</th>\n",
              "      <td id=\"T_5fc5f_row7_col0\" class=\"data row7 col0\" >-0.015176</td>\n",
              "      <td id=\"T_5fc5f_row7_col1\" class=\"data row7 col1\" >-0.079809</td>\n",
              "      <td id=\"T_5fc5f_row7_col2\" class=\"data row7 col2\" >-0.119034</td>\n",
              "      <td id=\"T_5fc5f_row7_col3\" class=\"data row7 col3\" >0.198050</td>\n",
              "      <td id=\"T_5fc5f_row7_col4\" class=\"data row7 col4\" >-0.007723</td>\n",
              "      <td id=\"T_5fc5f_row7_col5\" class=\"data row7 col5\" >0.004834</td>\n",
              "      <td id=\"T_5fc5f_row7_col6\" class=\"data row7 col6\" >0.013033</td>\n",
              "      <td id=\"T_5fc5f_row7_col7\" class=\"data row7 col7\" >1.000000</td>\n",
              "      <td id=\"T_5fc5f_row7_col8\" class=\"data row7 col8\" >-0.128302</td>\n",
              "      <td id=\"T_5fc5f_row7_col9\" class=\"data row7 col9\" >0.688075</td>\n",
              "    </tr>\n",
              "    <tr>\n",
              "      <th id=\"T_5fc5f_level0_row8\" class=\"row_heading level0 row8\" >ocean_proximity</th>\n",
              "      <td id=\"T_5fc5f_row8_col0\" class=\"data row8 col0\" >0.179531</td>\n",
              "      <td id=\"T_5fc5f_row8_col1\" class=\"data row8 col1\" >-0.066080</td>\n",
              "      <td id=\"T_5fc5f_row8_col2\" class=\"data row8 col2\" >-0.206445</td>\n",
              "      <td id=\"T_5fc5f_row8_col3\" class=\"data row8 col3\" >0.015509</td>\n",
              "      <td id=\"T_5fc5f_row8_col4\" class=\"data row8 col4\" >0.004480</td>\n",
              "      <td id=\"T_5fc5f_row8_col5\" class=\"data row8 col5\" >-0.007563</td>\n",
              "      <td id=\"T_5fc5f_row8_col6\" class=\"data row8 col6\" >-0.016085</td>\n",
              "      <td id=\"T_5fc5f_row8_col7\" class=\"data row8 col7\" >-0.128302</td>\n",
              "      <td id=\"T_5fc5f_row8_col8\" class=\"data row8 col8\" >1.000000</td>\n",
              "      <td id=\"T_5fc5f_row8_col9\" class=\"data row8 col9\" >-0.212746</td>\n",
              "    </tr>\n",
              "    <tr>\n",
              "      <th id=\"T_5fc5f_level0_row9\" class=\"row_heading level0 row9\" >median_house_value</th>\n",
              "      <td id=\"T_5fc5f_row9_col0\" class=\"data row9 col0\" >-0.045967</td>\n",
              "      <td id=\"T_5fc5f_row9_col1\" class=\"data row9 col1\" >-0.144160</td>\n",
              "      <td id=\"T_5fc5f_row9_col2\" class=\"data row9 col2\" >0.105623</td>\n",
              "      <td id=\"T_5fc5f_row9_col3\" class=\"data row9 col3\" >0.134153</td>\n",
              "      <td id=\"T_5fc5f_row9_col4\" class=\"data row9 col4\" >0.049686</td>\n",
              "      <td id=\"T_5fc5f_row9_col5\" class=\"data row9 col5\" >-0.024650</td>\n",
              "      <td id=\"T_5fc5f_row9_col6\" class=\"data row9 col6\" >0.065843</td>\n",
              "      <td id=\"T_5fc5f_row9_col7\" class=\"data row9 col7\" >0.688075</td>\n",
              "      <td id=\"T_5fc5f_row9_col8\" class=\"data row9 col8\" >-0.212746</td>\n",
              "      <td id=\"T_5fc5f_row9_col9\" class=\"data row9 col9\" >1.000000</td>\n",
              "    </tr>\n",
              "  </tbody>\n",
              "</table>\n"
            ]
          },
          "metadata": {},
          "execution_count": 17
        }
      ]
    },
    {
      "cell_type": "code",
      "source": [
        "df.isna().sum()"
      ],
      "metadata": {
        "colab": {
          "base_uri": "https://localhost:8080/"
        },
        "id": "153u8ng1U18Q",
        "outputId": "a15593d5-158c-4dad-9c01-a5818fee1bb1"
      },
      "execution_count": null,
      "outputs": [
        {
          "output_type": "execute_result",
          "data": {
            "text/plain": [
              "longitude               0\n",
              "latitude                0\n",
              "housing_median_age      0\n",
              "total_rooms             0\n",
              "total_bedrooms        207\n",
              "population              0\n",
              "households              0\n",
              "median_income           0\n",
              "ocean_proximity         0\n",
              "median_house_value      0\n",
              "dtype: int64"
            ]
          },
          "metadata": {},
          "execution_count": 18
        }
      ]
    },
    {
      "cell_type": "code",
      "source": [
        "df = df.dropna()"
      ],
      "metadata": {
        "id": "d4NAypgzVO5e"
      },
      "execution_count": null,
      "outputs": []
    },
    {
      "cell_type": "code",
      "source": [
        "df.isna().sum()"
      ],
      "metadata": {
        "colab": {
          "base_uri": "https://localhost:8080/"
        },
        "id": "sKXf4KP1VYLQ",
        "outputId": "d1948d83-5e5d-4388-f31c-4092e439f326"
      },
      "execution_count": null,
      "outputs": [
        {
          "output_type": "execute_result",
          "data": {
            "text/plain": [
              "longitude             0\n",
              "latitude              0\n",
              "housing_median_age    0\n",
              "total_rooms           0\n",
              "total_bedrooms        0\n",
              "population            0\n",
              "households            0\n",
              "median_income         0\n",
              "ocean_proximity       0\n",
              "median_house_value    0\n",
              "dtype: int64"
            ]
          },
          "metadata": {},
          "execution_count": 20
        }
      ]
    },
    {
      "cell_type": "code",
      "source": [
        "import numpy as np"
      ],
      "metadata": {
        "id": "NOPm_zuD7D3t"
      },
      "execution_count": null,
      "outputs": []
    },
    {
      "cell_type": "code",
      "source": [
        "from sklearn import preprocessing\n",
        "min_max_scaler = preprocessing.MinMaxScaler()"
      ],
      "metadata": {
        "id": "z0Jy3q26PVlC"
      },
      "execution_count": null,
      "outputs": []
    },
    {
      "cell_type": "code",
      "source": [
        "данные_все = df.to_numpy()"
      ],
      "metadata": {
        "id": "ebLBk6ZoL75o"
      },
      "execution_count": null,
      "outputs": []
    },
    {
      "cell_type": "code",
      "source": [
        "данные_все[0]"
      ],
      "metadata": {
        "colab": {
          "base_uri": "https://localhost:8080/"
        },
        "id": "yaZiKVTLE27V",
        "outputId": "0a8eb4a2-f10c-48c1-f05b-ccfe0dd067f2"
      },
      "execution_count": null,
      "outputs": [
        {
          "output_type": "execute_result",
          "data": {
            "text/plain": [
              "array([-1.2223e+02,  3.7880e+01,  4.1000e+01,  8.8000e+02,  1.2900e+02,\n",
              "        3.2200e+02,  1.2600e+02,  8.3252e+00,  1.0000e+00,  4.5260e+05])"
            ]
          },
          "metadata": {},
          "execution_count": 24
        }
      ]
    },
    {
      "cell_type": "code",
      "source": [
        "import torch"
      ],
      "metadata": {
        "id": "ANWL5drhvjSK"
      },
      "execution_count": null,
      "outputs": []
    },
    {
      "cell_type": "code",
      "source": [
        "X = torch.Tensor(min_max_scaler.fit_transform(данные_все[:,0:9]))\n",
        "Y = torch.Tensor(данные_все[:,9])/500001."
      ],
      "metadata": {
        "id": "r9iTmqpYL72b"
      },
      "execution_count": null,
      "outputs": []
    },
    {
      "cell_type": "code",
      "source": [
        "from sklearn.model_selection import train_test_split\n",
        "X_train, X_test, Y_train, Y_test = train_test_split(X,Y, test_size=0.2,random_state=1)"
      ],
      "metadata": {
        "id": "QR4s0WGfL7ws"
      },
      "execution_count": null,
      "outputs": []
    },
    {
      "cell_type": "code",
      "source": [
        "X_train[:2]"
      ],
      "metadata": {
        "colab": {
          "base_uri": "https://localhost:8080/"
        },
        "id": "0AcuV05LPoVK",
        "outputId": "ac514ce7-6d9e-4786-c763-592db7be7eee"
      },
      "execution_count": null,
      "outputs": [
        {
          "output_type": "execute_result",
          "data": {
            "text/plain": [
              "tensor([[0.2092, 0.5654, 0.9216, 0.0547, 0.0801, 0.0463, 0.0753, 0.1753, 0.2500],\n",
              "        [0.4602, 0.4485, 0.5686, 0.0393, 0.0436, 0.0247, 0.0510, 0.1793, 0.7500]])"
            ]
          },
          "metadata": {},
          "execution_count": 28
        }
      ]
    },
    {
      "cell_type": "code",
      "source": [
        "X_train.shape, X_test.shape, Y_train.shape, Y_test.shape"
      ],
      "metadata": {
        "id": "YhmQXYfzL7rI",
        "colab": {
          "base_uri": "https://localhost:8080/"
        },
        "outputId": "6cfe95cd-30f8-49ab-f3a4-89b659772921"
      },
      "execution_count": null,
      "outputs": [
        {
          "output_type": "execute_result",
          "data": {
            "text/plain": [
              "(torch.Size([16346, 9]),\n",
              " torch.Size([4087, 9]),\n",
              " torch.Size([16346]),\n",
              " torch.Size([4087]))"
            ]
          },
          "metadata": {},
          "execution_count": 29
        }
      ]
    },
    {
      "cell_type": "code",
      "source": [
        "from torch.utils.data import TensorDataset, DataLoader"
      ],
      "metadata": {
        "id": "VziTTIDVL7oo"
      },
      "execution_count": null,
      "outputs": []
    },
    {
      "cell_type": "code",
      "source": [
        "dataset_train = TensorDataset(X_train, Y_train)\n",
        "dataset_test = TensorDataset(X_test, Y_test)"
      ],
      "metadata": {
        "id": "RtMlvFkJL7l7"
      },
      "execution_count": null,
      "outputs": []
    },
    {
      "cell_type": "code",
      "source": [
        "train_dl = DataLoader(dataset_train, batch_size=32, shuffle=True)\n",
        "test_dl = DataLoader(dataset_test, batch_size=32, shuffle=False)"
      ],
      "metadata": {
        "id": "3F-7XExw16pR"
      },
      "execution_count": null,
      "outputs": []
    },
    {
      "cell_type": "code",
      "source": [
        "model = torch.nn.Sequential(torch.nn.Linear(9, 1))\n",
        "model"
      ],
      "metadata": {
        "colab": {
          "base_uri": "https://localhost:8080/"
        },
        "id": "p80jMJbR2jc1",
        "outputId": "f632611b-7198-41a1-b22a-75141ed2577e"
      },
      "execution_count": null,
      "outputs": [
        {
          "output_type": "execute_result",
          "data": {
            "text/plain": [
              "Sequential(\n",
              "  (0): Linear(in_features=9, out_features=1, bias=True)\n",
              ")"
            ]
          },
          "metadata": {},
          "execution_count": 33
        }
      ]
    },
    {
      "cell_type": "code",
      "source": [
        "loss = torch.nn.MSELoss(reduction='mean')"
      ],
      "metadata": {
        "id": "5pHZyiqb2jZv"
      },
      "execution_count": null,
      "outputs": []
    },
    {
      "cell_type": "code",
      "source": [
        "opt = torch.optim.SGD(model.parameters(), lr=0.001)"
      ],
      "metadata": {
        "id": "bJhEXlFO2jXC"
      },
      "execution_count": null,
      "outputs": []
    },
    {
      "cell_type": "code",
      "source": [
        "print(model[0].weight.data)\n",
        "print(model[0].bias.data)"
      ],
      "metadata": {
        "colab": {
          "base_uri": "https://localhost:8080/",
          "height": 65
        },
        "id": "z_8159Hs2jUM",
        "outputId": "f7e10611-65e3-4ed6-b40a-145eb3328cee"
      },
      "execution_count": null,
      "outputs": [
        {
          "output_type": "display_data",
          "data": {
            "text/plain": [
              "\u001b[1;35mtensor\u001b[0m\u001b[1m(\u001b[0m\u001b[1m[\u001b[0m\u001b[1m[\u001b[0m\u001b[1;36m-0.1518\u001b[0m, \u001b[1;36m-0.1952\u001b[0m,  \u001b[1;36m0.1500\u001b[0m,  \u001b[1;36m0.0912\u001b[0m,  \u001b[1;36m0.1326\u001b[0m, \u001b[1;36m-0.2005\u001b[0m,  \u001b[1;36m0.1116\u001b[0m,  \u001b[1;36m1.0006\u001b[0m,\n",
              "         \u001b[1;36m-0.1171\u001b[0m\u001b[1m]\u001b[0m\u001b[1m]\u001b[0m\u001b[1m)\u001b[0m\n"
            ],
            "text/html": [
              "<pre style=\"white-space:pre;overflow-x:auto;line-height:normal;font-family:Menlo,'DejaVu Sans Mono',consolas,'Courier New',monospace\"><span style=\"color: #800080; text-decoration-color: #800080; font-weight: bold\">tensor</span><span style=\"font-weight: bold\">([[</span><span style=\"color: #008080; text-decoration-color: #008080; font-weight: bold\">-0.1518</span>, <span style=\"color: #008080; text-decoration-color: #008080; font-weight: bold\">-0.1952</span>,  <span style=\"color: #008080; text-decoration-color: #008080; font-weight: bold\">0.1500</span>,  <span style=\"color: #008080; text-decoration-color: #008080; font-weight: bold\">0.0912</span>,  <span style=\"color: #008080; text-decoration-color: #008080; font-weight: bold\">0.1326</span>, <span style=\"color: #008080; text-decoration-color: #008080; font-weight: bold\">-0.2005</span>,  <span style=\"color: #008080; text-decoration-color: #008080; font-weight: bold\">0.1116</span>,  <span style=\"color: #008080; text-decoration-color: #008080; font-weight: bold\">1.0006</span>,\n",
              "         <span style=\"color: #008080; text-decoration-color: #008080; font-weight: bold\">-0.1171</span><span style=\"font-weight: bold\">]])</span>\n",
              "</pre>\n"
            ]
          },
          "metadata": {}
        },
        {
          "output_type": "display_data",
          "data": {
            "text/plain": [
              "\u001b[1;35mtensor\u001b[0m\u001b[1m(\u001b[0m\u001b[1m[\u001b[0m\u001b[1;36m0.2914\u001b[0m\u001b[1m]\u001b[0m\u001b[1m)\u001b[0m\n"
            ],
            "text/html": [
              "<pre style=\"white-space:pre;overflow-x:auto;line-height:normal;font-family:Menlo,'DejaVu Sans Mono',consolas,'Courier New',monospace\"><span style=\"color: #800080; text-decoration-color: #800080; font-weight: bold\">tensor</span><span style=\"font-weight: bold\">([</span><span style=\"color: #008080; text-decoration-color: #008080; font-weight: bold\">0.2914</span><span style=\"font-weight: bold\">])</span>\n",
              "</pre>\n"
            ]
          },
          "metadata": {}
        }
      ]
    },
    {
      "cell_type": "code",
      "source": [
        "%%capture\n",
        "!pip install torch_snippets\n",
        "from torch_snippets import *"
      ],
      "metadata": {
        "id": "n1cmnzOvHGgK"
      },
      "execution_count": null,
      "outputs": []
    },
    {
      "cell_type": "code",
      "source": [
        "for x,y in train_dl:\n",
        "  print(model(x).squeeze(1))\n",
        "  print(y)\n",
        "  break"
      ],
      "metadata": {
        "colab": {
          "base_uri": "https://localhost:8080/",
          "height": 145
        },
        "id": "QS5pYhZXN-qH",
        "outputId": "0c075e86-9aa3-4986-da41-5ef5dcc35b38"
      },
      "execution_count": null,
      "outputs": [
        {
          "output_type": "display_data",
          "data": {
            "text/plain": [
              "\u001b[1;35mtensor\u001b[0m\u001b[1m(\u001b[0m\u001b[1m[\u001b[0m\u001b[1;36m0.5141\u001b[0m, \u001b[1;36m0.3748\u001b[0m, \u001b[1;36m0.4138\u001b[0m, \u001b[1;36m0.5229\u001b[0m, \u001b[1;36m0.4200\u001b[0m, \u001b[1;36m0.4446\u001b[0m, \u001b[1;36m0.5345\u001b[0m, \u001b[1;36m0.1503\u001b[0m, \u001b[1;36m0.5070\u001b[0m,\n",
              "        \u001b[1;36m0.4010\u001b[0m, \u001b[1;36m0.5429\u001b[0m, \u001b[1;36m0.5165\u001b[0m, \u001b[1;36m0.3681\u001b[0m, \u001b[1;36m0.4292\u001b[0m, \u001b[1;36m0.4022\u001b[0m, \u001b[1;36m0.2695\u001b[0m, \u001b[1;36m0.2930\u001b[0m, \u001b[1;36m0.4187\u001b[0m,\n",
              "        \u001b[1;36m0.4663\u001b[0m, \u001b[1;36m0.4613\u001b[0m, \u001b[1;36m0.5179\u001b[0m, \u001b[1;36m0.1580\u001b[0m, \u001b[1;36m0.4924\u001b[0m, \u001b[1;36m0.1553\u001b[0m, \u001b[1;36m0.4541\u001b[0m, \u001b[1;36m0.4007\u001b[0m, \u001b[1;36m0.1484\u001b[0m,\n",
              "        \u001b[1;36m0.5309\u001b[0m, \u001b[1;36m0.3914\u001b[0m, \u001b[1;36m0.4256\u001b[0m, \u001b[1;36m0.5250\u001b[0m, \u001b[1;36m0.4003\u001b[0m\u001b[1m]\u001b[0m, \u001b[33mgrad_fn\u001b[0m=\u001b[1m<\u001b[0m\u001b[1;95mSqueezeBackward1\u001b[0m\u001b[1m>\u001b[0m\u001b[1m)\u001b[0m\n"
            ],
            "text/html": [
              "<pre style=\"white-space:pre;overflow-x:auto;line-height:normal;font-family:Menlo,'DejaVu Sans Mono',consolas,'Courier New',monospace\"><span style=\"color: #800080; text-decoration-color: #800080; font-weight: bold\">tensor</span><span style=\"font-weight: bold\">([</span><span style=\"color: #008080; text-decoration-color: #008080; font-weight: bold\">0.5141</span>, <span style=\"color: #008080; text-decoration-color: #008080; font-weight: bold\">0.3748</span>, <span style=\"color: #008080; text-decoration-color: #008080; font-weight: bold\">0.4138</span>, <span style=\"color: #008080; text-decoration-color: #008080; font-weight: bold\">0.5229</span>, <span style=\"color: #008080; text-decoration-color: #008080; font-weight: bold\">0.4200</span>, <span style=\"color: #008080; text-decoration-color: #008080; font-weight: bold\">0.4446</span>, <span style=\"color: #008080; text-decoration-color: #008080; font-weight: bold\">0.5345</span>, <span style=\"color: #008080; text-decoration-color: #008080; font-weight: bold\">0.1503</span>, <span style=\"color: #008080; text-decoration-color: #008080; font-weight: bold\">0.5070</span>,\n",
              "        <span style=\"color: #008080; text-decoration-color: #008080; font-weight: bold\">0.4010</span>, <span style=\"color: #008080; text-decoration-color: #008080; font-weight: bold\">0.5429</span>, <span style=\"color: #008080; text-decoration-color: #008080; font-weight: bold\">0.5165</span>, <span style=\"color: #008080; text-decoration-color: #008080; font-weight: bold\">0.3681</span>, <span style=\"color: #008080; text-decoration-color: #008080; font-weight: bold\">0.4292</span>, <span style=\"color: #008080; text-decoration-color: #008080; font-weight: bold\">0.4022</span>, <span style=\"color: #008080; text-decoration-color: #008080; font-weight: bold\">0.2695</span>, <span style=\"color: #008080; text-decoration-color: #008080; font-weight: bold\">0.2930</span>, <span style=\"color: #008080; text-decoration-color: #008080; font-weight: bold\">0.4187</span>,\n",
              "        <span style=\"color: #008080; text-decoration-color: #008080; font-weight: bold\">0.4663</span>, <span style=\"color: #008080; text-decoration-color: #008080; font-weight: bold\">0.4613</span>, <span style=\"color: #008080; text-decoration-color: #008080; font-weight: bold\">0.5179</span>, <span style=\"color: #008080; text-decoration-color: #008080; font-weight: bold\">0.1580</span>, <span style=\"color: #008080; text-decoration-color: #008080; font-weight: bold\">0.4924</span>, <span style=\"color: #008080; text-decoration-color: #008080; font-weight: bold\">0.1553</span>, <span style=\"color: #008080; text-decoration-color: #008080; font-weight: bold\">0.4541</span>, <span style=\"color: #008080; text-decoration-color: #008080; font-weight: bold\">0.4007</span>, <span style=\"color: #008080; text-decoration-color: #008080; font-weight: bold\">0.1484</span>,\n",
              "        <span style=\"color: #008080; text-decoration-color: #008080; font-weight: bold\">0.5309</span>, <span style=\"color: #008080; text-decoration-color: #008080; font-weight: bold\">0.3914</span>, <span style=\"color: #008080; text-decoration-color: #008080; font-weight: bold\">0.4256</span>, <span style=\"color: #008080; text-decoration-color: #008080; font-weight: bold\">0.5250</span>, <span style=\"color: #008080; text-decoration-color: #008080; font-weight: bold\">0.4003</span><span style=\"font-weight: bold\">]</span>, <span style=\"color: #808000; text-decoration-color: #808000\">grad_fn</span>=<span style=\"font-weight: bold\">&lt;</span><span style=\"color: #ff00ff; text-decoration-color: #ff00ff; font-weight: bold\">SqueezeBackward1</span><span style=\"font-weight: bold\">&gt;)</span>\n",
              "</pre>\n"
            ]
          },
          "metadata": {}
        },
        {
          "output_type": "display_data",
          "data": {
            "text/plain": [
              "\u001b[1;35mtensor\u001b[0m\u001b[1m(\u001b[0m\u001b[1m[\u001b[0m\u001b[1;36m0.6758\u001b[0m, \u001b[1;36m0.3320\u001b[0m, \u001b[1;36m0.3994\u001b[0m, \u001b[1;36m0.1714\u001b[0m, \u001b[1;36m0.4822\u001b[0m, \u001b[1;36m0.4582\u001b[0m, \u001b[1;36m0.2302\u001b[0m, \u001b[1;36m0.9000\u001b[0m, \u001b[1;36m0.9910\u001b[0m,\n",
              "        \u001b[1;36m0.4120\u001b[0m, \u001b[1;36m0.9682\u001b[0m, \u001b[1;36m0.1334\u001b[0m, \u001b[1;36m0.0954\u001b[0m, \u001b[1;36m0.1722\u001b[0m, \u001b[1;36m0.5362\u001b[0m, \u001b[1;36m0.2078\u001b[0m, \u001b[1;36m0.5400\u001b[0m, \u001b[1;36m0.1112\u001b[0m,\n",
              "        \u001b[1;36m0.5484\u001b[0m, \u001b[1;36m0.1768\u001b[0m, \u001b[1;36m0.2278\u001b[0m, \u001b[1;36m0.8000\u001b[0m, \u001b[1;36m0.3744\u001b[0m, \u001b[1;36m1.0000\u001b[0m, \u001b[1;36m0.5460\u001b[0m, \u001b[1;36m0.2318\u001b[0m, \u001b[1;36m0.3646\u001b[0m,\n",
              "        \u001b[1;36m0.3528\u001b[0m, \u001b[1;36m0.1966\u001b[0m, \u001b[1;36m0.3520\u001b[0m, \u001b[1;36m0.7520\u001b[0m, \u001b[1;36m0.4762\u001b[0m\u001b[1m]\u001b[0m\u001b[1m)\u001b[0m\n"
            ],
            "text/html": [
              "<pre style=\"white-space:pre;overflow-x:auto;line-height:normal;font-family:Menlo,'DejaVu Sans Mono',consolas,'Courier New',monospace\"><span style=\"color: #800080; text-decoration-color: #800080; font-weight: bold\">tensor</span><span style=\"font-weight: bold\">([</span><span style=\"color: #008080; text-decoration-color: #008080; font-weight: bold\">0.6758</span>, <span style=\"color: #008080; text-decoration-color: #008080; font-weight: bold\">0.3320</span>, <span style=\"color: #008080; text-decoration-color: #008080; font-weight: bold\">0.3994</span>, <span style=\"color: #008080; text-decoration-color: #008080; font-weight: bold\">0.1714</span>, <span style=\"color: #008080; text-decoration-color: #008080; font-weight: bold\">0.4822</span>, <span style=\"color: #008080; text-decoration-color: #008080; font-weight: bold\">0.4582</span>, <span style=\"color: #008080; text-decoration-color: #008080; font-weight: bold\">0.2302</span>, <span style=\"color: #008080; text-decoration-color: #008080; font-weight: bold\">0.9000</span>, <span style=\"color: #008080; text-decoration-color: #008080; font-weight: bold\">0.9910</span>,\n",
              "        <span style=\"color: #008080; text-decoration-color: #008080; font-weight: bold\">0.4120</span>, <span style=\"color: #008080; text-decoration-color: #008080; font-weight: bold\">0.9682</span>, <span style=\"color: #008080; text-decoration-color: #008080; font-weight: bold\">0.1334</span>, <span style=\"color: #008080; text-decoration-color: #008080; font-weight: bold\">0.0954</span>, <span style=\"color: #008080; text-decoration-color: #008080; font-weight: bold\">0.1722</span>, <span style=\"color: #008080; text-decoration-color: #008080; font-weight: bold\">0.5362</span>, <span style=\"color: #008080; text-decoration-color: #008080; font-weight: bold\">0.2078</span>, <span style=\"color: #008080; text-decoration-color: #008080; font-weight: bold\">0.5400</span>, <span style=\"color: #008080; text-decoration-color: #008080; font-weight: bold\">0.1112</span>,\n",
              "        <span style=\"color: #008080; text-decoration-color: #008080; font-weight: bold\">0.5484</span>, <span style=\"color: #008080; text-decoration-color: #008080; font-weight: bold\">0.1768</span>, <span style=\"color: #008080; text-decoration-color: #008080; font-weight: bold\">0.2278</span>, <span style=\"color: #008080; text-decoration-color: #008080; font-weight: bold\">0.8000</span>, <span style=\"color: #008080; text-decoration-color: #008080; font-weight: bold\">0.3744</span>, <span style=\"color: #008080; text-decoration-color: #008080; font-weight: bold\">1.0000</span>, <span style=\"color: #008080; text-decoration-color: #008080; font-weight: bold\">0.5460</span>, <span style=\"color: #008080; text-decoration-color: #008080; font-weight: bold\">0.2318</span>, <span style=\"color: #008080; text-decoration-color: #008080; font-weight: bold\">0.3646</span>,\n",
              "        <span style=\"color: #008080; text-decoration-color: #008080; font-weight: bold\">0.3528</span>, <span style=\"color: #008080; text-decoration-color: #008080; font-weight: bold\">0.1966</span>, <span style=\"color: #008080; text-decoration-color: #008080; font-weight: bold\">0.3520</span>, <span style=\"color: #008080; text-decoration-color: #008080; font-weight: bold\">0.7520</span>, <span style=\"color: #008080; text-decoration-color: #008080; font-weight: bold\">0.4762</span><span style=\"font-weight: bold\">])</span>\n",
              "</pre>\n"
            ]
          },
          "metadata": {}
        }
      ]
    },
    {
      "cell_type": "markdown",
      "source": [
        "\n",
        "\n",
        "---\n",
        "\n"
      ],
      "metadata": {
        "id": "I4HmMlNU-Cjw"
      }
    },
    {
      "cell_type": "code",
      "source": [
        "print(Y_train.shape)"
      ],
      "metadata": {
        "colab": {
          "base_uri": "https://localhost:8080/",
          "height": 33
        },
        "id": "sRmt8azL2jRj",
        "outputId": "5412a450-9bd1-4a4b-9a47-6191f0b9e586"
      },
      "execution_count": null,
      "outputs": [
        {
          "output_type": "display_data",
          "data": {
            "text/plain": [
              "\u001b[1;35mtorch.Size\u001b[0m\u001b[1m(\u001b[0m\u001b[1m[\u001b[0m\u001b[1;36m16346\u001b[0m\u001b[1m]\u001b[0m\u001b[1m)\u001b[0m\n"
            ],
            "text/html": [
              "<pre style=\"white-space:pre;overflow-x:auto;line-height:normal;font-family:Menlo,'DejaVu Sans Mono',consolas,'Courier New',monospace\"><span style=\"color: #800080; text-decoration-color: #800080; font-weight: bold\">torch.Size</span><span style=\"font-weight: bold\">([</span><span style=\"color: #008080; text-decoration-color: #008080; font-weight: bold\">16346</span><span style=\"font-weight: bold\">])</span>\n",
              "</pre>\n"
            ]
          },
          "metadata": {}
        }
      ]
    },
    {
      "cell_type": "code",
      "source": [
        "print(model(X_train).shape)"
      ],
      "metadata": {
        "colab": {
          "base_uri": "https://localhost:8080/",
          "height": 33
        },
        "id": "frqwNnwk2jPA",
        "outputId": "294db624-a9e1-4a94-c9bc-b81e17370f39"
      },
      "execution_count": null,
      "outputs": [
        {
          "output_type": "display_data",
          "data": {
            "text/plain": [
              "\u001b[1;35mtorch.Size\u001b[0m\u001b[1m(\u001b[0m\u001b[1m[\u001b[0m\u001b[1;36m16346\u001b[0m, \u001b[1;36m1\u001b[0m\u001b[1m]\u001b[0m\u001b[1m)\u001b[0m\n"
            ],
            "text/html": [
              "<pre style=\"white-space:pre;overflow-x:auto;line-height:normal;font-family:Menlo,'DejaVu Sans Mono',consolas,'Courier New',monospace\"><span style=\"color: #800080; text-decoration-color: #800080; font-weight: bold\">torch.Size</span><span style=\"font-weight: bold\">([</span><span style=\"color: #008080; text-decoration-color: #008080; font-weight: bold\">16346</span>, <span style=\"color: #008080; text-decoration-color: #008080; font-weight: bold\">1</span><span style=\"font-weight: bold\">])</span>\n",
              "</pre>\n"
            ]
          },
          "metadata": {}
        }
      ]
    },
    {
      "cell_type": "code",
      "source": [
        "print(model(X_train).squeeze(1).shape)"
      ],
      "metadata": {
        "colab": {
          "base_uri": "https://localhost:8080/",
          "height": 33
        },
        "id": "xCZTaxqS2jL5",
        "outputId": "99988cc9-0990-4589-825a-57631c867d4d"
      },
      "execution_count": null,
      "outputs": [
        {
          "output_type": "display_data",
          "data": {
            "text/plain": [
              "\u001b[1;35mtorch.Size\u001b[0m\u001b[1m(\u001b[0m\u001b[1m[\u001b[0m\u001b[1;36m16346\u001b[0m\u001b[1m]\u001b[0m\u001b[1m)\u001b[0m\n"
            ],
            "text/html": [
              "<pre style=\"white-space:pre;overflow-x:auto;line-height:normal;font-family:Menlo,'DejaVu Sans Mono',consolas,'Courier New',monospace\"><span style=\"color: #800080; text-decoration-color: #800080; font-weight: bold\">torch.Size</span><span style=\"font-weight: bold\">([</span><span style=\"color: #008080; text-decoration-color: #008080; font-weight: bold\">16346</span><span style=\"font-weight: bold\">])</span>\n",
              "</pre>\n"
            ]
          },
          "metadata": {}
        }
      ]
    },
    {
      "cell_type": "markdown",
      "source": [
        "\n",
        "\n",
        "---\n",
        "\n"
      ],
      "metadata": {
        "id": "CpjYfZFk-D8E"
      }
    },
    {
      "cell_type": "code",
      "source": [
        "num_epochs = 100\n",
        "log = Report(num_epochs)\n",
        "for epoch in range(1, num_epochs + 1):\n",
        "    N = len(train_dl)\n",
        "    for ix, data in enumerate(train_dl):\n",
        "        model.train()\n",
        "        opt.zero_grad()\n",
        "        l = loss(model(data[0]).squeeze(1), data[1])\n",
        "        l.backward()\n",
        "        opt.step()\n",
        "        log.record(epoch+(ix+1)/N, trn_loss=l, end='\\r')\n",
        "    N = len(test_dl)\n",
        "    for ix, data in enumerate(test_dl):\n",
        "      model.eval()\n",
        "      with torch.no_grad():\n",
        "        pred_age = model(data[0])\n",
        "        lo = loss(pred_age.squeeze(1), data[1])\n",
        "        log.record(epoch+(ix+1)/N, val_loss=lo, end='\\r')\n",
        "    log.report_avgs(epoch+1)"
      ],
      "metadata": {
        "colab": {
          "base_uri": "https://localhost:8080/"
        },
        "id": "HXGZkLmU2jI9",
        "outputId": "3f7faa5b-4e4a-40d6-e778-ee8b7ca9c1b0"
      },
      "execution_count": null,
      "outputs": [
        {
          "output_type": "stream",
          "name": "stdout",
          "text": [
            "EPOCH: 2.000  trn_loss: 0.065  val_loss: 0.062  (0.76s - 37.48s remaining)\n",
            "EPOCH: 3.000  trn_loss: 0.062  val_loss: 0.059  (1.54s - 49.90s remaining)\n",
            "EPOCH: 4.000  trn_loss: 0.059  val_loss: 0.056  (2.30s - 55.18s remaining)\n",
            "EPOCH: 5.000  trn_loss: 0.057  val_loss: 0.054  (3.05s - 58.00s remaining)\n",
            "EPOCH: 6.000  trn_loss: 0.055  val_loss: 0.052  (3.80s - 59.54s remaining)\n",
            "EPOCH: 7.000  trn_loss: 0.053  val_loss: 0.050  (4.54s - 60.32s remaining)\n",
            "EPOCH: 8.000  trn_loss: 0.051  val_loss: 0.049  (5.29s - 60.79s remaining)\n",
            "EPOCH: 9.000  trn_loss: 0.049  val_loss: 0.047  (6.05s - 61.14s remaining)\n",
            "EPOCH: 10.000  trn_loss: 0.048  val_loss: 0.046  (6.79s - 61.13s remaining)\n",
            "EPOCH: 11.000  trn_loss: 0.046  val_loss: 0.045  (7.55s - 61.12s remaining)\n",
            "EPOCH: 12.000  trn_loss: 0.045  val_loss: 0.044  (8.43s - 61.84s remaining)\n",
            "EPOCH: 13.000  trn_loss: 0.044  val_loss: 0.043  (9.31s - 62.32s remaining)\n",
            "EPOCH: 14.000  trn_loss: 0.043  val_loss: 0.042  (10.18s - 62.53s remaining)\n",
            "EPOCH: 15.000  trn_loss: 0.042  val_loss: 0.041  (10.93s - 61.91s remaining)\n",
            "EPOCH: 16.000  trn_loss: 0.041  val_loss: 0.040  (11.71s - 61.46s remaining)\n",
            "EPOCH: 17.000  trn_loss: 0.041  val_loss: 0.039  (12.46s - 60.83s remaining)\n",
            "EPOCH: 18.000  trn_loss: 0.040  val_loss: 0.039  (13.22s - 60.24s remaining)\n",
            "EPOCH: 19.000  trn_loss: 0.039  val_loss: 0.038  (14.00s - 59.67s remaining)\n",
            "EPOCH: 20.000  trn_loss: 0.039  val_loss: 0.037  (14.75s - 59.01s remaining)\n",
            "EPOCH: 21.000  trn_loss: 0.038  val_loss: 0.037  (15.51s - 58.36s remaining)\n",
            "EPOCH: 22.000  trn_loss: 0.037  val_loss: 0.036  (16.27s - 57.70s remaining)\n",
            "EPOCH: 23.000  trn_loss: 0.037  val_loss: 0.036  (17.03s - 57.01s remaining)\n",
            "EPOCH: 24.000  trn_loss: 0.036  val_loss: 0.035  (17.79s - 56.34s remaining)\n",
            "EPOCH: 25.000  trn_loss: 0.036  val_loss: 0.035  (18.57s - 55.70s remaining)\n",
            "EPOCH: 26.000  trn_loss: 0.035  val_loss: 0.034  (19.33s - 55.02s remaining)\n",
            "EPOCH: 27.000  trn_loss: 0.035  val_loss: 0.034  (20.11s - 54.37s remaining)\n",
            "EPOCH: 28.000  trn_loss: 0.034  val_loss: 0.034  (20.97s - 53.93s remaining)\n",
            "EPOCH: 29.000  trn_loss: 0.034  val_loss: 0.033  (21.86s - 53.52s remaining)\n",
            "EPOCH: 30.000  trn_loss: 0.034  val_loss: 0.033  (22.73s - 53.03s remaining)\n",
            "EPOCH: 31.000  trn_loss: 0.033  val_loss: 0.032  (23.48s - 52.27s remaining)\n",
            "EPOCH: 32.000  trn_loss: 0.033  val_loss: 0.032  (24.25s - 51.52s remaining)\n",
            "EPOCH: 33.000  trn_loss: 0.033  val_loss: 0.032  (24.98s - 50.72s remaining)\n",
            "EPOCH: 34.000  trn_loss: 0.032  val_loss: 0.031  (25.72s - 49.93s remaining)\n",
            "EPOCH: 35.000  trn_loss: 0.032  val_loss: 0.031  (26.48s - 49.18s remaining)\n",
            "EPOCH: 36.000  trn_loss: 0.032  val_loss: 0.031  (27.26s - 48.45s remaining)\n",
            "EPOCH: 37.000  trn_loss: 0.031  val_loss: 0.031  (28.00s - 47.68s remaining)\n",
            "EPOCH: 38.000  trn_loss: 0.031  val_loss: 0.030  (28.76s - 46.92s remaining)\n",
            "EPOCH: 39.000  trn_loss: 0.031  val_loss: 0.030  (29.51s - 46.16s remaining)\n",
            "EPOCH: 40.000  trn_loss: 0.031  val_loss: 0.030  (30.26s - 45.39s remaining)\n",
            "EPOCH: 41.000  trn_loss: 0.030  val_loss: 0.030  (31.00s - 44.61s remaining)\n",
            "EPOCH: 42.000  trn_loss: 0.030  val_loss: 0.029  (31.74s - 43.83s remaining)\n",
            "EPOCH: 43.000  trn_loss: 0.030  val_loss: 0.029  (32.51s - 43.09s remaining)\n",
            "EPOCH: 44.000  trn_loss: 0.030  val_loss: 0.029  (34.07s - 43.36s remaining)\n",
            "EPOCH: 45.000  trn_loss: 0.030  val_loss: 0.029  (35.87s - 43.84s remaining)\n",
            "EPOCH: 46.000  trn_loss: 0.029  val_loss: 0.029  (36.61s - 42.98s remaining)\n",
            "EPOCH: 47.000  trn_loss: 0.029  val_loss: 0.028  (37.36s - 42.13s remaining)\n",
            "EPOCH: 48.000  trn_loss: 0.029  val_loss: 0.028  (38.11s - 41.28s remaining)\n",
            "EPOCH: 49.000  trn_loss: 0.029  val_loss: 0.028  (38.85s - 40.44s remaining)\n",
            "EPOCH: 50.000  trn_loss: 0.029  val_loss: 0.028  (39.61s - 39.61s remaining)\n",
            "EPOCH: 51.000  trn_loss: 0.029  val_loss: 0.028  (40.37s - 38.79s remaining)\n",
            "EPOCH: 52.000  trn_loss: 0.028  val_loss: 0.027  (41.12s - 37.96s remaining)\n",
            "EPOCH: 53.000  trn_loss: 0.028  val_loss: 0.027  (41.92s - 37.18s remaining)\n",
            "EPOCH: 54.000  trn_loss: 0.028  val_loss: 0.027  (42.68s - 36.36s remaining)\n",
            "EPOCH: 55.000  trn_loss: 0.028  val_loss: 0.027  (43.42s - 35.53s remaining)\n",
            "EPOCH: 56.000  trn_loss: 0.028  val_loss: 0.027  (44.19s - 34.72s remaining)\n",
            "EPOCH: 57.000  trn_loss: 0.028  val_loss: 0.027  (44.95s - 33.91s remaining)\n",
            "EPOCH: 58.000  trn_loss: 0.028  val_loss: 0.027  (45.75s - 33.13s remaining)\n",
            "EPOCH: 59.000  trn_loss: 0.027  val_loss: 0.026  (46.64s - 32.41s remaining)\n",
            "EPOCH: 60.000  trn_loss: 0.027  val_loss: 0.026  (47.52s - 31.68s remaining)\n",
            "EPOCH: 61.000  trn_loss: 0.027  val_loss: 0.026  (48.40s - 30.94s remaining)\n",
            "EPOCH: 62.000  trn_loss: 0.027  val_loss: 0.026  (49.16s - 30.13s remaining)\n",
            "EPOCH: 63.000  trn_loss: 0.027  val_loss: 0.026  (49.91s - 29.31s remaining)\n",
            "EPOCH: 64.000  trn_loss: 0.027  val_loss: 0.026  (50.65s - 28.49s remaining)\n",
            "EPOCH: 65.000  trn_loss: 0.027  val_loss: 0.026  (51.40s - 27.68s remaining)\n",
            "EPOCH: 66.000  trn_loss: 0.027  val_loss: 0.026  (52.15s - 26.86s remaining)\n",
            "EPOCH: 67.000  trn_loss: 0.026  val_loss: 0.026  (52.91s - 26.06s remaining)\n",
            "EPOCH: 68.000  trn_loss: 0.026  val_loss: 0.025  (53.65s - 25.25s remaining)\n",
            "EPOCH: 69.000  trn_loss: 0.026  val_loss: 0.025  (54.42s - 24.45s remaining)\n",
            "EPOCH: 70.000  trn_loss: 0.026  val_loss: 0.025  (55.55s - 23.81s remaining)\n",
            "EPOCH: 71.000  trn_loss: 0.026  val_loss: 0.025  (56.67s - 23.15s remaining)\n",
            "EPOCH: 72.000  trn_loss: 0.026  val_loss: 0.025  (57.79s - 22.47s remaining)\n",
            "EPOCH: 73.000  trn_loss: 0.026  val_loss: 0.025  (58.61s - 21.68s remaining)\n",
            "EPOCH: 74.000  trn_loss: 0.026  val_loss: 0.025  (59.48s - 20.90s remaining)\n",
            "EPOCH: 75.000  trn_loss: 0.026  val_loss: 0.025  (60.37s - 20.12s remaining)\n",
            "EPOCH: 76.000  trn_loss: 0.026  val_loss: 0.025  (61.23s - 19.33s remaining)\n",
            "EPOCH: 77.000  trn_loss: 0.026  val_loss: 0.025  (61.97s - 18.51s remaining)\n",
            "EPOCH: 78.000  trn_loss: 0.026  val_loss: 0.025  (62.74s - 17.69s remaining)\n",
            "EPOCH: 79.000  trn_loss: 0.026  val_loss: 0.025  (63.50s - 16.88s remaining)\n",
            "EPOCH: 80.000  trn_loss: 0.025  val_loss: 0.025  (64.27s - 16.07s remaining)\n",
            "EPOCH: 81.000  trn_loss: 0.025  val_loss: 0.024  (65.02s - 15.25s remaining)\n",
            "EPOCH: 82.000  trn_loss: 0.025  val_loss: 0.024  (65.81s - 14.45s remaining)\n",
            "EPOCH: 83.000  trn_loss: 0.025  val_loss: 0.024  (66.58s - 13.64s remaining)\n",
            "EPOCH: 84.000  trn_loss: 0.025  val_loss: 0.024  (67.35s - 12.83s remaining)\n",
            "EPOCH: 85.000  trn_loss: 0.025  val_loss: 0.024  (68.12s - 12.02s remaining)\n",
            "EPOCH: 86.000  trn_loss: 0.025  val_loss: 0.024  (68.89s - 11.21s remaining)\n",
            "EPOCH: 87.000  trn_loss: 0.025  val_loss: 0.024  (69.65s - 10.41s remaining)\n",
            "EPOCH: 88.000  trn_loss: 0.025  val_loss: 0.024  (70.42s - 9.60s remaining)\n",
            "EPOCH: 89.000  trn_loss: 0.025  val_loss: 0.024  (71.26s - 8.81s remaining)\n",
            "EPOCH: 90.000  trn_loss: 0.025  val_loss: 0.024  (72.17s - 8.02s remaining)\n",
            "EPOCH: 91.000  trn_loss: 0.025  val_loss: 0.024  (73.12s - 7.23s remaining)\n",
            "EPOCH: 92.000  trn_loss: 0.025  val_loss: 0.024  (73.93s - 6.43s remaining)\n",
            "EPOCH: 93.000  trn_loss: 0.025  val_loss: 0.024  (74.70s - 5.62s remaining)\n",
            "EPOCH: 94.000  trn_loss: 0.025  val_loss: 0.024  (75.46s - 4.82s remaining)\n",
            "EPOCH: 95.000  trn_loss: 0.025  val_loss: 0.024  (76.22s - 4.01s remaining)\n",
            "EPOCH: 96.000  trn_loss: 0.025  val_loss: 0.024  (76.99s - 3.21s remaining)\n",
            "EPOCH: 97.000  trn_loss: 0.025  val_loss: 0.024  (77.75s - 2.40s remaining)\n",
            "EPOCH: 98.000  trn_loss: 0.024  val_loss: 0.024  (78.51s - 1.60s remaining)\n",
            "EPOCH: 99.000  trn_loss: 0.024  val_loss: 0.023  (79.28s - 0.80s remaining)\n",
            "EPOCH: 100.000  trn_loss: 0.024  val_loss: 0.023  (80.05s - 0.00s remaining)\n",
            "EPOCH: 101.000  trn_loss: 0.024  val_loss: 0.023  (80.81s - -0.80s remaining)\n"
          ]
        }
      ]
    },
    {
      "cell_type": "code",
      "source": [
        "log.plot_epochs()"
      ],
      "metadata": {
        "colab": {
          "base_uri": "https://localhost:8080/",
          "height": 560
        },
        "id": "n6l-15y7Qzg6",
        "outputId": "c04432a8-a60e-4359-95e2-b0b41410f21e"
      },
      "execution_count": null,
      "outputs": [
        {
          "output_type": "stream",
          "name": "stderr",
          "text": [
            "100%|██████████| 201/201 [00:01<00:00, 126.72it/s]\n"
          ]
        },
        {
          "output_type": "display_data",
          "data": {
            "text/plain": [
              "<Figure size 800x600 with 1 Axes>"
            ],
            "image/png": "[encoded data removed]"
          },
          "metadata": {}
        }
      ]
    },
    {
      "cell_type": "code",
      "source": [
        "model(dataset_train[20][0])"
      ],
      "metadata": {
        "id": "Xkh_k26y2jFT",
        "colab": {
          "base_uri": "https://localhost:8080/"
        },
        "outputId": "e6f82224-2c67-4893-b89d-b594ff6ba2d5"
      },
      "execution_count": null,
      "outputs": [
        {
          "output_type": "execute_result",
          "data": {
            "text/plain": [
              "tensor([0.1716], grad_fn=<AddBackward0>)"
            ]
          },
          "metadata": {},
          "execution_count": 47
        }
      ]
    },
    {
      "cell_type": "code",
      "source": [
        "dataset_train[20][1]"
      ],
      "metadata": {
        "id": "lvjPq_Ul2jCK",
        "colab": {
          "base_uri": "https://localhost:8080/"
        },
        "outputId": "e8c1ed84-8395-4e85-aad7-f193a6f51966"
      },
      "execution_count": null,
      "outputs": [
        {
          "output_type": "execute_result",
          "data": {
            "text/plain": [
              "tensor(0.1370)"
            ]
          },
          "metadata": {},
          "execution_count": 48
        }
      ]
    }
  ]
}