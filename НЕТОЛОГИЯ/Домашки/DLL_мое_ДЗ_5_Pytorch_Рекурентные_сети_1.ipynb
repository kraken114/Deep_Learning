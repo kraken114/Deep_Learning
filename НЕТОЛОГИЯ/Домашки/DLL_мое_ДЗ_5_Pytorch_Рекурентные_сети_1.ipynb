{
  "nbformat": 4,
  "nbformat_minor": 0,
  "metadata": {
    "colab": {
      "provenance": []
    },
    "kernelspec": {
      "name": "python3",
      "display_name": "Python 3"
    },
    "language_info": {
      "name": "python"
    }
  },
  "cells": [
    {
      "cell_type": "code",
      "source": [
        "import pandas as pd\n",
        "import time\n",
        "import torch\n",
        "import re"
      ],
      "metadata": {
        "id": "ZXyiaVSa9rGX"
      },
      "execution_count": null,
      "outputs": []
    },
    {
      "cell_type": "markdown",
      "source": [
        "**Создаем словарь алфавита**"
      ],
      "metadata": {
        "id": "g8xxGRi0Jcu4"
      }
    },
    {
      "cell_type": "code",
      "execution_count": null,
      "metadata": {
        "id": "XqKlSMwfsGLh"
      },
      "outputs": [],
      "source": [
        "alph = 'абвгдеёжзийклмнопрстуфхцчшщъыьэюя абвгдеёжзийклмнопрстуфхцчшщъыьэюя '"
      ]
    },
    {
      "cell_type": "code",
      "source": [
        "alph"
      ],
      "metadata": {
        "colab": {
          "base_uri": "https://localhost:8080/",
          "height": 36
        },
        "id": "_WPjlbz8v-Ma",
        "outputId": "a08a048a-2114-4259-92a8-253fc2967168"
      },
      "execution_count": null,
      "outputs": [
        {
          "output_type": "execute_result",
          "data": {
            "text/plain": [
              "'абвгдеёжзийклмнопрстуфхцчшщъыьэюя абвгдеёжзийклмнопрстуфхцчшщъыьэюя '"
            ],
            "application/vnd.google.colaboratory.intrinsic+json": {
              "type": "string"
            }
          },
          "metadata": {},
          "execution_count": 3
        }
      ]
    },
    {
      "cell_type": "markdown",
      "source": [
        "**Очищаем текст**"
      ],
      "metadata": {
        "id": "pZrYu5BtJOW2"
      }
    },
    {
      "cell_type": "code",
      "source": [
        "lst =   [\n",
        "        'Земную жизнь пройдя до половины, Я очутился в сумрачном лесу, Утратив правый путь во тьме долины.',\n",
        "        'Каков он был, о, как произнесу, Тот дикий лес, дремучий и грозящий, Чей давний ужас в памяти несу!',\n",
        "        'Так горек он, что смерть едва ль не слаще. Но, благо в нем обретши навсегда, Скажу про все, что видел в этой чаще.',\n",
        "        'Не помню сам, как я вошел туда, Настолько сон меня опутал ложью, Когда я сбился с верного следа.',\n",
        "        'Но к холмному приблизившись подножью, Которым замыкался этот дол, Мне сжавший сердце ужасом и дрожью,',\n",
        "        'Я увидал, едва глаза возвел, Что свет планеты, всюду путеводной, Уже на плечи горные сошел.',\n",
        "        'Тогда вздохнула более свободной И долгий страх превозмогла душа, Измученная ночью безысходной.',\n",
        "        'И словно тот, кто, тяжело дыша, На берег выйдя из пучины пенной, Глядит назад, где волны бьют, страша,',\n",
        "        'Так и мой дух, бегущий и смятенный, Вспять обернулся, озирая путь, Всех уводящий к смерти предреченной.',\n",
        "        'Когда я телу дал передохнуть, Я вверх пошел, и мне была опора В стопе, давившей на земную грудь.'\n",
        "        ]"
      ],
      "metadata": {
        "id": "ySSdi3bkww16"
      },
      "execution_count": null,
      "outputs": []
    },
    {
      "cell_type": "code",
      "source": [
        "def f(x):\n",
        "  lst2 = []\n",
        "  for i in x:\n",
        "    i = i.lower()\n",
        "    i = re.sub('[!.,]','',i)\n",
        "    lst2.append(i)\n",
        "  return lst2"
      ],
      "metadata": {
        "id": "8psp_FW0zowt"
      },
      "execution_count": null,
      "outputs": []
    },
    {
      "cell_type": "code",
      "source": [
        "text = f(lst)\n",
        "text"
      ],
      "metadata": {
        "colab": {
          "base_uri": "https://localhost:8080/"
        },
        "id": "ldbAnji4HX7_",
        "outputId": "53bab8a1-36e7-4a34-f21d-cee51608a706"
      },
      "execution_count": null,
      "outputs": [
        {
          "output_type": "execute_result",
          "data": {
            "text/plain": [
              "['земную жизнь пройдя до половины я очутился в сумрачном лесу утратив правый путь во тьме долины',\n",
              " 'каков он был о как произнесу тот дикий лес дремучий и грозящий чей давний ужас в памяти несу',\n",
              " 'так горек он что смерть едва ль не слаще но благо в нем обретши навсегда скажу про все что видел в этой чаще',\n",
              " 'не помню сам как я вошел туда настолько сон меня опутал ложью когда я сбился с верного следа',\n",
              " 'но к холмному приблизившись подножью которым замыкался этот дол мне сжавший сердце ужасом и дрожью',\n",
              " 'я увидал едва глаза возвел что свет планеты всюду путеводной уже на плечи горные сошел',\n",
              " 'тогда вздохнула более свободной и долгий страх превозмогла душа измученная ночью безысходной',\n",
              " 'и словно тот кто тяжело дыша на берег выйдя из пучины пенной глядит назад где волны бьют страша',\n",
              " 'так и мой дух бегущий и смятенный вспять обернулся озирая путь всех уводящий к смерти предреченной',\n",
              " 'когда я телу дал передохнуть я вверх пошел и мне была опора в стопе давившей на земную грудь']"
            ]
          },
          "metadata": {},
          "execution_count": 6
        }
      ]
    },
    {
      "cell_type": "code",
      "source": [
        "text[0]"
      ],
      "metadata": {
        "colab": {
          "base_uri": "https://localhost:8080/",
          "height": 36
        },
        "id": "TM8s6gETBTXB",
        "outputId": "b324563d-7d17-452e-b750-687e380ee3ce"
      },
      "execution_count": null,
      "outputs": [
        {
          "output_type": "execute_result",
          "data": {
            "text/plain": [
              "'земную жизнь пройдя до половины я очутился в сумрачном лесу утратив правый путь во тьме долины'"
            ],
            "application/vnd.google.colaboratory.intrinsic+json": {
              "type": "string"
            }
          },
          "metadata": {},
          "execution_count": 7
        }
      ]
    },
    {
      "cell_type": "markdown",
      "source": [
        "**Кодируем данные цезарем**"
      ],
      "metadata": {
        "id": "fa7zqhDOLcw9"
      }
    },
    {
      "cell_type": "code",
      "source": [
        "k = 3\n",
        "text_code = ''\n",
        "lst = []"
      ],
      "metadata": {
        "id": "CGQGH-wlCOPo"
      },
      "execution_count": null,
      "outputs": []
    },
    {
      "cell_type": "code",
      "source": [
        "for i in text:\n",
        "  for j in i:\n",
        "    position = alph.find(j)\n",
        "    new_po = position + k\n",
        "    text_code = text_code + alph[new_po]\n",
        "  lst.append(text_code)\n",
        "  text_code = ''\n",
        "  k+=1"
      ],
      "metadata": {
        "id": "d-4ymEkQGzRU"
      },
      "execution_count": null,
      "outputs": []
    },
    {
      "cell_type": "code",
      "source": [
        "lst"
      ],
      "metadata": {
        "colab": {
          "base_uri": "https://localhost:8080/"
        },
        "id": "4wAGIJ9X96Fi",
        "outputId": "b3abff8c-0099-4b35-e055-3ccde078e7da"
      },
      "execution_count": null,
      "outputs": [
        {
          "output_type": "execute_result",
          "data": {
            "text/plain": [
              "['кзпрцавйлкрявтусмжбвжсвтсоселрювбвсъцхлофбвевфцпугърспвозфцвцхугхлевтугеюмвтцхявесвхяпзвжсолрю',\n",
              " 'одотёгтсгеяпгтгодогуфтмлсихчгцтцгзмомнгпихгзфирчымнгмгжфтлвэмнгыингздёсмнгчкдхгёгудрвцмгсихч',\n",
              " 'чепдзухйпдутдьчудцсйхчадйижедрадтйдцреюйдтудёрезудждтйсдуёхйчэндтежцйзиедцпелшдфхуджцйдьчуджнийрдждбчуодьеюй',\n",
              " 'укехфтугечётерёредезфюксешщйёеуёчшфсбрфечфуеткудефхщшёсесфмбгерфийёедечжосчдечезкцуфифечскйё',\n",
              " 'фхёсёьхтуфхуъёцчпзтпопияпшвёцхкфхнвдёсхщхчбуёожубсжтшеёгщхщёкхтёуфлёшнжияпрёшлчкэлёънжшхуёпёкчхнвд',\n",
              " 'ёжыйрлзужмлйзжкузпзжйцпймужяъцжщймъжчузхмъвжйщелыжчыъмйцлхцсжыомжхзжчумяржкцшхвмжщц му',\n",
              " 'ычлмизкрмчюцьфизйчфннзъкчйчмцчтзсзмчфлстзъыщиюзшщнкчрхчлфизмьаизсрхь нццижзцч дёзйнргъючмцчт',\n",
              " 'тиыхшлчшиьшьифьшиьзрохшиндбйичйикоъомилдунзитсищэатчдищоччшуимхзнтьичйсйнимноилшхчдикежьиыьъйбй',\n",
              " 'экхйуйчщфйою йлпнюгуфйуйьчиэпшшефймьъиэёйщлпышюцьийщтуыкийъюэёймьп йюмщоигуфйхйьчпыэуйъыпоыпбпшшщф',\n",
              " 'цъоплкйкюрчякплчкырьрпъащяюжкйкннрьакыъгрчкфкшщркмёчлкъыъьлкнкэюъыркплнфнгрхкщлкуршщяикоьяпж']"
            ]
          },
          "metadata": {},
          "execution_count": 10
        }
      ]
    },
    {
      "cell_type": "code",
      "source": [
        "# разбивка текспов на буквы, получили список списков [['з','е', ....],['п','р','о','й',], .....]\n",
        "text_Ceasar = [[c for c in ph] for ph in lst if type(ph) is str]"
      ],
      "metadata": {
        "id": "k0jVQm0aJ2dZ"
      },
      "execution_count": null,
      "outputs": []
    },
    {
      "cell_type": "code",
      "source": [
        "print(text_Ceasar)"
      ],
      "metadata": {
        "id": "DjeN19M7J2Rk",
        "colab": {
          "base_uri": "https://localhost:8080/"
        },
        "outputId": "2d75ab75-7bc5-4eef-b4ac-a9930830d85c"
      },
      "execution_count": null,
      "outputs": [
        {
          "output_type": "stream",
          "name": "stdout",
          "text": [
            "[['к', 'з', 'п', 'р', 'ц', 'а', 'в', 'й', 'л', 'к', 'р', 'я', 'в', 'т', 'у', 'с', 'м', 'ж', 'б', 'в', 'ж', 'с', 'в', 'т', 'с', 'о', 'с', 'е', 'л', 'р', 'ю', 'в', 'б', 'в', 'с', 'ъ', 'ц', 'х', 'л', 'о', 'ф', 'б', 'в', 'е', 'в', 'ф', 'ц', 'п', 'у', 'г', 'ъ', 'р', 'с', 'п', 'в', 'о', 'з', 'ф', 'ц', 'в', 'ц', 'х', 'у', 'г', 'х', 'л', 'е', 'в', 'т', 'у', 'г', 'е', 'ю', 'м', 'в', 'т', 'ц', 'х', 'я', 'в', 'е', 'с', 'в', 'х', 'я', 'п', 'з', 'в', 'ж', 'с', 'о', 'л', 'р', 'ю'], ['о', 'д', 'о', 'т', 'ё', 'г', 'т', 'с', 'г', 'е', 'я', 'п', 'г', 'т', 'г', 'о', 'д', 'о', 'г', 'у', 'ф', 'т', 'м', 'л', 'с', 'и', 'х', 'ч', 'г', 'ц', 'т', 'ц', 'г', 'з', 'м', 'о', 'м', 'н', 'г', 'п', 'и', 'х', 'г', 'з', 'ф', 'и', 'р', 'ч', 'ы', 'м', 'н', 'г', 'м', 'г', 'ж', 'ф', 'т', 'л', 'в', 'э', 'м', 'н', 'г', 'ы', 'и', 'н', 'г', 'з', 'д', 'ё', 'с', 'м', 'н', 'г', 'ч', 'к', 'д', 'х', 'г', 'ё', 'г', 'у', 'д', 'р', 'в', 'ц', 'м', 'г', 'с', 'и', 'х', 'ч'], ['ч', 'е', 'п', 'д', 'з', 'у', 'х', 'й', 'п', 'д', 'у', 'т', 'д', 'ь', 'ч', 'у', 'д', 'ц', 'с', 'й', 'х', 'ч', 'а', 'д', 'й', 'и', 'ж', 'е', 'д', 'р', 'а', 'д', 'т', 'й', 'д', 'ц', 'р', 'е', 'ю', 'й', 'д', 'т', 'у', 'д', 'ё', 'р', 'е', 'з', 'у', 'д', 'ж', 'д', 'т', 'й', 'с', 'д', 'у', 'ё', 'х', 'й', 'ч', 'э', 'н', 'д', 'т', 'е', 'ж', 'ц', 'й', 'з', 'и', 'е', 'д', 'ц', 'п', 'е', 'л', 'ш', 'д', 'ф', 'х', 'у', 'д', 'ж', 'ц', 'й', 'д', 'ь', 'ч', 'у', 'д', 'ж', 'н', 'и', 'й', 'р', 'д', 'ж', 'д', 'б', 'ч', 'у', 'о', 'д', 'ь', 'е', 'ю', 'й'], ['у', 'к', 'е', 'х', 'ф', 'т', 'у', 'г', 'е', 'ч', 'ё', 'т', 'е', 'р', 'ё', 'р', 'е', 'д', 'е', 'з', 'ф', 'ю', 'к', 'с', 'е', 'ш', 'щ', 'й', 'ё', 'е', 'у', 'ё', 'ч', 'ш', 'ф', 'с', 'б', 'р', 'ф', 'е', 'ч', 'ф', 'у', 'е', 'т', 'к', 'у', 'д', 'е', 'ф', 'х', 'щ', 'ш', 'ё', 'с', 'е', 'с', 'ф', 'м', 'б', 'г', 'е', 'р', 'ф', 'и', 'й', 'ё', 'е', 'д', 'е', 'ч', 'ж', 'о', 'с', 'ч', 'д', 'е', 'ч', 'е', 'з', 'к', 'ц', 'у', 'ф', 'и', 'ф', 'е', 'ч', 'с', 'к', 'й', 'ё'], ['ф', 'х', 'ё', 'с', 'ё', 'ь', 'х', 'т', 'у', 'ф', 'х', 'у', 'ъ', 'ё', 'ц', 'ч', 'п', 'з', 'т', 'п', 'о', 'п', 'и', 'я', 'п', 'ш', 'в', 'ё', 'ц', 'х', 'к', 'ф', 'х', 'н', 'в', 'д', 'ё', 'с', 'х', 'щ', 'х', 'ч', 'б', 'у', 'ё', 'о', 'ж', 'у', 'б', 'с', 'ж', 'т', 'ш', 'е', 'ё', 'г', 'щ', 'х', 'щ', 'ё', 'к', 'х', 'т', 'ё', 'у', 'ф', 'л', 'ё', 'ш', 'н', 'ж', 'и', 'я', 'п', 'р', 'ё', 'ш', 'л', 'ч', 'к', 'э', 'л', 'ё', 'ъ', 'н', 'ж', 'ш', 'х', 'у', 'ё', 'п', 'ё', 'к', 'ч', 'х', 'н', 'в', 'д'], ['ё', 'ж', 'ы', 'й', 'р', 'л', 'з', 'у', 'ж', 'м', 'л', 'й', 'з', 'ж', 'к', 'у', 'з', 'п', 'з', 'ж', 'й', 'ц', 'п', 'й', 'м', 'у', 'ж', 'я', 'ъ', 'ц', 'ж', 'щ', 'й', 'м', 'ъ', 'ж', 'ч', 'у', 'з', 'х', 'м', 'ъ', 'в', 'ж', 'й', 'щ', 'е', 'л', 'ы', 'ж', 'ч', 'ы', 'ъ', 'м', 'й', 'ц', 'л', 'х', 'ц', 'с', 'ж', 'ы', 'о', 'м', 'ж', 'х', 'з', 'ж', 'ч', 'у', 'м', 'я', 'р', 'ж', 'к', 'ц', 'ш', 'х', 'в', 'м', 'ж', 'щ', 'ц', ' ', 'м', 'у'], ['ы', 'ч', 'л', 'м', 'и', 'з', 'к', 'р', 'м', 'ч', 'ю', 'ц', 'ь', 'ф', 'и', 'з', 'й', 'ч', 'ф', 'н', 'н', 'з', 'ъ', 'к', 'ч', 'й', 'ч', 'м', 'ц', 'ч', 'т', 'з', 'с', 'з', 'м', 'ч', 'ф', 'л', 'с', 'т', 'з', 'ъ', 'ы', 'щ', 'и', 'ю', 'з', 'ш', 'щ', 'н', 'к', 'ч', 'р', 'х', 'ч', 'л', 'ф', 'и', 'з', 'м', 'ь', 'а', 'и', 'з', 'с', 'р', 'х', 'ь', ' ', 'н', 'ц', 'ц', 'и', 'ж', 'з', 'ц', 'ч', ' ', 'д', 'ё', 'з', 'й', 'н', 'р', 'г', 'ъ', 'ю', 'ч', 'м', 'ц', 'ч', 'т'], ['т', 'и', 'ы', 'х', 'ш', 'л', 'ч', 'ш', 'и', 'ь', 'ш', 'ь', 'и', 'ф', 'ь', 'ш', 'и', 'ь', 'з', 'р', 'о', 'х', 'ш', 'и', 'н', 'д', 'б', 'й', 'и', 'ч', 'й', 'и', 'к', 'о', 'ъ', 'о', 'м', 'и', 'л', 'д', 'у', 'н', 'з', 'и', 'т', 'с', 'и', 'щ', 'э', 'а', 'т', 'ч', 'д', 'и', 'щ', 'о', 'ч', 'ч', 'ш', 'у', 'и', 'м', 'х', 'з', 'н', 'т', 'ь', 'и', 'ч', 'й', 'с', 'й', 'н', 'и', 'м', 'н', 'о', 'и', 'л', 'ш', 'х', 'ч', 'д', 'и', 'к', 'е', 'ж', 'ь', 'и', 'ы', 'ь', 'ъ', 'й', 'б', 'й'], ['э', 'к', 'х', 'й', 'у', 'й', 'ч', 'щ', 'ф', 'й', 'о', 'ю', ' ', 'й', 'л', 'п', 'н', 'ю', 'г', 'у', 'ф', 'й', 'у', 'й', 'ь', 'ч', 'и', 'э', 'п', 'ш', 'ш', 'е', 'ф', 'й', 'м', 'ь', 'ъ', 'и', 'э', 'ё', 'й', 'щ', 'л', 'п', 'ы', 'ш', 'ю', 'ц', 'ь', 'и', 'й', 'щ', 'т', 'у', 'ы', 'к', 'и', 'й', 'ъ', 'ю', 'э', 'ё', 'й', 'м', 'ь', 'п', ' ', 'й', 'ю', 'м', 'щ', 'о', 'и', 'г', 'у', 'ф', 'й', 'х', 'й', 'ь', 'ч', 'п', 'ы', 'э', 'у', 'й', 'ъ', 'ы', 'п', 'о', 'ы', 'п', 'б', 'п', 'ш', 'ш', 'щ', 'ф'], ['ц', 'ъ', 'о', 'п', 'л', 'к', 'й', 'к', 'ю', 'р', 'ч', 'я', 'к', 'п', 'л', 'ч', 'к', 'ы', 'р', 'ь', 'р', 'п', 'ъ', 'а', 'щ', 'я', 'ю', 'ж', 'к', 'й', 'к', 'н', 'н', 'р', 'ь', 'а', 'к', 'ы', 'ъ', 'г', 'р', 'ч', 'к', 'ф', 'к', 'ш', 'щ', 'р', 'к', 'м', 'ё', 'ч', 'л', 'к', 'ъ', 'ы', 'ъ', 'ь', 'л', 'к', 'н', 'к', 'э', 'ю', 'ъ', 'ы', 'р', 'к', 'п', 'л', 'н', 'ф', 'н', 'г', 'р', 'х', 'к', 'щ', 'л', 'к', 'у', 'р', 'ш', 'щ', 'я', 'и', 'к', 'о', 'ь', 'я', 'п', 'ж']]\n"
          ]
        }
      ]
    },
    {
      "cell_type": "code",
      "source": [
        "CHARS = set('абвгдеёжзийклмнопрстуфхцчшщъыьэюя ')\n",
        "INDEX_TO_CHAR = ['none'] + [w for w in CHARS]\n",
        "CHAR_TO_INDEX = {w: i for i, w in enumerate(INDEX_TO_CHAR)} # создаем словарь: буква - индекс"
      ],
      "metadata": {
        "id": "MR3xTdAFJ2Op"
      },
      "execution_count": null,
      "outputs": []
    },
    {
      "cell_type": "code",
      "source": [
        "len(CHARS), len(INDEX_TO_CHAR), len(CHAR_TO_INDEX)"
      ],
      "metadata": {
        "id": "ixl4svlPcG_s",
        "colab": {
          "base_uri": "https://localhost:8080/"
        },
        "outputId": "33fc6c6d-798f-4205-f2a0-6849262d816a"
      },
      "execution_count": null,
      "outputs": [
        {
          "output_type": "execute_result",
          "data": {
            "text/plain": [
              "(34, 35, 35)"
            ]
          },
          "metadata": {},
          "execution_count": 14
        }
      ]
    },
    {
      "cell_type": "code",
      "source": [
        "print(CHARS)"
      ],
      "metadata": {
        "colab": {
          "base_uri": "https://localhost:8080/"
        },
        "id": "NiNlh-xWmKAm",
        "outputId": "7b474bb7-d3f4-467b-8de7-bdaf34e97122"
      },
      "execution_count": null,
      "outputs": [
        {
          "output_type": "stream",
          "name": "stdout",
          "text": [
            "{'ч', 'г', 'ф', 'м', ' ', 'ь', 'й', 'р', 'э', 'ж', 'ю', 'ъ', 'л', 'и', 'с', 'о', 'т', 'ё', 'е', 'я', 'в', 'б', 'ш', 'у', 'х', 'щ', 'к', 'ы', 'а', 'д', 'н', 'п', 'ц', 'з'}\n"
          ]
        }
      ]
    },
    {
      "cell_type": "code",
      "source": [
        "print(INDEX_TO_CHAR)"
      ],
      "metadata": {
        "id": "qnO5zNwUcB0q",
        "colab": {
          "base_uri": "https://localhost:8080/"
        },
        "outputId": "24d0bfa6-c06e-4ed8-e19a-206d2d4e2d6d"
      },
      "execution_count": null,
      "outputs": [
        {
          "output_type": "stream",
          "name": "stdout",
          "text": [
            "['none', 'ч', 'г', 'ф', 'м', ' ', 'ь', 'й', 'р', 'э', 'ж', 'ю', 'ъ', 'л', 'и', 'с', 'о', 'т', 'ё', 'е', 'я', 'в', 'б', 'ш', 'у', 'х', 'щ', 'к', 'ы', 'а', 'д', 'н', 'п', 'ц', 'з']\n"
          ]
        }
      ]
    },
    {
      "cell_type": "code",
      "source": [
        "print(CHAR_TO_INDEX)"
      ],
      "metadata": {
        "colab": {
          "base_uri": "https://localhost:8080/"
        },
        "id": "IniGi5aZcByD",
        "outputId": "f2419eaf-2750-4f4c-d9e8-4b56974b85e6"
      },
      "execution_count": null,
      "outputs": [
        {
          "output_type": "stream",
          "name": "stdout",
          "text": [
            "{'none': 0, 'ч': 1, 'г': 2, 'ф': 3, 'м': 4, ' ': 5, 'ь': 6, 'й': 7, 'р': 8, 'э': 9, 'ж': 10, 'ю': 11, 'ъ': 12, 'л': 13, 'и': 14, 'с': 15, 'о': 16, 'т': 17, 'ё': 18, 'е': 19, 'я': 20, 'в': 21, 'б': 22, 'ш': 23, 'у': 24, 'х': 25, 'щ': 26, 'к': 27, 'ы': 28, 'а': 29, 'д': 30, 'н': 31, 'п': 32, 'ц': 33, 'з': 34}\n"
          ]
        }
      ]
    },
    {
      "cell_type": "code",
      "source": [
        "# кодируем текст побуквенно из букв в индексы по словарю 10х100, если букв не хватает, то заполгяем нулями, если букв больше 100, то обрезаем\n",
        "MAX_LEN = 100\n",
        "X = torch.zeros((len(text_Ceasar), MAX_LEN), dtype=int) # len(text) = 10, создание нулевой матрицы 10х100\n",
        "for i in range(len(text_Ceasar)):\n",
        "    for j, _k in enumerate(text_Ceasar[i]):\n",
        "#      print(k)\n",
        "        if j >= MAX_LEN:\n",
        "            break\n",
        "        X[i, j] = CHAR_TO_INDEX.get(_k, CHAR_TO_INDEX['none'])"
      ],
      "metadata": {
        "id": "ptl7k8w5oUDC"
      },
      "execution_count": null,
      "outputs": []
    },
    {
      "cell_type": "code",
      "source": [
        "X"
      ],
      "metadata": {
        "id": "_K58iJHUJ2Ip"
      },
      "execution_count": null,
      "outputs": []
    },
    {
      "cell_type": "code",
      "source": [
        "# кодируем текст побуквенно из букв в индексы по словарю 10х100, если букв не хватает, то заполгяем нулями, если букв больше 100, то обрезаем\n",
        "MAX_LEN = 100\n",
        "Y = torch.zeros((len(text), MAX_LEN), dtype=int) # len(text) = 10, создание нулевой матрицы 10х100\n",
        "for i in range(len(text)):\n",
        "    for j, _k in enumerate(text[i]):\n",
        "#      print(k)\n",
        "        if j >= MAX_LEN:\n",
        "            break\n",
        "        Y[i, j] = CHAR_TO_INDEX.get(_k, CHAR_TO_INDEX['none'])"
      ],
      "metadata": {
        "id": "WIQLQgKE_5Iq"
      },
      "execution_count": null,
      "outputs": []
    },
    {
      "cell_type": "code",
      "source": [
        "Y"
      ],
      "metadata": {
        "id": "1Dsto9oKJ2Fi"
      },
      "execution_count": null,
      "outputs": []
    },
    {
      "cell_type": "markdown",
      "source": [
        "## Смотрим на Embedding и RNN ячейку"
      ],
      "metadata": {
        "id": "a6jFPVwv-I6l"
      }
    },
    {
      "cell_type": "code",
      "source": [
        "len(INDEX_TO_CHAR)"
      ],
      "metadata": {
        "colab": {
          "base_uri": "https://localhost:8080/"
        },
        "id": "bIYJBkMQ9voK",
        "outputId": "a0286558-eb1c-45b0-b093-a77af0c081fa"
      },
      "execution_count": null,
      "outputs": [
        {
          "output_type": "execute_result",
          "data": {
            "text/plain": [
              "35"
            ]
          },
          "metadata": {},
          "execution_count": 21
        }
      ]
    },
    {
      "cell_type": "code",
      "source": [
        "embeddings = torch.nn.Embedding(len(INDEX_TO_CHAR), 35)\n",
        "t = embeddings(X[0:10])\n",
        "t[0]"
      ],
      "metadata": {
        "id": "dG4Brr_aJ2Cg",
        "colab": {
          "base_uri": "https://localhost:8080/"
        },
        "outputId": "2e19cfaf-0b52-4ebb-b1a9-5df0d0b16894"
      },
      "execution_count": null,
      "outputs": [
        {
          "output_type": "execute_result",
          "data": {
            "text/plain": [
              "tensor([[-0.0256, -1.0594,  0.7428,  ...,  0.3567,  1.2732, -2.0504],\n",
              "        [-1.3748, -2.0531,  0.3719,  ..., -1.8320, -0.9821, -0.8736],\n",
              "        [-0.3379,  1.0693,  1.5453,  ...,  1.0475, -0.7006, -1.5045],\n",
              "        ...,\n",
              "        [-1.6935,  0.6265, -0.0448,  ...,  0.1439,  1.6020, -1.0475],\n",
              "        [-1.6935,  0.6265, -0.0448,  ...,  0.1439,  1.6020, -1.0475],\n",
              "        [-1.6935,  0.6265, -0.0448,  ...,  0.1439,  1.6020, -1.0475]],\n",
              "       grad_fn=<SelectBackward0>)"
            ]
          },
          "metadata": {},
          "execution_count": 22
        }
      ]
    },
    {
      "cell_type": "code",
      "source": [
        "X[0:10].shape,embeddings,t[0].shape"
      ],
      "metadata": {
        "colab": {
          "base_uri": "https://localhost:8080/"
        },
        "id": "K8p3l8jt9d_f",
        "outputId": "4faead70-cbd1-47de-c0f9-766a181a0ee3"
      },
      "execution_count": null,
      "outputs": [
        {
          "output_type": "execute_result",
          "data": {
            "text/plain": [
              "(torch.Size([10, 100]), Embedding(35, 35), torch.Size([100, 35]))"
            ]
          },
          "metadata": {},
          "execution_count": 23
        }
      ]
    },
    {
      "cell_type": "code",
      "source": [
        "t.shape, X[0:10].shape"
      ],
      "metadata": {
        "id": "xAk1idFOJ1_q",
        "colab": {
          "base_uri": "https://localhost:8080/"
        },
        "outputId": "955d89fd-bf74-407b-b68d-3e931f5be19d"
      },
      "execution_count": null,
      "outputs": [
        {
          "output_type": "execute_result",
          "data": {
            "text/plain": [
              "(torch.Size([10, 100, 35]), torch.Size([10, 100]))"
            ]
          },
          "metadata": {},
          "execution_count": 24
        }
      ]
    },
    {
      "cell_type": "code",
      "source": [
        "rnn = torch.nn.RNN(35, 128, batch_first=True)\n",
        "o, s = rnn(t)\n",
        "o.shape, s.shape"
      ],
      "metadata": {
        "colab": {
          "base_uri": "https://localhost:8080/"
        },
        "id": "qhsR2yer9YLD",
        "outputId": "f7b7fe61-0588-46da-cdd6-033b2e46388e"
      },
      "execution_count": null,
      "outputs": [
        {
          "output_type": "execute_result",
          "data": {
            "text/plain": [
              "(torch.Size([10, 100, 128]), torch.Size([1, 10, 128]))"
            ]
          },
          "metadata": {},
          "execution_count": 25
        }
      ]
    },
    {
      "cell_type": "code",
      "source": [
        "o, s2 = rnn(t, s)\n",
        "o.shape, s2.shape"
      ],
      "metadata": {
        "colab": {
          "base_uri": "https://localhost:8080/"
        },
        "id": "NOLieysH9YHr",
        "outputId": "869dd46a-274f-45c5-ff77-0d68fea9bc30"
      },
      "execution_count": null,
      "outputs": [
        {
          "output_type": "execute_result",
          "data": {
            "text/plain": [
              "(torch.Size([10, 100, 128]), torch.Size([1, 10, 128]))"
            ]
          },
          "metadata": {},
          "execution_count": 26
        }
      ]
    },
    {
      "cell_type": "code",
      "source": [
        "class Network(torch.nn.Module):\n",
        "    def __init__(self): # конструктор класса\n",
        "        super(Network, self).__init__()\n",
        "        self.embed = torch.nn.Embedding(len(CHAR_TO_INDEX), 35)\n",
        "#        print(embed.shape)\n",
        "        self.rnn = torch.nn.RNN(35, 128, batch_first=True)\n",
        "        self.linear = torch.nn.Linear(128,len(INDEX_TO_CHAR))\n",
        "    def forward(self, sentences, state=None):\n",
        "        embed = self.embed(sentences)\n",
        "        o,s = self.rnn(embed)# выход : 10х50х35\n",
        "        out = self.linear(o)\n",
        "        return out # возвращает последовательность с одним символом вперед\n",
        "# вход: мама мыла рам\n",
        "# выход: ама мыла раму"
      ],
      "metadata": {
        "id": "6xQ2y7e19YE7"
      },
      "execution_count": null,
      "outputs": []
    },
    {
      "cell_type": "code",
      "execution_count": null,
      "metadata": {
        "ExecuteTime": {
          "end_time": "2020-03-12T15:20:53.260599Z",
          "start_time": "2020-03-12T15:20:53.256979Z"
        },
        "id": "-f4VNsqAuvsD"
      },
      "outputs": [],
      "source": [
        "model = Network()"
      ]
    },
    {
      "cell_type": "code",
      "execution_count": null,
      "metadata": {
        "ExecuteTime": {
          "end_time": "2020-03-12T15:21:01.929404Z",
          "start_time": "2020-03-12T15:21:01.925999Z"
        },
        "id": "aeBhYubTuvsD"
      },
      "outputs": [],
      "source": [
        "criterion = torch.nn.CrossEntropyLoss()\n",
        "optimizer = torch.optim.SGD(model.parameters(), lr=.05)"
      ]
    },
    {
      "cell_type": "code",
      "source": [
        "# с помощью этой функции будем следить за тем, что будет выдавать модель по мере обучения\n",
        "# функция генерирующея последовательность символов\n",
        "def generate_sentence():\n",
        "    sentence = ['з', 'е', 'м', 'н', 'у', 'ю', ' ', 'ж', 'и', 'з', 'н', 'ь']\n",
        "    x = torch.zeros((1,len(sentence)),dtype=int)\n",
        "\n",
        "    for j,w in enumerate(sentence): # в sentence каждая буква становится символом типа tensor([[11, 15,  8, 18, 26]])\n",
        "      if j>MAX_LEN:\n",
        "        break\n",
        "      x[0,j] = CHAR_TO_INDEX.get(w,CHAR_TO_INDEX['none'])\n",
        "\n",
        "    for i in range(MAX_LEN): # MAX_LEN = 100\n",
        "      o = model(x) # матрица 5х35\n",
        "      w = torch.argmax(o[-1,-1,:],keepdim=True)\n",
        "      x = torch.cat([x,w.unsqueeze(0)],axis=1)\n",
        "      ww = INDEX_TO_CHAR[w]\n",
        "\n",
        "      if ww == 'none':\n",
        "        break\n",
        "      sentence.append(ww)\n",
        "\n",
        "    return ''.join(sentence)"
      ],
      "metadata": {
        "id": "jeY7bny59X_J"
      },
      "execution_count": null,
      "outputs": []
    },
    {
      "cell_type": "code",
      "source": [
        "for ep in range(200):\n",
        "    start = time.time()\n",
        "    train_loss = 0.0\n",
        "    train_passed = 0\n",
        "\n",
        "#    for i in range(int(len(X)*100 / 100)):\n",
        "    for i in range(10):\n",
        "        batch = X[i:i+1] #* 100:(i + 1) * 100]\n",
        "        batch_out = Y[i:i+1] #* 100:(i + 1) * 100]\n",
        "        X_batch = batch[:, :-1]\n",
        "        Y_batch = batch_out[:, 1:].flatten()\n",
        "\n",
        "        optimizer.zero_grad()\n",
        "        answers = model(X_batch)\n",
        "        answers = answers.view(-1, len(INDEX_TO_CHAR))\n",
        "        loss = criterion(answers, Y_batch)\n",
        "        train_loss += loss.item()\n",
        "\n",
        "        loss.backward()\n",
        "        optimizer.step()\n",
        "        train_passed += 1\n",
        "\n",
        "    if ep%5 == 0:\n",
        "      print(\"\\nEpoch {}. Time: {:.3f}, Train loss: {:.3f}\".format(ep, time.time() - start, train_loss/train_passed))\n",
        "      s = generate_sentence()\n",
        "      print(s)\n",
        "    else:\n",
        "      print(f\"\\rEpoch {ep}, loss {train_loss / train_passed:.3f}\", end='')"
      ],
      "metadata": {
        "colab": {
          "base_uri": "https://localhost:8080/"
        },
        "id": "FarFt_ZM_SgN",
        "outputId": "e4b15460-bcd2-4e25-bf18-f77262516c4c"
      },
      "execution_count": null,
      "outputs": [
        {
          "output_type": "stream",
          "name": "stdout",
          "text": [
            "\n",
            "Epoch 0. Time: 0.103, Train loss: 3.518\n",
            "земную жизньн  иииииииииииииииииииииииииииииииииииииииииииииииииииииииииииииииииииииииииииииииииииииииииииииииии\n",
            "Epoch 4, loss 3.092\n",
            "Epoch 5. Time: 0.089, Train loss: 3.030\n",
            "земную жизнь                                                                                                    \n",
            "Epoch 9, loss 2.912\n",
            "Epoch 10. Time: 0.092, Train loss: 2.897\n",
            "земную жизнь                                                                                                    \n",
            "Epoch 14, loss 2.848\n",
            "Epoch 15. Time: 0.081, Train loss: 2.837\n",
            "земную жизнь                                                                                                    \n",
            "Epoch 19, loss 2.796\n",
            "Epoch 20. Time: 0.087, Train loss: 2.786\n",
            "земную жизнье                                                                                                   \n",
            "Epoch 24, loss 2.747\n",
            "Epoch 25. Time: 0.098, Train loss: 2.737\n",
            "земную жизнье                                                                                                   \n",
            "Epoch 29, loss 2.696\n",
            "Epoch 30. Time: 0.104, Train loss: 2.686\n",
            "земную жизнье                                                                                                   \n",
            "Epoch 34, loss 2.645\n",
            "Epoch 35. Time: 0.090, Train loss: 2.634\n",
            "земную жизнье                                                                                                   \n",
            "Epoch 39, loss 2.591\n",
            "Epoch 40. Time: 0.098, Train loss: 2.581\n",
            "земную жизнье                                                                                                   \n",
            "Epoch 44, loss 2.537\n",
            "Epoch 45. Time: 0.110, Train loss: 2.526\n",
            "земную жизнье                                                                                                   \n",
            "Epoch 49, loss 2.481\n",
            "Epoch 50. Time: 0.098, Train loss: 2.469\n",
            "земную жизнье                                                                                                   \n",
            "Epoch 54, loss 2.423\n",
            "Epoch 55. Time: 0.098, Train loss: 2.412\n",
            "земную жизнье                                                                                                   \n",
            "Epoch 59, loss 2.364\n",
            "Epoch 60. Time: 0.081, Train loss: 2.352\n",
            "земную жизнье                                                                                                   \n",
            "Epoch 64, loss 2.304\n",
            "Epoch 65. Time: 0.085, Train loss: 2.291\n",
            "земную жизнье  с  у  ес  у  ес  у  ес  у  ес  у  ес  у  ес  у  ес  у  ес  у  ес  у  ес  у  ес  у  ес  у  ес  у  \n",
            "Epoch 69, loss 2.240\n",
            "Epoch 70. Time: 0.085, Train loss: 2.227\n",
            "земную жизнье  с уа ес  у  ес  у  ес  у  ес  у  ес  у  ес  у  ес  у  ес  у  ес  у  ес  у  ес  у  ес  у  ес  у  е\n",
            "Epoch 74, loss 2.172\n",
            "Epoch 75. Time: 0.092, Train loss: 2.158\n",
            "земную жизнье  у  еют    уа ес  у  еютин   у  с  у  еют    уа ес  у  еютин   у  с  у  еют    уа ес  у  еютин   у\n",
            "Epoch 79, loss 2.100\n",
            "Epoch 80. Time: 0.098, Train loss: 2.085\n",
            "земную жизнье  у  еют  у  еют  у  еют  у  еют  у  еют  у  еют  у  еют  у  еют  у  еют  у  еют  у  еют  у  еют  у\n",
            "Epoch 84, loss 2.023\n",
            "Epoch 85. Time: 0.108, Train loss: 2.007\n",
            "земную жизнье  у  еют  у  еют  у  еют  у  еют  у  еют  у  еют  у  еют  у  еют  у  еют  у  еют  у  еют  у  еют  у\n",
            "Epoch 89, loss 1.940\n",
            "Epoch 90. Time: 0.104, Train loss: 1.923\n",
            "земную жизнье  у вт  н сесоис  уу ес  уу ес  уу ес  уу ес  уу ес  уу ес  уу ес  уу ес  уу ес  уу ес  уу ес  уу е\n",
            "Epoch 94, loss 1.850\n",
            "Epoch 95. Time: 0.113, Train loss: 1.832\n",
            "земную жизнье  у вт  н сесоис  уу ес  уу  у  еющуа  л у  уу  уу ес  уу ес  уу ес  уу ес  уу ес  уу ес  уу ес  уу\n",
            "Epoch 99, loss 1.754\n",
            "Epoch 100. Time: 0.106, Train loss: 1.734\n",
            "земную жизнье  у вт  н сесоис  уу е  вуа ьл  ууа ьл  уу  у  еющуа  л у  уу  уу ес  уу ес  уу ес  уу ес  уу ес  у\n",
            "Epoch 104, loss 1.651\n",
            "Epoch 105. Time: 0.092, Train loss: 1.630\n",
            "земную жизнье  у вт  н уа ьл  уу ес  уу ес  уу  ьуа уу  уу ес  уу ес  уу  ьуа уу  уу ес  уу ес  уу  ьуа уу  уу е\n",
            "Epoch 109, loss 1.543\n",
            "Epoch 110. Time: 0.092, Train loss: 1.520\n",
            "земную жизнье  у вт  свпеву  ну  еющуа ьл  уу  у  еу  у  еющуа нлнв ес я у  ь е у  ею  уу  у  еу  уу ес  уу  ьуа\n",
            "Epoch 114, loss 1.430\n",
            "Epoch 115. Time: 0.088, Train loss: 1.407\n",
            "земную жизнье  у вт  уу ес  уу  ьют ру\n",
            "Epoch 119, loss 1.315\n",
            "Epoch 120. Time: 0.099, Train loss: 1.292\n",
            "земную жизньес у евурмс  уу е  вуе свпттзнинина  у  еу  уу  уютин уа ьла уу     уу   у  уу  уютин уа ьла уу  лн \n",
            "Epoch 124, loss 1.201\n",
            "Epoch 125. Time: 0.120, Train loss: 1.179\n",
            "земную жизньес ууте   уу     уу   у  ууа ьла ууа ьл  ууес  уурмт  уу е у  уу  уютин уюти а уесе   уу  с яуу    у\n",
            "Epoch 129, loss 1.091\n",
            "Epoch 130. Time: 0.096, Train loss: 1.069\n",
            "земную жизньес ууте   уу     уу   у  ууа ьла ууа ьл  ууес  уурмт  уу е у  уу  уу  уютин уюе  ууе  с уу\n",
            "Epoch 134, loss 0.986\n",
            "Epoch 135. Time: 0.084, Train loss: 0.966\n",
            "земную жизньес ууте   уу   у  уютин уюе ууа  уютинуу е   уу  нющуа ьла ууа ьл  ууе    уу   у  ууа ьла ууа ьл  уу\n",
            "Epoch 139, loss 0.888\n",
            "Epoch 140. Time: 0.086, Train loss: 0.869\n",
            "земную жизньес ууте  вуевс\n",
            "Epoch 144, loss 0.797\n",
            "Epoch 145. Time: 0.084, Train loss: 0.780\n",
            "земную жизньес уут  нвуес я ев ьло уу  уу  уу  уют уюеяу   уу е ур у   ууес  уев ьлоруа  уюти ууше   ууес я ур г\n",
            "Epoch 149, loss 0.714\n",
            "Epoch 150. Time: 0.096, Train loss: 0.699\n",
            "земную жизньес ууе   ууес  уу   уа ьла уюх у  уу  уу  уютин уюе усея   у  уют уа нуу е пруу  нуевунвнеюти еющу  \n",
            "Epoch 154, loss 0.639\n",
            "Epoch 155. Time: 0.108, Train loss: 0.625\n",
            "земную жизньес ууе   ууес  уу   нвжу сея  ут  у вуу сора ьте евуес я еву  ст  уюхи  урес  уура нлуу я ур ьло уу\n",
            "Epoch 159, loss 0.638\n",
            "Epoch 160. Time: 0.087, Train loss: 0.586\n",
            "земную жизньес ууе   ууе  нвеь снуаи  у ес  уу   уа ьла уюх у  ру\n",
            "Epoch 164, loss 0.516\n",
            "Epoch 165. Time: 0.113, Train loss: 0.504\n",
            "земную жизньес ууе   уеву  нуе ьма у ь у  уут  нвжу  нюеь  ууа нлнеу  нуе ь а уют  сьша стина дютина ьуа нуеша г\n",
            "Epoch 169, loss 0.461\n",
            "Epoch 170. Time: 0.081, Train loss: 0.451\n",
            "земную жизньос уюти уушел  ууе  н ещу внпруу  нвуевн соянв   уу   у  уюх у ует  у вюо уу\n",
            "Epoch 174, loss 0.418\n",
            "Epoch 175. Time: 0.085, Train loss: 0.415\n",
            "земную жизньес ууеыоррег рмт  сьят соиныжа нвжвло ву  уу  ууа улвеуу еют  уу е урев  нура  луу я урев  нуево вне\n",
            "Epoch 179, loss 0.384\n",
            "Epoch 180. Time: 0.086, Train loss: 0.380\n",
            "земную жизньоспежуса у  ну  уу тун  у есорао ну ес яуе  уяте   уюея  уюти ууте н ут\n",
            "Epoch 184, loss 0.348\n",
            "Epoch 185. Time: 0.085, Train loss: 0.338\n",
            "земную жизньоспежуса улвеу  ууе  нвжес яуе  нвеь снуу  нвжелнв у ут я ууевнуртт н уюх нвжел я у  н ут ннес с я у\n",
            "Epoch 189, loss 0.307\n",
            "Epoch 190. Time: 0.115, Train loss: 0.302\n",
            "земную жизньоспежуса улвеу  ууе  нвжес яуе  нвеь снуу  нвжелнв у ут я ууевнуртт с ьуа нуе ь я у  уу яуу  уюеяу  \n",
            "Epoch 194, loss 0.286\n",
            "Epoch 195. Time: 0.082, Train loss: 0.274\n",
            "земную жизньосну чыо  уют  ууеа нещев нвжвлвдосешуе нвжел вуу сняуь   уе уу  уу  уу  уюх у урмх я ую\n",
            "Epoch 199, loss 0.253"
          ]
        }
      ]
    }
  ]
}