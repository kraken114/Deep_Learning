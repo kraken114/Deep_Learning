{
  "cells": [
    {
      "cell_type": "code",
      "source": [
        "!pip install gensim\n",
        "!pip install compress-fasttext"
      ],
      "metadata": {
        "colab": {
          "base_uri": "https://localhost:8080/"
        },
        "id": "Svphjz2YlJVG",
        "outputId": "33f8d277-fce2-4a3b-e617-66a7c600ad57"
      },
      "execution_count": null,
      "outputs": [
        {
          "output_type": "stream",
          "name": "stdout",
          "text": [
            "Looking in indexes: https://pypi.org/simple, https://us-python.pkg.dev/colab-wheels/public/simple/\n",
            "Requirement already satisfied: gensim in /usr/local/lib/python3.9/dist-packages (3.6.0)\n",
            "Requirement already satisfied: numpy>=1.11.3 in /usr/local/lib/python3.9/dist-packages (from gensim) (1.22.4)\n",
            "Requirement already satisfied: smart-open>=1.2.1 in /usr/local/lib/python3.9/dist-packages (from gensim) (6.3.0)\n",
            "Requirement already satisfied: six>=1.5.0 in /usr/local/lib/python3.9/dist-packages (from gensim) (1.15.0)\n",
            "Requirement already satisfied: scipy>=0.18.1 in /usr/local/lib/python3.9/dist-packages (from gensim) (1.10.1)\n",
            "Looking in indexes: https://pypi.org/simple, https://us-python.pkg.dev/colab-wheels/public/simple/\n",
            "Collecting compress-fasttext\n",
            "  Downloading compress-fasttext-0.1.3.tar.gz (14 kB)\n",
            "  Preparing metadata (setup.py) ... \u001b[?25l\u001b[?25hdone\n",
            "Collecting gensim>=4.0.0\n",
            "  Downloading gensim-4.3.1-cp39-cp39-manylinux_2_17_x86_64.manylinux2014_x86_64.whl (26.5 MB)\n",
            "\u001b[2K     \u001b[90m━━━━━━━━━━━━━━━━━━━━━━━━━━━━━━━━━━━━━━━━\u001b[0m \u001b[32m26.5/26.5 MB\u001b[0m \u001b[31m16.0 MB/s\u001b[0m eta \u001b[36m0:00:00\u001b[0m\n",
            "\u001b[?25hRequirement already satisfied: numpy in /usr/local/lib/python3.9/dist-packages (from compress-fasttext) (1.22.4)\n",
            "Requirement already satisfied: scipy>=1.7.0 in /usr/local/lib/python3.9/dist-packages (from gensim>=4.0.0->compress-fasttext) (1.10.1)\n",
            "Requirement already satisfied: smart-open>=1.8.1 in /usr/local/lib/python3.9/dist-packages (from gensim>=4.0.0->compress-fasttext) (6.3.0)\n",
            "Building wheels for collected packages: compress-fasttext\n",
            "  Building wheel for compress-fasttext (setup.py) ... \u001b[?25l\u001b[?25hdone\n",
            "  Created wheel for compress-fasttext: filename=compress_fasttext-0.1.3-py3-none-any.whl size=14601 sha256=5cefa17b23bc5586b66adee1e261bbc030e00ef8a6e5171306a22583c815bb91\n",
            "  Stored in directory: /root/.cache/pip/wheels/4d/c6/5a/47903dfee0ac92e78775d4364427259b483ba860be86445b05\n",
            "Successfully built compress-fasttext\n",
            "Installing collected packages: gensim, compress-fasttext\n",
            "  Attempting uninstall: gensim\n",
            "    Found existing installation: gensim 3.6.0\n",
            "    Uninstalling gensim-3.6.0:\n",
            "      Successfully uninstalled gensim-3.6.0\n",
            "Successfully installed compress-fasttext-0.1.3 gensim-4.3.1\n"
          ]
        }
      ]
    },
    {
      "cell_type": "code",
      "source": [
        "import pandas as pd\n",
        "import time\n",
        "import torch\n",
        "import re\n",
        "import random as r"
      ],
      "metadata": {
        "id": "ZXyiaVSa9rGX"
      },
      "execution_count": null,
      "outputs": []
    },
    {
      "cell_type": "code",
      "execution_count": null,
      "metadata": {
        "id": "yQ8iWHEOSW0K"
      },
      "outputs": [],
      "source": [
        "from google.colab import drive"
      ]
    },
    {
      "cell_type": "code",
      "source": [
        "drive.mount('/content/gdrive')"
      ],
      "metadata": {
        "colab": {
          "base_uri": "https://localhost:8080/"
        },
        "id": "DPlQLwLOSssv",
        "outputId": "01130106-49f3-4e7a-d83d-97ad603639d4"
      },
      "execution_count": null,
      "outputs": [
        {
          "output_type": "stream",
          "name": "stdout",
          "text": [
            "Mounted at /content/gdrive\n"
          ]
        }
      ]
    },
    {
      "cell_type": "code",
      "source": [
        "import os"
      ],
      "metadata": {
        "id": "iOWKTenHWZML"
      },
      "execution_count": null,
      "outputs": []
    },
    {
      "cell_type": "code",
      "source": [
        "os.chdir('/content/gdrive/MyDrive/Colab Notebooks/DOM')"
      ],
      "metadata": {
        "id": "7ppcdwIACr88"
      },
      "execution_count": null,
      "outputs": []
    },
    {
      "cell_type": "markdown",
      "metadata": {
        "id": "gBFnPzbQRoUl"
      },
      "source": [
        "## Загрузка данных"
      ]
    },
    {
      "cell_type": "code",
      "execution_count": null,
      "metadata": {
        "ExecuteTime": {
          "end_time": "2020-03-12T15:12:00.685533Z",
          "start_time": "2020-03-12T15:12:00.591616Z"
        },
        "id": "Glrb90jmRoUm",
        "colab": {
          "base_uri": "https://localhost:8080/"
        },
        "outputId": "b47b8405-4b33-408b-a58c-5e1212596209"
      },
      "outputs": [
        {
          "output_type": "stream",
          "name": "stdout",
          "text": [
            "(131708, 13)\n"
          ]
        },
        {
          "output_type": "stream",
          "name": "stderr",
          "text": [
            "/usr/local/lib/python3.9/dist-packages/IPython/core/interactiveshell.py:3326: DtypeWarning: Columns (4,5,6) have mixed types.Specify dtype option on import or set low_memory=False.\n",
            "  exec(code_obj, self.user_global_ns, self.user_ns)\n"
          ]
        }
      ],
      "source": [
        "df_e = pd.read_csv('/content/gdrive/MyDrive/Colab Notebooks/DOM/NETOLOGIA/simpsons_script_lines.csv').dropna()\n",
        "print(df_e.shape)"
      ]
    },
    {
      "cell_type": "code",
      "source": [
        "df_e.head()"
      ],
      "metadata": {
        "colab": {
          "base_uri": "https://localhost:8080/",
          "height": 686
        },
        "id": "XRyUWq_mm3rv",
        "outputId": "69a1a9d9-0729-43c3-8caf-ae47af1bcaed"
      },
      "execution_count": null,
      "outputs": [
        {
          "output_type": "execute_result",
          "data": {
            "text/plain": [
              "     id  episode_id  number  \\\n",
              "0  9549          32     209   \n",
              "1  9550          32     210   \n",
              "2  9551          32     211   \n",
              "3  9552          32     212   \n",
              "4  9553          32     213   \n",
              "\n",
              "                                            raw_text timestamp_in_ms  \\\n",
              "0  Miss Hoover: No, actually, it was a little of ...          848000   \n",
              "1  Lisa Simpson: (NEAR TEARS) Where's Mr. Bergstrom?          856000   \n",
              "2  Miss Hoover: I don't know. Although I'd sure l...          856000   \n",
              "3           Lisa Simpson: That life is worth living.          864000   \n",
              "4  Edna Krabappel-Flanders: The polls will be ope...          864000   \n",
              "\n",
              "  speaking_line character_id  location_id       raw_character_text  \\\n",
              "0          True        464.0          3.0              Miss Hoover   \n",
              "1          True          9.0          3.0             Lisa Simpson   \n",
              "2          True        464.0          3.0              Miss Hoover   \n",
              "3          True          9.0          3.0             Lisa Simpson   \n",
              "4          True         40.0          3.0  Edna Krabappel-Flanders   \n",
              "\n",
              "               raw_location_text  \\\n",
              "0  Springfield Elementary School   \n",
              "1  Springfield Elementary School   \n",
              "2  Springfield Elementary School   \n",
              "3  Springfield Elementary School   \n",
              "4  Springfield Elementary School   \n",
              "\n",
              "                                        spoken_words  \\\n",
              "0  No, actually, it was a little of both. Sometim...   \n",
              "1                             Where's Mr. Bergstrom?   \n",
              "2  I don't know. Although I'd sure like to talk t...   \n",
              "3                         That life is worth living.   \n",
              "4  The polls will be open from now until the end ...   \n",
              "\n",
              "                                     normalized_text word_count  \n",
              "0  no actually it was a little of both sometimes ...         31  \n",
              "1                                wheres mr bergstrom          3  \n",
              "2  i dont know although id sure like to talk to h...         22  \n",
              "3                          that life is worth living          5  \n",
              "4  the polls will be open from now until the end ...         33  "
            ],
            "text/html": [
              "\n",
              "  <div id=\"df-6454caae-3cb2-49ac-8305-6910dd17e346\">\n",
              "    <div class=\"colab-df-container\">\n",
              "      <div>\n",
              "<style scoped>\n",
              "    .dataframe tbody tr th:only-of-type {\n",
              "        vertical-align: middle;\n",
              "    }\n",
              "\n",
              "    .dataframe tbody tr th {\n",
              "        vertical-align: top;\n",
              "    }\n",
              "\n",
              "    .dataframe thead th {\n",
              "        text-align: right;\n",
              "    }\n",
              "</style>\n",
              "<table border=\"1\" class=\"dataframe\">\n",
              "  <thead>\n",
              "    <tr style=\"text-align: right;\">\n",
              "      <th></th>\n",
              "      <th>id</th>\n",
              "      <th>episode_id</th>\n",
              "      <th>number</th>\n",
              "      <th>raw_text</th>\n",
              "      <th>timestamp_in_ms</th>\n",
              "      <th>speaking_line</th>\n",
              "      <th>character_id</th>\n",
              "      <th>location_id</th>\n",
              "      <th>raw_character_text</th>\n",
              "      <th>raw_location_text</th>\n",
              "      <th>spoken_words</th>\n",
              "      <th>normalized_text</th>\n",
              "      <th>word_count</th>\n",
              "    </tr>\n",
              "  </thead>\n",
              "  <tbody>\n",
              "    <tr>\n",
              "      <th>0</th>\n",
              "      <td>9549</td>\n",
              "      <td>32</td>\n",
              "      <td>209</td>\n",
              "      <td>Miss Hoover: No, actually, it was a little of ...</td>\n",
              "      <td>848000</td>\n",
              "      <td>True</td>\n",
              "      <td>464.0</td>\n",
              "      <td>3.0</td>\n",
              "      <td>Miss Hoover</td>\n",
              "      <td>Springfield Elementary School</td>\n",
              "      <td>No, actually, it was a little of both. Sometim...</td>\n",
              "      <td>no actually it was a little of both sometimes ...</td>\n",
              "      <td>31</td>\n",
              "    </tr>\n",
              "    <tr>\n",
              "      <th>1</th>\n",
              "      <td>9550</td>\n",
              "      <td>32</td>\n",
              "      <td>210</td>\n",
              "      <td>Lisa Simpson: (NEAR TEARS) Where's Mr. Bergstrom?</td>\n",
              "      <td>856000</td>\n",
              "      <td>True</td>\n",
              "      <td>9.0</td>\n",
              "      <td>3.0</td>\n",
              "      <td>Lisa Simpson</td>\n",
              "      <td>Springfield Elementary School</td>\n",
              "      <td>Where's Mr. Bergstrom?</td>\n",
              "      <td>wheres mr bergstrom</td>\n",
              "      <td>3</td>\n",
              "    </tr>\n",
              "    <tr>\n",
              "      <th>2</th>\n",
              "      <td>9551</td>\n",
              "      <td>32</td>\n",
              "      <td>211</td>\n",
              "      <td>Miss Hoover: I don't know. Although I'd sure l...</td>\n",
              "      <td>856000</td>\n",
              "      <td>True</td>\n",
              "      <td>464.0</td>\n",
              "      <td>3.0</td>\n",
              "      <td>Miss Hoover</td>\n",
              "      <td>Springfield Elementary School</td>\n",
              "      <td>I don't know. Although I'd sure like to talk t...</td>\n",
              "      <td>i dont know although id sure like to talk to h...</td>\n",
              "      <td>22</td>\n",
              "    </tr>\n",
              "    <tr>\n",
              "      <th>3</th>\n",
              "      <td>9552</td>\n",
              "      <td>32</td>\n",
              "      <td>212</td>\n",
              "      <td>Lisa Simpson: That life is worth living.</td>\n",
              "      <td>864000</td>\n",
              "      <td>True</td>\n",
              "      <td>9.0</td>\n",
              "      <td>3.0</td>\n",
              "      <td>Lisa Simpson</td>\n",
              "      <td>Springfield Elementary School</td>\n",
              "      <td>That life is worth living.</td>\n",
              "      <td>that life is worth living</td>\n",
              "      <td>5</td>\n",
              "    </tr>\n",
              "    <tr>\n",
              "      <th>4</th>\n",
              "      <td>9553</td>\n",
              "      <td>32</td>\n",
              "      <td>213</td>\n",
              "      <td>Edna Krabappel-Flanders: The polls will be ope...</td>\n",
              "      <td>864000</td>\n",
              "      <td>True</td>\n",
              "      <td>40.0</td>\n",
              "      <td>3.0</td>\n",
              "      <td>Edna Krabappel-Flanders</td>\n",
              "      <td>Springfield Elementary School</td>\n",
              "      <td>The polls will be open from now until the end ...</td>\n",
              "      <td>the polls will be open from now until the end ...</td>\n",
              "      <td>33</td>\n",
              "    </tr>\n",
              "  </tbody>\n",
              "</table>\n",
              "</div>\n",
              "      <button class=\"colab-df-convert\" onclick=\"convertToInteractive('df-6454caae-3cb2-49ac-8305-6910dd17e346')\"\n",
              "              title=\"Convert this dataframe to an interactive table.\"\n",
              "              style=\"display:none;\">\n",
              "        \n",
              "  <svg xmlns=\"http://www.w3.org/2000/svg\" height=\"24px\"viewBox=\"0 0 24 24\"\n",
              "       width=\"24px\">\n",
              "    <path d=\"M0 0h24v24H0V0z\" fill=\"none\"/>\n",
              "    <path d=\"M18.56 5.44l.94 2.06.94-2.06 2.06-.94-2.06-.94-.94-2.06-.94 2.06-2.06.94zm-11 1L8.5 8.5l.94-2.06 2.06-.94-2.06-.94L8.5 2.5l-.94 2.06-2.06.94zm10 10l.94 2.06.94-2.06 2.06-.94-2.06-.94-.94-2.06-.94 2.06-2.06.94z\"/><path d=\"M17.41 7.96l-1.37-1.37c-.4-.4-.92-.59-1.43-.59-.52 0-1.04.2-1.43.59L10.3 9.45l-7.72 7.72c-.78.78-.78 2.05 0 2.83L4 21.41c.39.39.9.59 1.41.59.51 0 1.02-.2 1.41-.59l7.78-7.78 2.81-2.81c.8-.78.8-2.07 0-2.86zM5.41 20L4 18.59l7.72-7.72 1.47 1.35L5.41 20z\"/>\n",
              "  </svg>\n",
              "      </button>\n",
              "      \n",
              "  <style>\n",
              "    .colab-df-container {\n",
              "      display:flex;\n",
              "      flex-wrap:wrap;\n",
              "      gap: 12px;\n",
              "    }\n",
              "\n",
              "    .colab-df-convert {\n",
              "      background-color: #E8F0FE;\n",
              "      border: none;\n",
              "      border-radius: 50%;\n",
              "      cursor: pointer;\n",
              "      display: none;\n",
              "      fill: #1967D2;\n",
              "      height: 32px;\n",
              "      padding: 0 0 0 0;\n",
              "      width: 32px;\n",
              "    }\n",
              "\n",
              "    .colab-df-convert:hover {\n",
              "      background-color: #E2EBFA;\n",
              "      box-shadow: 0px 1px 2px rgba(60, 64, 67, 0.3), 0px 1px 3px 1px rgba(60, 64, 67, 0.15);\n",
              "      fill: #174EA6;\n",
              "    }\n",
              "\n",
              "    [theme=dark] .colab-df-convert {\n",
              "      background-color: #3B4455;\n",
              "      fill: #D2E3FC;\n",
              "    }\n",
              "\n",
              "    [theme=dark] .colab-df-convert:hover {\n",
              "      background-color: #434B5C;\n",
              "      box-shadow: 0px 1px 3px 1px rgba(0, 0, 0, 0.15);\n",
              "      filter: drop-shadow(0px 1px 2px rgba(0, 0, 0, 0.3));\n",
              "      fill: #FFFFFF;\n",
              "    }\n",
              "  </style>\n",
              "\n",
              "      <script>\n",
              "        const buttonEl =\n",
              "          document.querySelector('#df-6454caae-3cb2-49ac-8305-6910dd17e346 button.colab-df-convert');\n",
              "        buttonEl.style.display =\n",
              "          google.colab.kernel.accessAllowed ? 'block' : 'none';\n",
              "\n",
              "        async function convertToInteractive(key) {\n",
              "          const element = document.querySelector('#df-6454caae-3cb2-49ac-8305-6910dd17e346');\n",
              "          const dataTable =\n",
              "            await google.colab.kernel.invokeFunction('convertToInteractive',\n",
              "                                                     [key], {});\n",
              "          if (!dataTable) return;\n",
              "\n",
              "          const docLinkHtml = 'Like what you see? Visit the ' +\n",
              "            '<a target=\"_blank\" href=https://colab.research.google.com/notebooks/data_table.ipynb>data table notebook</a>'\n",
              "            + ' to learn more about interactive tables.';\n",
              "          element.innerHTML = '';\n",
              "          dataTable['output_type'] = 'display_data';\n",
              "          await google.colab.output.renderOutput(dataTable, element);\n",
              "          const docLink = document.createElement('div');\n",
              "          docLink.innerHTML = docLinkHtml;\n",
              "          element.appendChild(docLink);\n",
              "        }\n",
              "      </script>\n",
              "    </div>\n",
              "  </div>\n",
              "  "
            ]
          },
          "metadata": {},
          "execution_count": 8
        }
      ]
    },
    {
      "cell_type": "code",
      "source": [
        "df = df_e.drop([\"spoken_words\", \"id\", \"episode_id\", \"number\", \"timestamp_in_ms\" ,\"speaking_line\", \"character_id\", \"location_id\", \"raw_text\", \"raw_location_text\"], axis=1)\n",
        "df.head()"
      ],
      "metadata": {
        "colab": {
          "base_uri": "https://localhost:8080/",
          "height": 206
        },
        "id": "-0yTCDdknJvY",
        "outputId": "d457abd2-f03a-4afd-830e-21366773026d"
      },
      "execution_count": null,
      "outputs": [
        {
          "output_type": "execute_result",
          "data": {
            "text/plain": [
              "        raw_character_text                                    normalized_text  \\\n",
              "0              Miss Hoover  no actually it was a little of both sometimes ...   \n",
              "1             Lisa Simpson                                wheres mr bergstrom   \n",
              "2              Miss Hoover  i dont know although id sure like to talk to h...   \n",
              "3             Lisa Simpson                          that life is worth living   \n",
              "4  Edna Krabappel-Flanders  the polls will be open from now until the end ...   \n",
              "\n",
              "  word_count  \n",
              "0         31  \n",
              "1          3  \n",
              "2         22  \n",
              "3          5  \n",
              "4         33  "
            ],
            "text/html": [
              "\n",
              "  <div id=\"df-1d6d3fc8-1f12-4533-8bbe-ad5a0c91d967\">\n",
              "    <div class=\"colab-df-container\">\n",
              "      <div>\n",
              "<style scoped>\n",
              "    .dataframe tbody tr th:only-of-type {\n",
              "        vertical-align: middle;\n",
              "    }\n",
              "\n",
              "    .dataframe tbody tr th {\n",
              "        vertical-align: top;\n",
              "    }\n",
              "\n",
              "    .dataframe thead th {\n",
              "        text-align: right;\n",
              "    }\n",
              "</style>\n",
              "<table border=\"1\" class=\"dataframe\">\n",
              "  <thead>\n",
              "    <tr style=\"text-align: right;\">\n",
              "      <th></th>\n",
              "      <th>raw_character_text</th>\n",
              "      <th>normalized_text</th>\n",
              "      <th>word_count</th>\n",
              "    </tr>\n",
              "  </thead>\n",
              "  <tbody>\n",
              "    <tr>\n",
              "      <th>0</th>\n",
              "      <td>Miss Hoover</td>\n",
              "      <td>no actually it was a little of both sometimes ...</td>\n",
              "      <td>31</td>\n",
              "    </tr>\n",
              "    <tr>\n",
              "      <th>1</th>\n",
              "      <td>Lisa Simpson</td>\n",
              "      <td>wheres mr bergstrom</td>\n",
              "      <td>3</td>\n",
              "    </tr>\n",
              "    <tr>\n",
              "      <th>2</th>\n",
              "      <td>Miss Hoover</td>\n",
              "      <td>i dont know although id sure like to talk to h...</td>\n",
              "      <td>22</td>\n",
              "    </tr>\n",
              "    <tr>\n",
              "      <th>3</th>\n",
              "      <td>Lisa Simpson</td>\n",
              "      <td>that life is worth living</td>\n",
              "      <td>5</td>\n",
              "    </tr>\n",
              "    <tr>\n",
              "      <th>4</th>\n",
              "      <td>Edna Krabappel-Flanders</td>\n",
              "      <td>the polls will be open from now until the end ...</td>\n",
              "      <td>33</td>\n",
              "    </tr>\n",
              "  </tbody>\n",
              "</table>\n",
              "</div>\n",
              "      <button class=\"colab-df-convert\" onclick=\"convertToInteractive('df-1d6d3fc8-1f12-4533-8bbe-ad5a0c91d967')\"\n",
              "              title=\"Convert this dataframe to an interactive table.\"\n",
              "              style=\"display:none;\">\n",
              "        \n",
              "  <svg xmlns=\"http://www.w3.org/2000/svg\" height=\"24px\"viewBox=\"0 0 24 24\"\n",
              "       width=\"24px\">\n",
              "    <path d=\"M0 0h24v24H0V0z\" fill=\"none\"/>\n",
              "    <path d=\"M18.56 5.44l.94 2.06.94-2.06 2.06-.94-2.06-.94-.94-2.06-.94 2.06-2.06.94zm-11 1L8.5 8.5l.94-2.06 2.06-.94-2.06-.94L8.5 2.5l-.94 2.06-2.06.94zm10 10l.94 2.06.94-2.06 2.06-.94-2.06-.94-.94-2.06-.94 2.06-2.06.94z\"/><path d=\"M17.41 7.96l-1.37-1.37c-.4-.4-.92-.59-1.43-.59-.52 0-1.04.2-1.43.59L10.3 9.45l-7.72 7.72c-.78.78-.78 2.05 0 2.83L4 21.41c.39.39.9.59 1.41.59.51 0 1.02-.2 1.41-.59l7.78-7.78 2.81-2.81c.8-.78.8-2.07 0-2.86zM5.41 20L4 18.59l7.72-7.72 1.47 1.35L5.41 20z\"/>\n",
              "  </svg>\n",
              "      </button>\n",
              "      \n",
              "  <style>\n",
              "    .colab-df-container {\n",
              "      display:flex;\n",
              "      flex-wrap:wrap;\n",
              "      gap: 12px;\n",
              "    }\n",
              "\n",
              "    .colab-df-convert {\n",
              "      background-color: #E8F0FE;\n",
              "      border: none;\n",
              "      border-radius: 50%;\n",
              "      cursor: pointer;\n",
              "      display: none;\n",
              "      fill: #1967D2;\n",
              "      height: 32px;\n",
              "      padding: 0 0 0 0;\n",
              "      width: 32px;\n",
              "    }\n",
              "\n",
              "    .colab-df-convert:hover {\n",
              "      background-color: #E2EBFA;\n",
              "      box-shadow: 0px 1px 2px rgba(60, 64, 67, 0.3), 0px 1px 3px 1px rgba(60, 64, 67, 0.15);\n",
              "      fill: #174EA6;\n",
              "    }\n",
              "\n",
              "    [theme=dark] .colab-df-convert {\n",
              "      background-color: #3B4455;\n",
              "      fill: #D2E3FC;\n",
              "    }\n",
              "\n",
              "    [theme=dark] .colab-df-convert:hover {\n",
              "      background-color: #434B5C;\n",
              "      box-shadow: 0px 1px 3px 1px rgba(0, 0, 0, 0.15);\n",
              "      filter: drop-shadow(0px 1px 2px rgba(0, 0, 0, 0.3));\n",
              "      fill: #FFFFFF;\n",
              "    }\n",
              "  </style>\n",
              "\n",
              "      <script>\n",
              "        const buttonEl =\n",
              "          document.querySelector('#df-1d6d3fc8-1f12-4533-8bbe-ad5a0c91d967 button.colab-df-convert');\n",
              "        buttonEl.style.display =\n",
              "          google.colab.kernel.accessAllowed ? 'block' : 'none';\n",
              "\n",
              "        async function convertToInteractive(key) {\n",
              "          const element = document.querySelector('#df-1d6d3fc8-1f12-4533-8bbe-ad5a0c91d967');\n",
              "          const dataTable =\n",
              "            await google.colab.kernel.invokeFunction('convertToInteractive',\n",
              "                                                     [key], {});\n",
              "          if (!dataTable) return;\n",
              "\n",
              "          const docLinkHtml = 'Like what you see? Visit the ' +\n",
              "            '<a target=\"_blank\" href=https://colab.research.google.com/notebooks/data_table.ipynb>data table notebook</a>'\n",
              "            + ' to learn more about interactive tables.';\n",
              "          element.innerHTML = '';\n",
              "          dataTable['output_type'] = 'display_data';\n",
              "          await google.colab.output.renderOutput(dataTable, element);\n",
              "          const docLink = document.createElement('div');\n",
              "          docLink.innerHTML = docLinkHtml;\n",
              "          element.appendChild(docLink);\n",
              "        }\n",
              "      </script>\n",
              "    </div>\n",
              "  </div>\n",
              "  "
            ]
          },
          "metadata": {},
          "execution_count": 9
        }
      ]
    },
    {
      "cell_type": "code",
      "source": [
        "df.shape"
      ],
      "metadata": {
        "colab": {
          "base_uri": "https://localhost:8080/"
        },
        "id": "X7HQomeAoCCZ",
        "outputId": "d08a8787-64b2-4db6-e0a1-c0a96dc906a8"
      },
      "execution_count": null,
      "outputs": [
        {
          "output_type": "execute_result",
          "data": {
            "text/plain": [
              "(131708, 3)"
            ]
          },
          "metadata": {},
          "execution_count": 10
        }
      ]
    },
    {
      "cell_type": "code",
      "source": [
        "df.iloc[4,1]"
      ],
      "metadata": {
        "colab": {
          "base_uri": "https://localhost:8080/",
          "height": 55
        },
        "id": "JCwEFhK9nY5Q",
        "outputId": "0b8f6deb-582a-45fc-894c-125004d86ddd"
      },
      "execution_count": null,
      "outputs": [
        {
          "output_type": "execute_result",
          "data": {
            "text/plain": [
              "'the polls will be open from now until the end of recess now just in case any of you have decided to put any thought into this well have our final statements martin'"
            ],
            "application/vnd.google.colaboratory.intrinsic+json": {
              "type": "string"
            }
          },
          "metadata": {},
          "execution_count": 11
        }
      ]
    },
    {
      "cell_type": "code",
      "source": [
        "df[df['raw_character_text'] == 'Bart Simpson'].shape, df[df['raw_character_text'] == 'Lisa Simpson'].shape"
      ],
      "metadata": {
        "colab": {
          "base_uri": "https://localhost:8080/"
        },
        "id": "6aJrVfxBnJtE",
        "outputId": "5fd3324b-b4f4-4f62-edf1-78e244479598"
      },
      "execution_count": null,
      "outputs": [
        {
          "output_type": "execute_result",
          "data": {
            "text/plain": [
              "((12997, 3), (10751, 3))"
            ]
          },
          "metadata": {},
          "execution_count": 12
        }
      ]
    },
    {
      "cell_type": "code",
      "execution_count": null,
      "metadata": {
        "id": "CUZ63ZRBOkTZ"
      },
      "outputs": [],
      "source": [
        "from gensim import models"
      ]
    },
    {
      "cell_type": "code",
      "execution_count": null,
      "metadata": {
        "id": "OU2QBAOROkTZ",
        "outputId": "757cac9d-6c40-4045-da2d-ead1f59fbfba",
        "colab": {
          "base_uri": "https://localhost:8080/"
        }
      },
      "outputs": [
        {
          "output_type": "stream",
          "name": "stdout",
          "text": [
            "1.0\n",
            "0.0\n",
            "-1.0\n"
          ]
        }
      ],
      "source": [
        "from numpy import dot\n",
        "from numpy.linalg import norm\n",
        "\n",
        "def cos_sim(x, y):\n",
        "    return dot(x, y) / (norm(x) * norm(y))\n",
        "\n",
        "print(cos_sim([1, 0, 0], (1, 0, 0)))\n",
        "print(cos_sim([1, 0, 0], (0, 1, 0)))\n",
        "print(cos_sim([1, 0, 0], (-1, 0, 0)))"
      ]
    },
    {
      "cell_type": "code",
      "source": [
        "sentences = []\n",
        "for i in df['normalized_text']:\n",
        "  sentences.append(i.split(' '))\n",
        "#for i in lst:\n",
        "#  for j in i:\n",
        "#    sentences.append(j)"
      ],
      "metadata": {
        "id": "UFCf9tjVRT5Z"
      },
      "execution_count": null,
      "outputs": []
    },
    {
      "cell_type": "code",
      "source": [
        "sentences[:2]"
      ],
      "metadata": {
        "colab": {
          "base_uri": "https://localhost:8080/"
        },
        "id": "utycIuypVI16",
        "outputId": "2cfa8d82-25f8-45f7-dca0-d15c4102fc59"
      },
      "execution_count": null,
      "outputs": [
        {
          "output_type": "execute_result",
          "data": {
            "text/plain": [
              "[['no',\n",
              "  'actually',\n",
              "  'it',\n",
              "  'was',\n",
              "  'a',\n",
              "  'little',\n",
              "  'of',\n",
              "  'both',\n",
              "  'sometimes',\n",
              "  'when',\n",
              "  'a',\n",
              "  'disease',\n",
              "  'is',\n",
              "  'in',\n",
              "  'all',\n",
              "  'the',\n",
              "  'magazines',\n",
              "  'and',\n",
              "  'all',\n",
              "  'the',\n",
              "  'news',\n",
              "  'shows',\n",
              "  'its',\n",
              "  'only',\n",
              "  'natural',\n",
              "  'that',\n",
              "  'you',\n",
              "  'think',\n",
              "  'you',\n",
              "  'have',\n",
              "  'it'],\n",
              " ['wheres', 'mr', 'bergstrom']]"
            ]
          },
          "metadata": {},
          "execution_count": 16
        }
      ]
    },
    {
      "cell_type": "code",
      "source": [
        "len(sentences)"
      ],
      "metadata": {
        "colab": {
          "base_uri": "https://localhost:8080/"
        },
        "id": "BkQrKvY0VZwd",
        "outputId": "cb0a5c94-9f69-4165-9e98-83a850194148"
      },
      "execution_count": null,
      "outputs": [
        {
          "output_type": "execute_result",
          "data": {
            "text/plain": [
              "131708"
            ]
          },
          "metadata": {},
          "execution_count": 17
        }
      ]
    },
    {
      "cell_type": "markdown",
      "metadata": {
        "id": "NVoh_X3tOkTa"
      },
      "source": [
        "#### Обучим модель word2vec"
      ]
    },
    {
      "cell_type": "code",
      "execution_count": null,
      "metadata": {
        "id": "cl1CLHvdOkTb",
        "outputId": "b32173fa-f6f2-42e3-b6db-0bbea1226e8c",
        "colab": {
          "base_uri": "https://localhost:8080/"
        }
      },
      "outputs": [
        {
          "output_type": "execute_result",
          "data": {
            "text/plain": [
              "(4760691, 6510365)"
            ]
          },
          "metadata": {},
          "execution_count": 18
        }
      ],
      "source": [
        "model = models.Word2Vec()\n",
        "model.build_vocab(sentences)\n",
        "model.train(sentences, total_examples=model.corpus_count, epochs=model.epochs)"
      ]
    },
    {
      "cell_type": "code",
      "execution_count": null,
      "metadata": {
        "id": "wXSuig9fOkTb",
        "outputId": "6127eb93-b494-4145-e596-ad11fa36f44e",
        "colab": {
          "base_uri": "https://localhost:8080/"
        }
      },
      "outputs": [
        {
          "output_type": "stream",
          "name": "stdout",
          "text": [
            "0.22056991\n",
            "0.78270984\n",
            "\"Key 'naturval' not present\"\n"
          ]
        }
      ],
      "source": [
        "try:\n",
        "    print(cos_sim(model.wv['actually'], model.wv['little']))\n",
        "    print(cos_sim(model.wv['stay'], model.wv['stand']))\n",
        "    print(cos_sim(model.wv['natural'], model.wv['naturval']))\n",
        "except Exception as e:\n",
        "    print(e)"
      ]
    },
    {
      "cell_type": "markdown",
      "source": [
        "\n",
        "\n",
        "---\n",
        "\n"
      ],
      "metadata": {
        "id": "IhepZEUFuzHi"
      }
    },
    {
      "cell_type": "markdown",
      "metadata": {
        "id": "3S4jccIjVj1y"
      },
      "source": [
        " homer - marge + bart\n",
        "\n",
        " bart - lisa + school\n",
        "\n",
        " marge - homer + home"
      ]
    },
    {
      "cell_type": "code",
      "metadata": {
        "colab": {
          "base_uri": "https://localhost:8080/"
        },
        "id": "xfr4GTyWeobc",
        "outputId": "02639a90-7290-4695-f720-72c3d4447bc7"
      },
      "source": [
        "model.wv.most_similar(positive=[\"homer\", \"bart\"], negative=[\"marge\"], topn=5)"
      ],
      "execution_count": null,
      "outputs": [
        {
          "output_type": "execute_result",
          "data": {
            "text/plain": [
              "[('lisa', 0.737775981426239),\n",
              " ('grampa', 0.6546167135238647),\n",
              " ('abe', 0.6112764477729797),\n",
              " ('mrs', 0.6064900755882263),\n",
              " ('milhouse', 0.6044096350669861)]"
            ]
          },
          "metadata": {},
          "execution_count": 19
        }
      ]
    },
    {
      "cell_type": "code",
      "metadata": {
        "colab": {
          "base_uri": "https://localhost:8080/"
        },
        "id": "xSE3j4Mgeobd",
        "outputId": "fdb08866-7d54-40e9-a46f-e73f8942bcb9"
      },
      "source": [
        "model.wv.most_similar(positive=[\"bart\", \"school\"], negative=[\"lisa\"], topn=5)"
      ],
      "execution_count": null,
      "outputs": [
        {
          "output_type": "execute_result",
          "data": {
            "text/plain": [
              "[('church', 0.7087029218673706),\n",
              " ('store', 0.6599953174591064),\n",
              " ('game', 0.643497109413147),\n",
              " ('christmas', 0.6415625810623169),\n",
              " ('house', 0.6401897072792053)]"
            ]
          },
          "metadata": {},
          "execution_count": 20
        }
      ]
    },
    {
      "cell_type": "code",
      "metadata": {
        "colab": {
          "base_uri": "https://localhost:8080/"
        },
        "id": "lz2DY2L4eobe",
        "outputId": "9f6882e9-5c27-4728-9a31-4a367df6173e"
      },
      "source": [
        "model.wv.most_similar(positive=[\"marge\", \"home\"], negative=[\"homer\"], topn=5)"
      ],
      "execution_count": null,
      "outputs": [
        {
          "output_type": "execute_result",
          "data": {
            "text/plain": [
              "[('back', 0.7288848757743835),\n",
              " ('sleep', 0.6630720496177673),\n",
              " ('bed', 0.6360216736793518),\n",
              " ('together', 0.5854783654212952),\n",
              " ('away', 0.5525188446044922)]"
            ]
          },
          "metadata": {},
          "execution_count": 21
        }
      ]
    },
    {
      "cell_type": "code",
      "metadata": {
        "colab": {
          "base_uri": "https://localhost:8080/"
        },
        "id": "wrqS8B-Yeobf",
        "outputId": "e694046f-31ad-4945-c5f0-7432f2ab597d"
      },
      "source": [
        "model.wv.similarity(\"lisa\", 'bart')"
      ],
      "execution_count": null,
      "outputs": [
        {
          "output_type": "execute_result",
          "data": {
            "text/plain": [
              "0.89721406"
            ]
          },
          "metadata": {},
          "execution_count": 23
        }
      ]
    },
    {
      "cell_type": "markdown",
      "source": [
        "\n",
        "\n",
        "---\n",
        "\n"
      ],
      "metadata": {
        "id": "1zlqXbYHvJ7N"
      }
    },
    {
      "cell_type": "markdown",
      "metadata": {
        "id": "FYXqCexGOkTc"
      },
      "source": [
        "#### Обучим модель FastText"
      ]
    },
    {
      "cell_type": "code",
      "execution_count": null,
      "metadata": {
        "id": "u7k6j6fuOkTd"
      },
      "outputs": [],
      "source": [
        "model = models.FastText(sentences, sg=1, vector_size=50)"
      ]
    },
    {
      "cell_type": "code",
      "execution_count": null,
      "metadata": {
        "id": "8t8Y1yx_OkTd",
        "outputId": "8da218f1-2051-4c33-e099-51b7c0404010",
        "colab": {
          "base_uri": "https://localhost:8080/"
        }
      },
      "outputs": [
        {
          "output_type": "stream",
          "name": "stdout",
          "text": [
            "0.4349786\n",
            "0.79278976\n",
            "0.97424173\n"
          ]
        }
      ],
      "source": [
        "try:\n",
        "    print(cos_sim(model.wv['actually'], model.wv['little']))\n",
        "    print(cos_sim(model.wv['stay'], model.wv['stand']))\n",
        "    print(cos_sim(model.wv['natural'], model.wv['naturval']))\n",
        "except Exception as e:\n",
        "    print(e)"
      ]
    },
    {
      "cell_type": "markdown",
      "metadata": {
        "id": "qIzTW_qFOkTd"
      },
      "source": [
        "#### Загрузим оптимизированную модель FastText"
      ]
    },
    {
      "cell_type": "code",
      "execution_count": null,
      "metadata": {
        "id": "zQgLYuYnOkTe"
      },
      "outputs": [],
      "source": [
        "import compress_fasttext\n",
        "model = compress_fasttext.models.CompressedFastTextKeyedVectors.load(\n",
        "    'https://github.com/avidale/compress-fasttext/releases/download/gensim-4-draft/geowac_tokens_sg_300_5_2020-100K-20K-100.bin'\n",
        ")"
      ]
    },
    {
      "cell_type": "code",
      "execution_count": null,
      "metadata": {
        "id": "XPpw2K96OkTe",
        "outputId": "ebb08eee-7a5e-4d03-ee30-0e9e7d0530ef",
        "colab": {
          "base_uri": "https://localhost:8080/"
        }
      },
      "outputs": [
        {
          "output_type": "stream",
          "name": "stdout",
          "text": [
            "0.63837904\n",
            "0.68211174\n",
            "0.840674\n"
          ]
        }
      ],
      "source": [
        "try:\n",
        "    print(cos_sim(model['actually'], model['little']))\n",
        "    print(cos_sim(model['stay'], model['stand']))\n",
        "    print(cos_sim(model['natural'], model['naturval']))\n",
        "except Exception as e:\n",
        "    print(e)"
      ]
    },
    {
      "cell_type": "code",
      "source": [],
      "metadata": {
        "id": "bDsL7Mk8nJlh"
      },
      "execution_count": null,
      "outputs": []
    },
    {
      "cell_type": "code",
      "source": [],
      "metadata": {
        "id": "eUdRQZTtnJi_"
      },
      "execution_count": null,
      "outputs": []
    },
    {
      "cell_type": "code",
      "source": [],
      "metadata": {
        "id": "3UEmp8o-nJgJ"
      },
      "execution_count": null,
      "outputs": []
    },
    {
      "cell_type": "code",
      "source": [
        "from nltk import FreqDist\n",
        "from tqdm import tqdm_notebook as tqdm\n",
        "from sklearn.manifold import TSNE\n",
        "\n",
        "top_words = []\n",
        "\n",
        "\n",
        "fd = FreqDist()\n",
        "for s in tqdm(sentences):\n",
        "    fd.update(s)\n",
        "\n",
        "for w in fd.most_common(1000):\n",
        "    top_words.append(w[0])\n",
        "\n",
        "print(top_words[:50:])\n",
        "top_words_vec = model[top_words]"
      ],
      "metadata": {
        "id": "vjg7sgJWnJdO",
        "colab": {
          "base_uri": "https://localhost:8080/",
          "height": 143,
          "referenced_widgets": [
            "a3700e64248846a497c1a2eaa640ebf5",
            "03b2d9e3a6324a31ae37aba703ab2995",
            "a63d0e45a3334bf2b284424ae0b76ccf",
            "bbb8604b7b614c659d3dc782ac7d6f37",
            "959b6d91d85542b18b3c4c51de52daeb",
            "60c78887969d4880bfa41464ef14ea8b",
            "47e5c1abb3064ac7a368739d479e44cc",
            "af4abf6b5ba44e369fd18e2705b76bf0",
            "90ec0bda77d345cfb916e510f860e216",
            "3714820ec33b4a2689ae24465d0ec0a2",
            "edc1a903b1ee4a2b9868ca4ae8a48b88"
          ]
        },
        "outputId": "7346cb86-870c-42db-f8f2-75f7fe21b48d"
      },
      "execution_count": null,
      "outputs": [
        {
          "output_type": "stream",
          "name": "stderr",
          "text": [
            "<ipython-input-28-c8c3c09dbfcf>:9: TqdmDeprecationWarning: This function will be removed in tqdm==5.0.0\n",
            "Please use `tqdm.notebook.tqdm` instead of `tqdm.tqdm_notebook`\n",
            "  for s in tqdm(sentences):\n"
          ]
        },
        {
          "output_type": "display_data",
          "data": {
            "text/plain": [
              "  0%|          | 0/131708 [00:00<?, ?it/s]"
            ],
            "application/vnd.jupyter.widget-view+json": {
              "version_major": 2,
              "version_minor": 0,
              "model_id": "a3700e64248846a497c1a2eaa640ebf5"
            }
          },
          "metadata": {}
        },
        {
          "output_type": "stream",
          "name": "stdout",
          "text": [
            "['the', 'you', 'i', 'a', 'to', 'and', 'of', 'it', 'that', 'my', 'in', 'is', 'this', 'me', 'your', 'for', 'im', 'we', 'on', 'oh', 'what', 'have', 'no', 'but', 'be', 'well', 'its', 'dont', 'all', 'just', 'with', 'do', 'are', 'not', 'now', 'like', 'so', 'was', 'get', 'youre', 'can', 'know', 'one', 'at', 'thats', 'up', 'out', 'here', 'hey', 'if']\n"
          ]
        }
      ]
    },
    {
      "cell_type": "code",
      "source": [
        "%%time\n",
        "tsne = TSNE(n_components=2, random_state=0)\n",
        "top_words_tsne = tsne.fit_transform(top_words_vec)"
      ],
      "metadata": {
        "colab": {
          "base_uri": "https://localhost:8080/"
        },
        "id": "H7dEmXlGkm_J",
        "outputId": "acab7012-58f2-4486-f2bb-bdc3a1a5eaea"
      },
      "execution_count": null,
      "outputs": [
        {
          "output_type": "stream",
          "name": "stdout",
          "text": [
            "CPU times: user 13.2 s, sys: 286 ms, total: 13.5 s\n",
            "Wall time: 14.9 s\n"
          ]
        }
      ]
    },
    {
      "cell_type": "code",
      "source": [
        "!pip install bokeh"
      ],
      "metadata": {
        "colab": {
          "base_uri": "https://localhost:8080/"
        },
        "id": "EyqwNiSIkm8C",
        "outputId": "367d5dee-a26f-4624-a76a-a0db91c77fd6"
      },
      "execution_count": null,
      "outputs": [
        {
          "output_type": "stream",
          "name": "stdout",
          "text": [
            "Looking in indexes: https://pypi.org/simple, https://us-python.pkg.dev/colab-wheels/public/simple/\n",
            "Requirement already satisfied: bokeh in /usr/local/lib/python3.9/dist-packages (2.4.3)\n",
            "Requirement already satisfied: Jinja2>=2.9 in /usr/local/lib/python3.9/dist-packages (from bokeh) (3.1.2)\n",
            "Requirement already satisfied: packaging>=16.8 in /usr/local/lib/python3.9/dist-packages (from bokeh) (23.0)\n",
            "Requirement already satisfied: tornado>=5.1 in /usr/local/lib/python3.9/dist-packages (from bokeh) (6.2)\n",
            "Requirement already satisfied: pillow>=7.1.0 in /usr/local/lib/python3.9/dist-packages (from bokeh) (8.4.0)\n",
            "Requirement already satisfied: PyYAML>=3.10 in /usr/local/lib/python3.9/dist-packages (from bokeh) (6.0)\n",
            "Requirement already satisfied: numpy>=1.11.3 in /usr/local/lib/python3.9/dist-packages (from bokeh) (1.22.4)\n",
            "Requirement already satisfied: typing-extensions>=3.10.0 in /usr/local/lib/python3.9/dist-packages (from bokeh) (4.5.0)\n",
            "Requirement already satisfied: MarkupSafe>=2.0 in /usr/local/lib/python3.9/dist-packages (from Jinja2>=2.9->bokeh) (2.1.2)\n"
          ]
        }
      ]
    },
    {
      "cell_type": "code",
      "source": [
        "from bokeh.models import ColumnDataSource, LabelSet\n",
        "from bokeh.plotting import figure, show, output_file\n",
        "from bokeh.io import output_notebook\n",
        "output_notebook()\n",
        "\n",
        "p = figure(tools=\"pan,wheel_zoom,reset,save\",\n",
        "           toolbar_location=\"above\",\n",
        "           title=\"word2vec T-SNE (eng model, top1000 words)\")\n",
        "\n",
        "source = ColumnDataSource(data=dict(x1=top_words_tsne[:,0],\n",
        "                                    x2=top_words_tsne[:,1],\n",
        "                                    names=top_words))\n",
        "\n",
        "p.scatter(x=\"x1\", y=\"x2\", size=8, source=source)\n",
        "\n",
        "labels = LabelSet(x=\"x1\", y=\"x2\", text=\"names\", y_offset=6,\n",
        "                  text_font_size=\"8pt\", text_color=\"#555555\",\n",
        "                  source=source, text_align='center')\n",
        "p.add_layout(labels)\n",
        "\n",
        "show(p)"
      ],
      "metadata": {
        "colab": {
          "base_uri": "https://localhost:8080/",
          "height": 617
        },
        "id": "uYfWL6zqkm5E",
        "outputId": "a8a0bdf3-46f4-4038-dfc5-0bb4b2870a78"
      },
      "execution_count": null,
      "outputs": [
        {
          "output_type": "display_data",
          "data": {
            "application/javascript": [
              "(function(root) {\n",
              "  function now() {\n",
              "    return new Date();\n",
              "  }\n",
              "\n",
              "  const force = true;\n",
              "\n",
              "  if (typeof root._bokeh_onload_callbacks === \"undefined\" || force === true) {\n",
              "    root._bokeh_onload_callbacks = [];\n",
              "    root._bokeh_is_loading = undefined;\n",
              "  }\n",
              "\n",
              "const JS_MIME_TYPE = 'application/javascript';\n",
              "  const HTML_MIME_TYPE = 'text/html';\n",
              "  const EXEC_MIME_TYPE = 'application/vnd.bokehjs_exec.v0+json';\n",
              "  const CLASS_NAME = 'output_bokeh rendered_html';\n",
              "\n",
              "  /**\n",
              "   * Render data to the DOM node\n",
              "   */\n",
              "  function render(props, node) {\n",
              "    const script = document.createElement(\"script\");\n",
              "    node.appendChild(script);\n",
              "  }\n",
              "\n",
              "  /**\n",
              "   * Handle when an output is cleared or removed\n",
              "   */\n",
              "  function handleClearOutput(event, handle) {\n",
              "    const cell = handle.cell;\n",
              "\n",
              "    const id = cell.output_area._bokeh_element_id;\n",
              "    const server_id = cell.output_area._bokeh_server_id;\n",
              "    // Clean up Bokeh references\n",
              "    if (id != null && id in Bokeh.index) {\n",
              "      Bokeh.index[id].model.document.clear();\n",
              "      delete Bokeh.index[id];\n",
              "    }\n",
              "\n",
              "    if (server_id !== undefined) {\n",
              "      // Clean up Bokeh references\n",
              "      const cmd_clean = \"from bokeh.io.state import curstate; print(curstate().uuid_to_server['\" + server_id + \"'].get_sessions()[0].document.roots[0]._id)\";\n",
              "      cell.notebook.kernel.execute(cmd_clean, {\n",
              "        iopub: {\n",
              "          output: function(msg) {\n",
              "            const id = msg.content.text.trim();\n",
              "            if (id in Bokeh.index) {\n",
              "              Bokeh.index[id].model.document.clear();\n",
              "              delete Bokeh.index[id];\n",
              "            }\n",
              "          }\n",
              "        }\n",
              "      });\n",
              "      // Destroy server and session\n",
              "      const cmd_destroy = \"import bokeh.io.notebook as ion; ion.destroy_server('\" + server_id + \"')\";\n",
              "      cell.notebook.kernel.execute(cmd_destroy);\n",
              "    }\n",
              "  }\n",
              "\n",
              "  /**\n",
              "   * Handle when a new output is added\n",
              "   */\n",
              "  function handleAddOutput(event, handle) {\n",
              "    const output_area = handle.output_area;\n",
              "    const output = handle.output;\n",
              "\n",
              "    // limit handleAddOutput to display_data with EXEC_MIME_TYPE content only\n",
              "    if ((output.output_type != \"display_data\") || (!Object.prototype.hasOwnProperty.call(output.data, EXEC_MIME_TYPE))) {\n",
              "      return\n",
              "    }\n",
              "\n",
              "    const toinsert = output_area.element.find(\".\" + CLASS_NAME.split(' ')[0]);\n",
              "\n",
              "    if (output.metadata[EXEC_MIME_TYPE][\"id\"] !== undefined) {\n",
              "      toinsert[toinsert.length - 1].firstChild.textContent = output.data[JS_MIME_TYPE];\n",
              "      // store reference to embed id on output_area\n",
              "      output_area._bokeh_element_id = output.metadata[EXEC_MIME_TYPE][\"id\"];\n",
              "    }\n",
              "    if (output.metadata[EXEC_MIME_TYPE][\"server_id\"] !== undefined) {\n",
              "      const bk_div = document.createElement(\"div\");\n",
              "      bk_div.innerHTML = output.data[HTML_MIME_TYPE];\n",
              "      const script_attrs = bk_div.children[0].attributes;\n",
              "      for (let i = 0; i < script_attrs.length; i++) {\n",
              "        toinsert[toinsert.length - 1].firstChild.setAttribute(script_attrs[i].name, script_attrs[i].value);\n",
              "        toinsert[toinsert.length - 1].firstChild.textContent = bk_div.children[0].textContent\n",
              "      }\n",
              "      // store reference to server id on output_area\n",
              "      output_area._bokeh_server_id = output.metadata[EXEC_MIME_TYPE][\"server_id\"];\n",
              "    }\n",
              "  }\n",
              "\n",
              "  function register_renderer(events, OutputArea) {\n",
              "\n",
              "    function append_mime(data, metadata, element) {\n",
              "      // create a DOM node to render to\n",
              "      const toinsert = this.create_output_subarea(\n",
              "        metadata,\n",
              "        CLASS_NAME,\n",
              "        EXEC_MIME_TYPE\n",
              "      );\n",
              "      this.keyboard_manager.register_events(toinsert);\n",
              "      // Render to node\n",
              "      const props = {data: data, metadata: metadata[EXEC_MIME_TYPE]};\n",
              "      render(props, toinsert[toinsert.length - 1]);\n",
              "      element.append(toinsert);\n",
              "      return toinsert\n",
              "    }\n",
              "\n",
              "    /* Handle when an output is cleared or removed */\n",
              "    events.on('clear_output.CodeCell', handleClearOutput);\n",
              "    events.on('delete.Cell', handleClearOutput);\n",
              "\n",
              "    /* Handle when a new output is added */\n",
              "    events.on('output_added.OutputArea', handleAddOutput);\n",
              "\n",
              "    /**\n",
              "     * Register the mime type and append_mime function with output_area\n",
              "     */\n",
              "    OutputArea.prototype.register_mime_type(EXEC_MIME_TYPE, append_mime, {\n",
              "      /* Is output safe? */\n",
              "      safe: true,\n",
              "      /* Index of renderer in `output_area.display_order` */\n",
              "      index: 0\n",
              "    });\n",
              "  }\n",
              "\n",
              "  // register the mime type if in Jupyter Notebook environment and previously unregistered\n",
              "  if (root.Jupyter !== undefined) {\n",
              "    const events = require('base/js/events');\n",
              "    const OutputArea = require('notebook/js/outputarea').OutputArea;\n",
              "\n",
              "    if (OutputArea.prototype.mime_types().indexOf(EXEC_MIME_TYPE) == -1) {\n",
              "      register_renderer(events, OutputArea);\n",
              "    }\n",
              "  }\n",
              "  if (typeof (root._bokeh_timeout) === \"undefined\" || force === true) {\n",
              "    root._bokeh_timeout = Date.now() + 5000;\n",
              "    root._bokeh_failed_load = false;\n",
              "  }\n",
              "\n",
              "  const NB_LOAD_WARNING = {'data': {'text/html':\n",
              "     \"<div style='background-color: #fdd'>\\n\"+\n",
              "     \"<p>\\n\"+\n",
              "     \"BokehJS does not appear to have successfully loaded. If loading BokehJS from CDN, this \\n\"+\n",
              "     \"may be due to a slow or bad network connection. Possible fixes:\\n\"+\n",
              "     \"</p>\\n\"+\n",
              "     \"<ul>\\n\"+\n",
              "     \"<li>re-rerun `output_notebook()` to attempt to load from CDN again, or</li>\\n\"+\n",
              "     \"<li>use INLINE resources instead, as so:</li>\\n\"+\n",
              "     \"</ul>\\n\"+\n",
              "     \"<code>\\n\"+\n",
              "     \"from bokeh.resources import INLINE\\n\"+\n",
              "     \"output_notebook(resources=INLINE)\\n\"+\n",
              "     \"</code>\\n\"+\n",
              "     \"</div>\"}};\n",
              "\n",
              "  function display_loaded() {\n",
              "    const el = document.getElementById(null);\n",
              "    if (el != null) {\n",
              "      el.textContent = \"BokehJS is loading...\";\n",
              "    }\n",
              "    if (root.Bokeh !== undefined) {\n",
              "      if (el != null) {\n",
              "        el.textContent = \"BokehJS \" + root.Bokeh.version + \" successfully loaded.\";\n",
              "      }\n",
              "    } else if (Date.now() < root._bokeh_timeout) {\n",
              "      setTimeout(display_loaded, 100)\n",
              "    }\n",
              "  }\n",
              "\n",
              "  function run_callbacks() {\n",
              "    try {\n",
              "      root._bokeh_onload_callbacks.forEach(function(callback) {\n",
              "        if (callback != null)\n",
              "          callback();\n",
              "      });\n",
              "    } finally {\n",
              "      delete root._bokeh_onload_callbacks\n",
              "    }\n",
              "    console.debug(\"Bokeh: all callbacks have finished\");\n",
              "  }\n",
              "\n",
              "  function load_libs(css_urls, js_urls, callback) {\n",
              "    if (css_urls == null) css_urls = [];\n",
              "    if (js_urls == null) js_urls = [];\n",
              "\n",
              "    root._bokeh_onload_callbacks.push(callback);\n",
              "    if (root._bokeh_is_loading > 0) {\n",
              "      console.debug(\"Bokeh: BokehJS is being loaded, scheduling callback at\", now());\n",
              "      return null;\n",
              "    }\n",
              "    if (js_urls == null || js_urls.length === 0) {\n",
              "      run_callbacks();\n",
              "      return null;\n",
              "    }\n",
              "    console.debug(\"Bokeh: BokehJS not loaded, scheduling load and callback at\", now());\n",
              "    root._bokeh_is_loading = css_urls.length + js_urls.length;\n",
              "\n",
              "    function on_load() {\n",
              "      root._bokeh_is_loading--;\n",
              "      if (root._bokeh_is_loading === 0) {\n",
              "        console.debug(\"Bokeh: all BokehJS libraries/stylesheets loaded\");\n",
              "        run_callbacks()\n",
              "      }\n",
              "    }\n",
              "\n",
              "    function on_error(url) {\n",
              "      console.error(\"failed to load \" + url);\n",
              "    }\n",
              "\n",
              "    for (let i = 0; i < css_urls.length; i++) {\n",
              "      const url = css_urls[i];\n",
              "      const element = document.createElement(\"link\");\n",
              "      element.onload = on_load;\n",
              "      element.onerror = on_error.bind(null, url);\n",
              "      element.rel = \"stylesheet\";\n",
              "      element.type = \"text/css\";\n",
              "      element.href = url;\n",
              "      console.debug(\"Bokeh: injecting link tag for BokehJS stylesheet: \", url);\n",
              "      document.body.appendChild(element);\n",
              "    }\n",
              "\n",
              "    for (let i = 0; i < js_urls.length; i++) {\n",
              "      const url = js_urls[i];\n",
              "      const element = document.createElement('script');\n",
              "      element.onload = on_load;\n",
              "      element.onerror = on_error.bind(null, url);\n",
              "      element.async = false;\n",
              "      element.src = url;\n",
              "      console.debug(\"Bokeh: injecting script tag for BokehJS library: \", url);\n",
              "      document.head.appendChild(element);\n",
              "    }\n",
              "  };\n",
              "\n",
              "  function inject_raw_css(css) {\n",
              "    const element = document.createElement(\"style\");\n",
              "    element.appendChild(document.createTextNode(css));\n",
              "    document.body.appendChild(element);\n",
              "  }\n",
              "\n",
              "  const js_urls = [\"https://cdn.bokeh.org/bokeh/release/bokeh-2.4.3.min.js\", \"https://cdn.bokeh.org/bokeh/release/bokeh-gl-2.4.3.min.js\", \"https://cdn.bokeh.org/bokeh/release/bokeh-widgets-2.4.3.min.js\", \"https://cdn.bokeh.org/bokeh/release/bokeh-tables-2.4.3.min.js\", \"https://cdn.bokeh.org/bokeh/release/bokeh-mathjax-2.4.3.min.js\"];\n",
              "  const css_urls = [];\n",
              "\n",
              "  const inline_js = [    function(Bokeh) {\n",
              "      Bokeh.set_log_level(\"info\");\n",
              "    },\n",
              "function(Bokeh) {\n",
              "    }\n",
              "  ];\n",
              "\n",
              "  function run_inline_js() {\n",
              "    if (root.Bokeh !== undefined || force === true) {\n",
              "          for (let i = 0; i < inline_js.length; i++) {\n",
              "      inline_js[i].call(root, root.Bokeh);\n",
              "    }\n",
              "} else if (Date.now() < root._bokeh_timeout) {\n",
              "      setTimeout(run_inline_js, 100);\n",
              "    } else if (!root._bokeh_failed_load) {\n",
              "      console.log(\"Bokeh: BokehJS failed to load within specified timeout.\");\n",
              "      root._bokeh_failed_load = true;\n",
              "    } else if (force !== true) {\n",
              "      const cell = $(document.getElementById(null)).parents('.cell').data().cell;\n",
              "      cell.output_area.append_execute_result(NB_LOAD_WARNING)\n",
              "    }\n",
              "  }\n",
              "\n",
              "  if (root._bokeh_is_loading === 0) {\n",
              "    console.debug(\"Bokeh: BokehJS loaded, going straight to plotting\");\n",
              "    run_inline_js();\n",
              "  } else {\n",
              "    load_libs(css_urls, js_urls, function() {\n",
              "      console.debug(\"Bokeh: BokehJS plotting callback run at\", now());\n",
              "      run_inline_js();\n",
              "    });\n",
              "  }\n",
              "}(window));"
            ],
            "application/vnd.bokehjs_load.v0+json": "(function(root) {\n  function now() {\n    return new Date();\n  }\n\n  const force = true;\n\n  if (typeof root._bokeh_onload_callbacks === \"undefined\" || force === true) {\n    root._bokeh_onload_callbacks = [];\n    root._bokeh_is_loading = undefined;\n  }\n\n\n  if (typeof (root._bokeh_timeout) === \"undefined\" || force === true) {\n    root._bokeh_timeout = Date.now() + 5000;\n    root._bokeh_failed_load = false;\n  }\n\n  const NB_LOAD_WARNING = {'data': {'text/html':\n     \"<div style='background-color: #fdd'>\\n\"+\n     \"<p>\\n\"+\n     \"BokehJS does not appear to have successfully loaded. If loading BokehJS from CDN, this \\n\"+\n     \"may be due to a slow or bad network connection. Possible fixes:\\n\"+\n     \"</p>\\n\"+\n     \"<ul>\\n\"+\n     \"<li>re-rerun `output_notebook()` to attempt to load from CDN again, or</li>\\n\"+\n     \"<li>use INLINE resources instead, as so:</li>\\n\"+\n     \"</ul>\\n\"+\n     \"<code>\\n\"+\n     \"from bokeh.resources import INLINE\\n\"+\n     \"output_notebook(resources=INLINE)\\n\"+\n     \"</code>\\n\"+\n     \"</div>\"}};\n\n  function display_loaded() {\n    const el = document.getElementById(null);\n    if (el != null) {\n      el.textContent = \"BokehJS is loading...\";\n    }\n    if (root.Bokeh !== undefined) {\n      if (el != null) {\n        el.textContent = \"BokehJS \" + root.Bokeh.version + \" successfully loaded.\";\n      }\n    } else if (Date.now() < root._bokeh_timeout) {\n      setTimeout(display_loaded, 100)\n    }\n  }\n\n  function run_callbacks() {\n    try {\n      root._bokeh_onload_callbacks.forEach(function(callback) {\n        if (callback != null)\n          callback();\n      });\n    } finally {\n      delete root._bokeh_onload_callbacks\n    }\n    console.debug(\"Bokeh: all callbacks have finished\");\n  }\n\n  function load_libs(css_urls, js_urls, callback) {\n    if (css_urls == null) css_urls = [];\n    if (js_urls == null) js_urls = [];\n\n    root._bokeh_onload_callbacks.push(callback);\n    if (root._bokeh_is_loading > 0) {\n      console.debug(\"Bokeh: BokehJS is being loaded, scheduling callback at\", now());\n      return null;\n    }\n    if (js_urls == null || js_urls.length === 0) {\n      run_callbacks();\n      return null;\n    }\n    console.debug(\"Bokeh: BokehJS not loaded, scheduling load and callback at\", now());\n    root._bokeh_is_loading = css_urls.length + js_urls.length;\n\n    function on_load() {\n      root._bokeh_is_loading--;\n      if (root._bokeh_is_loading === 0) {\n        console.debug(\"Bokeh: all BokehJS libraries/stylesheets loaded\");\n        run_callbacks()\n      }\n    }\n\n    function on_error(url) {\n      console.error(\"failed to load \" + url);\n    }\n\n    for (let i = 0; i < css_urls.length; i++) {\n      const url = css_urls[i];\n      const element = document.createElement(\"link\");\n      element.onload = on_load;\n      element.onerror = on_error.bind(null, url);\n      element.rel = \"stylesheet\";\n      element.type = \"text/css\";\n      element.href = url;\n      console.debug(\"Bokeh: injecting link tag for BokehJS stylesheet: \", url);\n      document.body.appendChild(element);\n    }\n\n    for (let i = 0; i < js_urls.length; i++) {\n      const url = js_urls[i];\n      const element = document.createElement('script');\n      element.onload = on_load;\n      element.onerror = on_error.bind(null, url);\n      element.async = false;\n      element.src = url;\n      console.debug(\"Bokeh: injecting script tag for BokehJS library: \", url);\n      document.head.appendChild(element);\n    }\n  };\n\n  function inject_raw_css(css) {\n    const element = document.createElement(\"style\");\n    element.appendChild(document.createTextNode(css));\n    document.body.appendChild(element);\n  }\n\n  const js_urls = [\"https://cdn.bokeh.org/bokeh/release/bokeh-2.4.3.min.js\", \"https://cdn.bokeh.org/bokeh/release/bokeh-gl-2.4.3.min.js\", \"https://cdn.bokeh.org/bokeh/release/bokeh-widgets-2.4.3.min.js\", \"https://cdn.bokeh.org/bokeh/release/bokeh-tables-2.4.3.min.js\", \"https://cdn.bokeh.org/bokeh/release/bokeh-mathjax-2.4.3.min.js\"];\n  const css_urls = [];\n\n  const inline_js = [    function(Bokeh) {\n      Bokeh.set_log_level(\"info\");\n    },\nfunction(Bokeh) {\n    }\n  ];\n\n  function run_inline_js() {\n    if (root.Bokeh !== undefined || force === true) {\n          for (let i = 0; i < inline_js.length; i++) {\n      inline_js[i].call(root, root.Bokeh);\n    }\n} else if (Date.now() < root._bokeh_timeout) {\n      setTimeout(run_inline_js, 100);\n    } else if (!root._bokeh_failed_load) {\n      console.log(\"Bokeh: BokehJS failed to load within specified timeout.\");\n      root._bokeh_failed_load = true;\n    } else if (force !== true) {\n      const cell = $(document.getElementById(null)).parents('.cell').data().cell;\n      cell.output_area.append_execute_result(NB_LOAD_WARNING)\n    }\n  }\n\n  if (root._bokeh_is_loading === 0) {\n    console.debug(\"Bokeh: BokehJS loaded, going straight to plotting\");\n    run_inline_js();\n  } else {\n    load_libs(css_urls, js_urls, function() {\n      console.debug(\"Bokeh: BokehJS plotting callback run at\", now());\n      run_inline_js();\n    });\n  }\n}(window));"
          },
          "metadata": {}
        },
        {
          "output_type": "display_data",
          "data": {
            "text/html": [
              "\n",
              "  <div class=\"bk-root\" id=\"0d5507cf-47fb-4a6b-af96-b02c1c859acf\" data-root-id=\"1002\"></div>\n"
            ]
          },
          "metadata": {}
        },
        {
          "output_type": "display_data",
          "data": {
            "application/javascript": [
              "(function(root) {\n",
              "  function embed_document(root) {\n",
              "  const docs_json = {\"fa7c532a-f548-46ff-a790-5603dcd6669a\":{\"defs\":[],\"roots\":{\"references\":[{\"attributes\":{\"below\":[{\"id\":\"1013\"}],\"center\":[{\"id\":\"1016\"},{\"id\":\"1020\"},{\"id\":\"1037\"}],\"left\":[{\"id\":\"1017\"}],\"renderers\":[{\"id\":\"1035\"}],\"title\":{\"id\":\"1003\"},\"toolbar\":{\"id\":\"1025\"},\"toolbar_location\":\"above\",\"x_range\":{\"id\":\"1005\"},\"x_scale\":{\"id\":\"1009\"},\"y_range\":{\"id\":\"1007\"},\"y_scale\":{\"id\":\"1011\"}},\"id\":\"1002\",\"subtype\":\"Figure\",\"type\":\"Plot\"},{\"attributes\":{},\"id\":\"1021\",\"type\":\"PanTool\"},{\"attributes\":{\"tools\":[{\"id\":\"1021\"},{\"id\":\"1022\"},{\"id\":\"1023\"},{\"id\":\"1024\"}]},\"id\":\"1025\",\"type\":\"Toolbar\"},{\"attributes\":{},\"id\":\"1018\",\"type\":\"BasicTicker\"},{\"attributes\":{\"data\":{\"names\":[\"the\",\"you\",\"i\",\"a\",\"to\",\"and\",\"of\",\"it\",\"that\",\"my\",\"in\",\"is\",\"this\",\"me\",\"your\",\"for\",\"im\",\"we\",\"on\",\"oh\",\"what\",\"have\",\"no\",\"but\",\"be\",\"well\",\"its\",\"dont\",\"all\",\"just\",\"with\",\"do\",\"are\",\"not\",\"now\",\"like\",\"so\",\"was\",\"get\",\"youre\",\"can\",\"know\",\"one\",\"at\",\"thats\",\"up\",\"out\",\"here\",\"hey\",\"if\",\"homer\",\"right\",\"were\",\"go\",\"got\",\"he\",\"our\",\"how\",\"--\",\"about\",\"bart\",\"ill\",\"there\",\"from\",\"see\",\"good\",\"they\",\"yeah\",\"as\",\"will\",\"think\",\"want\",\"why\",\"an\",\"cant\",\"look\",\"marge\",\"gonna\",\"man\",\"little\",\"back\",\"uh\",\"who\",\"dad\",\"okay\",\"some\",\"him\",\"time\",\"when\",\"us\",\"did\",\"come\",\"ive\",\"could\",\"take\",\"never\",\"his\",\"say\",\"simpson\",\"make\",\"lisa\",\"yes\",\"would\",\"hes\",\"or\",\"more\",\"by\",\"really\",\"been\",\"her\",\"going\",\"love\",\"lets\",\"theres\",\"has\",\"way\",\"down\",\"only\",\"too\",\"off\",\"then\",\"two\",\"where\",\"something\",\"mr\",\"am\",\"need\",\"sorry\",\"boy\",\"those\",\"had\",\"people\",\"over\",\"these\",\"tell\",\"day\",\"please\",\"sure\",\"them\",\"kids\",\"let\",\"give\",\"thing\",\"whats\",\"new\",\"didnt\",\"mom\",\"wait\",\"should\",\"great\",\"first\",\"she\",\"ever\",\"god\",\"better\",\"any\",\"stop\",\"sir\",\"into\",\"again\",\"even\",\"maybe\",\"life\",\"old\",\"help\",\"youve\",\"id\",\"thank\",\"theyre\",\"than\",\"home\",\"big\",\"because\",\"mean\",\"much\",\"made\",\"their\",\"said\",\"put\",\"still\",\"show\",\"work\",\"very\",\"money\",\"son\",\"school\",\"always\",\"youll\",\"call\",\"springfield\",\"three\",\"last\",\"ya\",\"thought\",\"gotta\",\"ah\",\"every\",\"name\",\"guys\",\"family\",\"must\",\"find\",\"house\",\"before\",\"hello\",\"guy\",\"years\",\"guess\",\"huh\",\"doing\",\"anything\",\"things\",\"bad\",\"feel\",\"baby\",\"wont\",\"weve\",\"thanks\",\"night\",\"next\",\"burns\",\"away\",\"isnt\",\"place\",\"wow\",\"keep\",\"other\",\"world\",\"hell\",\"believe\",\"does\",\"lot\",\"after\",\"nice\",\"nothing\",\"real\",\"remember\",\"long\",\"another\",\"doesnt\",\"best\",\"ooh\",\"shes\",\"moe\",\"krusty\",\"which\",\"car\",\"hear\",\"fine\",\"everything\",\"use\",\"around\",\"stupid\",\"own\",\"talk\",\"done\",\"today\",\"happy\",\"eat\",\"everyone\",\"kill\",\"wrong\",\"fun\",\"through\",\"heres\",\"play\",\"may\",\"eh\",\"most\",\"wanna\",\"dog\",\"someone\",\"father\",\"honey\",\"girl\",\"while\",\"worry\",\"ow\",\"em\",\"looks\",\"five\",\"aw\",\"job\",\"children\",\"dollars\",\"enough\",\"whoa\",\"mother\",\"milhouse\",\"being\",\"kind\",\"minute\",\"listen\",\"many\",\"friend\",\"friends\",\"left\",\"homie\",\"turn\",\"getting\",\"cause\",\"town\",\"without\",\"um\",\"cool\",\"might\",\"try\",\"leave\",\"kid\",\"tonight\",\"watch\",\"boys\",\"live\",\"flanders\",\"seen\",\"care\",\"free\",\"maggie\",\"hundred\",\"room\",\"whos\",\"once\",\"beer\",\"pretty\",\"check\",\"head\",\"shut\",\"used\",\"dead\",\"coming\",\"tv\",\"cmon\",\"says\",\"hope\",\"stay\",\"welcome\",\"book\",\"sweet\",\"miss\",\"told\",\"actually\",\"whole\",\"everybody\",\"start\",\"buy\",\"wife\",\"such\",\"hi\",\"wanted\",\"already\",\"young\",\"wouldnt\",\"game\",\"course\",\"four\",\"face\",\"movie\",\"trying\",\"gone\",\"heard\",\"talking\",\"smithers\",\"yourself\",\"pay\",\"lost\",\"stuff\",\"wish\",\"found\",\"forget\",\"youd\",\"run\",\"read\",\"came\",\"crazy\",\"hard\",\"ten\",\"beautiful\",\"dear\",\"since\",\"idea\",\"together\",\"hot\",\"afraid\",\"mind\",\"year\",\"makes\",\"fat\",\"die\",\"happened\",\"party\",\"true\",\"problem\",\"aint\",\"called\",\"wheres\",\"ha\",\"hate\",\"woo\",\"finally\",\"same\",\"anyone\",\"myself\",\"christmas\",\"story\",\"end\",\"ask\",\"chief\",\"food\",\"bring\",\"word\",\"cut\",\"win\",\"hold\",\"woman\",\"lady\",\"tomorrow\",\"heart\",\"excuse\",\"ned\",\"funny\",\"else\",\"yet\",\"went\",\"hmm\",\"heh\",\"open\",\"havent\",\"eyes\",\"looking\",\"least\",\"making\",\"under\",\"perfect\",\"number\",\"power\",\"also\",\"days\",\"part\",\"saying\",\"arent\",\"mrs\",\"hair\",\"hoo\",\"special\",\"couldnt\",\"lord\",\"save\",\"having\",\"full\",\"took\",\"business\",\"knew\",\"week\",\"change\",\"until\",\"second\",\"six\",\"wasnt\",\"saw\",\"wants\",\"ready\",\"point\",\"taking\",\"comes\",\"morning\",\"each\",\"hit\",\"class\",\"skinner\",\"move\",\"fire\",\"grampa\",\"haw\",\"dinner\",\"thousand\",\"both\",\"meet\",\"easy\",\"gave\",\"times\",\"uh-oh\",\"gets\",\"means\",\"pick\",\"understand\",\"news\",\"drink\",\"hand\",\"ones\",\"goes\",\"married\",\"bed\",\"break\",\"dream\",\"daddy\",\"sleep\",\"husband\",\"supposed\",\"few\",\"anymore\",\"deal\",\"hurt\",\"minutes\",\"bar\",\"hm\",\"la\",\"store\",\"city\",\"fight\",\"water\",\"needs\",\"simpsons\",\"music\",\"brother\",\"bob\",\"thinking\",\"set\",\"door\",\"barts\",\"girls\",\"song\",\"eight\",\"sounds\",\"alone\",\"-\",\"stand\",\"phone\",\"men\",\"late\",\"answer\",\"whatever\",\"rock\",\"hands\",\"sign\",\"brought\",\"outta\",\"attention\",\"poor\",\"rest\",\"mad\",\"doctor\",\"important\",\"hours\",\"bet\",\"enjoy\",\"watching\",\"kiss\",\"sit\",\"soon\",\"test\",\"drive\",\"hmmm\",\"side\",\"till\",\"million\",\"wonderful\",\"mine\",\"death\",\"ladies\",\"glad\",\"ago\",\"chance\",\"anyway\",\"ice\",\"birthday\",\"matter\",\"quit\",\"top\",\"learn\",\"forever\",\"except\",\"working\",\"damn\",\"plant\",\"pants\",\"president\",\"line\",\"inside\",\"secret\",\"probably\",\"throw\",\"walk\",\"close\",\"later\",\"sound\",\"ball\",\"parents\",\"america\",\"air\",\"marriage\",\"team\",\"ride\",\"gentlemen\",\"lis\",\"apu\",\"fair\",\"clown\",\"country\",\"nelson\",\"eye\",\"box\",\"plan\",\"goodbye\",\"picture\",\"trouble\",\"behind\",\"alive\",\"american\",\"nobody\",\"question\",\"quite\",\"learned\",\"seems\",\"card\",\"shall\",\"exactly\",\"sister\",\"seymour\",\"write\",\"goin\",\"lenny\",\"clean\",\"killed\",\"happen\",\"won\",\"future\",\"church\",\"send\",\"spend\",\"front\",\"folks\",\"case\",\"women\",\"dance\",\"dr\",\"shot\",\"eating\",\"sweetie\",\"half\",\"beat\",\"saved\",\"bit\",\"seven\",\"bus\",\"bout\",\"words\",\"police\",\"principal\",\"terrible\",\"fast\",\"sick\",\"red\",\"candy\",\"started\",\"knows\",\"against\",\"truth\",\"doin\",\"theyll\",\"person\",\"fifty\",\"lose\",\"itll\",\"far\",\"high\",\"wed\",\"ralph\",\"proud\",\"worse\",\"cream\",\"king\",\"yours\",\"order\",\"dogs\",\"living\",\"sell\",\"favorite\",\"teach\",\"lives\",\"gimme\",\"war\",\"state\",\"almost\",\"kent\",\"lie\",\"bill\",\"itchy\",\"become\",\"catch\",\"telling\",\"turned\",\"body\",\"quiet\",\"earth\",\"reason\",\"bought\",\"honor\",\"smell\",\"blue\",\"somebody\",\"rich\",\"moment\",\"moes\",\"child\",\"dude\",\"cat\",\"wedding\",\"mmm\",\"blood\",\"willie\",\"tried\",\"tree\",\"bucks\",\"couple\",\"along\",\"butt\",\"nine\",\"pie\",\"safe\",\"wear\",\"worst\",\"ahead\",\"playing\",\"greatest\",\"comin\",\"light\",\"oooh\",\"human\",\"nothin\",\"fish\",\"less\",\"twenty\",\"different\",\"likes\",\"date\",\"join\",\"hour\",\"paper\",\"ooo\",\"brain\",\"gay\",\"ho\",\"seem\",\"mouth\",\"stick\",\"act\",\"art\",\"small\",\"star\",\"sometimes\",\"feeling\",\"promise\",\"nuclear\",\"soul\",\"return\",\"bear\",\"shouldnt\",\"perhaps\",\"hat\",\"lucky\",\"roll\",\"wonder\",\"outside\",\"instead\",\"cold\",\"machine\",\"daughter\",\"smart\",\"paid\",\"pass\",\"drunk\",\"excellent\",\"giving\",\"monkey\",\"using\",\"either\",\"ass\",\"lunch\",\"lisas\",\"wearing\",\"quick\",\"movies\",\"books\",\"met\",\"hero\",\"sad\",\"trip\",\"floor\",\"street\",\"uh-huh\",\"fact\",\"dollar\",\"selma\",\"speak\",\"taken\",\"club\",\"wake\",\"film\",\"worth\",\"gas\",\"kinda\",\"relax\",\"between\",\"tired\",\"fault\",\"sold\",\"present\",\"bag\",\"monster\",\"barney\",\"takes\",\"sex\",\"names\",\"homers\",\"weeks\",\"carl\",\"da\",\"extra\",\"piece\",\"works\",\"crap\",\"law\",\"sideshow\",\"straight\",\"teacher\",\"lousy\",\"pull\",\"land\",\"edna\",\"feet\",\"evil\",\"company\",\"fired\",\"drop\",\"werent\",\"voice\",\"forgot\",\"fly\",\"laugh\",\"black\",\"hang\",\"shoot\",\"office\",\"touch\",\"broke\",\"luck\",\"dads\",\"white\",\"gun\",\"choice\",\"space\",\"park\",\"gettin\",\"duff\",\"shows\",\"unless\",\"third\",\"surprise\",\"problems\",\"thinks\",\"college\",\"cute\",\"scratchy\",\"past\",\"horrible\",\"pizza\",\"super\",\"plus\",\"leaving\",\"though\",\"nose\",\"died\",\"angry\",\"yo\",\"drinking\",\"anybody\",\"hows\",\"idiot\",\"afford\",\"lou\",\"boss\",\"loves\",\"seat\",\"hurry\",\"step\",\"age\",\"dreams\",\"asked\",\"driving\",\"known\",\"coffee\",\"clear\",\"worked\",\"weird\",\"running\",\"buddy\",\"months\",\"ring\",\"happens\",\"table\",\"awesome\",\"longer\",\"prison\",\"sugar\",\"nah\",\"stuck\",\"judge\",\"cheese\",\"felt\",\"trust\",\"fall\",\"wrote\",\"fresh\",\"loved\",\"evening\",\"blow\",\"certainly\",\"burn\",\"system\",\"blah\",\"public\",\"sing\",\"milk\",\"nuts\",\"maam\",\"calling\",\"field\",\"vote\",\"gee\",\"himself\",\"breakfast\",\"mayor\",\"local\",\"questions\",\"theyve\",\"heaven\",\"share\",\"magic\",\"changed\",\"lesson\",\"pain\",\"absolutely\",\"letter\",\"history\",\"cake\",\"babies\",\"band\",\"visit\",\"early\",\"ruined\",\"missed\",\"report\",\"grow\",\"suit\",\"sense\",\"gift\",\"missing\",\"court\",\"yay\",\"grade\",\"bird\",\"chocolate\",\"wiggum\",\"somewhere\",\"peace\",\"twelve\",\"mister\",\"jerk\",\"finish\",\"ate\",\"tickets\",\"sea\",\"safety\",\"service\",\"reading\",\"meat\",\"sent\",\"chicken\",\"low\",\"tough\",\"science\",\"chair\",\"marry\",\"animals\",\"clothes\",\"fool\",\"thatll\",\"follow\",\"todays\",\"joe\",\"yep\",\"bye\",\"garbage\",\"jesus\",\"respect\",\"born\",\"window\",\"bite\",\"summer\",\"explain\"],\"x1\":{\"__ndarray__\":\"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\",\"dtype\":\"float32\",\"order\":\"little\",\"shape\":[1000]},\"x2\":{\"__ndarray__\":\"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\",\"dtype\":\"float32\",\"order\":\"little\",\"shape\":[1000]}},\"selected\":{\"id\":\"1047\"},\"selection_policy\":{\"id\":\"1046\"}},\"id\":\"1030\",\"type\":\"ColumnDataSource\"},{\"attributes\":{},\"id\":\"1041\",\"type\":\"BasicTickFormatter\"},{\"attributes\":{},\"id\":\"1022\",\"type\":\"WheelZoomTool\"},{\"attributes\":{\"coordinates\":null,\"formatter\":{\"id\":\"1041\"},\"group\":null,\"major_label_policy\":{\"id\":\"1042\"},\"ticker\":{\"id\":\"1018\"}},\"id\":\"1017\",\"type\":\"LinearAxis\"},{\"attributes\":{\"coordinates\":null,\"group\":null,\"source\":{\"id\":\"1030\"},\"text\":{\"field\":\"names\"},\"text_align\":{\"value\":\"center\"},\"text_color\":{\"value\":\"#555555\"},\"text_font_size\":{\"value\":\"8pt\"},\"x\":{\"field\":\"x1\"},\"y\":{\"field\":\"x2\"},\"y_offset\":{\"value\":6}},\"id\":\"1037\",\"type\":\"LabelSet\"},{\"attributes\":{},\"id\":\"1042\",\"type\":\"AllLabels\"},{\"attributes\":{},\"id\":\"1005\",\"type\":\"DataRange1d\"},{\"attributes\":{},\"id\":\"1014\",\"type\":\"BasicTicker\"},{\"attributes\":{},\"id\":\"1044\",\"type\":\"BasicTickFormatter\"},{\"attributes\":{},\"id\":\"1045\",\"type\":\"AllLabels\"},{\"attributes\":{},\"id\":\"1024\",\"type\":\"SaveTool\"},{\"attributes\":{},\"id\":\"1046\",\"type\":\"UnionRenderers\"},{\"attributes\":{},\"id\":\"1007\",\"type\":\"DataRange1d\"},{\"attributes\":{\"fill_color\":{\"value\":\"#1f77b4\"},\"line_color\":{\"value\":\"#1f77b4\"},\"size\":{\"value\":8},\"x\":{\"field\":\"x1\"},\"y\":{\"field\":\"x2\"}},\"id\":\"1032\",\"type\":\"Scatter\"},{\"attributes\":{},\"id\":\"1023\",\"type\":\"ResetTool\"},{\"attributes\":{\"fill_alpha\":{\"value\":0.1},\"fill_color\":{\"value\":\"#1f77b4\"},\"hatch_alpha\":{\"value\":0.1},\"line_alpha\":{\"value\":0.1},\"line_color\":{\"value\":\"#1f77b4\"},\"size\":{\"value\":8},\"x\":{\"field\":\"x1\"},\"y\":{\"field\":\"x2\"}},\"id\":\"1033\",\"type\":\"Scatter\"},{\"attributes\":{\"coordinates\":null,\"group\":null,\"text\":\"word2vec T-SNE (eng model, top1000 words)\"},\"id\":\"1003\",\"type\":\"Title\"},{\"attributes\":{},\"id\":\"1009\",\"type\":\"LinearScale\"},{\"attributes\":{\"fill_alpha\":{\"value\":0.2},\"fill_color\":{\"value\":\"#1f77b4\"},\"hatch_alpha\":{\"value\":0.2},\"line_alpha\":{\"value\":0.2},\"line_color\":{\"value\":\"#1f77b4\"},\"size\":{\"value\":8},\"x\":{\"field\":\"x1\"},\"y\":{\"field\":\"x2\"}},\"id\":\"1034\",\"type\":\"Scatter\"},{\"attributes\":{\"coordinates\":null,\"data_source\":{\"id\":\"1030\"},\"glyph\":{\"id\":\"1032\"},\"group\":null,\"hover_glyph\":null,\"muted_glyph\":{\"id\":\"1034\"},\"nonselection_glyph\":{\"id\":\"1033\"},\"view\":{\"id\":\"1036\"}},\"id\":\"1035\",\"type\":\"GlyphRenderer\"},{\"attributes\":{},\"id\":\"1047\",\"type\":\"Selection\"},{\"attributes\":{\"axis\":{\"id\":\"1013\"},\"coordinates\":null,\"group\":null,\"ticker\":null},\"id\":\"1016\",\"type\":\"Grid\"},{\"attributes\":{\"source\":{\"id\":\"1030\"}},\"id\":\"1036\",\"type\":\"CDSView\"},{\"attributes\":{},\"id\":\"1011\",\"type\":\"LinearScale\"},{\"attributes\":{\"coordinates\":null,\"formatter\":{\"id\":\"1044\"},\"group\":null,\"major_label_policy\":{\"id\":\"1045\"},\"ticker\":{\"id\":\"1014\"}},\"id\":\"1013\",\"type\":\"LinearAxis\"},{\"attributes\":{\"axis\":{\"id\":\"1017\"},\"coordinates\":null,\"dimension\":1,\"group\":null,\"ticker\":null},\"id\":\"1020\",\"type\":\"Grid\"}],\"root_ids\":[\"1002\"]},\"title\":\"Bokeh Application\",\"version\":\"2.4.3\"}};\n",
              "  const render_items = [{\"docid\":\"fa7c532a-f548-46ff-a790-5603dcd6669a\",\"root_ids\":[\"1002\"],\"roots\":{\"1002\":\"0d5507cf-47fb-4a6b-af96-b02c1c859acf\"}}];\n",
              "  root.Bokeh.embed.embed_items_notebook(docs_json, render_items);\n",
              "  }\n",
              "  if (root.Bokeh !== undefined) {\n",
              "    embed_document(root);\n",
              "  } else {\n",
              "    let attempts = 0;\n",
              "    const timer = setInterval(function(root) {\n",
              "      if (root.Bokeh !== undefined) {\n",
              "        clearInterval(timer);\n",
              "        embed_document(root);\n",
              "      } else {\n",
              "        attempts++;\n",
              "        if (attempts > 100) {\n",
              "          clearInterval(timer);\n",
              "          console.log(\"Bokeh: ERROR: Unable to run BokehJS code because BokehJS library is missing\");\n",
              "        }\n",
              "      }\n",
              "    }, 10, root)\n",
              "  }\n",
              "})(window);"
            ],
            "application/vnd.bokehjs_exec.v0+json": ""
          },
          "metadata": {
            "application/vnd.bokehjs_exec.v0+json": {
              "id": "1002"
            }
          }
        }
      ]
    },
    {
      "cell_type": "code",
      "source": [],
      "metadata": {
        "id": "uYvAQEAckm12"
      },
      "execution_count": null,
      "outputs": []
    }
  ],
  "metadata": {
    "kernelspec": {
      "display_name": "Python 3",
      "language": "python",
      "name": "python3"
    },
    "language_info": {
      "codemirror_mode": {
        "name": "ipython",
        "version": 3
      },
      "file_extension": ".py",
      "mimetype": "text/x-python",
      "name": "python",
      "nbconvert_exporter": "python",
      "pygments_lexer": "ipython3",
      "version": "3.7.1"
    },
    "colab": {
      "provenance": []
    },
    "widgets": {
      "application/vnd.jupyter.widget-state+json": {
        "a3700e64248846a497c1a2eaa640ebf5": {
          "model_module": "@jupyter-widgets/controls",
          "model_name": "HBoxModel",
          "model_module_version": "1.5.0",
          "state": {
            "_dom_classes": [],
            "_model_module": "@jupyter-widgets/controls",
            "_model_module_version": "1.5.0",
            "_model_name": "HBoxModel",
            "_view_count": null,
            "_view_module": "@jupyter-widgets/controls",
            "_view_module_version": "1.5.0",
            "_view_name": "HBoxView",
            "box_style": "",
            "children": [
              "IPY_MODEL_03b2d9e3a6324a31ae37aba703ab2995",
              "IPY_MODEL_a63d0e45a3334bf2b284424ae0b76ccf",
              "IPY_MODEL_bbb8604b7b614c659d3dc782ac7d6f37"
            ],
            "layout": "IPY_MODEL_959b6d91d85542b18b3c4c51de52daeb"
          }
        },
        "03b2d9e3a6324a31ae37aba703ab2995": {
          "model_module": "@jupyter-widgets/controls",
          "model_name": "HTMLModel",
          "model_module_version": "1.5.0",
          "state": {
            "_dom_classes": [],
            "_model_module": "@jupyter-widgets/controls",
            "_model_module_version": "1.5.0",
            "_model_name": "HTMLModel",
            "_view_count": null,
            "_view_module": "@jupyter-widgets/controls",
            "_view_module_version": "1.5.0",
            "_view_name": "HTMLView",
            "description": "",
            "description_tooltip": null,
            "layout": "IPY_MODEL_60c78887969d4880bfa41464ef14ea8b",
            "placeholder": "​",
            "style": "IPY_MODEL_47e5c1abb3064ac7a368739d479e44cc",
            "value": "100%"
          }
        },
        "a63d0e45a3334bf2b284424ae0b76ccf": {
          "model_module": "@jupyter-widgets/controls",
          "model_name": "FloatProgressModel",
          "model_module_version": "1.5.0",
          "state": {
            "_dom_classes": [],
            "_model_module": "@jupyter-widgets/controls",
            "_model_module_version": "1.5.0",
            "_model_name": "FloatProgressModel",
            "_view_count": null,
            "_view_module": "@jupyter-widgets/controls",
            "_view_module_version": "1.5.0",
            "_view_name": "ProgressView",
            "bar_style": "success",
            "description": "",
            "description_tooltip": null,
            "layout": "IPY_MODEL_af4abf6b5ba44e369fd18e2705b76bf0",
            "max": 131708,
            "min": 0,
            "orientation": "horizontal",
            "style": "IPY_MODEL_90ec0bda77d345cfb916e510f860e216",
            "value": 131708
          }
        },
        "bbb8604b7b614c659d3dc782ac7d6f37": {
          "model_module": "@jupyter-widgets/controls",
          "model_name": "HTMLModel",
          "model_module_version": "1.5.0",
          "state": {
            "_dom_classes": [],
            "_model_module": "@jupyter-widgets/controls",
            "_model_module_version": "1.5.0",
            "_model_name": "HTMLModel",
            "_view_count": null,
            "_view_module": "@jupyter-widgets/controls",
            "_view_module_version": "1.5.0",
            "_view_name": "HTMLView",
            "description": "",
            "description_tooltip": null,
            "layout": "IPY_MODEL_3714820ec33b4a2689ae24465d0ec0a2",
            "placeholder": "​",
            "style": "IPY_MODEL_edc1a903b1ee4a2b9868ca4ae8a48b88",
            "value": " 131708/131708 [00:02&lt;00:00, 65557.06it/s]"
          }
        },
        "959b6d91d85542b18b3c4c51de52daeb": {
          "model_module": "@jupyter-widgets/base",
          "model_name": "LayoutModel",
          "model_module_version": "1.2.0",
          "state": {
            "_model_module": "@jupyter-widgets/base",
            "_model_module_version": "1.2.0",
            "_model_name": "LayoutModel",
            "_view_count": null,
            "_view_module": "@jupyter-widgets/base",
            "_view_module_version": "1.2.0",
            "_view_name": "LayoutView",
            "align_content": null,
            "align_items": null,
            "align_self": null,
            "border": null,
            "bottom": null,
            "display": null,
            "flex": null,
            "flex_flow": null,
            "grid_area": null,
            "grid_auto_columns": null,
            "grid_auto_flow": null,
            "grid_auto_rows": null,
            "grid_column": null,
            "grid_gap": null,
            "grid_row": null,
            "grid_template_areas": null,
            "grid_template_columns": null,
            "grid_template_rows": null,
            "height": null,
            "justify_content": null,
            "justify_items": null,
            "left": null,
            "margin": null,
            "max_height": null,
            "max_width": null,
            "min_height": null,
            "min_width": null,
            "object_fit": null,
            "object_position": null,
            "order": null,
            "overflow": null,
            "overflow_x": null,
            "overflow_y": null,
            "padding": null,
            "right": null,
            "top": null,
            "visibility": null,
            "width": null
          }
        },
        "60c78887969d4880bfa41464ef14ea8b": {
          "model_module": "@jupyter-widgets/base",
          "model_name": "LayoutModel",
          "model_module_version": "1.2.0",
          "state": {
            "_model_module": "@jupyter-widgets/base",
            "_model_module_version": "1.2.0",
            "_model_name": "LayoutModel",
            "_view_count": null,
            "_view_module": "@jupyter-widgets/base",
            "_view_module_version": "1.2.0",
            "_view_name": "LayoutView",
            "align_content": null,
            "align_items": null,
            "align_self": null,
            "border": null,
            "bottom": null,
            "display": null,
            "flex": null,
            "flex_flow": null,
            "grid_area": null,
            "grid_auto_columns": null,
            "grid_auto_flow": null,
            "grid_auto_rows": null,
            "grid_column": null,
            "grid_gap": null,
            "grid_row": null,
            "grid_template_areas": null,
            "grid_template_columns": null,
            "grid_template_rows": null,
            "height": null,
            "justify_content": null,
            "justify_items": null,
            "left": null,
            "margin": null,
            "max_height": null,
            "max_width": null,
            "min_height": null,
            "min_width": null,
            "object_fit": null,
            "object_position": null,
            "order": null,
            "overflow": null,
            "overflow_x": null,
            "overflow_y": null,
            "padding": null,
            "right": null,
            "top": null,
            "visibility": null,
            "width": null
          }
        },
        "47e5c1abb3064ac7a368739d479e44cc": {
          "model_module": "@jupyter-widgets/controls",
          "model_name": "DescriptionStyleModel",
          "model_module_version": "1.5.0",
          "state": {
            "_model_module": "@jupyter-widgets/controls",
            "_model_module_version": "1.5.0",
            "_model_name": "DescriptionStyleModel",
            "_view_count": null,
            "_view_module": "@jupyter-widgets/base",
            "_view_module_version": "1.2.0",
            "_view_name": "StyleView",
            "description_width": ""
          }
        },
        "af4abf6b5ba44e369fd18e2705b76bf0": {
          "model_module": "@jupyter-widgets/base",
          "model_name": "LayoutModel",
          "model_module_version": "1.2.0",
          "state": {
            "_model_module": "@jupyter-widgets/base",
            "_model_module_version": "1.2.0",
            "_model_name": "LayoutModel",
            "_view_count": null,
            "_view_module": "@jupyter-widgets/base",
            "_view_module_version": "1.2.0",
            "_view_name": "LayoutView",
            "align_content": null,
            "align_items": null,
            "align_self": null,
            "border": null,
            "bottom": null,
            "display": null,
            "flex": null,
            "flex_flow": null,
            "grid_area": null,
            "grid_auto_columns": null,
            "grid_auto_flow": null,
            "grid_auto_rows": null,
            "grid_column": null,
            "grid_gap": null,
            "grid_row": null,
            "grid_template_areas": null,
            "grid_template_columns": null,
            "grid_template_rows": null,
            "height": null,
            "justify_content": null,
            "justify_items": null,
            "left": null,
            "margin": null,
            "max_height": null,
            "max_width": null,
            "min_height": null,
            "min_width": null,
            "object_fit": null,
            "object_position": null,
            "order": null,
            "overflow": null,
            "overflow_x": null,
            "overflow_y": null,
            "padding": null,
            "right": null,
            "top": null,
            "visibility": null,
            "width": null
          }
        },
        "90ec0bda77d345cfb916e510f860e216": {
          "model_module": "@jupyter-widgets/controls",
          "model_name": "ProgressStyleModel",
          "model_module_version": "1.5.0",
          "state": {
            "_model_module": "@jupyter-widgets/controls",
            "_model_module_version": "1.5.0",
            "_model_name": "ProgressStyleModel",
            "_view_count": null,
            "_view_module": "@jupyter-widgets/base",
            "_view_module_version": "1.2.0",
            "_view_name": "StyleView",
            "bar_color": null,
            "description_width": ""
          }
        },
        "3714820ec33b4a2689ae24465d0ec0a2": {
          "model_module": "@jupyter-widgets/base",
          "model_name": "LayoutModel",
          "model_module_version": "1.2.0",
          "state": {
            "_model_module": "@jupyter-widgets/base",
            "_model_module_version": "1.2.0",
            "_model_name": "LayoutModel",
            "_view_count": null,
            "_view_module": "@jupyter-widgets/base",
            "_view_module_version": "1.2.0",
            "_view_name": "LayoutView",
            "align_content": null,
            "align_items": null,
            "align_self": null,
            "border": null,
            "bottom": null,
            "display": null,
            "flex": null,
            "flex_flow": null,
            "grid_area": null,
            "grid_auto_columns": null,
            "grid_auto_flow": null,
            "grid_auto_rows": null,
            "grid_column": null,
            "grid_gap": null,
            "grid_row": null,
            "grid_template_areas": null,
            "grid_template_columns": null,
            "grid_template_rows": null,
            "height": null,
            "justify_content": null,
            "justify_items": null,
            "left": null,
            "margin": null,
            "max_height": null,
            "max_width": null,
            "min_height": null,
            "min_width": null,
            "object_fit": null,
            "object_position": null,
            "order": null,
            "overflow": null,
            "overflow_x": null,
            "overflow_y": null,
            "padding": null,
            "right": null,
            "top": null,
            "visibility": null,
            "width": null
          }
        },
        "edc1a903b1ee4a2b9868ca4ae8a48b88": {
          "model_module": "@jupyter-widgets/controls",
          "model_name": "DescriptionStyleModel",
          "model_module_version": "1.5.0",
          "state": {
            "_model_module": "@jupyter-widgets/controls",
            "_model_module_version": "1.5.0",
            "_model_name": "DescriptionStyleModel",
            "_view_count": null,
            "_view_module": "@jupyter-widgets/base",
            "_view_module_version": "1.2.0",
            "_view_name": "StyleView",
            "description_width": ""
          }
        }
      }
    }
  },
  "nbformat": 4,
  "nbformat_minor": 0
}