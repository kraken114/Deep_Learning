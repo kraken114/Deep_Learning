{
  "cells": [
    {
      "cell_type": "markdown",
      "metadata": {
        "id": "view-in-github"
      },
      "source": [
        "<a href=\"https://colab.research.google.com/github/PacktPublishing/Hands-On-Computer-Vision-with-PyTorch/blob/master/Chapter05/age_gender_torch_snippets.ipynb\" target=\"_parent\"><img src=\"https://colab.research.google.com/assets/colab-badge.svg\" alt=\"Open In Colab\"/></a>"
      ]
    },
    {
      "cell_type": "markdown",
      "metadata": {
        "id": "IWUL-DcMjuoU"
      },
      "source": [
        "### Загрузим датасет"
      ]
    },
    {
      "cell_type": "code",
      "execution_count": null,
      "metadata": {
        "id": "b3CCSEUCWSrn"
      },
      "outputs": [],
      "source": [
        "from google.colab import files\n",
        "files.upload()"
      ]
    },
    {
      "cell_type": "code",
      "execution_count": null,
      "metadata": {
        "id": "MHqewgmVWSrn"
      },
      "outputs": [],
      "source": [
        "!ls -lha kaggle.json"
      ]
    },
    {
      "cell_type": "code",
      "execution_count": null,
      "metadata": {
        "id": "xYwGbCKkWSro"
      },
      "outputs": [],
      "source": [
        "!pip install -q kaggle"
      ]
    },
    {
      "cell_type": "code",
      "execution_count": null,
      "metadata": {
        "id": "ZTK5_srsWSro"
      },
      "outputs": [],
      "source": [
        "!mkdir -p ~/.kaggle\n",
        "!cp kaggle.json ~/.kaggle/\n",
        "\n",
        "!chmod 600 ~/.kaggle/kaggle.json"
      ]
    },
    {
      "cell_type": "code",
      "execution_count": null,
      "metadata": {
        "id": "zSh0LOiVWSro"
      },
      "outputs": [],
      "source": [
        "!kaggle datasets download -d alexattia/the-simpsons-characters-dataset"
      ]
    },
    {
      "cell_type": "code",
      "execution_count": null,
      "metadata": {
        "id": "K_VNNGQvWSrp"
      },
      "outputs": [],
      "source": [
        "!unzip -qq /content/the-simpsons-characters-dataset.zip"
      ]
    },
    {
      "cell_type": "markdown",
      "source": [
        "\n",
        "\n",
        "---\n",
        "\n"
      ],
      "metadata": {
        "id": "lZpgRQUrt4rt"
      }
    },
    {
      "cell_type": "code",
      "execution_count": null,
      "metadata": {
        "id": "ZB_MgYNaBflq"
      },
      "outputs": [],
      "source": [
        "def to_DataFrame(way):\n",
        "  data_image_paths = [str(i) for i in Glob(f'{way}/*/*.jpg')]\n",
        "  data_image_labels = [str(path).split('/')[-2] for path in Glob(f'{way}/*/*.jpg')]\n",
        "  simps_train, simps_test = train_test_split(\n",
        "    data_image_paths,\n",
        "    test_size=0.3,\n",
        "    stratify=data_image_labels\n",
        "    )\n",
        "\n",
        "  dct_codes = {l:t for t,l in enumerate(set([i.split('/')[-2] for i in simps_train]))}\n",
        "  target_tr = []\n",
        "  target_test = []\n",
        "\n",
        "  codes_tr = []\n",
        "  for i in simps_train:\n",
        "   target_tr.append(i.split('/')[-2])\n",
        "   for j in dct_codes:\n",
        "     if j == i.split('/')[-2]:\n",
        "        codes_tr.append(dct_codes[j])\n",
        "\n",
        "  codes_test = []\n",
        "  for i in simps_test:\n",
        "    target_test.append(i.split('/')[-2])\n",
        "    for j in dct_codes:\n",
        "      if i.split('/')[-2] == j:\n",
        "        codes_test.append(dct_codes[j])\n",
        "\n",
        "  data_tr ={'way': simps_train,\n",
        "            'persons': target_tr,\n",
        "            'codes': codes_tr}\n",
        "  data_test ={'way': simps_test,\n",
        "              'persons': target_test,\n",
        "              'codes': codes_test}\n",
        "  df_tr = pd.DataFrame(data_tr)\n",
        "  df_test = pd.DataFrame(data_test)\n",
        "\n",
        "  return df_tr, df_test, dct_codes, simps_train\n",
        "\n",
        "df_tr, df_test, dct_codes, simps_tr = to_DataFrame('/content/simpsons_dataset')"
      ]
    },
    {
      "cell_type": "code",
      "source": [
        "df_tr, df_test, dct_codes, simps_tr = to_DataFrame('/content/simpsons_dataset')"
      ],
      "metadata": {
        "id": "2GTzBrGilqJb"
      },
      "execution_count": null,
      "outputs": []
    },
    {
      "cell_type": "code",
      "source": [
        "for i in simps_tr:\n",
        "  print(i)\n",
        "  break"
      ],
      "metadata": {
        "colab": {
          "base_uri": "https://localhost:8080/",
          "height": 34
        },
        "id": "RUtkuAAPtEiG",
        "outputId": "749f36c5-6eab-45b3-f9db-096f6517a66d"
      },
      "execution_count": null,
      "outputs": [
        {
          "output_type": "display_data",
          "data": {
            "text/plain": [
              "\u001b[35m/content/simpsons_dataset/carl_carlson/\u001b[0m\u001b[95mpic_0023.jpg\u001b[0m\n"
            ],
            "text/html": [
              "<pre style=\"white-space:pre;overflow-x:auto;line-height:normal;font-family:Menlo,'DejaVu Sans Mono',consolas,'Courier New',monospace\"><span style=\"color: #800080; text-decoration-color: #800080\">/content/simpsons_dataset/carl_carlson/</span><span style=\"color: #ff00ff; text-decoration-color: #ff00ff\">pic_0023.jpg</span>\n",
              "</pre>\n"
            ]
          },
          "metadata": {}
        }
      ]
    },
    {
      "cell_type": "code",
      "source": [
        "df_tr.head(4)"
      ],
      "metadata": {
        "colab": {
          "base_uri": "https://localhost:8080/",
          "height": 175
        },
        "id": "CYaUgPlhY6sJ",
        "outputId": "12626568-cb6d-44d6-a842-7c80d2f1fc23"
      },
      "execution_count": null,
      "outputs": [
        {
          "output_type": "execute_result",
          "data": {
            "text/plain": [
              "                                                 way           persons  codes\n",
              "0  /content/simpsons_dataset/patty_bouvier/pic_00...     patty_bouvier     23\n",
              "1  /content/simpsons_dataset/krusty_the_clown/pic...  krusty_the_clown      1\n",
              "2  /content/simpsons_dataset/snake_jailbird/pic_0...    snake_jailbird     29\n",
              "3  /content/simpsons_dataset/chief_wiggum/pic_013...      chief_wiggum      2"
            ],
            "text/html": [
              "\n",
              "\n",
              "  <div id=\"df-e195c83a-ab4e-460c-a259-57eb99bc5c41\">\n",
              "    <div class=\"colab-df-container\">\n",
              "      <div>\n",
              "<style scoped>\n",
              "    .dataframe tbody tr th:only-of-type {\n",
              "        vertical-align: middle;\n",
              "    }\n",
              "\n",
              "    .dataframe tbody tr th {\n",
              "        vertical-align: top;\n",
              "    }\n",
              "\n",
              "    .dataframe thead th {\n",
              "        text-align: right;\n",
              "    }\n",
              "</style>\n",
              "<table border=\"1\" class=\"dataframe\">\n",
              "  <thead>\n",
              "    <tr style=\"text-align: right;\">\n",
              "      <th></th>\n",
              "      <th>way</th>\n",
              "      <th>persons</th>\n",
              "      <th>codes</th>\n",
              "    </tr>\n",
              "  </thead>\n",
              "  <tbody>\n",
              "    <tr>\n",
              "      <th>0</th>\n",
              "      <td>/content/simpsons_dataset/patty_bouvier/pic_00...</td>\n",
              "      <td>patty_bouvier</td>\n",
              "      <td>23</td>\n",
              "    </tr>\n",
              "    <tr>\n",
              "      <th>1</th>\n",
              "      <td>/content/simpsons_dataset/krusty_the_clown/pic...</td>\n",
              "      <td>krusty_the_clown</td>\n",
              "      <td>1</td>\n",
              "    </tr>\n",
              "    <tr>\n",
              "      <th>2</th>\n",
              "      <td>/content/simpsons_dataset/snake_jailbird/pic_0...</td>\n",
              "      <td>snake_jailbird</td>\n",
              "      <td>29</td>\n",
              "    </tr>\n",
              "    <tr>\n",
              "      <th>3</th>\n",
              "      <td>/content/simpsons_dataset/chief_wiggum/pic_013...</td>\n",
              "      <td>chief_wiggum</td>\n",
              "      <td>2</td>\n",
              "    </tr>\n",
              "  </tbody>\n",
              "</table>\n",
              "</div>\n",
              "      <button class=\"colab-df-convert\" onclick=\"convertToInteractive('df-e195c83a-ab4e-460c-a259-57eb99bc5c41')\"\n",
              "              title=\"Convert this dataframe to an interactive table.\"\n",
              "              style=\"display:none;\">\n",
              "\n",
              "  <svg xmlns=\"http://www.w3.org/2000/svg\" height=\"24px\"viewBox=\"0 0 24 24\"\n",
              "       width=\"24px\">\n",
              "    <path d=\"M0 0h24v24H0V0z\" fill=\"none\"/>\n",
              "    <path d=\"M18.56 5.44l.94 2.06.94-2.06 2.06-.94-2.06-.94-.94-2.06-.94 2.06-2.06.94zm-11 1L8.5 8.5l.94-2.06 2.06-.94-2.06-.94L8.5 2.5l-.94 2.06-2.06.94zm10 10l.94 2.06.94-2.06 2.06-.94-2.06-.94-.94-2.06-.94 2.06-2.06.94z\"/><path d=\"M17.41 7.96l-1.37-1.37c-.4-.4-.92-.59-1.43-.59-.52 0-1.04.2-1.43.59L10.3 9.45l-7.72 7.72c-.78.78-.78 2.05 0 2.83L4 21.41c.39.39.9.59 1.41.59.51 0 1.02-.2 1.41-.59l7.78-7.78 2.81-2.81c.8-.78.8-2.07 0-2.86zM5.41 20L4 18.59l7.72-7.72 1.47 1.35L5.41 20z\"/>\n",
              "  </svg>\n",
              "      </button>\n",
              "\n",
              "\n",
              "\n",
              "    <div id=\"df-10d91e59-23d5-4da1-be36-831078ea61c6\">\n",
              "      <button class=\"colab-df-quickchart\" onclick=\"quickchart('df-10d91e59-23d5-4da1-be36-831078ea61c6')\"\n",
              "              title=\"Suggest charts.\"\n",
              "              style=\"display:none;\">\n",
              "\n",
              "<svg xmlns=\"http://www.w3.org/2000/svg\" height=\"24px\"viewBox=\"0 0 24 24\"\n",
              "     width=\"24px\">\n",
              "    <g>\n",
              "        <path d=\"M19 3H5c-1.1 0-2 .9-2 2v14c0 1.1.9 2 2 2h14c1.1 0 2-.9 2-2V5c0-1.1-.9-2-2-2zM9 17H7v-7h2v7zm4 0h-2V7h2v10zm4 0h-2v-4h2v4z\"/>\n",
              "    </g>\n",
              "</svg>\n",
              "      </button>\n",
              "    </div>\n",
              "\n",
              "<style>\n",
              "  .colab-df-quickchart {\n",
              "    background-color: #E8F0FE;\n",
              "    border: none;\n",
              "    border-radius: 50%;\n",
              "    cursor: pointer;\n",
              "    display: none;\n",
              "    fill: #1967D2;\n",
              "    height: 32px;\n",
              "    padding: 0 0 0 0;\n",
              "    width: 32px;\n",
              "  }\n",
              "\n",
              "  .colab-df-quickchart:hover {\n",
              "    background-color: #E2EBFA;\n",
              "    box-shadow: 0px 1px 2px rgba(60, 64, 67, 0.3), 0px 1px 3px 1px rgba(60, 64, 67, 0.15);\n",
              "    fill: #174EA6;\n",
              "  }\n",
              "\n",
              "  [theme=dark] .colab-df-quickchart {\n",
              "    background-color: #3B4455;\n",
              "    fill: #D2E3FC;\n",
              "  }\n",
              "\n",
              "  [theme=dark] .colab-df-quickchart:hover {\n",
              "    background-color: #434B5C;\n",
              "    box-shadow: 0px 1px 3px 1px rgba(0, 0, 0, 0.15);\n",
              "    filter: drop-shadow(0px 1px 2px rgba(0, 0, 0, 0.3));\n",
              "    fill: #FFFFFF;\n",
              "  }\n",
              "</style>\n",
              "\n",
              "    <script>\n",
              "      async function quickchart(key) {\n",
              "        const containerElement = document.querySelector('#' + key);\n",
              "        const charts = await google.colab.kernel.invokeFunction(\n",
              "            'suggestCharts', [key], {});\n",
              "      }\n",
              "    </script>\n",
              "\n",
              "      <script>\n",
              "\n",
              "function displayQuickchartButton(domScope) {\n",
              "  let quickchartButtonEl =\n",
              "    domScope.querySelector('#df-10d91e59-23d5-4da1-be36-831078ea61c6 button.colab-df-quickchart');\n",
              "  quickchartButtonEl.style.display =\n",
              "    google.colab.kernel.accessAllowed ? 'block' : 'none';\n",
              "}\n",
              "\n",
              "        displayQuickchartButton(document);\n",
              "      </script>\n",
              "      <style>\n",
              "    .colab-df-container {\n",
              "      display:flex;\n",
              "      flex-wrap:wrap;\n",
              "      gap: 12px;\n",
              "    }\n",
              "\n",
              "    .colab-df-convert {\n",
              "      background-color: #E8F0FE;\n",
              "      border: none;\n",
              "      border-radius: 50%;\n",
              "      cursor: pointer;\n",
              "      display: none;\n",
              "      fill: #1967D2;\n",
              "      height: 32px;\n",
              "      padding: 0 0 0 0;\n",
              "      width: 32px;\n",
              "    }\n",
              "\n",
              "    .colab-df-convert:hover {\n",
              "      background-color: #E2EBFA;\n",
              "      box-shadow: 0px 1px 2px rgba(60, 64, 67, 0.3), 0px 1px 3px 1px rgba(60, 64, 67, 0.15);\n",
              "      fill: #174EA6;\n",
              "    }\n",
              "\n",
              "    [theme=dark] .colab-df-convert {\n",
              "      background-color: #3B4455;\n",
              "      fill: #D2E3FC;\n",
              "    }\n",
              "\n",
              "    [theme=dark] .colab-df-convert:hover {\n",
              "      background-color: #434B5C;\n",
              "      box-shadow: 0px 1px 3px 1px rgba(0, 0, 0, 0.15);\n",
              "      filter: drop-shadow(0px 1px 2px rgba(0, 0, 0, 0.3));\n",
              "      fill: #FFFFFF;\n",
              "    }\n",
              "  </style>\n",
              "\n",
              "      <script>\n",
              "        const buttonEl =\n",
              "          document.querySelector('#df-e195c83a-ab4e-460c-a259-57eb99bc5c41 button.colab-df-convert');\n",
              "        buttonEl.style.display =\n",
              "          google.colab.kernel.accessAllowed ? 'block' : 'none';\n",
              "\n",
              "        async function convertToInteractive(key) {\n",
              "          const element = document.querySelector('#df-e195c83a-ab4e-460c-a259-57eb99bc5c41');\n",
              "          const dataTable =\n",
              "            await google.colab.kernel.invokeFunction('convertToInteractive',\n",
              "                                                     [key], {});\n",
              "          if (!dataTable) return;\n",
              "\n",
              "          const docLinkHtml = 'Like what you see? Visit the ' +\n",
              "            '<a target=\"_blank\" href=https://colab.research.google.com/notebooks/data_table.ipynb>data table notebook</a>'\n",
              "            + ' to learn more about interactive tables.';\n",
              "          element.innerHTML = '';\n",
              "          dataTable['output_type'] = 'display_data';\n",
              "          await google.colab.output.renderOutput(dataTable, element);\n",
              "          const docLink = document.createElement('div');\n",
              "          docLink.innerHTML = docLinkHtml;\n",
              "          element.appendChild(docLink);\n",
              "        }\n",
              "      </script>\n",
              "    </div>\n",
              "  </div>\n"
            ]
          },
          "metadata": {},
          "execution_count": 132
        }
      ]
    },
    {
      "cell_type": "code",
      "source": [
        "df_test.head(4)"
      ],
      "metadata": {
        "colab": {
          "base_uri": "https://localhost:8080/",
          "height": 175
        },
        "id": "xyaNE_G2Y6pK",
        "outputId": "a37664b7-8b9e-4aaa-ebf4-169f699cf920"
      },
      "execution_count": null,
      "outputs": [
        {
          "output_type": "execute_result",
          "data": {
            "text/plain": [
              "                                                 way  \\\n",
              "0  /content/simpsons_dataset/charles_montgomery_b...   \n",
              "1  /content/simpsons_dataset/moe_szyslak/pic_0698...   \n",
              "2  /content/simpsons_dataset/marge_simpson/pic_09...   \n",
              "3  /content/simpsons_dataset/charles_montgomery_b...   \n",
              "\n",
              "                    persons  codes  \n",
              "0  charles_montgomery_burns      2  \n",
              "1               moe_szyslak     15  \n",
              "2             marge_simpson     24  \n",
              "3  charles_montgomery_burns      2  "
            ],
            "text/html": [
              "\n",
              "\n",
              "  <div id=\"df-145b6a3d-670f-4fd3-b6d7-b6d458044cdd\">\n",
              "    <div class=\"colab-df-container\">\n",
              "      <div>\n",
              "<style scoped>\n",
              "    .dataframe tbody tr th:only-of-type {\n",
              "        vertical-align: middle;\n",
              "    }\n",
              "\n",
              "    .dataframe tbody tr th {\n",
              "        vertical-align: top;\n",
              "    }\n",
              "\n",
              "    .dataframe thead th {\n",
              "        text-align: right;\n",
              "    }\n",
              "</style>\n",
              "<table border=\"1\" class=\"dataframe\">\n",
              "  <thead>\n",
              "    <tr style=\"text-align: right;\">\n",
              "      <th></th>\n",
              "      <th>way</th>\n",
              "      <th>persons</th>\n",
              "      <th>codes</th>\n",
              "    </tr>\n",
              "  </thead>\n",
              "  <tbody>\n",
              "    <tr>\n",
              "      <th>0</th>\n",
              "      <td>/content/simpsons_dataset/charles_montgomery_b...</td>\n",
              "      <td>charles_montgomery_burns</td>\n",
              "      <td>2</td>\n",
              "    </tr>\n",
              "    <tr>\n",
              "      <th>1</th>\n",
              "      <td>/content/simpsons_dataset/moe_szyslak/pic_0698...</td>\n",
              "      <td>moe_szyslak</td>\n",
              "      <td>15</td>\n",
              "    </tr>\n",
              "    <tr>\n",
              "      <th>2</th>\n",
              "      <td>/content/simpsons_dataset/marge_simpson/pic_09...</td>\n",
              "      <td>marge_simpson</td>\n",
              "      <td>24</td>\n",
              "    </tr>\n",
              "    <tr>\n",
              "      <th>3</th>\n",
              "      <td>/content/simpsons_dataset/charles_montgomery_b...</td>\n",
              "      <td>charles_montgomery_burns</td>\n",
              "      <td>2</td>\n",
              "    </tr>\n",
              "  </tbody>\n",
              "</table>\n",
              "</div>\n",
              "      <button class=\"colab-df-convert\" onclick=\"convertToInteractive('df-145b6a3d-670f-4fd3-b6d7-b6d458044cdd')\"\n",
              "              title=\"Convert this dataframe to an interactive table.\"\n",
              "              style=\"display:none;\">\n",
              "\n",
              "  <svg xmlns=\"http://www.w3.org/2000/svg\" height=\"24px\"viewBox=\"0 0 24 24\"\n",
              "       width=\"24px\">\n",
              "    <path d=\"M0 0h24v24H0V0z\" fill=\"none\"/>\n",
              "    <path d=\"M18.56 5.44l.94 2.06.94-2.06 2.06-.94-2.06-.94-.94-2.06-.94 2.06-2.06.94zm-11 1L8.5 8.5l.94-2.06 2.06-.94-2.06-.94L8.5 2.5l-.94 2.06-2.06.94zm10 10l.94 2.06.94-2.06 2.06-.94-2.06-.94-.94-2.06-.94 2.06-2.06.94z\"/><path d=\"M17.41 7.96l-1.37-1.37c-.4-.4-.92-.59-1.43-.59-.52 0-1.04.2-1.43.59L10.3 9.45l-7.72 7.72c-.78.78-.78 2.05 0 2.83L4 21.41c.39.39.9.59 1.41.59.51 0 1.02-.2 1.41-.59l7.78-7.78 2.81-2.81c.8-.78.8-2.07 0-2.86zM5.41 20L4 18.59l7.72-7.72 1.47 1.35L5.41 20z\"/>\n",
              "  </svg>\n",
              "      </button>\n",
              "\n",
              "\n",
              "\n",
              "    <div id=\"df-36615fc3-0119-41f9-b23d-80a0998bcaf7\">\n",
              "      <button class=\"colab-df-quickchart\" onclick=\"quickchart('df-36615fc3-0119-41f9-b23d-80a0998bcaf7')\"\n",
              "              title=\"Suggest charts.\"\n",
              "              style=\"display:none;\">\n",
              "\n",
              "<svg xmlns=\"http://www.w3.org/2000/svg\" height=\"24px\"viewBox=\"0 0 24 24\"\n",
              "     width=\"24px\">\n",
              "    <g>\n",
              "        <path d=\"M19 3H5c-1.1 0-2 .9-2 2v14c0 1.1.9 2 2 2h14c1.1 0 2-.9 2-2V5c0-1.1-.9-2-2-2zM9 17H7v-7h2v7zm4 0h-2V7h2v10zm4 0h-2v-4h2v4z\"/>\n",
              "    </g>\n",
              "</svg>\n",
              "      </button>\n",
              "    </div>\n",
              "\n",
              "<style>\n",
              "  .colab-df-quickchart {\n",
              "    background-color: #E8F0FE;\n",
              "    border: none;\n",
              "    border-radius: 50%;\n",
              "    cursor: pointer;\n",
              "    display: none;\n",
              "    fill: #1967D2;\n",
              "    height: 32px;\n",
              "    padding: 0 0 0 0;\n",
              "    width: 32px;\n",
              "  }\n",
              "\n",
              "  .colab-df-quickchart:hover {\n",
              "    background-color: #E2EBFA;\n",
              "    box-shadow: 0px 1px 2px rgba(60, 64, 67, 0.3), 0px 1px 3px 1px rgba(60, 64, 67, 0.15);\n",
              "    fill: #174EA6;\n",
              "  }\n",
              "\n",
              "  [theme=dark] .colab-df-quickchart {\n",
              "    background-color: #3B4455;\n",
              "    fill: #D2E3FC;\n",
              "  }\n",
              "\n",
              "  [theme=dark] .colab-df-quickchart:hover {\n",
              "    background-color: #434B5C;\n",
              "    box-shadow: 0px 1px 3px 1px rgba(0, 0, 0, 0.15);\n",
              "    filter: drop-shadow(0px 1px 2px rgba(0, 0, 0, 0.3));\n",
              "    fill: #FFFFFF;\n",
              "  }\n",
              "</style>\n",
              "\n",
              "    <script>\n",
              "      async function quickchart(key) {\n",
              "        const containerElement = document.querySelector('#' + key);\n",
              "        const charts = await google.colab.kernel.invokeFunction(\n",
              "            'suggestCharts', [key], {});\n",
              "      }\n",
              "    </script>\n",
              "\n",
              "      <script>\n",
              "\n",
              "function displayQuickchartButton(domScope) {\n",
              "  let quickchartButtonEl =\n",
              "    domScope.querySelector('#df-36615fc3-0119-41f9-b23d-80a0998bcaf7 button.colab-df-quickchart');\n",
              "  quickchartButtonEl.style.display =\n",
              "    google.colab.kernel.accessAllowed ? 'block' : 'none';\n",
              "}\n",
              "\n",
              "        displayQuickchartButton(document);\n",
              "      </script>\n",
              "      <style>\n",
              "    .colab-df-container {\n",
              "      display:flex;\n",
              "      flex-wrap:wrap;\n",
              "      gap: 12px;\n",
              "    }\n",
              "\n",
              "    .colab-df-convert {\n",
              "      background-color: #E8F0FE;\n",
              "      border: none;\n",
              "      border-radius: 50%;\n",
              "      cursor: pointer;\n",
              "      display: none;\n",
              "      fill: #1967D2;\n",
              "      height: 32px;\n",
              "      padding: 0 0 0 0;\n",
              "      width: 32px;\n",
              "    }\n",
              "\n",
              "    .colab-df-convert:hover {\n",
              "      background-color: #E2EBFA;\n",
              "      box-shadow: 0px 1px 2px rgba(60, 64, 67, 0.3), 0px 1px 3px 1px rgba(60, 64, 67, 0.15);\n",
              "      fill: #174EA6;\n",
              "    }\n",
              "\n",
              "    [theme=dark] .colab-df-convert {\n",
              "      background-color: #3B4455;\n",
              "      fill: #D2E3FC;\n",
              "    }\n",
              "\n",
              "    [theme=dark] .colab-df-convert:hover {\n",
              "      background-color: #434B5C;\n",
              "      box-shadow: 0px 1px 3px 1px rgba(0, 0, 0, 0.15);\n",
              "      filter: drop-shadow(0px 1px 2px rgba(0, 0, 0, 0.3));\n",
              "      fill: #FFFFFF;\n",
              "    }\n",
              "  </style>\n",
              "\n",
              "      <script>\n",
              "        const buttonEl =\n",
              "          document.querySelector('#df-145b6a3d-670f-4fd3-b6d7-b6d458044cdd button.colab-df-convert');\n",
              "        buttonEl.style.display =\n",
              "          google.colab.kernel.accessAllowed ? 'block' : 'none';\n",
              "\n",
              "        async function convertToInteractive(key) {\n",
              "          const element = document.querySelector('#df-145b6a3d-670f-4fd3-b6d7-b6d458044cdd');\n",
              "          const dataTable =\n",
              "            await google.colab.kernel.invokeFunction('convertToInteractive',\n",
              "                                                     [key], {});\n",
              "          if (!dataTable) return;\n",
              "\n",
              "          const docLinkHtml = 'Like what you see? Visit the ' +\n",
              "            '<a target=\"_blank\" href=https://colab.research.google.com/notebooks/data_table.ipynb>data table notebook</a>'\n",
              "            + ' to learn more about interactive tables.';\n",
              "          element.innerHTML = '';\n",
              "          dataTable['output_type'] = 'display_data';\n",
              "          await google.colab.output.renderOutput(dataTable, element);\n",
              "          const docLink = document.createElement('div');\n",
              "          docLink.innerHTML = docLinkHtml;\n",
              "          element.appendChild(docLink);\n",
              "        }\n",
              "      </script>\n",
              "    </div>\n",
              "  </div>\n"
            ]
          },
          "metadata": {},
          "execution_count": 15
        }
      ]
    },
    {
      "cell_type": "markdown",
      "source": [
        "\n",
        "\n",
        "---\n",
        "\n"
      ],
      "metadata": {
        "id": "_VACzMgHugN6"
      }
    },
    {
      "cell_type": "code",
      "source": [
        "input_size = 224\n",
        "\n",
        "train_transform = transforms.Compose([\n",
        "    transforms.Resize(input_size),\n",
        "    transforms.CenterCrop(input_size),\n",
        "    transforms.ColorJitter(0.9, 0.9, 0.9),\n",
        "    transforms.RandomAffine(5),\n",
        "    transforms.ToTensor(),\n",
        "])\n",
        "\n",
        "\n",
        "val_transform = transforms.Compose([\n",
        "    transforms.Resize(input_size),\n",
        "    transforms.CenterCrop(input_size),\n",
        "    transforms.ToTensor(),\n",
        "])"
      ],
      "metadata": {
        "id": "92CO67Kl-kcW"
      },
      "execution_count": null,
      "outputs": []
    },
    {
      "cell_type": "code",
      "source": [
        "data_dir = '/content/simpsons_dataset'"
      ],
      "metadata": {
        "id": "UbN8XkUEahuG"
      },
      "execution_count": null,
      "outputs": []
    },
    {
      "cell_type": "code",
      "source": [
        "class f_t(Dataset):\n",
        "    def __init__(self, df, tfms=None):\n",
        "        self.df = df\n",
        "    def __len__(self): return len(self.df)\n",
        "    def __getitem__(self, ix):\n",
        "        f = self.df.iloc[ix].squeeze()\n",
        "        file = f.way\n",
        "        codes = f.codes\n",
        "        im = train_transform(Image.open(file))\n",
        "        return im, int(codes)"
      ],
      "metadata": {
        "id": "dU8GoXqYQ6HY"
      },
      "execution_count": null,
      "outputs": []
    },
    {
      "cell_type": "code",
      "source": [
        "class f_v(Dataset):\n",
        "    def __init__(self, df, tfms=None):\n",
        "        self.df = df\n",
        "    def __len__(self): return len(self.df)\n",
        "    def __getitem__(self, ix):\n",
        "        f = self.df.iloc[ix].squeeze()\n",
        "        file = f.way\n",
        "        codes = f.codes\n",
        "        im = val_transform(Image.open(file))\n",
        "        return im, int(codes)"
      ],
      "metadata": {
        "id": "CWiDyxyKWLNY"
      },
      "execution_count": null,
      "outputs": []
    },
    {
      "cell_type": "code",
      "source": [
        "trn = f_t(df_tr)\n",
        "val = f_v(df_test)"
      ],
      "metadata": {
        "id": "uDRn0PfYSgEQ"
      },
      "execution_count": null,
      "outputs": []
    },
    {
      "cell_type": "code",
      "source": [
        "train_loader = DataLoader(trn, batch_size=32, shuffle=True, drop_last=True)\n",
        "test_loader = DataLoader(val, batch_size=32)"
      ],
      "metadata": {
        "id": "Tyuy0Nn1YJ5x"
      },
      "execution_count": null,
      "outputs": []
    },
    {
      "cell_type": "markdown",
      "source": [
        "\n",
        "\n",
        "---\n",
        "\n"
      ],
      "metadata": {
        "id": "jwlwMAlPmsRx"
      }
    },
    {
      "cell_type": "markdown",
      "source": [
        "**Проверяем применяются ли фильтры**"
      ],
      "metadata": {
        "id": "-_dMQJbzmtfG"
      }
    },
    {
      "cell_type": "markdown",
      "source": [
        "Тренировочная"
      ],
      "metadata": {
        "id": "Dtne_FoOngey"
      }
    },
    {
      "cell_type": "code",
      "source": [
        "for i,j in enumerate(trn):\n",
        "  if i < 2:\n",
        "    show(j[0],sz=2)\n",
        "  else:   break"
      ],
      "metadata": {
        "colab": {
          "base_uri": "https://localhost:8080/",
          "height": 365
        },
        "id": "f3Agkd-Tb3CH",
        "outputId": "57ce32cf-7c77-494d-83e9-b06d688cfa54"
      },
      "execution_count": null,
      "outputs": [
        {
          "output_type": "display_data",
          "data": {
            "text/plain": [
              "<Figure size 200x200 with 1 Axes>"
            ],
            "image/png": "[encoded data removed]"
          },
          "metadata": {}
        },
        {
          "output_type": "display_data",
          "data": {
            "text/plain": [
              "<Figure size 200x200 with 1 Axes>"
            ],
            "image/png": "[encoded data removed]"
          },
          "metadata": {}
        }
      ]
    },
    {
      "cell_type": "markdown",
      "source": [
        "\n",
        "\n",
        "---\n",
        "\n"
      ],
      "metadata": {
        "id": "vxQ6J3-Mm9_7"
      }
    },
    {
      "cell_type": "code",
      "source": [
        "device = \"cuda\" if torch.cuda.is_available() else \"cpu\"\n",
        "device"
      ],
      "metadata": {
        "colab": {
          "base_uri": "https://localhost:8080/",
          "height": 35
        },
        "id": "FmOJqyRs3He1",
        "outputId": "1ed444bc-9cdc-4dcb-9b43-2f30d8731e56"
      },
      "execution_count": null,
      "outputs": [
        {
          "output_type": "execute_result",
          "data": {
            "text/plain": [
              "'cuda'"
            ],
            "application/vnd.google.colaboratory.intrinsic+json": {
              "type": "string"
            }
          },
          "metadata": {},
          "execution_count": 138
        }
      ]
    },
    {
      "cell_type": "code",
      "source": [
        "def plot_learning_curves(history):\n",
        "    '''\n",
        "    Функция для вывода графиков лосса и метрики во время обучения.\n",
        "    '''\n",
        "    fig = plt.figure(figsize=(20, 7))\n",
        "\n",
        "    plt.subplot(1,2,1)\n",
        "    plt.title('Лосс', fontsize=15)\n",
        "    plt.plot(history['loss']['train'], label='train')\n",
        "    plt.plot(history['loss']['val'], label='val')\n",
        "    plt.ylabel('лосс', fontsize=15)\n",
        "    plt.xlabel('эпоха', fontsize=15)\n",
        "    plt.legend()\n",
        "\n",
        "    plt.subplot(1,2,2)\n",
        "    plt.title('Точность', fontsize=15)\n",
        "    plt.plot(history['acc']['train'], label='train')\n",
        "    plt.plot(history['acc']['val'], label='val')\n",
        "    plt.ylabel('лосс', fontsize=15)\n",
        "    plt.xlabel('эпоха', fontsize=15)\n",
        "    plt.legend()\n",
        "    plt.show()"
      ],
      "metadata": {
        "id": "eGLk-jsi28iJ"
      },
      "execution_count": null,
      "outputs": []
    },
    {
      "cell_type": "markdown",
      "source": [
        "\n",
        "\n",
        "---\n",
        "\n"
      ],
      "metadata": {
        "id": "PTH649OI4KfE"
      }
    },
    {
      "cell_type": "markdown",
      "source": [
        "# **Задание 1: меняем шаг обучения**"
      ],
      "metadata": {
        "id": "3yj-BkXM4M4N"
      }
    },
    {
      "cell_type": "markdown",
      "source": [
        "**1.2 Используем 2 вариант изменения шага**"
      ],
      "metadata": {
        "id": "C-ewGnnrDtGx"
      }
    },
    {
      "cell_type": "code",
      "source": [
        "def train(\n",
        "    model,\n",
        "    criterion,\n",
        "    optimizer,\n",
        "    scheduler_1,\n",
        "    scheduler_2,\n",
        "    train_batch_gen,\n",
        "    val_batch_gen,\n",
        "    num_epochs=10,\n",
        "    ):\n",
        "    '''\n",
        "    Функция для обучения модели и вывода лосса и метрики во время обучения.\n",
        "    '''\n",
        "\n",
        "    history = defaultdict(lambda: defaultdict(list))\n",
        "\n",
        "    for epoch in range(num_epochs):\n",
        "        train_loss = 0\n",
        "        train_acc = 0\n",
        "        val_loss = 0\n",
        "        val_acc = 0\n",
        "\n",
        "        start_time = time.time()\n",
        "\n",
        "        # устанавливаем поведение dropout / batch_norm  в обучение\n",
        "        model.train(True)\n",
        "\n",
        "        # на каждой \"эпохе\" делаем полный проход по данным\n",
        "        for X_batch, y_batch in train_batch_gen:\n",
        "            # обучаемся на текущем батче\n",
        "            X_batch = X_batch.to(device)\n",
        "            y_batch = y_batch.to(device)\n",
        "\n",
        "            logits = model(X_batch)\n",
        "\n",
        "            loss = criterion(logits, y_batch.long().to(device))\n",
        "\n",
        "            loss.backward()\n",
        "            optimizer.step()\n",
        "            optimizer.zero_grad()\n",
        "\n",
        "            train_loss += np.sum(loss.detach().cpu().numpy())\n",
        "            y_pred = logits.max(1)[1].detach().cpu().numpy()\n",
        "            train_acc += np.mean(y_batch.cpu().numpy() == y_pred)\n",
        "\n",
        "        # подсчитываем лоссы и сохраням в \"историю\"\n",
        "        train_loss /= len(train_batch_gen)\n",
        "        train_acc /= len(train_batch_gen)\n",
        "        history['loss']['train'].append(train_loss)\n",
        "        history['acc']['train'].append(train_acc)\n",
        "\n",
        "        # устанавливаем поведение dropout / batch_norm в режим тестирования\n",
        "        model.train(False)\n",
        "\n",
        "        # полностью проходим по валидационному датасету\n",
        "        for X_batch, y_batch in val_batch_gen:\n",
        "            X_batch = X_batch.to(device)\n",
        "            y_batch = y_batch.to(device)\n",
        "\n",
        "            logits = model(X_batch)\n",
        "            loss = criterion(logits, y_batch.long().to(device))\n",
        "            val_loss += np.sum(loss.detach().cpu().numpy())\n",
        "            y_pred = logits.max(1)[1].detach().cpu().numpy()\n",
        "            val_acc += np.mean(y_batch.cpu().numpy() == y_pred)\n",
        "        scheduler_1.step()\n",
        "        scheduler_2.step()\n",
        "\n",
        "        # подсчитываем лоссы и сохраням в \"историю\"\n",
        "        val_loss /= len(val_batch_gen)\n",
        "        val_acc /= len(val_batch_gen)\n",
        "        history['loss']['val'].append(val_loss)\n",
        "        history['acc']['val'].append(val_acc)\n",
        "\n",
        "        clear_output()\n",
        "\n",
        "        # печатаем результаты после каждой эпохи\n",
        "        print(\"Epoch {} of {} took {:.3f}s\".format(\n",
        "            epoch + 1, num_epochs, time.time() - start_time))\n",
        "        print(\"  training loss (in-iteration): \\t{:.6f}\".format(train_loss))\n",
        "        print(\"  validation loss (in-iteration): \\t{:.6f}\".format(val_loss))\n",
        "        print(\"  training accuracy: \\t\\t\\t{:.2f} %\".format(train_acc * 100))\n",
        "        print(\"  validation accuracy: \\t\\t\\t{:.2f} %\".format(val_acc * 100))\n",
        "\n",
        "        plot_learning_curves(history)\n",
        "\n",
        "    return model, history"
      ],
      "metadata": {
        "id": "TZc0VJgvDtGx"
      },
      "execution_count": null,
      "outputs": []
    },
    {
      "cell_type": "code",
      "source": [
        "from torchvision.models import resnet18\n",
        "from torch.optim.lr_scheduler import StepLR"
      ],
      "metadata": {
        "id": "ybSRnFVeDtGy"
      },
      "execution_count": null,
      "outputs": []
    },
    {
      "cell_type": "code",
      "source": [
        "# возьмём предобученную сеть\n",
        "fe_model = resnet18(pretrained=True)\n",
        "\n",
        "# заморозим все слои сети\n",
        "for param in fe_model.parameters():\n",
        "    param.requires_grad = False\n",
        "\n",
        "# добавим над feature extractor сетью классификационный слой\n",
        "fe_model.fc = nn.Linear(512, 42)\n",
        "fe_model = fe_model.to(device)\n",
        "\n",
        "criterion = nn.CrossEntropyLoss()\n",
        "optimizer = torch.optim.SGD(fe_model.parameters(), lr=0.01, momentum=0.9)\n",
        "scheduler_1 = torch.optim.lr_scheduler.ExponentialLR(optimizer, gamma=0.9)\n",
        "scheduler_2 = torch.optim.lr_scheduler.MultiStepLR(optimizer, milestones=[30,80], gamma=0.1)\n",
        "\n",
        "clf_model, history = train(\n",
        "    fe_model, criterion, optimizer,\n",
        "    scheduler_1, scheduler_2,\n",
        "    train_loader, test_loader,\n",
        "    num_epochs=10\n",
        ")"
      ],
      "metadata": {
        "colab": {
          "base_uri": "https://localhost:8080/",
          "height": 744
        },
        "outputId": "67bd0b7e-ab4d-4350-cd38-cc2c3f9ff322",
        "id": "h4Sg1NVcDtGy"
      },
      "execution_count": null,
      "outputs": [
        {
          "output_type": "display_data",
          "data": {
            "text/plain": [
              "Epoch \u001b[1;36m10\u001b[0m of \u001b[1;36m10\u001b[0m took \u001b[1;36m147.\u001b[0m755s\n"
            ],
            "text/html": [
              "<pre style=\"white-space:pre;overflow-x:auto;line-height:normal;font-family:Menlo,'DejaVu Sans Mono',consolas,'Courier New',monospace\">Epoch <span style=\"color: #008080; text-decoration-color: #008080; font-weight: bold\">10</span> of <span style=\"color: #008080; text-decoration-color: #008080; font-weight: bold\">10</span> took <span style=\"color: #008080; text-decoration-color: #008080; font-weight: bold\">147.</span>755s\n",
              "</pre>\n"
            ]
          },
          "metadata": {}
        },
        {
          "output_type": "display_data",
          "data": {
            "text/plain": [
              "  training loss \u001b[1m(\u001b[0min-iteration\u001b[1m)\u001b[0m:         \u001b[1;36m1.206132\u001b[0m\n"
            ],
            "text/html": [
              "<pre style=\"white-space:pre;overflow-x:auto;line-height:normal;font-family:Menlo,'DejaVu Sans Mono',consolas,'Courier New',monospace\">  training loss <span style=\"font-weight: bold\">(</span>in-iteration<span style=\"font-weight: bold\">)</span>:         <span style=\"color: #008080; text-decoration-color: #008080; font-weight: bold\">1.206132</span>\n",
              "</pre>\n"
            ]
          },
          "metadata": {}
        },
        {
          "output_type": "display_data",
          "data": {
            "text/plain": [
              "  validation loss \u001b[1m(\u001b[0min-iteration\u001b[1m)\u001b[0m:       \u001b[1;36m1.026267\u001b[0m\n"
            ],
            "text/html": [
              "<pre style=\"white-space:pre;overflow-x:auto;line-height:normal;font-family:Menlo,'DejaVu Sans Mono',consolas,'Courier New',monospace\">  validation loss <span style=\"font-weight: bold\">(</span>in-iteration<span style=\"font-weight: bold\">)</span>:       <span style=\"color: #008080; text-decoration-color: #008080; font-weight: bold\">1.026267</span>\n",
              "</pre>\n"
            ]
          },
          "metadata": {}
        },
        {
          "output_type": "display_data",
          "data": {
            "text/plain": [
              "  training accuracy:                    \u001b[1;36m66.25\u001b[0m %\n"
            ],
            "text/html": [
              "<pre style=\"white-space:pre;overflow-x:auto;line-height:normal;font-family:Menlo,'DejaVu Sans Mono',consolas,'Courier New',monospace\">  training accuracy:                    <span style=\"color: #008080; text-decoration-color: #008080; font-weight: bold\">66.25</span> %\n",
              "</pre>\n"
            ]
          },
          "metadata": {}
        },
        {
          "output_type": "display_data",
          "data": {
            "text/plain": [
              "  validation accuracy:                  \u001b[1;36m72.49\u001b[0m %\n"
            ],
            "text/html": [
              "<pre style=\"white-space:pre;overflow-x:auto;line-height:normal;font-family:Menlo,'DejaVu Sans Mono',consolas,'Courier New',monospace\">  validation accuracy:                  <span style=\"color: #008080; text-decoration-color: #008080; font-weight: bold\">72.49</span> %\n",
              "</pre>\n"
            ]
          },
          "metadata": {}
        },
        {
          "output_type": "display_data",
          "data": {
            "text/plain": [
              "<Figure size 2000x700 with 2 Axes>"
            ],
            "image/png": "[encoded data removed]"
          },
          "metadata": {}
        }
      ]
    },
    {
      "cell_type": "markdown",
      "source": [
        "# **Задание 3: обучаем VGG16 по аналогии с уроком.**"
      ],
      "metadata": {
        "id": "3IIt44Bi-NIH"
      }
    },
    {
      "cell_type": "markdown",
      "source": [
        "**3.1 pretrained=True + добавление новых слоев**"
      ],
      "metadata": {
        "id": "KNLXdReoQKgA"
      }
    },
    {
      "cell_type": "code",
      "source": [
        "from torchvision.models import vgg16"
      ],
      "metadata": {
        "id": "mPCrFMU8QKgG"
      },
      "execution_count": null,
      "outputs": []
    },
    {
      "cell_type": "code",
      "source": [
        "fine_tuning_model = nn.Sequential()\n",
        "\n",
        "fine_tuning_model.add_module('vgg16', vgg16(pretrained=True))\n",
        "\n",
        "# добавим новые слои для классификации для нашей конкретной задачи\n",
        "fine_tuning_model.add_module('relu_1', nn.ReLU())\n",
        "fine_tuning_model.add_module('fc_1', nn.Linear(1000, 512))\n",
        "fine_tuning_model.add_module('relu_2', nn.ReLU())\n",
        "fine_tuning_model.add_module('fc_2', nn.Linear(512, 42))\n",
        "\n",
        "fine_tuning_model = fine_tuning_model.to(device)"
      ],
      "metadata": {
        "id": "lJc1Je_IRQIj"
      },
      "execution_count": null,
      "outputs": []
    },
    {
      "cell_type": "code",
      "source": [
        "unfreeze_layers = [model.classifier[6]]\n",
        "for layer in unfreeze_layers:\n",
        " for param in layer.parameters():\n",
        "  param.requires_grad = True"
      ],
      "metadata": {
        "id": "5_rTWtKywlrH"
      },
      "execution_count": null,
      "outputs": []
    },
    {
      "cell_type": "code",
      "source": [
        "model"
      ],
      "metadata": {
        "colab": {
          "base_uri": "https://localhost:8080/"
        },
        "id": "_SZbSRZ8QKgH",
        "outputId": "503922bd-47a6-42dd-f845-44fa9ce8499b"
      },
      "execution_count": null,
      "outputs": [
        {
          "output_type": "execute_result",
          "data": {
            "text/plain": [
              "VGG(\n",
              "  (features): Sequential(\n",
              "    (0): Conv2d(3, 64, kernel_size=(3, 3), stride=(1, 1), padding=(1, 1))\n",
              "    (1): ReLU(inplace=True)\n",
              "    (2): Conv2d(64, 64, kernel_size=(3, 3), stride=(1, 1), padding=(1, 1))\n",
              "    (3): ReLU(inplace=True)\n",
              "    (4): MaxPool2d(kernel_size=2, stride=2, padding=0, dilation=1, ceil_mode=False)\n",
              "    (5): Conv2d(64, 128, kernel_size=(3, 3), stride=(1, 1), padding=(1, 1))\n",
              "    (6): ReLU(inplace=True)\n",
              "    (7): Conv2d(128, 128, kernel_size=(3, 3), stride=(1, 1), padding=(1, 1))\n",
              "    (8): ReLU(inplace=True)\n",
              "    (9): MaxPool2d(kernel_size=2, stride=2, padding=0, dilation=1, ceil_mode=False)\n",
              "    (10): Conv2d(128, 256, kernel_size=(3, 3), stride=(1, 1), padding=(1, 1))\n",
              "    (11): ReLU(inplace=True)\n",
              "    (12): Conv2d(256, 256, kernel_size=(3, 3), stride=(1, 1), padding=(1, 1))\n",
              "    (13): ReLU(inplace=True)\n",
              "    (14): Conv2d(256, 256, kernel_size=(3, 3), stride=(1, 1), padding=(1, 1))\n",
              "    (15): ReLU(inplace=True)\n",
              "    (16): MaxPool2d(kernel_size=2, stride=2, padding=0, dilation=1, ceil_mode=False)\n",
              "    (17): Conv2d(256, 512, kernel_size=(3, 3), stride=(1, 1), padding=(1, 1))\n",
              "    (18): ReLU(inplace=True)\n",
              "    (19): Conv2d(512, 512, kernel_size=(3, 3), stride=(1, 1), padding=(1, 1))\n",
              "    (20): ReLU(inplace=True)\n",
              "    (21): Conv2d(512, 512, kernel_size=(3, 3), stride=(1, 1), padding=(1, 1))\n",
              "    (22): ReLU(inplace=True)\n",
              "    (23): MaxPool2d(kernel_size=2, stride=2, padding=0, dilation=1, ceil_mode=False)\n",
              "    (24): Conv2d(512, 512, kernel_size=(3, 3), stride=(1, 1), padding=(1, 1))\n",
              "    (25): ReLU(inplace=True)\n",
              "    (26): Conv2d(512, 512, kernel_size=(3, 3), stride=(1, 1), padding=(1, 1))\n",
              "    (27): ReLU(inplace=True)\n",
              "    (28): Conv2d(512, 512, kernel_size=(3, 3), stride=(1, 1), padding=(1, 1))\n",
              "    (29): ReLU(inplace=True)\n",
              "    (30): MaxPool2d(kernel_size=2, stride=2, padding=0, dilation=1, ceil_mode=False)\n",
              "  )\n",
              "  (avgpool): AdaptiveAvgPool2d(output_size=(7, 7))\n",
              "  (classifier): Sequential(\n",
              "    (0): Linear(in_features=25088, out_features=4096, bias=True)\n",
              "    (1): ReLU(inplace=True)\n",
              "    (2): Dropout(p=0.5, inplace=False)\n",
              "    (3): Linear(in_features=4096, out_features=4096, bias=True)\n",
              "    (4): ReLU(inplace=True)\n",
              "    (5): Dropout(p=0.5, inplace=False)\n",
              "    (6): Linear(in_features=4096, out_features=1000, bias=True)\n",
              "  )\n",
              ")"
            ]
          },
          "metadata": {},
          "execution_count": 158
        }
      ]
    },
    {
      "cell_type": "code",
      "source": [
        "fine_tuning_model"
      ],
      "metadata": {
        "colab": {
          "base_uri": "https://localhost:8080/"
        },
        "id": "X6SzQRYpV1V_",
        "outputId": "cdb8be6b-18e5-412b-d941-96f79004e536"
      },
      "execution_count": null,
      "outputs": [
        {
          "output_type": "execute_result",
          "data": {
            "text/plain": [
              "Sequential(\n",
              "  (vgg16): VGG(\n",
              "    (features): Sequential(\n",
              "      (0): Conv2d(3, 64, kernel_size=(3, 3), stride=(1, 1), padding=(1, 1))\n",
              "      (1): ReLU(inplace=True)\n",
              "      (2): Conv2d(64, 64, kernel_size=(3, 3), stride=(1, 1), padding=(1, 1))\n",
              "      (3): ReLU(inplace=True)\n",
              "      (4): MaxPool2d(kernel_size=2, stride=2, padding=0, dilation=1, ceil_mode=False)\n",
              "      (5): Conv2d(64, 128, kernel_size=(3, 3), stride=(1, 1), padding=(1, 1))\n",
              "      (6): ReLU(inplace=True)\n",
              "      (7): Conv2d(128, 128, kernel_size=(3, 3), stride=(1, 1), padding=(1, 1))\n",
              "      (8): ReLU(inplace=True)\n",
              "      (9): MaxPool2d(kernel_size=2, stride=2, padding=0, dilation=1, ceil_mode=False)\n",
              "      (10): Conv2d(128, 256, kernel_size=(3, 3), stride=(1, 1), padding=(1, 1))\n",
              "      (11): ReLU(inplace=True)\n",
              "      (12): Conv2d(256, 256, kernel_size=(3, 3), stride=(1, 1), padding=(1, 1))\n",
              "      (13): ReLU(inplace=True)\n",
              "      (14): Conv2d(256, 256, kernel_size=(3, 3), stride=(1, 1), padding=(1, 1))\n",
              "      (15): ReLU(inplace=True)\n",
              "      (16): MaxPool2d(kernel_size=2, stride=2, padding=0, dilation=1, ceil_mode=False)\n",
              "      (17): Conv2d(256, 512, kernel_size=(3, 3), stride=(1, 1), padding=(1, 1))\n",
              "      (18): ReLU(inplace=True)\n",
              "      (19): Conv2d(512, 512, kernel_size=(3, 3), stride=(1, 1), padding=(1, 1))\n",
              "      (20): ReLU(inplace=True)\n",
              "      (21): Conv2d(512, 512, kernel_size=(3, 3), stride=(1, 1), padding=(1, 1))\n",
              "      (22): ReLU(inplace=True)\n",
              "      (23): MaxPool2d(kernel_size=2, stride=2, padding=0, dilation=1, ceil_mode=False)\n",
              "      (24): Conv2d(512, 512, kernel_size=(3, 3), stride=(1, 1), padding=(1, 1))\n",
              "      (25): ReLU(inplace=True)\n",
              "      (26): Conv2d(512, 512, kernel_size=(3, 3), stride=(1, 1), padding=(1, 1))\n",
              "      (27): ReLU(inplace=True)\n",
              "      (28): Conv2d(512, 512, kernel_size=(3, 3), stride=(1, 1), padding=(1, 1))\n",
              "      (29): ReLU(inplace=True)\n",
              "      (30): MaxPool2d(kernel_size=2, stride=2, padding=0, dilation=1, ceil_mode=False)\n",
              "    )\n",
              "    (avgpool): AdaptiveAvgPool2d(output_size=(7, 7))\n",
              "    (classifier): Sequential(\n",
              "      (0): Linear(in_features=25088, out_features=4096, bias=True)\n",
              "      (1): ReLU(inplace=True)\n",
              "      (2): Dropout(p=0.5, inplace=False)\n",
              "      (3): Linear(in_features=4096, out_features=4096, bias=True)\n",
              "      (4): ReLU(inplace=True)\n",
              "      (5): Dropout(p=0.5, inplace=False)\n",
              "      (6): Linear(in_features=4096, out_features=1000, bias=True)\n",
              "    )\n",
              "  )\n",
              "  (relu_1): ReLU()\n",
              "  (fc_1): Linear(in_features=1000, out_features=512, bias=True)\n",
              "  (relu_2): ReLU()\n",
              "  (fc_2): Linear(in_features=512, out_features=42, bias=True)\n",
              ")"
            ]
          },
          "metadata": {},
          "execution_count": 159
        }
      ]
    },
    {
      "cell_type": "code",
      "source": [
        "for i in fine_tuning_model.parameters():\n",
        "  print(i)"
      ],
      "metadata": {
        "id": "nnz-RYhtcT3X"
      },
      "execution_count": null,
      "outputs": []
    },
    {
      "cell_type": "code",
      "source": [
        "model = model.to(device)\n",
        "\n",
        "criterion = nn.CrossEntropyLoss()\n",
        "optimizer = torch.optim.SGD(model.parameters(), lr=0.01)\n",
        "\n",
        "clf_model, history = train(\n",
        "    model, criterion, optimizer,\n",
        "    train_loader, test_loader,\n",
        "    num_epochs=10\n",
        ")"
      ],
      "metadata": {
        "colab": {
          "base_uri": "https://localhost:8080/",
          "height": 744
        },
        "outputId": "80534e3d-698c-4405-924a-92795f7cd351",
        "id": "WUVP9D5JQKgH"
      },
      "execution_count": null,
      "outputs": [
        {
          "output_type": "display_data",
          "data": {
            "text/plain": [
              "Epoch \u001b[1;36m10\u001b[0m of \u001b[1;36m10\u001b[0m took \u001b[1;36m359.\u001b[0m274s\n"
            ],
            "text/html": [
              "<pre style=\"white-space:pre;overflow-x:auto;line-height:normal;font-family:Menlo,'DejaVu Sans Mono',consolas,'Courier New',monospace\">Epoch <span style=\"color: #008080; text-decoration-color: #008080; font-weight: bold\">10</span> of <span style=\"color: #008080; text-decoration-color: #008080; font-weight: bold\">10</span> took <span style=\"color: #008080; text-decoration-color: #008080; font-weight: bold\">359.</span>274s\n",
              "</pre>\n"
            ]
          },
          "metadata": {}
        },
        {
          "output_type": "display_data",
          "data": {
            "text/plain": [
              "  training loss \u001b[1m(\u001b[0min-iteration\u001b[1m)\u001b[0m:         \u001b[1;36m0.073876\u001b[0m\n"
            ],
            "text/html": [
              "<pre style=\"white-space:pre;overflow-x:auto;line-height:normal;font-family:Menlo,'DejaVu Sans Mono',consolas,'Courier New',monospace\">  training loss <span style=\"font-weight: bold\">(</span>in-iteration<span style=\"font-weight: bold\">)</span>:         <span style=\"color: #008080; text-decoration-color: #008080; font-weight: bold\">0.073876</span>\n",
              "</pre>\n"
            ]
          },
          "metadata": {}
        },
        {
          "output_type": "display_data",
          "data": {
            "text/plain": [
              "  validation loss \u001b[1m(\u001b[0min-iteration\u001b[1m)\u001b[0m:       \u001b[1;36m0.266630\u001b[0m\n"
            ],
            "text/html": [
              "<pre style=\"white-space:pre;overflow-x:auto;line-height:normal;font-family:Menlo,'DejaVu Sans Mono',consolas,'Courier New',monospace\">  validation loss <span style=\"font-weight: bold\">(</span>in-iteration<span style=\"font-weight: bold\">)</span>:       <span style=\"color: #008080; text-decoration-color: #008080; font-weight: bold\">0.266630</span>\n",
              "</pre>\n"
            ]
          },
          "metadata": {}
        },
        {
          "output_type": "display_data",
          "data": {
            "text/plain": [
              "  training accuracy:                    \u001b[1;36m97.85\u001b[0m %\n"
            ],
            "text/html": [
              "<pre style=\"white-space:pre;overflow-x:auto;line-height:normal;font-family:Menlo,'DejaVu Sans Mono',consolas,'Courier New',monospace\">  training accuracy:                    <span style=\"color: #008080; text-decoration-color: #008080; font-weight: bold\">97.85</span> %\n",
              "</pre>\n"
            ]
          },
          "metadata": {}
        },
        {
          "output_type": "display_data",
          "data": {
            "text/plain": [
              "  validation accuracy:                  \u001b[1;36m95.19\u001b[0m %\n"
            ],
            "text/html": [
              "<pre style=\"white-space:pre;overflow-x:auto;line-height:normal;font-family:Menlo,'DejaVu Sans Mono',consolas,'Courier New',monospace\">  validation accuracy:                  <span style=\"color: #008080; text-decoration-color: #008080; font-weight: bold\">95.19</span> %\n",
              "</pre>\n"
            ]
          },
          "metadata": {}
        },
        {
          "output_type": "display_data",
          "data": {
            "text/plain": [
              "<Figure size 2000x700 with 2 Axes>"
            ],
            "image/png": "[encoded data removed]"
          },
          "metadata": {}
        }
      ]
    }
  ],
  "metadata": {
    "colab": {
      "provenance": [],
      "gpuType": "T4"
    },
    "kernelspec": {
      "display_name": "Python 3",
      "name": "python3"
    },
    "accelerator": "GPU"
  },
  "nbformat": 4,
  "nbformat_minor": 0
}