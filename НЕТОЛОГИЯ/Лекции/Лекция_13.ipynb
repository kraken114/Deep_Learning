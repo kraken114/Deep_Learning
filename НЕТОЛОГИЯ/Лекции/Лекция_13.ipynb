{
  "cells": [
    {
      "cell_type": "markdown",
      "metadata": {
        "id": "t9OR--lXOkTT"
      },
      "source": [
        "#### Определения"
      ]
    },
    {
      "cell_type": "code",
      "execution_count": null,
      "metadata": {
        "scrolled": true,
        "id": "u9LN_vxtOkTX",
        "outputId": "1fd44e09-7cf7-4e34-b98d-308a3c02f844"
      },
      "outputs": [
        {
          "name": "stdout",
          "output_type": "stream",
          "text": [
            "Requirement already satisfied: gensim in /home/m_apishev/.pyenv/versions/anaconda3-2021.05/lib/python3.8/site-packages (4.2.0)\n",
            "Requirement already satisfied: numpy>=1.17.0 in /home/m_apishev/.pyenv/versions/anaconda3-2021.05/lib/python3.8/site-packages (from gensim) (1.18.0)\n",
            "Requirement already satisfied: scipy>=0.18.1 in /home/m_apishev/.pyenv/versions/anaconda3-2021.05/lib/python3.8/site-packages (from gensim) (1.4.1)\n",
            "Requirement already satisfied: smart-open>=1.8.1 in /home/m_apishev/.pyenv/versions/anaconda3-2021.05/lib/python3.8/site-packages (from gensim) (5.2.1)\n",
            "\u001b[33mWARNING: There was an error checking the latest version of pip.\u001b[0m\u001b[33m\n",
            "\u001b[0mCollecting compress-fasttext\n",
            "  Downloading compress-fasttext-0.1.3.tar.gz (14 kB)\n",
            "  Preparing metadata (setup.py) ... \u001b[?25ldone\n",
            "\u001b[?25hRequirement already satisfied: gensim>=4.0.0 in /home/m_apishev/.pyenv/versions/anaconda3-2021.05/lib/python3.8/site-packages (from compress-fasttext) (4.2.0)\n",
            "Requirement already satisfied: numpy in /home/m_apishev/.pyenv/versions/anaconda3-2021.05/lib/python3.8/site-packages (from compress-fasttext) (1.18.0)\n",
            "Requirement already satisfied: smart-open>=1.8.1 in /home/m_apishev/.pyenv/versions/anaconda3-2021.05/lib/python3.8/site-packages (from gensim>=4.0.0->compress-fasttext) (5.2.1)\n",
            "Requirement already satisfied: scipy>=0.18.1 in /home/m_apishev/.pyenv/versions/anaconda3-2021.05/lib/python3.8/site-packages (from gensim>=4.0.0->compress-fasttext) (1.4.1)\n",
            "Building wheels for collected packages: compress-fasttext\n",
            "  Building wheel for compress-fasttext (setup.py) ... \u001b[?25ldone\n",
            "\u001b[?25h  Created wheel for compress-fasttext: filename=compress_fasttext-0.1.3-py3-none-any.whl size=14583 sha256=04cbc4dea0a926fb954d9155c32073c2cfb5b3e7ac7e5a974b6abefce065523a\n",
            "  Stored in directory: /home/m_apishev/.cache/pip/wheels/c7/63/9f/39db0410175167cee5eeae4fde2405d957cd05c1d8811a51cf\n",
            "Successfully built compress-fasttext\n",
            "Installing collected packages: compress-fasttext\n",
            "Successfully installed compress-fasttext-0.1.3\n",
            "\u001b[33mWARNING: There was an error checking the latest version of pip.\u001b[0m\u001b[33m\n",
            "\u001b[0m"
          ]
        }
      ],
      "source": [
        "!pip install gensim\n",
        "!pip install compress-fasttext"
      ]
    },
    {
      "cell_type": "code",
      "execution_count": null,
      "metadata": {
        "id": "CUZ63ZRBOkTZ"
      },
      "outputs": [],
      "source": [
        "from gensim import models"
      ]
    },
    {
      "cell_type": "code",
      "execution_count": null,
      "metadata": {
        "id": "OU2QBAOROkTZ",
        "outputId": "54bb5f87-e189-4d9d-dda4-6fdcad941ef3"
      },
      "outputs": [
        {
          "name": "stdout",
          "output_type": "stream",
          "text": [
            "1.0\n",
            "0.0\n",
            "-1.0\n"
          ]
        }
      ],
      "source": [
        "from numpy import dot\n",
        "from numpy.linalg import norm\n",
        "\n",
        "def cos_sim(x, y):\n",
        "    return dot(x, y) / (norm(x) * norm(y))\n",
        "\n",
        "print(cos_sim([1, 0, 0], (1, 0, 0)))\n",
        "print(cos_sim([1, 0, 0], (0, 1, 0)))\n",
        "print(cos_sim([1, 0, 0], (-1, 0, 0)))"
      ]
    },
    {
      "cell_type": "markdown",
      "metadata": {
        "id": "NVoh_X3tOkTa"
      },
      "source": [
        "#### Обучим модель word2vec"
      ]
    },
    {
      "cell_type": "code",
      "execution_count": null,
      "metadata": {
        "id": "f3BuvhZGOkTa"
      },
      "outputs": [],
      "source": [
        "sentences = []\n",
        "with open('rus-ru_web-public_2019_100K-sentences.txt') as fin:\n",
        "    for line in fin:\n",
        "        sentences.append(line.split(' '))"
      ]
    },
    {
      "cell_type": "code",
      "execution_count": null,
      "metadata": {
        "id": "cl1CLHvdOkTb",
        "outputId": "7407b977-6679-420b-8bbb-c426204475dc"
      },
      "outputs": [
        {
          "data": {
            "text/plain": [
              "(4079335, 6874035)"
            ]
          },
          "execution_count": 15,
          "metadata": {},
          "output_type": "execute_result"
        }
      ],
      "source": [
        "model = models.Word2Vec()\n",
        "model.build_vocab(sentences)\n",
        "model.train(sentences, total_examples=model.corpus_count, epochs=model.epochs)"
      ]
    },
    {
      "cell_type": "code",
      "execution_count": null,
      "metadata": {
        "id": "wXSuig9fOkTb",
        "outputId": "75632888-1457-440f-e6e5-2976a527e843"
      },
      "outputs": [
        {
          "name": "stdout",
          "output_type": "stream",
          "text": [
            "0.9710866\n",
            "0.5534083\n",
            "\"Key 'интенет' not present\"\n"
          ]
        }
      ],
      "source": [
        "try:\n",
        "    print(cos_sim(model.wv['сеть'], model.wv['интернет']))\n",
        "    print(cos_sim(model.wv['человек'], model.wv['интернет']))\n",
        "    print(cos_sim(model.wv['интернет'], model.wv['интенет']))\n",
        "except Exception as e:\n",
        "    print(e)"
      ]
    },
    {
      "cell_type": "markdown",
      "metadata": {
        "id": "FYXqCexGOkTc"
      },
      "source": [
        "#### Обучим модель FastText"
      ]
    },
    {
      "cell_type": "code",
      "execution_count": null,
      "metadata": {
        "id": "u7k6j6fuOkTd"
      },
      "outputs": [],
      "source": [
        "model = models.FastText(sentences, sg=1, vector_size=50)"
      ]
    },
    {
      "cell_type": "code",
      "execution_count": null,
      "metadata": {
        "id": "8t8Y1yx_OkTd",
        "outputId": "8a3d4630-9ddb-4f1a-936e-0a463b8a99d7"
      },
      "outputs": [
        {
          "name": "stdout",
          "output_type": "stream",
          "text": [
            "0.60630214\n",
            "0.3068741\n",
            "0.87997293\n"
          ]
        }
      ],
      "source": [
        "try:\n",
        "    print(cos_sim(model.wv['сеть'], model.wv['интернет']))\n",
        "    print(cos_sim(model.wv['человек'], model.wv['интернет']))\n",
        "    print(cos_sim(model.wv['интернет'], model.wv['интенет']))\n",
        "except Exception as e:\n",
        "    print(e)"
      ]
    },
    {
      "cell_type": "markdown",
      "metadata": {
        "id": "qIzTW_qFOkTd"
      },
      "source": [
        "#### Загрузим оптимизированную модель FastText"
      ]
    },
    {
      "cell_type": "code",
      "execution_count": null,
      "metadata": {
        "id": "zQgLYuYnOkTe"
      },
      "outputs": [],
      "source": [
        "import compress_fasttext\n",
        "model = compress_fasttext.models.CompressedFastTextKeyedVectors.load(\n",
        "    'https://github.com/avidale/compress-fasttext/releases/download/gensim-4-draft/geowac_tokens_sg_300_5_2020-100K-20K-100.bin'\n",
        ")"
      ]
    },
    {
      "cell_type": "code",
      "execution_count": null,
      "metadata": {
        "id": "XPpw2K96OkTe",
        "outputId": "88ddd262-e80e-4834-c397-9589ee1be702"
      },
      "outputs": [
        {
          "name": "stdout",
          "output_type": "stream",
          "text": [
            "0.5231468445248225\n",
            "0.27971834039337506\n",
            "0.6044784950143409\n"
          ]
        }
      ],
      "source": [
        "try:\n",
        "    print(cos_sim(model['сеть'], model['интернет']))\n",
        "    print(cos_sim(model['человек'], model['интернет']))\n",
        "    print(cos_sim(model['интернет'], model['интенет']))\n",
        "except Exception as e:\n",
        "    print(e)"
      ]
    },
    {
      "cell_type": "markdown",
      "metadata": {
        "id": "CQXEp0QxOkTe"
      },
      "source": [
        "## Домашнее задание\n",
        "1. Скачать датасет с фразами симпосонов - https://github.com/sujanjoejacob/Text-mining-with-Simpsons-Data\n",
        "2. Обучить FastText/Word2vec на фразах персонажей\n",
        "3. Визуализировать embeddings по самым частотным словам (top 1000)\n",
        "4. Найти самые близкие слова для:\n",
        "  homer - marge + bart\n",
        "  bart - lisa + school\n",
        "  marge - homer + home\n",
        "5. Попробовать построить классификатор bart/lisa с использованием этих эмбеддингов"
      ]
    }
  ],
  "metadata": {
    "colab": {
      "machine_shape": "hm",
      "provenance": []
    },
    "kernelspec": {
      "display_name": "Python 3",
      "language": "python",
      "name": "python3"
    },
    "language_info": {
      "codemirror_mode": {
        "name": "ipython",
        "version": 3
      },
      "file_extension": ".py",
      "mimetype": "text/x-python",
      "name": "python",
      "nbconvert_exporter": "python",
      "pygments_lexer": "ipython3",
      "version": "3.8.8"
    }
  },
  "nbformat": 4,
  "nbformat_minor": 0
}