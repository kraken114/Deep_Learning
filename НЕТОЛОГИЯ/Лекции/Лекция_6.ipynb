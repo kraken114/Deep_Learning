{
  "cells": [
    {
      "cell_type": "code",
      "execution_count": null,
      "metadata": {
        "ExecuteTime": {
          "end_time": "2020-03-12T15:11:51.143288Z",
          "start_time": "2020-03-12T15:11:49.649354Z"
        },
        "id": "ZD-xeFqDJO4F"
      },
      "outputs": [],
      "source": [
        "import pandas as pd\n",
        "import time\n",
        "import torch"
      ]
    },
    {
      "cell_type": "markdown",
      "metadata": {
        "id": "_MFfegQrJO4M"
      },
      "source": [
        "## Загрузка данных"
      ]
    },
    {
      "cell_type": "code",
      "execution_count": null,
      "metadata": {
        "id": "yQ8iWHEOSW0K"
      },
      "outputs": [],
      "source": [
        "from google.colab import drive"
      ]
    },
    {
      "cell_type": "code",
      "source": [
        "drive.mount('/content/gdrive')"
      ],
      "metadata": {
        "colab": {
          "base_uri": "https://localhost:8080/"
        },
        "id": "DPlQLwLOSssv",
        "outputId": "58f441b0-3388-4eeb-ce14-d339d791edcc"
      },
      "execution_count": null,
      "outputs": [
        {
          "output_type": "stream",
          "name": "stdout",
          "text": [
            "Mounted at /content/gdrive\n"
          ]
        }
      ]
    },
    {
      "cell_type": "code",
      "source": [
        "import os"
      ],
      "metadata": {
        "id": "iOWKTenHWZML"
      },
      "execution_count": null,
      "outputs": []
    },
    {
      "cell_type": "code",
      "source": [
        "os.chdir('/content/gdrive/MyDrive/Colab Notebooks/DOM')"
      ],
      "metadata": {
        "id": "7ppcdwIACr88"
      },
      "execution_count": null,
      "outputs": []
    },
    {
      "cell_type": "code",
      "execution_count": null,
      "metadata": {
        "ExecuteTime": {
          "end_time": "2020-03-12T15:12:00.685533Z",
          "start_time": "2020-03-12T15:12:00.591616Z"
        },
        "colab": {
          "base_uri": "https://localhost:8080/",
          "height": 652
        },
        "id": "c0rf8UTcJO4P",
        "outputId": "642888f6-989e-402b-8df8-c3bca602b147"
      },
      "outputs": [
        {
          "output_type": "execute_result",
          "data": {
            "text/plain": [
              "   Unnamed: 0     id  episode_id  number  \\\n",
              "0           0  10368          35      29   \n",
              "1           1  10369          35      30   \n",
              "2           2  10370          35      31   \n",
              "3           3  10372          35      33   \n",
              "4           4  10374          35      35   \n",
              "\n",
              "                                            raw_text  timestamp_in_ms  \\\n",
              "0           Lisa Simpson: Maggie, look. What's that?           235000   \n",
              "1                    Lisa Simpson: Lee-mur. Lee-mur.           237000   \n",
              "2                    Lisa Simpson: Zee-boo. Zee-boo.           239000   \n",
              "3  Lisa Simpson: I'm trying to teach Maggie that ...           245000   \n",
              "4  Lisa Simpson: It's like an ox, only it has a h...           254000   \n",
              "\n",
              "   speaking_line  character_id  location_id raw_character_text  \\\n",
              "0           True             9          5.0       Lisa Simpson   \n",
              "1           True             9          5.0       Lisa Simpson   \n",
              "2           True             9          5.0       Lisa Simpson   \n",
              "3           True             9          5.0       Lisa Simpson   \n",
              "4           True             9          5.0       Lisa Simpson   \n",
              "\n",
              "  raw_location_text                                       spoken_words  \\\n",
              "0      Simpson Home                         Maggie, look. What's that?   \n",
              "1      Simpson Home                                  Lee-mur. Lee-mur.   \n",
              "2      Simpson Home                                  Zee-boo. Zee-boo.   \n",
              "3      Simpson Home  I'm trying to teach Maggie that nature doesn't...   \n",
              "4      Simpson Home  It's like an ox, only it has a hump and a dewl...   \n",
              "\n",
              "                                     normalized_text  word_count  \n",
              "0                             maggie look whats that         4.0  \n",
              "1                                    lee-mur lee-mur         2.0  \n",
              "2                                    zee-boo zee-boo         2.0  \n",
              "3  im trying to teach maggie that nature doesnt e...        24.0  \n",
              "4  its like an ox only it has a hump and a dewlap...        18.0  "
            ],
            "text/html": [
              "\n",
              "  <div id=\"df-1cfa1aa4-4e11-483e-9f4d-0c8ade625639\">\n",
              "    <div class=\"colab-df-container\">\n",
              "      <div>\n",
              "<style scoped>\n",
              "    .dataframe tbody tr th:only-of-type {\n",
              "        vertical-align: middle;\n",
              "    }\n",
              "\n",
              "    .dataframe tbody tr th {\n",
              "        vertical-align: top;\n",
              "    }\n",
              "\n",
              "    .dataframe thead th {\n",
              "        text-align: right;\n",
              "    }\n",
              "</style>\n",
              "<table border=\"1\" class=\"dataframe\">\n",
              "  <thead>\n",
              "    <tr style=\"text-align: right;\">\n",
              "      <th></th>\n",
              "      <th>Unnamed: 0</th>\n",
              "      <th>id</th>\n",
              "      <th>episode_id</th>\n",
              "      <th>number</th>\n",
              "      <th>raw_text</th>\n",
              "      <th>timestamp_in_ms</th>\n",
              "      <th>speaking_line</th>\n",
              "      <th>character_id</th>\n",
              "      <th>location_id</th>\n",
              "      <th>raw_character_text</th>\n",
              "      <th>raw_location_text</th>\n",
              "      <th>spoken_words</th>\n",
              "      <th>normalized_text</th>\n",
              "      <th>word_count</th>\n",
              "    </tr>\n",
              "  </thead>\n",
              "  <tbody>\n",
              "    <tr>\n",
              "      <th>0</th>\n",
              "      <td>0</td>\n",
              "      <td>10368</td>\n",
              "      <td>35</td>\n",
              "      <td>29</td>\n",
              "      <td>Lisa Simpson: Maggie, look. What's that?</td>\n",
              "      <td>235000</td>\n",
              "      <td>True</td>\n",
              "      <td>9</td>\n",
              "      <td>5.0</td>\n",
              "      <td>Lisa Simpson</td>\n",
              "      <td>Simpson Home</td>\n",
              "      <td>Maggie, look. What's that?</td>\n",
              "      <td>maggie look whats that</td>\n",
              "      <td>4.0</td>\n",
              "    </tr>\n",
              "    <tr>\n",
              "      <th>1</th>\n",
              "      <td>1</td>\n",
              "      <td>10369</td>\n",
              "      <td>35</td>\n",
              "      <td>30</td>\n",
              "      <td>Lisa Simpson: Lee-mur. Lee-mur.</td>\n",
              "      <td>237000</td>\n",
              "      <td>True</td>\n",
              "      <td>9</td>\n",
              "      <td>5.0</td>\n",
              "      <td>Lisa Simpson</td>\n",
              "      <td>Simpson Home</td>\n",
              "      <td>Lee-mur. Lee-mur.</td>\n",
              "      <td>lee-mur lee-mur</td>\n",
              "      <td>2.0</td>\n",
              "    </tr>\n",
              "    <tr>\n",
              "      <th>2</th>\n",
              "      <td>2</td>\n",
              "      <td>10370</td>\n",
              "      <td>35</td>\n",
              "      <td>31</td>\n",
              "      <td>Lisa Simpson: Zee-boo. Zee-boo.</td>\n",
              "      <td>239000</td>\n",
              "      <td>True</td>\n",
              "      <td>9</td>\n",
              "      <td>5.0</td>\n",
              "      <td>Lisa Simpson</td>\n",
              "      <td>Simpson Home</td>\n",
              "      <td>Zee-boo. Zee-boo.</td>\n",
              "      <td>zee-boo zee-boo</td>\n",
              "      <td>2.0</td>\n",
              "    </tr>\n",
              "    <tr>\n",
              "      <th>3</th>\n",
              "      <td>3</td>\n",
              "      <td>10372</td>\n",
              "      <td>35</td>\n",
              "      <td>33</td>\n",
              "      <td>Lisa Simpson: I'm trying to teach Maggie that ...</td>\n",
              "      <td>245000</td>\n",
              "      <td>True</td>\n",
              "      <td>9</td>\n",
              "      <td>5.0</td>\n",
              "      <td>Lisa Simpson</td>\n",
              "      <td>Simpson Home</td>\n",
              "      <td>I'm trying to teach Maggie that nature doesn't...</td>\n",
              "      <td>im trying to teach maggie that nature doesnt e...</td>\n",
              "      <td>24.0</td>\n",
              "    </tr>\n",
              "    <tr>\n",
              "      <th>4</th>\n",
              "      <td>4</td>\n",
              "      <td>10374</td>\n",
              "      <td>35</td>\n",
              "      <td>35</td>\n",
              "      <td>Lisa Simpson: It's like an ox, only it has a h...</td>\n",
              "      <td>254000</td>\n",
              "      <td>True</td>\n",
              "      <td>9</td>\n",
              "      <td>5.0</td>\n",
              "      <td>Lisa Simpson</td>\n",
              "      <td>Simpson Home</td>\n",
              "      <td>It's like an ox, only it has a hump and a dewl...</td>\n",
              "      <td>its like an ox only it has a hump and a dewlap...</td>\n",
              "      <td>18.0</td>\n",
              "    </tr>\n",
              "  </tbody>\n",
              "</table>\n",
              "</div>\n",
              "      <button class=\"colab-df-convert\" onclick=\"convertToInteractive('df-1cfa1aa4-4e11-483e-9f4d-0c8ade625639')\"\n",
              "              title=\"Convert this dataframe to an interactive table.\"\n",
              "              style=\"display:none;\">\n",
              "        \n",
              "  <svg xmlns=\"http://www.w3.org/2000/svg\" height=\"24px\"viewBox=\"0 0 24 24\"\n",
              "       width=\"24px\">\n",
              "    <path d=\"M0 0h24v24H0V0z\" fill=\"none\"/>\n",
              "    <path d=\"M18.56 5.44l.94 2.06.94-2.06 2.06-.94-2.06-.94-.94-2.06-.94 2.06-2.06.94zm-11 1L8.5 8.5l.94-2.06 2.06-.94-2.06-.94L8.5 2.5l-.94 2.06-2.06.94zm10 10l.94 2.06.94-2.06 2.06-.94-2.06-.94-.94-2.06-.94 2.06-2.06.94z\"/><path d=\"M17.41 7.96l-1.37-1.37c-.4-.4-.92-.59-1.43-.59-.52 0-1.04.2-1.43.59L10.3 9.45l-7.72 7.72c-.78.78-.78 2.05 0 2.83L4 21.41c.39.39.9.59 1.41.59.51 0 1.02-.2 1.41-.59l7.78-7.78 2.81-2.81c.8-.78.8-2.07 0-2.86zM5.41 20L4 18.59l7.72-7.72 1.47 1.35L5.41 20z\"/>\n",
              "  </svg>\n",
              "      </button>\n",
              "      \n",
              "  <style>\n",
              "    .colab-df-container {\n",
              "      display:flex;\n",
              "      flex-wrap:wrap;\n",
              "      gap: 12px;\n",
              "    }\n",
              "\n",
              "    .colab-df-convert {\n",
              "      background-color: #E8F0FE;\n",
              "      border: none;\n",
              "      border-radius: 50%;\n",
              "      cursor: pointer;\n",
              "      display: none;\n",
              "      fill: #1967D2;\n",
              "      height: 32px;\n",
              "      padding: 0 0 0 0;\n",
              "      width: 32px;\n",
              "    }\n",
              "\n",
              "    .colab-df-convert:hover {\n",
              "      background-color: #E2EBFA;\n",
              "      box-shadow: 0px 1px 2px rgba(60, 64, 67, 0.3), 0px 1px 3px 1px rgba(60, 64, 67, 0.15);\n",
              "      fill: #174EA6;\n",
              "    }\n",
              "\n",
              "    [theme=dark] .colab-df-convert {\n",
              "      background-color: #3B4455;\n",
              "      fill: #D2E3FC;\n",
              "    }\n",
              "\n",
              "    [theme=dark] .colab-df-convert:hover {\n",
              "      background-color: #434B5C;\n",
              "      box-shadow: 0px 1px 3px 1px rgba(0, 0, 0, 0.15);\n",
              "      filter: drop-shadow(0px 1px 2px rgba(0, 0, 0, 0.3));\n",
              "      fill: #FFFFFF;\n",
              "    }\n",
              "  </style>\n",
              "\n",
              "      <script>\n",
              "        const buttonEl =\n",
              "          document.querySelector('#df-1cfa1aa4-4e11-483e-9f4d-0c8ade625639 button.colab-df-convert');\n",
              "        buttonEl.style.display =\n",
              "          google.colab.kernel.accessAllowed ? 'block' : 'none';\n",
              "\n",
              "        async function convertToInteractive(key) {\n",
              "          const element = document.querySelector('#df-1cfa1aa4-4e11-483e-9f4d-0c8ade625639');\n",
              "          const dataTable =\n",
              "            await google.colab.kernel.invokeFunction('convertToInteractive',\n",
              "                                                     [key], {});\n",
              "          if (!dataTable) return;\n",
              "\n",
              "          const docLinkHtml = 'Like what you see? Visit the ' +\n",
              "            '<a target=\"_blank\" href=https://colab.research.google.com/notebooks/data_table.ipynb>data table notebook</a>'\n",
              "            + ' to learn more about interactive tables.';\n",
              "          element.innerHTML = '';\n",
              "          dataTable['output_type'] = 'display_data';\n",
              "          await google.colab.output.renderOutput(dataTable, element);\n",
              "          const docLink = document.createElement('div');\n",
              "          docLink.innerHTML = docLinkHtml;\n",
              "          element.appendChild(docLink);\n",
              "        }\n",
              "      </script>\n",
              "    </div>\n",
              "  </div>\n",
              "  "
            ]
          },
          "metadata": {},
          "execution_count": 9
        }
      ],
      "source": [
        "df = pd.read_csv('/content/gdrive/MyDrive/Colab Notebooks/DOM/data.csv')\n",
        "df.head()"
      ]
    },
    {
      "cell_type": "code",
      "execution_count": null,
      "metadata": {
        "ExecuteTime": {
          "end_time": "2020-03-12T15:12:15.820742Z",
          "start_time": "2020-03-12T15:12:15.809523Z"
        },
        "colab": {
          "base_uri": "https://localhost:8080/"
        },
        "id": "UDbrQjduJO4S",
        "outputId": "aa4b7ec9-aac3-4fe7-b6bc-85a648bdea44"
      },
      "outputs": [
        {
          "output_type": "execute_result",
          "data": {
            "text/plain": [
              "['maggie look whats that',\n",
              " 'lee-mur lee-mur',\n",
              " 'zee-boo zee-boo',\n",
              " 'im trying to teach maggie that nature doesnt end with the barnyard i want her to have all the advantages that i didnt have',\n",
              " 'its like an ox only it has a hump and a dewlap hump and dew-lap hump and dew-lap',\n",
              " 'you know his blood type how romantic',\n",
              " 'oh yeah whats my shoe size',\n",
              " 'ring',\n",
              " 'yes dad',\n",
              " 'ooh look maggie what is that do-dec-ah-edron dodecahedron']"
            ]
          },
          "metadata": {},
          "execution_count": 10
        }
      ],
      "source": [
        "phrases = df['normalized_text'].tolist()\n",
        "phrases[:10]"
      ]
    },
    {
      "cell_type": "code",
      "execution_count": null,
      "metadata": {
        "ExecuteTime": {
          "end_time": "2020-03-12T15:12:32.809563Z",
          "start_time": "2020-03-12T15:12:32.768140Z"
        },
        "id": "NNsLUW2NJO4T"
      },
      "outputs": [],
      "source": [
        "text = [[c for c in ph] for ph in phrases if type(ph) is str]"
      ]
    },
    {
      "cell_type": "code",
      "source": [
        "text"
      ],
      "metadata": {
        "id": "rr5Nrq61K0qQ"
      },
      "execution_count": null,
      "outputs": []
    },
    {
      "cell_type": "markdown",
      "metadata": {
        "id": "N1bpISERJO4U"
      },
      "source": [
        "## Делаем массив с данными"
      ]
    },
    {
      "cell_type": "code",
      "execution_count": null,
      "metadata": {
        "ExecuteTime": {
          "end_time": "2020-03-12T15:12:53.641351Z",
          "start_time": "2020-03-12T15:12:53.636757Z"
        },
        "id": "ho1nJuWlJO4V"
      },
      "outputs": [],
      "source": [
        "CHARS = set('abcdefghijklmnopqrstuvwxyz ')\n",
        "INDEX_TO_CHAR = ['none'] + [w for w in CHARS]\n",
        "CHAR_TO_INDEX = {w: i for i, w in enumerate(INDEX_TO_CHAR)}"
      ]
    },
    {
      "cell_type": "code",
      "execution_count": null,
      "metadata": {
        "ExecuteTime": {
          "end_time": "2020-03-12T15:13:58.918002Z",
          "start_time": "2020-03-12T15:13:55.602551Z"
        },
        "id": "AQDbUyDeJO4W"
      },
      "outputs": [],
      "source": [
        "MAX_LEN = 50\n",
        "X = torch.zeros((len(text), MAX_LEN), dtype=int)\n",
        "for i in range(len(text)):\n",
        "    for j, w in enumerate(text[i]):\n",
        "        if j >= MAX_LEN:\n",
        "            break\n",
        "        X[i, j] = CHAR_TO_INDEX.get(w, CHAR_TO_INDEX['none'])"
      ]
    },
    {
      "cell_type": "code",
      "source": [
        "X"
      ],
      "metadata": {
        "colab": {
          "base_uri": "https://localhost:8080/"
        },
        "id": "z2F6t68lK47E",
        "outputId": "f9e31a36-ed66-4657-b022-14776f58eb56"
      },
      "execution_count": null,
      "outputs": [
        {
          "output_type": "execute_result",
          "data": {
            "text/plain": [
              "tensor([[10, 17,  7,  ...,  0,  0,  0],\n",
              "        [25, 24, 24,  ...,  0,  0,  0],\n",
              "        [16, 24, 24,  ...,  0,  0,  0],\n",
              "        ...,\n",
              "        [12, 18,  5,  ...,  0,  0,  0],\n",
              "        [10, 17,  6,  ...,  1, 25, 24],\n",
              "        [17, 12,  1,  ...,  0,  0,  0]])"
            ]
          },
          "metadata": {},
          "execution_count": 15
        }
      ]
    },
    {
      "cell_type": "code",
      "execution_count": null,
      "metadata": {
        "ExecuteTime": {
          "end_time": "2020-03-12T15:14:24.776980Z",
          "start_time": "2020-03-12T15:14:24.761649Z"
        },
        "scrolled": true,
        "colab": {
          "base_uri": "https://localhost:8080/"
        },
        "id": "D5Ek47ipJO4X",
        "outputId": "358b7c79-b4d6-4a1d-c9f5-a1306e458b36"
      },
      "outputs": [
        {
          "output_type": "execute_result",
          "data": {
            "text/plain": [
              "tensor([[10, 17,  7,  7, 14, 24,  1, 25, 18, 18,  2,  1,  5, 12, 17,  8, 19,  1,\n",
              "          8, 12, 17,  8,  0,  0,  0,  0,  0,  0,  0,  0,  0,  0,  0,  0,  0,  0,\n",
              "          0,  0,  0,  0,  0,  0,  0,  0,  0,  0,  0,  0,  0,  0],\n",
              "        [25, 24, 24,  0, 10,  3,  9,  1, 25, 24, 24,  0, 10,  3,  9,  0,  0,  0,\n",
              "          0,  0,  0,  0,  0,  0,  0,  0,  0,  0,  0,  0,  0,  0,  0,  0,  0,  0,\n",
              "          0,  0,  0,  0,  0,  0,  0,  0,  0,  0,  0,  0,  0,  0],\n",
              "        [16, 24, 24,  0, 15, 18, 18,  1, 16, 24, 24,  0, 15, 18, 18,  0,  0,  0,\n",
              "          0,  0,  0,  0,  0,  0,  0,  0,  0,  0,  0,  0,  0,  0,  0,  0,  0,  0,\n",
              "          0,  0,  0,  0,  0,  0,  0,  0,  0,  0,  0,  0,  0,  0],\n",
              "        [14, 10,  1,  8,  9,  6, 14, 20,  7,  1,  8, 18,  1,  8, 24, 17, 27, 12,\n",
              "          1, 10, 17,  7,  7, 14, 24,  1,  8, 12, 17,  8,  1, 20, 17,  8,  3,  9,\n",
              "         24,  1,  4, 18, 24, 19, 20,  8,  1, 24, 20,  4,  1,  5],\n",
              "        [14,  8, 19,  1, 25, 14,  2, 24,  1, 17, 20,  1, 18, 22,  1, 18, 20, 25,\n",
              "          6,  1, 14,  8,  1, 12, 17, 19,  1, 17,  1, 12,  3, 10, 26,  1, 17, 20,\n",
              "          4,  1, 17,  1,  4, 24,  5, 25, 17, 26,  1, 12,  3, 10],\n",
              "        [ 6, 18,  3,  1,  2, 20, 18,  5,  1, 12, 14, 19,  1, 15, 25, 18, 18,  4,\n",
              "          1,  8,  6, 26, 24,  1, 12, 18,  5,  1,  9, 18, 10, 17, 20,  8, 14, 27,\n",
              "          0,  0,  0,  0,  0,  0,  0,  0,  0,  0,  0,  0,  0,  0],\n",
              "        [18, 12,  1,  6, 24, 17, 12,  1,  5, 12, 17,  8, 19,  1, 10,  6,  1, 19,\n",
              "         12, 18, 24,  1, 19, 14, 16, 24,  0,  0,  0,  0,  0,  0,  0,  0,  0,  0,\n",
              "          0,  0,  0,  0,  0,  0,  0,  0,  0,  0,  0,  0,  0,  0],\n",
              "        [ 9, 14, 20,  7,  0,  0,  0,  0,  0,  0,  0,  0,  0,  0,  0,  0,  0,  0,\n",
              "          0,  0,  0,  0,  0,  0,  0,  0,  0,  0,  0,  0,  0,  0,  0,  0,  0,  0,\n",
              "          0,  0,  0,  0,  0,  0,  0,  0,  0,  0,  0,  0,  0,  0],\n",
              "        [ 6, 24, 19,  1,  4, 17,  4,  0,  0,  0,  0,  0,  0,  0,  0,  0,  0,  0,\n",
              "          0,  0,  0,  0,  0,  0,  0,  0,  0,  0,  0,  0,  0,  0,  0,  0,  0,  0,\n",
              "          0,  0,  0,  0,  0,  0,  0,  0,  0,  0,  0,  0,  0,  0],\n",
              "        [18, 18, 12,  1, 25, 18, 18,  2,  1, 10, 17,  7,  7, 14, 24,  1,  5, 12,\n",
              "         17,  8,  1, 14, 19,  1,  8, 12, 17,  8,  1,  4, 18,  0,  4, 24, 27,  0,\n",
              "         17, 12,  0, 24,  4,  9, 18, 20,  1,  4, 18,  4, 24, 27]])"
            ]
          },
          "metadata": {},
          "execution_count": 16
        }
      ],
      "source": [
        "X[0:10]"
      ]
    },
    {
      "cell_type": "markdown",
      "metadata": {
        "id": "S20sfRpNJO4Y"
      },
      "source": [
        "## Смотрим на Embedding и RNN ячейку"
      ]
    },
    {
      "cell_type": "code",
      "execution_count": null,
      "metadata": {
        "ExecuteTime": {
          "end_time": "2020-03-12T15:14:15.694973Z",
          "start_time": "2020-03-12T15:14:15.644024Z"
        },
        "colab": {
          "base_uri": "https://localhost:8080/"
        },
        "id": "2nJ5Ar96JO4Z",
        "outputId": "fe4a10c2-988f-46f2-e0cb-43361e4551ca"
      },
      "outputs": [
        {
          "output_type": "execute_result",
          "data": {
            "text/plain": [
              "tensor([[[-0.8222, -0.1234,  2.4529,  ...,  1.6618,  0.6998,  0.5379],\n",
              "         [-0.5747,  0.1099, -1.4984,  ...,  0.0715,  0.0418,  0.9572],\n",
              "         [-0.4877,  0.4031, -0.6675,  ...,  0.1007, -0.3329, -0.3449],\n",
              "         ...,\n",
              "         [-1.4643,  0.2894,  0.4800,  ...,  0.4564, -0.7993, -0.9643],\n",
              "         [-1.4643,  0.2894,  0.4800,  ...,  0.4564, -0.7993, -0.9643],\n",
              "         [-1.4643,  0.2894,  0.4800,  ...,  0.4564, -0.7993, -0.9643]],\n",
              "\n",
              "        [[-0.6488, -2.0182,  0.3656,  ...,  0.0942,  0.1013, -0.7067],\n",
              "         [ 0.9187, -1.1078,  1.1648,  ..., -1.6011, -0.4873,  0.7884],\n",
              "         [ 0.9187, -1.1078,  1.1648,  ..., -1.6011, -0.4873,  0.7884],\n",
              "         ...,\n",
              "         [-1.4643,  0.2894,  0.4800,  ...,  0.4564, -0.7993, -0.9643],\n",
              "         [-1.4643,  0.2894,  0.4800,  ...,  0.4564, -0.7993, -0.9643],\n",
              "         [-1.4643,  0.2894,  0.4800,  ...,  0.4564, -0.7993, -0.9643]],\n",
              "\n",
              "        [[-0.4694,  0.5889, -0.0547,  ..., -0.2474, -0.1614, -0.0670],\n",
              "         [ 0.9187, -1.1078,  1.1648,  ..., -1.6011, -0.4873,  0.7884],\n",
              "         [ 0.9187, -1.1078,  1.1648,  ..., -1.6011, -0.4873,  0.7884],\n",
              "         ...,\n",
              "         [-1.4643,  0.2894,  0.4800,  ...,  0.4564, -0.7993, -0.9643],\n",
              "         [-1.4643,  0.2894,  0.4800,  ...,  0.4564, -0.7993, -0.9643],\n",
              "         [-1.4643,  0.2894,  0.4800,  ...,  0.4564, -0.7993, -0.9643]],\n",
              "\n",
              "        ...,\n",
              "\n",
              "        [[-0.2787, -0.1045,  0.3463,  ...,  0.6410,  0.6218, -0.3530],\n",
              "         [ 0.8309, -0.4887,  0.4979,  ...,  0.0758,  0.1976, -0.5550],\n",
              "         [ 1.3415, -1.4264, -1.1439,  ...,  0.3076, -0.2036, -1.0490],\n",
              "         ...,\n",
              "         [-1.4643,  0.2894,  0.4800,  ...,  0.4564, -0.7993, -0.9643],\n",
              "         [-1.4643,  0.2894,  0.4800,  ...,  0.4564, -0.7993, -0.9643],\n",
              "         [-1.4643,  0.2894,  0.4800,  ...,  0.4564, -0.7993, -0.9643]],\n",
              "\n",
              "        [[-0.2418,  1.7565, -0.5616,  ..., -2.0751,  2.0119,  0.5129],\n",
              "         [ 0.9187, -1.1078,  1.1648,  ..., -1.6011, -0.4873,  0.7884],\n",
              "         [ 0.0348,  0.3337,  1.2618,  ...,  0.7179,  0.9624, -1.2575],\n",
              "         ...,\n",
              "         [-1.4643,  0.2894,  0.4800,  ...,  0.4564, -0.7993, -0.9643],\n",
              "         [-1.4643,  0.2894,  0.4800,  ...,  0.4564, -0.7993, -0.9643],\n",
              "         [-1.4643,  0.2894,  0.4800,  ...,  0.4564, -0.7993, -0.9643]],\n",
              "\n",
              "        [[ 1.3361, -0.5524,  0.0178,  ..., -0.1434, -1.1066,  1.1294],\n",
              "         [ 1.3361, -0.5524,  0.0178,  ..., -0.1434, -1.1066,  1.1294],\n",
              "         [ 0.4557, -0.3171, -1.3119,  ..., -0.9085, -0.1177, -0.5960],\n",
              "         ...,\n",
              "         [-0.9631, -0.6873, -1.7401,  ...,  0.2062,  1.2641, -1.6431],\n",
              "         [ 0.9187, -1.1078,  1.1648,  ..., -1.6011, -0.4873,  0.7884],\n",
              "         [-0.1030,  1.0337,  0.0606,  ..., -0.5038,  1.2212,  0.6893]]],\n",
              "       grad_fn=<EmbeddingBackward0>)"
            ]
          },
          "metadata": {},
          "execution_count": 17
        }
      ],
      "source": [
        "embeddings = torch.nn.Embedding(len(INDEX_TO_CHAR), 28)\n",
        "t = embeddings(X[0:10])\n",
        "t"
      ]
    },
    {
      "cell_type": "code",
      "execution_count": null,
      "metadata": {
        "ExecuteTime": {
          "end_time": "2020-03-12T15:14:48.405046Z",
          "start_time": "2020-03-12T15:14:48.400041Z"
        },
        "colab": {
          "base_uri": "https://localhost:8080/"
        },
        "id": "tbT-fnGJJO4a",
        "outputId": "d244276b-a57c-4b3a-8091-f9b1696b108b"
      },
      "outputs": [
        {
          "output_type": "execute_result",
          "data": {
            "text/plain": [
              "(torch.Size([10, 50, 28]), torch.Size([10, 50]))"
            ]
          },
          "metadata": {},
          "execution_count": 18
        }
      ],
      "source": [
        "t.shape, X[0:10].shape"
      ]
    },
    {
      "cell_type": "code",
      "execution_count": null,
      "metadata": {
        "ExecuteTime": {
          "end_time": "2020-03-12T15:18:23.190978Z",
          "start_time": "2020-03-12T15:18:23.180493Z"
        },
        "colab": {
          "base_uri": "https://localhost:8080/"
        },
        "id": "i9b_YR0LJO4b",
        "outputId": "e429a84b-65d9-4012-9208-57993b56aed5"
      },
      "outputs": [
        {
          "output_type": "execute_result",
          "data": {
            "text/plain": [
              "(torch.Size([10, 50, 128]), torch.Size([1, 10, 128]))"
            ]
          },
          "metadata": {},
          "execution_count": 19
        }
      ],
      "source": [
        "rnn = torch.nn.RNN(28, 128, batch_first=True)\n",
        "o, s = rnn(t)\n",
        "o.shape, s.shape"
      ]
    },
    {
      "cell_type": "code",
      "execution_count": null,
      "metadata": {
        "ExecuteTime": {
          "end_time": "2020-03-12T15:18:35.190131Z",
          "start_time": "2020-03-12T15:18:35.180708Z"
        },
        "colab": {
          "base_uri": "https://localhost:8080/"
        },
        "id": "UUFsooT3JO4b",
        "outputId": "9d6673a9-8c36-472b-fe22-27643a6bec55"
      },
      "outputs": [
        {
          "output_type": "execute_result",
          "data": {
            "text/plain": [
              "(torch.Size([10, 50, 128]), torch.Size([1, 10, 128]))"
            ]
          },
          "metadata": {},
          "execution_count": 20
        }
      ],
      "source": [
        "o, s2 = rnn(t, s)\n",
        "o.shape, s2.shape"
      ]
    },
    {
      "cell_type": "markdown",
      "metadata": {
        "id": "HeF6b75RJO4c"
      },
      "source": [
        "## Практика. Реализуйте код модели нейронной сети\n",
        "3 слоя - embeding (28), скрытая ячейка (128), полносвязанный из состояния rnn в букву (28)"
      ]
    },
    {
      "cell_type": "code",
      "execution_count": null,
      "metadata": {
        "ExecuteTime": {
          "end_time": "2020-03-12T15:26:45.716418Z",
          "start_time": "2020-03-12T15:26:45.710937Z"
        },
        "id": "v5h6LEUwJO4c"
      },
      "outputs": [],
      "source": [
        "class Network(torch.nn.Module):\n",
        "    def __init__(self):\n",
        "        super(Network, self).__init__()\n",
        "        ## Здесь создать слои\n",
        "\n",
        "    def forward(self, sentences, state=None):\n",
        "        ## Здесь применить"
      ]
    },
    {
      "cell_type": "code",
      "execution_count": null,
      "metadata": {
        "ExecuteTime": {
          "end_time": "2020-03-12T15:20:53.260599Z",
          "start_time": "2020-03-12T15:20:53.256979Z"
        },
        "id": "z4n85YInJO4d"
      },
      "outputs": [],
      "source": [
        "model = Network()"
      ]
    },
    {
      "cell_type": "code",
      "execution_count": null,
      "metadata": {
        "ExecuteTime": {
          "end_time": "2020-03-12T15:21:01.929404Z",
          "start_time": "2020-03-12T15:21:01.925999Z"
        },
        "id": "xD7WUrGWJO4e"
      },
      "outputs": [],
      "source": [
        "criterion = torch.nn.CrossEntropyLoss()\n",
        "optimizer = torch.optim.SGD(model.parameters(), lr=.05)"
      ]
    },
    {
      "cell_type": "code",
      "execution_count": null,
      "metadata": {
        "ExecuteTime": {
          "end_time": "2020-03-12T15:22:04.410583Z",
          "start_time": "2020-03-12T15:21:34.734119Z"
        },
        "scrolled": true,
        "id": "kLrOMj80JO4f",
        "outputId": "906cf640-39a7-4833-a8a0-210ab227e62f"
      },
      "outputs": [
        {
          "name": "stdout",
          "output_type": "stream",
          "text": [
            "Epoch 0. Time: 2.759, Train loss: 1.718\n",
            "Epoch 1. Time: 2.738, Train loss: 1.680\n",
            "Epoch 2. Time: 2.721, Train loss: 1.651\n",
            "Epoch 3. Time: 2.733, Train loss: 1.628\n",
            "Epoch 4. Time: 2.942, Train loss: 1.609\n",
            "Epoch 5. Time: 2.897, Train loss: 1.593\n",
            "Epoch 6. Time: 3.366, Train loss: 1.578\n",
            "Epoch 7. Time: 3.656, Train loss: 1.564\n",
            "Epoch 8. Time: 2.883, Train loss: 1.552\n",
            "Epoch 9. Time: 2.974, Train loss: 1.540\n"
          ]
        }
      ],
      "source": [
        "for ep in range(10):\n",
        "    start = time.time()\n",
        "    train_loss = 0.\n",
        "    train_passed = 0\n",
        "\n",
        "    for i in range(int(len(X) / 100)):\n",
        "        batch = X[i * 100:(i + 1) * 100]\n",
        "        X_batch = batch[:, :-1]\n",
        "        Y_batch = batch[:, 1:].flatten()\n",
        "\n",
        "        optimizer.zero_grad()\n",
        "        answers, _ = model.forward(X_batch)\n",
        "        answers = answers.view(-1, len(INDEX_TO_CHAR))\n",
        "        loss = criterion(answers, Y_batch)\n",
        "        train_loss += loss.item()\n",
        "\n",
        "        loss.backward()\n",
        "        optimizer.step()\n",
        "        train_passed += 1\n",
        "\n",
        "    print(\"Epoch {}. Time: {:.3f}, Train loss: {:.3f}\".format(ep, time.time() - start, train_loss / train_passed))"
      ]
    },
    {
      "cell_type": "markdown",
      "metadata": {
        "ExecuteTime": {
          "end_time": "2020-03-12T15:28:40.363097Z",
          "start_time": "2020-03-12T15:28:40.357998Z"
        },
        "id": "_PiK7z3gJO4g"
      },
      "source": [
        "## Практика. Реализуйте код генерации следующей буквы на основе модели\n",
        "Логика такая:\n",
        "    - Сначала кормим в нее буквы из sentence (прогревая состояние)\n",
        "    - Затем пока не получим none (0) берем самую вероятную букву и добавляем ее в sentence\n",
        "    - Повторяем"
      ]
    },
    {
      "cell_type": "code",
      "execution_count": null,
      "metadata": {
        "ExecuteTime": {
          "end_time": "2020-03-12T15:28:59.592247Z",
          "start_time": "2020-03-12T15:28:59.589338Z"
        },
        "id": "8lCCVTL3JO4h"
      },
      "outputs": [],
      "source": [
        "def generate_sentence():\n",
        "    sentence = ['h', 'e', 'l', 'l', 'o']\n",
        "    # Todo"
      ]
    },
    {
      "cell_type": "code",
      "execution_count": null,
      "metadata": {
        "ExecuteTime": {
          "end_time": "2020-03-12T15:22:28.324297Z",
          "start_time": "2020-03-12T15:22:28.291209Z"
        },
        "id": "cGVWqFVKJO4h",
        "outputId": "310ab90c-33c1-4fd6-d97b-ebb8a53265b1"
      },
      "outputs": [
        {
          "name": "stdout",
          "output_type": "stream",
          "text": [
            "helloe l   toaaohutd     toooohun     toooohun     tooo\n"
          ]
        }
      ],
      "source": [
        "generate_sentence()"
      ]
    },
    {
      "cell_type": "code",
      "execution_count": null,
      "metadata": {
        "ExecuteTime": {
          "end_time": "2020-03-12T15:23:13.963511Z",
          "start_time": "2020-03-12T15:22:45.311457Z"
        },
        "id": "ytmEKuu9JO4h",
        "outputId": "20b8a23a-8621-480f-a4c8-3996e384a568"
      },
      "outputs": [
        {
          "name": "stdout",
          "output_type": "stream",
          "text": [
            "Epoch 0. Time: 2.762, Train loss: 1.530\n",
            "helloe l   toaaohutd     toooohun     toooohun     tooo\n",
            "Epoch 1. Time: 2.736, Train loss: 1.519\n",
            "helloe l   toaaohutd     toooohun     toooohun     tooo\n",
            "Epoch 2. Time: 2.729, Train loss: 1.509\n",
            "helloe l n toooah n   toaoooutn     toooohun     tooooh\n",
            "Epoch 3. Time: 2.761, Train loss: 1.500\n",
            "helloe l n toooah n   toaoooutn     toooohun     tooooh\n",
            "Epoch 4. Time: 2.746, Train loss: 1.491\n",
            "helloe l n toooth n  etoaoahnnn     toooohun     tooooh\n",
            "Epoch 5. Time: 2.932, Train loss: 1.483\n",
            "helloe l n toooth n  etoaoahnnn     toooohun     tooooh\n",
            "Epoch 6. Time: 2.804, Train loss: 1.475\n",
            "helloe l n toooth n  etoaoahnnn     tooooounn     toooo\n",
            "Epoch 7. Time: 2.790, Train loss: 1.467\n",
            "helloe l n toooth n  etoaoahnnn     tooooounn     toooo\n",
            "Epoch 8. Time: 3.052, Train loss: 1.459\n",
            "helloe l n toooth n  etoaoahnnn     tooooornn     toooo\n",
            "Epoch 9. Time: 3.189, Train loss: 1.452\n",
            "helloe l n toooth nn eto tr ntheto e  ntraooaennnn     \n"
          ]
        }
      ],
      "source": [
        "for ep in range(10):\n",
        "    start = time.time()\n",
        "    train_loss = 0.\n",
        "    train_passed = 0\n",
        "\n",
        "    for i in range(int(len(X) / 100)):\n",
        "        batch = X[i * 100:(i + 1) * 100]\n",
        "        X_batch = batch[:, :-1]\n",
        "        Y_batch = batch[:, 1:].flatten()\n",
        "\n",
        "        optimizer.zero_grad()\n",
        "        answers, _ = model.forward(X_batch)\n",
        "        answers = answers.view(-1, len(INDEX_TO_CHAR))\n",
        "        loss = criterion(answers, Y_batch)\n",
        "        train_loss += loss.item()\n",
        "\n",
        "        loss.backward()\n",
        "        optimizer.step()\n",
        "        train_passed += 1\n",
        "\n",
        "    print(\"Epoch {}. Time: {:.3f}, Train loss: {:.3f}\".format(ep, time.time() - start, train_loss / train_passed))\n",
        "    generate_sentence()"
      ]
    },
    {
      "cell_type": "code",
      "execution_count": null,
      "metadata": {
        "id": "REETABg_JO4i"
      },
      "outputs": [],
      "source": []
    }
  ],
  "metadata": {
    "kernelspec": {
      "display_name": "Python 3",
      "language": "python",
      "name": "python3"
    },
    "language_info": {
      "codemirror_mode": {
        "name": "ipython",
        "version": 3
      },
      "file_extension": ".py",
      "mimetype": "text/x-python",
      "name": "python",
      "nbconvert_exporter": "python",
      "pygments_lexer": "ipython3",
      "version": "3.7.1"
    },
    "colab": {
      "provenance": []
    }
  },
  "nbformat": 4,
  "nbformat_minor": 0
}