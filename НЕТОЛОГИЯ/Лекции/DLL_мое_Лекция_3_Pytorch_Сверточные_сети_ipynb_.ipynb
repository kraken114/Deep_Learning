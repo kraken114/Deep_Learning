{
  "cells": [
    {
      "cell_type": "code",
      "execution_count": null,
      "metadata": {
        "ExecuteTime": {
          "end_time": "2019-11-14T21:34:19.658915Z",
          "start_time": "2019-11-14T21:34:19.656278Z"
        },
        "id": "HjmIRXdQwwUo"
      },
      "outputs": [],
      "source": [
        "import torch\n",
        "from torch import nn"
      ]
    },
    {
      "cell_type": "markdown",
      "metadata": {
        "id": "XwJt51p3wwUt"
      },
      "source": [
        "## Самостоятельная реализация свертки"
      ]
    },
    {
      "cell_type": "code",
      "execution_count": null,
      "metadata": {
        "ExecuteTime": {
          "end_time": "2019-11-15T16:52:41.958956Z",
          "start_time": "2019-11-15T16:52:41.922818Z"
        },
        "id": "OMFdmIHZwwUu"
      },
      "outputs": [],
      "source": [
        "def corr2d(X, K):\n",
        "    h, w = K.shape\n",
        "    Y = torch.zeros((X.shape[0] - h + 1, X.shape[1] - w + 1))\n",
        "    for i in range(Y.shape[0]):\n",
        "        for j in range(Y.shape[1]):\n",
        "            Y[i, j] = (X[i: i + h, j: j + w] * K).sum()\n",
        "    return Y"
      ]
    },
    {
      "cell_type": "code",
      "execution_count": null,
      "metadata": {
        "ExecuteTime": {
          "end_time": "2019-11-15T17:00:04.170877Z",
          "start_time": "2019-11-15T17:00:04.163852Z"
        },
        "id": "WZqpW4vxwwUy",
        "outputId": "215afa28-86bf-45fe-ae69-18cf51e70f17",
        "colab": {
          "base_uri": "https://localhost:8080/"
        }
      },
      "outputs": [
        {
          "output_type": "execute_result",
          "data": {
            "text/plain": [
              "tensor([[19., 25.],\n",
              "        [37., 43.]])"
            ]
          },
          "metadata": {},
          "execution_count": 15
        }
      ],
      "source": [
        "X = torch.Tensor([[0, 1, 2], [3, 4, 5], [6, 7, 8]])\n",
        "K = torch.Tensor([[0, 1], [2, 3]])\n",
        "corr2d(X, K)"
      ]
    },
    {
      "cell_type": "markdown",
      "metadata": {
        "id": "GJ3UR_PXwwU2"
      },
      "source": [
        "## Детекция граней"
      ]
    },
    {
      "cell_type": "code",
      "execution_count": null,
      "metadata": {
        "ExecuteTime": {
          "end_time": "2019-11-15T17:00:05.091888Z",
          "start_time": "2019-11-15T17:00:05.084480Z"
        },
        "id": "uv5_Pmh0wwU3",
        "outputId": "b041a2cd-bac0-4902-c26b-c6ed868ff05e",
        "scrolled": true,
        "colab": {
          "base_uri": "https://localhost:8080/"
        }
      },
      "outputs": [
        {
          "output_type": "execute_result",
          "data": {
            "text/plain": [
              "tensor([[1., 1., 0., 0., 0., 0., 1., 1.],\n",
              "        [1., 1., 0., 0., 0., 0., 1., 1.],\n",
              "        [1., 1., 0., 0., 0., 0., 1., 1.],\n",
              "        [1., 1., 0., 0., 0., 0., 1., 1.],\n",
              "        [1., 1., 0., 0., 0., 0., 1., 1.],\n",
              "        [1., 1., 0., 0., 0., 0., 1., 1.]])"
            ]
          },
          "metadata": {},
          "execution_count": 16
        }
      ],
      "source": [
        "X = torch.ones((6, 8))\n",
        "X[:, 2:6] = 0\n",
        "X"
      ]
    },
    {
      "cell_type": "code",
      "execution_count": null,
      "metadata": {
        "ExecuteTime": {
          "end_time": "2019-11-15T17:00:05.278559Z",
          "start_time": "2019-11-15T17:00:05.266978Z"
        },
        "id": "1WzBhrGiwwU6",
        "outputId": "d9cbd85e-71ee-4d30-8097-d1d2fb972131",
        "scrolled": true,
        "colab": {
          "base_uri": "https://localhost:8080/"
        }
      },
      "outputs": [
        {
          "output_type": "stream",
          "name": "stdout",
          "text": [
            "tensor([[1., 1., 0., 0., 0., 0., 1., 1.],\n",
            "        [1., 1., 0., 0., 0., 0., 1., 1.],\n",
            "        [1., 1., 0., 0., 0., 0., 1., 1.],\n",
            "        [1., 1., 0., 0., 0., 0., 1., 1.],\n",
            "        [1., 1., 0., 0., 0., 0., 1., 1.],\n",
            "        [1., 1., 0., 0., 0., 0., 1., 1.]])\n",
            "tensor([[ 0.,  1.,  0.,  0.,  0., -1.,  0.],\n",
            "        [ 0.,  1.,  0.,  0.,  0., -1.,  0.],\n",
            "        [ 0.,  1.,  0.,  0.,  0., -1.,  0.],\n",
            "        [ 0.,  1.,  0.,  0.,  0., -1.,  0.],\n",
            "        [ 0.,  1.,  0.,  0.,  0., -1.,  0.],\n",
            "        [ 0.,  1.,  0.,  0.,  0., -1.,  0.]])\n"
          ]
        }
      ],
      "source": [
        "## вертикальные грани есть\n",
        "K = torch.Tensor([[1, -1]])\n",
        "Y = corr2d(X, K)\n",
        "print(X)\n",
        "print(Y)"
      ]
    },
    {
      "cell_type": "code",
      "source": [
        "Y.reshape(1, 1, 6, 7)"
      ],
      "metadata": {
        "colab": {
          "base_uri": "https://localhost:8080/"
        },
        "id": "BnWUirfpKB7L",
        "outputId": "d3a69f8d-4d46-4615-c933-2298474fc57d"
      },
      "execution_count": null,
      "outputs": [
        {
          "output_type": "execute_result",
          "data": {
            "text/plain": [
              "tensor([[[[ 0.,  1.,  0.,  0.,  0., -1.,  0.],\n",
              "          [ 0.,  1.,  0.,  0.,  0., -1.,  0.],\n",
              "          [ 0.,  1.,  0.,  0.,  0., -1.,  0.],\n",
              "          [ 0.,  1.,  0.,  0.,  0., -1.,  0.],\n",
              "          [ 0.,  1.,  0.,  0.,  0., -1.,  0.],\n",
              "          [ 0.,  1.,  0.,  0.,  0., -1.,  0.]]]])"
            ]
          },
          "metadata": {},
          "execution_count": 19
        }
      ]
    },
    {
      "cell_type": "code",
      "source": [
        "K"
      ],
      "metadata": {
        "colab": {
          "base_uri": "https://localhost:8080/"
        },
        "id": "GkF9AthTIOXR",
        "outputId": "feb2a131-bf69-41a9-c78e-7cf1b8b1bdfd"
      },
      "execution_count": null,
      "outputs": [
        {
          "output_type": "execute_result",
          "data": {
            "text/plain": [
              "tensor([[ 1., -1.]])"
            ]
          },
          "metadata": {},
          "execution_count": 8
        }
      ]
    },
    {
      "cell_type": "code",
      "execution_count": null,
      "metadata": {
        "ExecuteTime": {
          "end_time": "2019-11-15T17:00:05.449599Z",
          "start_time": "2019-11-15T17:00:05.442193Z"
        },
        "id": "bS90HMpOwwU9",
        "outputId": "63169974-5fdb-4b50-cabf-f3081e96974c",
        "colab": {
          "base_uri": "https://localhost:8080/"
        }
      },
      "outputs": [
        {
          "output_type": "stream",
          "name": "stdout",
          "text": [
            "tensor([[1., 1., 1., 1., 1., 1.],\n",
            "        [1., 1., 1., 1., 1., 1.],\n",
            "        [0., 0., 0., 0., 0., 0.],\n",
            "        [0., 0., 0., 0., 0., 0.],\n",
            "        [0., 0., 0., 0., 0., 0.],\n",
            "        [0., 0., 0., 0., 0., 0.],\n",
            "        [1., 1., 1., 1., 1., 1.],\n",
            "        [1., 1., 1., 1., 1., 1.]])\n",
            "tensor([[0., 0., 0., 0., 0.],\n",
            "        [0., 0., 0., 0., 0.],\n",
            "        [0., 0., 0., 0., 0.],\n",
            "        [0., 0., 0., 0., 0.],\n",
            "        [0., 0., 0., 0., 0.],\n",
            "        [0., 0., 0., 0., 0.],\n",
            "        [0., 0., 0., 0., 0.],\n",
            "        [0., 0., 0., 0., 0.]])\n"
          ]
        }
      ],
      "source": [
        "## вертикальных граней нет\n",
        "Z = corr2d(X.T, K)\n",
        "print(X.T)\n",
        "print(Z)"
      ]
    },
    {
      "cell_type": "markdown",
      "metadata": {
        "id": "y1oiNJ3KwwU_"
      },
      "source": [
        "## Сверточный слой"
      ]
    },
    {
      "cell_type": "code",
      "execution_count": null,
      "metadata": {
        "ExecuteTime": {
          "end_time": "2019-11-15T17:00:06.441986Z",
          "start_time": "2019-11-15T17:00:06.438282Z"
        },
        "id": "jyMOumrZwwVA"
      },
      "outputs": [],
      "source": [
        "X = X.reshape(1, 1, 6, 8)\n",
        "Y = Y.reshape(1, 1, 6, 7)"
      ]
    },
    {
      "cell_type": "code",
      "source": [
        "X,Y"
      ],
      "metadata": {
        "colab": {
          "base_uri": "https://localhost:8080/"
        },
        "id": "jPY_V6loIopu",
        "outputId": "2ab5da77-290c-4836-b458-a609ae7eb3c3"
      },
      "execution_count": null,
      "outputs": [
        {
          "output_type": "execute_result",
          "data": {
            "text/plain": [
              "(tensor([[[[1., 1., 0., 0., 0., 0., 1., 1.],\n",
              "           [1., 1., 0., 0., 0., 0., 1., 1.],\n",
              "           [1., 1., 0., 0., 0., 0., 1., 1.],\n",
              "           [1., 1., 0., 0., 0., 0., 1., 1.],\n",
              "           [1., 1., 0., 0., 0., 0., 1., 1.],\n",
              "           [1., 1., 0., 0., 0., 0., 1., 1.]]]]),\n",
              " tensor([[[[ 0.,  1.,  0.,  0.,  0., -1.,  0.],\n",
              "           [ 0.,  1.,  0.,  0.,  0., -1.,  0.],\n",
              "           [ 0.,  1.,  0.,  0.,  0., -1.,  0.],\n",
              "           [ 0.,  1.,  0.,  0.,  0., -1.,  0.],\n",
              "           [ 0.,  1.,  0.,  0.,  0., -1.,  0.],\n",
              "           [ 0.,  1.,  0.,  0.,  0., -1.,  0.]]]]))"
            ]
          },
          "metadata": {},
          "execution_count": 22
        }
      ]
    },
    {
      "cell_type": "code",
      "source": [
        "conv2d(X)"
      ],
      "metadata": {
        "colab": {
          "base_uri": "https://localhost:8080/"
        },
        "id": "SQbpyuVvK2DW",
        "outputId": "270ae606-f183-4c6f-b12e-7e04358f0cf6"
      },
      "execution_count": null,
      "outputs": [
        {
          "output_type": "execute_result",
          "data": {
            "text/plain": [
              "tensor([[[[-1.6332e-05,  9.9802e-01,  2.0881e-05,  2.0881e-05,  2.0881e-05,\n",
              "           -9.9801e-01, -1.6332e-05],\n",
              "          [-1.6332e-05,  9.9802e-01,  2.0881e-05,  2.0881e-05,  2.0881e-05,\n",
              "           -9.9801e-01, -1.6332e-05],\n",
              "          [-1.6332e-05,  9.9802e-01,  2.0881e-05,  2.0881e-05,  2.0881e-05,\n",
              "           -9.9801e-01, -1.6332e-05],\n",
              "          [-1.6332e-05,  9.9802e-01,  2.0881e-05,  2.0881e-05,  2.0881e-05,\n",
              "           -9.9801e-01, -1.6332e-05],\n",
              "          [-1.6332e-05,  9.9802e-01,  2.0881e-05,  2.0881e-05,  2.0881e-05,\n",
              "           -9.9801e-01, -1.6332e-05],\n",
              "          [-1.6332e-05,  9.9802e-01,  2.0881e-05,  2.0881e-05,  2.0881e-05,\n",
              "           -9.9801e-01, -1.6332e-05]]]], grad_fn=<ConvolutionBackward0>)"
            ]
          },
          "metadata": {},
          "execution_count": 27
        }
      ]
    },
    {
      "cell_type": "code",
      "execution_count": null,
      "metadata": {
        "ExecuteTime": {
          "end_time": "2019-11-15T17:00:07.489638Z",
          "start_time": "2019-11-15T17:00:07.485059Z"
        },
        "id": "xbT2M_S1wwVC"
      },
      "outputs": [],
      "source": [
        "conv2d = torch.nn.Conv2d(1, 1, (1,2))"
      ]
    },
    {
      "cell_type": "code",
      "execution_count": null,
      "metadata": {
        "ExecuteTime": {
          "end_time": "2019-11-15T17:00:08.479735Z",
          "start_time": "2019-11-15T17:00:08.475201Z"
        },
        "id": "hHdwEZoOwwVE"
      },
      "outputs": [],
      "source": [
        "trainer = torch.optim.SGD(conv2d.parameters(), lr=0.001)"
      ]
    },
    {
      "cell_type": "code",
      "execution_count": null,
      "metadata": {
        "ExecuteTime": {
          "end_time": "2019-11-15T17:00:09.021293Z",
          "start_time": "2019-11-15T17:00:09.017523Z"
        },
        "id": "nIKBf7uat40c"
      },
      "outputs": [],
      "source": [
        "criterion = nn.MSELoss(reduction='sum')"
      ]
    },
    {
      "cell_type": "code",
      "execution_count": null,
      "metadata": {
        "ExecuteTime": {
          "end_time": "2019-11-15T17:00:12.781889Z",
          "start_time": "2019-11-15T17:00:12.318701Z"
        },
        "id": "uzxBTiNvwwVG",
        "outputId": "4f03b4e4-1821-441c-98fd-c0ea9680377b",
        "colab": {
          "base_uri": "https://localhost:8080/"
        }
      },
      "outputs": [
        {
          "output_type": "stream",
          "name": "stdout",
          "text": [
            "batch 2, loss 16.529\n",
            "batch 4, loss 14.244\n",
            "batch 6, loss 12.641\n",
            "batch 8, loss 11.454\n",
            "batch 10, loss 10.528\n",
            "batch 12, loss 9.768\n",
            "batch 14, loss 9.119\n",
            "batch 16, loss 8.547\n",
            "batch 18, loss 8.032\n",
            "batch 20, loss 7.561\n",
            "batch 22, loss 7.126\n",
            "batch 24, loss 6.721\n",
            "batch 26, loss 6.343\n",
            "batch 28, loss 5.988\n",
            "batch 30, loss 5.656\n",
            "batch 32, loss 5.343\n",
            "batch 34, loss 5.049\n",
            "batch 36, loss 4.772\n",
            "batch 38, loss 4.512\n",
            "batch 40, loss 4.266\n",
            "batch 42, loss 4.034\n",
            "batch 44, loss 3.816\n",
            "batch 46, loss 3.610\n",
            "batch 48, loss 3.416\n",
            "batch 50, loss 3.233\n",
            "batch 52, loss 3.060\n",
            "batch 54, loss 2.897\n",
            "batch 56, loss 2.743\n",
            "batch 58, loss 2.598\n",
            "batch 60, loss 2.461\n",
            "batch 62, loss 2.331\n",
            "batch 64, loss 2.208\n",
            "batch 66, loss 2.093\n",
            "batch 68, loss 1.983\n",
            "batch 70, loss 1.880\n",
            "batch 72, loss 1.782\n",
            "batch 74, loss 1.689\n",
            "batch 76, loss 1.602\n",
            "batch 78, loss 1.519\n",
            "batch 80, loss 1.441\n",
            "batch 82, loss 1.367\n",
            "batch 84, loss 1.297\n",
            "batch 86, loss 1.230\n",
            "batch 88, loss 1.167\n",
            "batch 90, loss 1.108\n",
            "batch 92, loss 1.051\n",
            "batch 94, loss 0.998\n",
            "batch 96, loss 0.947\n",
            "batch 98, loss 0.899\n",
            "batch 100, loss 0.854\n",
            "batch 102, loss 0.811\n",
            "batch 104, loss 0.770\n",
            "batch 106, loss 0.731\n",
            "batch 108, loss 0.695\n",
            "batch 110, loss 0.660\n",
            "batch 112, loss 0.627\n",
            "batch 114, loss 0.596\n",
            "batch 116, loss 0.566\n",
            "batch 118, loss 0.538\n",
            "batch 120, loss 0.511\n",
            "batch 122, loss 0.486\n",
            "batch 124, loss 0.462\n",
            "batch 126, loss 0.439\n",
            "batch 128, loss 0.417\n",
            "batch 130, loss 0.397\n",
            "batch 132, loss 0.377\n",
            "batch 134, loss 0.359\n",
            "batch 136, loss 0.341\n",
            "batch 138, loss 0.324\n",
            "batch 140, loss 0.308\n",
            "batch 142, loss 0.293\n",
            "batch 144, loss 0.279\n",
            "batch 146, loss 0.265\n",
            "batch 148, loss 0.252\n",
            "batch 150, loss 0.240\n",
            "batch 152, loss 0.228\n",
            "batch 154, loss 0.217\n",
            "batch 156, loss 0.207\n",
            "batch 158, loss 0.197\n",
            "batch 160, loss 0.187\n",
            "batch 162, loss 0.178\n",
            "batch 164, loss 0.169\n",
            "batch 166, loss 0.161\n",
            "batch 168, loss 0.153\n",
            "batch 170, loss 0.146\n",
            "batch 172, loss 0.139\n",
            "batch 174, loss 0.132\n",
            "batch 176, loss 0.126\n",
            "batch 178, loss 0.120\n",
            "batch 180, loss 0.114\n",
            "batch 182, loss 0.108\n",
            "batch 184, loss 0.103\n",
            "batch 186, loss 0.098\n",
            "batch 188, loss 0.094\n",
            "batch 190, loss 0.089\n",
            "batch 192, loss 0.085\n",
            "batch 194, loss 0.081\n",
            "batch 196, loss 0.077\n",
            "batch 198, loss 0.073\n",
            "batch 200, loss 0.070\n",
            "batch 202, loss 0.066\n",
            "batch 204, loss 0.063\n",
            "batch 206, loss 0.060\n",
            "batch 208, loss 0.057\n",
            "batch 210, loss 0.054\n",
            "batch 212, loss 0.052\n",
            "batch 214, loss 0.049\n",
            "batch 216, loss 0.047\n",
            "batch 218, loss 0.045\n",
            "batch 220, loss 0.043\n",
            "batch 222, loss 0.041\n",
            "batch 224, loss 0.039\n",
            "batch 226, loss 0.037\n",
            "batch 228, loss 0.035\n",
            "batch 230, loss 0.033\n",
            "batch 232, loss 0.032\n",
            "batch 234, loss 0.030\n",
            "batch 236, loss 0.029\n",
            "batch 238, loss 0.028\n",
            "batch 240, loss 0.026\n",
            "batch 242, loss 0.025\n",
            "batch 244, loss 0.024\n",
            "batch 246, loss 0.023\n",
            "batch 248, loss 0.022\n",
            "batch 250, loss 0.021\n",
            "batch 252, loss 0.020\n",
            "batch 254, loss 0.019\n",
            "batch 256, loss 0.018\n",
            "batch 258, loss 0.017\n",
            "batch 260, loss 0.016\n",
            "batch 262, loss 0.015\n",
            "batch 264, loss 0.015\n",
            "batch 266, loss 0.014\n",
            "batch 268, loss 0.013\n",
            "batch 270, loss 0.013\n",
            "batch 272, loss 0.012\n",
            "batch 274, loss 0.011\n",
            "batch 276, loss 0.011\n",
            "batch 278, loss 0.010\n",
            "batch 280, loss 0.010\n",
            "batch 282, loss 0.009\n",
            "batch 284, loss 0.009\n",
            "batch 286, loss 0.009\n",
            "batch 288, loss 0.008\n",
            "batch 290, loss 0.008\n",
            "batch 292, loss 0.007\n",
            "batch 294, loss 0.007\n",
            "batch 296, loss 0.007\n",
            "batch 298, loss 0.006\n",
            "batch 300, loss 0.006\n",
            "batch 302, loss 0.006\n",
            "batch 304, loss 0.006\n",
            "batch 306, loss 0.005\n",
            "batch 308, loss 0.005\n",
            "batch 310, loss 0.005\n",
            "batch 312, loss 0.005\n",
            "batch 314, loss 0.004\n",
            "batch 316, loss 0.004\n",
            "batch 318, loss 0.004\n",
            "batch 320, loss 0.004\n",
            "batch 322, loss 0.004\n",
            "batch 324, loss 0.003\n",
            "batch 326, loss 0.003\n",
            "batch 328, loss 0.003\n",
            "batch 330, loss 0.003\n",
            "batch 332, loss 0.003\n",
            "batch 334, loss 0.003\n",
            "batch 336, loss 0.003\n",
            "batch 338, loss 0.002\n",
            "batch 340, loss 0.002\n",
            "batch 342, loss 0.002\n",
            "batch 344, loss 0.002\n",
            "batch 346, loss 0.002\n",
            "batch 348, loss 0.002\n",
            "batch 350, loss 0.002\n",
            "batch 352, loss 0.002\n",
            "batch 354, loss 0.002\n",
            "batch 356, loss 0.002\n",
            "batch 358, loss 0.001\n",
            "batch 360, loss 0.001\n",
            "batch 362, loss 0.001\n",
            "batch 364, loss 0.001\n",
            "batch 366, loss 0.001\n",
            "batch 368, loss 0.001\n",
            "batch 370, loss 0.001\n",
            "batch 372, loss 0.001\n",
            "batch 374, loss 0.001\n",
            "batch 376, loss 0.001\n",
            "batch 378, loss 0.001\n",
            "batch 380, loss 0.001\n",
            "batch 382, loss 0.001\n",
            "batch 384, loss 0.001\n",
            "batch 386, loss 0.001\n",
            "batch 388, loss 0.001\n",
            "batch 390, loss 0.001\n",
            "batch 392, loss 0.001\n",
            "batch 394, loss 0.001\n",
            "batch 396, loss 0.001\n",
            "batch 398, loss 0.001\n",
            "batch 400, loss 0.001\n",
            "batch 402, loss 0.001\n",
            "batch 404, loss 0.000\n",
            "batch 406, loss 0.000\n",
            "batch 408, loss 0.000\n",
            "batch 410, loss 0.000\n",
            "batch 412, loss 0.000\n",
            "batch 414, loss 0.000\n",
            "batch 416, loss 0.000\n",
            "batch 418, loss 0.000\n",
            "batch 420, loss 0.000\n",
            "batch 422, loss 0.000\n",
            "batch 424, loss 0.000\n",
            "batch 426, loss 0.000\n",
            "batch 428, loss 0.000\n",
            "batch 430, loss 0.000\n",
            "batch 432, loss 0.000\n",
            "batch 434, loss 0.000\n",
            "batch 436, loss 0.000\n",
            "batch 438, loss 0.000\n",
            "batch 440, loss 0.000\n",
            "batch 442, loss 0.000\n",
            "batch 444, loss 0.000\n",
            "batch 446, loss 0.000\n",
            "batch 448, loss 0.000\n",
            "batch 450, loss 0.000\n",
            "batch 452, loss 0.000\n",
            "batch 454, loss 0.000\n",
            "batch 456, loss 0.000\n",
            "batch 458, loss 0.000\n",
            "batch 460, loss 0.000\n",
            "batch 462, loss 0.000\n",
            "batch 464, loss 0.000\n",
            "batch 466, loss 0.000\n",
            "batch 468, loss 0.000\n",
            "batch 470, loss 0.000\n",
            "batch 472, loss 0.000\n",
            "batch 474, loss 0.000\n",
            "batch 476, loss 0.000\n",
            "batch 478, loss 0.000\n",
            "batch 480, loss 0.000\n",
            "batch 482, loss 0.000\n",
            "batch 484, loss 0.000\n",
            "batch 486, loss 0.000\n",
            "batch 488, loss 0.000\n",
            "batch 490, loss 0.000\n",
            "batch 492, loss 0.000\n",
            "batch 494, loss 0.000\n",
            "batch 496, loss 0.000\n",
            "batch 498, loss 0.000\n",
            "batch 500, loss 0.000\n"
          ]
        }
      ],
      "source": [
        "for i in range(500):\n",
        "    trainer.zero_grad()\n",
        "    Y_hat = conv2d(X)\n",
        "    l = criterion(Y_hat,Y)\n",
        "    l.backward()\n",
        "    trainer.step()\n",
        "    if (i + 1) % 2 == 0:\n",
        "        print('batch %d, loss %.3f' % (i + 1, l.item()))"
      ]
    },
    {
      "cell_type": "code",
      "execution_count": null,
      "metadata": {
        "ExecuteTime": {
          "end_time": "2019-11-15T17:00:15.776777Z",
          "start_time": "2019-11-15T17:00:15.770170Z"
        },
        "id": "2Zjwy0t7wwVJ",
        "outputId": "97f0da1d-1ca7-4491-ddad-b1fe130b74b9",
        "colab": {
          "base_uri": "https://localhost:8080/"
        }
      },
      "outputs": [
        {
          "output_type": "stream",
          "name": "stdout",
          "text": [
            "Parameter containing:\n",
            "tensor([[[[ 0.9980, -0.9980]]]], requires_grad=True)\n",
            "Parameter containing:\n",
            "tensor([2.0881e-05], requires_grad=True)\n"
          ]
        }
      ],
      "source": [
        "print(conv2d.weight)\n",
        "print(conv2d.bias)"
      ]
    },
    {
      "cell_type": "markdown",
      "metadata": {
        "ExecuteTime": {
          "end_time": "2019-11-14T20:43:29.333030Z",
          "start_time": "2019-11-14T20:43:29.330547Z"
        },
        "id": "kmyuFDYqwwVL"
      },
      "source": [
        "## Padding и stride"
      ]
    },
    {
      "cell_type": "code",
      "execution_count": null,
      "metadata": {
        "ExecuteTime": {
          "end_time": "2019-11-15T17:00:52.703655Z",
          "start_time": "2019-11-15T17:00:52.696949Z"
        },
        "id": "zabESWcYwwVL",
        "outputId": "faf748c5-19b9-4b59-dcaf-a0bc923194f8",
        "colab": {
          "base_uri": "https://localhost:8080/"
        }
      },
      "outputs": [
        {
          "output_type": "execute_result",
          "data": {
            "text/plain": [
              "torch.Size([1, 1, 8, 6])"
            ]
          },
          "metadata": {},
          "execution_count": 34
        }
      ],
      "source": [
        "conv2d = nn.Conv2d(1, 1, kernel_size=3, padding=(1,0)) # 1 - количество входных каналов, 1 - кол-во выходных\n",
        "X = torch.randn((1, 1, 8, 8)) # 1 - размер батча (пакета)(здесь 1 - одна картинка), 1 - кол-во каналов, 8,8 - размер картинки\n",
        "conv2d(X).shape"
      ]
    },
    {
      "cell_type": "code",
      "execution_count": null,
      "metadata": {
        "ExecuteTime": {
          "end_time": "2019-11-15T17:01:07.214149Z",
          "start_time": "2019-11-15T17:01:07.206220Z"
        },
        "id": "Q2QyeAuowwVN",
        "outputId": "e062cf64-21c2-4a87-d671-ddcec39fbfe7",
        "colab": {
          "base_uri": "https://localhost:8080/"
        }
      },
      "outputs": [
        {
          "output_type": "execute_result",
          "data": {
            "text/plain": [
              "torch.Size([1, 1, 4, 4])"
            ]
          },
          "metadata": {},
          "execution_count": 35
        }
      ],
      "source": [
        "conv2d = nn.Conv2d(1, 1, kernel_size=3, padding=1, stride=2)\n",
        "X = torch.randn((1, 1, 8, 8))\n",
        "conv2d(X).shape"
      ]
    },
    {
      "cell_type": "markdown",
      "metadata": {
        "id": "AYX9WvRPwwVO"
      },
      "source": [
        "## Каналы"
      ]
    },
    {
      "cell_type": "code",
      "execution_count": null,
      "metadata": {
        "ExecuteTime": {
          "end_time": "2019-11-15T17:01:20.186058Z",
          "start_time": "2019-11-15T17:01:20.178806Z"
        },
        "id": "y1WWkiyewwVO",
        "outputId": "f0fadedd-340e-46d0-9c6d-19073abce780",
        "colab": {
          "base_uri": "https://localhost:8080/"
        }
      },
      "outputs": [
        {
          "output_type": "execute_result",
          "data": {
            "text/plain": [
              "torch.Size([1, 1, 8, 8])"
            ]
          },
          "metadata": {},
          "execution_count": 37
        }
      ],
      "source": [
        "conv2d = nn.Conv2d(1, 1, kernel_size=3, padding=1)\n",
        "X = torch.randn((1, 1, 8, 8))\n",
        "conv2d(X).shape"
      ]
    },
    {
      "cell_type": "code",
      "execution_count": null,
      "metadata": {
        "ExecuteTime": {
          "end_time": "2019-11-14T21:34:25.536692Z",
          "start_time": "2019-11-14T21:34:25.532336Z"
        },
        "id": "0mrfPVQxwwVQ",
        "outputId": "38631aab-c11b-4774-90d3-6a8873f391a7",
        "colab": {
          "base_uri": "https://localhost:8080/"
        }
      },
      "outputs": [
        {
          "output_type": "execute_result",
          "data": {
            "text/plain": [
              "torch.Size([32, 4, 3, 3])"
            ]
          },
          "metadata": {},
          "execution_count": 49
        }
      ],
      "source": [
        "conv2d.weight.shape # размерность весов\n",
        "# 1 - одна свертка, 1 - свертка однаканальная, 3,3 - размер свертки"
      ]
    },
    {
      "cell_type": "code",
      "execution_count": null,
      "metadata": {
        "ExecuteTime": {
          "end_time": "2019-11-15T17:01:54.208345Z",
          "start_time": "2019-11-15T17:01:54.198255Z"
        },
        "id": "fXwQ8T-9wwVR",
        "outputId": "b5da771b-2c24-4954-d994-7a3a0a4f7c4d",
        "colab": {
          "base_uri": "https://localhost:8080/"
        }
      },
      "outputs": [
        {
          "output_type": "execute_result",
          "data": {
            "text/plain": [
              "torch.Size([1, 32, 8, 8])"
            ]
          },
          "metadata": {},
          "execution_count": 41
        }
      ],
      "source": [
        "conv2d = nn.Conv2d(4, 32, kernel_size=3, padding=1)\n",
        "X = torch.randn((1, 4, 8, 8))\n",
        "conv2d(X).shape"
      ]
    },
    {
      "cell_type": "code",
      "execution_count": null,
      "metadata": {
        "ExecuteTime": {
          "end_time": "2019-11-15T17:02:05.753502Z",
          "start_time": "2019-11-15T17:02:05.748063Z"
        },
        "id": "iKNd1ZbswwVS",
        "outputId": "4c765336-76a9-4a1f-fd4c-65bf66ee8707",
        "colab": {
          "base_uri": "https://localhost:8080/"
        }
      },
      "outputs": [
        {
          "output_type": "execute_result",
          "data": {
            "text/plain": [
              "torch.Size([32, 4, 3, 3])"
            ]
          },
          "metadata": {},
          "execution_count": 43
        }
      ],
      "source": [
        "conv2d.weight.shape\n",
        "# получили 32 - свертки, 4 - каждая свертка 4-х канальная, 3,3 - размер свертки"
      ]
    },
    {
      "cell_type": "markdown",
      "metadata": {
        "id": "NzTZ9t5nwwVU"
      },
      "source": [
        "## Pooling"
      ]
    },
    {
      "cell_type": "code",
      "execution_count": null,
      "metadata": {
        "ExecuteTime": {
          "end_time": "2019-11-15T17:03:01.219143Z",
          "start_time": "2019-11-15T17:03:01.213316Z"
        },
        "id": "1hpPwkj-wwVU"
      },
      "outputs": [],
      "source": [
        "def pool2d(X, pool_size, mode='max'):\n",
        "    p_h, p_w = pool_size\n",
        "    Y = torch.zeros((X.shape[0] - p_h + 1, X.shape[1] - p_w + 1))\n",
        "    for i in range(Y.shape[0]):\n",
        "        for j in range(Y.shape[1]):\n",
        "            if mode == 'max':\n",
        "                Y[i, j] = X[i: i + p_h, j: j + p_w].max()\n",
        "            elif mode == 'avg':\n",
        "                Y[i, j] = X[i: i + p_h, j: j + p_w].mean()\n",
        "    return Y"
      ]
    },
    {
      "cell_type": "code",
      "execution_count": null,
      "metadata": {
        "ExecuteTime": {
          "end_time": "2019-11-15T17:03:01.721639Z",
          "start_time": "2019-11-15T17:03:01.713244Z"
        },
        "id": "XyIhgiBmwwVV",
        "outputId": "f211bd22-bfc2-47e0-eb30-fc3e8c543296",
        "colab": {
          "base_uri": "https://localhost:8080/"
        }
      },
      "outputs": [
        {
          "output_type": "stream",
          "name": "stdout",
          "text": [
            "tensor([[0., 1., 2.],\n",
            "        [3., 4., 5.],\n",
            "        [6., 7., 8.]])\n",
            "tensor([[4., 5.],\n",
            "        [7., 8.]])\n"
          ]
        }
      ],
      "source": [
        "X = torch.Tensor([[0, 1, 2], [3, 4, 5], [6, 7, 8]])\n",
        "print(X)\n",
        "print(pool2d(X, (2, 2))) # выбирает max значение (по умолчанию)"
      ]
    },
    {
      "cell_type": "code",
      "execution_count": null,
      "metadata": {
        "ExecuteTime": {
          "end_time": "2019-11-14T21:34:26.692198Z",
          "start_time": "2019-11-14T21:34:26.686418Z"
        },
        "id": "UtcjAFhNwwVX",
        "outputId": "38ba88a8-5dd5-4b0c-cbfc-939c7680b97c",
        "colab": {
          "base_uri": "https://localhost:8080/"
        }
      },
      "outputs": [
        {
          "output_type": "execute_result",
          "data": {
            "text/plain": [
              "tensor([[2., 3.],\n",
              "        [5., 6.]])"
            ]
          },
          "metadata": {},
          "execution_count": 47
        }
      ],
      "source": [
        "pool2d(X, (2, 2), 'avg') # выбирает среднее значение"
      ]
    },
    {
      "cell_type": "code",
      "execution_count": null,
      "metadata": {
        "ExecuteTime": {
          "end_time": "2019-11-15T17:03:17.144302Z",
          "start_time": "2019-11-15T17:03:17.136444Z"
        },
        "id": "8yRj27hZwwVY",
        "outputId": "32b50eba-9051-437c-e6b4-733d8009ad57",
        "colab": {
          "base_uri": "https://localhost:8080/"
        }
      },
      "outputs": [
        {
          "output_type": "execute_result",
          "data": {
            "text/plain": [
              "tensor([[[[ 0.,  1.,  2.,  3.],\n",
              "          [ 4.,  5.,  6.,  7.],\n",
              "          [ 8.,  9., 10., 11.],\n",
              "          [12., 13., 14., 15.]]]])"
            ]
          },
          "metadata": {},
          "execution_count": 48
        }
      ],
      "source": [
        "X = torch.arange(16).reshape((1, 1, 4, 4)).type(torch.float)\n",
        "X"
      ]
    },
    {
      "cell_type": "markdown",
      "source": [
        "**puling из Torch:**"
      ],
      "metadata": {
        "id": "rJUl4riqTiSq"
      }
    },
    {
      "cell_type": "code",
      "execution_count": null,
      "metadata": {
        "ExecuteTime": {
          "end_time": "2019-11-15T17:03:29.592805Z",
          "start_time": "2019-11-15T17:03:29.585126Z"
        },
        "id": "MwiDUSyKwwVZ",
        "outputId": "e974f7c3-bd31-41c4-8dfc-1e1f64d32e9b",
        "colab": {
          "base_uri": "https://localhost:8080/"
        }
      },
      "outputs": [
        {
          "output_type": "execute_result",
          "data": {
            "text/plain": [
              "tensor([[[[10.]]]])"
            ]
          },
          "metadata": {},
          "execution_count": 51
        }
      ],
      "source": [
        "pool2d = nn.MaxPool2d(3) # если 1 цифра, говорит, что размер ядра 3х3 и stride = 3\n",
        "pool2d(X)"
      ]
    },
    {
      "cell_type": "code",
      "execution_count": null,
      "metadata": {
        "ExecuteTime": {
          "end_time": "2019-11-15T17:04:42.514038Z",
          "start_time": "2019-11-15T17:04:42.507046Z"
        },
        "id": "qpdqv7K-wwVa",
        "outputId": "89658867-b760-49dd-95bc-8fa15b256495"
      },
      "outputs": [
        {
          "data": {
            "text/plain": [
              "tensor([[[[ 5.,  7.],\n",
              "          [13., 15.]]]])"
            ]
          },
          "execution_count": 403,
          "metadata": {},
          "output_type": "execute_result"
        }
      ],
      "source": [
        "pool2d = nn.MaxPool2d(3, padding=1, stride=2)\n",
        "pool2d(X)"
      ]
    },
    {
      "cell_type": "code",
      "execution_count": null,
      "metadata": {
        "ExecuteTime": {
          "end_time": "2019-11-15T17:05:01.373975Z",
          "start_time": "2019-11-15T17:05:01.362367Z"
        },
        "id": "Nvb8XuyPwwVb",
        "outputId": "54003fad-471c-4255-ea2a-8a3b819d0e50",
        "colab": {
          "base_uri": "https://localhost:8080/"
        }
      },
      "outputs": [
        {
          "output_type": "execute_result",
          "data": {
            "text/plain": [
              "tensor([[[[ 1.,  3.],\n",
              "          [ 9., 11.],\n",
              "          [13., 15.]]]])"
            ]
          },
          "metadata": {},
          "execution_count": 54
        }
      ],
      "source": [
        "pool2d = nn.MaxPool2d((2, 3), padding=(1, 1), stride=(2, 3))\n",
        "pool2d(X)"
      ]
    },
    {
      "cell_type": "code",
      "execution_count": null,
      "metadata": {
        "ExecuteTime": {
          "end_time": "2019-11-15T17:05:06.976515Z",
          "start_time": "2019-11-15T17:05:06.968590Z"
        },
        "id": "uiyibEq8wwVc",
        "outputId": "fc6f84dd-6967-4618-d0cf-14332cae05f9",
        "colab": {
          "base_uri": "https://localhost:8080/"
        }
      },
      "outputs": [
        {
          "output_type": "execute_result",
          "data": {
            "text/plain": [
              "tensor([[[[ 0.,  1.,  2.,  3.],\n",
              "          [ 4.,  5.,  6.,  7.],\n",
              "          [ 8.,  9., 10., 11.],\n",
              "          [12., 13., 14., 15.]],\n",
              "\n",
              "         [[ 1.,  2.,  3.,  4.],\n",
              "          [ 5.,  6.,  7.,  8.],\n",
              "          [ 9., 10., 11., 12.],\n",
              "          [13., 14., 15., 16.]]]])"
            ]
          },
          "metadata": {},
          "execution_count": 55
        }
      ],
      "source": [
        "X = torch.cat((X, X + 1), dim=1)\n",
        "X"
      ]
    },
    {
      "cell_type": "code",
      "execution_count": null,
      "metadata": {
        "ExecuteTime": {
          "end_time": "2019-11-15T17:05:17.058650Z",
          "start_time": "2019-11-15T17:05:17.050780Z"
        },
        "id": "jeY2GcgFwwVd",
        "outputId": "c08b5071-2e83-4876-c903-364ec7467664",
        "colab": {
          "base_uri": "https://localhost:8080/"
        }
      },
      "outputs": [
        {
          "output_type": "execute_result",
          "data": {
            "text/plain": [
              "tensor([[[[ 5.,  7.],\n",
              "          [13., 15.]],\n",
              "\n",
              "         [[ 6.,  8.],\n",
              "          [14., 16.]]]])"
            ]
          },
          "metadata": {},
          "execution_count": 56
        }
      ],
      "source": [
        "pool2d = nn.MaxPool2d(3, padding=1, stride=2)\n",
        "pool2d(X)"
      ]
    },
    {
      "cell_type": "markdown",
      "metadata": {
        "id": "h_Ie1jQkwwVe"
      },
      "source": [
        "## Lenet"
      ]
    },
    {
      "cell_type": "code",
      "execution_count": null,
      "metadata": {
        "ExecuteTime": {
          "end_time": "2019-11-15T17:10:41.841802Z",
          "start_time": "2019-11-15T17:10:41.832650Z"
        },
        "id": "CWPqsQfFwwVe"
      },
      "outputs": [],
      "source": [
        "import torchvision as tv\n",
        "import time\n",
        "import matplotlib.pyplot as plt\n",
        "%matplotlib inline"
      ]
    },
    {
      "cell_type": "code",
      "execution_count": null,
      "metadata": {
        "ExecuteTime": {
          "end_time": "2019-11-15T17:10:43.319271Z",
          "start_time": "2019-11-15T17:10:43.316344Z"
        },
        "id": "kyRHaE2rwwVf"
      },
      "outputs": [],
      "source": [
        "BATCH_SIZE=256"
      ]
    },
    {
      "cell_type": "code",
      "execution_count": null,
      "metadata": {
        "ExecuteTime": {
          "end_time": "2019-11-15T17:10:45.585523Z",
          "start_time": "2019-11-15T17:10:45.509590Z"
        },
        "id": "UcX_rUpBwwVg",
        "colab": {
          "base_uri": "https://localhost:8080/",
          "height": 423,
          "referenced_widgets": [
            "93752722a6914d978a896e170f246bef",
            "881a73b0375743aea5eddce120889fa1",
            "3d4b4f7225d24787b5ec06287a3ca262",
            "0d82c7436f0649639a07ab4c9c968b09",
            "e5a129aa786148e1bfbb04215a653239",
            "1ddb1c2adec64817bd361a387e557080",
            "47fecca6f60c4ca69edac2e7194053f5",
            "7ac5e1d0cdf44d348abe73625e5583bd",
            "1280c6dd4f124243b9a15c2059e3531b",
            "5941251ad033423fb9f983da8d035e05",
            "6e0f668e64cc4a14947fd93620ba7c9b",
            "3db1e7fc753443d2b6b4c5ad9279a16d",
            "4937d92412b54fae821e9a45ce43b5e0",
            "174a44a1c8ae4376ab2892ba237939cd",
            "1ee4487ece1848b8a5588961339bc909",
            "b82756fdbf724095b506f5d05ac153e1",
            "d28331496c994591aa47d533f97ef038",
            "19b6c86a3a6344e88f8a701728c693e9",
            "19282ca2f78c4a319a3b9e6817884846",
            "fb21573d003e415a80d9c2f4f17b1b89",
            "5a6f04586b0649ada272eff21c79528a",
            "303f063d1b51442ba9d17d64c5cfd3d8",
            "8b2d229b187c4109933b00c2e9a738a1",
            "651b45d876214e5989443c1439fa2d75",
            "c6b786e8ab604661ba3b5ba50fc62716",
            "cf249bd47bea47d89651d483707f2358",
            "1fa240b891f04144ba25013078648749",
            "b309f151663543739ba9d7b8a7a8c6ce",
            "d2934361a7684f8cbeb4093a9f74487f",
            "459a28d0a16f4c058e3d459ac38f3f61",
            "4924514e9dcf4c6e833b199014607bfd",
            "1e920bf857df4303a127028f7080c277",
            "5ec526d45ffd441098e804a20ec61f2f",
            "17a9f7a79b35457face3662718e465a1",
            "10ebac9c199244c3b7c22c76c3e6e022",
            "1cb8ef7b02f94baa93f157651e75c97a",
            "5200a828c8a44fa2a9367843916f8895",
            "d3a198d0e8c34e3eaf7f22042f021922",
            "dced0b349ecc4df29bbd59ac22603a7f",
            "20e518c950844c3aaaa193538882d406",
            "fc058091840c4795a080dcf8516b2c07",
            "988d2173645146e9b8c8662e214aaa43",
            "46f44988f853497cb219e79cf86cf986",
            "4f67ab33453546f189d366e48b0016e6"
          ]
        },
        "outputId": "0138859c-e151-4968-cf09-6033f1453a88"
      },
      "outputs": [
        {
          "output_type": "stream",
          "name": "stdout",
          "text": [
            "Downloading http://yann.lecun.com/exdb/mnist/train-images-idx3-ubyte.gz\n",
            "Downloading http://yann.lecun.com/exdb/mnist/train-images-idx3-ubyte.gz to ./MNIST/raw/train-images-idx3-ubyte.gz\n"
          ]
        },
        {
          "output_type": "display_data",
          "data": {
            "text/plain": [
              "  0%|          | 0/9912422 [00:00<?, ?it/s]"
            ],
            "application/vnd.jupyter.widget-view+json": {
              "version_major": 2,
              "version_minor": 0,
              "model_id": "93752722a6914d978a896e170f246bef"
            }
          },
          "metadata": {}
        },
        {
          "output_type": "stream",
          "name": "stdout",
          "text": [
            "Extracting ./MNIST/raw/train-images-idx3-ubyte.gz to ./MNIST/raw\n",
            "\n",
            "Downloading http://yann.lecun.com/exdb/mnist/train-labels-idx1-ubyte.gz\n",
            "Downloading http://yann.lecun.com/exdb/mnist/train-labels-idx1-ubyte.gz to ./MNIST/raw/train-labels-idx1-ubyte.gz\n"
          ]
        },
        {
          "output_type": "display_data",
          "data": {
            "text/plain": [
              "  0%|          | 0/28881 [00:00<?, ?it/s]"
            ],
            "application/vnd.jupyter.widget-view+json": {
              "version_major": 2,
              "version_minor": 0,
              "model_id": "3db1e7fc753443d2b6b4c5ad9279a16d"
            }
          },
          "metadata": {}
        },
        {
          "output_type": "stream",
          "name": "stdout",
          "text": [
            "Extracting ./MNIST/raw/train-labels-idx1-ubyte.gz to ./MNIST/raw\n",
            "\n",
            "Downloading http://yann.lecun.com/exdb/mnist/t10k-images-idx3-ubyte.gz\n",
            "Downloading http://yann.lecun.com/exdb/mnist/t10k-images-idx3-ubyte.gz to ./MNIST/raw/t10k-images-idx3-ubyte.gz\n"
          ]
        },
        {
          "output_type": "display_data",
          "data": {
            "text/plain": [
              "  0%|          | 0/1648877 [00:00<?, ?it/s]"
            ],
            "application/vnd.jupyter.widget-view+json": {
              "version_major": 2,
              "version_minor": 0,
              "model_id": "8b2d229b187c4109933b00c2e9a738a1"
            }
          },
          "metadata": {}
        },
        {
          "output_type": "stream",
          "name": "stdout",
          "text": [
            "Extracting ./MNIST/raw/t10k-images-idx3-ubyte.gz to ./MNIST/raw\n",
            "\n",
            "Downloading http://yann.lecun.com/exdb/mnist/t10k-labels-idx1-ubyte.gz\n",
            "Downloading http://yann.lecun.com/exdb/mnist/t10k-labels-idx1-ubyte.gz to ./MNIST/raw/t10k-labels-idx1-ubyte.gz\n"
          ]
        },
        {
          "output_type": "display_data",
          "data": {
            "text/plain": [
              "  0%|          | 0/4542 [00:00<?, ?it/s]"
            ],
            "application/vnd.jupyter.widget-view+json": {
              "version_major": 2,
              "version_minor": 0,
              "model_id": "17a9f7a79b35457face3662718e465a1"
            }
          },
          "metadata": {}
        },
        {
          "output_type": "stream",
          "name": "stdout",
          "text": [
            "Extracting ./MNIST/raw/t10k-labels-idx1-ubyte.gz to ./MNIST/raw\n",
            "\n"
          ]
        }
      ],
      "source": [
        "train_dataset = tv.datasets.MNIST('.', train=True, transform=tv.transforms.ToTensor(), download=True)\n",
        "test_dataset = tv.datasets.MNIST('.', train=False, transform=tv.transforms.ToTensor(), download=True)\n",
        "train_iter = torch.utils.data.DataLoader(train_dataset, batch_size=BATCH_SIZE)\n",
        "test_iter = torch.utils.data.DataLoader(test_dataset, batch_size=BATCH_SIZE)"
      ]
    },
    {
      "cell_type": "code",
      "execution_count": null,
      "metadata": {
        "ExecuteTime": {
          "end_time": "2019-11-15T17:10:53.638259Z",
          "start_time": "2019-11-15T17:10:53.449630Z"
        },
        "colab": {
          "base_uri": "https://localhost:8080/",
          "height": 282
        },
        "id": "RJPJjLRowwVh",
        "outputId": "dcc2ebb6-685d-47c7-aa65-b229e2d86922",
        "scrolled": false
      },
      "outputs": [
        {
          "output_type": "execute_result",
          "data": {
            "text/plain": [
              "<matplotlib.image.AxesImage at 0x7fa04bb7bb50>"
            ]
          },
          "metadata": {},
          "execution_count": 61
        },
        {
          "output_type": "display_data",
          "data": {
            "text/plain": [
              "<Figure size 432x288 with 1 Axes>"
            ],
            "image/png": "[encoded data removed]"
          },
          "metadata": {
            "needs_background": "light"
          }
        }
      ],
      "source": [
        "plt.imshow(train_dataset[10][0].numpy().reshape(28,28), cmap='gray')"
      ]
    },
    {
      "cell_type": "markdown",
      "source": [
        "![0MG5k.png](data:image/png;base64,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)"
      ],
      "metadata": {
        "id": "-mLddjf7VfOp"
      }
    },
    {
      "cell_type": "code",
      "execution_count": null,
      "metadata": {
        "ExecuteTime": {
          "end_time": "2019-11-15T17:14:10.331231Z",
          "start_time": "2019-11-15T17:14:10.321711Z"
        },
        "id": "03bIaRblwwVi"
      },
      "outputs": [],
      "source": [
        "model = nn.Sequential(\n",
        "    nn.Conv2d(1, 6, kernel_size=5, padding=2),\n",
        "    nn.ReLU(),\n",
        "    nn.MaxPool2d(2, stride=2),\n",
        "    nn.Conv2d(6, 12, kernel_size=5),\n",
        "    nn.ReLU(),\n",
        "    nn.MaxPool2d(2, stride=2),\n",
        "    nn.Flatten(),\n",
        "    nn.Linear(300, 50),\n",
        "    nn.ReLU(),\n",
        "    nn.Linear(50, 10)\n",
        ")"
      ]
    },
    {
      "cell_type": "code",
      "execution_count": null,
      "metadata": {
        "ExecuteTime": {
          "end_time": "2019-11-15T17:14:13.352347Z",
          "start_time": "2019-11-15T17:14:13.340760Z"
        },
        "colab": {
          "base_uri": "https://localhost:8080/"
        },
        "id": "BXvTFxX7wwVj",
        "outputId": "915357e6-9ecc-4563-dee8-e82dc72a0622"
      },
      "outputs": [
        {
          "output_type": "stream",
          "name": "stdout",
          "text": [
            "torch.Size([1, 1, 28, 28])\n",
            "Layer Conv2d(1, 6, kernel_size=(5, 5), stride=(1, 1), padding=(2, 2)). X shape: torch.Size([1, 6, 28, 28])\n",
            "Layer ReLU(). X shape: torch.Size([1, 6, 28, 28])\n",
            "Layer MaxPool2d(kernel_size=2, stride=2, padding=0, dilation=1, ceil_mode=False). X shape: torch.Size([1, 6, 14, 14])\n",
            "Layer Conv2d(6, 12, kernel_size=(5, 5), stride=(1, 1)). X shape: torch.Size([1, 12, 10, 10])\n",
            "Layer ReLU(). X shape: torch.Size([1, 12, 10, 10])\n",
            "Layer MaxPool2d(kernel_size=2, stride=2, padding=0, dilation=1, ceil_mode=False). X shape: torch.Size([1, 12, 5, 5])\n",
            "Layer Flatten(start_dim=1, end_dim=-1). X shape: torch.Size([1, 300])\n",
            "Layer Linear(in_features=300, out_features=50, bias=True). X shape: torch.Size([1, 50])\n",
            "Layer ReLU(). X shape: torch.Size([1, 50])\n",
            "Layer Linear(in_features=50, out_features=10, bias=True). X shape: torch.Size([1, 10])\n"
          ]
        }
      ],
      "source": [
        "X = train_dataset[0][0]\n",
        "X = X.reshape(1, 1, 28, 28)\n",
        "print(X.shape)\n",
        "for l in model:\n",
        "    X = l(X)\n",
        "    print(\"Layer {}. X shape: {}\".format(l, X.shape))"
      ]
    },
    {
      "cell_type": "code",
      "execution_count": null,
      "metadata": {
        "ExecuteTime": {
          "end_time": "2019-11-15T17:14:58.504350Z",
          "start_time": "2019-11-15T17:14:58.495676Z"
        },
        "colab": {
          "base_uri": "https://localhost:8080/"
        },
        "id": "j6_CkvdhwwVk",
        "outputId": "decaaba1-9f52-4e62-e6be-c14868a4749d"
      },
      "outputs": [
        {
          "output_type": "stream",
          "name": "stdout",
          "text": [
            "torch.Size([1, 10])\n"
          ]
        }
      ],
      "source": [
        "X = train_dataset[0][0]\n",
        "X = X.reshape(1, 1, 28, 28)\n",
        "y = model(X)\n",
        "print(y.shape)"
      ]
    },
    {
      "cell_type": "code",
      "execution_count": null,
      "metadata": {
        "ExecuteTime": {
          "end_time": "2019-11-15T17:16:30.193043Z",
          "start_time": "2019-11-15T17:16:30.187953Z"
        },
        "id": "eT7GAboqwwVl"
      },
      "outputs": [],
      "source": [
        "# функция выводи accuracy\n",
        "def evaluate_accuracy(data_iter, net):\n",
        "    acc_sum, n = torch.Tensor([0]), 0\n",
        "    for X, y in data_iter:\n",
        "        acc_sum += (net(X).argmax(axis=1) == y).sum()\n",
        "        n += y.shape[0]\n",
        "    return acc_sum.item() / n"
      ]
    },
    {
      "cell_type": "code",
      "execution_count": null,
      "metadata": {
        "ExecuteTime": {
          "end_time": "2019-11-15T17:17:42.565018Z",
          "start_time": "2019-11-15T17:17:42.555480Z"
        },
        "id": "uHoUxdoAwwVm"
      },
      "outputs": [],
      "source": [
        "def train(net, train_iter, test_iter, trainer, num_epochs):\n",
        "    loss = nn.CrossEntropyLoss(reduction='sum')\n",
        "    for epoch in range(num_epochs):\n",
        "        train_l_sum, train_acc_sum, n, start = 0.0, 0.0, 0, time.time()\n",
        "        for X, y in train_iter:\n",
        "            trainer.zero_grad()\n",
        "            y_hat = net(X)\n",
        "            l = loss(y_hat, y)\n",
        "            l.backward()\n",
        "            trainer.step()\n",
        "            train_l_sum += l.item()\n",
        "            train_acc_sum += (y_hat.argmax(axis=1) == y).sum().item()\n",
        "            n += y.shape[0]\n",
        "        test_acc = evaluate_accuracy(test_iter, net)\n",
        "        print('epoch %d, loss %.4f, train acc %.3f, test acc %.3f, '\n",
        "              'time %.1f sec'\n",
        "              % (epoch + 1, train_l_sum / n, train_acc_sum / n, test_acc,\n",
        "                 time.time() - start))"
      ]
    },
    {
      "cell_type": "code",
      "execution_count": null,
      "metadata": {
        "ExecuteTime": {
          "end_time": "2019-11-15T17:18:25.814703Z",
          "start_time": "2019-11-15T17:17:49.114510Z"
        },
        "id": "qRiMJlYhwwVm",
        "outputId": "184b238b-f275-4c98-9c48-ad27a0e76d98",
        "colab": {
          "base_uri": "https://localhost:8080/"
        }
      },
      "outputs": [
        {
          "output_type": "stream",
          "name": "stdout",
          "text": [
            "epoch 1, loss 0.8203, train acc 0.732, test acc 0.958, time 14.0 sec\n",
            "epoch 2, loss 0.1144, train acc 0.965, test acc 0.970, time 14.4 sec\n",
            "epoch 3, loss 0.0823, train acc 0.975, test acc 0.977, time 14.2 sec\n",
            "epoch 4, loss 0.0669, train acc 0.979, test acc 0.979, time 14.4 sec\n",
            "epoch 5, loss 0.0575, train acc 0.982, test acc 0.981, time 17.4 sec\n"
          ]
        }
      ],
      "source": [
        "lr, num_epochs = 0.001, 5\n",
        "trainer = torch.optim.SGD(model.parameters(), lr=lr)\n",
        "train(model, train_iter, test_iter, trainer, num_epochs)"
      ]
    },
    {
      "cell_type": "markdown",
      "metadata": {
        "id": "VCfAmvJPw45A"
      },
      "source": [
        "## Обучение на GPU"
      ]
    },
    {
      "cell_type": "code",
      "execution_count": null,
      "metadata": {
        "ExecuteTime": {
          "end_time": "2019-11-14T21:43:43.967577Z",
          "start_time": "2019-11-14T21:43:43.963101Z"
        },
        "id": "AXokXQUzw6Lr"
      },
      "outputs": [],
      "source": [
        "dev = torch.device(\"cuda\") if torch.cuda.is_available() else torch.device(\"cpu\")"
      ]
    },
    {
      "cell_type": "code",
      "execution_count": null,
      "metadata": {
        "ExecuteTime": {
          "end_time": "2019-11-14T21:43:43.977459Z",
          "start_time": "2019-11-14T21:43:43.970316Z"
        },
        "colab": {
          "base_uri": "https://localhost:8080/"
        },
        "id": "xLQMfiFVxRfv",
        "outputId": "8ad5415b-a8f3-44d5-eea7-3a93b92bf9ad"
      },
      "outputs": [
        {
          "output_type": "execute_result",
          "data": {
            "text/plain": [
              "device(type='cuda')"
            ]
          },
          "metadata": {},
          "execution_count": 71
        }
      ],
      "source": [
        "dev"
      ]
    },
    {
      "cell_type": "code",
      "execution_count": null,
      "metadata": {
        "ExecuteTime": {
          "end_time": "2019-11-14T21:43:43.987680Z",
          "start_time": "2019-11-14T21:43:43.982555Z"
        },
        "id": "3DSc7YPtxClu"
      },
      "outputs": [],
      "source": [
        "model = model.to(dev)"
      ]
    },
    {
      "cell_type": "code",
      "execution_count": null,
      "metadata": {
        "ExecuteTime": {
          "end_time": "2019-11-14T21:43:44.003390Z",
          "start_time": "2019-11-14T21:43:43.991202Z"
        },
        "id": "1kAS0WRUxQU9"
      },
      "outputs": [],
      "source": [
        "def train(net, train_iter, test_iter, trainer, num_epochs, dev):\n",
        "    loss = nn.CrossEntropyLoss(reduction='sum')\n",
        "    for epoch in range(num_epochs):\n",
        "        train_l_sum, train_acc_sum, n, start = 0.0, 0.0, 0, time.time()\n",
        "        for X, y in train_iter:\n",
        "            trainer.zero_grad()\n",
        "            X, y = X.to(dev), y.to(dev) # отправляем данные на GPU\n",
        "            y_hat = net(X)\n",
        "            l = loss(y_hat, y)\n",
        "            l.backward()\n",
        "            trainer.step()\n",
        "            train_l_sum += l.item()\n",
        "            train_acc_sum += (y_hat.argmax(axis=1) == y).sum().item()\n",
        "            n += y.shape[0]\n",
        "        test_acc = evaluate_accuracy(test_iter, net, dev)\n",
        "        print('epoch %d, loss %.4f, train acc %.3f, test acc %.3f, '\n",
        "              'time %.1f sec'\n",
        "              % (epoch + 1, train_l_sum / n, train_acc_sum / n, test_acc,\n",
        "                 time.time() - start))"
      ]
    },
    {
      "cell_type": "code",
      "execution_count": null,
      "metadata": {
        "ExecuteTime": {
          "end_time": "2019-11-14T21:43:44.014332Z",
          "start_time": "2019-11-14T21:43:44.006081Z"
        },
        "id": "luDfZTfjxX3j"
      },
      "outputs": [],
      "source": [
        "def evaluate_accuracy(data_iter, net, dev):\n",
        "    acc_sum, n = torch.Tensor([0]).to(dev), 0\n",
        "    for X, y in data_iter:\n",
        "        X, y = X.to(dev), y.to(dev) # отправляем данные на GPU\n",
        "        acc_sum += (net(X).argmax(axis=1) == y).sum()\n",
        "        n += y.shape[0]\n",
        "    return acc_sum.item() / n"
      ]
    },
    {
      "cell_type": "code",
      "execution_count": null,
      "metadata": {
        "ExecuteTime": {
          "end_time": "2019-11-14T21:44:50.015770Z",
          "start_time": "2019-11-14T21:43:44.017767Z"
        },
        "colab": {
          "base_uri": "https://localhost:8080/"
        },
        "id": "gRP8hgY1xedj",
        "outputId": "24d0a3b5-575e-4283-91a9-c5e646a48c44"
      },
      "outputs": [
        {
          "output_type": "stream",
          "name": "stdout",
          "text": [
            "epoch 1, loss 0.0317, train acc 0.991, test acc 0.985, time 6.3 sec\n",
            "epoch 2, loss 0.0292, train acc 0.991, test acc 0.985, time 6.8 sec\n",
            "epoch 3, loss 0.0273, train acc 0.992, test acc 0.984, time 7.2 sec\n",
            "epoch 4, loss 0.0252, train acc 0.993, test acc 0.985, time 7.3 sec\n",
            "epoch 5, loss 0.0238, train acc 0.993, test acc 0.985, time 6.3 sec\n"
          ]
        }
      ],
      "source": [
        "lr, num_epochs = 0.001, 5\n",
        "trainer = torch.optim.SGD(model.parameters(), lr=lr)\n",
        "train(model, train_iter, test_iter, trainer, num_epochs, dev)"
      ]
    }
  ],
  "metadata": {
    "accelerator": "GPU",
    "colab": {
      "provenance": []
    },
    "kernelspec": {
      "display_name": "Python 3",
      "language": "python",
      "name": "python3"
    },
    "language_info": {
      "codemirror_mode": {
        "name": "ipython",
        "version": 3
      },
      "file_extension": ".py",
      "mimetype": "text/x-python",
      "name": "python",
      "nbconvert_exporter": "python",
      "pygments_lexer": "ipython3",
      "version": "3.7.1"
    },
    "widgets": {
      "application/vnd.jupyter.widget-state+json": {
        "93752722a6914d978a896e170f246bef": {
          "model_module": "@jupyter-widgets/controls",
          "model_name": "HBoxModel",
          "model_module_version": "1.5.0",
          "state": {
            "_dom_classes": [],
            "_model_module": "@jupyter-widgets/controls",
            "_model_module_version": "1.5.0",
            "_model_name": "HBoxModel",
            "_view_count": null,
            "_view_module": "@jupyter-widgets/controls",
            "_view_module_version": "1.5.0",
            "_view_name": "HBoxView",
            "box_style": "",
            "children": [
              "IPY_MODEL_881a73b0375743aea5eddce120889fa1",
              "IPY_MODEL_3d4b4f7225d24787b5ec06287a3ca262",
              "IPY_MODEL_0d82c7436f0649639a07ab4c9c968b09"
            ],
            "layout": "IPY_MODEL_e5a129aa786148e1bfbb04215a653239"
          }
        },
        "881a73b0375743aea5eddce120889fa1": {
          "model_module": "@jupyter-widgets/controls",
          "model_name": "HTMLModel",
          "model_module_version": "1.5.0",
          "state": {
            "_dom_classes": [],
            "_model_module": "@jupyter-widgets/controls",
            "_model_module_version": "1.5.0",
            "_model_name": "HTMLModel",
            "_view_count": null,
            "_view_module": "@jupyter-widgets/controls",
            "_view_module_version": "1.5.0",
            "_view_name": "HTMLView",
            "description": "",
            "description_tooltip": null,
            "layout": "IPY_MODEL_1ddb1c2adec64817bd361a387e557080",
            "placeholder": "​",
            "style": "IPY_MODEL_47fecca6f60c4ca69edac2e7194053f5",
            "value": "100%"
          }
        },
        "3d4b4f7225d24787b5ec06287a3ca262": {
          "model_module": "@jupyter-widgets/controls",
          "model_name": "FloatProgressModel",
          "model_module_version": "1.5.0",
          "state": {
            "_dom_classes": [],
            "_model_module": "@jupyter-widgets/controls",
            "_model_module_version": "1.5.0",
            "_model_name": "FloatProgressModel",
            "_view_count": null,
            "_view_module": "@jupyter-widgets/controls",
            "_view_module_version": "1.5.0",
            "_view_name": "ProgressView",
            "bar_style": "success",
            "description": "",
            "description_tooltip": null,
            "layout": "IPY_MODEL_7ac5e1d0cdf44d348abe73625e5583bd",
            "max": 9912422,
            "min": 0,
            "orientation": "horizontal",
            "style": "IPY_MODEL_1280c6dd4f124243b9a15c2059e3531b",
            "value": 9912422
          }
        },
        "0d82c7436f0649639a07ab4c9c968b09": {
          "model_module": "@jupyter-widgets/controls",
          "model_name": "HTMLModel",
          "model_module_version": "1.5.0",
          "state": {
            "_dom_classes": [],
            "_model_module": "@jupyter-widgets/controls",
            "_model_module_version": "1.5.0",
            "_model_name": "HTMLModel",
            "_view_count": null,
            "_view_module": "@jupyter-widgets/controls",
            "_view_module_version": "1.5.0",
            "_view_name": "HTMLView",
            "description": "",
            "description_tooltip": null,
            "layout": "IPY_MODEL_5941251ad033423fb9f983da8d035e05",
            "placeholder": "​",
            "style": "IPY_MODEL_6e0f668e64cc4a14947fd93620ba7c9b",
            "value": " 9912422/9912422 [00:00&lt;00:00, 45146044.38it/s]"
          }
        },
        "e5a129aa786148e1bfbb04215a653239": {
          "model_module": "@jupyter-widgets/base",
          "model_name": "LayoutModel",
          "model_module_version": "1.2.0",
          "state": {
            "_model_module": "@jupyter-widgets/base",
            "_model_module_version": "1.2.0",
            "_model_name": "LayoutModel",
            "_view_count": null,
            "_view_module": "@jupyter-widgets/base",
            "_view_module_version": "1.2.0",
            "_view_name": "LayoutView",
            "align_content": null,
            "align_items": null,
            "align_self": null,
            "border": null,
            "bottom": null,
            "display": null,
            "flex": null,
            "flex_flow": null,
            "grid_area": null,
            "grid_auto_columns": null,
            "grid_auto_flow": null,
            "grid_auto_rows": null,
            "grid_column": null,
            "grid_gap": null,
            "grid_row": null,
            "grid_template_areas": null,
            "grid_template_columns": null,
            "grid_template_rows": null,
            "height": null,
            "justify_content": null,
            "justify_items": null,
            "left": null,
            "margin": null,
            "max_height": null,
            "max_width": null,
            "min_height": null,
            "min_width": null,
            "object_fit": null,
            "object_position": null,
            "order": null,
            "overflow": null,
            "overflow_x": null,
            "overflow_y": null,
            "padding": null,
            "right": null,
            "top": null,
            "visibility": null,
            "width": null
          }
        },
        "1ddb1c2adec64817bd361a387e557080": {
          "model_module": "@jupyter-widgets/base",
          "model_name": "LayoutModel",
          "model_module_version": "1.2.0",
          "state": {
            "_model_module": "@jupyter-widgets/base",
            "_model_module_version": "1.2.0",
            "_model_name": "LayoutModel",
            "_view_count": null,
            "_view_module": "@jupyter-widgets/base",
            "_view_module_version": "1.2.0",
            "_view_name": "LayoutView",
            "align_content": null,
            "align_items": null,
            "align_self": null,
            "border": null,
            "bottom": null,
            "display": null,
            "flex": null,
            "flex_flow": null,
            "grid_area": null,
            "grid_auto_columns": null,
            "grid_auto_flow": null,
            "grid_auto_rows": null,
            "grid_column": null,
            "grid_gap": null,
            "grid_row": null,
            "grid_template_areas": null,
            "grid_template_columns": null,
            "grid_template_rows": null,
            "height": null,
            "justify_content": null,
            "justify_items": null,
            "left": null,
            "margin": null,
            "max_height": null,
            "max_width": null,
            "min_height": null,
            "min_width": null,
            "object_fit": null,
            "object_position": null,
            "order": null,
            "overflow": null,
            "overflow_x": null,
            "overflow_y": null,
            "padding": null,
            "right": null,
            "top": null,
            "visibility": null,
            "width": null
          }
        },
        "47fecca6f60c4ca69edac2e7194053f5": {
          "model_module": "@jupyter-widgets/controls",
          "model_name": "DescriptionStyleModel",
          "model_module_version": "1.5.0",
          "state": {
            "_model_module": "@jupyter-widgets/controls",
            "_model_module_version": "1.5.0",
            "_model_name": "DescriptionStyleModel",
            "_view_count": null,
            "_view_module": "@jupyter-widgets/base",
            "_view_module_version": "1.2.0",
            "_view_name": "StyleView",
            "description_width": ""
          }
        },
        "7ac5e1d0cdf44d348abe73625e5583bd": {
          "model_module": "@jupyter-widgets/base",
          "model_name": "LayoutModel",
          "model_module_version": "1.2.0",
          "state": {
            "_model_module": "@jupyter-widgets/base",
            "_model_module_version": "1.2.0",
            "_model_name": "LayoutModel",
            "_view_count": null,
            "_view_module": "@jupyter-widgets/base",
            "_view_module_version": "1.2.0",
            "_view_name": "LayoutView",
            "align_content": null,
            "align_items": null,
            "align_self": null,
            "border": null,
            "bottom": null,
            "display": null,
            "flex": null,
            "flex_flow": null,
            "grid_area": null,
            "grid_auto_columns": null,
            "grid_auto_flow": null,
            "grid_auto_rows": null,
            "grid_column": null,
            "grid_gap": null,
            "grid_row": null,
            "grid_template_areas": null,
            "grid_template_columns": null,
            "grid_template_rows": null,
            "height": null,
            "justify_content": null,
            "justify_items": null,
            "left": null,
            "margin": null,
            "max_height": null,
            "max_width": null,
            "min_height": null,
            "min_width": null,
            "object_fit": null,
            "object_position": null,
            "order": null,
            "overflow": null,
            "overflow_x": null,
            "overflow_y": null,
            "padding": null,
            "right": null,
            "top": null,
            "visibility": null,
            "width": null
          }
        },
        "1280c6dd4f124243b9a15c2059e3531b": {
          "model_module": "@jupyter-widgets/controls",
          "model_name": "ProgressStyleModel",
          "model_module_version": "1.5.0",
          "state": {
            "_model_module": "@jupyter-widgets/controls",
            "_model_module_version": "1.5.0",
            "_model_name": "ProgressStyleModel",
            "_view_count": null,
            "_view_module": "@jupyter-widgets/base",
            "_view_module_version": "1.2.0",
            "_view_name": "StyleView",
            "bar_color": null,
            "description_width": ""
          }
        },
        "5941251ad033423fb9f983da8d035e05": {
          "model_module": "@jupyter-widgets/base",
          "model_name": "LayoutModel",
          "model_module_version": "1.2.0",
          "state": {
            "_model_module": "@jupyter-widgets/base",
            "_model_module_version": "1.2.0",
            "_model_name": "LayoutModel",
            "_view_count": null,
            "_view_module": "@jupyter-widgets/base",
            "_view_module_version": "1.2.0",
            "_view_name": "LayoutView",
            "align_content": null,
            "align_items": null,
            "align_self": null,
            "border": null,
            "bottom": null,
            "display": null,
            "flex": null,
            "flex_flow": null,
            "grid_area": null,
            "grid_auto_columns": null,
            "grid_auto_flow": null,
            "grid_auto_rows": null,
            "grid_column": null,
            "grid_gap": null,
            "grid_row": null,
            "grid_template_areas": null,
            "grid_template_columns": null,
            "grid_template_rows": null,
            "height": null,
            "justify_content": null,
            "justify_items": null,
            "left": null,
            "margin": null,
            "max_height": null,
            "max_width": null,
            "min_height": null,
            "min_width": null,
            "object_fit": null,
            "object_position": null,
            "order": null,
            "overflow": null,
            "overflow_x": null,
            "overflow_y": null,
            "padding": null,
            "right": null,
            "top": null,
            "visibility": null,
            "width": null
          }
        },
        "6e0f668e64cc4a14947fd93620ba7c9b": {
          "model_module": "@jupyter-widgets/controls",
          "model_name": "DescriptionStyleModel",
          "model_module_version": "1.5.0",
          "state": {
            "_model_module": "@jupyter-widgets/controls",
            "_model_module_version": "1.5.0",
            "_model_name": "DescriptionStyleModel",
            "_view_count": null,
            "_view_module": "@jupyter-widgets/base",
            "_view_module_version": "1.2.0",
            "_view_name": "StyleView",
            "description_width": ""
          }
        },
        "3db1e7fc753443d2b6b4c5ad9279a16d": {
          "model_module": "@jupyter-widgets/controls",
          "model_name": "HBoxModel",
          "model_module_version": "1.5.0",
          "state": {
            "_dom_classes": [],
            "_model_module": "@jupyter-widgets/controls",
            "_model_module_version": "1.5.0",
            "_model_name": "HBoxModel",
            "_view_count": null,
            "_view_module": "@jupyter-widgets/controls",
            "_view_module_version": "1.5.0",
            "_view_name": "HBoxView",
            "box_style": "",
            "children": [
              "IPY_MODEL_4937d92412b54fae821e9a45ce43b5e0",
              "IPY_MODEL_174a44a1c8ae4376ab2892ba237939cd",
              "IPY_MODEL_1ee4487ece1848b8a5588961339bc909"
            ],
            "layout": "IPY_MODEL_b82756fdbf724095b506f5d05ac153e1"
          }
        },
        "4937d92412b54fae821e9a45ce43b5e0": {
          "model_module": "@jupyter-widgets/controls",
          "model_name": "HTMLModel",
          "model_module_version": "1.5.0",
          "state": {
            "_dom_classes": [],
            "_model_module": "@jupyter-widgets/controls",
            "_model_module_version": "1.5.0",
            "_model_name": "HTMLModel",
            "_view_count": null,
            "_view_module": "@jupyter-widgets/controls",
            "_view_module_version": "1.5.0",
            "_view_name": "HTMLView",
            "description": "",
            "description_tooltip": null,
            "layout": "IPY_MODEL_d28331496c994591aa47d533f97ef038",
            "placeholder": "​",
            "style": "IPY_MODEL_19b6c86a3a6344e88f8a701728c693e9",
            "value": "100%"
          }
        },
        "174a44a1c8ae4376ab2892ba237939cd": {
          "model_module": "@jupyter-widgets/controls",
          "model_name": "FloatProgressModel",
          "model_module_version": "1.5.0",
          "state": {
            "_dom_classes": [],
            "_model_module": "@jupyter-widgets/controls",
            "_model_module_version": "1.5.0",
            "_model_name": "FloatProgressModel",
            "_view_count": null,
            "_view_module": "@jupyter-widgets/controls",
            "_view_module_version": "1.5.0",
            "_view_name": "ProgressView",
            "bar_style": "success",
            "description": "",
            "description_tooltip": null,
            "layout": "IPY_MODEL_19282ca2f78c4a319a3b9e6817884846",
            "max": 28881,
            "min": 0,
            "orientation": "horizontal",
            "style": "IPY_MODEL_fb21573d003e415a80d9c2f4f17b1b89",
            "value": 28881
          }
        },
        "1ee4487ece1848b8a5588961339bc909": {
          "model_module": "@jupyter-widgets/controls",
          "model_name": "HTMLModel",
          "model_module_version": "1.5.0",
          "state": {
            "_dom_classes": [],
            "_model_module": "@jupyter-widgets/controls",
            "_model_module_version": "1.5.0",
            "_model_name": "HTMLModel",
            "_view_count": null,
            "_view_module": "@jupyter-widgets/controls",
            "_view_module_version": "1.5.0",
            "_view_name": "HTMLView",
            "description": "",
            "description_tooltip": null,
            "layout": "IPY_MODEL_5a6f04586b0649ada272eff21c79528a",
            "placeholder": "​",
            "style": "IPY_MODEL_303f063d1b51442ba9d17d64c5cfd3d8",
            "value": " 28881/28881 [00:00&lt;00:00, 1023045.04it/s]"
          }
        },
        "b82756fdbf724095b506f5d05ac153e1": {
          "model_module": "@jupyter-widgets/base",
          "model_name": "LayoutModel",
          "model_module_version": "1.2.0",
          "state": {
            "_model_module": "@jupyter-widgets/base",
            "_model_module_version": "1.2.0",
            "_model_name": "LayoutModel",
            "_view_count": null,
            "_view_module": "@jupyter-widgets/base",
            "_view_module_version": "1.2.0",
            "_view_name": "LayoutView",
            "align_content": null,
            "align_items": null,
            "align_self": null,
            "border": null,
            "bottom": null,
            "display": null,
            "flex": null,
            "flex_flow": null,
            "grid_area": null,
            "grid_auto_columns": null,
            "grid_auto_flow": null,
            "grid_auto_rows": null,
            "grid_column": null,
            "grid_gap": null,
            "grid_row": null,
            "grid_template_areas": null,
            "grid_template_columns": null,
            "grid_template_rows": null,
            "height": null,
            "justify_content": null,
            "justify_items": null,
            "left": null,
            "margin": null,
            "max_height": null,
            "max_width": null,
            "min_height": null,
            "min_width": null,
            "object_fit": null,
            "object_position": null,
            "order": null,
            "overflow": null,
            "overflow_x": null,
            "overflow_y": null,
            "padding": null,
            "right": null,
            "top": null,
            "visibility": null,
            "width": null
          }
        },
        "d28331496c994591aa47d533f97ef038": {
          "model_module": "@jupyter-widgets/base",
          "model_name": "LayoutModel",
          "model_module_version": "1.2.0",
          "state": {
            "_model_module": "@jupyter-widgets/base",
            "_model_module_version": "1.2.0",
            "_model_name": "LayoutModel",
            "_view_count": null,
            "_view_module": "@jupyter-widgets/base",
            "_view_module_version": "1.2.0",
            "_view_name": "LayoutView",
            "align_content": null,
            "align_items": null,
            "align_self": null,
            "border": null,
            "bottom": null,
            "display": null,
            "flex": null,
            "flex_flow": null,
            "grid_area": null,
            "grid_auto_columns": null,
            "grid_auto_flow": null,
            "grid_auto_rows": null,
            "grid_column": null,
            "grid_gap": null,
            "grid_row": null,
            "grid_template_areas": null,
            "grid_template_columns": null,
            "grid_template_rows": null,
            "height": null,
            "justify_content": null,
            "justify_items": null,
            "left": null,
            "margin": null,
            "max_height": null,
            "max_width": null,
            "min_height": null,
            "min_width": null,
            "object_fit": null,
            "object_position": null,
            "order": null,
            "overflow": null,
            "overflow_x": null,
            "overflow_y": null,
            "padding": null,
            "right": null,
            "top": null,
            "visibility": null,
            "width": null
          }
        },
        "19b6c86a3a6344e88f8a701728c693e9": {
          "model_module": "@jupyter-widgets/controls",
          "model_name": "DescriptionStyleModel",
          "model_module_version": "1.5.0",
          "state": {
            "_model_module": "@jupyter-widgets/controls",
            "_model_module_version": "1.5.0",
            "_model_name": "DescriptionStyleModel",
            "_view_count": null,
            "_view_module": "@jupyter-widgets/base",
            "_view_module_version": "1.2.0",
            "_view_name": "StyleView",
            "description_width": ""
          }
        },
        "19282ca2f78c4a319a3b9e6817884846": {
          "model_module": "@jupyter-widgets/base",
          "model_name": "LayoutModel",
          "model_module_version": "1.2.0",
          "state": {
            "_model_module": "@jupyter-widgets/base",
            "_model_module_version": "1.2.0",
            "_model_name": "LayoutModel",
            "_view_count": null,
            "_view_module": "@jupyter-widgets/base",
            "_view_module_version": "1.2.0",
            "_view_name": "LayoutView",
            "align_content": null,
            "align_items": null,
            "align_self": null,
            "border": null,
            "bottom": null,
            "display": null,
            "flex": null,
            "flex_flow": null,
            "grid_area": null,
            "grid_auto_columns": null,
            "grid_auto_flow": null,
            "grid_auto_rows": null,
            "grid_column": null,
            "grid_gap": null,
            "grid_row": null,
            "grid_template_areas": null,
            "grid_template_columns": null,
            "grid_template_rows": null,
            "height": null,
            "justify_content": null,
            "justify_items": null,
            "left": null,
            "margin": null,
            "max_height": null,
            "max_width": null,
            "min_height": null,
            "min_width": null,
            "object_fit": null,
            "object_position": null,
            "order": null,
            "overflow": null,
            "overflow_x": null,
            "overflow_y": null,
            "padding": null,
            "right": null,
            "top": null,
            "visibility": null,
            "width": null
          }
        },
        "fb21573d003e415a80d9c2f4f17b1b89": {
          "model_module": "@jupyter-widgets/controls",
          "model_name": "ProgressStyleModel",
          "model_module_version": "1.5.0",
          "state": {
            "_model_module": "@jupyter-widgets/controls",
            "_model_module_version": "1.5.0",
            "_model_name": "ProgressStyleModel",
            "_view_count": null,
            "_view_module": "@jupyter-widgets/base",
            "_view_module_version": "1.2.0",
            "_view_name": "StyleView",
            "bar_color": null,
            "description_width": ""
          }
        },
        "5a6f04586b0649ada272eff21c79528a": {
          "model_module": "@jupyter-widgets/base",
          "model_name": "LayoutModel",
          "model_module_version": "1.2.0",
          "state": {
            "_model_module": "@jupyter-widgets/base",
            "_model_module_version": "1.2.0",
            "_model_name": "LayoutModel",
            "_view_count": null,
            "_view_module": "@jupyter-widgets/base",
            "_view_module_version": "1.2.0",
            "_view_name": "LayoutView",
            "align_content": null,
            "align_items": null,
            "align_self": null,
            "border": null,
            "bottom": null,
            "display": null,
            "flex": null,
            "flex_flow": null,
            "grid_area": null,
            "grid_auto_columns": null,
            "grid_auto_flow": null,
            "grid_auto_rows": null,
            "grid_column": null,
            "grid_gap": null,
            "grid_row": null,
            "grid_template_areas": null,
            "grid_template_columns": null,
            "grid_template_rows": null,
            "height": null,
            "justify_content": null,
            "justify_items": null,
            "left": null,
            "margin": null,
            "max_height": null,
            "max_width": null,
            "min_height": null,
            "min_width": null,
            "object_fit": null,
            "object_position": null,
            "order": null,
            "overflow": null,
            "overflow_x": null,
            "overflow_y": null,
            "padding": null,
            "right": null,
            "top": null,
            "visibility": null,
            "width": null
          }
        },
        "303f063d1b51442ba9d17d64c5cfd3d8": {
          "model_module": "@jupyter-widgets/controls",
          "model_name": "DescriptionStyleModel",
          "model_module_version": "1.5.0",
          "state": {
            "_model_module": "@jupyter-widgets/controls",
            "_model_module_version": "1.5.0",
            "_model_name": "DescriptionStyleModel",
            "_view_count": null,
            "_view_module": "@jupyter-widgets/base",
            "_view_module_version": "1.2.0",
            "_view_name": "StyleView",
            "description_width": ""
          }
        },
        "8b2d229b187c4109933b00c2e9a738a1": {
          "model_module": "@jupyter-widgets/controls",
          "model_name": "HBoxModel",
          "model_module_version": "1.5.0",
          "state": {
            "_dom_classes": [],
            "_model_module": "@jupyter-widgets/controls",
            "_model_module_version": "1.5.0",
            "_model_name": "HBoxModel",
            "_view_count": null,
            "_view_module": "@jupyter-widgets/controls",
            "_view_module_version": "1.5.0",
            "_view_name": "HBoxView",
            "box_style": "",
            "children": [
              "IPY_MODEL_651b45d876214e5989443c1439fa2d75",
              "IPY_MODEL_c6b786e8ab604661ba3b5ba50fc62716",
              "IPY_MODEL_cf249bd47bea47d89651d483707f2358"
            ],
            "layout": "IPY_MODEL_1fa240b891f04144ba25013078648749"
          }
        },
        "651b45d876214e5989443c1439fa2d75": {
          "model_module": "@jupyter-widgets/controls",
          "model_name": "HTMLModel",
          "model_module_version": "1.5.0",
          "state": {
            "_dom_classes": [],
            "_model_module": "@jupyter-widgets/controls",
            "_model_module_version": "1.5.0",
            "_model_name": "HTMLModel",
            "_view_count": null,
            "_view_module": "@jupyter-widgets/controls",
            "_view_module_version": "1.5.0",
            "_view_name": "HTMLView",
            "description": "",
            "description_tooltip": null,
            "layout": "IPY_MODEL_b309f151663543739ba9d7b8a7a8c6ce",
            "placeholder": "​",
            "style": "IPY_MODEL_d2934361a7684f8cbeb4093a9f74487f",
            "value": "100%"
          }
        },
        "c6b786e8ab604661ba3b5ba50fc62716": {
          "model_module": "@jupyter-widgets/controls",
          "model_name": "FloatProgressModel",
          "model_module_version": "1.5.0",
          "state": {
            "_dom_classes": [],
            "_model_module": "@jupyter-widgets/controls",
            "_model_module_version": "1.5.0",
            "_model_name": "FloatProgressModel",
            "_view_count": null,
            "_view_module": "@jupyter-widgets/controls",
            "_view_module_version": "1.5.0",
            "_view_name": "ProgressView",
            "bar_style": "success",
            "description": "",
            "description_tooltip": null,
            "layout": "IPY_MODEL_459a28d0a16f4c058e3d459ac38f3f61",
            "max": 1648877,
            "min": 0,
            "orientation": "horizontal",
            "style": "IPY_MODEL_4924514e9dcf4c6e833b199014607bfd",
            "value": 1648877
          }
        },
        "cf249bd47bea47d89651d483707f2358": {
          "model_module": "@jupyter-widgets/controls",
          "model_name": "HTMLModel",
          "model_module_version": "1.5.0",
          "state": {
            "_dom_classes": [],
            "_model_module": "@jupyter-widgets/controls",
            "_model_module_version": "1.5.0",
            "_model_name": "HTMLModel",
            "_view_count": null,
            "_view_module": "@jupyter-widgets/controls",
            "_view_module_version": "1.5.0",
            "_view_name": "HTMLView",
            "description": "",
            "description_tooltip": null,
            "layout": "IPY_MODEL_1e920bf857df4303a127028f7080c277",
            "placeholder": "​",
            "style": "IPY_MODEL_5ec526d45ffd441098e804a20ec61f2f",
            "value": " 1648877/1648877 [00:00&lt;00:00, 18802942.28it/s]"
          }
        },
        "1fa240b891f04144ba25013078648749": {
          "model_module": "@jupyter-widgets/base",
          "model_name": "LayoutModel",
          "model_module_version": "1.2.0",
          "state": {
            "_model_module": "@jupyter-widgets/base",
            "_model_module_version": "1.2.0",
            "_model_name": "LayoutModel",
            "_view_count": null,
            "_view_module": "@jupyter-widgets/base",
            "_view_module_version": "1.2.0",
            "_view_name": "LayoutView",
            "align_content": null,
            "align_items": null,
            "align_self": null,
            "border": null,
            "bottom": null,
            "display": null,
            "flex": null,
            "flex_flow": null,
            "grid_area": null,
            "grid_auto_columns": null,
            "grid_auto_flow": null,
            "grid_auto_rows": null,
            "grid_column": null,
            "grid_gap": null,
            "grid_row": null,
            "grid_template_areas": null,
            "grid_template_columns": null,
            "grid_template_rows": null,
            "height": null,
            "justify_content": null,
            "justify_items": null,
            "left": null,
            "margin": null,
            "max_height": null,
            "max_width": null,
            "min_height": null,
            "min_width": null,
            "object_fit": null,
            "object_position": null,
            "order": null,
            "overflow": null,
            "overflow_x": null,
            "overflow_y": null,
            "padding": null,
            "right": null,
            "top": null,
            "visibility": null,
            "width": null
          }
        },
        "b309f151663543739ba9d7b8a7a8c6ce": {
          "model_module": "@jupyter-widgets/base",
          "model_name": "LayoutModel",
          "model_module_version": "1.2.0",
          "state": {
            "_model_module": "@jupyter-widgets/base",
            "_model_module_version": "1.2.0",
            "_model_name": "LayoutModel",
            "_view_count": null,
            "_view_module": "@jupyter-widgets/base",
            "_view_module_version": "1.2.0",
            "_view_name": "LayoutView",
            "align_content": null,
            "align_items": null,
            "align_self": null,
            "border": null,
            "bottom": null,
            "display": null,
            "flex": null,
            "flex_flow": null,
            "grid_area": null,
            "grid_auto_columns": null,
            "grid_auto_flow": null,
            "grid_auto_rows": null,
            "grid_column": null,
            "grid_gap": null,
            "grid_row": null,
            "grid_template_areas": null,
            "grid_template_columns": null,
            "grid_template_rows": null,
            "height": null,
            "justify_content": null,
            "justify_items": null,
            "left": null,
            "margin": null,
            "max_height": null,
            "max_width": null,
            "min_height": null,
            "min_width": null,
            "object_fit": null,
            "object_position": null,
            "order": null,
            "overflow": null,
            "overflow_x": null,
            "overflow_y": null,
            "padding": null,
            "right": null,
            "top": null,
            "visibility": null,
            "width": null
          }
        },
        "d2934361a7684f8cbeb4093a9f74487f": {
          "model_module": "@jupyter-widgets/controls",
          "model_name": "DescriptionStyleModel",
          "model_module_version": "1.5.0",
          "state": {
            "_model_module": "@jupyter-widgets/controls",
            "_model_module_version": "1.5.0",
            "_model_name": "DescriptionStyleModel",
            "_view_count": null,
            "_view_module": "@jupyter-widgets/base",
            "_view_module_version": "1.2.0",
            "_view_name": "StyleView",
            "description_width": ""
          }
        },
        "459a28d0a16f4c058e3d459ac38f3f61": {
          "model_module": "@jupyter-widgets/base",
          "model_name": "LayoutModel",
          "model_module_version": "1.2.0",
          "state": {
            "_model_module": "@jupyter-widgets/base",
            "_model_module_version": "1.2.0",
            "_model_name": "LayoutModel",
            "_view_count": null,
            "_view_module": "@jupyter-widgets/base",
            "_view_module_version": "1.2.0",
            "_view_name": "LayoutView",
            "align_content": null,
            "align_items": null,
            "align_self": null,
            "border": null,
            "bottom": null,
            "display": null,
            "flex": null,
            "flex_flow": null,
            "grid_area": null,
            "grid_auto_columns": null,
            "grid_auto_flow": null,
            "grid_auto_rows": null,
            "grid_column": null,
            "grid_gap": null,
            "grid_row": null,
            "grid_template_areas": null,
            "grid_template_columns": null,
            "grid_template_rows": null,
            "height": null,
            "justify_content": null,
            "justify_items": null,
            "left": null,
            "margin": null,
            "max_height": null,
            "max_width": null,
            "min_height": null,
            "min_width": null,
            "object_fit": null,
            "object_position": null,
            "order": null,
            "overflow": null,
            "overflow_x": null,
            "overflow_y": null,
            "padding": null,
            "right": null,
            "top": null,
            "visibility": null,
            "width": null
          }
        },
        "4924514e9dcf4c6e833b199014607bfd": {
          "model_module": "@jupyter-widgets/controls",
          "model_name": "ProgressStyleModel",
          "model_module_version": "1.5.0",
          "state": {
            "_model_module": "@jupyter-widgets/controls",
            "_model_module_version": "1.5.0",
            "_model_name": "ProgressStyleModel",
            "_view_count": null,
            "_view_module": "@jupyter-widgets/base",
            "_view_module_version": "1.2.0",
            "_view_name": "StyleView",
            "bar_color": null,
            "description_width": ""
          }
        },
        "1e920bf857df4303a127028f7080c277": {
          "model_module": "@jupyter-widgets/base",
          "model_name": "LayoutModel",
          "model_module_version": "1.2.0",
          "state": {
            "_model_module": "@jupyter-widgets/base",
            "_model_module_version": "1.2.0",
            "_model_name": "LayoutModel",
            "_view_count": null,
            "_view_module": "@jupyter-widgets/base",
            "_view_module_version": "1.2.0",
            "_view_name": "LayoutView",
            "align_content": null,
            "align_items": null,
            "align_self": null,
            "border": null,
            "bottom": null,
            "display": null,
            "flex": null,
            "flex_flow": null,
            "grid_area": null,
            "grid_auto_columns": null,
            "grid_auto_flow": null,
            "grid_auto_rows": null,
            "grid_column": null,
            "grid_gap": null,
            "grid_row": null,
            "grid_template_areas": null,
            "grid_template_columns": null,
            "grid_template_rows": null,
            "height": null,
            "justify_content": null,
            "justify_items": null,
            "left": null,
            "margin": null,
            "max_height": null,
            "max_width": null,
            "min_height": null,
            "min_width": null,
            "object_fit": null,
            "object_position": null,
            "order": null,
            "overflow": null,
            "overflow_x": null,
            "overflow_y": null,
            "padding": null,
            "right": null,
            "top": null,
            "visibility": null,
            "width": null
          }
        },
        "5ec526d45ffd441098e804a20ec61f2f": {
          "model_module": "@jupyter-widgets/controls",
          "model_name": "DescriptionStyleModel",
          "model_module_version": "1.5.0",
          "state": {
            "_model_module": "@jupyter-widgets/controls",
            "_model_module_version": "1.5.0",
            "_model_name": "DescriptionStyleModel",
            "_view_count": null,
            "_view_module": "@jupyter-widgets/base",
            "_view_module_version": "1.2.0",
            "_view_name": "StyleView",
            "description_width": ""
          }
        },
        "17a9f7a79b35457face3662718e465a1": {
          "model_module": "@jupyter-widgets/controls",
          "model_name": "HBoxModel",
          "model_module_version": "1.5.0",
          "state": {
            "_dom_classes": [],
            "_model_module": "@jupyter-widgets/controls",
            "_model_module_version": "1.5.0",
            "_model_name": "HBoxModel",
            "_view_count": null,
            "_view_module": "@jupyter-widgets/controls",
            "_view_module_version": "1.5.0",
            "_view_name": "HBoxView",
            "box_style": "",
            "children": [
              "IPY_MODEL_10ebac9c199244c3b7c22c76c3e6e022",
              "IPY_MODEL_1cb8ef7b02f94baa93f157651e75c97a",
              "IPY_MODEL_5200a828c8a44fa2a9367843916f8895"
            ],
            "layout": "IPY_MODEL_d3a198d0e8c34e3eaf7f22042f021922"
          }
        },
        "10ebac9c199244c3b7c22c76c3e6e022": {
          "model_module": "@jupyter-widgets/controls",
          "model_name": "HTMLModel",
          "model_module_version": "1.5.0",
          "state": {
            "_dom_classes": [],
            "_model_module": "@jupyter-widgets/controls",
            "_model_module_version": "1.5.0",
            "_model_name": "HTMLModel",
            "_view_count": null,
            "_view_module": "@jupyter-widgets/controls",
            "_view_module_version": "1.5.0",
            "_view_name": "HTMLView",
            "description": "",
            "description_tooltip": null,
            "layout": "IPY_MODEL_dced0b349ecc4df29bbd59ac22603a7f",
            "placeholder": "​",
            "style": "IPY_MODEL_20e518c950844c3aaaa193538882d406",
            "value": "100%"
          }
        },
        "1cb8ef7b02f94baa93f157651e75c97a": {
          "model_module": "@jupyter-widgets/controls",
          "model_name": "FloatProgressModel",
          "model_module_version": "1.5.0",
          "state": {
            "_dom_classes": [],
            "_model_module": "@jupyter-widgets/controls",
            "_model_module_version": "1.5.0",
            "_model_name": "FloatProgressModel",
            "_view_count": null,
            "_view_module": "@jupyter-widgets/controls",
            "_view_module_version": "1.5.0",
            "_view_name": "ProgressView",
            "bar_style": "success",
            "description": "",
            "description_tooltip": null,
            "layout": "IPY_MODEL_fc058091840c4795a080dcf8516b2c07",
            "max": 4542,
            "min": 0,
            "orientation": "horizontal",
            "style": "IPY_MODEL_988d2173645146e9b8c8662e214aaa43",
            "value": 4542
          }
        },
        "5200a828c8a44fa2a9367843916f8895": {
          "model_module": "@jupyter-widgets/controls",
          "model_name": "HTMLModel",
          "model_module_version": "1.5.0",
          "state": {
            "_dom_classes": [],
            "_model_module": "@jupyter-widgets/controls",
            "_model_module_version": "1.5.0",
            "_model_name": "HTMLModel",
            "_view_count": null,
            "_view_module": "@jupyter-widgets/controls",
            "_view_module_version": "1.5.0",
            "_view_name": "HTMLView",
            "description": "",
            "description_tooltip": null,
            "layout": "IPY_MODEL_46f44988f853497cb219e79cf86cf986",
            "placeholder": "​",
            "style": "IPY_MODEL_4f67ab33453546f189d366e48b0016e6",
            "value": " 4542/4542 [00:00&lt;00:00, 332330.76it/s]"
          }
        },
        "d3a198d0e8c34e3eaf7f22042f021922": {
          "model_module": "@jupyter-widgets/base",
          "model_name": "LayoutModel",
          "model_module_version": "1.2.0",
          "state": {
            "_model_module": "@jupyter-widgets/base",
            "_model_module_version": "1.2.0",
            "_model_name": "LayoutModel",
            "_view_count": null,
            "_view_module": "@jupyter-widgets/base",
            "_view_module_version": "1.2.0",
            "_view_name": "LayoutView",
            "align_content": null,
            "align_items": null,
            "align_self": null,
            "border": null,
            "bottom": null,
            "display": null,
            "flex": null,
            "flex_flow": null,
            "grid_area": null,
            "grid_auto_columns": null,
            "grid_auto_flow": null,
            "grid_auto_rows": null,
            "grid_column": null,
            "grid_gap": null,
            "grid_row": null,
            "grid_template_areas": null,
            "grid_template_columns": null,
            "grid_template_rows": null,
            "height": null,
            "justify_content": null,
            "justify_items": null,
            "left": null,
            "margin": null,
            "max_height": null,
            "max_width": null,
            "min_height": null,
            "min_width": null,
            "object_fit": null,
            "object_position": null,
            "order": null,
            "overflow": null,
            "overflow_x": null,
            "overflow_y": null,
            "padding": null,
            "right": null,
            "top": null,
            "visibility": null,
            "width": null
          }
        },
        "dced0b349ecc4df29bbd59ac22603a7f": {
          "model_module": "@jupyter-widgets/base",
          "model_name": "LayoutModel",
          "model_module_version": "1.2.0",
          "state": {
            "_model_module": "@jupyter-widgets/base",
            "_model_module_version": "1.2.0",
            "_model_name": "LayoutModel",
            "_view_count": null,
            "_view_module": "@jupyter-widgets/base",
            "_view_module_version": "1.2.0",
            "_view_name": "LayoutView",
            "align_content": null,
            "align_items": null,
            "align_self": null,
            "border": null,
            "bottom": null,
            "display": null,
            "flex": null,
            "flex_flow": null,
            "grid_area": null,
            "grid_auto_columns": null,
            "grid_auto_flow": null,
            "grid_auto_rows": null,
            "grid_column": null,
            "grid_gap": null,
            "grid_row": null,
            "grid_template_areas": null,
            "grid_template_columns": null,
            "grid_template_rows": null,
            "height": null,
            "justify_content": null,
            "justify_items": null,
            "left": null,
            "margin": null,
            "max_height": null,
            "max_width": null,
            "min_height": null,
            "min_width": null,
            "object_fit": null,
            "object_position": null,
            "order": null,
            "overflow": null,
            "overflow_x": null,
            "overflow_y": null,
            "padding": null,
            "right": null,
            "top": null,
            "visibility": null,
            "width": null
          }
        },
        "20e518c950844c3aaaa193538882d406": {
          "model_module": "@jupyter-widgets/controls",
          "model_name": "DescriptionStyleModel",
          "model_module_version": "1.5.0",
          "state": {
            "_model_module": "@jupyter-widgets/controls",
            "_model_module_version": "1.5.0",
            "_model_name": "DescriptionStyleModel",
            "_view_count": null,
            "_view_module": "@jupyter-widgets/base",
            "_view_module_version": "1.2.0",
            "_view_name": "StyleView",
            "description_width": ""
          }
        },
        "fc058091840c4795a080dcf8516b2c07": {
          "model_module": "@jupyter-widgets/base",
          "model_name": "LayoutModel",
          "model_module_version": "1.2.0",
          "state": {
            "_model_module": "@jupyter-widgets/base",
            "_model_module_version": "1.2.0",
            "_model_name": "LayoutModel",
            "_view_count": null,
            "_view_module": "@jupyter-widgets/base",
            "_view_module_version": "1.2.0",
            "_view_name": "LayoutView",
            "align_content": null,
            "align_items": null,
            "align_self": null,
            "border": null,
            "bottom": null,
            "display": null,
            "flex": null,
            "flex_flow": null,
            "grid_area": null,
            "grid_auto_columns": null,
            "grid_auto_flow": null,
            "grid_auto_rows": null,
            "grid_column": null,
            "grid_gap": null,
            "grid_row": null,
            "grid_template_areas": null,
            "grid_template_columns": null,
            "grid_template_rows": null,
            "height": null,
            "justify_content": null,
            "justify_items": null,
            "left": null,
            "margin": null,
            "max_height": null,
            "max_width": null,
            "min_height": null,
            "min_width": null,
            "object_fit": null,
            "object_position": null,
            "order": null,
            "overflow": null,
            "overflow_x": null,
            "overflow_y": null,
            "padding": null,
            "right": null,
            "top": null,
            "visibility": null,
            "width": null
          }
        },
        "988d2173645146e9b8c8662e214aaa43": {
          "model_module": "@jupyter-widgets/controls",
          "model_name": "ProgressStyleModel",
          "model_module_version": "1.5.0",
          "state": {
            "_model_module": "@jupyter-widgets/controls",
            "_model_module_version": "1.5.0",
            "_model_name": "ProgressStyleModel",
            "_view_count": null,
            "_view_module": "@jupyter-widgets/base",
            "_view_module_version": "1.2.0",
            "_view_name": "StyleView",
            "bar_color": null,
            "description_width": ""
          }
        },
        "46f44988f853497cb219e79cf86cf986": {
          "model_module": "@jupyter-widgets/base",
          "model_name": "LayoutModel",
          "model_module_version": "1.2.0",
          "state": {
            "_model_module": "@jupyter-widgets/base",
            "_model_module_version": "1.2.0",
            "_model_name": "LayoutModel",
            "_view_count": null,
            "_view_module": "@jupyter-widgets/base",
            "_view_module_version": "1.2.0",
            "_view_name": "LayoutView",
            "align_content": null,
            "align_items": null,
            "align_self": null,
            "border": null,
            "bottom": null,
            "display": null,
            "flex": null,
            "flex_flow": null,
            "grid_area": null,
            "grid_auto_columns": null,
            "grid_auto_flow": null,
            "grid_auto_rows": null,
            "grid_column": null,
            "grid_gap": null,
            "grid_row": null,
            "grid_template_areas": null,
            "grid_template_columns": null,
            "grid_template_rows": null,
            "height": null,
            "justify_content": null,
            "justify_items": null,
            "left": null,
            "margin": null,
            "max_height": null,
            "max_width": null,
            "min_height": null,
            "min_width": null,
            "object_fit": null,
            "object_position": null,
            "order": null,
            "overflow": null,
            "overflow_x": null,
            "overflow_y": null,
            "padding": null,
            "right": null,
            "top": null,
            "visibility": null,
            "width": null
          }
        },
        "4f67ab33453546f189d366e48b0016e6": {
          "model_module": "@jupyter-widgets/controls",
          "model_name": "DescriptionStyleModel",
          "model_module_version": "1.5.0",
          "state": {
            "_model_module": "@jupyter-widgets/controls",
            "_model_module_version": "1.5.0",
            "_model_name": "DescriptionStyleModel",
            "_view_count": null,
            "_view_module": "@jupyter-widgets/base",
            "_view_module_version": "1.2.0",
            "_view_name": "StyleView",
            "description_width": ""
          }
        }
      }
    }
  },
  "nbformat": 4,
  "nbformat_minor": 0
}