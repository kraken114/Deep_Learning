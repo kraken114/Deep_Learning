{
  "cells": [
    {
      "cell_type": "code",
      "execution_count": null,
      "metadata": {
        "ExecuteTime": {
          "end_time": "2019-11-18T16:19:19.017474Z",
          "start_time": "2019-11-18T16:19:18.970512Z"
        },
        "id": "F-DhapwDvO4E"
      },
      "outputs": [],
      "source": [
        "import torch\n",
        "from torch import nn\n",
        "import torchvision as tv\n",
        "import time"
      ]
    },
    {
      "cell_type": "markdown",
      "metadata": {
        "id": "s3X_dE76vO4I"
      },
      "source": [
        "## DataSet"
      ]
    },
    {
      "cell_type": "code",
      "execution_count": null,
      "metadata": {
        "ExecuteTime": {
          "end_time": "2019-11-18T16:20:20.881570Z",
          "start_time": "2019-11-18T16:20:20.802160Z"
        },
        "id": "t048JaL9vO4J",
        "colab": {
          "base_uri": "https://localhost:8080/",
          "height": 423,
          "referenced_widgets": [
            "891ff9c7c4b9425b98c5f685ea546527",
            "ff7cdef4928745099141781427943abe",
            "8ce574c1f3284674af8941291405ac7b",
            "7c572d4b52a84979b46bcd55c7bf2889",
            "1ddf6ffa26ec400d961fb44ca5900a74",
            "7cfb7aabb13b42169f7f7562a928de61",
            "13f2c31fcc1d4005995f20999cd2c465",
            "58d216ac8ba84eb7bddb707da980cb32",
            "f7c75fb42b454a0a911b1d6e6a4901b1",
            "654d9334ef5b4bdea00624a300466610",
            "6897549bb060491dbe047dc79c64e673",
            "ece8f35269a5478c8091bae22c41b91e",
            "1133ae07e2d24471b4a88c7615abc1de",
            "b55f285a96184be7925d7c31fc5fbe2e",
            "4c8d09f9edba4e58ac125bff6c95196c",
            "7dc6405bb3ac447aaf85b39d537c3e39",
            "8030854be9b54fb0803c79e5631630d6",
            "5b30ee9b631d4aa192af2cb51890f2ee",
            "03704bf9ca9d4691bb6f4907262f5bbe",
            "96f22e23ccdf41bfb2a5725cb2daf478",
            "c0d875eb64ac415b870963e270ce159d",
            "75de6efc0c9d4b14abcae24ab28895b1",
            "7b607d2e2d9d41dcae89178fca788e62",
            "19e13c97f5f447f695703c245c3c79a5",
            "2e945d26f65447229a5e55837c0d5744",
            "84a658aaec2e446b853aafe3e81032b8",
            "3554d8dca2dd4fbd902ed86f28a0374c",
            "2782e190fc6644ea8d44a2531c30cd01",
            "9689a7a51aef4e029003d4303f1734df",
            "a6e892dffbdd46f4a9b8d74a9e670939",
            "143319e8995a4fca88d4ba61c20f91da",
            "96c558f357424fd2b5ec5c7522f30d65",
            "91e099f09763458f847581a3a2fb8ae8",
            "369557ff40ed46908af68d10f074e446",
            "bab59ceaab554b11bdd0a3c09a235e54",
            "cf43050929e74da9ab16d5ffd0cd3067",
            "388305f4a79f442092ba104c59184bf3",
            "b93c158b80164e029f7ad4761aba9dfc",
            "f264658e9fef4e98bba9adbf947fa5e0",
            "3fdbea90f40041f386f54b6d97bf746b",
            "a02f6d9f50e849cf82a1469c43ce831b",
            "55f97ab932954dc09c581b76606e33d7",
            "25bf559e9dfd4c37bc1bf1432487fca2",
            "e2f6cde7b8a245048172d1d4b348f7f0"
          ]
        },
        "outputId": "24a749b9-9a10-4708-eab1-eb3e9dcc61e1"
      },
      "outputs": [
        {
          "output_type": "stream",
          "name": "stdout",
          "text": [
            "Downloading http://yann.lecun.com/exdb/mnist/train-images-idx3-ubyte.gz\n",
            "Downloading http://yann.lecun.com/exdb/mnist/train-images-idx3-ubyte.gz to ./MNIST/raw/train-images-idx3-ubyte.gz\n"
          ]
        },
        {
          "output_type": "display_data",
          "data": {
            "text/plain": [
              "  0%|          | 0/9912422 [00:00<?, ?it/s]"
            ],
            "application/vnd.jupyter.widget-view+json": {
              "version_major": 2,
              "version_minor": 0,
              "model_id": "891ff9c7c4b9425b98c5f685ea546527"
            }
          },
          "metadata": {}
        },
        {
          "output_type": "stream",
          "name": "stdout",
          "text": [
            "Extracting ./MNIST/raw/train-images-idx3-ubyte.gz to ./MNIST/raw\n",
            "\n",
            "Downloading http://yann.lecun.com/exdb/mnist/train-labels-idx1-ubyte.gz\n",
            "Downloading http://yann.lecun.com/exdb/mnist/train-labels-idx1-ubyte.gz to ./MNIST/raw/train-labels-idx1-ubyte.gz\n"
          ]
        },
        {
          "output_type": "display_data",
          "data": {
            "text/plain": [
              "  0%|          | 0/28881 [00:00<?, ?it/s]"
            ],
            "application/vnd.jupyter.widget-view+json": {
              "version_major": 2,
              "version_minor": 0,
              "model_id": "ece8f35269a5478c8091bae22c41b91e"
            }
          },
          "metadata": {}
        },
        {
          "output_type": "stream",
          "name": "stdout",
          "text": [
            "Extracting ./MNIST/raw/train-labels-idx1-ubyte.gz to ./MNIST/raw\n",
            "\n",
            "Downloading http://yann.lecun.com/exdb/mnist/t10k-images-idx3-ubyte.gz\n",
            "Downloading http://yann.lecun.com/exdb/mnist/t10k-images-idx3-ubyte.gz to ./MNIST/raw/t10k-images-idx3-ubyte.gz\n"
          ]
        },
        {
          "output_type": "display_data",
          "data": {
            "text/plain": [
              "  0%|          | 0/1648877 [00:00<?, ?it/s]"
            ],
            "application/vnd.jupyter.widget-view+json": {
              "version_major": 2,
              "version_minor": 0,
              "model_id": "7b607d2e2d9d41dcae89178fca788e62"
            }
          },
          "metadata": {}
        },
        {
          "output_type": "stream",
          "name": "stdout",
          "text": [
            "Extracting ./MNIST/raw/t10k-images-idx3-ubyte.gz to ./MNIST/raw\n",
            "\n",
            "Downloading http://yann.lecun.com/exdb/mnist/t10k-labels-idx1-ubyte.gz\n",
            "Downloading http://yann.lecun.com/exdb/mnist/t10k-labels-idx1-ubyte.gz to ./MNIST/raw/t10k-labels-idx1-ubyte.gz\n"
          ]
        },
        {
          "output_type": "display_data",
          "data": {
            "text/plain": [
              "  0%|          | 0/4542 [00:00<?, ?it/s]"
            ],
            "application/vnd.jupyter.widget-view+json": {
              "version_major": 2,
              "version_minor": 0,
              "model_id": "369557ff40ed46908af68d10f074e446"
            }
          },
          "metadata": {}
        },
        {
          "output_type": "stream",
          "name": "stdout",
          "text": [
            "Extracting ./MNIST/raw/t10k-labels-idx1-ubyte.gz to ./MNIST/raw\n",
            "\n"
          ]
        }
      ],
      "source": [
        "BATCH_SIZE = 256\n",
        "train_dataset = tv.datasets.MNIST('.', train=True, transform=tv.transforms.ToTensor(), download=True)\n",
        "test_dataset = tv.datasets.MNIST('.', train=False, transform=tv.transforms.ToTensor(), download=True)\n",
        "train_iter = torch.utils.data.DataLoader(train_dataset, batch_size=BATCH_SIZE)\n",
        "test_iter = torch.utils.data.DataLoader(test_dataset, batch_size=BATCH_SIZE)"
      ]
    },
    {
      "cell_type": "code",
      "source": [
        "torch.Tensor([0])"
      ],
      "metadata": {
        "colab": {
          "base_uri": "https://localhost:8080/"
        },
        "id": "0jfyQDjdHPXK",
        "outputId": "dd21a978-7be6-42b9-ca92-d256ec8392bb"
      },
      "execution_count": null,
      "outputs": [
        {
          "output_type": "execute_result",
          "data": {
            "text/plain": [
              "tensor([0.])"
            ]
          },
          "metadata": {},
          "execution_count": 2
        }
      ]
    },
    {
      "cell_type": "code",
      "execution_count": null,
      "metadata": {
        "ExecuteTime": {
          "end_time": "2019-11-18T16:20:21.306023Z",
          "start_time": "2019-11-18T16:20:21.293827Z"
        },
        "id": "mQdCZbabvO4J"
      },
      "outputs": [],
      "source": [
        "# считает accuracy - берет данные прогоняет через модель и дает долю правильных ответов\n",
        "def evaluate_accuracy(data_iter, net): #data_iter - картинка в виде тензора+метка, net-модель\n",
        "    acc_sum, n = torch.Tensor([0]), 0 # acc_sum-тензор = 0, n=0 (счетчик типа)\n",
        "    net.eval()\n",
        "    for X, y in data_iter:\n",
        "        acc_sum += (net(X).argmax(axis=1) == y).sum()\n",
        "        # acc_sum - доля правильных ответов\n",
        "        n += y.shape[0]\n",
        "    return acc_sum.item() / n"
      ]
    },
    {
      "cell_type": "code",
      "execution_count": null,
      "metadata": {
        "ExecuteTime": {
          "end_time": "2019-11-18T16:20:21.693926Z",
          "start_time": "2019-11-18T16:20:21.678441Z"
        },
        "id": "zP_OFRfTvO4K"
      },
      "outputs": [],
      "source": [
        "def train(net, train_iter, test_iter, trainer, num_epochs):\n",
        "    loss = nn.CrossEntropyLoss(reduction='sum')\n",
        "    net.train()\n",
        "    for epoch in range(num_epochs):\n",
        "        train_l_sum, train_acc_sum, n, start = 0.0, 0.0, 0, time.time()\n",
        "        for X, y in train_iter:\n",
        "            trainer.zero_grad()\n",
        "            y_hat = net(X)\n",
        "            l = loss(y_hat, y)\n",
        "            l.backward()\n",
        "            trainer.step()\n",
        "            train_l_sum += l.item() # накапливаем характеристики\n",
        "            train_acc_sum += (y_hat.argmax(axis=1) == y).sum().item() # накапливаем характеристики\n",
        "            n += y.shape[0] # накапливаем характеристики\n",
        "            print(\"Step. time since epoch: {:.3f}. Train acc: {:.3f}. Train Loss: {:.3f}\".format(time.time() -  start,\n",
        "                (y_hat.argmax(axis=1) == y).sum().item() / y.shape[0], l.item()))\n",
        "        test_acc = evaluate_accuracy(test_iter, net)\n",
        "        print('epoch %d, loss %.4f, train acc %.3f, test acc %.3f, '\n",
        "              'time %.1f sec'\n",
        "              % (epoch + 1, train_l_sum / n, train_acc_sum / n, test_acc,\n",
        "                 time.time() - start))"
      ]
    },
    {
      "cell_type": "markdown",
      "metadata": {
        "id": "C_mmFEbvvO4K"
      },
      "source": [
        "## LeNet"
      ]
    },
    {
      "cell_type": "code",
      "execution_count": null,
      "metadata": {
        "ExecuteTime": {
          "end_time": "2019-11-18T16:20:22.749954Z",
          "start_time": "2019-11-18T16:20:22.740638Z"
        },
        "id": "g37qpWhkvO4L"
      },
      "outputs": [],
      "source": [
        "net = nn.Sequential(\n",
        "    nn.Conv2d(1, 6, kernel_size=5, padding=2),\n",
        "    nn.Sigmoid(),\n",
        "    nn.AvgPool2d(2, stride=2),\n",
        "    nn.Conv2d(6, 16, kernel_size=5),\n",
        "    nn.Sigmoid(),\n",
        "    nn.AvgPool2d(2, stride=2),\n",
        "    nn.Flatten(),\n",
        "    nn.Linear(400, 120),\n",
        "    nn.Sigmoid(),\n",
        "    nn.Linear(120, 84),\n",
        "    nn.Sigmoid(),\n",
        "    nn.Linear(84, 10)\n",
        ")"
      ]
    },
    {
      "cell_type": "code",
      "source": [
        "net"
      ],
      "metadata": {
        "colab": {
          "base_uri": "https://localhost:8080/"
        },
        "id": "HnO7Wt3FLR20",
        "outputId": "c029c722-d732-40e6-f143-a3835e5f3604"
      },
      "execution_count": null,
      "outputs": [
        {
          "output_type": "execute_result",
          "data": {
            "text/plain": [
              "Sequential(\n",
              "  (0): Conv2d(1, 6, kernel_size=(5, 5), stride=(1, 1), padding=(2, 2))\n",
              "  (1): Sigmoid()\n",
              "  (2): AvgPool2d(kernel_size=2, stride=2, padding=0)\n",
              "  (3): Conv2d(6, 16, kernel_size=(5, 5), stride=(1, 1))\n",
              "  (4): Sigmoid()\n",
              "  (5): AvgPool2d(kernel_size=2, stride=2, padding=0)\n",
              "  (6): Flatten(start_dim=1, end_dim=-1)\n",
              "  (7): Linear(in_features=400, out_features=120, bias=True)\n",
              "  (8): Sigmoid()\n",
              "  (9): Linear(in_features=120, out_features=84, bias=True)\n",
              "  (10): Sigmoid()\n",
              "  (11): Linear(in_features=84, out_features=10, bias=True)\n",
              ")"
            ]
          },
          "metadata": {},
          "execution_count": 6
        }
      ]
    },
    {
      "cell_type": "code",
      "execution_count": null,
      "metadata": {
        "ExecuteTime": {
          "end_time": "2019-11-18T16:20:28.809141Z",
          "start_time": "2019-11-18T16:20:23.333771Z"
        },
        "id": "3syu2MTKvO4L",
        "outputId": "73a2d50d-1065-4569-ce50-45cce86dd9d8",
        "colab": {
          "base_uri": "https://localhost:8080/",
          "height": 1000
        }
      },
      "outputs": [
        {
          "output_type": "stream",
          "name": "stdout",
          "text": [
            "Step. time since epoch: 0.340. Train acc: 0.094. Train Loss: 603.059\n",
            "Step. time since epoch: 0.403. Train acc: 0.133. Train Loss: 57385.301\n",
            "Step. time since epoch: 0.475. Train acc: 0.094. Train Loss: 133094.250\n",
            "Step. time since epoch: 0.548. Train acc: 0.156. Train Loss: 128673.117\n",
            "Step. time since epoch: 0.615. Train acc: 0.133. Train Loss: 178479.406\n",
            "Step. time since epoch: 0.684. Train acc: 0.078. Train Loss: 210585.031\n",
            "Step. time since epoch: 0.758. Train acc: 0.062. Train Loss: 282207.031\n",
            "Step. time since epoch: 0.836. Train acc: 0.102. Train Loss: 308979.219\n",
            "Step. time since epoch: 0.938. Train acc: 0.117. Train Loss: 355826.906\n",
            "Step. time since epoch: 1.040. Train acc: 0.102. Train Loss: 355958.781\n",
            "Step. time since epoch: 1.144. Train acc: 0.086. Train Loss: 366841.219\n",
            "Step. time since epoch: 1.262. Train acc: 0.121. Train Loss: 55702.238\n",
            "Step. time since epoch: 1.389. Train acc: 0.117. Train Loss: 91670.852\n",
            "Step. time since epoch: 1.488. Train acc: 0.105. Train Loss: 153725.703\n",
            "Step. time since epoch: 1.597. Train acc: 0.109. Train Loss: 135048.234\n",
            "Step. time since epoch: 1.779. Train acc: 0.074. Train Loss: 172484.172\n",
            "Step. time since epoch: 1.900. Train acc: 0.082. Train Loss: 228663.250\n",
            "Step. time since epoch: 2.076. Train acc: 0.105. Train Loss: 204881.719\n",
            "Step. time since epoch: 2.214. Train acc: 0.102. Train Loss: 218463.891\n",
            "Step. time since epoch: 2.454. Train acc: 0.086. Train Loss: 241949.641\n",
            "Step. time since epoch: 2.597. Train acc: 0.055. Train Loss: 246607.547\n",
            "Step. time since epoch: 2.709. Train acc: 0.098. Train Loss: 88950.602\n",
            "Step. time since epoch: 2.860. Train acc: 0.090. Train Loss: 117208.266\n",
            "Step. time since epoch: 2.968. Train acc: 0.090. Train Loss: 99657.016\n",
            "Step. time since epoch: 3.115. Train acc: 0.102. Train Loss: 123215.523\n",
            "Step. time since epoch: 3.260. Train acc: 0.078. Train Loss: 156909.625\n",
            "Step. time since epoch: 3.372. Train acc: 0.113. Train Loss: 185057.484\n",
            "Step. time since epoch: 3.535. Train acc: 0.133. Train Loss: 180817.672\n",
            "Step. time since epoch: 3.655. Train acc: 0.113. Train Loss: 205955.125\n",
            "Step. time since epoch: 3.823. Train acc: 0.117. Train Loss: 204643.812\n",
            "Step. time since epoch: 3.890. Train acc: 0.082. Train Loss: 202603.188\n",
            "Step. time since epoch: 3.957. Train acc: 0.125. Train Loss: 135535.875\n",
            "Step. time since epoch: 4.026. Train acc: 0.117. Train Loss: 112408.242\n",
            "Step. time since epoch: 4.096. Train acc: 0.098. Train Loss: 96467.812\n",
            "Step. time since epoch: 4.164. Train acc: 0.055. Train Loss: 117379.148\n",
            "Step. time since epoch: 4.238. Train acc: 0.117. Train Loss: 136258.859\n",
            "Step. time since epoch: 4.309. Train acc: 0.098. Train Loss: 184542.281\n",
            "Step. time since epoch: 4.375. Train acc: 0.086. Train Loss: 196103.172\n",
            "Step. time since epoch: 4.445. Train acc: 0.113. Train Loss: 222933.703\n",
            "Step. time since epoch: 4.512. Train acc: 0.086. Train Loss: 207443.188\n",
            "Step. time since epoch: 4.588. Train acc: 0.113. Train Loss: 138668.812\n",
            "Step. time since epoch: 4.657. Train acc: 0.098. Train Loss: 174512.578\n",
            "Step. time since epoch: 4.729. Train acc: 0.090. Train Loss: 131943.938\n",
            "Step. time since epoch: 4.801. Train acc: 0.117. Train Loss: 120024.883\n",
            "Step. time since epoch: 4.870. Train acc: 0.094. Train Loss: 114431.141\n",
            "Step. time since epoch: 4.946. Train acc: 0.113. Train Loss: 135634.938\n",
            "Step. time since epoch: 5.018. Train acc: 0.121. Train Loss: 172248.562\n",
            "Step. time since epoch: 5.095. Train acc: 0.109. Train Loss: 185469.516\n",
            "Step. time since epoch: 5.162. Train acc: 0.090. Train Loss: 203344.781\n",
            "Step. time since epoch: 5.242. Train acc: 0.094. Train Loss: 178210.297\n",
            "Step. time since epoch: 5.311. Train acc: 0.098. Train Loss: 193126.594\n",
            "Step. time since epoch: 5.382. Train acc: 0.098. Train Loss: 133033.906\n",
            "Step. time since epoch: 5.451. Train acc: 0.094. Train Loss: 157632.125\n",
            "Step. time since epoch: 5.521. Train acc: 0.113. Train Loss: 142059.391\n",
            "Step. time since epoch: 5.591. Train acc: 0.102. Train Loss: 108547.250\n",
            "Step. time since epoch: 5.655. Train acc: 0.109. Train Loss: 125812.445\n",
            "Step. time since epoch: 5.724. Train acc: 0.102. Train Loss: 150535.219\n",
            "Step. time since epoch: 5.795. Train acc: 0.094. Train Loss: 165756.078\n",
            "Step. time since epoch: 5.873. Train acc: 0.094. Train Loss: 193052.562\n",
            "Step. time since epoch: 5.944. Train acc: 0.117. Train Loss: 189118.047\n",
            "Step. time since epoch: 6.013. Train acc: 0.086. Train Loss: 215961.828\n",
            "Step. time since epoch: 6.083. Train acc: 0.090. Train Loss: 128329.703\n",
            "Step. time since epoch: 6.154. Train acc: 0.109. Train Loss: 144239.906\n",
            "Step. time since epoch: 6.221. Train acc: 0.094. Train Loss: 166859.641\n",
            "Step. time since epoch: 6.290. Train acc: 0.117. Train Loss: 123524.852\n",
            "Step. time since epoch: 6.364. Train acc: 0.129. Train Loss: 111265.844\n",
            "Step. time since epoch: 6.432. Train acc: 0.098. Train Loss: 140535.250\n",
            "Step. time since epoch: 6.501. Train acc: 0.094. Train Loss: 180907.094\n",
            "Step. time since epoch: 6.574. Train acc: 0.090. Train Loss: 184146.375\n",
            "Step. time since epoch: 6.642. Train acc: 0.129. Train Loss: 178008.109\n",
            "Step. time since epoch: 6.709. Train acc: 0.090. Train Loss: 223803.797\n",
            "Step. time since epoch: 6.778. Train acc: 0.090. Train Loss: 149054.344\n",
            "Step. time since epoch: 6.852. Train acc: 0.090. Train Loss: 150773.906\n",
            "Step. time since epoch: 6.922. Train acc: 0.090. Train Loss: 127050.844\n",
            "Step. time since epoch: 6.989. Train acc: 0.137. Train Loss: 109349.234\n",
            "Step. time since epoch: 7.072. Train acc: 0.094. Train Loss: 153029.016\n",
            "Step. time since epoch: 7.143. Train acc: 0.121. Train Loss: 163373.141\n",
            "Step. time since epoch: 7.213. Train acc: 0.094. Train Loss: 178079.031\n",
            "Step. time since epoch: 7.283. Train acc: 0.109. Train Loss: 172837.078\n",
            "Step. time since epoch: 7.351. Train acc: 0.113. Train Loss: 175876.281\n",
            "Step. time since epoch: 7.421. Train acc: 0.121. Train Loss: 192623.062\n",
            "Step. time since epoch: 7.488. Train acc: 0.070. Train Loss: 141166.406\n",
            "Step. time since epoch: 7.559. Train acc: 0.129. Train Loss: 143389.391\n",
            "Step. time since epoch: 7.628. Train acc: 0.125. Train Loss: 127938.383\n",
            "Step. time since epoch: 7.694. Train acc: 0.094. Train Loss: 133785.516\n",
            "Step. time since epoch: 7.760. Train acc: 0.086. Train Loss: 154980.859\n",
            "Step. time since epoch: 7.828. Train acc: 0.086. Train Loss: 183837.500\n",
            "Step. time since epoch: 7.908. Train acc: 0.078. Train Loss: 166117.438\n",
            "Step. time since epoch: 7.977. Train acc: 0.102. Train Loss: 166076.953\n",
            "Step. time since epoch: 8.051. Train acc: 0.090. Train Loss: 218711.656\n",
            "Step. time since epoch: 8.120. Train acc: 0.117. Train Loss: 152206.891\n",
            "Step. time since epoch: 8.192. Train acc: 0.078. Train Loss: 139617.609\n",
            "Step. time since epoch: 8.261. Train acc: 0.113. Train Loss: 157132.750\n",
            "Step. time since epoch: 8.332. Train acc: 0.113. Train Loss: 159559.547\n",
            "Step. time since epoch: 8.402. Train acc: 0.102. Train Loss: 123637.117\n",
            "Step. time since epoch: 8.469. Train acc: 0.094. Train Loss: 151379.562\n",
            "Step. time since epoch: 8.542. Train acc: 0.094. Train Loss: 152623.141\n",
            "Step. time since epoch: 8.611. Train acc: 0.086. Train Loss: 160374.516\n",
            "Step. time since epoch: 8.678. Train acc: 0.113. Train Loss: 163687.938\n",
            "Step. time since epoch: 8.744. Train acc: 0.094. Train Loss: 200367.547\n",
            "Step. time since epoch: 8.814. Train acc: 0.094. Train Loss: 166918.359\n",
            "Step. time since epoch: 8.896. Train acc: 0.117. Train Loss: 146660.422\n",
            "Step. time since epoch: 8.969. Train acc: 0.086. Train Loss: 188252.953\n",
            "Step. time since epoch: 9.038. Train acc: 0.098. Train Loss: 200475.266\n",
            "Step. time since epoch: 9.108. Train acc: 0.102. Train Loss: 99641.242\n",
            "Step. time since epoch: 9.180. Train acc: 0.098. Train Loss: 128307.875\n",
            "Step. time since epoch: 9.246. Train acc: 0.121. Train Loss: 125435.812\n",
            "Step. time since epoch: 9.317. Train acc: 0.121. Train Loss: 151497.047\n",
            "Step. time since epoch: 9.389. Train acc: 0.141. Train Loss: 168218.141\n",
            "Step. time since epoch: 9.458. Train acc: 0.109. Train Loss: 167043.406\n",
            "Step. time since epoch: 9.532. Train acc: 0.125. Train Loss: 165991.859\n",
            "Step. time since epoch: 9.604. Train acc: 0.098. Train Loss: 177429.422\n",
            "Step. time since epoch: 9.678. Train acc: 0.094. Train Loss: 190798.688\n",
            "Step. time since epoch: 9.748. Train acc: 0.090. Train Loss: 190664.328\n",
            "Step. time since epoch: 9.820. Train acc: 0.105. Train Loss: 93880.656\n",
            "Step. time since epoch: 9.898. Train acc: 0.074. Train Loss: 103969.258\n",
            "Step. time since epoch: 9.968. Train acc: 0.098. Train Loss: 151895.672\n",
            "Step. time since epoch: 10.043. Train acc: 0.121. Train Loss: 160920.172\n",
            "Step. time since epoch: 10.111. Train acc: 0.086. Train Loss: 169518.016\n",
            "Step. time since epoch: 10.179. Train acc: 0.105. Train Loss: 173096.406\n",
            "Step. time since epoch: 10.246. Train acc: 0.109. Train Loss: 201358.469\n",
            "Step. time since epoch: 10.318. Train acc: 0.098. Train Loss: 172501.000\n",
            "Step. time since epoch: 10.386. Train acc: 0.098. Train Loss: 202858.594\n",
            "Step. time since epoch: 10.457. Train acc: 0.121. Train Loss: 163334.391\n",
            "Step. time since epoch: 10.523. Train acc: 0.133. Train Loss: 106994.555\n",
            "Step. time since epoch: 10.590. Train acc: 0.098. Train Loss: 95492.383\n",
            "Step. time since epoch: 10.664. Train acc: 0.078. Train Loss: 114518.891\n",
            "Step. time since epoch: 10.734. Train acc: 0.105. Train Loss: 138556.656\n",
            "Step. time since epoch: 10.804. Train acc: 0.074. Train Loss: 194749.281\n",
            "Step. time since epoch: 10.874. Train acc: 0.105. Train Loss: 213729.188\n",
            "Step. time since epoch: 10.952. Train acc: 0.086. Train Loss: 183348.922\n",
            "Step. time since epoch: 11.025. Train acc: 0.086. Train Loss: 182162.750\n",
            "Step. time since epoch: 11.097. Train acc: 0.098. Train Loss: 194900.625\n",
            "Step. time since epoch: 11.164. Train acc: 0.117. Train Loss: 164121.406\n",
            "Step. time since epoch: 11.231. Train acc: 0.102. Train Loss: 120200.391\n",
            "Step. time since epoch: 11.309. Train acc: 0.117. Train Loss: 124420.586\n",
            "Step. time since epoch: 11.379. Train acc: 0.090. Train Loss: 134384.203\n",
            "Step. time since epoch: 11.450. Train acc: 0.078. Train Loss: 141744.125\n",
            "Step. time since epoch: 11.518. Train acc: 0.109. Train Loss: 165722.875\n",
            "Step. time since epoch: 11.588. Train acc: 0.078. Train Loss: 167346.766\n",
            "Step. time since epoch: 11.659. Train acc: 0.094. Train Loss: 179226.734\n",
            "Step. time since epoch: 11.730. Train acc: 0.094. Train Loss: 173599.094\n",
            "Step. time since epoch: 11.797. Train acc: 0.102. Train Loss: 198051.109\n",
            "Step. time since epoch: 11.866. Train acc: 0.082. Train Loss: 206425.422\n",
            "Step. time since epoch: 11.943. Train acc: 0.121. Train Loss: 127277.875\n",
            "Step. time since epoch: 12.016. Train acc: 0.102. Train Loss: 157529.656\n",
            "Step. time since epoch: 12.081. Train acc: 0.082. Train Loss: 137992.438\n",
            "Step. time since epoch: 12.143. Train acc: 0.098. Train Loss: 126967.086\n",
            "Step. time since epoch: 12.208. Train acc: 0.137. Train Loss: 149298.500\n",
            "Step. time since epoch: 12.269. Train acc: 0.125. Train Loss: 143157.297\n",
            "Step. time since epoch: 12.338. Train acc: 0.109. Train Loss: 152389.328\n",
            "Step. time since epoch: 12.399. Train acc: 0.086. Train Loss: 172512.047\n",
            "Step. time since epoch: 12.463. Train acc: 0.121. Train Loss: 191370.734\n",
            "Step. time since epoch: 12.531. Train acc: 0.094. Train Loss: 194316.562\n",
            "Step. time since epoch: 12.597. Train acc: 0.109. Train Loss: 154739.734\n",
            "Step. time since epoch: 12.661. Train acc: 0.109. Train Loss: 149642.469\n",
            "Step. time since epoch: 12.729. Train acc: 0.078. Train Loss: 142585.234\n",
            "Step. time since epoch: 12.794. Train acc: 0.098. Train Loss: 125650.211\n",
            "Step. time since epoch: 12.869. Train acc: 0.082. Train Loss: 188858.094\n",
            "Step. time since epoch: 12.943. Train acc: 0.098. Train Loss: 146491.109\n",
            "Step. time since epoch: 13.012. Train acc: 0.090. Train Loss: 140496.609\n",
            "Step. time since epoch: 13.080. Train acc: 0.074. Train Loss: 174925.031\n",
            "Step. time since epoch: 13.148. Train acc: 0.094. Train Loss: 184230.609\n",
            "Step. time since epoch: 13.221. Train acc: 0.156. Train Loss: 152996.734\n",
            "Step. time since epoch: 13.292. Train acc: 0.121. Train Loss: 193283.484\n",
            "Step. time since epoch: 13.362. Train acc: 0.102. Train Loss: 147382.234\n",
            "Step. time since epoch: 13.429. Train acc: 0.090. Train Loss: 142514.656\n",
            "Step. time since epoch: 13.498. Train acc: 0.109. Train Loss: 140854.312\n",
            "Step. time since epoch: 13.569. Train acc: 0.094. Train Loss: 91621.812\n",
            "Step. time since epoch: 13.638. Train acc: 0.086. Train Loss: 112294.477\n",
            "Step. time since epoch: 13.704. Train acc: 0.094. Train Loss: 158984.234\n",
            "Step. time since epoch: 13.772. Train acc: 0.109. Train Loss: 144445.703\n",
            "Step. time since epoch: 13.842. Train acc: 0.113. Train Loss: 193663.500\n",
            "Step. time since epoch: 13.910. Train acc: 0.121. Train Loss: 177415.203\n",
            "Step. time since epoch: 13.984. Train acc: 0.109. Train Loss: 194049.078\n",
            "Step. time since epoch: 14.052. Train acc: 0.117. Train Loss: 156381.391\n",
            "Step. time since epoch: 14.120. Train acc: 0.098. Train Loss: 184286.297\n",
            "Step. time since epoch: 14.190. Train acc: 0.090. Train Loss: 157905.734\n",
            "Step. time since epoch: 14.258. Train acc: 0.109. Train Loss: 113963.680\n",
            "Step. time since epoch: 14.328. Train acc: 0.125. Train Loss: 106676.109\n",
            "Step. time since epoch: 14.399. Train acc: 0.145. Train Loss: 138260.484\n",
            "Step. time since epoch: 14.465. Train acc: 0.098. Train Loss: 157582.141\n",
            "Step. time since epoch: 14.535. Train acc: 0.109. Train Loss: 179944.188\n",
            "Step. time since epoch: 14.603. Train acc: 0.102. Train Loss: 198787.250\n",
            "Step. time since epoch: 14.670. Train acc: 0.098. Train Loss: 171333.328\n",
            "Step. time since epoch: 14.734. Train acc: 0.105. Train Loss: 155253.406\n",
            "Step. time since epoch: 14.800. Train acc: 0.094. Train Loss: 158435.078\n",
            "Step. time since epoch: 14.871. Train acc: 0.102. Train Loss: 124959.398\n",
            "Step. time since epoch: 14.944. Train acc: 0.105. Train Loss: 126157.211\n",
            "Step. time since epoch: 15.024. Train acc: 0.102. Train Loss: 146586.766\n",
            "Step. time since epoch: 15.096. Train acc: 0.094. Train Loss: 173971.922\n",
            "Step. time since epoch: 15.163. Train acc: 0.117. Train Loss: 168937.984\n",
            "Step. time since epoch: 15.230. Train acc: 0.090. Train Loss: 182319.328\n",
            "Step. time since epoch: 15.297. Train acc: 0.102. Train Loss: 202015.828\n",
            "Step. time since epoch: 15.373. Train acc: 0.086. Train Loss: 137202.734\n",
            "Step. time since epoch: 15.442. Train acc: 0.082. Train Loss: 178252.125\n",
            "Step. time since epoch: 15.507. Train acc: 0.090. Train Loss: 144770.656\n",
            "Step. time since epoch: 15.577. Train acc: 0.098. Train Loss: 139858.594\n",
            "Step. time since epoch: 15.647. Train acc: 0.098. Train Loss: 135158.688\n",
            "Step. time since epoch: 15.719. Train acc: 0.145. Train Loss: 158454.562\n",
            "Step. time since epoch: 15.788. Train acc: 0.094. Train Loss: 159700.953\n",
            "Step. time since epoch: 15.855. Train acc: 0.090. Train Loss: 171186.359\n",
            "Step. time since epoch: 15.923. Train acc: 0.102. Train Loss: 174652.672\n",
            "Step. time since epoch: 15.998. Train acc: 0.070. Train Loss: 204555.938\n",
            "Step. time since epoch: 16.068. Train acc: 0.102. Train Loss: 145181.328\n",
            "Step. time since epoch: 16.134. Train acc: 0.062. Train Loss: 156006.797\n",
            "Step. time since epoch: 16.201. Train acc: 0.086. Train Loss: 114519.172\n",
            "Step. time since epoch: 16.268. Train acc: 0.090. Train Loss: 148324.938\n",
            "Step. time since epoch: 16.339. Train acc: 0.117. Train Loss: 162725.938\n",
            "Step. time since epoch: 16.404. Train acc: 0.086. Train Loss: 153153.109\n",
            "Step. time since epoch: 16.472. Train acc: 0.098. Train Loss: 165344.469\n",
            "Step. time since epoch: 16.540. Train acc: 0.113. Train Loss: 161793.047\n",
            "Step. time since epoch: 16.614. Train acc: 0.109. Train Loss: 189348.344\n",
            "Step. time since epoch: 16.685. Train acc: 0.090. Train Loss: 205450.328\n",
            "Step. time since epoch: 16.752. Train acc: 0.129. Train Loss: 133814.906\n",
            "Step. time since epoch: 16.821. Train acc: 0.090. Train Loss: 114407.719\n",
            "Step. time since epoch: 16.890. Train acc: 0.102. Train Loss: 140268.297\n",
            "Step. time since epoch: 16.971. Train acc: 0.102. Train Loss: 129848.336\n",
            "Step. time since epoch: 17.045. Train acc: 0.090. Train Loss: 153686.172\n",
            "Step. time since epoch: 17.117. Train acc: 0.113. Train Loss: 170244.781\n",
            "Step. time since epoch: 17.186. Train acc: 0.082. Train Loss: 173914.031\n",
            "Step. time since epoch: 17.256. Train acc: 0.086. Train Loss: 185420.125\n",
            "Step. time since epoch: 17.327. Train acc: 0.145. Train Loss: 174820.922\n",
            "Step. time since epoch: 17.413. Train acc: 0.078. Train Loss: 215145.016\n",
            "Step. time since epoch: 17.481. Train acc: 0.105. Train Loss: 130650.969\n",
            "Step. time since epoch: 17.554. Train acc: 0.117. Train Loss: 123486.750\n",
            "Step. time since epoch: 17.623. Train acc: 0.055. Train Loss: 133818.531\n",
            "Step. time since epoch: 17.690. Train acc: 0.109. Train Loss: 160929.297\n",
            "Step. time since epoch: 17.759. Train acc: 0.098. Train Loss: 153864.859\n",
            "Step. time since epoch: 17.827. Train acc: 0.094. Train Loss: 158986.984\n",
            "Step. time since epoch: 17.903. Train acc: 0.105. Train Loss: 160292.859\n",
            "Step. time since epoch: 17.980. Train acc: 0.117. Train Loss: 183995.531\n",
            "Step. time since epoch: 18.056. Train acc: 0.098. Train Loss: 194135.391\n",
            "Step. time since epoch: 18.123. Train acc: 0.102. Train Loss: 191991.953\n",
            "Step. time since epoch: 18.154. Train acc: 0.094. Train Loss: 48729.750\n",
            "epoch 1, loss 631.5576, train acc 0.101, test acc 0.114, time 19.6 sec\n",
            "Step. time since epoch: 0.068. Train acc: 0.137. Train Loss: 119254.328\n",
            "Step. time since epoch: 0.135. Train acc: 0.109. Train Loss: 125180.977\n",
            "Step. time since epoch: 0.204. Train acc: 0.094. Train Loss: 102220.180\n",
            "Step. time since epoch: 0.274. Train acc: 0.098. Train Loss: 137628.188\n",
            "Step. time since epoch: 0.343. Train acc: 0.074. Train Loss: 147237.922\n",
            "Step. time since epoch: 0.414. Train acc: 0.109. Train Loss: 173146.766\n",
            "Step. time since epoch: 0.487. Train acc: 0.121. Train Loss: 163493.672\n",
            "Step. time since epoch: 0.555. Train acc: 0.102. Train Loss: 190367.438\n",
            "Step. time since epoch: 0.618. Train acc: 0.133. Train Loss: 187571.453\n",
            "Step. time since epoch: 0.685. Train acc: 0.082. Train Loss: 204319.859\n",
            "Step. time since epoch: 0.758. Train acc: 0.129. Train Loss: 152027.594\n",
            "Step. time since epoch: 0.828. Train acc: 0.098. Train Loss: 162151.656\n",
            "Step. time since epoch: 0.899. Train acc: 0.090. Train Loss: 77908.086\n",
            "Step. time since epoch: 0.966. Train acc: 0.078. Train Loss: 100103.125\n",
            "Step. time since epoch: 1.034. Train acc: 0.102. Train Loss: 114910.648\n",
            "Step. time since epoch: 1.103. Train acc: 0.098. Train Loss: 141256.734\n",
            "Step. time since epoch: 1.176. Train acc: 0.117. Train Loss: 143008.344\n",
            "Step. time since epoch: 1.246. Train acc: 0.109. Train Loss: 175520.781\n",
            "Step. time since epoch: 1.309. Train acc: 0.090. Train Loss: 163097.297\n",
            "Step. time since epoch: 1.468. Train acc: 0.086. Train Loss: 183239.750\n",
            "Step. time since epoch: 1.583. Train acc: 0.105. Train Loss: 208861.859\n",
            "Step. time since epoch: 1.650. Train acc: 0.113. Train Loss: 187472.609\n",
            "Step. time since epoch: 1.719. Train acc: 0.117. Train Loss: 199872.641\n",
            "Step. time since epoch: 1.789. Train acc: 0.094. Train Loss: 103057.828\n",
            "Step. time since epoch: 1.859. Train acc: 0.102. Train Loss: 103020.047\n",
            "Step. time since epoch: 1.929. Train acc: 0.098. Train Loss: 131192.531\n",
            "Step. time since epoch: 1.996. Train acc: 0.098. Train Loss: 120787.797\n",
            "Step. time since epoch: 2.063. Train acc: 0.082. Train Loss: 137396.375\n",
            "Step. time since epoch: 2.131. Train acc: 0.109. Train Loss: 170955.859\n",
            "Step. time since epoch: 2.354. Train acc: 0.078. Train Loss: 204498.000\n",
            "Step. time since epoch: 2.422. Train acc: 0.113. Train Loss: 210577.828\n",
            "Step. time since epoch: 2.489. Train acc: 0.117. Train Loss: 178218.438\n",
            "Step. time since epoch: 2.567. Train acc: 0.094. Train Loss: 212150.875\n",
            "Step. time since epoch: 2.635. Train acc: 0.066. Train Loss: 119497.078\n",
            "Step. time since epoch: 2.701. Train acc: 0.141. Train Loss: 108841.359\n",
            "Step. time since epoch: 2.769. Train acc: 0.098. Train Loss: 127692.336\n",
            "Step. time since epoch: 2.855. Train acc: 0.109. Train Loss: 157816.219\n",
            "Step. time since epoch: 2.931. Train acc: 0.070. Train Loss: 154060.656\n",
            "Step. time since epoch: 3.109. Train acc: 0.113. Train Loss: 132787.281\n",
            "Step. time since epoch: 3.180. Train acc: 0.086. Train Loss: 168719.578\n",
            "Step. time since epoch: 3.245. Train acc: 0.098. Train Loss: 177003.188\n",
            "Step. time since epoch: 3.324. Train acc: 0.098. Train Loss: 221989.375\n",
            "Step. time since epoch: 3.393. Train acc: 0.117. Train Loss: 218027.812\n",
            "Step. time since epoch: 3.460. Train acc: 0.102. Train Loss: 105517.609\n",
            "Step. time since epoch: 3.528. Train acc: 0.066. Train Loss: 147988.844\n",
            "Step. time since epoch: 3.603. Train acc: 0.109. Train Loss: 161458.250\n",
            "Step. time since epoch: 3.671. Train acc: 0.062. Train Loss: 159941.141\n",
            "Step. time since epoch: 3.735. Train acc: 0.105. Train Loss: 123171.352\n",
            "Step. time since epoch: 3.807. Train acc: 0.098. Train Loss: 131510.719\n",
            "Step. time since epoch: 3.875. Train acc: 0.109. Train Loss: 161948.969\n",
            "Step. time since epoch: 3.942. Train acc: 0.090. Train Loss: 193383.016\n",
            "Step. time since epoch: 4.012. Train acc: 0.086. Train Loss: 209565.031\n",
            "Step. time since epoch: 4.079. Train acc: 0.078. Train Loss: 207852.000\n",
            "Step. time since epoch: 4.152. Train acc: 0.113. Train Loss: 119986.125\n",
            "Step. time since epoch: 4.222. Train acc: 0.102. Train Loss: 148627.359\n",
            "Step. time since epoch: 4.292. Train acc: 0.105. Train Loss: 186825.453\n",
            "Step. time since epoch: 4.364. Train acc: 0.109. Train Loss: 134092.078\n",
            "Step. time since epoch: 4.433. Train acc: 0.109. Train Loss: 118313.289\n",
            "Step. time since epoch: 4.503. Train acc: 0.090. Train Loss: 149822.266\n",
            "Step. time since epoch: 4.577. Train acc: 0.086. Train Loss: 146755.125\n",
            "Step. time since epoch: 4.644. Train acc: 0.094. Train Loss: 160506.000\n",
            "Step. time since epoch: 4.711. Train acc: 0.109. Train Loss: 150269.219\n",
            "Step. time since epoch: 4.780. Train acc: 0.066. Train Loss: 178185.953\n",
            "Step. time since epoch: 4.855. Train acc: 0.145. Train Loss: 147602.641\n",
            "Step. time since epoch: 4.922. Train acc: 0.102. Train Loss: 175322.469\n",
            "Step. time since epoch: 4.989. Train acc: 0.055. Train Loss: 202938.969\n",
            "Step. time since epoch: 5.053. Train acc: 0.086. Train Loss: 127982.812\n",
            "Step. time since epoch: 5.116. Train acc: 0.102. Train Loss: 128761.578\n",
            "Step. time since epoch: 5.186. Train acc: 0.078. Train Loss: 173449.078\n",
            "Step. time since epoch: 5.260. Train acc: 0.113. Train Loss: 180224.422\n",
            "Step. time since epoch: 5.329. Train acc: 0.070. Train Loss: 128835.414\n",
            "Step. time since epoch: 5.394. Train acc: 0.137. Train Loss: 139013.375\n",
            "Step. time since epoch: 5.460. Train acc: 0.094. Train Loss: 173133.141\n",
            "Step. time since epoch: 5.536. Train acc: 0.090. Train Loss: 201868.016\n",
            "Step. time since epoch: 5.610. Train acc: 0.094. Train Loss: 200860.891\n",
            "Step. time since epoch: 5.678. Train acc: 0.082. Train Loss: 173425.062\n",
            "Step. time since epoch: 5.750. Train acc: 0.105. Train Loss: 114114.312\n",
            "Step. time since epoch: 5.824. Train acc: 0.094. Train Loss: 129935.344\n",
            "Step. time since epoch: 5.892. Train acc: 0.094. Train Loss: 146115.250\n",
            "Step. time since epoch: 5.960. Train acc: 0.129. Train Loss: 170687.625\n",
            "Step. time since epoch: 6.030. Train acc: 0.074. Train Loss: 181309.000\n",
            "Step. time since epoch: 6.097. Train acc: 0.074. Train Loss: 138466.141\n",
            "Step. time since epoch: 6.167. Train acc: 0.113. Train Loss: 146947.031\n",
            "Step. time since epoch: 6.239. Train acc: 0.090. Train Loss: 193761.219\n",
            "Step. time since epoch: 6.305. Train acc: 0.129. Train Loss: 197891.562\n",
            "Step. time since epoch: 6.377. Train acc: 0.109. Train Loss: 178720.625\n",
            "Step. time since epoch: 6.456. Train acc: 0.109. Train Loss: 112168.734\n",
            "Step. time since epoch: 6.531. Train acc: 0.105. Train Loss: 144763.688\n",
            "Step. time since epoch: 6.610. Train acc: 0.094. Train Loss: 135446.156\n",
            "Step. time since epoch: 6.678. Train acc: 0.137. Train Loss: 157937.016\n",
            "Step. time since epoch: 6.744. Train acc: 0.117. Train Loss: 167350.578\n",
            "Step. time since epoch: 6.819. Train acc: 0.094. Train Loss: 137727.594\n",
            "Step. time since epoch: 6.887. Train acc: 0.121. Train Loss: 160552.812\n",
            "Step. time since epoch: 6.955. Train acc: 0.098. Train Loss: 171738.766\n",
            "Step. time since epoch: 7.025. Train acc: 0.102. Train Loss: 207585.984\n",
            "Step. time since epoch: 7.093. Train acc: 0.098. Train Loss: 147534.562\n",
            "Step. time since epoch: 7.162. Train acc: 0.102. Train Loss: 110479.766\n",
            "Step. time since epoch: 7.239. Train acc: 0.105. Train Loss: 132880.625\n",
            "Step. time since epoch: 7.317. Train acc: 0.109. Train Loss: 176691.562\n",
            "Step. time since epoch: 7.387. Train acc: 0.109. Train Loss: 183544.016\n",
            "Step. time since epoch: 7.460. Train acc: 0.094. Train Loss: 184328.297\n",
            "Step. time since epoch: 7.527. Train acc: 0.105. Train Loss: 131299.359\n",
            "Step. time since epoch: 7.594. Train acc: 0.090. Train Loss: 145804.797\n",
            "Step. time since epoch: 7.673. Train acc: 0.098. Train Loss: 183528.000\n",
            "Step. time since epoch: 7.738. Train acc: 0.102. Train Loss: 189997.531\n",
            "Step. time since epoch: 7.806. Train acc: 0.078. Train Loss: 125577.000\n",
            "Step. time since epoch: 7.876. Train acc: 0.105. Train Loss: 159101.344\n",
            "Step. time since epoch: 7.946. Train acc: 0.117. Train Loss: 144443.672\n",
            "Step. time since epoch: 8.017. Train acc: 0.094. Train Loss: 163664.922\n",
            "Step. time since epoch: 8.082. Train acc: 0.098. Train Loss: 199109.969\n",
            "Step. time since epoch: 8.164. Train acc: 0.090. Train Loss: 159801.078\n",
            "Step. time since epoch: 8.232. Train acc: 0.105. Train Loss: 129380.164\n",
            "Step. time since epoch: 8.305. Train acc: 0.094. Train Loss: 154887.906\n",
            "Step. time since epoch: 8.372. Train acc: 0.086. Train Loss: 160489.734\n",
            "Step. time since epoch: 8.440. Train acc: 0.090. Train Loss: 161595.875\n",
            "Step. time since epoch: 8.508. Train acc: 0.117. Train Loss: 160652.312\n",
            "Step. time since epoch: 8.579. Train acc: 0.098. Train Loss: 173473.734\n",
            "Step. time since epoch: 8.653. Train acc: 0.078. Train Loss: 156754.312\n",
            "Step. time since epoch: 8.723. Train acc: 0.094. Train Loss: 168398.750\n",
            "Step. time since epoch: 8.793. Train acc: 0.125. Train Loss: 194321.078\n",
            "Step. time since epoch: 8.863. Train acc: 0.090. Train Loss: 155619.531\n",
            "Step. time since epoch: 8.936. Train acc: 0.098. Train Loss: 145779.016\n",
            "Step. time since epoch: 9.002. Train acc: 0.098. Train Loss: 118399.555\n",
            "Step. time since epoch: 9.074. Train acc: 0.121. Train Loss: 148320.078\n",
            "Step. time since epoch: 9.149. Train acc: 0.148. Train Loss: 155341.156\n",
            "Step. time since epoch: 9.216. Train acc: 0.102. Train Loss: 157370.969\n",
            "Step. time since epoch: 9.285. Train acc: 0.078. Train Loss: 152254.094\n",
            "Step. time since epoch: 9.355. Train acc: 0.082. Train Loss: 167023.641\n",
            "Step. time since epoch: 9.427. Train acc: 0.094. Train Loss: 179858.797\n",
            "Step. time since epoch: 9.493. Train acc: 0.105. Train Loss: 213366.344\n",
            "Step. time since epoch: 9.563. Train acc: 0.098. Train Loss: 150152.109\n",
            "Step. time since epoch: 9.629. Train acc: 0.121. Train Loss: 117240.914\n",
            "Step. time since epoch: 9.705. Train acc: 0.117. Train Loss: 154263.141\n",
            "Step. time since epoch: 9.782. Train acc: 0.117. Train Loss: 149210.953\n",
            "Step. time since epoch: 9.850. Train acc: 0.082. Train Loss: 89964.656\n",
            "Step. time since epoch: 9.919. Train acc: 0.090. Train Loss: 102006.805\n",
            "Step. time since epoch: 9.987. Train acc: 0.133. Train Loss: 119503.047\n",
            "Step. time since epoch: 10.053. Train acc: 0.078. Train Loss: 145061.609\n"
          ]
        },
        {
          "output_type": "error",
          "ename": "KeyboardInterrupt",
          "evalue": "ignored",
          "traceback": [
            "\u001b[0;31m---------------------------------------------------------------------------\u001b[0m",
            "\u001b[0;31mKeyboardInterrupt\u001b[0m                         Traceback (most recent call last)",
            "\u001b[0;32m<ipython-input-9-3623842b82ae>\u001b[0m in \u001b[0;36m<module>\u001b[0;34m\u001b[0m\n\u001b[1;32m      1\u001b[0m \u001b[0mlr\u001b[0m\u001b[0;34m,\u001b[0m \u001b[0mnum_epochs\u001b[0m \u001b[0;34m=\u001b[0m \u001b[0;36m0.9\u001b[0m\u001b[0;34m,\u001b[0m \u001b[0;36m5\u001b[0m\u001b[0;34m\u001b[0m\u001b[0;34m\u001b[0m\u001b[0m\n\u001b[1;32m      2\u001b[0m \u001b[0mtrainer\u001b[0m \u001b[0;34m=\u001b[0m \u001b[0mtorch\u001b[0m\u001b[0;34m.\u001b[0m\u001b[0moptim\u001b[0m\u001b[0;34m.\u001b[0m\u001b[0mSGD\u001b[0m\u001b[0;34m(\u001b[0m\u001b[0mnet\u001b[0m\u001b[0;34m.\u001b[0m\u001b[0mparameters\u001b[0m\u001b[0;34m(\u001b[0m\u001b[0;34m)\u001b[0m\u001b[0;34m,\u001b[0m \u001b[0mlr\u001b[0m\u001b[0;34m=\u001b[0m\u001b[0mlr\u001b[0m\u001b[0;34m)\u001b[0m\u001b[0;34m\u001b[0m\u001b[0;34m\u001b[0m\u001b[0m\n\u001b[0;32m----> 3\u001b[0;31m \u001b[0mtrain\u001b[0m\u001b[0;34m(\u001b[0m\u001b[0mnet\u001b[0m\u001b[0;34m,\u001b[0m \u001b[0mtrain_iter\u001b[0m\u001b[0;34m,\u001b[0m \u001b[0mtest_iter\u001b[0m\u001b[0;34m,\u001b[0m \u001b[0mtrainer\u001b[0m\u001b[0;34m,\u001b[0m \u001b[0mnum_epochs\u001b[0m\u001b[0;34m)\u001b[0m\u001b[0;34m\u001b[0m\u001b[0;34m\u001b[0m\u001b[0m\n\u001b[0m",
            "\u001b[0;32m<ipython-input-4-c3357ab4978b>\u001b[0m in \u001b[0;36mtrain\u001b[0;34m(net, train_iter, test_iter, trainer, num_epochs)\u001b[0m\n\u001b[1;32m      8\u001b[0m             \u001b[0my_hat\u001b[0m \u001b[0;34m=\u001b[0m \u001b[0mnet\u001b[0m\u001b[0;34m(\u001b[0m\u001b[0mX\u001b[0m\u001b[0;34m)\u001b[0m\u001b[0;34m\u001b[0m\u001b[0;34m\u001b[0m\u001b[0m\n\u001b[1;32m      9\u001b[0m             \u001b[0ml\u001b[0m \u001b[0;34m=\u001b[0m \u001b[0mloss\u001b[0m\u001b[0;34m(\u001b[0m\u001b[0my_hat\u001b[0m\u001b[0;34m,\u001b[0m \u001b[0my\u001b[0m\u001b[0;34m)\u001b[0m\u001b[0;34m\u001b[0m\u001b[0;34m\u001b[0m\u001b[0m\n\u001b[0;32m---> 10\u001b[0;31m             \u001b[0ml\u001b[0m\u001b[0;34m.\u001b[0m\u001b[0mbackward\u001b[0m\u001b[0;34m(\u001b[0m\u001b[0;34m)\u001b[0m\u001b[0;34m\u001b[0m\u001b[0;34m\u001b[0m\u001b[0m\n\u001b[0m\u001b[1;32m     11\u001b[0m             \u001b[0mtrainer\u001b[0m\u001b[0;34m.\u001b[0m\u001b[0mstep\u001b[0m\u001b[0;34m(\u001b[0m\u001b[0;34m)\u001b[0m\u001b[0;34m\u001b[0m\u001b[0;34m\u001b[0m\u001b[0m\n\u001b[1;32m     12\u001b[0m             \u001b[0mtrain_l_sum\u001b[0m \u001b[0;34m+=\u001b[0m \u001b[0ml\u001b[0m\u001b[0;34m.\u001b[0m\u001b[0mitem\u001b[0m\u001b[0;34m(\u001b[0m\u001b[0;34m)\u001b[0m \u001b[0;31m# накапливаем характеристики\u001b[0m\u001b[0;34m\u001b[0m\u001b[0;34m\u001b[0m\u001b[0m\n",
            "\u001b[0;32m/usr/local/lib/python3.8/dist-packages/torch/_tensor.py\u001b[0m in \u001b[0;36mbackward\u001b[0;34m(self, gradient, retain_graph, create_graph, inputs)\u001b[0m\n\u001b[1;32m    486\u001b[0m                 \u001b[0minputs\u001b[0m\u001b[0;34m=\u001b[0m\u001b[0minputs\u001b[0m\u001b[0;34m,\u001b[0m\u001b[0;34m\u001b[0m\u001b[0;34m\u001b[0m\u001b[0m\n\u001b[1;32m    487\u001b[0m             )\n\u001b[0;32m--> 488\u001b[0;31m         torch.autograd.backward(\n\u001b[0m\u001b[1;32m    489\u001b[0m             \u001b[0mself\u001b[0m\u001b[0;34m,\u001b[0m \u001b[0mgradient\u001b[0m\u001b[0;34m,\u001b[0m \u001b[0mretain_graph\u001b[0m\u001b[0;34m,\u001b[0m \u001b[0mcreate_graph\u001b[0m\u001b[0;34m,\u001b[0m \u001b[0minputs\u001b[0m\u001b[0;34m=\u001b[0m\u001b[0minputs\u001b[0m\u001b[0;34m\u001b[0m\u001b[0;34m\u001b[0m\u001b[0m\n\u001b[1;32m    490\u001b[0m         )\n",
            "\u001b[0;32m/usr/local/lib/python3.8/dist-packages/torch/autograd/__init__.py\u001b[0m in \u001b[0;36mbackward\u001b[0;34m(tensors, grad_tensors, retain_graph, create_graph, grad_variables, inputs)\u001b[0m\n\u001b[1;32m    195\u001b[0m     \u001b[0;31m# some Python versions print out the first line of a multi-line function\u001b[0m\u001b[0;34m\u001b[0m\u001b[0;34m\u001b[0m\u001b[0;34m\u001b[0m\u001b[0m\n\u001b[1;32m    196\u001b[0m     \u001b[0;31m# calls in the traceback and some print out the last line\u001b[0m\u001b[0;34m\u001b[0m\u001b[0;34m\u001b[0m\u001b[0;34m\u001b[0m\u001b[0m\n\u001b[0;32m--> 197\u001b[0;31m     Variable._execution_engine.run_backward(  # Calls into the C++ engine to run the backward pass\n\u001b[0m\u001b[1;32m    198\u001b[0m         \u001b[0mtensors\u001b[0m\u001b[0;34m,\u001b[0m \u001b[0mgrad_tensors_\u001b[0m\u001b[0;34m,\u001b[0m \u001b[0mretain_graph\u001b[0m\u001b[0;34m,\u001b[0m \u001b[0mcreate_graph\u001b[0m\u001b[0;34m,\u001b[0m \u001b[0minputs\u001b[0m\u001b[0;34m,\u001b[0m\u001b[0;34m\u001b[0m\u001b[0;34m\u001b[0m\u001b[0m\n\u001b[1;32m    199\u001b[0m         allow_unreachable=True, accumulate_grad=True)  # Calls into the C++ engine to run the backward pass\n",
            "\u001b[0;31mKeyboardInterrupt\u001b[0m: "
          ]
        }
      ],
      "source": [
        "lr, num_epochs = 0.9, 5\n",
        "trainer = torch.optim.SGD(net.parameters(), lr=lr)\n",
        "train(net, train_iter, test_iter, trainer, num_epochs)"
      ]
    },
    {
      "cell_type": "markdown",
      "metadata": {
        "id": "dxcxZncEvO4M"
      },
      "source": [
        "## AlexNet"
      ]
    },
    {
      "cell_type": "code",
      "execution_count": null,
      "metadata": {
        "ExecuteTime": {
          "end_time": "2019-11-18T16:24:00.569981Z",
          "start_time": "2019-11-18T16:24:00.510393Z"
        },
        "id": "q-gnIej6vO4N"
      },
      "outputs": [],
      "source": [
        "BATCH_SIZE=32\n",
        "transoforms = tv.transforms.Compose([\n",
        "    tv.transforms.Resize((224,224)),\n",
        "    tv.transforms.ToTensor()\n",
        "])\n",
        "train_dataset = tv.datasets.MNIST('.', train=True, transform=transoforms, download=True)\n",
        "test_dataset = tv.datasets.MNIST('.', train=False, transform=transoforms, download=True)\n",
        "train_iter = torch.utils.data.DataLoader(train_dataset, batch_size=BATCH_SIZE)\n",
        "test_iter = torch.utils.data.DataLoader(test_dataset, batch_size=BATCH_SIZE)"
      ]
    },
    {
      "cell_type": "code",
      "execution_count": null,
      "metadata": {
        "ExecuteTime": {
          "end_time": "2019-11-18T16:24:01.253461Z",
          "start_time": "2019-11-18T16:24:01.005372Z"
        },
        "id": "tQi5_n7fvO4N"
      },
      "outputs": [],
      "source": [
        "net = nn.Sequential(\n",
        "    nn.Conv2d(1, 96, kernel_size=11, stride=4),\n",
        "    nn.ReLU(),\n",
        "    nn.MaxPool2d(3, stride=2),\n",
        "    nn.Conv2d(96, 256, kernel_size=5, padding=2),\n",
        "    nn.ReLU(),\n",
        "    nn.MaxPool2d(3, stride=2),\n",
        "    nn.Conv2d(256, 384, kernel_size=3, padding=1),\n",
        "    nn.ReLU(),\n",
        "    nn.Conv2d(384, 384, kernel_size=3, padding=1),\n",
        "    nn.ReLU(),\n",
        "    nn.Conv2d(384, 256, kernel_size=3, padding=1),\n",
        "    nn.ReLU(),\n",
        "    nn.MaxPool2d(3, stride=2),\n",
        "    nn.Flatten(),\n",
        "    nn.Linear(6400, 4096),\n",
        "    nn.ReLU(),\n",
        "    nn.Dropout(0.5),\n",
        "    nn.Linear(4096, 4096),\n",
        "    nn.ReLU(),\n",
        "    nn.Dropout(0.5),\n",
        "    nn.Linear(4096, 10)\n",
        ")"
      ]
    },
    {
      "cell_type": "code",
      "execution_count": null,
      "metadata": {
        "ExecuteTime": {
          "end_time": "2019-11-18T16:24:45.386340Z",
          "start_time": "2019-11-18T16:24:01.447105Z"
        },
        "id": "xRAFQTiTvO4O"
      },
      "outputs": [],
      "source": [
        "lr, num_epochs  = 0.01, 5\n",
        "trainer = torch.optim.SGD(net.parameters(), lr=lr)\n",
        "train(net, train_iter, test_iter, trainer, num_epochs)"
      ]
    },
    {
      "cell_type": "markdown",
      "metadata": {
        "id": "GvLq_75lvO4O"
      },
      "source": [
        "## VGG"
      ]
    },
    {
      "cell_type": "code",
      "execution_count": null,
      "metadata": {
        "ExecuteTime": {
          "end_time": "2019-11-18T16:33:15.808035Z",
          "start_time": "2019-11-18T16:33:15.795879Z"
        },
        "id": "ewgK-B_7vO4O"
      },
      "outputs": [],
      "source": [
        "def vgg_block(num_convs, input_channels, num_channels):\n",
        "    #num_convs - количество сверток\n",
        "    #num_convs - количество входгых каналов\n",
        "    #num_channels - количество выходных каналов\n",
        "    blk = nn.Sequential(nn.Conv2d(input_channels, num_channels, kernel_size=3, padding=1), nn.ReLU())\n",
        "    for i in range(num_convs - 1):\n",
        "        blk.add_module(\"conv{}\".format(i), nn.Conv2d(num_channels, num_channels, kernel_size=3, padding=1))\n",
        "        blk.add_module(\"relu{}\".format(i), nn.ReLU())\n",
        "    blk.add_module(\"pool\", nn.MaxPool2d(2, stride=2))\n",
        "    return blk"
      ]
    },
    {
      "cell_type": "code",
      "execution_count": null,
      "metadata": {
        "ExecuteTime": {
          "end_time": "2019-11-18T16:35:30.287348Z",
          "start_time": "2019-11-18T16:35:30.283452Z"
        },
        "id": "azaDFFJMvO4P"
      },
      "outputs": [],
      "source": [
        "conv_arch = ((1, 1, 64), (1, 64, 128), (2, 128, 256), (2, 256, 512), (2, 512, 512))"
      ]
    },
    {
      "cell_type": "code",
      "execution_count": null,
      "metadata": {
        "ExecuteTime": {
          "end_time": "2019-11-18T16:39:16.358809Z",
          "start_time": "2019-11-18T16:39:16.040029Z"
        },
        "id": "gI-GyiGAvO4P"
      },
      "outputs": [],
      "source": [
        "def vgg(conv_arch):\n",
        "    net = nn.Sequential()\n",
        "\n",
        "    for i, (num_convs, input_ch, num_channels) in enumerate(conv_arch):\n",
        "        net.add_module(\"block{}\".format(i), vgg_block(num_convs, input_ch, num_channels))\n",
        "\n",
        "\n",
        "    classifier = nn.Sequential(\n",
        "        nn.Flatten(),\n",
        "        nn.Linear(6272, 4096), nn.ReLU(), nn.Dropout(0.5),\n",
        "        nn.Linear(4096, 4096), nn.ReLU(), nn.Dropout(0.5),\n",
        "        nn.Linear(4096, 10))\n",
        "\n",
        "    net.add_module('classifier', classifier)\n",
        "    return net\n",
        "\n",
        "net = vgg(conv_arch)"
      ]
    },
    {
      "cell_type": "code",
      "execution_count": null,
      "metadata": {
        "ExecuteTime": {
          "end_time": "2019-11-18T16:37:57.884604Z",
          "start_time": "2019-11-18T16:37:57.709439Z"
        },
        "id": "xxXDJfoBvO4P",
        "outputId": "bdae0dad-537b-48f0-ab01-d2f8d0c32c1f",
        "colab": {
          "base_uri": "https://localhost:8080/",
          "height": 900
        }
      },
      "outputs": [
        {
          "output_type": "stream",
          "name": "stdout",
          "text": [
            "Sequential(\n",
            "  (0): Conv2d(1, 64, kernel_size=(3, 3), stride=(1, 1), padding=(1, 1))\n",
            "  (1): ReLU()\n",
            "  (pool): MaxPool2d(kernel_size=2, stride=2, padding=0, dilation=1, ceil_mode=False)\n",
            ") \t\t torch.Size([1, 64, 112, 112])\n",
            "Sequential(\n",
            "  (0): Conv2d(64, 128, kernel_size=(3, 3), stride=(1, 1), padding=(1, 1))\n",
            "  (1): ReLU()\n",
            "  (pool): MaxPool2d(kernel_size=2, stride=2, padding=0, dilation=1, ceil_mode=False)\n",
            ") \t\t torch.Size([1, 128, 56, 56])\n",
            "Sequential(\n",
            "  (0): Conv2d(128, 256, kernel_size=(3, 3), stride=(1, 1), padding=(1, 1))\n",
            "  (1): ReLU()\n",
            "  (conv0): Conv2d(256, 256, kernel_size=(3, 3), stride=(1, 1), padding=(1, 1))\n",
            "  (relu0): ReLU()\n",
            "  (pool): MaxPool2d(kernel_size=2, stride=2, padding=0, dilation=1, ceil_mode=False)\n",
            ") \t\t torch.Size([1, 256, 28, 28])\n",
            "Sequential(\n",
            "  (0): Conv2d(256, 512, kernel_size=(3, 3), stride=(1, 1), padding=(1, 1))\n",
            "  (1): ReLU()\n",
            "  (conv0): Conv2d(512, 512, kernel_size=(3, 3), stride=(1, 1), padding=(1, 1))\n",
            "  (relu0): ReLU()\n",
            "  (pool): MaxPool2d(kernel_size=2, stride=2, padding=0, dilation=1, ceil_mode=False)\n",
            ") \t\t torch.Size([1, 512, 14, 14])\n",
            "Sequential(\n",
            "  (0): Conv2d(512, 512, kernel_size=(3, 3), stride=(1, 1), padding=(1, 1))\n",
            "  (1): ReLU()\n",
            "  (conv0): Conv2d(512, 512, kernel_size=(3, 3), stride=(1, 1), padding=(1, 1))\n",
            "  (relu0): ReLU()\n",
            "  (pool): MaxPool2d(kernel_size=2, stride=2, padding=0, dilation=1, ceil_mode=False)\n",
            ") \t\t torch.Size([1, 512, 7, 7])\n"
          ]
        },
        {
          "output_type": "error",
          "ename": "RuntimeError",
          "evalue": "ignored",
          "traceback": [
            "\u001b[0;31m---------------------------------------------------------------------------\u001b[0m",
            "\u001b[0;31mRuntimeError\u001b[0m                              Traceback (most recent call last)",
            "\u001b[0;32m<ipython-input-20-0072d49d4f38>\u001b[0m in \u001b[0;36m<module>\u001b[0;34m\u001b[0m\n\u001b[1;32m      1\u001b[0m \u001b[0mx\u001b[0m \u001b[0;34m=\u001b[0m \u001b[0mtrain_dataset\u001b[0m\u001b[0;34m[\u001b[0m\u001b[0;36m0\u001b[0m\u001b[0;34m]\u001b[0m\u001b[0;34m[\u001b[0m\u001b[0;36m0\u001b[0m\u001b[0;34m]\u001b[0m\u001b[0;34m.\u001b[0m\u001b[0mreshape\u001b[0m\u001b[0;34m(\u001b[0m\u001b[0;36m1\u001b[0m\u001b[0;34m,\u001b[0m\u001b[0;36m1\u001b[0m\u001b[0;34m,\u001b[0m\u001b[0;36m224\u001b[0m\u001b[0;34m,\u001b[0m\u001b[0;36m224\u001b[0m\u001b[0;34m)\u001b[0m\u001b[0;34m\u001b[0m\u001b[0;34m\u001b[0m\u001b[0m\n\u001b[1;32m      2\u001b[0m \u001b[0;32mfor\u001b[0m \u001b[0mi\u001b[0m \u001b[0;32min\u001b[0m \u001b[0mnet\u001b[0m\u001b[0;34m:\u001b[0m\u001b[0;34m\u001b[0m\u001b[0;34m\u001b[0m\u001b[0m\n\u001b[0;32m----> 3\u001b[0;31m     \u001b[0mx\u001b[0m \u001b[0;34m=\u001b[0m \u001b[0mi\u001b[0m\u001b[0;34m(\u001b[0m\u001b[0mx\u001b[0m\u001b[0;34m)\u001b[0m\u001b[0;34m\u001b[0m\u001b[0;34m\u001b[0m\u001b[0m\n\u001b[0m\u001b[1;32m      4\u001b[0m     \u001b[0mprint\u001b[0m\u001b[0;34m(\u001b[0m\u001b[0mi\u001b[0m\u001b[0;34m,\u001b[0m \u001b[0;34m\"\\t\\t\"\u001b[0m\u001b[0;34m,\u001b[0m \u001b[0mx\u001b[0m\u001b[0;34m.\u001b[0m\u001b[0mshape\u001b[0m\u001b[0;34m)\u001b[0m\u001b[0;34m\u001b[0m\u001b[0;34m\u001b[0m\u001b[0m\n",
            "\u001b[0;32m/usr/local/lib/python3.8/dist-packages/torch/nn/modules/module.py\u001b[0m in \u001b[0;36m_call_impl\u001b[0;34m(self, *input, **kwargs)\u001b[0m\n\u001b[1;32m   1192\u001b[0m         if not (self._backward_hooks or self._forward_hooks or self._forward_pre_hooks or _global_backward_hooks\n\u001b[1;32m   1193\u001b[0m                 or _global_forward_hooks or _global_forward_pre_hooks):\n\u001b[0;32m-> 1194\u001b[0;31m             \u001b[0;32mreturn\u001b[0m \u001b[0mforward_call\u001b[0m\u001b[0;34m(\u001b[0m\u001b[0;34m*\u001b[0m\u001b[0minput\u001b[0m\u001b[0;34m,\u001b[0m \u001b[0;34m**\u001b[0m\u001b[0mkwargs\u001b[0m\u001b[0;34m)\u001b[0m\u001b[0;34m\u001b[0m\u001b[0;34m\u001b[0m\u001b[0m\n\u001b[0m\u001b[1;32m   1195\u001b[0m         \u001b[0;31m# Do not call functions when jit is used\u001b[0m\u001b[0;34m\u001b[0m\u001b[0;34m\u001b[0m\u001b[0;34m\u001b[0m\u001b[0m\n\u001b[1;32m   1196\u001b[0m         \u001b[0mfull_backward_hooks\u001b[0m\u001b[0;34m,\u001b[0m \u001b[0mnon_full_backward_hooks\u001b[0m \u001b[0;34m=\u001b[0m \u001b[0;34m[\u001b[0m\u001b[0;34m]\u001b[0m\u001b[0;34m,\u001b[0m \u001b[0;34m[\u001b[0m\u001b[0;34m]\u001b[0m\u001b[0;34m\u001b[0m\u001b[0;34m\u001b[0m\u001b[0m\n",
            "\u001b[0;32m/usr/local/lib/python3.8/dist-packages/torch/nn/modules/container.py\u001b[0m in \u001b[0;36mforward\u001b[0;34m(self, input)\u001b[0m\n\u001b[1;32m    202\u001b[0m     \u001b[0;32mdef\u001b[0m \u001b[0mforward\u001b[0m\u001b[0;34m(\u001b[0m\u001b[0mself\u001b[0m\u001b[0;34m,\u001b[0m \u001b[0minput\u001b[0m\u001b[0;34m)\u001b[0m\u001b[0;34m:\u001b[0m\u001b[0;34m\u001b[0m\u001b[0;34m\u001b[0m\u001b[0m\n\u001b[1;32m    203\u001b[0m         \u001b[0;32mfor\u001b[0m \u001b[0mmodule\u001b[0m \u001b[0;32min\u001b[0m \u001b[0mself\u001b[0m\u001b[0;34m:\u001b[0m\u001b[0;34m\u001b[0m\u001b[0;34m\u001b[0m\u001b[0m\n\u001b[0;32m--> 204\u001b[0;31m             \u001b[0minput\u001b[0m \u001b[0;34m=\u001b[0m \u001b[0mmodule\u001b[0m\u001b[0;34m(\u001b[0m\u001b[0minput\u001b[0m\u001b[0;34m)\u001b[0m\u001b[0;34m\u001b[0m\u001b[0;34m\u001b[0m\u001b[0m\n\u001b[0m\u001b[1;32m    205\u001b[0m         \u001b[0;32mreturn\u001b[0m \u001b[0minput\u001b[0m\u001b[0;34m\u001b[0m\u001b[0;34m\u001b[0m\u001b[0m\n\u001b[1;32m    206\u001b[0m \u001b[0;34m\u001b[0m\u001b[0m\n",
            "\u001b[0;32m/usr/local/lib/python3.8/dist-packages/torch/nn/modules/module.py\u001b[0m in \u001b[0;36m_call_impl\u001b[0;34m(self, *input, **kwargs)\u001b[0m\n\u001b[1;32m   1192\u001b[0m         if not (self._backward_hooks or self._forward_hooks or self._forward_pre_hooks or _global_backward_hooks\n\u001b[1;32m   1193\u001b[0m                 or _global_forward_hooks or _global_forward_pre_hooks):\n\u001b[0;32m-> 1194\u001b[0;31m             \u001b[0;32mreturn\u001b[0m \u001b[0mforward_call\u001b[0m\u001b[0;34m(\u001b[0m\u001b[0;34m*\u001b[0m\u001b[0minput\u001b[0m\u001b[0;34m,\u001b[0m \u001b[0;34m**\u001b[0m\u001b[0mkwargs\u001b[0m\u001b[0;34m)\u001b[0m\u001b[0;34m\u001b[0m\u001b[0;34m\u001b[0m\u001b[0m\n\u001b[0m\u001b[1;32m   1195\u001b[0m         \u001b[0;31m# Do not call functions when jit is used\u001b[0m\u001b[0;34m\u001b[0m\u001b[0;34m\u001b[0m\u001b[0;34m\u001b[0m\u001b[0m\n\u001b[1;32m   1196\u001b[0m         \u001b[0mfull_backward_hooks\u001b[0m\u001b[0;34m,\u001b[0m \u001b[0mnon_full_backward_hooks\u001b[0m \u001b[0;34m=\u001b[0m \u001b[0;34m[\u001b[0m\u001b[0;34m]\u001b[0m\u001b[0;34m,\u001b[0m \u001b[0;34m[\u001b[0m\u001b[0;34m]\u001b[0m\u001b[0;34m\u001b[0m\u001b[0;34m\u001b[0m\u001b[0m\n",
            "\u001b[0;32m/usr/local/lib/python3.8/dist-packages/torch/nn/modules/linear.py\u001b[0m in \u001b[0;36mforward\u001b[0;34m(self, input)\u001b[0m\n\u001b[1;32m    112\u001b[0m \u001b[0;34m\u001b[0m\u001b[0m\n\u001b[1;32m    113\u001b[0m     \u001b[0;32mdef\u001b[0m \u001b[0mforward\u001b[0m\u001b[0;34m(\u001b[0m\u001b[0mself\u001b[0m\u001b[0;34m,\u001b[0m \u001b[0minput\u001b[0m\u001b[0;34m:\u001b[0m \u001b[0mTensor\u001b[0m\u001b[0;34m)\u001b[0m \u001b[0;34m->\u001b[0m \u001b[0mTensor\u001b[0m\u001b[0;34m:\u001b[0m\u001b[0;34m\u001b[0m\u001b[0;34m\u001b[0m\u001b[0m\n\u001b[0;32m--> 114\u001b[0;31m         \u001b[0;32mreturn\u001b[0m \u001b[0mF\u001b[0m\u001b[0;34m.\u001b[0m\u001b[0mlinear\u001b[0m\u001b[0;34m(\u001b[0m\u001b[0minput\u001b[0m\u001b[0;34m,\u001b[0m \u001b[0mself\u001b[0m\u001b[0;34m.\u001b[0m\u001b[0mweight\u001b[0m\u001b[0;34m,\u001b[0m \u001b[0mself\u001b[0m\u001b[0;34m.\u001b[0m\u001b[0mbias\u001b[0m\u001b[0;34m)\u001b[0m\u001b[0;34m\u001b[0m\u001b[0;34m\u001b[0m\u001b[0m\n\u001b[0m\u001b[1;32m    115\u001b[0m \u001b[0;34m\u001b[0m\u001b[0m\n\u001b[1;32m    116\u001b[0m     \u001b[0;32mdef\u001b[0m \u001b[0mextra_repr\u001b[0m\u001b[0;34m(\u001b[0m\u001b[0mself\u001b[0m\u001b[0;34m)\u001b[0m \u001b[0;34m->\u001b[0m \u001b[0mstr\u001b[0m\u001b[0;34m:\u001b[0m\u001b[0;34m\u001b[0m\u001b[0;34m\u001b[0m\u001b[0m\n",
            "\u001b[0;31mRuntimeError\u001b[0m: mat1 and mat2 shapes cannot be multiplied (1x25088 and 6272x4096)"
          ]
        }
      ],
      "source": [
        "x = train_dataset[0][0].reshape(1,1,224,224)\n",
        "for i in net:\n",
        "    x = i(x)\n",
        "    print(i, \"\\t\\t\", x.shape)"
      ]
    },
    {
      "cell_type": "code",
      "execution_count": null,
      "metadata": {
        "ExecuteTime": {
          "end_time": "2019-11-18T16:39:32.280283Z",
          "start_time": "2019-11-18T16:39:31.939284Z"
        },
        "id": "Py4WTqF6vO4P"
      },
      "outputs": [],
      "source": [
        "ratio = 4\n",
        "small_conv_arch = [(v[0], max(v[1] // ratio, 1), v[2] // ratio) for v in conv_arch]\n",
        "net = vgg(small_conv_arch)"
      ]
    },
    {
      "cell_type": "code",
      "execution_count": null,
      "metadata": {
        "ExecuteTime": {
          "end_time": "2019-11-18T16:39:50.898401Z",
          "start_time": "2019-11-18T16:39:50.894050Z"
        },
        "id": "85-dH3ewvO4P",
        "outputId": "289f3d99-8bc2-49b4-e416-35ea35954ec4",
        "colab": {
          "base_uri": "https://localhost:8080/"
        }
      },
      "outputs": [
        {
          "output_type": "execute_result",
          "data": {
            "text/plain": [
              "[(1, 1, 16), (1, 16, 32), (2, 32, 64), (2, 64, 128), (2, 128, 128)]"
            ]
          },
          "metadata": {},
          "execution_count": 27
        }
      ],
      "source": [
        "# сеть сжимаем в 4 раза\n",
        "small_conv_arch"
      ]
    },
    {
      "cell_type": "code",
      "execution_count": null,
      "metadata": {
        "ExecuteTime": {
          "end_time": "2019-11-18T16:39:42.227529Z",
          "start_time": "2019-11-18T16:39:42.078156Z"
        },
        "id": "ul482JYBvO4Q",
        "outputId": "fe0f025b-f341-4318-c6b4-f9f1c515ed4f",
        "colab": {
          "base_uri": "https://localhost:8080/"
        }
      },
      "outputs": [
        {
          "output_type": "stream",
          "name": "stdout",
          "text": [
            "Sequential(\n",
            "  (0): Conv2d(1, 16, kernel_size=(3, 3), stride=(1, 1), padding=(1, 1))\n",
            "  (1): ReLU()\n",
            "  (pool): MaxPool2d(kernel_size=2, stride=2, padding=0, dilation=1, ceil_mode=False)\n",
            ") \t\t torch.Size([1, 16, 112, 112])\n",
            "Sequential(\n",
            "  (0): Conv2d(16, 32, kernel_size=(3, 3), stride=(1, 1), padding=(1, 1))\n",
            "  (1): ReLU()\n",
            "  (pool): MaxPool2d(kernel_size=2, stride=2, padding=0, dilation=1, ceil_mode=False)\n",
            ") \t\t torch.Size([1, 32, 56, 56])\n",
            "Sequential(\n",
            "  (0): Conv2d(32, 64, kernel_size=(3, 3), stride=(1, 1), padding=(1, 1))\n",
            "  (1): ReLU()\n",
            "  (conv0): Conv2d(64, 64, kernel_size=(3, 3), stride=(1, 1), padding=(1, 1))\n",
            "  (relu0): ReLU()\n",
            "  (pool): MaxPool2d(kernel_size=2, stride=2, padding=0, dilation=1, ceil_mode=False)\n",
            ") \t\t torch.Size([1, 64, 28, 28])\n",
            "Sequential(\n",
            "  (0): Conv2d(64, 128, kernel_size=(3, 3), stride=(1, 1), padding=(1, 1))\n",
            "  (1): ReLU()\n",
            "  (conv0): Conv2d(128, 128, kernel_size=(3, 3), stride=(1, 1), padding=(1, 1))\n",
            "  (relu0): ReLU()\n",
            "  (pool): MaxPool2d(kernel_size=2, stride=2, padding=0, dilation=1, ceil_mode=False)\n",
            ") \t\t torch.Size([1, 128, 14, 14])\n",
            "Sequential(\n",
            "  (0): Conv2d(128, 128, kernel_size=(3, 3), stride=(1, 1), padding=(1, 1))\n",
            "  (1): ReLU()\n",
            "  (conv0): Conv2d(128, 128, kernel_size=(3, 3), stride=(1, 1), padding=(1, 1))\n",
            "  (relu0): ReLU()\n",
            "  (pool): MaxPool2d(kernel_size=2, stride=2, padding=0, dilation=1, ceil_mode=False)\n",
            ") \t\t torch.Size([1, 128, 7, 7])\n",
            "Sequential(\n",
            "  (0): Flatten(start_dim=1, end_dim=-1)\n",
            "  (1): Linear(in_features=6272, out_features=4096, bias=True)\n",
            "  (2): ReLU()\n",
            "  (3): Dropout(p=0.5, inplace=False)\n",
            "  (4): Linear(in_features=4096, out_features=4096, bias=True)\n",
            "  (5): ReLU()\n",
            "  (6): Dropout(p=0.5, inplace=False)\n",
            "  (7): Linear(in_features=4096, out_features=10, bias=True)\n",
            ") \t\t torch.Size([1, 10])\n"
          ]
        }
      ],
      "source": [
        "x = train_dataset[0][0].reshape(1,1,224,224)\n",
        "for l in net:\n",
        "    x = l(x)\n",
        "    print(l, \"\\t\\t\", x.shape)"
      ]
    },
    {
      "cell_type": "code",
      "execution_count": null,
      "metadata": {
        "ExecuteTime": {
          "end_time": "2019-11-18T16:41:08.457065Z",
          "start_time": "2019-11-18T16:40:17.572925Z"
        },
        "id": "5IJ1Z-XxvO4Q",
        "outputId": "ecad0991-80d3-4b1b-b1c2-02b9cda76208",
        "colab": {
          "base_uri": "https://localhost:8080/",
          "height": 345
        }
      },
      "outputs": [
        {
          "output_type": "error",
          "ename": "KeyboardInterrupt",
          "evalue": "ignored",
          "traceback": [
            "\u001b[0;31m---------------------------------------------------------------------------\u001b[0m",
            "\u001b[0;31mKeyboardInterrupt\u001b[0m                         Traceback (most recent call last)",
            "\u001b[0;32m<ipython-input-25-a49e7d36726a>\u001b[0m in \u001b[0;36m<module>\u001b[0;34m\u001b[0m\n\u001b[1;32m      1\u001b[0m \u001b[0mlr\u001b[0m\u001b[0;34m,\u001b[0m \u001b[0mnum_epochs\u001b[0m \u001b[0;34m=\u001b[0m \u001b[0;36m0.05\u001b[0m\u001b[0;34m,\u001b[0m \u001b[0;36m5\u001b[0m\u001b[0;34m\u001b[0m\u001b[0;34m\u001b[0m\u001b[0m\n\u001b[1;32m      2\u001b[0m \u001b[0mtrainer\u001b[0m \u001b[0;34m=\u001b[0m \u001b[0mtorch\u001b[0m\u001b[0;34m.\u001b[0m\u001b[0moptim\u001b[0m\u001b[0;34m.\u001b[0m\u001b[0mSGD\u001b[0m\u001b[0;34m(\u001b[0m\u001b[0mnet\u001b[0m\u001b[0;34m.\u001b[0m\u001b[0mparameters\u001b[0m\u001b[0;34m(\u001b[0m\u001b[0;34m)\u001b[0m\u001b[0;34m,\u001b[0m \u001b[0mlr\u001b[0m\u001b[0;34m=\u001b[0m\u001b[0mlr\u001b[0m\u001b[0;34m)\u001b[0m\u001b[0;34m\u001b[0m\u001b[0;34m\u001b[0m\u001b[0m\n\u001b[0;32m----> 3\u001b[0;31m \u001b[0mtrain\u001b[0m\u001b[0;34m(\u001b[0m\u001b[0mnet\u001b[0m\u001b[0;34m,\u001b[0m \u001b[0mtrain_iter\u001b[0m\u001b[0;34m,\u001b[0m \u001b[0mtest_iter\u001b[0m\u001b[0;34m,\u001b[0m \u001b[0mtrainer\u001b[0m\u001b[0;34m,\u001b[0m \u001b[0mnum_epochs\u001b[0m\u001b[0;34m)\u001b[0m\u001b[0;34m\u001b[0m\u001b[0;34m\u001b[0m\u001b[0m\n\u001b[0m",
            "\u001b[0;32m<ipython-input-4-c3357ab4978b>\u001b[0m in \u001b[0;36mtrain\u001b[0;34m(net, train_iter, test_iter, trainer, num_epochs)\u001b[0m\n\u001b[1;32m      8\u001b[0m             \u001b[0my_hat\u001b[0m \u001b[0;34m=\u001b[0m \u001b[0mnet\u001b[0m\u001b[0;34m(\u001b[0m\u001b[0mX\u001b[0m\u001b[0;34m)\u001b[0m\u001b[0;34m\u001b[0m\u001b[0;34m\u001b[0m\u001b[0m\n\u001b[1;32m      9\u001b[0m             \u001b[0ml\u001b[0m \u001b[0;34m=\u001b[0m \u001b[0mloss\u001b[0m\u001b[0;34m(\u001b[0m\u001b[0my_hat\u001b[0m\u001b[0;34m,\u001b[0m \u001b[0my\u001b[0m\u001b[0;34m)\u001b[0m\u001b[0;34m\u001b[0m\u001b[0;34m\u001b[0m\u001b[0m\n\u001b[0;32m---> 10\u001b[0;31m             \u001b[0ml\u001b[0m\u001b[0;34m.\u001b[0m\u001b[0mbackward\u001b[0m\u001b[0;34m(\u001b[0m\u001b[0;34m)\u001b[0m\u001b[0;34m\u001b[0m\u001b[0;34m\u001b[0m\u001b[0m\n\u001b[0m\u001b[1;32m     11\u001b[0m             \u001b[0mtrainer\u001b[0m\u001b[0;34m.\u001b[0m\u001b[0mstep\u001b[0m\u001b[0;34m(\u001b[0m\u001b[0;34m)\u001b[0m\u001b[0;34m\u001b[0m\u001b[0;34m\u001b[0m\u001b[0m\n\u001b[1;32m     12\u001b[0m             \u001b[0mtrain_l_sum\u001b[0m \u001b[0;34m+=\u001b[0m \u001b[0ml\u001b[0m\u001b[0;34m.\u001b[0m\u001b[0mitem\u001b[0m\u001b[0;34m(\u001b[0m\u001b[0;34m)\u001b[0m \u001b[0;31m# накапливаем характеристики\u001b[0m\u001b[0;34m\u001b[0m\u001b[0;34m\u001b[0m\u001b[0m\n",
            "\u001b[0;32m/usr/local/lib/python3.8/dist-packages/torch/_tensor.py\u001b[0m in \u001b[0;36mbackward\u001b[0;34m(self, gradient, retain_graph, create_graph, inputs)\u001b[0m\n\u001b[1;32m    486\u001b[0m                 \u001b[0minputs\u001b[0m\u001b[0;34m=\u001b[0m\u001b[0minputs\u001b[0m\u001b[0;34m,\u001b[0m\u001b[0;34m\u001b[0m\u001b[0;34m\u001b[0m\u001b[0m\n\u001b[1;32m    487\u001b[0m             )\n\u001b[0;32m--> 488\u001b[0;31m         torch.autograd.backward(\n\u001b[0m\u001b[1;32m    489\u001b[0m             \u001b[0mself\u001b[0m\u001b[0;34m,\u001b[0m \u001b[0mgradient\u001b[0m\u001b[0;34m,\u001b[0m \u001b[0mretain_graph\u001b[0m\u001b[0;34m,\u001b[0m \u001b[0mcreate_graph\u001b[0m\u001b[0;34m,\u001b[0m \u001b[0minputs\u001b[0m\u001b[0;34m=\u001b[0m\u001b[0minputs\u001b[0m\u001b[0;34m\u001b[0m\u001b[0;34m\u001b[0m\u001b[0m\n\u001b[1;32m    490\u001b[0m         )\n",
            "\u001b[0;32m/usr/local/lib/python3.8/dist-packages/torch/autograd/__init__.py\u001b[0m in \u001b[0;36mbackward\u001b[0;34m(tensors, grad_tensors, retain_graph, create_graph, grad_variables, inputs)\u001b[0m\n\u001b[1;32m    195\u001b[0m     \u001b[0;31m# some Python versions print out the first line of a multi-line function\u001b[0m\u001b[0;34m\u001b[0m\u001b[0;34m\u001b[0m\u001b[0;34m\u001b[0m\u001b[0m\n\u001b[1;32m    196\u001b[0m     \u001b[0;31m# calls in the traceback and some print out the last line\u001b[0m\u001b[0;34m\u001b[0m\u001b[0;34m\u001b[0m\u001b[0;34m\u001b[0m\u001b[0m\n\u001b[0;32m--> 197\u001b[0;31m     Variable._execution_engine.run_backward(  # Calls into the C++ engine to run the backward pass\n\u001b[0m\u001b[1;32m    198\u001b[0m         \u001b[0mtensors\u001b[0m\u001b[0;34m,\u001b[0m \u001b[0mgrad_tensors_\u001b[0m\u001b[0;34m,\u001b[0m \u001b[0mretain_graph\u001b[0m\u001b[0;34m,\u001b[0m \u001b[0mcreate_graph\u001b[0m\u001b[0;34m,\u001b[0m \u001b[0minputs\u001b[0m\u001b[0;34m,\u001b[0m\u001b[0;34m\u001b[0m\u001b[0;34m\u001b[0m\u001b[0m\n\u001b[1;32m    199\u001b[0m         allow_unreachable=True, accumulate_grad=True)  # Calls into the C++ engine to run the backward pass\n",
            "\u001b[0;31mKeyboardInterrupt\u001b[0m: "
          ]
        }
      ],
      "source": [
        "lr, num_epochs = 0.05, 5\n",
        "trainer = torch.optim.SGD(net.parameters(), lr=lr)\n",
        "train(net, train_iter, test_iter, trainer, num_epochs)"
      ]
    },
    {
      "cell_type": "markdown",
      "metadata": {
        "id": "Mvap2g53vO4Q"
      },
      "source": [
        "## NiN"
      ]
    },
    {
      "cell_type": "code",
      "execution_count": null,
      "metadata": {
        "ExecuteTime": {
          "end_time": "2019-11-18T16:55:01.945030Z",
          "start_time": "2019-11-18T16:55:01.937207Z"
        },
        "id": "H_FaGBfEvO4R"
      },
      "outputs": [],
      "source": [
        "def nin_block(input_channels, num_channels, kernel_size, strides, padding):\n",
        "    blk = nn.Sequential(\n",
        "            nn.Conv2d(input_channels, num_channels, kernel_size, strides, padding),\n",
        "            nn.ReLU(),\n",
        "            nn.Conv2d(num_channels, num_channels, kernel_size=1),\n",
        "            nn.ReLU(),\n",
        "            nn.Conv2d(num_channels, num_channels, kernel_size=1),\n",
        "            nn.ReLU()\n",
        "    )\n",
        "    return blk"
      ]
    },
    {
      "cell_type": "code",
      "execution_count": null,
      "metadata": {
        "ExecuteTime": {
          "end_time": "2019-11-18T16:55:56.351798Z",
          "start_time": "2019-11-18T16:55:56.323655Z"
        },
        "id": "GmvN-LG1vO4R"
      },
      "outputs": [],
      "source": [
        "net = nn.Sequential(nin_block(1, 96, kernel_size=11, strides=4, padding=0),\n",
        "        nn.MaxPool2d(3, stride=2),\n",
        "        nin_block(96, 256, kernel_size=5, strides=1, padding=2),\n",
        "        nn.MaxPool2d(3, stride=2),\n",
        "        nin_block(256, 384, kernel_size=3, strides=1, padding=1),\n",
        "        nn.MaxPool2d(3, stride=2),\n",
        "        nn.Dropout(0.5),\n",
        "        nin_block(384, 10, kernel_size=3, strides=1, padding=1),\n",
        "        nn.AvgPool2d(5),\n",
        "        nn.Flatten())"
      ]
    },
    {
      "cell_type": "code",
      "execution_count": null,
      "metadata": {
        "ExecuteTime": {
          "end_time": "2019-11-18T16:55:58.680514Z",
          "start_time": "2019-11-18T16:55:58.637248Z"
        },
        "scrolled": true,
        "id": "j-WAhhW2vO4R",
        "outputId": "11c54ae9-49c5-4d52-93ad-600d0dc21b44",
        "colab": {
          "base_uri": "https://localhost:8080/"
        }
      },
      "outputs": [
        {
          "output_type": "stream",
          "name": "stdout",
          "text": [
            "Sequential(\n",
            "  (0): Conv2d(1, 96, kernel_size=(11, 11), stride=(4, 4))\n",
            "  (1): ReLU()\n",
            "  (2): Conv2d(96, 96, kernel_size=(1, 1), stride=(1, 1))\n",
            "  (3): ReLU()\n",
            "  (4): Conv2d(96, 96, kernel_size=(1, 1), stride=(1, 1))\n",
            "  (5): ReLU()\n",
            ") torch.Size([1, 96, 54, 54])\n",
            "MaxPool2d(kernel_size=3, stride=2, padding=0, dilation=1, ceil_mode=False) torch.Size([1, 96, 26, 26])\n",
            "Sequential(\n",
            "  (0): Conv2d(96, 256, kernel_size=(5, 5), stride=(1, 1), padding=(2, 2))\n",
            "  (1): ReLU()\n",
            "  (2): Conv2d(256, 256, kernel_size=(1, 1), stride=(1, 1))\n",
            "  (3): ReLU()\n",
            "  (4): Conv2d(256, 256, kernel_size=(1, 1), stride=(1, 1))\n",
            "  (5): ReLU()\n",
            ") torch.Size([1, 256, 26, 26])\n",
            "MaxPool2d(kernel_size=3, stride=2, padding=0, dilation=1, ceil_mode=False) torch.Size([1, 256, 12, 12])\n",
            "Sequential(\n",
            "  (0): Conv2d(256, 384, kernel_size=(3, 3), stride=(1, 1), padding=(1, 1))\n",
            "  (1): ReLU()\n",
            "  (2): Conv2d(384, 384, kernel_size=(1, 1), stride=(1, 1))\n",
            "  (3): ReLU()\n",
            "  (4): Conv2d(384, 384, kernel_size=(1, 1), stride=(1, 1))\n",
            "  (5): ReLU()\n",
            ") torch.Size([1, 384, 12, 12])\n",
            "MaxPool2d(kernel_size=3, stride=2, padding=0, dilation=1, ceil_mode=False) torch.Size([1, 384, 5, 5])\n",
            "Dropout(p=0.5, inplace=False) torch.Size([1, 384, 5, 5])\n",
            "Sequential(\n",
            "  (0): Conv2d(384, 10, kernel_size=(3, 3), stride=(1, 1), padding=(1, 1))\n",
            "  (1): ReLU()\n",
            "  (2): Conv2d(10, 10, kernel_size=(1, 1), stride=(1, 1))\n",
            "  (3): ReLU()\n",
            "  (4): Conv2d(10, 10, kernel_size=(1, 1), stride=(1, 1))\n",
            "  (5): ReLU()\n",
            ") torch.Size([1, 10, 5, 5])\n",
            "AvgPool2d(kernel_size=5, stride=5, padding=0) torch.Size([1, 10, 1, 1])\n",
            "Flatten(start_dim=1, end_dim=-1) torch.Size([1, 10])\n"
          ]
        }
      ],
      "source": [
        "X = train_dataset[0][0].reshape(1, 1, 224, 224)\n",
        "for l in net:\n",
        "    X = l(X)\n",
        "    print(l , X.shape)"
      ]
    },
    {
      "cell_type": "code",
      "execution_count": null,
      "metadata": {
        "ExecuteTime": {
          "end_time": "2019-11-18T16:56:41.832949Z",
          "start_time": "2019-11-18T16:56:01.052982Z"
        },
        "id": "JA8qDe41vO4R",
        "outputId": "fb0c441b-107f-45bb-c564-d711dbf2bb5a",
        "colab": {
          "base_uri": "https://localhost:8080/",
          "height": 397
        }
      },
      "outputs": [
        {
          "output_type": "stream",
          "name": "stdout",
          "text": [
            "Step. time since epoch: 2.327. Train acc: 0.062. Train Loss: 74.038\n",
            "Step. time since epoch: 4.571. Train acc: 0.094. Train Loss: 74.157\n",
            "Step. time since epoch: 6.839. Train acc: 0.062. Train Loss: 73.762\n"
          ]
        },
        {
          "output_type": "error",
          "ename": "KeyboardInterrupt",
          "evalue": "ignored",
          "traceback": [
            "\u001b[0;31m---------------------------------------------------------------------------\u001b[0m",
            "\u001b[0;31mKeyboardInterrupt\u001b[0m                         Traceback (most recent call last)",
            "\u001b[0;32m<ipython-input-31-a49e7d36726a>\u001b[0m in \u001b[0;36m<module>\u001b[0;34m\u001b[0m\n\u001b[1;32m      1\u001b[0m \u001b[0mlr\u001b[0m\u001b[0;34m,\u001b[0m \u001b[0mnum_epochs\u001b[0m \u001b[0;34m=\u001b[0m \u001b[0;36m0.05\u001b[0m\u001b[0;34m,\u001b[0m \u001b[0;36m5\u001b[0m\u001b[0;34m\u001b[0m\u001b[0;34m\u001b[0m\u001b[0m\n\u001b[1;32m      2\u001b[0m \u001b[0mtrainer\u001b[0m \u001b[0;34m=\u001b[0m \u001b[0mtorch\u001b[0m\u001b[0;34m.\u001b[0m\u001b[0moptim\u001b[0m\u001b[0;34m.\u001b[0m\u001b[0mSGD\u001b[0m\u001b[0;34m(\u001b[0m\u001b[0mnet\u001b[0m\u001b[0;34m.\u001b[0m\u001b[0mparameters\u001b[0m\u001b[0;34m(\u001b[0m\u001b[0;34m)\u001b[0m\u001b[0;34m,\u001b[0m \u001b[0mlr\u001b[0m\u001b[0;34m=\u001b[0m\u001b[0mlr\u001b[0m\u001b[0;34m)\u001b[0m\u001b[0;34m\u001b[0m\u001b[0;34m\u001b[0m\u001b[0m\n\u001b[0;32m----> 3\u001b[0;31m \u001b[0mtrain\u001b[0m\u001b[0;34m(\u001b[0m\u001b[0mnet\u001b[0m\u001b[0;34m,\u001b[0m \u001b[0mtrain_iter\u001b[0m\u001b[0;34m,\u001b[0m \u001b[0mtest_iter\u001b[0m\u001b[0;34m,\u001b[0m \u001b[0mtrainer\u001b[0m\u001b[0;34m,\u001b[0m \u001b[0mnum_epochs\u001b[0m\u001b[0;34m)\u001b[0m\u001b[0;34m\u001b[0m\u001b[0;34m\u001b[0m\u001b[0m\n\u001b[0m",
            "\u001b[0;32m<ipython-input-4-c3357ab4978b>\u001b[0m in \u001b[0;36mtrain\u001b[0;34m(net, train_iter, test_iter, trainer, num_epochs)\u001b[0m\n\u001b[1;32m      8\u001b[0m             \u001b[0my_hat\u001b[0m \u001b[0;34m=\u001b[0m \u001b[0mnet\u001b[0m\u001b[0;34m(\u001b[0m\u001b[0mX\u001b[0m\u001b[0;34m)\u001b[0m\u001b[0;34m\u001b[0m\u001b[0;34m\u001b[0m\u001b[0m\n\u001b[1;32m      9\u001b[0m             \u001b[0ml\u001b[0m \u001b[0;34m=\u001b[0m \u001b[0mloss\u001b[0m\u001b[0;34m(\u001b[0m\u001b[0my_hat\u001b[0m\u001b[0;34m,\u001b[0m \u001b[0my\u001b[0m\u001b[0;34m)\u001b[0m\u001b[0;34m\u001b[0m\u001b[0;34m\u001b[0m\u001b[0m\n\u001b[0;32m---> 10\u001b[0;31m             \u001b[0ml\u001b[0m\u001b[0;34m.\u001b[0m\u001b[0mbackward\u001b[0m\u001b[0;34m(\u001b[0m\u001b[0;34m)\u001b[0m\u001b[0;34m\u001b[0m\u001b[0;34m\u001b[0m\u001b[0m\n\u001b[0m\u001b[1;32m     11\u001b[0m             \u001b[0mtrainer\u001b[0m\u001b[0;34m.\u001b[0m\u001b[0mstep\u001b[0m\u001b[0;34m(\u001b[0m\u001b[0;34m)\u001b[0m\u001b[0;34m\u001b[0m\u001b[0;34m\u001b[0m\u001b[0m\n\u001b[1;32m     12\u001b[0m             \u001b[0mtrain_l_sum\u001b[0m \u001b[0;34m+=\u001b[0m \u001b[0ml\u001b[0m\u001b[0;34m.\u001b[0m\u001b[0mitem\u001b[0m\u001b[0;34m(\u001b[0m\u001b[0;34m)\u001b[0m \u001b[0;31m# накапливаем характеристики\u001b[0m\u001b[0;34m\u001b[0m\u001b[0;34m\u001b[0m\u001b[0m\n",
            "\u001b[0;32m/usr/local/lib/python3.8/dist-packages/torch/_tensor.py\u001b[0m in \u001b[0;36mbackward\u001b[0;34m(self, gradient, retain_graph, create_graph, inputs)\u001b[0m\n\u001b[1;32m    486\u001b[0m                 \u001b[0minputs\u001b[0m\u001b[0;34m=\u001b[0m\u001b[0minputs\u001b[0m\u001b[0;34m,\u001b[0m\u001b[0;34m\u001b[0m\u001b[0;34m\u001b[0m\u001b[0m\n\u001b[1;32m    487\u001b[0m             )\n\u001b[0;32m--> 488\u001b[0;31m         torch.autograd.backward(\n\u001b[0m\u001b[1;32m    489\u001b[0m             \u001b[0mself\u001b[0m\u001b[0;34m,\u001b[0m \u001b[0mgradient\u001b[0m\u001b[0;34m,\u001b[0m \u001b[0mretain_graph\u001b[0m\u001b[0;34m,\u001b[0m \u001b[0mcreate_graph\u001b[0m\u001b[0;34m,\u001b[0m \u001b[0minputs\u001b[0m\u001b[0;34m=\u001b[0m\u001b[0minputs\u001b[0m\u001b[0;34m\u001b[0m\u001b[0;34m\u001b[0m\u001b[0m\n\u001b[1;32m    490\u001b[0m         )\n",
            "\u001b[0;32m/usr/local/lib/python3.8/dist-packages/torch/autograd/__init__.py\u001b[0m in \u001b[0;36mbackward\u001b[0;34m(tensors, grad_tensors, retain_graph, create_graph, grad_variables, inputs)\u001b[0m\n\u001b[1;32m    195\u001b[0m     \u001b[0;31m# some Python versions print out the first line of a multi-line function\u001b[0m\u001b[0;34m\u001b[0m\u001b[0;34m\u001b[0m\u001b[0;34m\u001b[0m\u001b[0m\n\u001b[1;32m    196\u001b[0m     \u001b[0;31m# calls in the traceback and some print out the last line\u001b[0m\u001b[0;34m\u001b[0m\u001b[0;34m\u001b[0m\u001b[0;34m\u001b[0m\u001b[0m\n\u001b[0;32m--> 197\u001b[0;31m     Variable._execution_engine.run_backward(  # Calls into the C++ engine to run the backward pass\n\u001b[0m\u001b[1;32m    198\u001b[0m         \u001b[0mtensors\u001b[0m\u001b[0;34m,\u001b[0m \u001b[0mgrad_tensors_\u001b[0m\u001b[0;34m,\u001b[0m \u001b[0mretain_graph\u001b[0m\u001b[0;34m,\u001b[0m \u001b[0mcreate_graph\u001b[0m\u001b[0;34m,\u001b[0m \u001b[0minputs\u001b[0m\u001b[0;34m,\u001b[0m\u001b[0;34m\u001b[0m\u001b[0;34m\u001b[0m\u001b[0m\n\u001b[1;32m    199\u001b[0m         allow_unreachable=True, accumulate_grad=True)  # Calls into the C++ engine to run the backward pass\n",
            "\u001b[0;31mKeyboardInterrupt\u001b[0m: "
          ]
        }
      ],
      "source": [
        "lr, num_epochs = 0.05, 5\n",
        "trainer = torch.optim.SGD(net.parameters(), lr=lr)\n",
        "train(net, train_iter, test_iter, trainer, num_epochs)"
      ]
    },
    {
      "cell_type": "markdown",
      "metadata": {
        "id": "s4HuK8RsvO4S"
      },
      "source": [
        "## GoogleLeNet"
      ]
    },
    {
      "cell_type": "code",
      "execution_count": null,
      "metadata": {
        "ExecuteTime": {
          "end_time": "2019-11-18T17:08:12.092643Z",
          "start_time": "2019-11-18T17:08:12.087776Z"
        },
        "id": "OoXmbOmfvO4S",
        "outputId": "b2b462fb-e002-478e-c899-02c22ffca4f3"
      },
      "outputs": [
        {
          "data": {
            "text/plain": [
              "torch.nn.modules.module.Module"
            ]
          },
          "execution_count": 249,
          "metadata": {},
          "output_type": "execute_result"
        }
      ],
      "source": [
        "nn.Module"
      ]
    },
    {
      "cell_type": "code",
      "execution_count": null,
      "metadata": {
        "ExecuteTime": {
          "end_time": "2019-11-17T13:29:01.329069Z",
          "start_time": "2019-11-17T13:29:01.317911Z"
        },
        "id": "-Ucm8FgBvO4S"
      },
      "outputs": [],
      "source": [
        "class Inception(nn.Module):\n",
        "    def __init__(self, ic, c1, c2, c3, c4, **kwargs):\n",
        "        super(Inception, self).__init__(**kwargs)\n",
        "        self.p1_1 = nn.Sequential(nn.Conv2d(ic, c1, kernel_size=1), nn.ReLU())\n",
        "        self.p2_1 = nn.Sequential(nn.Conv2d(ic, c2[0], kernel_size=1), nn.ReLU())\n",
        "        self.p2_2 = nn.Sequential(nn.Conv2d(c2[0], c2[1], kernel_size=3, padding=1), nn.ReLU())\n",
        "        self.p3_1 = nn.Sequential(nn.Conv2d(ic, c3[0], kernel_size=1), nn.ReLU())\n",
        "        self.p3_2 = nn.Sequential(nn.Conv2d(c3[0], c3[1], kernel_size=5, padding=2), nn.ReLU())\n",
        "        self.p4_1 = nn.Sequential(nn.MaxPool2d(3, stride=1, padding=1))\n",
        "        self.p4_2 = nn.Sequential(nn.Conv2d(ic, c4, kernel_size=1), nn.ReLU())\n",
        "\n",
        "    def forward(self, x):\n",
        "        p1 = self.p1_1(x)\n",
        "        p2 = self.p2_2(self.p2_1(x))\n",
        "        p3 = self.p3_2(self.p3_1(x))\n",
        "        p4 = self.p4_2(self.p4_1(x))\n",
        "        # Concatenate the outputs on the channel dimension.\n",
        "        return torch.cat((p1, p2, p3, p4), dim=1)"
      ]
    },
    {
      "cell_type": "code",
      "execution_count": null,
      "metadata": {
        "ExecuteTime": {
          "end_time": "2019-11-17T13:29:01.480962Z",
          "start_time": "2019-11-17T13:29:01.476713Z"
        },
        "id": "BjJ3K4rZvO4S"
      },
      "outputs": [],
      "source": [
        "b1 = nn.Sequential(nn.Conv2d(1, 64, kernel_size=7, stride=2, padding=3), nn.ReLU(),\n",
        "       nn.MaxPool2d(3, stride=2, padding=1))"
      ]
    },
    {
      "cell_type": "code",
      "execution_count": null,
      "metadata": {
        "ExecuteTime": {
          "end_time": "2019-11-17T13:29:01.626101Z",
          "start_time": "2019-11-17T13:29:01.620836Z"
        },
        "id": "0awaO90wvO4S"
      },
      "outputs": [],
      "source": [
        "b2 = nn.Sequential(\n",
        "       nn.Conv2d(64, 64, kernel_size=1),\n",
        "       nn.Conv2d(64, 192, kernel_size=3, padding=1),\n",
        "       nn.MaxPool2d(3, stride=2, padding=1))"
      ]
    },
    {
      "cell_type": "code",
      "execution_count": null,
      "metadata": {
        "ExecuteTime": {
          "end_time": "2019-11-17T13:30:56.752212Z",
          "start_time": "2019-11-17T13:30:56.741605Z"
        },
        "id": "kzdk5QWovO4S"
      },
      "outputs": [],
      "source": [
        "b3 = nn.Sequential(\n",
        "       Inception(192, 64, (96, 128), (16, 32), 32),\n",
        "       Inception(256, 128, (128, 192), (32, 96), 64),\n",
        "       nn.MaxPool2d(3, stride=2, padding=1))"
      ]
    },
    {
      "cell_type": "code",
      "execution_count": null,
      "metadata": {
        "ExecuteTime": {
          "end_time": "2019-11-17T13:34:33.986895Z",
          "start_time": "2019-11-17T13:34:33.949995Z"
        },
        "id": "yQLcId3SvO4S"
      },
      "outputs": [],
      "source": [
        "b4 = nn.Sequential(\n",
        "       Inception(480, 192, (96, 208), (16, 48), 64),\n",
        "       Inception(512, 160, (112, 224), (24, 64), 64),\n",
        "       Inception(512, 128, (128, 256), (24, 64), 64),\n",
        "       Inception(512, 112, (144, 288), (32, 64), 64),\n",
        "       Inception(528, 256, (160, 320), (32, 128), 128),\n",
        "       nn.MaxPool2d(3, stride=2, padding=1))"
      ]
    },
    {
      "cell_type": "code",
      "execution_count": null,
      "metadata": {
        "ExecuteTime": {
          "end_time": "2019-11-17T13:34:49.151063Z",
          "start_time": "2019-11-17T13:34:49.120596Z"
        },
        "id": "FLjKpdsgvO4T"
      },
      "outputs": [],
      "source": [
        "b5 = nn.Sequential(\n",
        "       Inception(832, 256, (160, 320), (32, 128), 128),\n",
        "       Inception(832, 384, (192, 384), (48, 128), 128),\n",
        "       nn.AvgPool2d(7))"
      ]
    },
    {
      "cell_type": "code",
      "execution_count": null,
      "metadata": {
        "ExecuteTime": {
          "end_time": "2019-11-17T13:35:35.796920Z",
          "start_time": "2019-11-17T13:35:35.792707Z"
        },
        "id": "3L-DpN1JvO4T"
      },
      "outputs": [],
      "source": [
        "net = nn.Sequential(b1, b2, b3, b4, b5, nn.Flatten(), nn.Linear(1024, 10))"
      ]
    },
    {
      "cell_type": "code",
      "execution_count": null,
      "metadata": {
        "ExecuteTime": {
          "end_time": "2019-11-18T17:11:01.447938Z",
          "start_time": "2019-11-18T17:11:01.372789Z"
        },
        "id": "tS_bOG3BvO4T",
        "outputId": "d2b021a7-6a8d-4d35-a8f0-c724d3e0f9aa"
      },
      "outputs": [
        {
          "name": "stdout",
          "output_type": "stream",
          "text": [
            "Sequential(\n",
            "  (0): Conv2d(1, 96, kernel_size=(11, 11), stride=(4, 4))\n",
            "  (1): ReLU()\n",
            "  (2): Conv2d(96, 96, kernel_size=(1, 1), stride=(1, 1))\n",
            "  (3): ReLU()\n",
            "  (4): Conv2d(96, 96, kernel_size=(1, 1), stride=(1, 1))\n",
            "  (5): ReLU()\n",
            ") torch.Size([1, 96, 54, 54])\n",
            "MaxPool2d(kernel_size=3, stride=2, padding=0, dilation=1, ceil_mode=False) torch.Size([1, 96, 26, 26])\n",
            "Sequential(\n",
            "  (0): Conv2d(96, 256, kernel_size=(5, 5), stride=(1, 1), padding=(2, 2))\n",
            "  (1): ReLU()\n",
            "  (2): Conv2d(256, 256, kernel_size=(1, 1), stride=(1, 1))\n",
            "  (3): ReLU()\n",
            "  (4): Conv2d(256, 256, kernel_size=(1, 1), stride=(1, 1))\n",
            "  (5): ReLU()\n",
            ") torch.Size([1, 256, 26, 26])\n",
            "MaxPool2d(kernel_size=3, stride=2, padding=0, dilation=1, ceil_mode=False) torch.Size([1, 256, 12, 12])\n",
            "Sequential(\n",
            "  (0): Conv2d(256, 384, kernel_size=(3, 3), stride=(1, 1), padding=(1, 1))\n",
            "  (1): ReLU()\n",
            "  (2): Conv2d(384, 384, kernel_size=(1, 1), stride=(1, 1))\n",
            "  (3): ReLU()\n",
            "  (4): Conv2d(384, 384, kernel_size=(1, 1), stride=(1, 1))\n",
            "  (5): ReLU()\n",
            ") torch.Size([1, 384, 12, 12])\n",
            "MaxPool2d(kernel_size=3, stride=2, padding=0, dilation=1, ceil_mode=False) torch.Size([1, 384, 5, 5])\n",
            "Dropout(p=0.5, inplace=False) torch.Size([1, 384, 5, 5])\n",
            "Sequential(\n",
            "  (0): Conv2d(384, 10, kernel_size=(3, 3), stride=(1, 1), padding=(1, 1))\n",
            "  (1): ReLU()\n",
            "  (2): Conv2d(10, 10, kernel_size=(1, 1), stride=(1, 1))\n",
            "  (3): ReLU()\n",
            "  (4): Conv2d(10, 10, kernel_size=(1, 1), stride=(1, 1))\n",
            "  (5): ReLU()\n",
            ") torch.Size([1, 10, 5, 5])\n",
            "AvgPool2d(kernel_size=5, stride=5, padding=0) torch.Size([1, 10, 1, 1])\n",
            "Flatten() torch.Size([1, 10])\n"
          ]
        }
      ],
      "source": [
        "X = train_dataset[0][0].reshape(1, 1, 224, 224)\n",
        "for l in net:\n",
        "    X = l(X)\n",
        "    print(l , X.shape)"
      ]
    },
    {
      "cell_type": "code",
      "execution_count": null,
      "metadata": {
        "ExecuteTime": {
          "end_time": "2019-11-18T17:21:23.003367Z",
          "start_time": "2019-11-18T17:11:07.846611Z"
        },
        "id": "FJQpJeaUvO4T",
        "outputId": "4f9a13e2-abc8-4574-8898-c057e94960e6"
      },
      "outputs": [
        {
          "name": "stdout",
          "output_type": "stream",
          "text": [
            "Step. time since epoch: 1.408. Train acc: 0.094. Train Loss: 73.683\n",
            "Step. time since epoch: 2.805. Train acc: 0.188. Train Loss: 73.683\n",
            "Step. time since epoch: 4.202. Train acc: 0.062. Train Loss: 73.683\n",
            "Step. time since epoch: 5.615. Train acc: 0.062. Train Loss: 73.683\n",
            "Step. time since epoch: 7.018. Train acc: 0.094. Train Loss: 73.683\n",
            "Step. time since epoch: 8.427. Train acc: 0.188. Train Loss: 73.683\n",
            "Step. time since epoch: 9.838. Train acc: 0.031. Train Loss: 73.683\n",
            "Step. time since epoch: 11.256. Train acc: 0.094. Train Loss: 73.683\n",
            "Step. time since epoch: 12.660. Train acc: 0.156. Train Loss: 73.683\n",
            "Step. time since epoch: 14.102. Train acc: 0.094. Train Loss: 73.683\n",
            "Step. time since epoch: 15.511. Train acc: 0.156. Train Loss: 73.683\n",
            "Step. time since epoch: 16.935. Train acc: 0.125. Train Loss: 73.683\n",
            "Step. time since epoch: 18.384. Train acc: 0.062. Train Loss: 73.683\n",
            "Step. time since epoch: 20.253. Train acc: 0.188. Train Loss: 73.683\n",
            "Step. time since epoch: 21.717. Train acc: 0.062. Train Loss: 73.683\n",
            "Step. time since epoch: 23.173. Train acc: 0.094. Train Loss: 73.683\n",
            "Step. time since epoch: 24.782. Train acc: 0.094. Train Loss: 73.683\n",
            "Step. time since epoch: 26.470. Train acc: 0.062. Train Loss: 73.683\n",
            "Step. time since epoch: 27.993. Train acc: 0.188. Train Loss: 73.683\n",
            "Step. time since epoch: 29.737. Train acc: 0.094. Train Loss: 73.683\n",
            "Step. time since epoch: 31.519. Train acc: 0.031. Train Loss: 73.683\n",
            "Step. time since epoch: 33.513. Train acc: 0.031. Train Loss: 73.683\n",
            "Step. time since epoch: 34.998. Train acc: 0.094. Train Loss: 73.683\n",
            "Step. time since epoch: 36.510. Train acc: 0.156. Train Loss: 73.683\n",
            "Step. time since epoch: 38.462. Train acc: 0.125. Train Loss: 73.683\n",
            "Step. time since epoch: 40.164. Train acc: 0.188. Train Loss: 73.683\n",
            "Step. time since epoch: 41.765. Train acc: 0.000. Train Loss: 73.683\n",
            "Step. time since epoch: 43.332. Train acc: 0.062. Train Loss: 73.683\n",
            "Step. time since epoch: 44.720. Train acc: 0.062. Train Loss: 73.683\n",
            "Step. time since epoch: 46.222. Train acc: 0.125. Train Loss: 73.683\n",
            "Step. time since epoch: 47.864. Train acc: 0.062. Train Loss: 73.683\n",
            "Step. time since epoch: 49.412. Train acc: 0.031. Train Loss: 73.683\n",
            "Step. time since epoch: 50.871. Train acc: 0.094. Train Loss: 73.683\n",
            "Step. time since epoch: 52.297. Train acc: 0.125. Train Loss: 73.683\n",
            "Step. time since epoch: 53.858. Train acc: 0.094. Train Loss: 73.683\n",
            "Step. time since epoch: 55.270. Train acc: 0.125. Train Loss: 73.683\n",
            "Step. time since epoch: 56.723. Train acc: 0.156. Train Loss: 73.683\n",
            "Step. time since epoch: 58.170. Train acc: 0.031. Train Loss: 73.683\n",
            "Step. time since epoch: 59.588. Train acc: 0.062. Train Loss: 73.683\n",
            "Step. time since epoch: 61.092. Train acc: 0.125. Train Loss: 73.683\n",
            "Step. time since epoch: 62.668. Train acc: 0.219. Train Loss: 73.683\n",
            "Step. time since epoch: 64.040. Train acc: 0.062. Train Loss: 73.683\n",
            "Step. time since epoch: 65.549. Train acc: 0.156. Train Loss: 73.683\n",
            "Step. time since epoch: 67.023. Train acc: 0.125. Train Loss: 73.683\n",
            "Step. time since epoch: 68.594. Train acc: 0.094. Train Loss: 73.683\n",
            "Step. time since epoch: 70.028. Train acc: 0.156. Train Loss: 73.683\n",
            "Step. time since epoch: 71.440. Train acc: 0.031. Train Loss: 73.683\n",
            "Step. time since epoch: 72.851. Train acc: 0.094. Train Loss: 73.683\n",
            "Step. time since epoch: 74.290. Train acc: 0.094. Train Loss: 73.683\n",
            "Step. time since epoch: 75.845. Train acc: 0.125. Train Loss: 73.683\n",
            "Step. time since epoch: 77.250. Train acc: 0.156. Train Loss: 73.683\n",
            "Step. time since epoch: 78.635. Train acc: 0.094. Train Loss: 73.683\n",
            "Step. time since epoch: 80.033. Train acc: 0.125. Train Loss: 73.683\n",
            "Step. time since epoch: 81.421. Train acc: 0.031. Train Loss: 73.683\n",
            "Step. time since epoch: 82.819. Train acc: 0.281. Train Loss: 73.683\n",
            "Step. time since epoch: 84.196. Train acc: 0.000. Train Loss: 73.683\n",
            "Step. time since epoch: 85.567. Train acc: 0.094. Train Loss: 73.683\n",
            "Step. time since epoch: 86.959. Train acc: 0.094. Train Loss: 73.683\n",
            "Step. time since epoch: 88.411. Train acc: 0.125. Train Loss: 73.683\n",
            "Step. time since epoch: 89.837. Train acc: 0.125. Train Loss: 73.683\n",
            "Step. time since epoch: 91.273. Train acc: 0.188. Train Loss: 73.683\n",
            "Step. time since epoch: 92.713. Train acc: 0.094. Train Loss: 73.683\n",
            "Step. time since epoch: 94.134. Train acc: 0.062. Train Loss: 73.683\n",
            "Step. time since epoch: 95.510. Train acc: 0.062. Train Loss: 73.683\n",
            "Step. time since epoch: 96.987. Train acc: 0.031. Train Loss: 73.683\n",
            "Step. time since epoch: 98.377. Train acc: 0.031. Train Loss: 73.683\n",
            "Step. time since epoch: 99.793. Train acc: 0.156. Train Loss: 73.683\n",
            "Step. time since epoch: 101.200. Train acc: 0.000. Train Loss: 73.683\n",
            "Step. time since epoch: 102.597. Train acc: 0.031. Train Loss: 73.683\n",
            "Step. time since epoch: 104.101. Train acc: 0.094. Train Loss: 73.683\n",
            "Step. time since epoch: 105.492. Train acc: 0.062. Train Loss: 73.683\n",
            "Step. time since epoch: 106.881. Train acc: 0.094. Train Loss: 73.683\n",
            "Step. time since epoch: 108.277. Train acc: 0.094. Train Loss: 73.683\n",
            "Step. time since epoch: 109.682. Train acc: 0.062. Train Loss: 73.683\n",
            "Step. time since epoch: 111.080. Train acc: 0.125. Train Loss: 73.683\n",
            "Step. time since epoch: 112.495. Train acc: 0.000. Train Loss: 73.683\n",
            "Step. time since epoch: 113.918. Train acc: 0.125. Train Loss: 73.683\n",
            "Step. time since epoch: 115.317. Train acc: 0.062. Train Loss: 73.683\n",
            "Step. time since epoch: 116.714. Train acc: 0.125. Train Loss: 73.683\n",
            "Step. time since epoch: 118.106. Train acc: 0.062. Train Loss: 73.683\n",
            "Step. time since epoch: 119.527. Train acc: 0.062. Train Loss: 73.683\n",
            "Step. time since epoch: 120.942. Train acc: 0.094. Train Loss: 73.683\n",
            "Step. time since epoch: 122.342. Train acc: 0.125. Train Loss: 73.683\n",
            "Step. time since epoch: 123.740. Train acc: 0.031. Train Loss: 73.683\n",
            "Step. time since epoch: 125.118. Train acc: 0.156. Train Loss: 73.683\n",
            "Step. time since epoch: 126.493. Train acc: 0.062. Train Loss: 73.683\n",
            "Step. time since epoch: 127.887. Train acc: 0.094. Train Loss: 73.683\n",
            "Step. time since epoch: 129.279. Train acc: 0.219. Train Loss: 73.683\n",
            "Step. time since epoch: 130.672. Train acc: 0.031. Train Loss: 73.683\n",
            "Step. time since epoch: 132.083. Train acc: 0.031. Train Loss: 73.683\n",
            "Step. time since epoch: 133.502. Train acc: 0.031. Train Loss: 73.683\n",
            "Step. time since epoch: 134.888. Train acc: 0.062. Train Loss: 73.683\n",
            "Step. time since epoch: 136.275. Train acc: 0.094. Train Loss: 73.683\n",
            "Step. time since epoch: 137.667. Train acc: 0.094. Train Loss: 73.683\n",
            "Step. time since epoch: 139.059. Train acc: 0.094. Train Loss: 73.683\n",
            "Step. time since epoch: 140.459. Train acc: 0.125. Train Loss: 73.683\n",
            "Step. time since epoch: 141.869. Train acc: 0.188. Train Loss: 73.683\n",
            "Step. time since epoch: 143.269. Train acc: 0.062. Train Loss: 73.683\n",
            "Step. time since epoch: 144.695. Train acc: 0.062. Train Loss: 73.683\n",
            "Step. time since epoch: 146.076. Train acc: 0.156. Train Loss: 73.683\n",
            "Step. time since epoch: 147.487. Train acc: 0.062. Train Loss: 73.683\n",
            "Step. time since epoch: 148.900. Train acc: 0.156. Train Loss: 73.683\n",
            "Step. time since epoch: 150.315. Train acc: 0.125. Train Loss: 73.683\n",
            "Step. time since epoch: 151.809. Train acc: 0.219. Train Loss: 73.683\n",
            "Step. time since epoch: 153.220. Train acc: 0.125. Train Loss: 73.683\n",
            "Step. time since epoch: 154.627. Train acc: 0.125. Train Loss: 73.683\n",
            "Step. time since epoch: 156.001. Train acc: 0.062. Train Loss: 73.683\n",
            "Step. time since epoch: 157.382. Train acc: 0.031. Train Loss: 73.683\n",
            "Step. time since epoch: 158.772. Train acc: 0.094. Train Loss: 73.683\n",
            "Step. time since epoch: 160.161. Train acc: 0.156. Train Loss: 73.683\n",
            "Step. time since epoch: 161.601. Train acc: 0.094. Train Loss: 73.683\n",
            "Step. time since epoch: 163.004. Train acc: 0.062. Train Loss: 73.683\n",
            "Step. time since epoch: 164.419. Train acc: 0.094. Train Loss: 73.683\n",
            "Step. time since epoch: 165.810. Train acc: 0.094. Train Loss: 73.683\n",
            "Step. time since epoch: 167.193. Train acc: 0.156. Train Loss: 73.683\n",
            "Step. time since epoch: 168.594. Train acc: 0.062. Train Loss: 73.683\n",
            "Step. time since epoch: 169.991. Train acc: 0.031. Train Loss: 73.683\n",
            "Step. time since epoch: 171.446. Train acc: 0.156. Train Loss: 73.683\n",
            "Step. time since epoch: 172.879. Train acc: 0.188. Train Loss: 73.683\n"
          ]
        },
        {
          "name": "stdout",
          "output_type": "stream",
          "text": [
            "Step. time since epoch: 174.299. Train acc: 0.094. Train Loss: 73.683\n",
            "Step. time since epoch: 175.684. Train acc: 0.094. Train Loss: 73.683\n",
            "Step. time since epoch: 177.241. Train acc: 0.031. Train Loss: 73.683\n",
            "Step. time since epoch: 178.764. Train acc: 0.188. Train Loss: 73.683\n",
            "Step. time since epoch: 180.271. Train acc: 0.031. Train Loss: 73.683\n",
            "Step. time since epoch: 181.808. Train acc: 0.188. Train Loss: 73.683\n",
            "Step. time since epoch: 183.362. Train acc: 0.094. Train Loss: 73.683\n",
            "Step. time since epoch: 184.885. Train acc: 0.156. Train Loss: 73.683\n",
            "Step. time since epoch: 186.377. Train acc: 0.188. Train Loss: 73.683\n",
            "Step. time since epoch: 187.818. Train acc: 0.188. Train Loss: 73.683\n",
            "Step. time since epoch: 189.295. Train acc: 0.031. Train Loss: 73.683\n",
            "Step. time since epoch: 190.850. Train acc: 0.031. Train Loss: 73.683\n",
            "Step. time since epoch: 192.392. Train acc: 0.125. Train Loss: 73.683\n",
            "Step. time since epoch: 193.795. Train acc: 0.062. Train Loss: 73.683\n",
            "Step. time since epoch: 195.192. Train acc: 0.062. Train Loss: 73.683\n",
            "Step. time since epoch: 196.561. Train acc: 0.125. Train Loss: 73.683\n",
            "Step. time since epoch: 197.944. Train acc: 0.156. Train Loss: 73.683\n",
            "Step. time since epoch: 199.437. Train acc: 0.125. Train Loss: 73.683\n",
            "Step. time since epoch: 200.955. Train acc: 0.031. Train Loss: 73.683\n",
            "Step. time since epoch: 202.554. Train acc: 0.062. Train Loss: 73.683\n",
            "Step. time since epoch: 204.433. Train acc: 0.094. Train Loss: 73.683\n",
            "Step. time since epoch: 205.821. Train acc: 0.062. Train Loss: 73.683\n",
            "Step. time since epoch: 207.187. Train acc: 0.031. Train Loss: 73.683\n",
            "Step. time since epoch: 208.570. Train acc: 0.125. Train Loss: 73.683\n",
            "Step. time since epoch: 209.985. Train acc: 0.094. Train Loss: 73.683\n",
            "Step. time since epoch: 211.399. Train acc: 0.094. Train Loss: 73.683\n",
            "Step. time since epoch: 212.927. Train acc: 0.125. Train Loss: 73.683\n",
            "Step. time since epoch: 214.360. Train acc: 0.125. Train Loss: 73.683\n",
            "Step. time since epoch: 215.761. Train acc: 0.031. Train Loss: 73.683\n",
            "Step. time since epoch: 217.186. Train acc: 0.062. Train Loss: 73.683\n",
            "Step. time since epoch: 218.570. Train acc: 0.094. Train Loss: 73.683\n",
            "Step. time since epoch: 219.938. Train acc: 0.188. Train Loss: 73.683\n",
            "Step. time since epoch: 221.434. Train acc: 0.000. Train Loss: 73.683\n",
            "Step. time since epoch: 222.860. Train acc: 0.094. Train Loss: 73.683\n",
            "Step. time since epoch: 224.239. Train acc: 0.125. Train Loss: 73.683\n",
            "Step. time since epoch: 225.635. Train acc: 0.125. Train Loss: 73.683\n",
            "Step. time since epoch: 227.024. Train acc: 0.156. Train Loss: 73.683\n",
            "Step. time since epoch: 228.396. Train acc: 0.062. Train Loss: 73.683\n",
            "Step. time since epoch: 229.771. Train acc: 0.094. Train Loss: 73.683\n",
            "Step. time since epoch: 231.159. Train acc: 0.062. Train Loss: 73.683\n",
            "Step. time since epoch: 232.584. Train acc: 0.062. Train Loss: 73.683\n",
            "Step. time since epoch: 233.976. Train acc: 0.156. Train Loss: 73.683\n",
            "Step. time since epoch: 235.380. Train acc: 0.062. Train Loss: 73.683\n",
            "Step. time since epoch: 237.185. Train acc: 0.156. Train Loss: 73.683\n",
            "Step. time since epoch: 238.669. Train acc: 0.125. Train Loss: 73.683\n",
            "Step. time since epoch: 240.117. Train acc: 0.062. Train Loss: 73.683\n",
            "Step. time since epoch: 241.520. Train acc: 0.031. Train Loss: 73.683\n",
            "Step. time since epoch: 242.937. Train acc: 0.125. Train Loss: 73.683\n",
            "Step. time since epoch: 244.352. Train acc: 0.094. Train Loss: 73.683\n",
            "Step. time since epoch: 245.752. Train acc: 0.156. Train Loss: 73.683\n",
            "Step. time since epoch: 247.237. Train acc: 0.062. Train Loss: 73.683\n",
            "Step. time since epoch: 248.631. Train acc: 0.094. Train Loss: 73.683\n",
            "Step. time since epoch: 249.992. Train acc: 0.125. Train Loss: 73.683\n",
            "Step. time since epoch: 251.368. Train acc: 0.125. Train Loss: 73.683\n",
            "Step. time since epoch: 252.773. Train acc: 0.156. Train Loss: 73.683\n",
            "Step. time since epoch: 254.170. Train acc: 0.156. Train Loss: 73.683\n",
            "Step. time since epoch: 255.574. Train acc: 0.062. Train Loss: 73.683\n",
            "Step. time since epoch: 257.008. Train acc: 0.062. Train Loss: 73.683\n",
            "Step. time since epoch: 258.471. Train acc: 0.094. Train Loss: 73.683\n",
            "Step. time since epoch: 259.897. Train acc: 0.188. Train Loss: 73.683\n",
            "Step. time since epoch: 261.398. Train acc: 0.094. Train Loss: 73.683\n",
            "Step. time since epoch: 262.866. Train acc: 0.031. Train Loss: 73.683\n",
            "Step. time since epoch: 264.311. Train acc: 0.156. Train Loss: 73.683\n",
            "Step. time since epoch: 265.773. Train acc: 0.062. Train Loss: 73.683\n",
            "Step. time since epoch: 267.281. Train acc: 0.188. Train Loss: 73.683\n",
            "Step. time since epoch: 268.810. Train acc: 0.156. Train Loss: 73.683\n",
            "Step. time since epoch: 270.283. Train acc: 0.125. Train Loss: 73.683\n",
            "Step. time since epoch: 271.798. Train acc: 0.062. Train Loss: 73.683\n",
            "Step. time since epoch: 273.316. Train acc: 0.094. Train Loss: 73.683\n",
            "Step. time since epoch: 274.921. Train acc: 0.094. Train Loss: 73.683\n",
            "Step. time since epoch: 276.443. Train acc: 0.188. Train Loss: 73.683\n",
            "Step. time since epoch: 277.952. Train acc: 0.094. Train Loss: 73.683\n",
            "Step. time since epoch: 279.412. Train acc: 0.031. Train Loss: 73.683\n",
            "Step. time since epoch: 280.925. Train acc: 0.250. Train Loss: 73.683\n",
            "Step. time since epoch: 282.403. Train acc: 0.062. Train Loss: 73.683\n",
            "Step. time since epoch: 283.881. Train acc: 0.094. Train Loss: 73.683\n",
            "Step. time since epoch: 285.473. Train acc: 0.031. Train Loss: 73.683\n",
            "Step. time since epoch: 287.011. Train acc: 0.156. Train Loss: 73.683\n",
            "Step. time since epoch: 288.517. Train acc: 0.094. Train Loss: 73.683\n",
            "Step. time since epoch: 289.962. Train acc: 0.031. Train Loss: 73.683\n",
            "Step. time since epoch: 291.484. Train acc: 0.156. Train Loss: 73.683\n",
            "Step. time since epoch: 293.011. Train acc: 0.000. Train Loss: 73.683\n",
            "Step. time since epoch: 294.397. Train acc: 0.125. Train Loss: 73.683\n",
            "Step. time since epoch: 295.839. Train acc: 0.062. Train Loss: 73.683\n",
            "Step. time since epoch: 297.561. Train acc: 0.094. Train Loss: 73.683\n",
            "Step. time since epoch: 299.111. Train acc: 0.062. Train Loss: 73.683\n",
            "Step. time since epoch: 300.588. Train acc: 0.125. Train Loss: 73.683\n",
            "Step. time since epoch: 302.134. Train acc: 0.031. Train Loss: 73.683\n",
            "Step. time since epoch: 303.739. Train acc: 0.125. Train Loss: 73.683\n",
            "Step. time since epoch: 305.177. Train acc: 0.094. Train Loss: 73.683\n",
            "Step. time since epoch: 306.645. Train acc: 0.094. Train Loss: 73.683\n",
            "Step. time since epoch: 308.062. Train acc: 0.094. Train Loss: 73.683\n",
            "Step. time since epoch: 309.419. Train acc: 0.094. Train Loss: 73.683\n",
            "Step. time since epoch: 310.874. Train acc: 0.094. Train Loss: 73.683\n",
            "Step. time since epoch: 312.356. Train acc: 0.125. Train Loss: 73.683\n",
            "Step. time since epoch: 313.747. Train acc: 0.062. Train Loss: 73.683\n",
            "Step. time since epoch: 315.122. Train acc: 0.062. Train Loss: 73.683\n",
            "Step. time since epoch: 316.509. Train acc: 0.094. Train Loss: 73.683\n",
            "Step. time since epoch: 317.932. Train acc: 0.125. Train Loss: 73.683\n",
            "Step. time since epoch: 319.314. Train acc: 0.094. Train Loss: 73.683\n",
            "Step. time since epoch: 320.684. Train acc: 0.094. Train Loss: 73.683\n",
            "Step. time since epoch: 322.053. Train acc: 0.188. Train Loss: 73.683\n",
            "Step. time since epoch: 323.424. Train acc: 0.094. Train Loss: 73.683\n",
            "Step. time since epoch: 324.889. Train acc: 0.094. Train Loss: 73.683\n",
            "Step. time since epoch: 326.254. Train acc: 0.094. Train Loss: 73.683\n",
            "Step. time since epoch: 327.632. Train acc: 0.125. Train Loss: 73.683\n",
            "Step. time since epoch: 329.009. Train acc: 0.125. Train Loss: 73.683\n",
            "Step. time since epoch: 330.388. Train acc: 0.250. Train Loss: 73.683\n",
            "Step. time since epoch: 331.898. Train acc: 0.094. Train Loss: 73.683\n",
            "Step. time since epoch: 333.317. Train acc: 0.062. Train Loss: 73.683\n",
            "Step. time since epoch: 334.728. Train acc: 0.031. Train Loss: 73.683\n",
            "Step. time since epoch: 336.191. Train acc: 0.062. Train Loss: 73.683\n",
            "Step. time since epoch: 337.699. Train acc: 0.062. Train Loss: 73.683\n",
            "Step. time since epoch: 339.071. Train acc: 0.062. Train Loss: 73.683\n",
            "Step. time since epoch: 340.512. Train acc: 0.094. Train Loss: 73.683\n",
            "Step. time since epoch: 341.947. Train acc: 0.125. Train Loss: 73.683\n",
            "Step. time since epoch: 343.389. Train acc: 0.125. Train Loss: 73.683\n",
            "Step. time since epoch: 344.898. Train acc: 0.000. Train Loss: 73.683\n"
          ]
        },
        {
          "name": "stdout",
          "output_type": "stream",
          "text": [
            "Step. time since epoch: 346.417. Train acc: 0.031. Train Loss: 73.683\n",
            "Step. time since epoch: 347.953. Train acc: 0.125. Train Loss: 73.683\n",
            "Step. time since epoch: 349.409. Train acc: 0.062. Train Loss: 73.683\n",
            "Step. time since epoch: 350.878. Train acc: 0.125. Train Loss: 73.683\n",
            "Step. time since epoch: 352.335. Train acc: 0.156. Train Loss: 73.683\n",
            "Step. time since epoch: 353.776. Train acc: 0.156. Train Loss: 73.683\n",
            "Step. time since epoch: 355.199. Train acc: 0.094. Train Loss: 73.683\n",
            "Step. time since epoch: 356.604. Train acc: 0.094. Train Loss: 73.683\n",
            "Step. time since epoch: 357.983. Train acc: 0.031. Train Loss: 73.683\n",
            "Step. time since epoch: 359.372. Train acc: 0.125. Train Loss: 73.683\n",
            "Step. time since epoch: 360.766. Train acc: 0.062. Train Loss: 73.683\n",
            "Step. time since epoch: 362.135. Train acc: 0.188. Train Loss: 73.683\n",
            "Step. time since epoch: 363.578. Train acc: 0.062. Train Loss: 73.683\n",
            "Step. time since epoch: 365.045. Train acc: 0.094. Train Loss: 73.683\n",
            "Step. time since epoch: 366.498. Train acc: 0.125. Train Loss: 73.683\n",
            "Step. time since epoch: 367.953. Train acc: 0.094. Train Loss: 73.683\n",
            "Step. time since epoch: 369.349. Train acc: 0.062. Train Loss: 73.683\n",
            "Step. time since epoch: 370.754. Train acc: 0.062. Train Loss: 73.683\n",
            "Step. time since epoch: 372.122. Train acc: 0.031. Train Loss: 73.683\n",
            "Step. time since epoch: 373.585. Train acc: 0.094. Train Loss: 73.683\n",
            "Step. time since epoch: 375.053. Train acc: 0.094. Train Loss: 73.683\n",
            "Step. time since epoch: 376.518. Train acc: 0.094. Train Loss: 73.683\n",
            "Step. time since epoch: 377.951. Train acc: 0.156. Train Loss: 73.683\n",
            "Step. time since epoch: 379.406. Train acc: 0.094. Train Loss: 73.683\n",
            "Step. time since epoch: 380.933. Train acc: 0.094. Train Loss: 73.683\n",
            "Step. time since epoch: 382.411. Train acc: 0.125. Train Loss: 73.683\n",
            "Step. time since epoch: 383.893. Train acc: 0.156. Train Loss: 73.683\n",
            "Step. time since epoch: 385.353. Train acc: 0.094. Train Loss: 73.683\n",
            "Step. time since epoch: 386.848. Train acc: 0.156. Train Loss: 73.683\n",
            "Step. time since epoch: 388.315. Train acc: 0.094. Train Loss: 73.683\n",
            "Step. time since epoch: 389.778. Train acc: 0.125. Train Loss: 73.683\n",
            "Step. time since epoch: 391.281. Train acc: 0.156. Train Loss: 73.683\n",
            "Step. time since epoch: 392.689. Train acc: 0.125. Train Loss: 73.683\n",
            "Step. time since epoch: 394.063. Train acc: 0.125. Train Loss: 73.683\n",
            "Step. time since epoch: 395.473. Train acc: 0.062. Train Loss: 73.683\n",
            "Step. time since epoch: 396.876. Train acc: 0.062. Train Loss: 73.683\n",
            "Step. time since epoch: 398.346. Train acc: 0.125. Train Loss: 73.683\n",
            "Step. time since epoch: 399.866. Train acc: 0.031. Train Loss: 73.683\n",
            "Step. time since epoch: 401.326. Train acc: 0.031. Train Loss: 73.683\n",
            "Step. time since epoch: 402.832. Train acc: 0.094. Train Loss: 73.683\n",
            "Step. time since epoch: 404.291. Train acc: 0.000. Train Loss: 73.683\n",
            "Step. time since epoch: 405.842. Train acc: 0.062. Train Loss: 73.683\n",
            "Step. time since epoch: 407.358. Train acc: 0.031. Train Loss: 73.683\n",
            "Step. time since epoch: 408.864. Train acc: 0.062. Train Loss: 73.683\n",
            "Step. time since epoch: 410.313. Train acc: 0.094. Train Loss: 73.683\n",
            "Step. time since epoch: 411.731. Train acc: 0.062. Train Loss: 73.683\n",
            "Step. time since epoch: 413.176. Train acc: 0.125. Train Loss: 73.683\n",
            "Step. time since epoch: 414.607. Train acc: 0.094. Train Loss: 73.683\n",
            "Step. time since epoch: 416.044. Train acc: 0.188. Train Loss: 73.683\n",
            "Step. time since epoch: 417.501. Train acc: 0.062. Train Loss: 73.683\n",
            "Step. time since epoch: 418.913. Train acc: 0.031. Train Loss: 73.683\n",
            "Step. time since epoch: 420.351. Train acc: 0.125. Train Loss: 73.683\n",
            "Step. time since epoch: 421.802. Train acc: 0.062. Train Loss: 73.683\n",
            "Step. time since epoch: 423.238. Train acc: 0.156. Train Loss: 73.683\n",
            "Step. time since epoch: 424.662. Train acc: 0.000. Train Loss: 73.683\n",
            "Step. time since epoch: 426.090. Train acc: 0.125. Train Loss: 73.683\n",
            "Step. time since epoch: 427.523. Train acc: 0.094. Train Loss: 73.683\n",
            "Step. time since epoch: 428.970. Train acc: 0.094. Train Loss: 73.683\n",
            "Step. time since epoch: 430.466. Train acc: 0.094. Train Loss: 73.683\n",
            "Step. time since epoch: 431.924. Train acc: 0.094. Train Loss: 73.683\n",
            "Step. time since epoch: 433.318. Train acc: 0.062. Train Loss: 73.683\n",
            "Step. time since epoch: 434.680. Train acc: 0.031. Train Loss: 73.683\n",
            "Step. time since epoch: 436.064. Train acc: 0.000. Train Loss: 73.683\n",
            "Step. time since epoch: 437.449. Train acc: 0.125. Train Loss: 73.683\n",
            "Step. time since epoch: 438.838. Train acc: 0.125. Train Loss: 73.683\n",
            "Step. time since epoch: 440.239. Train acc: 0.062. Train Loss: 73.683\n",
            "Step. time since epoch: 441.634. Train acc: 0.062. Train Loss: 73.683\n",
            "Step. time since epoch: 443.022. Train acc: 0.219. Train Loss: 73.683\n",
            "Step. time since epoch: 444.404. Train acc: 0.094. Train Loss: 73.683\n",
            "Step. time since epoch: 445.773. Train acc: 0.062. Train Loss: 73.683\n",
            "Step. time since epoch: 447.147. Train acc: 0.156. Train Loss: 73.683\n",
            "Step. time since epoch: 448.521. Train acc: 0.062. Train Loss: 73.683\n",
            "Step. time since epoch: 449.903. Train acc: 0.094. Train Loss: 73.683\n",
            "Step. time since epoch: 451.303. Train acc: 0.156. Train Loss: 73.683\n",
            "Step. time since epoch: 452.713. Train acc: 0.062. Train Loss: 73.683\n",
            "Step. time since epoch: 454.067. Train acc: 0.094. Train Loss: 73.683\n",
            "Step. time since epoch: 455.531. Train acc: 0.156. Train Loss: 73.683\n",
            "Step. time since epoch: 456.942. Train acc: 0.094. Train Loss: 73.683\n",
            "Step. time since epoch: 458.338. Train acc: 0.156. Train Loss: 73.683\n",
            "Step. time since epoch: 459.746. Train acc: 0.125. Train Loss: 73.683\n",
            "Step. time since epoch: 461.195. Train acc: 0.062. Train Loss: 73.683\n",
            "Step. time since epoch: 462.886. Train acc: 0.188. Train Loss: 73.683\n",
            "Step. time since epoch: 464.358. Train acc: 0.125. Train Loss: 73.683\n",
            "Step. time since epoch: 465.807. Train acc: 0.062. Train Loss: 73.683\n",
            "Step. time since epoch: 467.191. Train acc: 0.062. Train Loss: 73.683\n",
            "Step. time since epoch: 468.575. Train acc: 0.062. Train Loss: 73.683\n",
            "Step. time since epoch: 469.996. Train acc: 0.094. Train Loss: 73.683\n",
            "Step. time since epoch: 471.380. Train acc: 0.125. Train Loss: 73.683\n",
            "Step. time since epoch: 472.837. Train acc: 0.094. Train Loss: 73.683\n",
            "Step. time since epoch: 474.351. Train acc: 0.125. Train Loss: 73.683\n",
            "Step. time since epoch: 475.836. Train acc: 0.094. Train Loss: 73.683\n",
            "Step. time since epoch: 477.205. Train acc: 0.125. Train Loss: 73.683\n",
            "Step. time since epoch: 478.587. Train acc: 0.062. Train Loss: 73.683\n",
            "Step. time since epoch: 480.017. Train acc: 0.094. Train Loss: 73.683\n",
            "Step. time since epoch: 481.495. Train acc: 0.156. Train Loss: 73.683\n",
            "Step. time since epoch: 482.928. Train acc: 0.031. Train Loss: 73.683\n",
            "Step. time since epoch: 484.401. Train acc: 0.125. Train Loss: 73.683\n",
            "Step. time since epoch: 485.948. Train acc: 0.062. Train Loss: 73.683\n",
            "Step. time since epoch: 487.434. Train acc: 0.094. Train Loss: 73.683\n",
            "Step. time since epoch: 488.960. Train acc: 0.125. Train Loss: 73.683\n",
            "Step. time since epoch: 490.494. Train acc: 0.156. Train Loss: 73.683\n",
            "Step. time since epoch: 492.055. Train acc: 0.094. Train Loss: 73.683\n",
            "Step. time since epoch: 493.555. Train acc: 0.156. Train Loss: 73.683\n",
            "Step. time since epoch: 494.960. Train acc: 0.062. Train Loss: 73.683\n",
            "Step. time since epoch: 496.334. Train acc: 0.062. Train Loss: 73.683\n",
            "Step. time since epoch: 497.812. Train acc: 0.125. Train Loss: 73.683\n",
            "Step. time since epoch: 499.238. Train acc: 0.062. Train Loss: 73.683\n",
            "Step. time since epoch: 500.882. Train acc: 0.031. Train Loss: 73.683\n",
            "Step. time since epoch: 502.383. Train acc: 0.031. Train Loss: 73.683\n",
            "Step. time since epoch: 503.892. Train acc: 0.219. Train Loss: 73.683\n",
            "Step. time since epoch: 505.282. Train acc: 0.031. Train Loss: 73.683\n",
            "Step. time since epoch: 506.717. Train acc: 0.094. Train Loss: 73.683\n",
            "Step. time since epoch: 508.165. Train acc: 0.250. Train Loss: 73.683\n",
            "Step. time since epoch: 509.540. Train acc: 0.250. Train Loss: 73.683\n",
            "Step. time since epoch: 511.110. Train acc: 0.094. Train Loss: 73.683\n",
            "Step. time since epoch: 512.626. Train acc: 0.094. Train Loss: 73.683\n",
            "Step. time since epoch: 514.106. Train acc: 0.062. Train Loss: 73.683\n",
            "Step. time since epoch: 515.571. Train acc: 0.062. Train Loss: 73.683\n"
          ]
        },
        {
          "name": "stdout",
          "output_type": "stream",
          "text": [
            "Step. time since epoch: 517.000. Train acc: 0.219. Train Loss: 73.683\n",
            "Step. time since epoch: 518.474. Train acc: 0.094. Train Loss: 73.683\n",
            "Step. time since epoch: 519.945. Train acc: 0.062. Train Loss: 73.683\n",
            "Step. time since epoch: 521.345. Train acc: 0.125. Train Loss: 73.683\n",
            "Step. time since epoch: 522.804. Train acc: 0.062. Train Loss: 73.683\n",
            "Step. time since epoch: 524.242. Train acc: 0.125. Train Loss: 73.683\n",
            "Step. time since epoch: 525.701. Train acc: 0.094. Train Loss: 73.683\n",
            "Step. time since epoch: 527.078. Train acc: 0.062. Train Loss: 73.683\n",
            "Step. time since epoch: 528.537. Train acc: 0.156. Train Loss: 73.683\n",
            "Step. time since epoch: 529.948. Train acc: 0.062. Train Loss: 73.683\n",
            "Step. time since epoch: 531.349. Train acc: 0.094. Train Loss: 73.683\n",
            "Step. time since epoch: 532.787. Train acc: 0.031. Train Loss: 73.683\n",
            "Step. time since epoch: 534.271. Train acc: 0.125. Train Loss: 73.683\n",
            "Step. time since epoch: 535.706. Train acc: 0.000. Train Loss: 73.683\n",
            "Step. time since epoch: 537.159. Train acc: 0.156. Train Loss: 73.683\n",
            "Step. time since epoch: 538.581. Train acc: 0.125. Train Loss: 73.683\n",
            "Step. time since epoch: 539.993. Train acc: 0.156. Train Loss: 73.683\n",
            "Step. time since epoch: 541.493. Train acc: 0.281. Train Loss: 73.683\n",
            "Step. time since epoch: 543.203. Train acc: 0.062. Train Loss: 73.683\n",
            "Step. time since epoch: 544.765. Train acc: 0.125. Train Loss: 73.683\n",
            "Step. time since epoch: 547.012. Train acc: 0.062. Train Loss: 73.683\n",
            "Step. time since epoch: 548.637. Train acc: 0.125. Train Loss: 73.683\n",
            "Step. time since epoch: 550.203. Train acc: 0.094. Train Loss: 73.683\n",
            "Step. time since epoch: 551.732. Train acc: 0.094. Train Loss: 73.683\n",
            "Step. time since epoch: 553.961. Train acc: 0.031. Train Loss: 73.683\n",
            "Step. time since epoch: 555.359. Train acc: 0.188. Train Loss: 73.683\n",
            "Step. time since epoch: 556.741. Train acc: 0.094. Train Loss: 73.683\n",
            "Step. time since epoch: 558.102. Train acc: 0.094. Train Loss: 73.683\n",
            "Step. time since epoch: 559.477. Train acc: 0.125. Train Loss: 73.683\n",
            "Step. time since epoch: 560.857. Train acc: 0.156. Train Loss: 73.683\n",
            "Step. time since epoch: 562.219. Train acc: 0.062. Train Loss: 73.683\n",
            "Step. time since epoch: 563.591. Train acc: 0.062. Train Loss: 73.683\n",
            "Step. time since epoch: 564.971. Train acc: 0.062. Train Loss: 73.683\n",
            "Step. time since epoch: 566.339. Train acc: 0.250. Train Loss: 73.683\n",
            "Step. time since epoch: 567.688. Train acc: 0.031. Train Loss: 73.683\n",
            "Step. time since epoch: 569.031. Train acc: 0.062. Train Loss: 73.683\n",
            "Step. time since epoch: 570.400. Train acc: 0.125. Train Loss: 73.683\n",
            "Step. time since epoch: 571.776. Train acc: 0.094. Train Loss: 73.683\n",
            "Step. time since epoch: 573.157. Train acc: 0.062. Train Loss: 73.683\n",
            "Step. time since epoch: 574.524. Train acc: 0.062. Train Loss: 73.683\n",
            "Step. time since epoch: 575.900. Train acc: 0.125. Train Loss: 73.683\n",
            "Step. time since epoch: 577.286. Train acc: 0.062. Train Loss: 73.683\n",
            "Step. time since epoch: 578.639. Train acc: 0.062. Train Loss: 73.683\n",
            "Step. time since epoch: 580.004. Train acc: 0.125. Train Loss: 73.683\n",
            "Step. time since epoch: 581.622. Train acc: 0.156. Train Loss: 73.683\n",
            "Step. time since epoch: 583.273. Train acc: 0.031. Train Loss: 73.683\n",
            "Step. time since epoch: 584.948. Train acc: 0.156. Train Loss: 73.683\n",
            "Step. time since epoch: 586.317. Train acc: 0.125. Train Loss: 73.683\n",
            "Step. time since epoch: 587.683. Train acc: 0.156. Train Loss: 73.683\n",
            "Step. time since epoch: 589.034. Train acc: 0.062. Train Loss: 73.683\n",
            "Step. time since epoch: 590.393. Train acc: 0.062. Train Loss: 73.683\n",
            "Step. time since epoch: 591.779. Train acc: 0.094. Train Loss: 73.683\n",
            "Step. time since epoch: 593.182. Train acc: 0.188. Train Loss: 73.683\n",
            "Step. time since epoch: 594.611. Train acc: 0.094. Train Loss: 73.683\n",
            "Step. time since epoch: 595.989. Train acc: 0.188. Train Loss: 73.683\n",
            "Step. time since epoch: 597.365. Train acc: 0.031. Train Loss: 73.683\n",
            "Step. time since epoch: 598.723. Train acc: 0.094. Train Loss: 73.683\n",
            "Step. time since epoch: 600.355. Train acc: 0.094. Train Loss: 73.683\n",
            "Step. time since epoch: 601.848. Train acc: 0.062. Train Loss: 73.683\n",
            "Step. time since epoch: 603.226. Train acc: 0.125. Train Loss: 73.683\n",
            "Step. time since epoch: 604.673. Train acc: 0.094. Train Loss: 73.683\n",
            "Step. time since epoch: 606.182. Train acc: 0.062. Train Loss: 73.683\n",
            "Step. time since epoch: 607.613. Train acc: 0.156. Train Loss: 73.683\n",
            "Step. time since epoch: 609.010. Train acc: 0.031. Train Loss: 73.683\n",
            "Step. time since epoch: 610.461. Train acc: 0.250. Train Loss: 73.683\n",
            "Step. time since epoch: 611.881. Train acc: 0.125. Train Loss: 73.683\n",
            "Step. time since epoch: 613.428. Train acc: 0.094. Train Loss: 73.683\n",
            "Step. time since epoch: 614.925. Train acc: 0.062. Train Loss: 73.683\n"
          ]
        },
        {
          "ename": "KeyboardInterrupt",
          "evalue": "",
          "output_type": "error",
          "traceback": [
            "\u001b[0;31m---------------------------------------------------------------------------\u001b[0m",
            "\u001b[0;31mKeyboardInterrupt\u001b[0m                         Traceback (most recent call last)",
            "\u001b[0;32m<ipython-input-251-a49e7d36726a>\u001b[0m in \u001b[0;36m<module>\u001b[0;34m\u001b[0m\n\u001b[1;32m      1\u001b[0m \u001b[0mlr\u001b[0m\u001b[0;34m,\u001b[0m \u001b[0mnum_epochs\u001b[0m \u001b[0;34m=\u001b[0m \u001b[0;36m0.05\u001b[0m\u001b[0;34m,\u001b[0m \u001b[0;36m5\u001b[0m\u001b[0;34m\u001b[0m\u001b[0;34m\u001b[0m\u001b[0m\n\u001b[1;32m      2\u001b[0m \u001b[0mtrainer\u001b[0m \u001b[0;34m=\u001b[0m \u001b[0mtorch\u001b[0m\u001b[0;34m.\u001b[0m\u001b[0moptim\u001b[0m\u001b[0;34m.\u001b[0m\u001b[0mSGD\u001b[0m\u001b[0;34m(\u001b[0m\u001b[0mnet\u001b[0m\u001b[0;34m.\u001b[0m\u001b[0mparameters\u001b[0m\u001b[0;34m(\u001b[0m\u001b[0;34m)\u001b[0m\u001b[0;34m,\u001b[0m \u001b[0mlr\u001b[0m\u001b[0;34m=\u001b[0m\u001b[0mlr\u001b[0m\u001b[0;34m)\u001b[0m\u001b[0;34m\u001b[0m\u001b[0;34m\u001b[0m\u001b[0m\n\u001b[0;32m----> 3\u001b[0;31m \u001b[0mtrain\u001b[0m\u001b[0;34m(\u001b[0m\u001b[0mnet\u001b[0m\u001b[0;34m,\u001b[0m \u001b[0mtrain_iter\u001b[0m\u001b[0;34m,\u001b[0m \u001b[0mtest_iter\u001b[0m\u001b[0;34m,\u001b[0m \u001b[0mtrainer\u001b[0m\u001b[0;34m,\u001b[0m \u001b[0mnum_epochs\u001b[0m\u001b[0;34m)\u001b[0m\u001b[0;34m\u001b[0m\u001b[0;34m\u001b[0m\u001b[0m\n\u001b[0m",
            "\u001b[0;32m<ipython-input-204-c3bd730eccb6>\u001b[0m in \u001b[0;36mtrain\u001b[0;34m(net, train_iter, test_iter, trainer, num_epochs)\u001b[0m\n\u001b[1;32m      5\u001b[0m         \u001b[0;32mfor\u001b[0m \u001b[0mX\u001b[0m\u001b[0;34m,\u001b[0m \u001b[0my\u001b[0m \u001b[0;32min\u001b[0m \u001b[0mtrain_iter\u001b[0m\u001b[0;34m:\u001b[0m\u001b[0;34m\u001b[0m\u001b[0;34m\u001b[0m\u001b[0m\n\u001b[1;32m      6\u001b[0m             \u001b[0mtrainer\u001b[0m\u001b[0;34m.\u001b[0m\u001b[0mzero_grad\u001b[0m\u001b[0;34m(\u001b[0m\u001b[0;34m)\u001b[0m\u001b[0;34m\u001b[0m\u001b[0;34m\u001b[0m\u001b[0m\n\u001b[0;32m----> 7\u001b[0;31m             \u001b[0my_hat\u001b[0m \u001b[0;34m=\u001b[0m \u001b[0mnet\u001b[0m\u001b[0;34m(\u001b[0m\u001b[0mX\u001b[0m\u001b[0;34m)\u001b[0m\u001b[0;34m\u001b[0m\u001b[0;34m\u001b[0m\u001b[0m\n\u001b[0m\u001b[1;32m      8\u001b[0m             \u001b[0ml\u001b[0m \u001b[0;34m=\u001b[0m \u001b[0mloss\u001b[0m\u001b[0;34m(\u001b[0m\u001b[0my_hat\u001b[0m\u001b[0;34m,\u001b[0m \u001b[0my\u001b[0m\u001b[0;34m)\u001b[0m\u001b[0;34m\u001b[0m\u001b[0;34m\u001b[0m\u001b[0m\n\u001b[1;32m      9\u001b[0m             \u001b[0ml\u001b[0m\u001b[0;34m.\u001b[0m\u001b[0mbackward\u001b[0m\u001b[0;34m(\u001b[0m\u001b[0;34m)\u001b[0m\u001b[0;34m\u001b[0m\u001b[0;34m\u001b[0m\u001b[0m\n",
            "\u001b[0;32m~/anaconda3/lib/python3.7/site-packages/torch/nn/modules/module.py\u001b[0m in \u001b[0;36m__call__\u001b[0;34m(self, *input, **kwargs)\u001b[0m\n\u001b[1;32m    543\u001b[0m             \u001b[0mresult\u001b[0m \u001b[0;34m=\u001b[0m \u001b[0mself\u001b[0m\u001b[0;34m.\u001b[0m\u001b[0m_slow_forward\u001b[0m\u001b[0;34m(\u001b[0m\u001b[0;34m*\u001b[0m\u001b[0minput\u001b[0m\u001b[0;34m,\u001b[0m \u001b[0;34m**\u001b[0m\u001b[0mkwargs\u001b[0m\u001b[0;34m)\u001b[0m\u001b[0;34m\u001b[0m\u001b[0;34m\u001b[0m\u001b[0m\n\u001b[1;32m    544\u001b[0m         \u001b[0;32melse\u001b[0m\u001b[0;34m:\u001b[0m\u001b[0;34m\u001b[0m\u001b[0;34m\u001b[0m\u001b[0m\n\u001b[0;32m--> 545\u001b[0;31m             \u001b[0mresult\u001b[0m \u001b[0;34m=\u001b[0m \u001b[0mself\u001b[0m\u001b[0;34m.\u001b[0m\u001b[0mforward\u001b[0m\u001b[0;34m(\u001b[0m\u001b[0;34m*\u001b[0m\u001b[0minput\u001b[0m\u001b[0;34m,\u001b[0m \u001b[0;34m**\u001b[0m\u001b[0mkwargs\u001b[0m\u001b[0;34m)\u001b[0m\u001b[0;34m\u001b[0m\u001b[0;34m\u001b[0m\u001b[0m\n\u001b[0m\u001b[1;32m    546\u001b[0m         \u001b[0;32mfor\u001b[0m \u001b[0mhook\u001b[0m \u001b[0;32min\u001b[0m \u001b[0mself\u001b[0m\u001b[0;34m.\u001b[0m\u001b[0m_forward_hooks\u001b[0m\u001b[0;34m.\u001b[0m\u001b[0mvalues\u001b[0m\u001b[0;34m(\u001b[0m\u001b[0;34m)\u001b[0m\u001b[0;34m:\u001b[0m\u001b[0;34m\u001b[0m\u001b[0;34m\u001b[0m\u001b[0m\n\u001b[1;32m    547\u001b[0m             \u001b[0mhook_result\u001b[0m \u001b[0;34m=\u001b[0m \u001b[0mhook\u001b[0m\u001b[0;34m(\u001b[0m\u001b[0mself\u001b[0m\u001b[0;34m,\u001b[0m \u001b[0minput\u001b[0m\u001b[0;34m,\u001b[0m \u001b[0mresult\u001b[0m\u001b[0;34m)\u001b[0m\u001b[0;34m\u001b[0m\u001b[0;34m\u001b[0m\u001b[0m\n",
            "\u001b[0;32m~/anaconda3/lib/python3.7/site-packages/torch/nn/modules/container.py\u001b[0m in \u001b[0;36mforward\u001b[0;34m(self, input)\u001b[0m\n\u001b[1;32m     90\u001b[0m     \u001b[0;32mdef\u001b[0m \u001b[0mforward\u001b[0m\u001b[0;34m(\u001b[0m\u001b[0mself\u001b[0m\u001b[0;34m,\u001b[0m \u001b[0minput\u001b[0m\u001b[0;34m)\u001b[0m\u001b[0;34m:\u001b[0m\u001b[0;34m\u001b[0m\u001b[0;34m\u001b[0m\u001b[0m\n\u001b[1;32m     91\u001b[0m         \u001b[0;32mfor\u001b[0m \u001b[0mmodule\u001b[0m \u001b[0;32min\u001b[0m \u001b[0mself\u001b[0m\u001b[0;34m.\u001b[0m\u001b[0m_modules\u001b[0m\u001b[0;34m.\u001b[0m\u001b[0mvalues\u001b[0m\u001b[0;34m(\u001b[0m\u001b[0;34m)\u001b[0m\u001b[0;34m:\u001b[0m\u001b[0;34m\u001b[0m\u001b[0;34m\u001b[0m\u001b[0m\n\u001b[0;32m---> 92\u001b[0;31m             \u001b[0minput\u001b[0m \u001b[0;34m=\u001b[0m \u001b[0mmodule\u001b[0m\u001b[0;34m(\u001b[0m\u001b[0minput\u001b[0m\u001b[0;34m)\u001b[0m\u001b[0;34m\u001b[0m\u001b[0;34m\u001b[0m\u001b[0m\n\u001b[0m\u001b[1;32m     93\u001b[0m         \u001b[0;32mreturn\u001b[0m \u001b[0minput\u001b[0m\u001b[0;34m\u001b[0m\u001b[0;34m\u001b[0m\u001b[0m\n\u001b[1;32m     94\u001b[0m \u001b[0;34m\u001b[0m\u001b[0m\n",
            "\u001b[0;32m~/anaconda3/lib/python3.7/site-packages/torch/nn/modules/module.py\u001b[0m in \u001b[0;36m__call__\u001b[0;34m(self, *input, **kwargs)\u001b[0m\n\u001b[1;32m    543\u001b[0m             \u001b[0mresult\u001b[0m \u001b[0;34m=\u001b[0m \u001b[0mself\u001b[0m\u001b[0;34m.\u001b[0m\u001b[0m_slow_forward\u001b[0m\u001b[0;34m(\u001b[0m\u001b[0;34m*\u001b[0m\u001b[0minput\u001b[0m\u001b[0;34m,\u001b[0m \u001b[0;34m**\u001b[0m\u001b[0mkwargs\u001b[0m\u001b[0;34m)\u001b[0m\u001b[0;34m\u001b[0m\u001b[0;34m\u001b[0m\u001b[0m\n\u001b[1;32m    544\u001b[0m         \u001b[0;32melse\u001b[0m\u001b[0;34m:\u001b[0m\u001b[0;34m\u001b[0m\u001b[0;34m\u001b[0m\u001b[0m\n\u001b[0;32m--> 545\u001b[0;31m             \u001b[0mresult\u001b[0m \u001b[0;34m=\u001b[0m \u001b[0mself\u001b[0m\u001b[0;34m.\u001b[0m\u001b[0mforward\u001b[0m\u001b[0;34m(\u001b[0m\u001b[0;34m*\u001b[0m\u001b[0minput\u001b[0m\u001b[0;34m,\u001b[0m \u001b[0;34m**\u001b[0m\u001b[0mkwargs\u001b[0m\u001b[0;34m)\u001b[0m\u001b[0;34m\u001b[0m\u001b[0;34m\u001b[0m\u001b[0m\n\u001b[0m\u001b[1;32m    546\u001b[0m         \u001b[0;32mfor\u001b[0m \u001b[0mhook\u001b[0m \u001b[0;32min\u001b[0m \u001b[0mself\u001b[0m\u001b[0;34m.\u001b[0m\u001b[0m_forward_hooks\u001b[0m\u001b[0;34m.\u001b[0m\u001b[0mvalues\u001b[0m\u001b[0;34m(\u001b[0m\u001b[0;34m)\u001b[0m\u001b[0;34m:\u001b[0m\u001b[0;34m\u001b[0m\u001b[0;34m\u001b[0m\u001b[0m\n\u001b[1;32m    547\u001b[0m             \u001b[0mhook_result\u001b[0m \u001b[0;34m=\u001b[0m \u001b[0mhook\u001b[0m\u001b[0;34m(\u001b[0m\u001b[0mself\u001b[0m\u001b[0;34m,\u001b[0m \u001b[0minput\u001b[0m\u001b[0;34m,\u001b[0m \u001b[0mresult\u001b[0m\u001b[0;34m)\u001b[0m\u001b[0;34m\u001b[0m\u001b[0;34m\u001b[0m\u001b[0m\n",
            "\u001b[0;32m~/anaconda3/lib/python3.7/site-packages/torch/nn/modules/container.py\u001b[0m in \u001b[0;36mforward\u001b[0;34m(self, input)\u001b[0m\n\u001b[1;32m     90\u001b[0m     \u001b[0;32mdef\u001b[0m \u001b[0mforward\u001b[0m\u001b[0;34m(\u001b[0m\u001b[0mself\u001b[0m\u001b[0;34m,\u001b[0m \u001b[0minput\u001b[0m\u001b[0;34m)\u001b[0m\u001b[0;34m:\u001b[0m\u001b[0;34m\u001b[0m\u001b[0;34m\u001b[0m\u001b[0m\n\u001b[1;32m     91\u001b[0m         \u001b[0;32mfor\u001b[0m \u001b[0mmodule\u001b[0m \u001b[0;32min\u001b[0m \u001b[0mself\u001b[0m\u001b[0;34m.\u001b[0m\u001b[0m_modules\u001b[0m\u001b[0;34m.\u001b[0m\u001b[0mvalues\u001b[0m\u001b[0;34m(\u001b[0m\u001b[0;34m)\u001b[0m\u001b[0;34m:\u001b[0m\u001b[0;34m\u001b[0m\u001b[0;34m\u001b[0m\u001b[0m\n\u001b[0;32m---> 92\u001b[0;31m             \u001b[0minput\u001b[0m \u001b[0;34m=\u001b[0m \u001b[0mmodule\u001b[0m\u001b[0;34m(\u001b[0m\u001b[0minput\u001b[0m\u001b[0;34m)\u001b[0m\u001b[0;34m\u001b[0m\u001b[0;34m\u001b[0m\u001b[0m\n\u001b[0m\u001b[1;32m     93\u001b[0m         \u001b[0;32mreturn\u001b[0m \u001b[0minput\u001b[0m\u001b[0;34m\u001b[0m\u001b[0;34m\u001b[0m\u001b[0m\n\u001b[1;32m     94\u001b[0m \u001b[0;34m\u001b[0m\u001b[0m\n",
            "\u001b[0;32m~/anaconda3/lib/python3.7/site-packages/torch/nn/modules/module.py\u001b[0m in \u001b[0;36m__call__\u001b[0;34m(self, *input, **kwargs)\u001b[0m\n\u001b[1;32m    543\u001b[0m             \u001b[0mresult\u001b[0m \u001b[0;34m=\u001b[0m \u001b[0mself\u001b[0m\u001b[0;34m.\u001b[0m\u001b[0m_slow_forward\u001b[0m\u001b[0;34m(\u001b[0m\u001b[0;34m*\u001b[0m\u001b[0minput\u001b[0m\u001b[0;34m,\u001b[0m \u001b[0;34m**\u001b[0m\u001b[0mkwargs\u001b[0m\u001b[0;34m)\u001b[0m\u001b[0;34m\u001b[0m\u001b[0;34m\u001b[0m\u001b[0m\n\u001b[1;32m    544\u001b[0m         \u001b[0;32melse\u001b[0m\u001b[0;34m:\u001b[0m\u001b[0;34m\u001b[0m\u001b[0;34m\u001b[0m\u001b[0m\n\u001b[0;32m--> 545\u001b[0;31m             \u001b[0mresult\u001b[0m \u001b[0;34m=\u001b[0m \u001b[0mself\u001b[0m\u001b[0;34m.\u001b[0m\u001b[0mforward\u001b[0m\u001b[0;34m(\u001b[0m\u001b[0;34m*\u001b[0m\u001b[0minput\u001b[0m\u001b[0;34m,\u001b[0m \u001b[0;34m**\u001b[0m\u001b[0mkwargs\u001b[0m\u001b[0;34m)\u001b[0m\u001b[0;34m\u001b[0m\u001b[0;34m\u001b[0m\u001b[0m\n\u001b[0m\u001b[1;32m    546\u001b[0m         \u001b[0;32mfor\u001b[0m \u001b[0mhook\u001b[0m \u001b[0;32min\u001b[0m \u001b[0mself\u001b[0m\u001b[0;34m.\u001b[0m\u001b[0m_forward_hooks\u001b[0m\u001b[0;34m.\u001b[0m\u001b[0mvalues\u001b[0m\u001b[0;34m(\u001b[0m\u001b[0;34m)\u001b[0m\u001b[0;34m:\u001b[0m\u001b[0;34m\u001b[0m\u001b[0;34m\u001b[0m\u001b[0m\n\u001b[1;32m    547\u001b[0m             \u001b[0mhook_result\u001b[0m \u001b[0;34m=\u001b[0m \u001b[0mhook\u001b[0m\u001b[0;34m(\u001b[0m\u001b[0mself\u001b[0m\u001b[0;34m,\u001b[0m \u001b[0minput\u001b[0m\u001b[0;34m,\u001b[0m \u001b[0mresult\u001b[0m\u001b[0;34m)\u001b[0m\u001b[0;34m\u001b[0m\u001b[0;34m\u001b[0m\u001b[0m\n",
            "\u001b[0;32m~/anaconda3/lib/python3.7/site-packages/torch/nn/modules/conv.py\u001b[0m in \u001b[0;36mforward\u001b[0;34m(self, input)\u001b[0m\n\u001b[1;32m    343\u001b[0m \u001b[0;34m\u001b[0m\u001b[0m\n\u001b[1;32m    344\u001b[0m     \u001b[0;32mdef\u001b[0m \u001b[0mforward\u001b[0m\u001b[0;34m(\u001b[0m\u001b[0mself\u001b[0m\u001b[0;34m,\u001b[0m \u001b[0minput\u001b[0m\u001b[0;34m)\u001b[0m\u001b[0;34m:\u001b[0m\u001b[0;34m\u001b[0m\u001b[0;34m\u001b[0m\u001b[0m\n\u001b[0;32m--> 345\u001b[0;31m         \u001b[0;32mreturn\u001b[0m \u001b[0mself\u001b[0m\u001b[0;34m.\u001b[0m\u001b[0mconv2d_forward\u001b[0m\u001b[0;34m(\u001b[0m\u001b[0minput\u001b[0m\u001b[0;34m,\u001b[0m \u001b[0mself\u001b[0m\u001b[0;34m.\u001b[0m\u001b[0mweight\u001b[0m\u001b[0;34m)\u001b[0m\u001b[0;34m\u001b[0m\u001b[0;34m\u001b[0m\u001b[0m\n\u001b[0m\u001b[1;32m    346\u001b[0m \u001b[0;34m\u001b[0m\u001b[0m\n\u001b[1;32m    347\u001b[0m \u001b[0;32mclass\u001b[0m \u001b[0mConv3d\u001b[0m\u001b[0;34m(\u001b[0m\u001b[0m_ConvNd\u001b[0m\u001b[0;34m)\u001b[0m\u001b[0;34m:\u001b[0m\u001b[0;34m\u001b[0m\u001b[0;34m\u001b[0m\u001b[0m\n",
            "\u001b[0;32m~/anaconda3/lib/python3.7/site-packages/torch/nn/modules/conv.py\u001b[0m in \u001b[0;36mconv2d_forward\u001b[0;34m(self, input, weight)\u001b[0m\n\u001b[1;32m    340\u001b[0m                             _pair(0), self.dilation, self.groups)\n\u001b[1;32m    341\u001b[0m         return F.conv2d(input, weight, self.bias, self.stride,\n\u001b[0;32m--> 342\u001b[0;31m                         self.padding, self.dilation, self.groups)\n\u001b[0m\u001b[1;32m    343\u001b[0m \u001b[0;34m\u001b[0m\u001b[0m\n\u001b[1;32m    344\u001b[0m     \u001b[0;32mdef\u001b[0m \u001b[0mforward\u001b[0m\u001b[0;34m(\u001b[0m\u001b[0mself\u001b[0m\u001b[0;34m,\u001b[0m \u001b[0minput\u001b[0m\u001b[0;34m)\u001b[0m\u001b[0;34m:\u001b[0m\u001b[0;34m\u001b[0m\u001b[0;34m\u001b[0m\u001b[0m\n",
            "\u001b[0;31mKeyboardInterrupt\u001b[0m: "
          ]
        }
      ],
      "source": [
        "lr, num_epochs = 0.05, 5\n",
        "trainer = torch.optim.SGD(net.parameters(), lr=lr)\n",
        "train(net, train_iter, test_iter, trainer, num_epochs)"
      ]
    },
    {
      "cell_type": "markdown",
      "metadata": {
        "id": "u7hADWd1vO4T"
      },
      "source": [
        "## FineTuning"
      ]
    },
    {
      "cell_type": "code",
      "execution_count": null,
      "metadata": {
        "ExecuteTime": {
          "end_time": "2019-11-18T17:21:46.290923Z",
          "start_time": "2019-11-18T17:21:46.236514Z"
        },
        "id": "xIE45dcMvO4T"
      },
      "outputs": [],
      "source": [
        "transoforms = tv.transforms.Compose([\n",
        "    tv.transforms.Grayscale(3),\n",
        "    tv.transforms.Resize((224,224)),\n",
        "    tv.transforms.ToTensor()\n",
        "])\n",
        "train_dataset = tv.datasets.MNIST('.', train=True, transform=transoforms, download=True)\n",
        "test_dataset = tv.datasets.MNIST('.', train=False, transform=transoforms, download=True)\n",
        "train_iter = torch.utils.data.DataLoader(train_dataset, batch_size=BATCH_SIZE)\n",
        "test_iter = torch.utils.data.DataLoader(test_dataset, batch_size=BATCH_SIZE)"
      ]
    },
    {
      "cell_type": "code",
      "execution_count": null,
      "metadata": {
        "ExecuteTime": {
          "end_time": "2019-11-18T17:22:33.772924Z",
          "start_time": "2019-11-18T17:22:33.293818Z"
        },
        "id": "5ab5oplkvO4U"
      },
      "outputs": [],
      "source": [
        "model = tv.models.resnet18(pretrained=True)"
      ]
    },
    {
      "cell_type": "code",
      "execution_count": null,
      "metadata": {
        "ExecuteTime": {
          "end_time": "2019-11-18T17:23:47.319979Z",
          "start_time": "2019-11-18T17:23:47.316747Z"
        },
        "id": "g2jhl3UGvO4U"
      },
      "outputs": [],
      "source": [
        "## Убираем требование градиента:\n",
        "for param in model.parameters():\n",
        "    param.requires_grad = False"
      ]
    },
    {
      "cell_type": "code",
      "execution_count": null,
      "metadata": {
        "ExecuteTime": {
          "end_time": "2019-11-18T17:24:04.770976Z",
          "start_time": "2019-11-18T17:24:04.766810Z"
        },
        "id": "YB8McuvWvO4U",
        "outputId": "9c173ad5-7dd1-420d-a51a-2ea79f036b18"
      },
      "outputs": [
        {
          "data": {
            "text/plain": [
              "Linear(in_features=512, out_features=1000, bias=True)"
            ]
          },
          "execution_count": 258,
          "metadata": {},
          "output_type": "execute_result"
        }
      ],
      "source": [
        "model.fc"
      ]
    },
    {
      "cell_type": "code",
      "execution_count": null,
      "metadata": {
        "ExecuteTime": {
          "end_time": "2019-11-18T17:24:12.305790Z",
          "start_time": "2019-11-18T17:24:12.302517Z"
        },
        "id": "ku136JgnvO4U"
      },
      "outputs": [],
      "source": [
        "model.fc = nn.Linear(in_features=512, out_features=10)"
      ]
    },
    {
      "cell_type": "code",
      "execution_count": null,
      "metadata": {
        "ExecuteTime": {
          "end_time": "2019-11-18T17:24:42.228326Z",
          "start_time": "2019-11-18T17:24:42.222643Z"
        },
        "id": "-FGV-WmCvO4U",
        "outputId": "a7d54b7b-942b-4715-ac35-f1c39410c843"
      },
      "outputs": [
        {
          "name": "stdout",
          "output_type": "stream",
          "text": [
            "Params to learn:\n",
            "\t fc.weight\n",
            "\t fc.bias\n"
          ]
        }
      ],
      "source": [
        "print(\"Params to learn:\")\n",
        "params_to_update = []\n",
        "for name,param in model.named_parameters():\n",
        "    if param.requires_grad == True:\n",
        "        params_to_update.append(param)\n",
        "        print(\"\\t\",name)"
      ]
    },
    {
      "cell_type": "code",
      "execution_count": null,
      "metadata": {
        "ExecuteTime": {
          "end_time": "2019-11-18T17:25:11.558131Z",
          "start_time": "2019-11-18T17:25:11.554358Z"
        },
        "id": "L9jl0X9CvO4U"
      },
      "outputs": [],
      "source": [
        "trainer = torch.optim.SGD(params_to_update, lr=0.001, momentum=0.9)"
      ]
    },
    {
      "cell_type": "code",
      "execution_count": null,
      "metadata": {
        "ExecuteTime": {
          "end_time": "2019-11-18T17:26:20.718099Z",
          "start_time": "2019-11-18T17:25:20.979097Z"
        },
        "id": "6Piu_-9cvO4U",
        "outputId": "d7c20a6b-c158-4653-d961-c74579d4febb"
      },
      "outputs": [
        {
          "name": "stdout",
          "output_type": "stream",
          "text": [
            "Step. time since epoch: 1.118. Train acc: 0.031. Train Loss: 77.998\n",
            "Step. time since epoch: 2.217. Train acc: 0.031. Train Loss: 81.995\n",
            "Step. time since epoch: 3.312. Train acc: 0.156. Train Loss: 72.565\n",
            "Step. time since epoch: 4.417. Train acc: 0.219. Train Loss: 69.465\n",
            "Step. time since epoch: 5.597. Train acc: 0.156. Train Loss: 73.562\n",
            "Step. time since epoch: 6.811. Train acc: 0.500. Train Loss: 55.271\n",
            "Step. time since epoch: 8.055. Train acc: 0.250. Train Loss: 69.794\n",
            "Step. time since epoch: 9.237. Train acc: 0.375. Train Loss: 53.511\n",
            "Step. time since epoch: 10.383. Train acc: 0.562. Train Loss: 35.115\n",
            "Step. time since epoch: 11.522. Train acc: 0.812. Train Loss: 19.998\n",
            "Step. time since epoch: 12.821. Train acc: 0.531. Train Loss: 41.876\n",
            "Step. time since epoch: 14.044. Train acc: 0.750. Train Loss: 23.873\n",
            "Step. time since epoch: 15.412. Train acc: 0.688. Train Loss: 30.894\n",
            "Step. time since epoch: 16.602. Train acc: 0.688. Train Loss: 30.866\n",
            "Step. time since epoch: 17.797. Train acc: 0.625. Train Loss: 25.660\n",
            "Step. time since epoch: 18.986. Train acc: 0.750. Train Loss: 32.290\n",
            "Step. time since epoch: 20.230. Train acc: 0.531. Train Loss: 39.788\n",
            "Step. time since epoch: 21.665. Train acc: 0.688. Train Loss: 54.263\n",
            "Step. time since epoch: 22.805. Train acc: 0.594. Train Loss: 50.563\n",
            "Step. time since epoch: 24.200. Train acc: 0.594. Train Loss: 43.609\n",
            "Step. time since epoch: 25.385. Train acc: 0.812. Train Loss: 21.192\n",
            "Step. time since epoch: 26.678. Train acc: 0.812. Train Loss: 14.588\n",
            "Step. time since epoch: 27.873. Train acc: 0.781. Train Loss: 26.192\n",
            "Step. time since epoch: 29.221. Train acc: 0.844. Train Loss: 18.921\n",
            "Step. time since epoch: 30.389. Train acc: 0.906. Train Loss: 13.792\n",
            "Step. time since epoch: 31.713. Train acc: 0.938. Train Loss: 10.510\n",
            "Step. time since epoch: 32.830. Train acc: 0.750. Train Loss: 26.937\n",
            "Step. time since epoch: 33.953. Train acc: 0.812. Train Loss: 13.720\n",
            "Step. time since epoch: 35.212. Train acc: 0.844. Train Loss: 21.720\n",
            "Step. time since epoch: 36.550. Train acc: 0.688. Train Loss: 29.462\n",
            "Step. time since epoch: 37.812. Train acc: 0.812. Train Loss: 19.671\n",
            "Step. time since epoch: 38.945. Train acc: 0.812. Train Loss: 16.279\n",
            "Step. time since epoch: 40.136. Train acc: 0.750. Train Loss: 24.268\n",
            "Step. time since epoch: 41.393. Train acc: 0.875. Train Loss: 12.106\n",
            "Step. time since epoch: 42.576. Train acc: 0.781. Train Loss: 18.211\n",
            "Step. time since epoch: 43.727. Train acc: 0.688. Train Loss: 36.606\n",
            "Step. time since epoch: 44.862. Train acc: 0.812. Train Loss: 19.289\n",
            "Step. time since epoch: 46.170. Train acc: 0.719. Train Loss: 19.584\n",
            "Step. time since epoch: 47.346. Train acc: 0.812. Train Loss: 16.104\n",
            "Step. time since epoch: 48.509. Train acc: 0.625. Train Loss: 40.490\n",
            "Step. time since epoch: 49.655. Train acc: 0.906. Train Loss: 13.347\n",
            "Step. time since epoch: 50.941. Train acc: 0.781. Train Loss: 23.584\n",
            "Step. time since epoch: 52.504. Train acc: 0.625. Train Loss: 43.865\n",
            "Step. time since epoch: 53.726. Train acc: 0.812. Train Loss: 19.787\n",
            "Step. time since epoch: 54.988. Train acc: 0.906. Train Loss: 5.606\n",
            "Step. time since epoch: 56.175. Train acc: 0.844. Train Loss: 17.813\n",
            "Step. time since epoch: 57.306. Train acc: 0.812. Train Loss: 18.551\n",
            "Step. time since epoch: 58.529. Train acc: 0.688. Train Loss: 33.482\n"
          ]
        },
        {
          "ename": "KeyboardInterrupt",
          "evalue": "",
          "output_type": "error",
          "traceback": [
            "\u001b[0;31m---------------------------------------------------------------------------\u001b[0m",
            "\u001b[0;31mKeyboardInterrupt\u001b[0m                         Traceback (most recent call last)",
            "\u001b[0;32m<ipython-input-262-31e0e7d10abf>\u001b[0m in \u001b[0;36m<module>\u001b[0;34m\u001b[0m\n\u001b[0;32m----> 1\u001b[0;31m \u001b[0mtrain\u001b[0m\u001b[0;34m(\u001b[0m\u001b[0mmodel\u001b[0m\u001b[0;34m,\u001b[0m \u001b[0mtrain_iter\u001b[0m\u001b[0;34m,\u001b[0m \u001b[0mtest_iter\u001b[0m\u001b[0;34m,\u001b[0m \u001b[0mtrainer\u001b[0m\u001b[0;34m,\u001b[0m \u001b[0;36m5\u001b[0m\u001b[0;34m)\u001b[0m\u001b[0;34m\u001b[0m\u001b[0;34m\u001b[0m\u001b[0m\n\u001b[0m",
            "\u001b[0;32m<ipython-input-204-c3bd730eccb6>\u001b[0m in \u001b[0;36mtrain\u001b[0;34m(net, train_iter, test_iter, trainer, num_epochs)\u001b[0m\n\u001b[1;32m      5\u001b[0m         \u001b[0;32mfor\u001b[0m \u001b[0mX\u001b[0m\u001b[0;34m,\u001b[0m \u001b[0my\u001b[0m \u001b[0;32min\u001b[0m \u001b[0mtrain_iter\u001b[0m\u001b[0;34m:\u001b[0m\u001b[0;34m\u001b[0m\u001b[0;34m\u001b[0m\u001b[0m\n\u001b[1;32m      6\u001b[0m             \u001b[0mtrainer\u001b[0m\u001b[0;34m.\u001b[0m\u001b[0mzero_grad\u001b[0m\u001b[0;34m(\u001b[0m\u001b[0;34m)\u001b[0m\u001b[0;34m\u001b[0m\u001b[0;34m\u001b[0m\u001b[0m\n\u001b[0;32m----> 7\u001b[0;31m             \u001b[0my_hat\u001b[0m \u001b[0;34m=\u001b[0m \u001b[0mnet\u001b[0m\u001b[0;34m(\u001b[0m\u001b[0mX\u001b[0m\u001b[0;34m)\u001b[0m\u001b[0;34m\u001b[0m\u001b[0;34m\u001b[0m\u001b[0m\n\u001b[0m\u001b[1;32m      8\u001b[0m             \u001b[0ml\u001b[0m \u001b[0;34m=\u001b[0m \u001b[0mloss\u001b[0m\u001b[0;34m(\u001b[0m\u001b[0my_hat\u001b[0m\u001b[0;34m,\u001b[0m \u001b[0my\u001b[0m\u001b[0;34m)\u001b[0m\u001b[0;34m\u001b[0m\u001b[0;34m\u001b[0m\u001b[0m\n\u001b[1;32m      9\u001b[0m             \u001b[0ml\u001b[0m\u001b[0;34m.\u001b[0m\u001b[0mbackward\u001b[0m\u001b[0;34m(\u001b[0m\u001b[0;34m)\u001b[0m\u001b[0;34m\u001b[0m\u001b[0;34m\u001b[0m\u001b[0m\n",
            "\u001b[0;32m~/anaconda3/lib/python3.7/site-packages/torch/nn/modules/module.py\u001b[0m in \u001b[0;36m__call__\u001b[0;34m(self, *input, **kwargs)\u001b[0m\n\u001b[1;32m    543\u001b[0m             \u001b[0mresult\u001b[0m \u001b[0;34m=\u001b[0m \u001b[0mself\u001b[0m\u001b[0;34m.\u001b[0m\u001b[0m_slow_forward\u001b[0m\u001b[0;34m(\u001b[0m\u001b[0;34m*\u001b[0m\u001b[0minput\u001b[0m\u001b[0;34m,\u001b[0m \u001b[0;34m**\u001b[0m\u001b[0mkwargs\u001b[0m\u001b[0;34m)\u001b[0m\u001b[0;34m\u001b[0m\u001b[0;34m\u001b[0m\u001b[0m\n\u001b[1;32m    544\u001b[0m         \u001b[0;32melse\u001b[0m\u001b[0;34m:\u001b[0m\u001b[0;34m\u001b[0m\u001b[0;34m\u001b[0m\u001b[0m\n\u001b[0;32m--> 545\u001b[0;31m             \u001b[0mresult\u001b[0m \u001b[0;34m=\u001b[0m \u001b[0mself\u001b[0m\u001b[0;34m.\u001b[0m\u001b[0mforward\u001b[0m\u001b[0;34m(\u001b[0m\u001b[0;34m*\u001b[0m\u001b[0minput\u001b[0m\u001b[0;34m,\u001b[0m \u001b[0;34m**\u001b[0m\u001b[0mkwargs\u001b[0m\u001b[0;34m)\u001b[0m\u001b[0;34m\u001b[0m\u001b[0;34m\u001b[0m\u001b[0m\n\u001b[0m\u001b[1;32m    546\u001b[0m         \u001b[0;32mfor\u001b[0m \u001b[0mhook\u001b[0m \u001b[0;32min\u001b[0m \u001b[0mself\u001b[0m\u001b[0;34m.\u001b[0m\u001b[0m_forward_hooks\u001b[0m\u001b[0;34m.\u001b[0m\u001b[0mvalues\u001b[0m\u001b[0;34m(\u001b[0m\u001b[0;34m)\u001b[0m\u001b[0;34m:\u001b[0m\u001b[0;34m\u001b[0m\u001b[0;34m\u001b[0m\u001b[0m\n\u001b[1;32m    547\u001b[0m             \u001b[0mhook_result\u001b[0m \u001b[0;34m=\u001b[0m \u001b[0mhook\u001b[0m\u001b[0;34m(\u001b[0m\u001b[0mself\u001b[0m\u001b[0;34m,\u001b[0m \u001b[0minput\u001b[0m\u001b[0;34m,\u001b[0m \u001b[0mresult\u001b[0m\u001b[0;34m)\u001b[0m\u001b[0;34m\u001b[0m\u001b[0;34m\u001b[0m\u001b[0m\n",
            "\u001b[0;32m~/anaconda3/lib/python3.7/site-packages/torchvision/models/resnet.py\u001b[0m in \u001b[0;36mforward\u001b[0;34m(self, x)\u001b[0m\n\u001b[1;32m    202\u001b[0m         \u001b[0mx\u001b[0m \u001b[0;34m=\u001b[0m \u001b[0mself\u001b[0m\u001b[0;34m.\u001b[0m\u001b[0mlayer2\u001b[0m\u001b[0;34m(\u001b[0m\u001b[0mx\u001b[0m\u001b[0;34m)\u001b[0m\u001b[0;34m\u001b[0m\u001b[0;34m\u001b[0m\u001b[0m\n\u001b[1;32m    203\u001b[0m         \u001b[0mx\u001b[0m \u001b[0;34m=\u001b[0m \u001b[0mself\u001b[0m\u001b[0;34m.\u001b[0m\u001b[0mlayer3\u001b[0m\u001b[0;34m(\u001b[0m\u001b[0mx\u001b[0m\u001b[0;34m)\u001b[0m\u001b[0;34m\u001b[0m\u001b[0;34m\u001b[0m\u001b[0m\n\u001b[0;32m--> 204\u001b[0;31m         \u001b[0mx\u001b[0m \u001b[0;34m=\u001b[0m \u001b[0mself\u001b[0m\u001b[0;34m.\u001b[0m\u001b[0mlayer4\u001b[0m\u001b[0;34m(\u001b[0m\u001b[0mx\u001b[0m\u001b[0;34m)\u001b[0m\u001b[0;34m\u001b[0m\u001b[0;34m\u001b[0m\u001b[0m\n\u001b[0m\u001b[1;32m    205\u001b[0m \u001b[0;34m\u001b[0m\u001b[0m\n\u001b[1;32m    206\u001b[0m         \u001b[0mx\u001b[0m \u001b[0;34m=\u001b[0m \u001b[0mself\u001b[0m\u001b[0;34m.\u001b[0m\u001b[0mavgpool\u001b[0m\u001b[0;34m(\u001b[0m\u001b[0mx\u001b[0m\u001b[0;34m)\u001b[0m\u001b[0;34m\u001b[0m\u001b[0;34m\u001b[0m\u001b[0m\n",
            "\u001b[0;32m~/anaconda3/lib/python3.7/site-packages/torch/nn/modules/module.py\u001b[0m in \u001b[0;36m__call__\u001b[0;34m(self, *input, **kwargs)\u001b[0m\n\u001b[1;32m    543\u001b[0m             \u001b[0mresult\u001b[0m \u001b[0;34m=\u001b[0m \u001b[0mself\u001b[0m\u001b[0;34m.\u001b[0m\u001b[0m_slow_forward\u001b[0m\u001b[0;34m(\u001b[0m\u001b[0;34m*\u001b[0m\u001b[0minput\u001b[0m\u001b[0;34m,\u001b[0m \u001b[0;34m**\u001b[0m\u001b[0mkwargs\u001b[0m\u001b[0;34m)\u001b[0m\u001b[0;34m\u001b[0m\u001b[0;34m\u001b[0m\u001b[0m\n\u001b[1;32m    544\u001b[0m         \u001b[0;32melse\u001b[0m\u001b[0;34m:\u001b[0m\u001b[0;34m\u001b[0m\u001b[0;34m\u001b[0m\u001b[0m\n\u001b[0;32m--> 545\u001b[0;31m             \u001b[0mresult\u001b[0m \u001b[0;34m=\u001b[0m \u001b[0mself\u001b[0m\u001b[0;34m.\u001b[0m\u001b[0mforward\u001b[0m\u001b[0;34m(\u001b[0m\u001b[0;34m*\u001b[0m\u001b[0minput\u001b[0m\u001b[0;34m,\u001b[0m \u001b[0;34m**\u001b[0m\u001b[0mkwargs\u001b[0m\u001b[0;34m)\u001b[0m\u001b[0;34m\u001b[0m\u001b[0;34m\u001b[0m\u001b[0m\n\u001b[0m\u001b[1;32m    546\u001b[0m         \u001b[0;32mfor\u001b[0m \u001b[0mhook\u001b[0m \u001b[0;32min\u001b[0m \u001b[0mself\u001b[0m\u001b[0;34m.\u001b[0m\u001b[0m_forward_hooks\u001b[0m\u001b[0;34m.\u001b[0m\u001b[0mvalues\u001b[0m\u001b[0;34m(\u001b[0m\u001b[0;34m)\u001b[0m\u001b[0;34m:\u001b[0m\u001b[0;34m\u001b[0m\u001b[0;34m\u001b[0m\u001b[0m\n\u001b[1;32m    547\u001b[0m             \u001b[0mhook_result\u001b[0m \u001b[0;34m=\u001b[0m \u001b[0mhook\u001b[0m\u001b[0;34m(\u001b[0m\u001b[0mself\u001b[0m\u001b[0;34m,\u001b[0m \u001b[0minput\u001b[0m\u001b[0;34m,\u001b[0m \u001b[0mresult\u001b[0m\u001b[0;34m)\u001b[0m\u001b[0;34m\u001b[0m\u001b[0;34m\u001b[0m\u001b[0m\n",
            "\u001b[0;32m~/anaconda3/lib/python3.7/site-packages/torch/nn/modules/container.py\u001b[0m in \u001b[0;36mforward\u001b[0;34m(self, input)\u001b[0m\n\u001b[1;32m     90\u001b[0m     \u001b[0;32mdef\u001b[0m \u001b[0mforward\u001b[0m\u001b[0;34m(\u001b[0m\u001b[0mself\u001b[0m\u001b[0;34m,\u001b[0m \u001b[0minput\u001b[0m\u001b[0;34m)\u001b[0m\u001b[0;34m:\u001b[0m\u001b[0;34m\u001b[0m\u001b[0;34m\u001b[0m\u001b[0m\n\u001b[1;32m     91\u001b[0m         \u001b[0;32mfor\u001b[0m \u001b[0mmodule\u001b[0m \u001b[0;32min\u001b[0m \u001b[0mself\u001b[0m\u001b[0;34m.\u001b[0m\u001b[0m_modules\u001b[0m\u001b[0;34m.\u001b[0m\u001b[0mvalues\u001b[0m\u001b[0;34m(\u001b[0m\u001b[0;34m)\u001b[0m\u001b[0;34m:\u001b[0m\u001b[0;34m\u001b[0m\u001b[0;34m\u001b[0m\u001b[0m\n\u001b[0;32m---> 92\u001b[0;31m             \u001b[0minput\u001b[0m \u001b[0;34m=\u001b[0m \u001b[0mmodule\u001b[0m\u001b[0;34m(\u001b[0m\u001b[0minput\u001b[0m\u001b[0;34m)\u001b[0m\u001b[0;34m\u001b[0m\u001b[0;34m\u001b[0m\u001b[0m\n\u001b[0m\u001b[1;32m     93\u001b[0m         \u001b[0;32mreturn\u001b[0m \u001b[0minput\u001b[0m\u001b[0;34m\u001b[0m\u001b[0;34m\u001b[0m\u001b[0m\n\u001b[1;32m     94\u001b[0m \u001b[0;34m\u001b[0m\u001b[0m\n",
            "\u001b[0;32m~/anaconda3/lib/python3.7/site-packages/torch/nn/modules/module.py\u001b[0m in \u001b[0;36m__call__\u001b[0;34m(self, *input, **kwargs)\u001b[0m\n\u001b[1;32m    543\u001b[0m             \u001b[0mresult\u001b[0m \u001b[0;34m=\u001b[0m \u001b[0mself\u001b[0m\u001b[0;34m.\u001b[0m\u001b[0m_slow_forward\u001b[0m\u001b[0;34m(\u001b[0m\u001b[0;34m*\u001b[0m\u001b[0minput\u001b[0m\u001b[0;34m,\u001b[0m \u001b[0;34m**\u001b[0m\u001b[0mkwargs\u001b[0m\u001b[0;34m)\u001b[0m\u001b[0;34m\u001b[0m\u001b[0;34m\u001b[0m\u001b[0m\n\u001b[1;32m    544\u001b[0m         \u001b[0;32melse\u001b[0m\u001b[0;34m:\u001b[0m\u001b[0;34m\u001b[0m\u001b[0;34m\u001b[0m\u001b[0m\n\u001b[0;32m--> 545\u001b[0;31m             \u001b[0mresult\u001b[0m \u001b[0;34m=\u001b[0m \u001b[0mself\u001b[0m\u001b[0;34m.\u001b[0m\u001b[0mforward\u001b[0m\u001b[0;34m(\u001b[0m\u001b[0;34m*\u001b[0m\u001b[0minput\u001b[0m\u001b[0;34m,\u001b[0m \u001b[0;34m**\u001b[0m\u001b[0mkwargs\u001b[0m\u001b[0;34m)\u001b[0m\u001b[0;34m\u001b[0m\u001b[0;34m\u001b[0m\u001b[0m\n\u001b[0m\u001b[1;32m    546\u001b[0m         \u001b[0;32mfor\u001b[0m \u001b[0mhook\u001b[0m \u001b[0;32min\u001b[0m \u001b[0mself\u001b[0m\u001b[0;34m.\u001b[0m\u001b[0m_forward_hooks\u001b[0m\u001b[0;34m.\u001b[0m\u001b[0mvalues\u001b[0m\u001b[0;34m(\u001b[0m\u001b[0;34m)\u001b[0m\u001b[0;34m:\u001b[0m\u001b[0;34m\u001b[0m\u001b[0;34m\u001b[0m\u001b[0m\n\u001b[1;32m    547\u001b[0m             \u001b[0mhook_result\u001b[0m \u001b[0;34m=\u001b[0m \u001b[0mhook\u001b[0m\u001b[0;34m(\u001b[0m\u001b[0mself\u001b[0m\u001b[0;34m,\u001b[0m \u001b[0minput\u001b[0m\u001b[0;34m,\u001b[0m \u001b[0mresult\u001b[0m\u001b[0;34m)\u001b[0m\u001b[0;34m\u001b[0m\u001b[0;34m\u001b[0m\u001b[0m\n",
            "\u001b[0;32m~/anaconda3/lib/python3.7/site-packages/torchvision/models/resnet.py\u001b[0m in \u001b[0;36mforward\u001b[0;34m(self, x)\u001b[0m\n\u001b[1;32m     62\u001b[0m \u001b[0;34m\u001b[0m\u001b[0m\n\u001b[1;32m     63\u001b[0m         \u001b[0mout\u001b[0m \u001b[0;34m=\u001b[0m \u001b[0mself\u001b[0m\u001b[0;34m.\u001b[0m\u001b[0mconv2\u001b[0m\u001b[0;34m(\u001b[0m\u001b[0mout\u001b[0m\u001b[0;34m)\u001b[0m\u001b[0;34m\u001b[0m\u001b[0;34m\u001b[0m\u001b[0m\n\u001b[0;32m---> 64\u001b[0;31m         \u001b[0mout\u001b[0m \u001b[0;34m=\u001b[0m \u001b[0mself\u001b[0m\u001b[0;34m.\u001b[0m\u001b[0mbn2\u001b[0m\u001b[0;34m(\u001b[0m\u001b[0mout\u001b[0m\u001b[0;34m)\u001b[0m\u001b[0;34m\u001b[0m\u001b[0;34m\u001b[0m\u001b[0m\n\u001b[0m\u001b[1;32m     65\u001b[0m \u001b[0;34m\u001b[0m\u001b[0m\n\u001b[1;32m     66\u001b[0m         \u001b[0;32mif\u001b[0m \u001b[0mself\u001b[0m\u001b[0;34m.\u001b[0m\u001b[0mdownsample\u001b[0m \u001b[0;32mis\u001b[0m \u001b[0;32mnot\u001b[0m \u001b[0;32mNone\u001b[0m\u001b[0;34m:\u001b[0m\u001b[0;34m\u001b[0m\u001b[0;34m\u001b[0m\u001b[0m\n",
            "\u001b[0;32m~/anaconda3/lib/python3.7/site-packages/torch/nn/modules/module.py\u001b[0m in \u001b[0;36m__getattr__\u001b[0;34m(self, name)\u001b[0m\n\u001b[1;32m    573\u001b[0m             \u001b[0mself\u001b[0m\u001b[0;34m.\u001b[0m\u001b[0m_load_state_dict_pre_hooks\u001b[0m \u001b[0;34m=\u001b[0m \u001b[0mOrderedDict\u001b[0m\u001b[0;34m(\u001b[0m\u001b[0;34m)\u001b[0m\u001b[0;34m\u001b[0m\u001b[0;34m\u001b[0m\u001b[0m\n\u001b[1;32m    574\u001b[0m \u001b[0;34m\u001b[0m\u001b[0m\n\u001b[0;32m--> 575\u001b[0;31m     \u001b[0;32mdef\u001b[0m \u001b[0m__getattr__\u001b[0m\u001b[0;34m(\u001b[0m\u001b[0mself\u001b[0m\u001b[0;34m,\u001b[0m \u001b[0mname\u001b[0m\u001b[0;34m)\u001b[0m\u001b[0;34m:\u001b[0m\u001b[0;34m\u001b[0m\u001b[0;34m\u001b[0m\u001b[0m\n\u001b[0m\u001b[1;32m    576\u001b[0m         \u001b[0;32mif\u001b[0m \u001b[0;34m'_parameters'\u001b[0m \u001b[0;32min\u001b[0m \u001b[0mself\u001b[0m\u001b[0;34m.\u001b[0m\u001b[0m__dict__\u001b[0m\u001b[0;34m:\u001b[0m\u001b[0;34m\u001b[0m\u001b[0;34m\u001b[0m\u001b[0m\n\u001b[1;32m    577\u001b[0m             \u001b[0m_parameters\u001b[0m \u001b[0;34m=\u001b[0m \u001b[0mself\u001b[0m\u001b[0;34m.\u001b[0m\u001b[0m__dict__\u001b[0m\u001b[0;34m[\u001b[0m\u001b[0;34m'_parameters'\u001b[0m\u001b[0;34m]\u001b[0m\u001b[0;34m\u001b[0m\u001b[0;34m\u001b[0m\u001b[0m\n",
            "\u001b[0;31mKeyboardInterrupt\u001b[0m: "
          ]
        }
      ],
      "source": [
        "train(model, train_iter, test_iter, trainer, 5)"
      ]
    },
    {
      "cell_type": "code",
      "execution_count": null,
      "metadata": {
        "id": "YM6QR2DpvO4V"
      },
      "outputs": [],
      "source": []
    }
  ],
  "metadata": {
    "kernelspec": {
      "display_name": "Python 3",
      "language": "python",
      "name": "python3"
    },
    "language_info": {
      "codemirror_mode": {
        "name": "ipython",
        "version": 3
      },
      "file_extension": ".py",
      "mimetype": "text/x-python",
      "name": "python",
      "nbconvert_exporter": "python",
      "pygments_lexer": "ipython3",
      "version": "3.7.1"
    },
    "colab": {
      "provenance": []
    },
    "widgets": {
      "application/vnd.jupyter.widget-state+json": {
        "891ff9c7c4b9425b98c5f685ea546527": {
          "model_module": "@jupyter-widgets/controls",
          "model_name": "HBoxModel",
          "model_module_version": "1.5.0",
          "state": {
            "_dom_classes": [],
            "_model_module": "@jupyter-widgets/controls",
            "_model_module_version": "1.5.0",
            "_model_name": "HBoxModel",
            "_view_count": null,
            "_view_module": "@jupyter-widgets/controls",
            "_view_module_version": "1.5.0",
            "_view_name": "HBoxView",
            "box_style": "",
            "children": [
              "IPY_MODEL_ff7cdef4928745099141781427943abe",
              "IPY_MODEL_8ce574c1f3284674af8941291405ac7b",
              "IPY_MODEL_7c572d4b52a84979b46bcd55c7bf2889"
            ],
            "layout": "IPY_MODEL_1ddf6ffa26ec400d961fb44ca5900a74"
          }
        },
        "ff7cdef4928745099141781427943abe": {
          "model_module": "@jupyter-widgets/controls",
          "model_name": "HTMLModel",
          "model_module_version": "1.5.0",
          "state": {
            "_dom_classes": [],
            "_model_module": "@jupyter-widgets/controls",
            "_model_module_version": "1.5.0",
            "_model_name": "HTMLModel",
            "_view_count": null,
            "_view_module": "@jupyter-widgets/controls",
            "_view_module_version": "1.5.0",
            "_view_name": "HTMLView",
            "description": "",
            "description_tooltip": null,
            "layout": "IPY_MODEL_7cfb7aabb13b42169f7f7562a928de61",
            "placeholder": "​",
            "style": "IPY_MODEL_13f2c31fcc1d4005995f20999cd2c465",
            "value": "100%"
          }
        },
        "8ce574c1f3284674af8941291405ac7b": {
          "model_module": "@jupyter-widgets/controls",
          "model_name": "FloatProgressModel",
          "model_module_version": "1.5.0",
          "state": {
            "_dom_classes": [],
            "_model_module": "@jupyter-widgets/controls",
            "_model_module_version": "1.5.0",
            "_model_name": "FloatProgressModel",
            "_view_count": null,
            "_view_module": "@jupyter-widgets/controls",
            "_view_module_version": "1.5.0",
            "_view_name": "ProgressView",
            "bar_style": "success",
            "description": "",
            "description_tooltip": null,
            "layout": "IPY_MODEL_58d216ac8ba84eb7bddb707da980cb32",
            "max": 9912422,
            "min": 0,
            "orientation": "horizontal",
            "style": "IPY_MODEL_f7c75fb42b454a0a911b1d6e6a4901b1",
            "value": 9912422
          }
        },
        "7c572d4b52a84979b46bcd55c7bf2889": {
          "model_module": "@jupyter-widgets/controls",
          "model_name": "HTMLModel",
          "model_module_version": "1.5.0",
          "state": {
            "_dom_classes": [],
            "_model_module": "@jupyter-widgets/controls",
            "_model_module_version": "1.5.0",
            "_model_name": "HTMLModel",
            "_view_count": null,
            "_view_module": "@jupyter-widgets/controls",
            "_view_module_version": "1.5.0",
            "_view_name": "HTMLView",
            "description": "",
            "description_tooltip": null,
            "layout": "IPY_MODEL_654d9334ef5b4bdea00624a300466610",
            "placeholder": "​",
            "style": "IPY_MODEL_6897549bb060491dbe047dc79c64e673",
            "value": " 9912422/9912422 [00:00&lt;00:00, 152320996.10it/s]"
          }
        },
        "1ddf6ffa26ec400d961fb44ca5900a74": {
          "model_module": "@jupyter-widgets/base",
          "model_name": "LayoutModel",
          "model_module_version": "1.2.0",
          "state": {
            "_model_module": "@jupyter-widgets/base",
            "_model_module_version": "1.2.0",
            "_model_name": "LayoutModel",
            "_view_count": null,
            "_view_module": "@jupyter-widgets/base",
            "_view_module_version": "1.2.0",
            "_view_name": "LayoutView",
            "align_content": null,
            "align_items": null,
            "align_self": null,
            "border": null,
            "bottom": null,
            "display": null,
            "flex": null,
            "flex_flow": null,
            "grid_area": null,
            "grid_auto_columns": null,
            "grid_auto_flow": null,
            "grid_auto_rows": null,
            "grid_column": null,
            "grid_gap": null,
            "grid_row": null,
            "grid_template_areas": null,
            "grid_template_columns": null,
            "grid_template_rows": null,
            "height": null,
            "justify_content": null,
            "justify_items": null,
            "left": null,
            "margin": null,
            "max_height": null,
            "max_width": null,
            "min_height": null,
            "min_width": null,
            "object_fit": null,
            "object_position": null,
            "order": null,
            "overflow": null,
            "overflow_x": null,
            "overflow_y": null,
            "padding": null,
            "right": null,
            "top": null,
            "visibility": null,
            "width": null
          }
        },
        "7cfb7aabb13b42169f7f7562a928de61": {
          "model_module": "@jupyter-widgets/base",
          "model_name": "LayoutModel",
          "model_module_version": "1.2.0",
          "state": {
            "_model_module": "@jupyter-widgets/base",
            "_model_module_version": "1.2.0",
            "_model_name": "LayoutModel",
            "_view_count": null,
            "_view_module": "@jupyter-widgets/base",
            "_view_module_version": "1.2.0",
            "_view_name": "LayoutView",
            "align_content": null,
            "align_items": null,
            "align_self": null,
            "border": null,
            "bottom": null,
            "display": null,
            "flex": null,
            "flex_flow": null,
            "grid_area": null,
            "grid_auto_columns": null,
            "grid_auto_flow": null,
            "grid_auto_rows": null,
            "grid_column": null,
            "grid_gap": null,
            "grid_row": null,
            "grid_template_areas": null,
            "grid_template_columns": null,
            "grid_template_rows": null,
            "height": null,
            "justify_content": null,
            "justify_items": null,
            "left": null,
            "margin": null,
            "max_height": null,
            "max_width": null,
            "min_height": null,
            "min_width": null,
            "object_fit": null,
            "object_position": null,
            "order": null,
            "overflow": null,
            "overflow_x": null,
            "overflow_y": null,
            "padding": null,
            "right": null,
            "top": null,
            "visibility": null,
            "width": null
          }
        },
        "13f2c31fcc1d4005995f20999cd2c465": {
          "model_module": "@jupyter-widgets/controls",
          "model_name": "DescriptionStyleModel",
          "model_module_version": "1.5.0",
          "state": {
            "_model_module": "@jupyter-widgets/controls",
            "_model_module_version": "1.5.0",
            "_model_name": "DescriptionStyleModel",
            "_view_count": null,
            "_view_module": "@jupyter-widgets/base",
            "_view_module_version": "1.2.0",
            "_view_name": "StyleView",
            "description_width": ""
          }
        },
        "58d216ac8ba84eb7bddb707da980cb32": {
          "model_module": "@jupyter-widgets/base",
          "model_name": "LayoutModel",
          "model_module_version": "1.2.0",
          "state": {
            "_model_module": "@jupyter-widgets/base",
            "_model_module_version": "1.2.0",
            "_model_name": "LayoutModel",
            "_view_count": null,
            "_view_module": "@jupyter-widgets/base",
            "_view_module_version": "1.2.0",
            "_view_name": "LayoutView",
            "align_content": null,
            "align_items": null,
            "align_self": null,
            "border": null,
            "bottom": null,
            "display": null,
            "flex": null,
            "flex_flow": null,
            "grid_area": null,
            "grid_auto_columns": null,
            "grid_auto_flow": null,
            "grid_auto_rows": null,
            "grid_column": null,
            "grid_gap": null,
            "grid_row": null,
            "grid_template_areas": null,
            "grid_template_columns": null,
            "grid_template_rows": null,
            "height": null,
            "justify_content": null,
            "justify_items": null,
            "left": null,
            "margin": null,
            "max_height": null,
            "max_width": null,
            "min_height": null,
            "min_width": null,
            "object_fit": null,
            "object_position": null,
            "order": null,
            "overflow": null,
            "overflow_x": null,
            "overflow_y": null,
            "padding": null,
            "right": null,
            "top": null,
            "visibility": null,
            "width": null
          }
        },
        "f7c75fb42b454a0a911b1d6e6a4901b1": {
          "model_module": "@jupyter-widgets/controls",
          "model_name": "ProgressStyleModel",
          "model_module_version": "1.5.0",
          "state": {
            "_model_module": "@jupyter-widgets/controls",
            "_model_module_version": "1.5.0",
            "_model_name": "ProgressStyleModel",
            "_view_count": null,
            "_view_module": "@jupyter-widgets/base",
            "_view_module_version": "1.2.0",
            "_view_name": "StyleView",
            "bar_color": null,
            "description_width": ""
          }
        },
        "654d9334ef5b4bdea00624a300466610": {
          "model_module": "@jupyter-widgets/base",
          "model_name": "LayoutModel",
          "model_module_version": "1.2.0",
          "state": {
            "_model_module": "@jupyter-widgets/base",
            "_model_module_version": "1.2.0",
            "_model_name": "LayoutModel",
            "_view_count": null,
            "_view_module": "@jupyter-widgets/base",
            "_view_module_version": "1.2.0",
            "_view_name": "LayoutView",
            "align_content": null,
            "align_items": null,
            "align_self": null,
            "border": null,
            "bottom": null,
            "display": null,
            "flex": null,
            "flex_flow": null,
            "grid_area": null,
            "grid_auto_columns": null,
            "grid_auto_flow": null,
            "grid_auto_rows": null,
            "grid_column": null,
            "grid_gap": null,
            "grid_row": null,
            "grid_template_areas": null,
            "grid_template_columns": null,
            "grid_template_rows": null,
            "height": null,
            "justify_content": null,
            "justify_items": null,
            "left": null,
            "margin": null,
            "max_height": null,
            "max_width": null,
            "min_height": null,
            "min_width": null,
            "object_fit": null,
            "object_position": null,
            "order": null,
            "overflow": null,
            "overflow_x": null,
            "overflow_y": null,
            "padding": null,
            "right": null,
            "top": null,
            "visibility": null,
            "width": null
          }
        },
        "6897549bb060491dbe047dc79c64e673": {
          "model_module": "@jupyter-widgets/controls",
          "model_name": "DescriptionStyleModel",
          "model_module_version": "1.5.0",
          "state": {
            "_model_module": "@jupyter-widgets/controls",
            "_model_module_version": "1.5.0",
            "_model_name": "DescriptionStyleModel",
            "_view_count": null,
            "_view_module": "@jupyter-widgets/base",
            "_view_module_version": "1.2.0",
            "_view_name": "StyleView",
            "description_width": ""
          }
        },
        "ece8f35269a5478c8091bae22c41b91e": {
          "model_module": "@jupyter-widgets/controls",
          "model_name": "HBoxModel",
          "model_module_version": "1.5.0",
          "state": {
            "_dom_classes": [],
            "_model_module": "@jupyter-widgets/controls",
            "_model_module_version": "1.5.0",
            "_model_name": "HBoxModel",
            "_view_count": null,
            "_view_module": "@jupyter-widgets/controls",
            "_view_module_version": "1.5.0",
            "_view_name": "HBoxView",
            "box_style": "",
            "children": [
              "IPY_MODEL_1133ae07e2d24471b4a88c7615abc1de",
              "IPY_MODEL_b55f285a96184be7925d7c31fc5fbe2e",
              "IPY_MODEL_4c8d09f9edba4e58ac125bff6c95196c"
            ],
            "layout": "IPY_MODEL_7dc6405bb3ac447aaf85b39d537c3e39"
          }
        },
        "1133ae07e2d24471b4a88c7615abc1de": {
          "model_module": "@jupyter-widgets/controls",
          "model_name": "HTMLModel",
          "model_module_version": "1.5.0",
          "state": {
            "_dom_classes": [],
            "_model_module": "@jupyter-widgets/controls",
            "_model_module_version": "1.5.0",
            "_model_name": "HTMLModel",
            "_view_count": null,
            "_view_module": "@jupyter-widgets/controls",
            "_view_module_version": "1.5.0",
            "_view_name": "HTMLView",
            "description": "",
            "description_tooltip": null,
            "layout": "IPY_MODEL_8030854be9b54fb0803c79e5631630d6",
            "placeholder": "​",
            "style": "IPY_MODEL_5b30ee9b631d4aa192af2cb51890f2ee",
            "value": "100%"
          }
        },
        "b55f285a96184be7925d7c31fc5fbe2e": {
          "model_module": "@jupyter-widgets/controls",
          "model_name": "FloatProgressModel",
          "model_module_version": "1.5.0",
          "state": {
            "_dom_classes": [],
            "_model_module": "@jupyter-widgets/controls",
            "_model_module_version": "1.5.0",
            "_model_name": "FloatProgressModel",
            "_view_count": null,
            "_view_module": "@jupyter-widgets/controls",
            "_view_module_version": "1.5.0",
            "_view_name": "ProgressView",
            "bar_style": "success",
            "description": "",
            "description_tooltip": null,
            "layout": "IPY_MODEL_03704bf9ca9d4691bb6f4907262f5bbe",
            "max": 28881,
            "min": 0,
            "orientation": "horizontal",
            "style": "IPY_MODEL_96f22e23ccdf41bfb2a5725cb2daf478",
            "value": 28881
          }
        },
        "4c8d09f9edba4e58ac125bff6c95196c": {
          "model_module": "@jupyter-widgets/controls",
          "model_name": "HTMLModel",
          "model_module_version": "1.5.0",
          "state": {
            "_dom_classes": [],
            "_model_module": "@jupyter-widgets/controls",
            "_model_module_version": "1.5.0",
            "_model_name": "HTMLModel",
            "_view_count": null,
            "_view_module": "@jupyter-widgets/controls",
            "_view_module_version": "1.5.0",
            "_view_name": "HTMLView",
            "description": "",
            "description_tooltip": null,
            "layout": "IPY_MODEL_c0d875eb64ac415b870963e270ce159d",
            "placeholder": "​",
            "style": "IPY_MODEL_75de6efc0c9d4b14abcae24ab28895b1",
            "value": " 28881/28881 [00:00&lt;00:00, 1834333.17it/s]"
          }
        },
        "7dc6405bb3ac447aaf85b39d537c3e39": {
          "model_module": "@jupyter-widgets/base",
          "model_name": "LayoutModel",
          "model_module_version": "1.2.0",
          "state": {
            "_model_module": "@jupyter-widgets/base",
            "_model_module_version": "1.2.0",
            "_model_name": "LayoutModel",
            "_view_count": null,
            "_view_module": "@jupyter-widgets/base",
            "_view_module_version": "1.2.0",
            "_view_name": "LayoutView",
            "align_content": null,
            "align_items": null,
            "align_self": null,
            "border": null,
            "bottom": null,
            "display": null,
            "flex": null,
            "flex_flow": null,
            "grid_area": null,
            "grid_auto_columns": null,
            "grid_auto_flow": null,
            "grid_auto_rows": null,
            "grid_column": null,
            "grid_gap": null,
            "grid_row": null,
            "grid_template_areas": null,
            "grid_template_columns": null,
            "grid_template_rows": null,
            "height": null,
            "justify_content": null,
            "justify_items": null,
            "left": null,
            "margin": null,
            "max_height": null,
            "max_width": null,
            "min_height": null,
            "min_width": null,
            "object_fit": null,
            "object_position": null,
            "order": null,
            "overflow": null,
            "overflow_x": null,
            "overflow_y": null,
            "padding": null,
            "right": null,
            "top": null,
            "visibility": null,
            "width": null
          }
        },
        "8030854be9b54fb0803c79e5631630d6": {
          "model_module": "@jupyter-widgets/base",
          "model_name": "LayoutModel",
          "model_module_version": "1.2.0",
          "state": {
            "_model_module": "@jupyter-widgets/base",
            "_model_module_version": "1.2.0",
            "_model_name": "LayoutModel",
            "_view_count": null,
            "_view_module": "@jupyter-widgets/base",
            "_view_module_version": "1.2.0",
            "_view_name": "LayoutView",
            "align_content": null,
            "align_items": null,
            "align_self": null,
            "border": null,
            "bottom": null,
            "display": null,
            "flex": null,
            "flex_flow": null,
            "grid_area": null,
            "grid_auto_columns": null,
            "grid_auto_flow": null,
            "grid_auto_rows": null,
            "grid_column": null,
            "grid_gap": null,
            "grid_row": null,
            "grid_template_areas": null,
            "grid_template_columns": null,
            "grid_template_rows": null,
            "height": null,
            "justify_content": null,
            "justify_items": null,
            "left": null,
            "margin": null,
            "max_height": null,
            "max_width": null,
            "min_height": null,
            "min_width": null,
            "object_fit": null,
            "object_position": null,
            "order": null,
            "overflow": null,
            "overflow_x": null,
            "overflow_y": null,
            "padding": null,
            "right": null,
            "top": null,
            "visibility": null,
            "width": null
          }
        },
        "5b30ee9b631d4aa192af2cb51890f2ee": {
          "model_module": "@jupyter-widgets/controls",
          "model_name": "DescriptionStyleModel",
          "model_module_version": "1.5.0",
          "state": {
            "_model_module": "@jupyter-widgets/controls",
            "_model_module_version": "1.5.0",
            "_model_name": "DescriptionStyleModel",
            "_view_count": null,
            "_view_module": "@jupyter-widgets/base",
            "_view_module_version": "1.2.0",
            "_view_name": "StyleView",
            "description_width": ""
          }
        },
        "03704bf9ca9d4691bb6f4907262f5bbe": {
          "model_module": "@jupyter-widgets/base",
          "model_name": "LayoutModel",
          "model_module_version": "1.2.0",
          "state": {
            "_model_module": "@jupyter-widgets/base",
            "_model_module_version": "1.2.0",
            "_model_name": "LayoutModel",
            "_view_count": null,
            "_view_module": "@jupyter-widgets/base",
            "_view_module_version": "1.2.0",
            "_view_name": "LayoutView",
            "align_content": null,
            "align_items": null,
            "align_self": null,
            "border": null,
            "bottom": null,
            "display": null,
            "flex": null,
            "flex_flow": null,
            "grid_area": null,
            "grid_auto_columns": null,
            "grid_auto_flow": null,
            "grid_auto_rows": null,
            "grid_column": null,
            "grid_gap": null,
            "grid_row": null,
            "grid_template_areas": null,
            "grid_template_columns": null,
            "grid_template_rows": null,
            "height": null,
            "justify_content": null,
            "justify_items": null,
            "left": null,
            "margin": null,
            "max_height": null,
            "max_width": null,
            "min_height": null,
            "min_width": null,
            "object_fit": null,
            "object_position": null,
            "order": null,
            "overflow": null,
            "overflow_x": null,
            "overflow_y": null,
            "padding": null,
            "right": null,
            "top": null,
            "visibility": null,
            "width": null
          }
        },
        "96f22e23ccdf41bfb2a5725cb2daf478": {
          "model_module": "@jupyter-widgets/controls",
          "model_name": "ProgressStyleModel",
          "model_module_version": "1.5.0",
          "state": {
            "_model_module": "@jupyter-widgets/controls",
            "_model_module_version": "1.5.0",
            "_model_name": "ProgressStyleModel",
            "_view_count": null,
            "_view_module": "@jupyter-widgets/base",
            "_view_module_version": "1.2.0",
            "_view_name": "StyleView",
            "bar_color": null,
            "description_width": ""
          }
        },
        "c0d875eb64ac415b870963e270ce159d": {
          "model_module": "@jupyter-widgets/base",
          "model_name": "LayoutModel",
          "model_module_version": "1.2.0",
          "state": {
            "_model_module": "@jupyter-widgets/base",
            "_model_module_version": "1.2.0",
            "_model_name": "LayoutModel",
            "_view_count": null,
            "_view_module": "@jupyter-widgets/base",
            "_view_module_version": "1.2.0",
            "_view_name": "LayoutView",
            "align_content": null,
            "align_items": null,
            "align_self": null,
            "border": null,
            "bottom": null,
            "display": null,
            "flex": null,
            "flex_flow": null,
            "grid_area": null,
            "grid_auto_columns": null,
            "grid_auto_flow": null,
            "grid_auto_rows": null,
            "grid_column": null,
            "grid_gap": null,
            "grid_row": null,
            "grid_template_areas": null,
            "grid_template_columns": null,
            "grid_template_rows": null,
            "height": null,
            "justify_content": null,
            "justify_items": null,
            "left": null,
            "margin": null,
            "max_height": null,
            "max_width": null,
            "min_height": null,
            "min_width": null,
            "object_fit": null,
            "object_position": null,
            "order": null,
            "overflow": null,
            "overflow_x": null,
            "overflow_y": null,
            "padding": null,
            "right": null,
            "top": null,
            "visibility": null,
            "width": null
          }
        },
        "75de6efc0c9d4b14abcae24ab28895b1": {
          "model_module": "@jupyter-widgets/controls",
          "model_name": "DescriptionStyleModel",
          "model_module_version": "1.5.0",
          "state": {
            "_model_module": "@jupyter-widgets/controls",
            "_model_module_version": "1.5.0",
            "_model_name": "DescriptionStyleModel",
            "_view_count": null,
            "_view_module": "@jupyter-widgets/base",
            "_view_module_version": "1.2.0",
            "_view_name": "StyleView",
            "description_width": ""
          }
        },
        "7b607d2e2d9d41dcae89178fca788e62": {
          "model_module": "@jupyter-widgets/controls",
          "model_name": "HBoxModel",
          "model_module_version": "1.5.0",
          "state": {
            "_dom_classes": [],
            "_model_module": "@jupyter-widgets/controls",
            "_model_module_version": "1.5.0",
            "_model_name": "HBoxModel",
            "_view_count": null,
            "_view_module": "@jupyter-widgets/controls",
            "_view_module_version": "1.5.0",
            "_view_name": "HBoxView",
            "box_style": "",
            "children": [
              "IPY_MODEL_19e13c97f5f447f695703c245c3c79a5",
              "IPY_MODEL_2e945d26f65447229a5e55837c0d5744",
              "IPY_MODEL_84a658aaec2e446b853aafe3e81032b8"
            ],
            "layout": "IPY_MODEL_3554d8dca2dd4fbd902ed86f28a0374c"
          }
        },
        "19e13c97f5f447f695703c245c3c79a5": {
          "model_module": "@jupyter-widgets/controls",
          "model_name": "HTMLModel",
          "model_module_version": "1.5.0",
          "state": {
            "_dom_classes": [],
            "_model_module": "@jupyter-widgets/controls",
            "_model_module_version": "1.5.0",
            "_model_name": "HTMLModel",
            "_view_count": null,
            "_view_module": "@jupyter-widgets/controls",
            "_view_module_version": "1.5.0",
            "_view_name": "HTMLView",
            "description": "",
            "description_tooltip": null,
            "layout": "IPY_MODEL_2782e190fc6644ea8d44a2531c30cd01",
            "placeholder": "​",
            "style": "IPY_MODEL_9689a7a51aef4e029003d4303f1734df",
            "value": "100%"
          }
        },
        "2e945d26f65447229a5e55837c0d5744": {
          "model_module": "@jupyter-widgets/controls",
          "model_name": "FloatProgressModel",
          "model_module_version": "1.5.0",
          "state": {
            "_dom_classes": [],
            "_model_module": "@jupyter-widgets/controls",
            "_model_module_version": "1.5.0",
            "_model_name": "FloatProgressModel",
            "_view_count": null,
            "_view_module": "@jupyter-widgets/controls",
            "_view_module_version": "1.5.0",
            "_view_name": "ProgressView",
            "bar_style": "success",
            "description": "",
            "description_tooltip": null,
            "layout": "IPY_MODEL_a6e892dffbdd46f4a9b8d74a9e670939",
            "max": 1648877,
            "min": 0,
            "orientation": "horizontal",
            "style": "IPY_MODEL_143319e8995a4fca88d4ba61c20f91da",
            "value": 1648877
          }
        },
        "84a658aaec2e446b853aafe3e81032b8": {
          "model_module": "@jupyter-widgets/controls",
          "model_name": "HTMLModel",
          "model_module_version": "1.5.0",
          "state": {
            "_dom_classes": [],
            "_model_module": "@jupyter-widgets/controls",
            "_model_module_version": "1.5.0",
            "_model_name": "HTMLModel",
            "_view_count": null,
            "_view_module": "@jupyter-widgets/controls",
            "_view_module_version": "1.5.0",
            "_view_name": "HTMLView",
            "description": "",
            "description_tooltip": null,
            "layout": "IPY_MODEL_96c558f357424fd2b5ec5c7522f30d65",
            "placeholder": "​",
            "style": "IPY_MODEL_91e099f09763458f847581a3a2fb8ae8",
            "value": " 1648877/1648877 [00:00&lt;00:00, 27578073.56it/s]"
          }
        },
        "3554d8dca2dd4fbd902ed86f28a0374c": {
          "model_module": "@jupyter-widgets/base",
          "model_name": "LayoutModel",
          "model_module_version": "1.2.0",
          "state": {
            "_model_module": "@jupyter-widgets/base",
            "_model_module_version": "1.2.0",
            "_model_name": "LayoutModel",
            "_view_count": null,
            "_view_module": "@jupyter-widgets/base",
            "_view_module_version": "1.2.0",
            "_view_name": "LayoutView",
            "align_content": null,
            "align_items": null,
            "align_self": null,
            "border": null,
            "bottom": null,
            "display": null,
            "flex": null,
            "flex_flow": null,
            "grid_area": null,
            "grid_auto_columns": null,
            "grid_auto_flow": null,
            "grid_auto_rows": null,
            "grid_column": null,
            "grid_gap": null,
            "grid_row": null,
            "grid_template_areas": null,
            "grid_template_columns": null,
            "grid_template_rows": null,
            "height": null,
            "justify_content": null,
            "justify_items": null,
            "left": null,
            "margin": null,
            "max_height": null,
            "max_width": null,
            "min_height": null,
            "min_width": null,
            "object_fit": null,
            "object_position": null,
            "order": null,
            "overflow": null,
            "overflow_x": null,
            "overflow_y": null,
            "padding": null,
            "right": null,
            "top": null,
            "visibility": null,
            "width": null
          }
        },
        "2782e190fc6644ea8d44a2531c30cd01": {
          "model_module": "@jupyter-widgets/base",
          "model_name": "LayoutModel",
          "model_module_version": "1.2.0",
          "state": {
            "_model_module": "@jupyter-widgets/base",
            "_model_module_version": "1.2.0",
            "_model_name": "LayoutModel",
            "_view_count": null,
            "_view_module": "@jupyter-widgets/base",
            "_view_module_version": "1.2.0",
            "_view_name": "LayoutView",
            "align_content": null,
            "align_items": null,
            "align_self": null,
            "border": null,
            "bottom": null,
            "display": null,
            "flex": null,
            "flex_flow": null,
            "grid_area": null,
            "grid_auto_columns": null,
            "grid_auto_flow": null,
            "grid_auto_rows": null,
            "grid_column": null,
            "grid_gap": null,
            "grid_row": null,
            "grid_template_areas": null,
            "grid_template_columns": null,
            "grid_template_rows": null,
            "height": null,
            "justify_content": null,
            "justify_items": null,
            "left": null,
            "margin": null,
            "max_height": null,
            "max_width": null,
            "min_height": null,
            "min_width": null,
            "object_fit": null,
            "object_position": null,
            "order": null,
            "overflow": null,
            "overflow_x": null,
            "overflow_y": null,
            "padding": null,
            "right": null,
            "top": null,
            "visibility": null,
            "width": null
          }
        },
        "9689a7a51aef4e029003d4303f1734df": {
          "model_module": "@jupyter-widgets/controls",
          "model_name": "DescriptionStyleModel",
          "model_module_version": "1.5.0",
          "state": {
            "_model_module": "@jupyter-widgets/controls",
            "_model_module_version": "1.5.0",
            "_model_name": "DescriptionStyleModel",
            "_view_count": null,
            "_view_module": "@jupyter-widgets/base",
            "_view_module_version": "1.2.0",
            "_view_name": "StyleView",
            "description_width": ""
          }
        },
        "a6e892dffbdd46f4a9b8d74a9e670939": {
          "model_module": "@jupyter-widgets/base",
          "model_name": "LayoutModel",
          "model_module_version": "1.2.0",
          "state": {
            "_model_module": "@jupyter-widgets/base",
            "_model_module_version": "1.2.0",
            "_model_name": "LayoutModel",
            "_view_count": null,
            "_view_module": "@jupyter-widgets/base",
            "_view_module_version": "1.2.0",
            "_view_name": "LayoutView",
            "align_content": null,
            "align_items": null,
            "align_self": null,
            "border": null,
            "bottom": null,
            "display": null,
            "flex": null,
            "flex_flow": null,
            "grid_area": null,
            "grid_auto_columns": null,
            "grid_auto_flow": null,
            "grid_auto_rows": null,
            "grid_column": null,
            "grid_gap": null,
            "grid_row": null,
            "grid_template_areas": null,
            "grid_template_columns": null,
            "grid_template_rows": null,
            "height": null,
            "justify_content": null,
            "justify_items": null,
            "left": null,
            "margin": null,
            "max_height": null,
            "max_width": null,
            "min_height": null,
            "min_width": null,
            "object_fit": null,
            "object_position": null,
            "order": null,
            "overflow": null,
            "overflow_x": null,
            "overflow_y": null,
            "padding": null,
            "right": null,
            "top": null,
            "visibility": null,
            "width": null
          }
        },
        "143319e8995a4fca88d4ba61c20f91da": {
          "model_module": "@jupyter-widgets/controls",
          "model_name": "ProgressStyleModel",
          "model_module_version": "1.5.0",
          "state": {
            "_model_module": "@jupyter-widgets/controls",
            "_model_module_version": "1.5.0",
            "_model_name": "ProgressStyleModel",
            "_view_count": null,
            "_view_module": "@jupyter-widgets/base",
            "_view_module_version": "1.2.0",
            "_view_name": "StyleView",
            "bar_color": null,
            "description_width": ""
          }
        },
        "96c558f357424fd2b5ec5c7522f30d65": {
          "model_module": "@jupyter-widgets/base",
          "model_name": "LayoutModel",
          "model_module_version": "1.2.0",
          "state": {
            "_model_module": "@jupyter-widgets/base",
            "_model_module_version": "1.2.0",
            "_model_name": "LayoutModel",
            "_view_count": null,
            "_view_module": "@jupyter-widgets/base",
            "_view_module_version": "1.2.0",
            "_view_name": "LayoutView",
            "align_content": null,
            "align_items": null,
            "align_self": null,
            "border": null,
            "bottom": null,
            "display": null,
            "flex": null,
            "flex_flow": null,
            "grid_area": null,
            "grid_auto_columns": null,
            "grid_auto_flow": null,
            "grid_auto_rows": null,
            "grid_column": null,
            "grid_gap": null,
            "grid_row": null,
            "grid_template_areas": null,
            "grid_template_columns": null,
            "grid_template_rows": null,
            "height": null,
            "justify_content": null,
            "justify_items": null,
            "left": null,
            "margin": null,
            "max_height": null,
            "max_width": null,
            "min_height": null,
            "min_width": null,
            "object_fit": null,
            "object_position": null,
            "order": null,
            "overflow": null,
            "overflow_x": null,
            "overflow_y": null,
            "padding": null,
            "right": null,
            "top": null,
            "visibility": null,
            "width": null
          }
        },
        "91e099f09763458f847581a3a2fb8ae8": {
          "model_module": "@jupyter-widgets/controls",
          "model_name": "DescriptionStyleModel",
          "model_module_version": "1.5.0",
          "state": {
            "_model_module": "@jupyter-widgets/controls",
            "_model_module_version": "1.5.0",
            "_model_name": "DescriptionStyleModel",
            "_view_count": null,
            "_view_module": "@jupyter-widgets/base",
            "_view_module_version": "1.2.0",
            "_view_name": "StyleView",
            "description_width": ""
          }
        },
        "369557ff40ed46908af68d10f074e446": {
          "model_module": "@jupyter-widgets/controls",
          "model_name": "HBoxModel",
          "model_module_version": "1.5.0",
          "state": {
            "_dom_classes": [],
            "_model_module": "@jupyter-widgets/controls",
            "_model_module_version": "1.5.0",
            "_model_name": "HBoxModel",
            "_view_count": null,
            "_view_module": "@jupyter-widgets/controls",
            "_view_module_version": "1.5.0",
            "_view_name": "HBoxView",
            "box_style": "",
            "children": [
              "IPY_MODEL_bab59ceaab554b11bdd0a3c09a235e54",
              "IPY_MODEL_cf43050929e74da9ab16d5ffd0cd3067",
              "IPY_MODEL_388305f4a79f442092ba104c59184bf3"
            ],
            "layout": "IPY_MODEL_b93c158b80164e029f7ad4761aba9dfc"
          }
        },
        "bab59ceaab554b11bdd0a3c09a235e54": {
          "model_module": "@jupyter-widgets/controls",
          "model_name": "HTMLModel",
          "model_module_version": "1.5.0",
          "state": {
            "_dom_classes": [],
            "_model_module": "@jupyter-widgets/controls",
            "_model_module_version": "1.5.0",
            "_model_name": "HTMLModel",
            "_view_count": null,
            "_view_module": "@jupyter-widgets/controls",
            "_view_module_version": "1.5.0",
            "_view_name": "HTMLView",
            "description": "",
            "description_tooltip": null,
            "layout": "IPY_MODEL_f264658e9fef4e98bba9adbf947fa5e0",
            "placeholder": "​",
            "style": "IPY_MODEL_3fdbea90f40041f386f54b6d97bf746b",
            "value": "100%"
          }
        },
        "cf43050929e74da9ab16d5ffd0cd3067": {
          "model_module": "@jupyter-widgets/controls",
          "model_name": "FloatProgressModel",
          "model_module_version": "1.5.0",
          "state": {
            "_dom_classes": [],
            "_model_module": "@jupyter-widgets/controls",
            "_model_module_version": "1.5.0",
            "_model_name": "FloatProgressModel",
            "_view_count": null,
            "_view_module": "@jupyter-widgets/controls",
            "_view_module_version": "1.5.0",
            "_view_name": "ProgressView",
            "bar_style": "success",
            "description": "",
            "description_tooltip": null,
            "layout": "IPY_MODEL_a02f6d9f50e849cf82a1469c43ce831b",
            "max": 4542,
            "min": 0,
            "orientation": "horizontal",
            "style": "IPY_MODEL_55f97ab932954dc09c581b76606e33d7",
            "value": 4542
          }
        },
        "388305f4a79f442092ba104c59184bf3": {
          "model_module": "@jupyter-widgets/controls",
          "model_name": "HTMLModel",
          "model_module_version": "1.5.0",
          "state": {
            "_dom_classes": [],
            "_model_module": "@jupyter-widgets/controls",
            "_model_module_version": "1.5.0",
            "_model_name": "HTMLModel",
            "_view_count": null,
            "_view_module": "@jupyter-widgets/controls",
            "_view_module_version": "1.5.0",
            "_view_name": "HTMLView",
            "description": "",
            "description_tooltip": null,
            "layout": "IPY_MODEL_25bf559e9dfd4c37bc1bf1432487fca2",
            "placeholder": "​",
            "style": "IPY_MODEL_e2f6cde7b8a245048172d1d4b348f7f0",
            "value": " 4542/4542 [00:00&lt;00:00, 294444.03it/s]"
          }
        },
        "b93c158b80164e029f7ad4761aba9dfc": {
          "model_module": "@jupyter-widgets/base",
          "model_name": "LayoutModel",
          "model_module_version": "1.2.0",
          "state": {
            "_model_module": "@jupyter-widgets/base",
            "_model_module_version": "1.2.0",
            "_model_name": "LayoutModel",
            "_view_count": null,
            "_view_module": "@jupyter-widgets/base",
            "_view_module_version": "1.2.0",
            "_view_name": "LayoutView",
            "align_content": null,
            "align_items": null,
            "align_self": null,
            "border": null,
            "bottom": null,
            "display": null,
            "flex": null,
            "flex_flow": null,
            "grid_area": null,
            "grid_auto_columns": null,
            "grid_auto_flow": null,
            "grid_auto_rows": null,
            "grid_column": null,
            "grid_gap": null,
            "grid_row": null,
            "grid_template_areas": null,
            "grid_template_columns": null,
            "grid_template_rows": null,
            "height": null,
            "justify_content": null,
            "justify_items": null,
            "left": null,
            "margin": null,
            "max_height": null,
            "max_width": null,
            "min_height": null,
            "min_width": null,
            "object_fit": null,
            "object_position": null,
            "order": null,
            "overflow": null,
            "overflow_x": null,
            "overflow_y": null,
            "padding": null,
            "right": null,
            "top": null,
            "visibility": null,
            "width": null
          }
        },
        "f264658e9fef4e98bba9adbf947fa5e0": {
          "model_module": "@jupyter-widgets/base",
          "model_name": "LayoutModel",
          "model_module_version": "1.2.0",
          "state": {
            "_model_module": "@jupyter-widgets/base",
            "_model_module_version": "1.2.0",
            "_model_name": "LayoutModel",
            "_view_count": null,
            "_view_module": "@jupyter-widgets/base",
            "_view_module_version": "1.2.0",
            "_view_name": "LayoutView",
            "align_content": null,
            "align_items": null,
            "align_self": null,
            "border": null,
            "bottom": null,
            "display": null,
            "flex": null,
            "flex_flow": null,
            "grid_area": null,
            "grid_auto_columns": null,
            "grid_auto_flow": null,
            "grid_auto_rows": null,
            "grid_column": null,
            "grid_gap": null,
            "grid_row": null,
            "grid_template_areas": null,
            "grid_template_columns": null,
            "grid_template_rows": null,
            "height": null,
            "justify_content": null,
            "justify_items": null,
            "left": null,
            "margin": null,
            "max_height": null,
            "max_width": null,
            "min_height": null,
            "min_width": null,
            "object_fit": null,
            "object_position": null,
            "order": null,
            "overflow": null,
            "overflow_x": null,
            "overflow_y": null,
            "padding": null,
            "right": null,
            "top": null,
            "visibility": null,
            "width": null
          }
        },
        "3fdbea90f40041f386f54b6d97bf746b": {
          "model_module": "@jupyter-widgets/controls",
          "model_name": "DescriptionStyleModel",
          "model_module_version": "1.5.0",
          "state": {
            "_model_module": "@jupyter-widgets/controls",
            "_model_module_version": "1.5.0",
            "_model_name": "DescriptionStyleModel",
            "_view_count": null,
            "_view_module": "@jupyter-widgets/base",
            "_view_module_version": "1.2.0",
            "_view_name": "StyleView",
            "description_width": ""
          }
        },
        "a02f6d9f50e849cf82a1469c43ce831b": {
          "model_module": "@jupyter-widgets/base",
          "model_name": "LayoutModel",
          "model_module_version": "1.2.0",
          "state": {
            "_model_module": "@jupyter-widgets/base",
            "_model_module_version": "1.2.0",
            "_model_name": "LayoutModel",
            "_view_count": null,
            "_view_module": "@jupyter-widgets/base",
            "_view_module_version": "1.2.0",
            "_view_name": "LayoutView",
            "align_content": null,
            "align_items": null,
            "align_self": null,
            "border": null,
            "bottom": null,
            "display": null,
            "flex": null,
            "flex_flow": null,
            "grid_area": null,
            "grid_auto_columns": null,
            "grid_auto_flow": null,
            "grid_auto_rows": null,
            "grid_column": null,
            "grid_gap": null,
            "grid_row": null,
            "grid_template_areas": null,
            "grid_template_columns": null,
            "grid_template_rows": null,
            "height": null,
            "justify_content": null,
            "justify_items": null,
            "left": null,
            "margin": null,
            "max_height": null,
            "max_width": null,
            "min_height": null,
            "min_width": null,
            "object_fit": null,
            "object_position": null,
            "order": null,
            "overflow": null,
            "overflow_x": null,
            "overflow_y": null,
            "padding": null,
            "right": null,
            "top": null,
            "visibility": null,
            "width": null
          }
        },
        "55f97ab932954dc09c581b76606e33d7": {
          "model_module": "@jupyter-widgets/controls",
          "model_name": "ProgressStyleModel",
          "model_module_version": "1.5.0",
          "state": {
            "_model_module": "@jupyter-widgets/controls",
            "_model_module_version": "1.5.0",
            "_model_name": "ProgressStyleModel",
            "_view_count": null,
            "_view_module": "@jupyter-widgets/base",
            "_view_module_version": "1.2.0",
            "_view_name": "StyleView",
            "bar_color": null,
            "description_width": ""
          }
        },
        "25bf559e9dfd4c37bc1bf1432487fca2": {
          "model_module": "@jupyter-widgets/base",
          "model_name": "LayoutModel",
          "model_module_version": "1.2.0",
          "state": {
            "_model_module": "@jupyter-widgets/base",
            "_model_module_version": "1.2.0",
            "_model_name": "LayoutModel",
            "_view_count": null,
            "_view_module": "@jupyter-widgets/base",
            "_view_module_version": "1.2.0",
            "_view_name": "LayoutView",
            "align_content": null,
            "align_items": null,
            "align_self": null,
            "border": null,
            "bottom": null,
            "display": null,
            "flex": null,
            "flex_flow": null,
            "grid_area": null,
            "grid_auto_columns": null,
            "grid_auto_flow": null,
            "grid_auto_rows": null,
            "grid_column": null,
            "grid_gap": null,
            "grid_row": null,
            "grid_template_areas": null,
            "grid_template_columns": null,
            "grid_template_rows": null,
            "height": null,
            "justify_content": null,
            "justify_items": null,
            "left": null,
            "margin": null,
            "max_height": null,
            "max_width": null,
            "min_height": null,
            "min_width": null,
            "object_fit": null,
            "object_position": null,
            "order": null,
            "overflow": null,
            "overflow_x": null,
            "overflow_y": null,
            "padding": null,
            "right": null,
            "top": null,
            "visibility": null,
            "width": null
          }
        },
        "e2f6cde7b8a245048172d1d4b348f7f0": {
          "model_module": "@jupyter-widgets/controls",
          "model_name": "DescriptionStyleModel",
          "model_module_version": "1.5.0",
          "state": {
            "_model_module": "@jupyter-widgets/controls",
            "_model_module_version": "1.5.0",
            "_model_name": "DescriptionStyleModel",
            "_view_count": null,
            "_view_module": "@jupyter-widgets/base",
            "_view_module_version": "1.2.0",
            "_view_name": "StyleView",
            "description_width": ""
          }
        }
      }
    }
  },
  "nbformat": 4,
  "nbformat_minor": 0
}