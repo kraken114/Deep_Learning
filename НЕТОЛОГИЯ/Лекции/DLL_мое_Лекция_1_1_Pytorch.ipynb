{
  "cells": [
    {
      "cell_type": "markdown",
      "metadata": {
        "id": "l3lBw4sj34qZ"
      },
      "source": [
        "## Манипулирование данными"
      ]
    },
    {
      "cell_type": "markdown",
      "metadata": {
        "id": "I4aJFUfn34qZ"
      },
      "source": [
        "Невозможно что-либо сделать, если мы не умеем манипулировать данными. Две основные операции, которые нам нужно сделать с данными - (i) получить их и (ii) обработать. Нет смысла собирать данные, если мы даже не знаем, как их хранить, поэтому давайте сначала поработаем с синтетическими данными. Мы начнем с torch.tensor. Это основной инструмент для хранения и преобразования данных в torch. Если вы раньше работали с NumPy, вы заметите, что он по своей конструкции очень похож на многомерный массив NumPy. Тем не менее, он даёт несколько ключевых преимуществ. Во-первых, torch.tensor поддерживает асинхронные вычисления на CPU и GPU. Во-вторых, он обеспечивает поддержку автоматического дифференцирования.\n",
        "\n",
        "Начнем с импорта torch"
      ]
    },
    {
      "cell_type": "code",
      "execution_count": null,
      "metadata": {
        "id": "B0MVM4aj34qa"
      },
      "outputs": [],
      "source": [
        "import torch"
      ]
    },
    {
      "cell_type": "markdown",
      "metadata": {
        "id": "SDaSbs7Q34qa"
      },
      "source": [
        "Tensor - есть массив (возможно, многомерный) числовых значений. tensor с одной осью называется (в математике) вектором, с двумя - матрицей. Для массивов с более чем двумя осями нет специальных имен - их называют просто тензорами.\n",
        "Самый простой объект, который мы можем создать - это вектор. Для начала мы можем использовать arange для создания вектора строки с 12 последовательными целыми числами."
      ]
    },
    {
      "cell_type": "code",
      "execution_count": null,
      "metadata": {
        "colab": {
          "base_uri": "https://localhost:8080/"
        },
        "id": "TNGwabqm34qa",
        "outputId": "ebbddd36-fbd7-42bb-8a9b-0bbe04ec65b9"
      },
      "outputs": [
        {
          "output_type": "execute_result",
          "data": {
            "text/plain": [
              "tensor([ 0,  1,  2,  3,  4,  5,  6,  7,  8,  9, 10, 11])"
            ]
          },
          "metadata": {},
          "execution_count": 2
        }
      ],
      "source": [
        "x = torch.arange(12)\n",
        "x"
      ]
    },
    {
      "cell_type": "code",
      "execution_count": null,
      "metadata": {
        "colab": {
          "base_uri": "https://localhost:8080/"
        },
        "id": "KmrNHETgIbqc",
        "outputId": "20166e92-73e8-45eb-8f22-73e535cd14c1"
      },
      "outputs": [
        {
          "output_type": "execute_result",
          "data": {
            "text/plain": [
              "tensor([[0.0000e+00, 0.0000e+00, 0.0000e+00],\n",
              "        [1.0000e+00, 1.0000e+00, 1.0000e+00],\n",
              "        [2.0000e+00, 4.0000e+00, 8.0000e+00],\n",
              "        [3.0000e+00, 9.0000e+00, 2.7000e+01],\n",
              "        [4.0000e+00, 1.6000e+01, 6.4000e+01],\n",
              "        [5.0000e+00, 2.5000e+01, 1.2500e+02],\n",
              "        [6.0000e+00, 3.6000e+01, 2.1600e+02],\n",
              "        [7.0000e+00, 4.9000e+01, 3.4300e+02],\n",
              "        [8.0000e+00, 6.4000e+01, 5.1200e+02],\n",
              "        [9.0000e+00, 8.1000e+01, 7.2900e+02],\n",
              "        [1.0000e+01, 1.0000e+02, 1.0000e+03],\n",
              "        [1.1000e+01, 1.2100e+02, 1.3310e+03]])"
            ]
          },
          "metadata": {},
          "execution_count": 5
        }
      ],
      "source": [
        "xx = torch.Tensor([[x, x**2, x**3] for x in range(12)])\n",
        "xx"
      ]
    },
    {
      "cell_type": "code",
      "execution_count": null,
      "metadata": {
        "colab": {
          "base_uri": "https://localhost:8080/"
        },
        "id": "nlzShh4rLpXm",
        "outputId": "2fda5102-05bf-4cfb-9853-e359c1ceb4f3"
      },
      "outputs": [
        {
          "output_type": "execute_result",
          "data": {
            "text/plain": [
              "tensor([1.])"
            ]
          },
          "metadata": {},
          "execution_count": 3
        }
      ],
      "source": [
        "torch.Tensor([1])"
      ]
    },
    {
      "cell_type": "markdown",
      "metadata": {
        "id": "Zv2GDLgc34qa"
      },
      "source": [
        "Мы можем получить форму экземпляра tensor через свойство shape."
      ]
    },
    {
      "cell_type": "code",
      "execution_count": null,
      "metadata": {
        "colab": {
          "base_uri": "https://localhost:8080/"
        },
        "id": "jD1U4W7K34qa",
        "scrolled": true,
        "outputId": "1ff482b8-6df1-4ad7-bae6-ce4fab373d3d"
      },
      "outputs": [
        {
          "output_type": "execute_result",
          "data": {
            "text/plain": [
              "(torch.Size([12]), torch.Size([12, 3]))"
            ]
          },
          "metadata": {},
          "execution_count": 6
        }
      ],
      "source": [
        "x.shape, xx.shape"
      ]
    },
    {
      "cell_type": "markdown",
      "metadata": {
        "id": "ftiBBOV734qa"
      },
      "source": [
        "Узнать расположен ли он на gpu или cpu можно через специальный аттрибут - device"
      ]
    },
    {
      "cell_type": "code",
      "execution_count": null,
      "metadata": {
        "colab": {
          "base_uri": "https://localhost:8080/"
        },
        "id": "b2Sz6NV334qa",
        "outputId": "804fb305-326d-43b0-d7ca-f3477c80a699"
      },
      "outputs": [
        {
          "output_type": "execute_result",
          "data": {
            "text/plain": [
              "device(type='cpu')"
            ]
          },
          "metadata": {},
          "execution_count": 7
        }
      ],
      "source": [
        "x.device"
      ]
    },
    {
      "cell_type": "markdown",
      "metadata": {
        "id": "7F4XiLK934qa"
      },
      "source": [
        "Мы используем функцию view, чтобы изменить форму одного (возможно многомерного) массива на другой, который содержит такое же количество элементов. Например, мы можем преобразовать форму нашего векторного вектора x в (3, 4), который содержит те же значения, но интерпретирует их как матрицу, содержащую 3 строки и 4 столбца. Обратите внимание, что, хотя форма изменилась, элементы в x не изменились. Причем количество элементов осталось прежним."
      ]
    },
    {
      "cell_type": "code",
      "execution_count": null,
      "metadata": {
        "colab": {
          "base_uri": "https://localhost:8080/"
        },
        "id": "jtNiFL7I34qa",
        "outputId": "405ce98c-b4c9-485b-de29-41a91f682531"
      },
      "outputs": [
        {
          "output_type": "execute_result",
          "data": {
            "text/plain": [
              "tensor([[[ 0,  1],\n",
              "         [ 2,  3],\n",
              "         [ 4,  5]],\n",
              "\n",
              "        [[ 6,  7],\n",
              "         [ 8,  9],\n",
              "         [10, 11]]])"
            ]
          },
          "metadata": {},
          "execution_count": 9
        }
      ],
      "source": [
        "x.view((2,3,2)).shape\n",
        "x.view((2,3,2))"
      ]
    },
    {
      "cell_type": "code",
      "source": [
        "x.reshape((2,2,3))"
      ],
      "metadata": {
        "colab": {
          "base_uri": "https://localhost:8080/"
        },
        "id": "FknF6yh8qlwg",
        "outputId": "d5da7679-b734-4396-ac79-8bed7e8c8801"
      },
      "execution_count": null,
      "outputs": [
        {
          "output_type": "execute_result",
          "data": {
            "text/plain": [
              "tensor([[[ 0,  1,  2],\n",
              "         [ 3,  4,  5]],\n",
              "\n",
              "        [[ 6,  7,  8],\n",
              "         [ 9, 10, 11]]])"
            ]
          },
          "metadata": {},
          "execution_count": 10
        }
      ]
    },
    {
      "cell_type": "markdown",
      "metadata": {
        "id": "YS8FX2Pp34qa"
      },
      "source": [
        "Указывать каждое измерение вручную достаточно утомительно. К счастью, torch может автоматически выводить одно измерение, учитывая другие. Мы можем указать -1 для измерения, которое мы хотели бы, чтобы torch автоматически выводил. В нашем случае вместо x.view((3, 4)) мы могли бы использовать x.view ((- 1, 4)) или x.view((3, -1))."
      ]
    },
    {
      "cell_type": "code",
      "execution_count": null,
      "metadata": {
        "colab": {
          "base_uri": "https://localhost:8080/"
        },
        "id": "zLefd5AV34qa",
        "outputId": "a61b8f9c-9044-4f93-fde1-ec315d3e9c93"
      },
      "outputs": [
        {
          "output_type": "execute_result",
          "data": {
            "text/plain": [
              "tensor([[ 0,  1,  2,  3],\n",
              "        [ 4,  5,  6,  7],\n",
              "        [ 8,  9, 10, 11]])"
            ]
          },
          "metadata": {},
          "execution_count": 11
        }
      ],
      "source": [
        "x.view((-1, 4))"
      ]
    },
    {
      "cell_type": "markdown",
      "metadata": {
        "id": "ndZZ2mvs34qb"
      },
      "source": [
        "Другие две полезные функции - zeros и ones. Они создают массивы из всех нулей и всех единиц. Они принимают форму создаваемого тензора в качестве параметра"
      ]
    },
    {
      "cell_type": "code",
      "execution_count": null,
      "metadata": {
        "colab": {
          "base_uri": "https://localhost:8080/"
        },
        "id": "1OHmH_lc34qb",
        "outputId": "2e32e008-552e-41e4-c913-84a6fb94a58f"
      },
      "outputs": [
        {
          "output_type": "execute_result",
          "data": {
            "text/plain": [
              "tensor([[[0., 0., 0., 0.],\n",
              "         [0., 0., 0., 0.],\n",
              "         [0., 0., 0., 0.]],\n",
              "\n",
              "        [[0., 0., 0., 0.],\n",
              "         [0., 0., 0., 0.],\n",
              "         [0., 0., 0., 0.]]])"
            ]
          },
          "metadata": {},
          "execution_count": 12
        }
      ],
      "source": [
        "torch.zeros((2,3,4))"
      ]
    },
    {
      "cell_type": "code",
      "execution_count": null,
      "metadata": {
        "colab": {
          "base_uri": "https://localhost:8080/"
        },
        "id": "E4FE7H4l34qb",
        "outputId": "01ffc9ec-95fb-4e24-dbd1-595ba34c0179"
      },
      "outputs": [
        {
          "output_type": "execute_result",
          "data": {
            "text/plain": [
              "tensor([[[1., 1., 1., 1.],\n",
              "         [1., 1., 1., 1.],\n",
              "         [1., 1., 1., 1.]],\n",
              "\n",
              "        [[1., 1., 1., 1.],\n",
              "         [1., 1., 1., 1.],\n",
              "         [1., 1., 1., 1.]]])"
            ]
          },
          "metadata": {},
          "execution_count": 13
        }
      ],
      "source": [
        "torch.ones((2,3,4))"
      ]
    },
    {
      "cell_type": "markdown",
      "metadata": {
        "id": "EnuJ0sCf34qb"
      },
      "source": [
        "Конечно же, можно создать тензор явно указав все значения"
      ]
    },
    {
      "cell_type": "code",
      "execution_count": null,
      "metadata": {
        "colab": {
          "base_uri": "https://localhost:8080/"
        },
        "id": "Aq5I6YeC34qb",
        "outputId": "b6e961a0-a140-47ac-ef32-c072df480846"
      },
      "outputs": [
        {
          "output_type": "execute_result",
          "data": {
            "text/plain": [
              "tensor([[ 1,  2,  3],\n",
              "        [ 4,  5,  6],\n",
              "        [10, 11,  0]])"
            ]
          },
          "metadata": {},
          "execution_count": 14
        }
      ],
      "source": [
        "torch.tensor([[1,2,3], [4,5,6], [10,11,0]])"
      ]
    },
    {
      "cell_type": "markdown",
      "metadata": {
        "id": "_fdDBA1t34qb"
      },
      "source": [
        "Иногда бывает полезно создать массив, заполненный случайными значениями. Для этого используются функции torch.rand и torch.randn. Первое использовает равномерное распределение, второе - нормальное"
      ]
    },
    {
      "cell_type": "code",
      "execution_count": null,
      "metadata": {
        "colab": {
          "base_uri": "https://localhost:8080/"
        },
        "id": "zaVRxiJo34qb",
        "outputId": "e9cc31d8-f615-48b1-c01d-fe65bfb8e3ab"
      },
      "outputs": [
        {
          "output_type": "execute_result",
          "data": {
            "text/plain": [
              "tensor([[[0.0898, 0.0290, 0.2369, 0.1901],\n",
              "         [0.0506, 0.2604, 0.1470, 0.4721],\n",
              "         [0.8690, 0.3221, 0.6098, 0.1682]],\n",
              "\n",
              "        [[0.2281, 0.1354, 0.8585, 0.9500],\n",
              "         [0.1421, 0.4781, 0.5364, 0.0061],\n",
              "         [0.0387, 0.5549, 0.5784, 0.0432]]])"
            ]
          },
          "metadata": {},
          "execution_count": 15
        }
      ],
      "source": [
        "torch.rand((2,3,4))"
      ]
    },
    {
      "cell_type": "code",
      "execution_count": null,
      "metadata": {
        "colab": {
          "base_uri": "https://localhost:8080/"
        },
        "id": "M4gzOlNx34qb",
        "outputId": "ec9c2515-edc9-47b9-a634-e0f02ba8d531"
      },
      "outputs": [
        {
          "output_type": "execute_result",
          "data": {
            "text/plain": [
              "tensor([[[ 0.2745,  0.3405,  0.1116, -0.0446],\n",
              "         [-0.6974,  0.0479,  1.1541,  0.2833],\n",
              "         [-1.4954, -0.6000, -1.5092, -0.0102]],\n",
              "\n",
              "        [[-0.4635,  0.8134, -3.0877, -1.0515],\n",
              "         [-0.3631,  2.5410, -0.3385,  0.1293],\n",
              "         [ 0.6653,  1.7543,  0.2813,  0.5767]]])"
            ]
          },
          "metadata": {},
          "execution_count": 16
        }
      ],
      "source": [
        "torch.randn((2,3,4))"
      ]
    },
    {
      "cell_type": "markdown",
      "metadata": {
        "id": "AxPxZy1y34qb"
      },
      "source": [
        "## Операции"
      ]
    },
    {
      "cell_type": "markdown",
      "metadata": {
        "id": "xlB3CsoS34qb"
      },
      "source": [
        "Обычно мы хотим не только создавать массивы, но и применять к ним функции. Самые простые и полезные из них - это поэлементные функции. Они работают, выполняя одну скалярную операцию над соответствующими элементами двух массивов."
      ]
    },
    {
      "cell_type": "code",
      "source": [
        "x"
      ],
      "metadata": {
        "colab": {
          "base_uri": "https://localhost:8080/"
        },
        "id": "v2EU-HykzRwE",
        "outputId": "97093ede-2872-4486-8e1a-08b797ba7a60"
      },
      "execution_count": null,
      "outputs": [
        {
          "output_type": "execute_result",
          "data": {
            "text/plain": [
              "tensor([ 0,  1,  2,  3,  4,  5,  6,  7,  8,  9, 10, 11])"
            ]
          },
          "metadata": {},
          "execution_count": 17
        }
      ]
    },
    {
      "cell_type": "code",
      "execution_count": null,
      "metadata": {
        "colab": {
          "base_uri": "https://localhost:8080/"
        },
        "id": "wy_nH2mH34qb",
        "outputId": "41391b99-0780-412f-a2ea-8c75f7bbfddb"
      },
      "outputs": [
        {
          "output_type": "stream",
          "name": "stdout",
          "text": [
            "x = tensor([1., 2., 4., 8.])\n",
            "y = tensor([2., 2., 2., 2.])\n",
            "x + y tensor([ 3.,  4.,  6., 10.])\n",
            "x - y tensor([-1.,  0.,  2.,  6.])\n",
            "x * y tensor([ 2.,  4.,  8., 16.])\n",
            "x / y tensor([0.5000, 1.0000, 2.0000, 4.0000])\n"
          ]
        }
      ],
      "source": [
        "x = torch.tensor([1., 2., 4., 8.])\n",
        "y = torch.ones_like(x) * 2\n",
        "print('x =', x)\n",
        "print('y =', y)\n",
        "print('x + y', x + y)\n",
        "print('x - y', x - y)\n",
        "print('x * y', x * y)\n",
        "print('x / y', x / y)"
      ]
    },
    {
      "cell_type": "markdown",
      "metadata": {
        "id": "zmuXKwr134qb"
      },
      "source": [
        "Еще больше операций может быть выполненно поэлементно. Например - операции exp"
      ]
    },
    {
      "cell_type": "code",
      "execution_count": null,
      "metadata": {
        "colab": {
          "base_uri": "https://localhost:8080/"
        },
        "id": "DH-A5fDv34qb",
        "outputId": "d9d3c3e6-0bcc-492d-84c3-94247a11736c"
      },
      "outputs": [
        {
          "output_type": "execute_result",
          "data": {
            "text/plain": [
              "tensor([2.7183e+00, 7.3891e+00, 5.4598e+01, 2.9810e+03])"
            ]
          },
          "metadata": {},
          "execution_count": 19
        }
      ],
      "source": [
        "x.exp()"
      ]
    },
    {
      "cell_type": "markdown",
      "metadata": {
        "id": "NqV7yXc234qb"
      },
      "source": [
        "В дополнение к поэлементным вычислениям, мы также можем выполнять матричные операции. Например, матричное умножение. Для этого используется **функция mm**."
      ]
    },
    {
      "cell_type": "code",
      "execution_count": null,
      "metadata": {
        "id": "-mZOiVs4KmrC"
      },
      "outputs": [],
      "source": [
        "x1 = torch.arange(12)\n",
        "x2 = torch.arange(12)\n",
        "x3 = torch.arange(12)"
      ]
    },
    {
      "cell_type": "code",
      "execution_count": null,
      "metadata": {
        "colab": {
          "base_uri": "https://localhost:8080/"
        },
        "id": "ICVD0gR934qb",
        "outputId": "02038bc4-ff5f-4c1e-95b8-60d524732364"
      },
      "outputs": [
        {
          "output_type": "execute_result",
          "data": {
            "text/plain": [
              "tensor([[ 18,  20,  10],\n",
              "        [ 58,  60,  50],\n",
              "        [ 98, 100,  90]])"
            ]
          },
          "metadata": {},
          "execution_count": 88
        }
      ],
      "source": [
        "x = torch.arange(12).reshape((3,4))\n",
        "y = torch.tensor([[2, 1, 4, 3], [1, 2, 3, 4], [4, 3, 2, 1]])\n",
        "torch.mm(x, y.T)"
      ]
    },
    {
      "cell_type": "markdown",
      "metadata": {
        "id": "NrBTbyHQ34qb"
      },
      "source": [
        "Мы также можем объединить несколько тензоров. Для этого нам нужно указать, по какому измерению производить объединение. В приведенном ниже примере объединяются две матрицы по измерению 0 (по строкам) и измерению 1 (по столбцам) соответственно."
      ]
    },
    {
      "cell_type": "code",
      "execution_count": null,
      "metadata": {
        "colab": {
          "base_uri": "https://localhost:8080/"
        },
        "id": "OsO4Pjdp34qb",
        "outputId": "06519d49-40f8-4bef-f515-0a91b8cc155e"
      },
      "outputs": [
        {
          "output_type": "execute_result",
          "data": {
            "text/plain": [
              "tensor([[ 0,  1,  2,  3],\n",
              "        [ 4,  5,  6,  7],\n",
              "        [ 8,  9, 10, 11],\n",
              "        [ 2,  1,  4,  3],\n",
              "        [ 1,  2,  3,  4],\n",
              "        [ 4,  3,  2,  1]])"
            ]
          },
          "metadata": {},
          "execution_count": 22
        }
      ],
      "source": [
        "torch.cat((x, y), axis=0)"
      ]
    },
    {
      "cell_type": "code",
      "execution_count": null,
      "metadata": {
        "colab": {
          "base_uri": "https://localhost:8080/"
        },
        "id": "_NY0kfhp34qc",
        "outputId": "7e8e66e2-c8b9-4b02-da9d-890bfcfdb1ef"
      },
      "outputs": [
        {
          "output_type": "execute_result",
          "data": {
            "text/plain": [
              "tensor([[ 0,  1,  2,  3,  2,  1,  4,  3],\n",
              "        [ 4,  5,  6,  7,  1,  2,  3,  4],\n",
              "        [ 8,  9, 10, 11,  4,  3,  2,  1]])"
            ]
          },
          "metadata": {},
          "execution_count": 23
        }
      ],
      "source": [
        "torch.cat((x, y), dim=1)"
      ]
    },
    {
      "cell_type": "markdown",
      "metadata": {
        "id": "mdirOuCC34qc"
      },
      "source": [
        "Для получения булевых тензоров можно использовать булевы операторы. Например, можно сравнить два тензора при помощи оператора =="
      ]
    },
    {
      "cell_type": "code",
      "execution_count": null,
      "metadata": {
        "colab": {
          "base_uri": "https://localhost:8080/"
        },
        "id": "hVQHhUYX34qc",
        "scrolled": true,
        "outputId": "cd9c9a2e-26fc-4ec9-a2e4-f2ecc978c984"
      },
      "outputs": [
        {
          "output_type": "execute_result",
          "data": {
            "text/plain": [
              "tensor([[1, 1, 1, 1],\n",
              "        [0, 0, 0, 0],\n",
              "        [0, 0, 0, 0]], dtype=torch.int32)"
            ]
          },
          "metadata": {},
          "execution_count": 24
        }
      ],
      "source": [
        "(x <= y).int()"
      ]
    },
    {
      "cell_type": "code",
      "execution_count": null,
      "metadata": {
        "colab": {
          "base_uri": "https://localhost:8080/"
        },
        "id": "pPpWVVhTckOh",
        "outputId": "a0cabcba-2c12-4cc3-ec76-675fae89b772"
      },
      "outputs": [
        {
          "output_type": "execute_result",
          "data": {
            "text/plain": [
              "tensor([[ 0,  1,  2,  3],\n",
              "        [ 4,  5,  6,  7],\n",
              "        [ 8,  9, 10, 11]])"
            ]
          },
          "metadata": {},
          "execution_count": 25
        }
      ],
      "source": [
        "x"
      ]
    },
    {
      "cell_type": "markdown",
      "metadata": {
        "id": "ZlgOzsiQ34qc"
      },
      "source": [
        "Суммирование всех элементов тезора дает тензор с одним элементом."
      ]
    },
    {
      "cell_type": "code",
      "execution_count": null,
      "metadata": {
        "colab": {
          "base_uri": "https://localhost:8080/"
        },
        "id": "NjjEo2zN34qc",
        "outputId": "2bbd95e5-7268-4b3c-e3ee-30643afce9bf"
      },
      "outputs": [
        {
          "output_type": "execute_result",
          "data": {
            "text/plain": [
              "tensor(66)"
            ]
          },
          "metadata": {},
          "execution_count": 26
        }
      ],
      "source": [
        "x.sum()"
      ]
    },
    {
      "cell_type": "markdown",
      "metadata": {
        "id": "o23pUXsh34qc"
      },
      "source": [
        "Мы можем преобразовать результат в скаляр в Python, используя функцию item"
      ]
    },
    {
      "cell_type": "code",
      "execution_count": null,
      "metadata": {
        "colab": {
          "base_uri": "https://localhost:8080/"
        },
        "id": "mkjmT83Y34qc",
        "outputId": "4639b746-d75b-4909-f225-26dee92479df"
      },
      "outputs": [
        {
          "output_type": "execute_result",
          "data": {
            "text/plain": [
              "66"
            ]
          },
          "metadata": {},
          "execution_count": 27
        }
      ],
      "source": [
        "x.sum().item()"
      ]
    },
    {
      "cell_type": "code",
      "execution_count": null,
      "metadata": {
        "colab": {
          "base_uri": "https://localhost:8080/"
        },
        "id": "c39J_2UhjNCB",
        "outputId": "22171ccf-2313-4996-e83a-8d5bf270a9d1"
      },
      "outputs": [
        {
          "output_type": "execute_result",
          "data": {
            "text/plain": [
              "torch.Size([3])"
            ]
          },
          "metadata": {},
          "execution_count": 33
        }
      ],
      "source": [
        "x.sum(dim=1).shape"
      ]
    },
    {
      "cell_type": "code",
      "execution_count": null,
      "metadata": {
        "colab": {
          "base_uri": "https://localhost:8080/"
        },
        "id": "m2QsIST0ApTk",
        "outputId": "5d7e653d-5d06-4b69-ee0f-5dd29fc184c4"
      },
      "outputs": [
        {
          "output_type": "execute_result",
          "data": {
            "text/plain": [
              "torch.Size([3, 1])"
            ]
          },
          "metadata": {},
          "execution_count": 32
        }
      ],
      "source": [
        "x.sum(dim=1, keepdim=True).shape # keepdim=True - сохраняет двумерный тензор"
      ]
    },
    {
      "cell_type": "code",
      "execution_count": null,
      "metadata": {
        "colab": {
          "base_uri": "https://localhost:8080/"
        },
        "id": "9rfhXedJApY_",
        "outputId": "ff227627-563d-4891-8a40-5e8b5616298a"
      },
      "outputs": [
        {
          "output_type": "execute_result",
          "data": {
            "text/plain": [
              "torch.Size([1, 4])"
            ]
          },
          "metadata": {},
          "execution_count": 34
        }
      ],
      "source": [
        "x.sum(dim=0, keepdim=True).shape"
      ]
    },
    {
      "cell_type": "markdown",
      "metadata": {
        "id": "7q3qKAAm5Sxx"
      },
      "source": [
        "Преобразование типов"
      ]
    },
    {
      "cell_type": "code",
      "execution_count": null,
      "metadata": {
        "colab": {
          "base_uri": "https://localhost:8080/"
        },
        "id": "T3TrDHdtc-Ek",
        "outputId": "3f06091e-cd45-4868-b15f-108543033267"
      },
      "outputs": [
        {
          "output_type": "execute_result",
          "data": {
            "text/plain": [
              "torch.int64"
            ]
          },
          "metadata": {},
          "execution_count": 35
        }
      ],
      "source": [
        "x.dtype"
      ]
    },
    {
      "cell_type": "code",
      "execution_count": null,
      "metadata": {
        "colab": {
          "base_uri": "https://localhost:8080/"
        },
        "id": "glY_K40V4Quo",
        "outputId": "1acc2a17-f860-4ea8-e6ea-998babee4c64"
      },
      "outputs": [
        {
          "output_type": "execute_result",
          "data": {
            "text/plain": [
              "tensor([[ 0.,  1.,  2.,  3.],\n",
              "        [ 4.,  5.,  6.,  7.],\n",
              "        [ 8.,  9., 10., 11.]], dtype=torch.float64)"
            ]
          },
          "metadata": {},
          "execution_count": 36
        }
      ],
      "source": [
        "x.double() # double() - задает тип данных"
      ]
    },
    {
      "cell_type": "code",
      "execution_count": null,
      "metadata": {
        "colab": {
          "base_uri": "https://localhost:8080/"
        },
        "id": "jMJERiCG4QzN",
        "outputId": "998b7f6e-2e28-45e2-ba38-7b1b04e38258"
      },
      "outputs": [
        {
          "output_type": "execute_result",
          "data": {
            "text/plain": [
              "tensor([[ 0.,  1.,  2.,  3.],\n",
              "        [ 4.,  5.,  6.,  7.],\n",
              "        [ 8.,  9., 10., 11.]], dtype=torch.float64)"
            ]
          },
          "metadata": {},
          "execution_count": 31
        }
      ],
      "source": [
        "x.type('torch.DoubleTensor')"
      ]
    },
    {
      "cell_type": "code",
      "source": [
        "x = torch.tensor([4,5,6,7])\n",
        "y = 3\n",
        "x - y"
      ],
      "metadata": {
        "colab": {
          "base_uri": "https://localhost:8080/"
        },
        "id": "AOQQxQvmeE4Y",
        "outputId": "93b5d1b1-c150-4916-e0f7-889a36dd30cb"
      },
      "execution_count": null,
      "outputs": [
        {
          "output_type": "execute_result",
          "data": {
            "text/plain": [
              "tensor([1, 2, 3, 4])"
            ]
          },
          "metadata": {},
          "execution_count": 37
        }
      ]
    },
    {
      "cell_type": "markdown",
      "metadata": {
        "id": "P1ekqZgJ-ubZ"
      },
      "source": [
        "##Изменение размерности"
      ]
    },
    {
      "cell_type": "code",
      "execution_count": null,
      "metadata": {
        "colab": {
          "base_uri": "https://localhost:8080/"
        },
        "id": "_S2N-Ooz--U4",
        "outputId": "38b94adf-4d2f-43fe-8725-6a09b2d03313"
      },
      "outputs": [
        {
          "output_type": "execute_result",
          "data": {
            "text/plain": [
              "torch.Size([4])"
            ]
          },
          "metadata": {},
          "execution_count": 57
        }
      ],
      "source": [
        "x.shape"
      ]
    },
    {
      "cell_type": "code",
      "source": [
        "x"
      ],
      "metadata": {
        "colab": {
          "base_uri": "https://localhost:8080/"
        },
        "id": "36CUsLbw18lK",
        "outputId": "b38a278e-5a09-42a9-93d5-0dc23365bb6a"
      },
      "execution_count": null,
      "outputs": [
        {
          "output_type": "execute_result",
          "data": {
            "text/plain": [
              "tensor([4, 5, 6, 7])"
            ]
          },
          "metadata": {},
          "execution_count": 73
        }
      ]
    },
    {
      "cell_type": "code",
      "execution_count": null,
      "metadata": {
        "colab": {
          "base_uri": "https://localhost:8080/"
        },
        "id": "a9V1Q_VkdfAb",
        "outputId": "c287c4c1-21e9-48b9-b4ac-769826258b69"
      },
      "outputs": [
        {
          "output_type": "execute_result",
          "data": {
            "text/plain": [
              "tensor([4, 5, 6, 7])"
            ]
          },
          "metadata": {},
          "execution_count": 59
        }
      ],
      "source": [
        "x"
      ]
    },
    {
      "cell_type": "code",
      "execution_count": null,
      "metadata": {
        "colab": {
          "base_uri": "https://localhost:8080/"
        },
        "id": "FKCGpx7K4Q3M",
        "outputId": "1ed950c8-5b89-4491-ab8f-84c65a33f3d3"
      },
      "outputs": [
        {
          "output_type": "execute_result",
          "data": {
            "text/plain": [
              "torch.Size([4, 1])"
            ]
          },
          "metadata": {},
          "execution_count": 60
        }
      ],
      "source": [
        "x.unsqueeze(1).shape"
      ]
    },
    {
      "cell_type": "code",
      "source": [
        "x.unsqueeze(1)"
      ],
      "metadata": {
        "colab": {
          "base_uri": "https://localhost:8080/"
        },
        "id": "t03LMpuh2BhH",
        "outputId": "73aad07e-34b3-4991-ddfd-fc729e3f4049"
      },
      "execution_count": null,
      "outputs": [
        {
          "output_type": "execute_result",
          "data": {
            "text/plain": [
              "tensor([[4],\n",
              "        [5],\n",
              "        [6],\n",
              "        [7]])"
            ]
          },
          "metadata": {},
          "execution_count": 61
        }
      ]
    },
    {
      "cell_type": "code",
      "execution_count": null,
      "metadata": {
        "id": "E8RbICUN_SAA"
      },
      "outputs": [],
      "source": [
        "x.unsqueeze(2)"
      ]
    },
    {
      "cell_type": "code",
      "execution_count": null,
      "metadata": {
        "colab": {
          "base_uri": "https://localhost:8080/"
        },
        "id": "7vxLqg43_EnJ",
        "outputId": "6037ed7e-6ba5-4c8e-ccfe-98134df52f7f"
      },
      "outputs": [
        {
          "output_type": "execute_result",
          "data": {
            "text/plain": [
              "torch.Size([4, 1])"
            ]
          },
          "metadata": {},
          "execution_count": 65
        }
      ],
      "source": [
        "x.unsqueeze(1).shape"
      ]
    },
    {
      "cell_type": "code",
      "execution_count": null,
      "metadata": {
        "colab": {
          "base_uri": "https://localhost:8080/"
        },
        "id": "fLzx2maj_g5j",
        "outputId": "593d82a6-3b28-4f9c-f70c-1e980be7b3f5"
      },
      "outputs": [
        {
          "output_type": "execute_result",
          "data": {
            "text/plain": [
              "tensor([[4],\n",
              "        [5],\n",
              "        [6],\n",
              "        [7]])"
            ]
          },
          "metadata": {},
          "execution_count": 66
        }
      ],
      "source": [
        "x.unsqueeze(1)"
      ]
    },
    {
      "cell_type": "code",
      "execution_count": null,
      "metadata": {
        "id": "71lHapAL_qHP"
      },
      "outputs": [],
      "source": [
        "x.unsqueeze(2).shape"
      ]
    },
    {
      "cell_type": "code",
      "execution_count": null,
      "metadata": {
        "id": "74lxudUz_nDj"
      },
      "outputs": [],
      "source": [
        "x.unsqueeze(2)"
      ]
    },
    {
      "cell_type": "code",
      "execution_count": null,
      "metadata": {
        "id": "fnQKkdTWeeGH"
      },
      "outputs": [],
      "source": [
        "x.unsqueeze(2).unsqueeze(1).squeeze().shape"
      ]
    },
    {
      "cell_type": "code",
      "execution_count": null,
      "metadata": {
        "colab": {
          "base_uri": "https://localhost:8080/"
        },
        "id": "2dws5akLeeKf",
        "outputId": "23319c07-0af0-48b7-a801-2331075fc9dd"
      },
      "outputs": [
        {
          "output_type": "stream",
          "name": "stderr",
          "text": [
            "<ipython-input-69-ce24a95b4786>:1: UserWarning: The use of `x.T` on tensors of dimension other than 2 to reverse their shape is deprecated and it will throw an error in a future release. Consider `x.mT` to transpose batches of matrices or `x.permute(*torch.arange(x.ndim - 1, -1, -1))` to reverse the dimensions of a tensor. (Triggered internally at ../aten/src/ATen/native/TensorShape.cpp:3277.)\n",
            "  x.T\n"
          ]
        },
        {
          "output_type": "execute_result",
          "data": {
            "text/plain": [
              "tensor([4, 5, 6, 7])"
            ]
          },
          "metadata": {},
          "execution_count": 69
        }
      ],
      "source": [
        "x.T"
      ]
    },
    {
      "cell_type": "code",
      "execution_count": null,
      "metadata": {
        "colab": {
          "base_uri": "https://localhost:8080/"
        },
        "id": "YZHER0zWeeQ2",
        "outputId": "88a3a4f5-8501-4dab-adb9-09d10357f4e6"
      },
      "outputs": [
        {
          "output_type": "execute_result",
          "data": {
            "text/plain": [
              "tensor([4, 5, 6, 7])"
            ]
          },
          "metadata": {},
          "execution_count": 74
        }
      ],
      "source": [
        "x"
      ]
    },
    {
      "cell_type": "code",
      "execution_count": null,
      "metadata": {
        "colab": {
          "base_uri": "https://localhost:8080/"
        },
        "id": "rjWEuOiV_EsX",
        "outputId": "6d595f58-b466-403b-fcea-624bd71ad4d0"
      },
      "outputs": [
        {
          "output_type": "execute_result",
          "data": {
            "text/plain": [
              "torch.Size([4])"
            ]
          },
          "metadata": {},
          "execution_count": 75
        }
      ],
      "source": [
        "x.unsqueeze(0).squeeze().shape"
      ]
    },
    {
      "cell_type": "code",
      "source": [
        "x"
      ],
      "metadata": {
        "colab": {
          "base_uri": "https://localhost:8080/"
        },
        "id": "i-0zlCt53dZC",
        "outputId": "6ebb1600-ab3b-481f-f36d-9ad9b731c1de"
      },
      "execution_count": null,
      "outputs": [
        {
          "output_type": "execute_result",
          "data": {
            "text/plain": [
              "tensor([4, 5, 6, 7])"
            ]
          },
          "metadata": {},
          "execution_count": 76
        }
      ]
    },
    {
      "cell_type": "markdown",
      "metadata": {
        "id": "Yj1CLDAD_xRP"
      },
      "source": [
        "##Транспонирование"
      ]
    },
    {
      "cell_type": "code",
      "execution_count": null,
      "metadata": {
        "colab": {
          "base_uri": "https://localhost:8080/"
        },
        "id": "1By4ACrE_9ay",
        "outputId": "2bbf7bbc-ea09-4bb6-dbf7-c8f9ed6acf71"
      },
      "outputs": [
        {
          "output_type": "execute_result",
          "data": {
            "text/plain": [
              "tensor([[12, 12,  8],\n",
              "        [12, 12,  9],\n",
              "        [12, 12,  9],\n",
              "        [12, 12, 11]])"
            ]
          },
          "metadata": {},
          "execution_count": 103
        }
      ],
      "source": [
        "x.T"
      ]
    },
    {
      "cell_type": "code",
      "execution_count": null,
      "metadata": {
        "colab": {
          "base_uri": "https://localhost:8080/"
        },
        "id": "8ZPegFj6_ja9",
        "outputId": "2fadde0b-ed61-4aad-e0b8-883128f4ef94"
      },
      "outputs": [
        {
          "output_type": "execute_result",
          "data": {
            "text/plain": [
              "tensor([[12, 12,  8],\n",
              "        [12, 12,  9],\n",
              "        [12, 12,  9],\n",
              "        [12, 12, 11]])"
            ]
          },
          "metadata": {},
          "execution_count": 104
        }
      ],
      "source": [
        "x.permute(1,0)"
      ]
    },
    {
      "cell_type": "code",
      "execution_count": null,
      "metadata": {
        "id": "KIAJVPG5f606"
      },
      "outputs": [],
      "source": [
        "xx = torch.rand((2,3,4))"
      ]
    },
    {
      "cell_type": "code",
      "execution_count": null,
      "metadata": {
        "colab": {
          "base_uri": "https://localhost:8080/"
        },
        "id": "Plo-kw5agOTF",
        "outputId": "e51623ed-255e-4dd5-b840-98a807ecf081"
      },
      "outputs": [
        {
          "output_type": "execute_result",
          "data": {
            "text/plain": [
              "tensor([[[0.9873, 0.2688, 0.9959, 0.0071],\n",
              "         [0.8408, 0.3180, 0.1624, 0.6729],\n",
              "         [0.2323, 0.9549, 0.5048, 0.0465]],\n",
              "\n",
              "        [[0.7747, 0.7260, 0.8865, 0.3535],\n",
              "         [0.5162, 0.6787, 0.2334, 0.7306],\n",
              "         [0.4223, 0.1720, 0.0504, 0.7198]]])"
            ]
          },
          "metadata": {},
          "execution_count": 81
        }
      ],
      "source": [
        "xx"
      ]
    },
    {
      "cell_type": "code",
      "execution_count": null,
      "metadata": {
        "colab": {
          "base_uri": "https://localhost:8080/"
        },
        "id": "b4QnCAMYf67U",
        "outputId": "8844f8c9-af28-450b-ddf4-cc2ac659b9af"
      },
      "outputs": [
        {
          "output_type": "execute_result",
          "data": {
            "text/plain": [
              "tensor([[[0.9873, 0.7747],\n",
              "         [0.2688, 0.7260],\n",
              "         [0.9959, 0.8865],\n",
              "         [0.0071, 0.3535]],\n",
              "\n",
              "        [[0.8408, 0.5162],\n",
              "         [0.3180, 0.6787],\n",
              "         [0.1624, 0.2334],\n",
              "         [0.6729, 0.7306]],\n",
              "\n",
              "        [[0.2323, 0.4223],\n",
              "         [0.9549, 0.1720],\n",
              "         [0.5048, 0.0504],\n",
              "         [0.0465, 0.7198]]])"
            ]
          },
          "metadata": {},
          "execution_count": 82
        }
      ],
      "source": [
        "xx.permute(1,2,0)"
      ]
    },
    {
      "cell_type": "code",
      "execution_count": null,
      "metadata": {
        "colab": {
          "background_save": true
        },
        "id": "y8FnOdFxgENZ"
      },
      "outputs": [],
      "source": []
    },
    {
      "cell_type": "markdown",
      "metadata": {
        "id": "ugl_OPKE34qc"
      },
      "source": [
        "## Broadcast\n",
        "\n",
        "Выполнять операции можно не только с тензорами одинакового размера, но и разного. Когда их формы различаются, запускается механизм broadcast'а: Сначала элементы копируются соответствующим образом, чтобы два тензора имели одинаковую форму, а затем операции выполняются поэлементно."
      ]
    },
    {
      "cell_type": "code",
      "execution_count": null,
      "metadata": {
        "colab": {
          "base_uri": "https://localhost:8080/"
        },
        "id": "2DMPJepA34qc",
        "scrolled": true,
        "outputId": "fe6c7e13-0cee-4a1e-8809-5cc24bbe5d9d"
      },
      "outputs": [
        {
          "output_type": "execute_result",
          "data": {
            "text/plain": [
              "(tensor([[0],\n",
              "         [1],\n",
              "         [2]]), tensor([[0, 1, 2, 3]]))"
            ]
          },
          "metadata": {},
          "execution_count": 84
        }
      ],
      "source": [
        "a = torch.arange(3).reshape((3, 1))\n",
        "b = torch.arange(4).reshape((1, 4))\n",
        "a, b"
      ]
    },
    {
      "cell_type": "markdown",
      "metadata": {
        "id": "3fsNkk6O34qc"
      },
      "source": [
        "Поскольку a и b являются матрицами (3x1) и (1x2) соответственно, их формы не совпадают. Torch решает эту проблему путем broadcast'а значений обеих матриц в большую (3x2) матрицу следующим образом: для матрицы a он реплицирует столбцы, для матрицы b он реплицирует строки. После чего запускается операция сложения"
      ]
    },
    {
      "cell_type": "code",
      "execution_count": null,
      "metadata": {
        "colab": {
          "base_uri": "https://localhost:8080/"
        },
        "id": "E73QA5hZ34qc",
        "outputId": "afaddab9-5f82-40b9-81b6-4bf153b1c67c"
      },
      "outputs": [
        {
          "output_type": "execute_result",
          "data": {
            "text/plain": [
              "tensor([[0, 1, 2, 3],\n",
              "        [1, 2, 3, 4],\n",
              "        [2, 3, 4, 5]])"
            ]
          },
          "metadata": {},
          "execution_count": 85
        }
      ],
      "source": [
        "a + b"
      ]
    },
    {
      "cell_type": "markdown",
      "metadata": {
        "id": "mGsDt2oI34qc"
      },
      "source": [
        "## Индексирование\n",
        "\n",
        "Как и в любом другом массиве Python, элементы в тензоре могут быть доступны по их индексу. По традиции первый элемент имеет индекс 0, а диапазоны указываются для включения первого, но не последнего элемента. По этой логике `1: 3` выбирает второй и третий элемент из тензора"
      ]
    },
    {
      "cell_type": "code",
      "execution_count": null,
      "metadata": {
        "colab": {
          "base_uri": "https://localhost:8080/"
        },
        "id": "VoIV0zfd34qc",
        "outputId": "2c72e222-b92c-4fab-ffc6-41c5b2cd51ee"
      },
      "outputs": [
        {
          "output_type": "execute_result",
          "data": {
            "text/plain": [
              "tensor([[ 0,  1,  2,  3],\n",
              "        [ 4,  5,  6,  7],\n",
              "        [ 8,  9, 10, 11]])"
            ]
          },
          "metadata": {},
          "execution_count": 89
        }
      ],
      "source": [
        "x"
      ]
    },
    {
      "cell_type": "code",
      "execution_count": null,
      "metadata": {
        "colab": {
          "base_uri": "https://localhost:8080/"
        },
        "id": "exlpsUvO34qc",
        "outputId": "6ab10e84-2eef-4e82-8c33-91f4d0f5c66f"
      },
      "outputs": [
        {
          "output_type": "execute_result",
          "data": {
            "text/plain": [
              "tensor([[ 5,  6],\n",
              "        [ 9, 10]])"
            ]
          },
          "metadata": {},
          "execution_count": 90
        }
      ],
      "source": [
        "x[1:3,1:3]"
      ]
    },
    {
      "cell_type": "markdown",
      "metadata": {
        "id": "jQl5OOWd34qc"
      },
      "source": [
        "Мы так же можем изменять значения в тензоре"
      ]
    },
    {
      "cell_type": "code",
      "execution_count": null,
      "metadata": {
        "colab": {
          "base_uri": "https://localhost:8080/"
        },
        "id": "L5uldJc734qc",
        "outputId": "4fe02a7c-7acc-40d2-9539-0ebe87376f0a"
      },
      "outputs": [
        {
          "output_type": "execute_result",
          "data": {
            "text/plain": [
              "tensor([[ 0,  1,  2,  3],\n",
              "        [ 4,  5,  9,  7],\n",
              "        [ 8,  9,  9, 11]])"
            ]
          },
          "metadata": {},
          "execution_count": 91
        }
      ],
      "source": [
        "x[1:3, 2:3] = 9\n",
        "x"
      ]
    },
    {
      "cell_type": "markdown",
      "metadata": {
        "id": "74LlTvcY34qc"
      },
      "source": [
        "Если мы хотим присвоить нескольким элементам одно и то же значение, мы просто индексируем все из них (при помощи оператора `:`), а затем присваиваем им значение. Например, `[0:2,:]` обращается к первой и второй строчкам."
      ]
    },
    {
      "cell_type": "code",
      "execution_count": null,
      "metadata": {
        "colab": {
          "base_uri": "https://localhost:8080/"
        },
        "id": "vc2sGtyA34qc",
        "outputId": "98a569b0-1132-41d1-b02f-e5a92efd6ba7"
      },
      "outputs": [
        {
          "output_type": "execute_result",
          "data": {
            "text/plain": [
              "tensor([[12, 12, 12, 12],\n",
              "        [12, 12, 12, 12],\n",
              "        [ 8,  9,  9, 11]])"
            ]
          },
          "metadata": {},
          "execution_count": 92
        }
      ],
      "source": [
        "x[0:2, :] = 12\n",
        "x"
      ]
    },
    {
      "cell_type": "markdown",
      "metadata": {
        "id": "hOCnSvL434qc"
      },
      "source": [
        "## В numpy и назад"
      ]
    },
    {
      "cell_type": "code",
      "execution_count": null,
      "metadata": {
        "colab": {
          "base_uri": "https://localhost:8080/"
        },
        "id": "WkOvY9KQ34qc",
        "outputId": "b59761f0-a769-4dc4-ee1f-1779ce86b54c"
      },
      "outputs": [
        {
          "output_type": "execute_result",
          "data": {
            "text/plain": [
              "array([[12, 12, 12, 12],\n",
              "       [12, 12, 12, 12],\n",
              "       [ 8,  9,  9, 11]])"
            ]
          },
          "metadata": {},
          "execution_count": 93
        }
      ],
      "source": [
        "x.numpy()"
      ]
    },
    {
      "cell_type": "code",
      "execution_count": null,
      "metadata": {
        "colab": {
          "base_uri": "https://localhost:8080/"
        },
        "id": "xelGRn4L34qc",
        "outputId": "07e16b3e-a5db-4aee-af2c-dd9aea90b858"
      },
      "outputs": [
        {
          "output_type": "execute_result",
          "data": {
            "text/plain": [
              "tensor([[12, 12, 12, 12],\n",
              "        [12, 12, 12, 12],\n",
              "        [ 8,  9,  9, 11]])"
            ]
          },
          "metadata": {},
          "execution_count": 94
        }
      ],
      "source": [
        "y = torch.tensor(x.numpy())\n",
        "y"
      ]
    },
    {
      "cell_type": "markdown",
      "metadata": {
        "id": "wrBPGmYI34qc"
      },
      "source": [
        "## Немного практики"
      ]
    },
    {
      "cell_type": "markdown",
      "metadata": {
        "id": "Ih_9Za0d34qc"
      },
      "source": [
        "1. Матрица B называется обратной к матрице A, если A*B = I (где I - единичная матрица). Найдите (перебором) обратную к матрице A = ((1,1), (1,2))\n",
        "2. Примениете оператор преобразования A = ((1,2), (3,4)) к квадрату с вершинами в точка (1,1), (1,-1), (-1, -1), (-1, 1) и найдите расстояния между получившимся вершинами"
      ]
    },
    {
      "cell_type": "code",
      "execution_count": null,
      "metadata": {
        "colab": {
          "base_uri": "https://localhost:8080/"
        },
        "id": "6mwzk83_34qd",
        "outputId": "44b7141f-6d78-4e25-ba88-f172569f5a54"
      },
      "outputs": [
        {
          "output_type": "execute_result",
          "data": {
            "text/plain": [
              "tensor([[1, 0],\n",
              "        [0, 1]])"
            ]
          },
          "metadata": {},
          "execution_count": 95
        }
      ],
      "source": [
        "a = torch.tensor([[1,1],[1,2]])\n",
        "b = torch.tensor([[2,-1],[-1,1]])\n",
        "torch.mm(a,b)\n"
      ]
    },
    {
      "cell_type": "code",
      "execution_count": null,
      "metadata": {
        "id": "H6422ppWm9Cg"
      },
      "outputs": [],
      "source": [
        "a = torch.tensor([[1,2],[3,4]])\n",
        "\n",
        "l = [[1,1],[1,-1],[-1,-1],[-1,1]]"
      ]
    },
    {
      "cell_type": "code",
      "execution_count": null,
      "metadata": {
        "colab": {
          "base_uri": "https://localhost:8080/"
        },
        "id": "dGa73yQdnlZu",
        "outputId": "789e2c53-dbdf-4648-fb4b-acc55b0b58d2"
      },
      "outputs": [
        {
          "output_type": "stream",
          "name": "stdout",
          "text": [
            "tensor([3, 7])\n",
            "tensor([-1, -1])\n",
            "tensor([-3, -7])\n",
            "tensor([1, 1])\n"
          ]
        }
      ],
      "source": [
        "for i in l:\n",
        "  t = torch.tensor(i)\n",
        "  print(torch.mv(a,t))\n"
      ]
    },
    {
      "cell_type": "markdown",
      "metadata": {
        "id": "tws2kh1Q34qd"
      },
      "source": [
        "## Вероятности"
      ]
    },
    {
      "cell_type": "code",
      "execution_count": null,
      "metadata": {
        "id": "Zaxu9d6g34qd"
      },
      "outputs": [],
      "source": [
        "# Равномерное распределение вероятности"
      ]
    },
    {
      "cell_type": "code",
      "execution_count": null,
      "metadata": {
        "colab": {
          "base_uri": "https://localhost:8080/"
        },
        "id": "gYjE950K34qd",
        "outputId": "1127ad27-88a3-4edb-d3ea-3e6d3ec40e64"
      },
      "outputs": [
        {
          "output_type": "execute_result",
          "data": {
            "text/plain": [
              "tensor([0.5697, 0.4511, 0.5900, 0.9322, 0.2709, 0.6061, 0.6382, 0.4998, 0.5090,\n",
              "        0.1968])"
            ]
          },
          "metadata": {},
          "execution_count": 99
        }
      ],
      "source": [
        "torch.rand(10)"
      ]
    },
    {
      "cell_type": "code",
      "execution_count": null,
      "metadata": {
        "id": "2IwxOG-P34qd"
      },
      "outputs": [],
      "source": [
        "## Нормальное распределение"
      ]
    },
    {
      "cell_type": "code",
      "execution_count": null,
      "metadata": {
        "colab": {
          "base_uri": "https://localhost:8080/"
        },
        "id": "s-fhgixy34qd",
        "outputId": "caab07c9-6008-463a-cf42-195537196738"
      },
      "outputs": [
        {
          "output_type": "execute_result",
          "data": {
            "text/plain": [
              "tensor([-0.4385,  0.6515, -0.8287, -0.0277, -0.2540, -1.8403,  0.2130, -1.1084,\n",
              "        -0.7155, -2.3286])"
            ]
          },
          "metadata": {},
          "execution_count": 100
        }
      ],
      "source": [
        "torch.randn(10)"
      ]
    },
    {
      "cell_type": "code",
      "execution_count": null,
      "metadata": {
        "id": "2oDMvl9734qd"
      },
      "outputs": [],
      "source": [
        "## Равномерное на целых числах"
      ]
    },
    {
      "cell_type": "code",
      "execution_count": null,
      "metadata": {
        "colab": {
          "base_uri": "https://localhost:8080/"
        },
        "id": "tU-Smdw234qd",
        "outputId": "f99ecb0d-23d3-41f6-b40e-bcaf87aef17a"
      },
      "outputs": [
        {
          "output_type": "execute_result",
          "data": {
            "text/plain": [
              "tensor([8, 2, 0, 2, 2, 4, 2, 9, 9, 6])"
            ]
          },
          "metadata": {},
          "execution_count": 101
        }
      ],
      "source": [
        "torch.randint(0, 10, (10,))"
      ]
    },
    {
      "cell_type": "markdown",
      "metadata": {
        "id": "jBy7JnNt34qd"
      },
      "source": [
        "## Постройте график плотности для нормального распределения"
      ]
    },
    {
      "cell_type": "code",
      "execution_count": null,
      "metadata": {
        "colab": {
          "base_uri": "https://localhost:8080/",
          "height": 265
        },
        "id": "YVf5rJeV34qd",
        "outputId": "027bd58d-fca3-475b-c624-1ee8116bea40"
      },
      "outputs": [
        {
          "output_type": "display_data",
          "data": {
            "text/plain": [
              "<Figure size 432x288 with 1 Axes>"
            ],
            "image/png": "[encoded data removed]"
          },
          "metadata": {
            "needs_background": "light"
          }
        }
      ],
      "source": [
        "from matplotlib import pyplot as plt\n",
        "_ = plt.hist(torch.randn(1000000), bins=1000)"
      ]
    },
    {
      "cell_type": "code",
      "execution_count": null,
      "metadata": {
        "id": "oSK1T9Sg34qd"
      },
      "outputs": [],
      "source": []
    },
    {
      "cell_type": "code",
      "execution_count": null,
      "metadata": {
        "id": "dm7x4iTJ34qd"
      },
      "outputs": [],
      "source": []
    }
  ],
  "metadata": {
    "colab": {
      "provenance": []
    },
    "kernelspec": {
      "display_name": "Python 3",
      "language": "python",
      "name": "python3"
    },
    "language_info": {
      "codemirror_mode": {
        "name": "ipython",
        "version": 3
      },
      "file_extension": ".py",
      "mimetype": "text/x-python",
      "name": "python",
      "nbconvert_exporter": "python",
      "pygments_lexer": "ipython3",
      "version": "3.7.1"
    }
  },
  "nbformat": 4,
  "nbformat_minor": 0
}